{
 "cells": [
  {
   "cell_type": "code",
   "execution_count": null,
   "metadata": {
    "vscode": {
     "languageId": "r"
    }
   },
   "outputs": [],
   "source": [
    "setwd(\"/mnt/lareaulab/reliscu/projects/NSF_GRFP/analyses/pseudobulk_test/tasic_2018/mouse_ALM/data\")\n",
    "\n",
    "library(data.table)\n",
    "\n",
    "source(\"/mnt/lareaulab/reliscu/code/analyzeSyntheticDatasets/makeSyntheticDatasets_0.53.r\")"
   ]
  },
  {
   "cell_type": "markdown",
   "metadata": {},
   "source": [
    "Here I make pseudobulk samples, where each sample contains a mix of cell types"
   ]
  },
  {
   "cell_type": "code",
   "execution_count": 117,
   "metadata": {
    "vscode": {
     "languageId": "r"
    }
   },
   "outputs": [],
   "source": [
    "counts <- fread(\"/mnt/lareaulab/reliscu/projects/NSF_GRFP/data/scRNA-seq/tasic_2018/ALM/tasic_2018_ALM_STAR_gene_counts.csv\", data.table=FALSE)\n",
    "cell_meta <- fread(\"/mnt/lareaulab/reliscu/projects/NSF_GRFP/data/scRNA-seq/tasic_2018/ALM/tasic_2018_ALM_STAR_sampleinfo.csv\", data.table=FALSE)"
   ]
  },
  {
   "cell_type": "code",
   "execution_count": 118,
   "metadata": {
    "vscode": {
     "languageId": "r"
    }
   },
   "outputs": [
    {
     "data": {
      "text/html": [
       "TRUE"
      ],
      "text/latex": [
       "TRUE"
      ],
      "text/markdown": [
       "TRUE"
      ],
      "text/plain": [
       "[1] TRUE"
      ]
     },
     "metadata": {},
     "output_type": "display_data"
    }
   ],
   "source": [
    "all.equal(colnames(counts)[-1], cell_meta$Cell_ID)"
   ]
  },
  {
   "cell_type": "code",
   "execution_count": 119,
   "metadata": {
    "vscode": {
     "languageId": "r"
    }
   },
   "outputs": [
    {
     "data": {
      "text/plain": [
       "\n",
       "        L4       Peri         CR      Meis2        SMC       VLMC   Serpinf1 \n",
       "         3          4         11         11         55         72         78 \n",
       "Macrophage       Endo      Oligo        L6b       Sncg      Astro    L2/3 IT \n",
       "        85         96         98        145        148        215        325 \n",
       "     L6 CT      L5 PT      L6 IT         NP      Pvalb      Lamp5        Sst \n",
       "       350        368        394        542        896        913       1139 \n",
       "       Vip      L5 IT \n",
       "      1224       2401 "
      ]
     },
     "metadata": {},
     "output_type": "display_data"
    }
   ],
   "source": [
    "sort(table(cell_meta$cell_subclass))"
   ]
  },
  {
   "cell_type": "code",
   "execution_count": null,
   "metadata": {
    "vscode": {
     "languageId": "r"
    }
   },
   "outputs": [],
   "source": [
    "cell.name = which(colnames(cell_meta) == \"Cell_ID\")\n",
    "cell.type = which(colnames(cell_meta) == \"cell_subclass\")\n",
    "# kappa <- 25\n",
    "SD=20\n",
    "pcnt.cells <- 20\n",
    "# pcnt.var <- 40\n",
    "\n",
    "cell_frac <- data.frame(table(cell_meta$cell_subclass) / nrow(cell_meta))\n",
    "cell_meta$Freq <- cell_frac$Freq[match(cell_meta$cell_subclass, as.character(cell_frac[,1]))]\n",
    "cell.frac = which(colnames(cell_meta) == \"Freq\")"
   ]
  },
  {
   "cell_type": "code",
   "execution_count": null,
   "metadata": {
    "vscode": {
     "languageId": "r"
    }
   },
   "outputs": [],
   "source": [
    "makeSyntheticDatasets(\n",
    "    expr=counts,\n",
    "    sampleindex=c(2:ncol(counts)),\n",
    "    cell.info=cell_meta,\n",
    "    cell.name=cell.name,\n",
    "    cell.type=cell.type,\n",
    "    cell.frac=cell.frac,\n",
    "    pcnt.cells=pcnt.cells,\n",
    "    SD=SD,\n",
    "    no.samples=200,\n",
    "    no.datasets=1,\n",
    "    with.replacement=TRUE\n",
    ")"
   ]
  },
  {
   "cell_type": "code",
   "execution_count": 121,
   "metadata": {
    "vscode": {
     "languageId": "r"
    }
   },
   "outputs": [],
   "source": [
    "# makeSyntheticDatasets(\n",
    "#     expr=counts,\n",
    "#     sampleindex=c(2:ncol(counts)),\n",
    "#     cell.info=cell_meta,\n",
    "#     cell.name=cell.name,\n",
    "#     cell.type=cell.type,\n",
    "#     cell.frac=cell.frac,\n",
    "#     pcnt.cells=pcnt.cells,\n",
    "#     pcnt.var=pcnt.var,\n",
    "#     no.samples=200,\n",
    "#     no.datasets=1,\n",
    "#     with.replacement=TRUE\n",
    "# )"
   ]
  },
  {
   "cell_type": "code",
   "execution_count": 122,
   "metadata": {
    "vscode": {
     "languageId": "r"
    }
   },
   "outputs": [],
   "source": [
    "# makeSyntheticDatasets(\n",
    "#     expr=counts,\n",
    "#     sampleindex=c(2:ncol(counts)),\n",
    "#     cell.info=cell_meta,\n",
    "#     cell.name=cell.name,\n",
    "#     cell.type=cell.type,\n",
    "#     pcnt.cells=pcnt.cells,\n",
    "#     kappa=kappa,\n",
    "#     no.samples=200,\n",
    "#     no.datasets=1,\n",
    "#     with.replacement=TRUE\n",
    "# )"
   ]
  },
  {
   "cell_type": "code",
   "execution_count": null,
   "metadata": {
    "vscode": {
     "languageId": "r"
    }
   },
   "outputs": [],
   "source": []
  },
  {
   "cell_type": "code",
   "execution_count": null,
   "metadata": {
    "vscode": {
     "languageId": "r"
    }
   },
   "outputs": [],
   "source": []
  },
  {
   "cell_type": "code",
   "execution_count": null,
   "metadata": {
    "vscode": {
     "languageId": "r"
    }
   },
   "outputs": [],
   "source": []
  },
  {
   "cell_type": "code",
   "execution_count": null,
   "metadata": {
    "vscode": {
     "languageId": "r"
    }
   },
   "outputs": [],
   "source": []
  },
  {
   "cell_type": "code",
   "execution_count": 123,
   "metadata": {
    "vscode": {
     "languageId": "r"
    }
   },
   "outputs": [
    {
     "name": "stdout",
     "output_type": "stream",
     "text": [
      "[1] \"Building dataset 1...\"\n"
     ]
    }
   ],
   "source": [
    "# Debugging\n",
    "\n",
    "expr <- counts\n",
    "sampleindex=c(2:ncol(counts))\n",
    "cell.info=cell_meta\n",
    "cell.name=cell.name\n",
    "cell.type=cell.type\n",
    "cell.frac=cell.frac\n",
    "pcnt.cells=20\n",
    "pcnt.var=75\n",
    "no.samples=100\n",
    "no.datasets=1\n",
    "i=1\n",
    "with.replacement=TRUE\n",
    "\n",
    "## Check to ensure rows of cell.info and columns of expr are in same order:\n",
    "if(all.equal(colnames(expr[,sampleindex]),as.character(cell.info[,cell.name]))!=TRUE){\n",
    "    stop(\"Cell names in expr and cell.info do not match!\")\n",
    "}\n",
    "\n",
    "no.cells=round(length(sampleindex)*pcnt.cells*.01)\n",
    "meta=min(sampleindex)-1\n",
    "print(paste(\"Building dataset \",i,\"...\",sep=\"\"))\n",
    "\n",
    "if(is.null(cell.type)){\n",
    "    \n",
    "    dat.legend=matrix(nrow=length(cell.info[,1]),ncol=no.samples+1,data=0)\n",
    "    dat.legend[,1]=as.character(cell.info[,cell.name])\n",
    "    colnames(dat.legend)=c(\"Cell.name\",paste(\"Sample\",c(1:no.samples),sep=\"\"))\n",
    "    leg.meta=1\n",
    "    \n",
    "} else {\n",
    "    \n",
    "    dat.legend=matrix(nrow=length(cell.info[,1]),ncol=no.samples+2,data=0)\n",
    "    dat.legend[,1]=as.character(cell.info[,cell.name])\n",
    "    dat.legend[,2]=as.character(cell.info[,cell.type])\n",
    "    colnames(dat.legend)=c(\"Cell.name\",\"Cell.type\",paste(\"Sample\",c(1:no.samples),sep=\"\"))\n",
    "    leg.meta=2\n",
    "    \n",
    "}\n",
    "\n",
    "dat.synth=matrix(nrow=nrow(expr),ncol=no.samples,data=-88)\n",
    "colnames(dat.synth)=paste(\"Sample\",c(1:no.samples),sep=\"\")\n"
   ]
  },
  {
   "cell_type": "code",
   "execution_count": 169,
   "metadata": {
    "vscode": {
     "languageId": "r"
    }
   },
   "outputs": [],
   "source": [
    "pcnt.var=1"
   ]
  },
  {
   "cell_type": "code",
   "execution_count": 170,
   "metadata": {
    "vscode": {
     "languageId": "r"
    }
   },
   "outputs": [],
   "source": [
    "all.ct=unique(as.character(cell.info[,cell.type]))\n",
    "sample.vec=c()\n",
    "\n",
    "for (ctype in all.ct) {\n",
    "    k <- which(all.ct == ctype)\n",
    "    rest1=is.element(cell.info[,cell.type],all.ct[k])\n",
    "    base.cells=round(no.cells*unique(cell.info[rest1,cell.frac]))\n",
    "\n",
    "    act.cell.range=c(round(base.cells-(base.cells*pcnt.var*.01)):round(base.cells+(base.cells*pcnt.var*.01)))\n",
    "    n_sampled <- c()\n",
    "    for (j in 1:no.samples) {\n",
    "        act.cells=sample(act.cell.range[act.cell.range>=0 & act.cell.range<length(sampleindex)],1)\n",
    "        n_sampled=c(n_sampled, act.cells)\n",
    "    }\n",
    "    sample.vec <- c(sample.vec, sd(n_sampled))\n",
    "}"
   ]
  },
  {
   "cell_type": "code",
   "execution_count": 171,
   "metadata": {
    "vscode": {
     "languageId": "r"
    }
   },
   "outputs": [
    {
     "data": {
      "image/png": "[encoded data removed]",
      "text/plain": [
       "plot without title"
      ]
     },
     "metadata": {
      "image/png": {
       "height": 420,
       "width": 420
      }
     },
     "output_type": "display_data"
    }
   ],
   "source": [
    "library(dplyr)\n",
    "\n",
    "df1 <- data.frame(Var1=all.ct, SD=sample.vec)\n",
    "df2 <- as.data.frame(table(cell_meta$cell_subclass))\n",
    "df <- merge(df1, df2, by=\"Var1\")\n",
    "plot(df$Freq, df$SD)"
   ]
  },
  {
   "cell_type": "code",
   "execution_count": 178,
   "metadata": {
    "vscode": {
     "languageId": "r"
    }
   },
   "outputs": [],
   "source": [
    "all.ct=unique(as.character(cell.info[,cell.type]))\n",
    "sample.vec=c()\n",
    "\n",
    "for (ctype in all.ct) {\n",
    "    k <- which(all.ct == ctype)\n",
    "    rest1=is.element(cell.info[,cell.type],all.ct[k])\n",
    "    base.cells=round(no.cells*unique(cell.info[rest1,cell.frac]))\n",
    "    if (base.cells < 40) {\n",
    "        base.cells <- base.cells + 40\n",
    "    }\n",
    "    ctype_frac=sum(rest1)/length(rest1)\n",
    "    ctype_pcnt.var=sqrt(100/ctype_frac)\n",
    "\n",
    "    act.cell.range=c(round(base.cells-ceiling(base.cells*ctype_pcnt.var*.01)):round(base.cells+ceiling(base.cells*ctype_pcnt.var*.01)))\n",
    "    n_sampled <- c()\n",
    "    for (j in 1:no.samples) {\n",
    "        act.cells=sample(act.cell.range[act.cell.range>=0 & act.cell.range<length(sampleindex)],1)\n",
    "        n_sampled=c(n_sampled, act.cells)\n",
    "    }\n",
    "    sample.vec <- c(sample.vec, sd(n_sampled))\n",
    "\n",
    "}"
   ]
  },
  {
   "cell_type": "code",
   "execution_count": 179,
   "metadata": {
    "vscode": {
     "languageId": "r"
    }
   },
   "outputs": [
    {
     "data": {
      "image/png": "[encoded data removed]",
      "text/plain": [
       "plot without title"
      ]
     },
     "metadata": {
      "image/png": {
       "height": 420,
       "width": 420
      }
     },
     "output_type": "display_data"
    }
   ],
   "source": [
    "library(dplyr)\n",
    "\n",
    "df1 <- data.frame(Var1=all.ct, SD=sample.vec)\n",
    "df2 <- as.data.frame(table(cell_meta$cell_subclass))\n",
    "df <- merge(df1, df2, by=\"Var1\")\n",
    "plot(df$Freq, df$SD)"
   ]
  },
  {
   "cell_type": "code",
   "execution_count": null,
   "metadata": {
    "vscode": {
     "languageId": "r"
    }
   },
   "outputs": [],
   "source": []
  },
  {
   "cell_type": "code",
   "execution_count": 186,
   "metadata": {
    "vscode": {
     "languageId": "r"
    }
   },
   "outputs": [
    {
     "name": "stdout",
     "output_type": "stream",
     "text": [
      "[1] 65\n",
      "[1] 13.47161\n",
      "\n",
      "[1] 79\n",
      "[1] 99.31963\n",
      "\n",
      "[1] 74\n",
      "[1] 2.148705\n",
      "\n",
      "[1] 70\n",
      "[1] 80.93742\n",
      "\n",
      "[1] 480\n",
      "[1] 457.0255\n",
      "\n",
      "[1] 183\n",
      "[1] 177.2329\n",
      "\n",
      "[1] 228\n",
      "[1] 250.5354\n",
      "\n",
      "[1] 108\n",
      "[1] 117.7227\n",
      "\n",
      "[1] 245\n",
      "[1] 215.7059\n",
      "\n",
      "[1] 179\n",
      "[1] 156.1321\n",
      "\n",
      "[1] 43\n",
      "[1] 60.56102\n",
      "\n",
      "[1] 16\n",
      "[1] 9.678442\n",
      "\n",
      "[1] 2\n",
      "[1] 30.15816\n",
      "\n",
      "[1] 19\n",
      "[1] 8.647374\n",
      "\n",
      "[1] 14\n",
      "[1] 1\n",
      "\n",
      "[1] 29\n",
      "[1] 31.22789\n",
      "\n",
      "[1] 11\n",
      "[1] 38.15167\n",
      "\n",
      "[1] 20\n",
      "[1] 1\n",
      "\n",
      "[1] 17\n",
      "[1] 8.946243\n",
      "\n",
      "[1] 30\n",
      "[1] 79.09107\n",
      "\n",
      "[1] 2\n",
      "[1] 1\n",
      "\n",
      "[1] 1\n",
      "[1] 25.39977\n",
      "\n",
      "[1] 1\n",
      "[1] 17.39904\n",
      "\n"
     ]
    }
   ],
   "source": [
    "all.ct=unique(as.character(cell.info[,cell.type]))\n",
    "sample.vec=c()\n",
    "\n",
    "SD=30\n",
    "\n",
    "for (ctype in all.ct) {\n",
    "    k <- which(all.ct == ctype)\n",
    "    rest1=is.element(cell.info[,cell.type],all.ct[k])\n",
    "    base.cells=round(no.cells*unique(cell.info[rest1,cell.frac]))\n",
    "    # if (SD>base.cells) {\n",
    "    #    base.cells=base.cells+SD \n",
    "    # }\n",
    "    act.cells=max(rnorm(n=1, sd=30, mean=base.cells), 1)\n",
    "    print(base.cells)\n",
    "    print(act.cells)\n",
    "    cat(\"\\n\")\n",
    "    sample.vec=c(sample.vec, sd(samples))\n",
    "}"
   ]
  },
  {
   "cell_type": "code",
   "execution_count": null,
   "metadata": {
    "vscode": {
     "languageId": "r"
    }
   },
   "outputs": [
    {
     "data": {
      "image/png": "[encoded data removed]",
      "text/plain": [
       "plot without title"
      ]
     },
     "metadata": {
      "image/png": {
       "height": 420,
       "width": 420
      }
     },
     "output_type": "display_data"
    }
   ],
   "source": [
    "library(dplyr)\n",
    "\n",
    "df1 <- data.frame(Var1=all.ct, SD=sample.vec)\n",
    "df2 <- as.data.frame(table(cell_meta$cell_subclass))\n",
    "df <- merge(df1, df2, by=\"Var1\")\n",
    "plot(df$Freq, df$SD)"
   ]
  },
  {
   "cell_type": "code",
   "execution_count": null,
   "metadata": {
    "vscode": {
     "languageId": "r"
    }
   },
   "outputs": [],
   "source": []
  },
  {
   "cell_type": "code",
   "execution_count": null,
   "metadata": {
    "vscode": {
     "languageId": "r"
    }
   },
   "outputs": [],
   "source": []
  },
  {
   "cell_type": "code",
   "execution_count": 127,
   "metadata": {
    "vscode": {
     "languageId": "r"
    }
   },
   "outputs": [],
   "source": [
    "all.ct=unique(as.character(cell.info[,cell.type]))\n",
    "sample.vec=c()\n",
    "\n",
    "for (ctype in all.ct) {\n",
    "    k <- which(all.ct == ctype)\n",
    "    rest1=is.element(cell.info[,cell.type],all.ct[k])\n",
    "    base.cells=round(no.cells*unique(cell.info[rest1,cell.frac]))\n",
    "    # print(paste(\"base.cells:\", base.cells))\n",
    "\n",
    "    act.cell.range=c(round(base.cells-ceiling(base.cells*pcnt.var*.01)):round(base.cells+ceiling(base.cells*pcnt.var*.01)))\n",
    "    # print(paste(\"act.cell.range:\", min(act.cell.range), \"to\", max(act.cell.range)))\n",
    "\n",
    "    n_sampled <- c()\n",
    "    for (j in 1:no.samples) {\n",
    "        act.cells=sample(act.cell.range[act.cell.range>=0 & act.cell.range<length(sampleindex)],1)\n",
    "        n_sampled=c(n_sampled, act.cells)\n",
    "    }\n",
    "    sample.vec <- c(sample.vec, sd(n_sampled))\n",
    "\n",
    "}"
   ]
  },
  {
   "cell_type": "code",
   "execution_count": 128,
   "metadata": {
    "vscode": {
     "languageId": "r"
    }
   },
   "outputs": [
    {
     "data": {
      "image/png": "[encoded data removed]",
      "text/plain": [
       "plot without title"
      ]
     },
     "metadata": {
      "image/png": {
       "height": 420,
       "width": 420
      }
     },
     "output_type": "display_data"
    }
   ],
   "source": [
    "df1 <- data.frame(Var1=all.ct, SD=sample.vec)\n",
    "df2 <- as.data.frame(table(cell_meta$cell_subclass))\n",
    "\n",
    "df <- merge(df1, df2, by=\"Var1\")\n",
    "plot(df$Freq, df$SD)"
   ]
  },
  {
   "cell_type": "code",
   "execution_count": null,
   "metadata": {
    "vscode": {
     "languageId": "r"
    }
   },
   "outputs": [],
   "source": []
  }
 ],
 "metadata": {
  "kernelspec": {
   "display_name": "R",
   "language": "R",
   "name": "ir"
  },
  "language_info": {
   "codemirror_mode": "r",
   "file_extension": ".r",
   "mimetype": "text/x-r-source",
   "name": "R",
   "pygments_lexer": "r",
   "version": "4.3.3"
  }
 },
 "nbformat": 4,
 "nbformat_minor": 2
}
