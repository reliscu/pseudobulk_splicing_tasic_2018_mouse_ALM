{
 "cells": [
  {
   "cell_type": "code",
   "execution_count": null,
   "metadata": {
    "vscode": {
     "languageId": "r"
    }
   },
   "outputs": [
    {
     "name": "stderr",
     "output_type": "stream",
     "text": [
      "Loading required package: coda\n",
      "\n",
      "Loading required package: MASS\n",
      "\n",
      "##\n",
      "## Markov Chain Monte Carlo Package (MCMCpack)\n",
      "\n",
      "## Copyright (C) 2003-2025 Andrew D. Martin, Kevin M. Quinn, and Jong Hee Park\n",
      "\n",
      "##\n",
      "## Support provided by the U.S. National Science Foundation\n",
      "\n",
      "## (Grants SES-0350646 and SES-0350613)\n",
      "##\n",
      "\n"
     ]
    }
   ],
   "source": [
    "setwd(\"/mnt/lareaulab/reliscu/projects/NSF_GRFP/analyses/pseudobulk_test/tasic_2018/mouse_ALM/data\")\n",
    "\n",
    "library(data.table)\n",
    "\n",
    "source(\"/mnt/lareaulab/reliscu/code/analyzeSyntheticDatasets/makeSyntheticDatasets_0.51.1.r\")"
   ]
  },
  {
   "cell_type": "markdown",
   "metadata": {},
   "source": [
    "Here I make pseudobulk samples, where each sample contains a mix of cell types"
   ]
  },
  {
   "cell_type": "code",
   "execution_count": 2,
   "metadata": {
    "vscode": {
     "languageId": "r"
    }
   },
   "outputs": [],
   "source": [
    "counts <- fread(\"/mnt/lareaulab/reliscu/projects/NSF_GRFP/data/scRNA-seq/tasic_2018/ALM/tasic_2018_ALM_STAR_gene_counts.csv\", data.table=FALSE)\n",
    "cell_meta <- fread(\"/mnt/lareaulab/reliscu/projects/NSF_GRFP/data/scRNA-seq/tasic_2018/ALM/tasic_2018_ALM_STAR_sampleinfo.csv\", data.table=FALSE)"
   ]
  },
  {
   "cell_type": "code",
   "execution_count": 3,
   "metadata": {
    "vscode": {
     "languageId": "r"
    }
   },
   "outputs": [
    {
     "data": {
      "text/html": [
       "TRUE"
      ],
      "text/latex": [
       "TRUE"
      ],
      "text/markdown": [
       "TRUE"
      ],
      "text/plain": [
       "[1] TRUE"
      ]
     },
     "metadata": {},
     "output_type": "display_data"
    }
   ],
   "source": [
    "all.equal(colnames(counts)[-1], cell_meta$Cell_ID)"
   ]
  },
  {
   "cell_type": "code",
   "execution_count": 4,
   "metadata": {
    "vscode": {
     "languageId": "r"
    }
   },
   "outputs": [
    {
     "data": {
      "text/plain": [
       "\n",
       "        L4       Peri         CR      Meis2        SMC       VLMC   Serpinf1 \n",
       "         3          4         11         11         55         72         78 \n",
       "Macrophage       Endo      Oligo        L6b       Sncg      Astro    L2/3 IT \n",
       "        85         96         98        145        148        215        325 \n",
       "     L6 CT      L5 PT      L6 IT         NP      Pvalb      Lamp5        Sst \n",
       "       350        368        394        542        896        913       1139 \n",
       "       Vip      L5 IT \n",
       "      1224       2401 "
      ]
     },
     "metadata": {},
     "output_type": "display_data"
    }
   ],
   "source": [
    "sort(table(cell_meta$cell_subclass))"
   ]
  },
  {
   "cell_type": "code",
   "execution_count": null,
   "metadata": {
    "vscode": {
     "languageId": "r"
    }
   },
   "outputs": [],
   "source": [
    "cell.name = which(colnames(cell_meta) == \"Cell_ID\")\n",
    "cell.type = which(colnames(cell_meta) == \"cell_subclass\")\n",
    "# kappa <- 25\n",
    "pcnt.cells <- 20\n",
    "pcnt.var <- 40\n",
    "\n",
    "cell_frac <- data.frame(table(cell_meta$cell_subclass) / nrow(cell_meta))\n",
    "cell_meta$Freq <- cell_frac$Freq[match(cell_meta$cell_subclass, as.character(cell_frac[,1]))]\n",
    "cell.frac = which(colnames(cell_meta) == \"Freq\")"
   ]
  },
  {
   "cell_type": "code",
   "execution_count": null,
   "metadata": {
    "vscode": {
     "languageId": "r"
    }
   },
   "outputs": [],
   "source": [
    "makeSyntheticDatasets(\n",
    "    expr=counts,\n",
    "    sampleindex=c(2:ncol(counts)),\n",
    "    cell.info=cell_meta,\n",
    "    cell.name=cell.name,\n",
    "    cell.type=cell.type,\n",
    "    cell.frac=cell.frac,\n",
    "    pcnt.cells=pcnt.cells,\n",
    "    pcnt.var=pcnt.var,\n",
    "    no.samples=200,\n",
    "    no.datasets=1,\n",
    "    with.replacement=TRUE\n",
    ")"
   ]
  },
  {
   "cell_type": "code",
   "execution_count": null,
   "metadata": {
    "vscode": {
     "languageId": "r"
    }
   },
   "outputs": [],
   "source": []
  },
  {
   "cell_type": "code",
   "execution_count": null,
   "metadata": {
    "vscode": {
     "languageId": "r"
    }
   },
   "outputs": [],
   "source": [
    "# makeSyntheticDatasets(\n",
    "#     expr=counts,\n",
    "#     sampleindex=c(2:ncol(counts)),\n",
    "#     cell.info=cell_meta,\n",
    "#     cell.name=cell.name,\n",
    "#     cell.type=cell.type,\n",
    "#     pcnt.cells=pcnt.cells,\n",
    "#     kappa=kappa,\n",
    "#     no.samples=200,\n",
    "#     no.datasets=1,\n",
    "#     with.replacement=TRUE\n",
    "# )"
   ]
  },
  {
   "cell_type": "code",
   "execution_count": null,
   "metadata": {
    "vscode": {
     "languageId": "r"
    }
   },
   "outputs": [],
   "source": []
  },
  {
   "cell_type": "code",
   "execution_count": null,
   "metadata": {
    "vscode": {
     "languageId": "r"
    }
   },
   "outputs": [],
   "source": []
  },
  {
   "cell_type": "code",
   "execution_count": null,
   "metadata": {
    "vscode": {
     "languageId": "r"
    }
   },
   "outputs": [],
   "source": []
  },
  {
   "cell_type": "code",
   "execution_count": null,
   "metadata": {
    "vscode": {
     "languageId": "r"
    }
   },
   "outputs": [],
   "source": []
  },
  {
   "cell_type": "code",
   "execution_count": null,
   "metadata": {
    "vscode": {
     "languageId": "r"
    }
   },
   "outputs": [],
   "source": []
  },
  {
   "cell_type": "code",
   "execution_count": null,
   "metadata": {
    "vscode": {
     "languageId": "r"
    }
   },
   "outputs": [
    {
     "name": "stdout",
     "output_type": "stream",
     "text": [
      "[1] \"Building dataset 1...\"\n"
     ]
    }
   ],
   "source": [
    "# # Debugging\n",
    "\n",
    "# expr <- counts\n",
    "# sampleindex=c(2:ncol(counts))\n",
    "# cell.info=cell_meta\n",
    "# cell.name=cell.name\n",
    "# cell.type=cell.type\n",
    "# cell.frac=cell.frac\n",
    "# pcnt.cells=20\n",
    "# pcnt.var=75\n",
    "# no.samples=100\n",
    "# no.datasets=1\n",
    "# i=1\n",
    "# with.replacement=TRUE\n",
    "\n",
    "# ## Check to ensure rows of cell.info and columns of expr are in same order:\n",
    "# if(all.equal(colnames(expr[,sampleindex]),as.character(cell.info[,cell.name]))!=TRUE){\n",
    "#     stop(\"Cell names in expr and cell.info do not match!\")\n",
    "# }\n",
    "\n",
    "# no.cells=round(length(sampleindex)*pcnt.cells*.01)\n",
    "# meta=min(sampleindex)-1\n",
    "# print(paste(\"Building dataset \",i,\"...\",sep=\"\"))\n",
    "\n",
    "# if(is.null(cell.type)){\n",
    "    \n",
    "#     dat.legend=matrix(nrow=length(cell.info[,1]),ncol=no.samples+1,data=0)\n",
    "#     dat.legend[,1]=as.character(cell.info[,cell.name])\n",
    "#     colnames(dat.legend)=c(\"Cell.name\",paste(\"Sample\",c(1:no.samples),sep=\"\"))\n",
    "#     leg.meta=1\n",
    "    \n",
    "# } else {\n",
    "    \n",
    "#     dat.legend=matrix(nrow=length(cell.info[,1]),ncol=no.samples+2,data=0)\n",
    "#     dat.legend[,1]=as.character(cell.info[,cell.name])\n",
    "#     dat.legend[,2]=as.character(cell.info[,cell.type])\n",
    "#     colnames(dat.legend)=c(\"Cell.name\",\"Cell.type\",paste(\"Sample\",c(1:no.samples),sep=\"\"))\n",
    "#     leg.meta=2\n",
    "    \n",
    "# }\n",
    "\n",
    "# dat.synth=matrix(nrow=nrow(expr),ncol=no.samples,data=-88)\n",
    "# colnames(dat.synth)=paste(\"Sample\",c(1:no.samples),sep=\"\")\n"
   ]
  },
  {
   "cell_type": "code",
   "execution_count": null,
   "metadata": {
    "vscode": {
     "languageId": "r"
    }
   },
   "outputs": [],
   "source": [
    "# all.ct=unique(as.character(cell.info[,cell.type]))\n",
    "# sample.vec=c()\n",
    "\n",
    "# for (ctype in all.ct) {\n",
    "#     k <- which(all.ct == ctype)\n",
    "#     rest1=is.element(cell.info[,cell.type],all.ct[k])\n",
    "#     base.cells=round(no.cells*unique(cell.info[rest1,cell.frac]))\n",
    "#     # print(paste(\"base.cells:\", base.cells))\n",
    "\n",
    "#     act.cell.range=c(round(base.cells-ceiling(base.cells*pcnt.var*.01)):round(base.cells+ceiling(base.cells*pcnt.var*.01)))\n",
    "#     # print(paste(\"act.cell.range:\", min(act.cell.range), \"to\", max(act.cell.range)))\n",
    "\n",
    "#     n_sampled <- c()\n",
    "#     for (j in 1:no.samples) {\n",
    "#         act.cells=sample(act.cell.range[act.cell.range>=0 & act.cell.range<length(sampleindex)],1)\n",
    "#         n_sampled=c(n_sampled, act.cells)\n",
    "#     }\n",
    "#     sample.vec <- c(sample.vec, sd(n_sampled))\n",
    "\n",
    "# }\n"
   ]
  },
  {
   "cell_type": "code",
   "execution_count": null,
   "metadata": {
    "vscode": {
     "languageId": "r"
    }
   },
   "outputs": [
    {
     "data": {
      "text/html": [
       "<table class=\"dataframe\">\n",
       "<caption>A data.frame: 23 × 3</caption>\n",
       "<thead>\n",
       "\t<tr><th scope=col>Var1</th><th scope=col>SD</th><th scope=col>Freq</th></tr>\n",
       "\t<tr><th scope=col>&lt;chr&gt;</th><th scope=col>&lt;dbl&gt;</th><th scope=col>&lt;int&gt;</th></tr>\n",
       "</thead>\n",
       "<tbody>\n",
       "\t<tr><td>L4        </td><td>  0.7654140</td><td>   3</td></tr>\n",
       "\t<tr><td>Peri      </td><td>  0.8518548</td><td>   4</td></tr>\n",
       "\t<tr><td>CR        </td><td>  1.3631514</td><td>  11</td></tr>\n",
       "\t<tr><td>Meis2     </td><td>  1.4207695</td><td>  11</td></tr>\n",
       "\t<tr><td>SMC       </td><td>  5.6958163</td><td>  55</td></tr>\n",
       "\t<tr><td>VLMC      </td><td>  6.0581275</td><td>  72</td></tr>\n",
       "\t<tr><td>Serpinf1  </td><td>  7.2974328</td><td>  78</td></tr>\n",
       "\t<tr><td>Macrophage</td><td>  7.2581824</td><td>  85</td></tr>\n",
       "\t<tr><td>Endo      </td><td>  9.4660478</td><td>  96</td></tr>\n",
       "\t<tr><td>Oligo     </td><td>  8.7594105</td><td>  98</td></tr>\n",
       "\t<tr><td>L6b       </td><td> 12.3909547</td><td> 145</td></tr>\n",
       "\t<tr><td>Sncg      </td><td> 12.7905386</td><td> 148</td></tr>\n",
       "\t<tr><td>Astro     </td><td> 18.6099653</td><td> 215</td></tr>\n",
       "\t<tr><td>L2/3 IT   </td><td> 26.9280298</td><td> 325</td></tr>\n",
       "\t<tr><td>L6 CT     </td><td> 30.1680746</td><td> 350</td></tr>\n",
       "\t<tr><td>L5 PT     </td><td> 33.2911415</td><td> 368</td></tr>\n",
       "\t<tr><td>L6 IT     </td><td> 36.1937254</td><td> 394</td></tr>\n",
       "\t<tr><td>NP        </td><td> 47.6759633</td><td> 542</td></tr>\n",
       "\t<tr><td>Pvalb     </td><td> 80.6273157</td><td> 896</td></tr>\n",
       "\t<tr><td>Lamp5     </td><td> 76.4418733</td><td> 913</td></tr>\n",
       "\t<tr><td>Sst       </td><td> 98.6165162</td><td>1139</td></tr>\n",
       "\t<tr><td>Vip       </td><td>110.9203969</td><td>1224</td></tr>\n",
       "\t<tr><td>L5 IT     </td><td>209.4952710</td><td>2401</td></tr>\n",
       "</tbody>\n",
       "</table>\n"
      ],
      "text/latex": [
       "A data.frame: 23 × 3\n",
       "\\begin{tabular}{lll}\n",
       " Var1 & SD & Freq\\\\\n",
       " <chr> & <dbl> & <int>\\\\\n",
       "\\hline\n",
       "\t L4         &   0.7654140 &    3\\\\\n",
       "\t Peri       &   0.8518548 &    4\\\\\n",
       "\t CR         &   1.3631514 &   11\\\\\n",
       "\t Meis2      &   1.4207695 &   11\\\\\n",
       "\t SMC        &   5.6958163 &   55\\\\\n",
       "\t VLMC       &   6.0581275 &   72\\\\\n",
       "\t Serpinf1   &   7.2974328 &   78\\\\\n",
       "\t Macrophage &   7.2581824 &   85\\\\\n",
       "\t Endo       &   9.4660478 &   96\\\\\n",
       "\t Oligo      &   8.7594105 &   98\\\\\n",
       "\t L6b        &  12.3909547 &  145\\\\\n",
       "\t Sncg       &  12.7905386 &  148\\\\\n",
       "\t Astro      &  18.6099653 &  215\\\\\n",
       "\t L2/3 IT    &  26.9280298 &  325\\\\\n",
       "\t L6 CT      &  30.1680746 &  350\\\\\n",
       "\t L5 PT      &  33.2911415 &  368\\\\\n",
       "\t L6 IT      &  36.1937254 &  394\\\\\n",
       "\t NP         &  47.6759633 &  542\\\\\n",
       "\t Pvalb      &  80.6273157 &  896\\\\\n",
       "\t Lamp5      &  76.4418733 &  913\\\\\n",
       "\t Sst        &  98.6165162 & 1139\\\\\n",
       "\t Vip        & 110.9203969 & 1224\\\\\n",
       "\t L5 IT      & 209.4952710 & 2401\\\\\n",
       "\\end{tabular}\n"
      ],
      "text/markdown": [
       "\n",
       "A data.frame: 23 × 3\n",
       "\n",
       "| Var1 &lt;chr&gt; | SD &lt;dbl&gt; | Freq &lt;int&gt; |\n",
       "|---|---|---|\n",
       "| L4         |   0.7654140 |    3 |\n",
       "| Peri       |   0.8518548 |    4 |\n",
       "| CR         |   1.3631514 |   11 |\n",
       "| Meis2      |   1.4207695 |   11 |\n",
       "| SMC        |   5.6958163 |   55 |\n",
       "| VLMC       |   6.0581275 |   72 |\n",
       "| Serpinf1   |   7.2974328 |   78 |\n",
       "| Macrophage |   7.2581824 |   85 |\n",
       "| Endo       |   9.4660478 |   96 |\n",
       "| Oligo      |   8.7594105 |   98 |\n",
       "| L6b        |  12.3909547 |  145 |\n",
       "| Sncg       |  12.7905386 |  148 |\n",
       "| Astro      |  18.6099653 |  215 |\n",
       "| L2/3 IT    |  26.9280298 |  325 |\n",
       "| L6 CT      |  30.1680746 |  350 |\n",
       "| L5 PT      |  33.2911415 |  368 |\n",
       "| L6 IT      |  36.1937254 |  394 |\n",
       "| NP         |  47.6759633 |  542 |\n",
       "| Pvalb      |  80.6273157 |  896 |\n",
       "| Lamp5      |  76.4418733 |  913 |\n",
       "| Sst        |  98.6165162 | 1139 |\n",
       "| Vip        | 110.9203969 | 1224 |\n",
       "| L5 IT      | 209.4952710 | 2401 |\n",
       "\n"
      ],
      "text/plain": [
       "   Var1       SD          Freq\n",
       "1  L4           0.7654140    3\n",
       "2  Peri         0.8518548    4\n",
       "3  CR           1.3631514   11\n",
       "4  Meis2        1.4207695   11\n",
       "5  SMC          5.6958163   55\n",
       "6  VLMC         6.0581275   72\n",
       "7  Serpinf1     7.2974328   78\n",
       "8  Macrophage   7.2581824   85\n",
       "9  Endo         9.4660478   96\n",
       "10 Oligo        8.7594105   98\n",
       "11 L6b         12.3909547  145\n",
       "12 Sncg        12.7905386  148\n",
       "13 Astro       18.6099653  215\n",
       "14 L2/3 IT     26.9280298  325\n",
       "15 L6 CT       30.1680746  350\n",
       "16 L5 PT       33.2911415  368\n",
       "17 L6 IT       36.1937254  394\n",
       "18 NP          47.6759633  542\n",
       "19 Pvalb       80.6273157  896\n",
       "20 Lamp5       76.4418733  913\n",
       "21 Sst         98.6165162 1139\n",
       "22 Vip        110.9203969 1224\n",
       "23 L5 IT      209.4952710 2401"
      ]
     },
     "metadata": {},
     "output_type": "display_data"
    }
   ],
   "source": [
    "# library(dplyr)\n",
    "\n",
    "# df1 <- data.frame(Var1=all.ct, SD=sample.vec)\n",
    "# df2 <- as.data.frame(table(cell_meta$cell_subclass))\n",
    "\n",
    "# df <- merge(df1, df2, by=\"Var1\") %>%\n",
    "#     arrange(Freq)\n",
    "# df"
   ]
  },
  {
   "cell_type": "code",
   "execution_count": null,
   "metadata": {
    "vscode": {
     "languageId": "r"
    }
   },
   "outputs": [
    {
     "data": {
      "image/png": "[encoded data removed]",
      "text/plain": [
       "plot without title"
      ]
     },
     "metadata": {
      "image/png": {
       "height": 420,
       "width": 420
      }
     },
     "output_type": "display_data"
    }
   ],
   "source": [
    "# plot(df$Freq, df$SD)"
   ]
  },
  {
   "cell_type": "code",
   "execution_count": null,
   "metadata": {
    "vscode": {
     "languageId": "r"
    }
   },
   "outputs": [],
   "source": [
    "# library(MCMCpack)\n",
    "\n",
    "# prop_baseline <- table(cell.info[,cell.type]) / nrow(cell_meta)\n",
    "\n",
    "# for (j in 1:no.samples) {\n",
    "#     set.seed(j)\n",
    "    \n",
    "#     p <- as.numeric(rdirichlet(1, kappa * prop_baseline)) # Target proportion of each cell type; wiggle around baseline proportions is determined by `kappa`\n",
    "#     p <- p/sum(p)\n",
    "#     names(p) <- names(prop_baseline)\n",
    "\n",
    "#     type_vec <- cell_meta[,cell.type]\n",
    "#     tab <- table(type_vec)\n",
    "#     w_type <- p[names(tab)] # Sampling weight for each cell based on cell type probabilities\n",
    "#     per_cell_prob <- w_type[type_vec] / as.numeric(tab[type_vec]) # Convert sampling weights into probabilities \n",
    "#     cell_idx <- sample(seq_along(type_vec), size=no.cells, replace=with.replacement, prob=per_cell_prob)\n",
    "\n",
    "#     dat.synth[,j] <- apply(as.data.frame(expr[,cell_idx + meta]), 1, sum, na.rm=T)\n",
    "#     dat.legend[cell_idx, j + leg.meta] <- 1\n",
    "# }\n"
   ]
  }
 ],
 "metadata": {
  "kernelspec": {
   "display_name": "R",
   "language": "R",
   "name": "ir"
  },
  "language_info": {
   "codemirror_mode": "r",
   "file_extension": ".r",
   "mimetype": "text/x-r-source",
   "name": "R",
   "pygments_lexer": "r",
   "version": "4.3.3"
  }
 },
 "nbformat": 4,
 "nbformat_minor": 2
}
