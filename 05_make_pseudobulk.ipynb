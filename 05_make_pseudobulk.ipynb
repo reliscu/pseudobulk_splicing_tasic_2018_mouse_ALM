{
 "cells": [
  {
   "cell_type": "code",
   "execution_count": 1,
   "metadata": {
    "vscode": {
     "languageId": "r"
    }
   },
   "outputs": [],
   "source": [
    "setwd(\"/mnt/lareaulab/reliscu/projects/NSF_GRFP/analyses/pseudobulk_test/tasic_2018/mouse_ALM/data\")\n",
    "\n",
    "library(data.table)\n",
    "\n",
    "source(\"/mnt/lareaulab/reliscu/code/analyzeSyntheticDatasets/makeSyntheticDatasets_0.51.r\")"
   ]
  },
  {
   "cell_type": "markdown",
   "metadata": {},
   "source": [
    "Here I make pseudobulk samples, where each sample contains a mix of cell types"
   ]
  },
  {
   "cell_type": "code",
   "execution_count": 2,
   "metadata": {
    "vscode": {
     "languageId": "r"
    }
   },
   "outputs": [],
   "source": [
    "counts <- fread(\"/mnt/lareaulab/reliscu/projects/NSF_GRFP/data/scRNA-seq/tasic_2018/ALM/tasic_2018_ALM_STAR_gene_counts.csv\", data.table=FALSE)\n",
    "cell_meta <- fread(\"/mnt/lareaulab/reliscu/projects/NSF_GRFP/data/scRNA-seq/tasic_2018/ALM/tasic_2018_ALM_STAR_sampleinfo.csv\", data.table=FALSE)"
   ]
  },
  {
   "cell_type": "code",
   "execution_count": 5,
   "metadata": {
    "vscode": {
     "languageId": "r"
    }
   },
   "outputs": [
    {
     "data": {
      "text/plain": [
       "\n",
       "        L4       Peri         CR      Meis2        SMC       VLMC   Serpinf1 \n",
       "         3          4         11         11         55         72         78 \n",
       "Macrophage       Endo      Oligo        L6b       Sncg      Astro    L2/3 IT \n",
       "        85         96         98        145        148        215        325 \n",
       "     L6 CT      L5 PT      L6 IT         NP      Pvalb      Lamp5        Sst \n",
       "       350        368        394        542        896        913       1139 \n",
       "       Vip      L5 IT \n",
       "      1224       2401 "
      ]
     },
     "metadata": {},
     "output_type": "display_data"
    }
   ],
   "source": [
    "sort(table(cell_meta$cell_subclass))"
   ]
  },
  {
   "cell_type": "code",
   "execution_count": 7,
   "metadata": {
    "vscode": {
     "languageId": "r"
    }
   },
   "outputs": [
    {
     "data": {
      "text/html": [
       "TRUE"
      ],
      "text/latex": [
       "TRUE"
      ],
      "text/markdown": [
       "TRUE"
      ],
      "text/plain": [
       "[1] TRUE"
      ]
     },
     "metadata": {},
     "output_type": "display_data"
    }
   ],
   "source": [
    "all.equal(colnames(counts)[-1], cell_meta$Cell_ID)"
   ]
  },
  {
   "cell_type": "code",
   "execution_count": null,
   "metadata": {
    "vscode": {
     "languageId": "r"
    }
   },
   "outputs": [],
   "source": [
    "cell_frac <- data.frame(table(cell_meta$cell_subclass) / nrow(cell_meta))\n",
    "cell_meta$Freq <- cell_frac$Freq[match(cell_meta$cell_subclass, as.character(cell_frac[,1]))]\n",
    "\n",
    "cell.name = which(colnames(cell_meta) == \"Cell_ID\")\n",
    "cell.type = which(colnames(cell_meta) == \"cell_subclass\")\n",
    "cell.frac = which(colnames(cell_meta) == \"Freq\")"
   ]
  },
  {
   "cell_type": "code",
   "execution_count": null,
   "metadata": {
    "vscode": {
     "languageId": "r"
    }
   },
   "outputs": [],
   "source": [
    "set.seed(1)\n",
    "\n",
    "# Note: this takes several hours\n",
    "\n",
    "makeSyntheticDatasets(\n",
    "    expr=counts,\n",
    "    sampleindex=c(2:ncol(counts)),\n",
    "    cell.info=cell_meta,\n",
    "    cell.name=cell.name,\n",
    "    cell.type=cell.type,\n",
    "    cell.frac=cell.frac,\n",
    "    pcnt.cells=20,\n",
    "    pcnt.var=10,\n",
    "    no.samples=200,\n",
    "    no.datasets=1,\n",
    "    with.replacement=TRUE\n",
    ")"
   ]
  },
  {
   "cell_type": "code",
   "execution_count": null,
   "metadata": {
    "vscode": {
     "languageId": "r"
    }
   },
   "outputs": [],
   "source": [
    "# # Debugging\n",
    "\n",
    "# expr <- counts\n",
    "# sampleindex=c(2:ncol(counts))\n",
    "# cell.info=cell_meta\n",
    "# cell.name=cell.name\n",
    "# cell.type=cell.type\n",
    "# cell.frac=cell.frac\n",
    "# pcnt.cells=20\n",
    "# pcnt.var=0.3\n",
    "# no.samples=200\n",
    "# no.datasets=1\n",
    "# i=1\n",
    "# with.replacement=TRUE\n",
    "\n",
    "# ## Check to ensure rows of cell.info and columns of expr are in same order:\n",
    "# if(all.equal(colnames(expr[,sampleindex]),as.character(cell.info[,cell.name]))!=TRUE){\n",
    "#     stop(\"Cell names in expr and cell.info do not match!\")\n",
    "# }\n",
    "\n",
    "# no.cells=round(length(sampleindex)*pcnt.cells*.01)\n",
    "# meta=min(sampleindex)-1\n",
    "# print(paste(\"Building dataset \",i,\"...\",sep=\"\"))\n",
    "\n",
    "# if(is.null(cell.type)){\n",
    "    \n",
    "#     dat.legend=matrix(nrow=length(cell.info[,1]),ncol=no.samples+1,data=0)\n",
    "#     dat.legend[,1]=as.character(cell.info[,cell.name])\n",
    "#     colnames(dat.legend)=c(\"Cell.name\",paste(\"Sample\",c(1:no.samples),sep=\"\"))\n",
    "#     leg.meta=1\n",
    "    \n",
    "# } else {\n",
    "    \n",
    "#     dat.legend=matrix(nrow=length(cell.info[,1]),ncol=no.samples+2,data=0)\n",
    "#     dat.legend[,1]=as.character(cell.info[,cell.name])\n",
    "#     dat.legend[,2]=as.character(cell.info[,cell.type])\n",
    "#     colnames(dat.legend)=c(\"Cell.name\",\"Cell.type\",paste(\"Sample\",c(1:no.samples),sep=\"\"))\n",
    "#     leg.meta=2\n",
    "    \n",
    "# }\n",
    "\n",
    "# dat.synth=matrix(nrow=nrow(expr),ncol=no.samples,data=-88)\n",
    "# colnames(dat.synth)=paste(\"Sample\",c(1:no.samples),sep=\"\")\n",
    "\n",
    "# for(j in 1:no.samples){\n",
    "    \n",
    "#     if(!is.null(cell.frac)){\n",
    "        \n",
    "#         all.ct=unique(as.character(cell.info[,cell.type]))\n",
    "#         sample.vec=c()\n",
    "        \n",
    "#         for(k in 1:length(all.ct)){\n",
    "            \n",
    "#             rest1=is.element(cell.info[,cell.type],all.ct[k])\n",
    "#             base.cells=round(no.cells*unique(cell.info[rest1,cell.frac]))\n",
    "            \n",
    "#             if(pcnt.var==0){\n",
    "                \n",
    "#                     sample.vec=c(sample.vec,(sample(c(1:nrow(cell.info))[rest1],base.cells,replace=with.replacement)))\n",
    "                    \n",
    "#             } else {\n",
    "                \n",
    "#                 act.cell.range=c(round(base.cells-(base.cells*pcnt.var*.01)):round(base.cells+(base.cells*pcnt.var*.01)))\n",
    "#                 act.cells=sample(act.cell.range[act.cell.range>=0&act.cell.range<length(sampleindex)],1)\n",
    "#                 sample.vec=c(sample.vec,sample(c(1:nrow(cell.info))[rest1],act.cells,replace=with.replacement))\n",
    "#             }\n",
    "        \n",
    "#         sample.vec=sort(sample.vec)\n",
    "#         #Check: table(cell.info$Cell.Class[sample.vec])\n",
    "#         dat.synth[,j]=apply(as.data.frame(expr[,sample.vec+meta]),1,sum,na.rm=T)\n",
    "#         dat.legend[sample.vec,j+leg.meta]=1\n",
    "        \n",
    "#         } ## end of for(k in 1:length(all.ct)){\n",
    "\n",
    "#     }   \n",
    "    \n",
    "#     # } else {\n",
    "    \n",
    "#     # if(pcnt.var==0){\n",
    "        \n",
    "#     #     sample.vec=sort(sample(c(1:nrow(cell.info)),no.cells,replace=with.replacement))\n",
    "#     #     dat.synth[,j]=apply(expr[,sample.vec+meta],1,sum,na.rm=T)\n",
    "#     #     dat.legend[sample.vec,j+leg.meta]=1\n",
    "        \n",
    "#     # } else {\n",
    "\n",
    "#     #     act.cell.range=c(round(no.cells-(no.cells*pcnt.var*.01)):round(no.cells+(no.cells*pcnt.var*.01)))\n",
    "#     #     act.cells=sample(act.cell.range[act.cell.range>=0&act.cell.range<length(sampleindex)],1)\n",
    "#     #     sample.vec=sort(sample(c(1:nrow(cell.info)),act.cells,replace=with.replacement))\n",
    "#     #     dat.synth[,j]=apply(expr[,sample.vec+meta],1,sum,na.rm=T)\n",
    "#     #     dat.legend[sample.vec,j+leg.meta]=1\n",
    "    \n",
    "#     #     }\n",
    "    \n",
    "#     # }\n",
    "    \n",
    "#     print(j)\n",
    "    \n",
    "# } ## end of for(j in 1:no.samples)\n"
   ]
  }
 ],
 "metadata": {
  "kernelspec": {
   "display_name": "R",
   "language": "R",
   "name": "ir"
  },
  "language_info": {
   "codemirror_mode": "r",
   "file_extension": ".r",
   "mimetype": "text/x-r-source",
   "name": "R",
   "pygments_lexer": "r",
   "version": "4.3.3"
  }
 },
 "nbformat": 4,
 "nbformat_minor": 2
}
