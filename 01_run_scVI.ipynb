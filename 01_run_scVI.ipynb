{
 "cells": [
  {
   "cell_type": "code",
   "execution_count": null,
   "id": "3060bdb0",
   "metadata": {},
   "outputs": [],
   "source": [
    "import os\n",
    "import scvi\n",
    "import torch\n",
    "import pandas as pd\n",
    "import scanpy as sc\n",
    "import anndata as ad\n",
    "\n",
    "# conda activate anndata\n",
    "\n",
    "torch.set_num_threads(20)\n",
    "# OMP_NUM_THREADS=20\n",
    "\n",
    "pd.set_option(\"display.max_columns\", None)\n",
    "\n",
    "os.chdir(\"/mnt/lareaulab/reliscu/projects/NSF_GRFP/analyses/pseudobulk_test/tasic_2018/mouse_ALM\")"
   ]
  },
  {
   "cell_type": "markdown",
   "id": "4fa9191f",
   "metadata": {},
   "source": [
    "Here I run scVI to get a latent representation of the single-cell data for visualization purposes"
   ]
  },
  {
   "cell_type": "code",
   "execution_count": null,
   "id": "0b6f49ea",
   "metadata": {},
   "outputs": [],
   "source": [
    "adata = ad.read_h5ad(\"/mnt/lareaulab/reliscu/projects/NSF_GRFP/data/scRNA-seq/tasic_2018/ALM/tasic_2018_ALM_STAR_gene_counts.h5ad\")"
   ]
  },
  {
   "cell_type": "code",
   "execution_count": null,
   "id": "dd50c3d5",
   "metadata": {},
   "outputs": [],
   "source": [
    "adata.layers[\"counts\"] = adata.X.copy()\n",
    "adata.raw = adata  # Keep full dimension safe"
   ]
  },
  {
   "cell_type": "code",
   "execution_count": null,
   "id": "99ab7d24",
   "metadata": {},
   "outputs": [],
   "source": [
    "# Subset data to highly variable features\n",
    "\n",
    "sc.pp.highly_variable_genes(\n",
    "  adata,\n",
    "  n_top_genes = 2000,\n",
    "  subset = True,\n",
    "  layer = \"counts\",\n",
    "  flavor = \"seurat_v3\",\n",
    ")"
   ]
  },
  {
   "cell_type": "code",
   "execution_count": null,
   "id": "0dc8887f",
   "metadata": {},
   "outputs": [],
   "source": [
    "# scVI model\n",
    "\n",
    "# Note: this takes about 30 minutes\n",
    "scvi.model.SCVI.setup_anndata(adata, layer=\"counts\")\n",
    "model = scvi.model.SCVI(adata)\n",
    "model.train()"
   ]
  },
  {
   "cell_type": "code",
   "execution_count": null,
   "id": "3ab8af46",
   "metadata": {},
   "outputs": [],
   "source": [
    "# Extract low dim rep.\n",
    "latent = model.get_latent_representation()\n",
    "adata.obsm[\"scVI\"] = latent\n",
    "\n",
    "# Save\n",
    "model.save(\"data/tasic_2018_ALM_STAR_model\", overwrite=True)\n",
    "adata.write(\"data/tasic_2018_ALM_STAR_model/tasic_2018_ALM_STAR_gene_counts_scVI.h5ad\")"
   ]
  }
 ],
 "metadata": {
  "kernelspec": {
   "display_name": "anndata",
   "language": "python",
   "name": "python3"
  },
  "language_info": {
   "codemirror_mode": {
    "name": "ipython",
    "version": 3
   },
   "file_extension": ".py",
   "mimetype": "text/x-python",
   "name": "python",
   "nbconvert_exporter": "python",
   "pygments_lexer": "ipython3",
   "version": "3.12.3"
  }
 },
 "nbformat": 4,
 "nbformat_minor": 5
}
