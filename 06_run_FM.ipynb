{
 "cells": [
  {
   "cell_type": "code",
   "execution_count": null,
   "id": "3a1355a3",
   "metadata": {
    "vscode": {
     "languageId": "r"
    }
   },
   "outputs": [],
   "source": [
    "setwd(\"/mnt/lareaulab/reliscu/projects/NSF_GRFP/analyses/pseudobulk_test/tasic_2018/mouse_ALM\")\n",
    "\n",
    "library(dplyr)\n",
    "library(data.table)\n",
    "\n",
    "source(\"/mnt/lareaulab/reliscu/code/FindModules/FindModules.R\")"
   ]
  },
  {
   "cell_type": "markdown",
   "id": "5ef11b82",
   "metadata": {},
   "source": [
    "Here I run FM to (hopefully) find modules representing cell types present in the single-cell data"
   ]
  },
  {
   "cell_type": "code",
   "execution_count": null,
   "id": "b30fb730",
   "metadata": {
    "vscode": {
     "languageId": "r"
    }
   },
   "outputs": [],
   "source": [
    "counts <- fread(\"data/SyntheticDatasets/SyntheticDataset1_20pcntCells_0.4pcntVar_200samples_07-25-48.csv\", data.table=FALSE)"
   ]
  },
  {
   "cell_type": "markdown",
   "id": "30a20fbb",
   "metadata": {},
   "source": []
  },
  {
   "cell_type": "code",
   "execution_count": null,
   "id": "78328e38",
   "metadata": {
    "vscode": {
     "languageId": "r"
    }
   },
   "outputs": [],
   "source": [
    "# For duplicate genes, choose row with highest mean expression\n",
    "\n",
    "mean_expr <- data.frame(\n",
    "    Index=1:nrow(counts), \n",
    "    Gene=counts[,1], \n",
    "    Expr=rowMeans(counts[,-1])\n",
    ")\n",
    "\n",
    "mean_expr <- mean_expr %>%\n",
    "    group_by(Gene) %>%\n",
    "    slice_max(Expr)\n",
    "\n",
    "print(dim(mean_expr))\n",
    "\n",
    "counts <- counts[mean_expr$Index,]"
   ]
  },
  {
   "cell_type": "code",
   "execution_count": null,
   "id": "fab5fc01",
   "metadata": {
    "vscode": {
     "languageId": "r"
    }
   },
   "outputs": [],
   "source": [
    "# Subset to genes in the top 50th percentile of mean expression\n",
    "\n",
    "prob <- .5\n",
    "mean_expr <- rowMeans(counts[,-1])\n",
    "print(sum(mean_expr >= quantile(mean_expr, prob)))"
   ]
  },
  {
   "cell_type": "code",
   "execution_count": null,
   "id": "6146403b",
   "metadata": {
    "vscode": {
     "languageId": "r"
    }
   },
   "outputs": [],
   "source": [
    "counts_filtered <- counts[mean_expr >= quantile(mean_expr, .5),]"
   ]
  },
  {
   "cell_type": "code",
   "execution_count": null,
   "id": "136868a3",
   "metadata": {
    "vscode": {
     "languageId": "r"
    }
   },
   "outputs": [],
   "source": [
    "# Normalize counts by sample\n",
    "\n",
    "total_expr <- colSums(counts_filtered[,-1])\n",
    "expr <- sweep(counts_filtered[,-1], FUN=\"/\", MARGIN=2, STATS=total_expr) * 1e4\n",
    "expr <- log2(expr + 1)\n",
    "expr <- data.frame(Gene=counts_filtered[,1], expr)"
   ]
  },
  {
   "cell_type": "code",
   "execution_count": null,
   "id": "2727325b",
   "metadata": {
    "vscode": {
     "languageId": "r"
    }
   },
   "outputs": [],
   "source": [
    "FindModules(\n",
    "  projectname=\"mouse_ACA_20pcntCells_0.4pcntVar_200samples_log2\",\n",
    "  expr=expr,\n",
    "  geneinfo=1,\n",
    "  sampleindex=2:ncol(expr),\n",
    "  samplegroups=NULL,\n",
    "  subset=NULL,\n",
    "  simMat=NULL,\n",
    "  saveSimMat=FALSE,\n",
    "  simType=\"Bicor\",\n",
    "  beta=1,\n",
    "  overlapType=\"None\",\n",
    "  TOtype=\"signed\",\n",
    "  TOdenom=\"min\",\n",
    "  MIestimator=\"mi.mm\",\n",
    "  MIdisc=\"equalfreq\",\n",
    "  signumType=\"rel\",\n",
    "  iterate=TRUE,\n",
    "  signumvec=c(.99999,.9999,.999,.99,.98,.97),\n",
    "  minsizevec=c(3,4,6,8,10,12),\n",
    "  signum=NULL,\n",
    "  minSize=NULL,\n",
    "  merge.by=\"ME\",\n",
    "  merge.param=0.9,\n",
    "  export.merge.comp=T,\n",
    "  ZNCcut=2,\n",
    "  calcSW=FALSE,\n",
    "  loadTree=FALSE,\n",
    "  writeKME=TRUE,\n",
    "  calcBigModStat=FALSE,\n",
    "  writeModSnap=TRUE\n",
    ")"
   ]
  }
 ],
 "metadata": {
  "kernelspec": {
   "display_name": "R",
   "language": "R",
   "name": "ir"
  },
  "language_info": {
   "name": "R"
  }
 },
 "nbformat": 4,
 "nbformat_minor": 5
}
