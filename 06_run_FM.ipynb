{
 "cells": [
  {
   "cell_type": "code",
   "execution_count": 9,
   "id": "3a1355a3",
   "metadata": {
    "vscode": {
     "languageId": "r"
    }
   },
   "outputs": [
    {
     "name": "stdout",
     "output_type": "stream",
     "text": [
      "Allowing multi-threading with up to 40 threads.\n"
     ]
    }
   ],
   "source": [
    "setwd(\"/mnt/lareaulab/reliscu/projects/NSF_GRFP/analyses/pseudobulk_test/tasic_2018/mouse_ALM\")\n",
    "\n",
    "library(dplyr)\n",
    "library(data.table)\n",
    "\n",
    "source(\"/mnt/lareaulab/reliscu/code/FindModules/FindModules.R\")"
   ]
  },
  {
   "cell_type": "markdown",
   "id": "5ef11b82",
   "metadata": {},
   "source": [
    "Here I run FM to (hopefully) find modules representing each of the cell types present in the single-cell data"
   ]
  },
  {
   "cell_type": "code",
   "execution_count": 10,
   "id": "b30fb730",
   "metadata": {
    "vscode": {
     "languageId": "r"
    }
   },
   "outputs": [
    {
     "name": "stdout",
     "output_type": "stream",
     "text": [
      "[1] 40301     3\n"
     ]
    }
   ],
   "source": [
    "counts <- fread(\"data/SyntheticDatasets/SyntheticDataset1_30pcntCells_50pcntVar_200samples_05-16-36.csv\", data.table=FALSE)\n",
    "\n",
    "# For duplicate genes, choose row with highest mean expression\n",
    "\n",
    "mean_expr <- data.frame(\n",
    "    Index=1:nrow(counts), \n",
    "    Gene=counts[,1], \n",
    "    Expr=rowMeans(counts[,-1])\n",
    ")\n",
    "\n",
    "mean_expr <- mean_expr %>%\n",
    "    group_by(Gene) %>%\n",
    "    slice_max(Expr)\n",
    "\n",
    "print(dim(mean_expr))\n",
    "\n",
    "counts <- counts[mean_expr$Index,]"
   ]
  },
  {
   "cell_type": "code",
   "execution_count": 11,
   "id": "fab5fc01",
   "metadata": {
    "vscode": {
     "languageId": "r"
    }
   },
   "outputs": [
    {
     "name": "stdout",
     "output_type": "stream",
     "text": [
      "[1] 28211\n"
     ]
    }
   ],
   "source": [
    "# Subset to genes in the top X percentile of mean expression\n",
    "\n",
    "prob <- .3\n",
    "mean_expr <- rowMeans(counts[,-1])\n",
    "print(sum(mean_expr >= quantile(mean_expr, prob)))"
   ]
  },
  {
   "cell_type": "code",
   "execution_count": 12,
   "id": "6146403b",
   "metadata": {
    "vscode": {
     "languageId": "r"
    }
   },
   "outputs": [],
   "source": [
    "counts_filtered <- counts[mean_expr >= quantile(mean_expr, .5),]\n",
    "\n",
    "# Normalize counts by sample\n",
    "\n",
    "total_expr <- colSums(counts_filtered[,-1])\n",
    "expr <- sweep(counts_filtered[,-1], MARGIN=2, FUN=\"/\", STATS=total_expr) * 1e4\n",
    "expr <- log2(expr + 1)\n",
    "expr <- data.frame(Gene=counts_filtered[,1], expr)"
   ]
  },
  {
   "cell_type": "code",
   "execution_count": null,
   "id": "1fa659b0",
   "metadata": {
    "vscode": {
     "languageId": "r"
    }
   },
   "outputs": [],
   "source": [
    "merge.param <- 0.9"
   ]
  },
  {
   "cell_type": "code",
   "execution_count": null,
   "id": "2727325b",
   "metadata": {
    "vscode": {
     "languageId": "r"
    }
   },
   "outputs": [],
   "source": [
    "FindModules(\n",
    "  projectname=, #\"tasic_2018_ALM_STAR_20pcntCells_15kappa_200samples_log2_pseudobulk\",\n",
    "  expr=expr,\n",
    "  geneinfo=1,\n",
    "  sampleindex=2:ncol(expr),\n",
    "  samplegroups=NULL,\n",
    "  subset=NULL,\n",
    "  simMat=NULL,\n",
    "  saveSimMat=FALSE,\n",
    "  simType=\"Bicor\",\n",
    "  beta=1,\n",
    "  overlapType=\"None\",\n",
    "  TOtype=\"signed\",\n",
    "  TOdenom=\"min\",\n",
    "  MIestimator=\"mi.mm\",\n",
    "  MIdisc=\"equalfreq\",\n",
    "  signumType=\"rel\",\n",
    "  iterate=TRUE,\n",
    "  signumvec=c(.999999,.99999,.9999,.999,.99,.98,.97),\n",
    "  minsizevec=c(3,4,5,6,8,10),\n",
    "  signum=NULL,\n",
    "  minSize=NULL,\n",
    "  merge.by=\"ME\",\n",
    "  merge.param=merge.param,\n",
    "  export.merge.comp=T,\n",
    "  ZNCcut=2,\n",
    "  calcSW=FALSE,\n",
    "  loadTree=FALSE,\n",
    "  writeKME=TRUE,\n",
    "  calcBigModStat=FALSE,\n",
    "  writeModSnap=TRUE\n",
    ")"
   ]
  }
 ],
 "metadata": {
  "kernelspec": {
   "display_name": "R",
   "language": "R",
   "name": "ir"
  },
  "language_info": {
   "codemirror_mode": "r",
   "file_extension": ".r",
   "mimetype": "text/x-r-source",
   "name": "R",
   "pygments_lexer": "r",
   "version": "4.3.3"
  }
 },
 "nbformat": 4,
 "nbformat_minor": 5
}
