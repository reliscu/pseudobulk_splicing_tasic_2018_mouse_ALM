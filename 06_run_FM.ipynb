{
 "cells": [
  {
   "cell_type": "code",
   "execution_count": 1,
   "id": "3a1355a3",
   "metadata": {
    "vscode": {
     "languageId": "r"
    }
   },
   "outputs": [
    {
     "name": "stderr",
     "output_type": "stream",
     "text": [
      "\n",
      "Attaching package: ‘dplyr’\n",
      "\n",
      "\n",
      "The following objects are masked from ‘package:stats’:\n",
      "\n",
      "    filter, lag\n",
      "\n",
      "\n",
      "The following objects are masked from ‘package:base’:\n",
      "\n",
      "    intersect, setdiff, setequal, union\n",
      "\n",
      "\n",
      "\n",
      "Attaching package: ‘data.table’\n",
      "\n",
      "\n",
      "The following objects are masked from ‘package:dplyr’:\n",
      "\n",
      "    between, first, last\n",
      "\n",
      "\n",
      "Loading required package: dynamicTreeCut\n",
      "\n",
      "Loading required package: fastcluster\n",
      "\n",
      "\n",
      "Attaching package: ‘fastcluster’\n",
      "\n",
      "\n",
      "The following object is masked from ‘package:stats’:\n",
      "\n",
      "    hclust\n",
      "\n",
      "\n",
      "\n",
      "\n",
      "\n",
      "Attaching package: ‘WGCNA’\n",
      "\n",
      "\n",
      "The following object is masked from ‘package:stats’:\n",
      "\n",
      "    cor\n",
      "\n",
      "\n",
      "\n",
      "Attaching package: ‘flashClust’\n",
      "\n",
      "\n",
      "The following object is masked from ‘package:fastcluster’:\n",
      "\n",
      "    hclust\n",
      "\n",
      "\n",
      "The following object is masked from ‘package:stats’:\n",
      "\n",
      "    hclust\n",
      "\n",
      "\n",
      "\n",
      "Attaching package: ‘svMisc’\n",
      "\n",
      "\n",
      "The following object is masked from ‘package:utils’:\n",
      "\n",
      "    ?\n",
      "\n",
      "\n",
      "Loading required package: BiocGenerics\n",
      "\n",
      "\n",
      "Attaching package: ‘BiocGenerics’\n",
      "\n",
      "\n",
      "The following objects are masked from ‘package:dplyr’:\n",
      "\n",
      "    combine, intersect, setdiff, union\n",
      "\n",
      "\n",
      "The following objects are masked from ‘package:stats’:\n",
      "\n",
      "    IQR, mad, sd, var, xtabs\n",
      "\n",
      "\n",
      "The following objects are masked from ‘package:base’:\n",
      "\n",
      "    anyDuplicated, aperm, append, as.data.frame, basename, cbind,\n",
      "    colnames, dirname, do.call, duplicated, eval, evalq, Filter, Find,\n",
      "    get, grep, grepl, intersect, is.unsorted, lapply, Map, mapply,\n",
      "    match, mget, order, paste, pmax, pmax.int, pmin, pmin.int,\n",
      "    Position, rank, rbind, Reduce, rownames, sapply, setdiff, sort,\n",
      "    table, tapply, union, unique, unsplit, which.max, which.min\n",
      "\n",
      "\n",
      "Welcome to Bioconductor\n",
      "\n",
      "    Vignettes contain introductory material; view with\n",
      "    'browseVignettes()'. To cite Bioconductor, see\n",
      "    'citation(\"Biobase\")', and for packages 'citation(\"pkgname\")'.\n",
      "\n",
      "\n",
      "\n",
      "Attaching package: ‘qvalue’\n",
      "\n",
      "\n",
      "The following object is masked from ‘package:WGCNA’:\n",
      "\n",
      "    qvalue\n",
      "\n",
      "\n",
      "\n",
      "Attaching package: ‘ellipse’\n",
      "\n",
      "\n",
      "The following object is masked from ‘package:graphics’:\n",
      "\n",
      "    pairs\n",
      "\n",
      "\n",
      "\n",
      "Attaching package: ‘purrr’\n",
      "\n",
      "\n",
      "The following object is masked from ‘package:data.table’:\n",
      "\n",
      "    transpose\n",
      "\n",
      "\n"
     ]
    },
    {
     "name": "stdout",
     "output_type": "stream",
     "text": [
      "Allowing multi-threading with up to 40 threads.\n"
     ]
    }
   ],
   "source": [
    "setwd(\"/mnt/lareaulab/reliscu/projects/NSF_GRFP/analyses/pseudobulk_test/tasic_2018/mouse_ALM\")\n",
    "\n",
    "library(dplyr)\n",
    "library(data.table)\n",
    "\n",
    "source(\"/mnt/lareaulab/reliscu/code/FindModules/FindModules.R\")"
   ]
  },
  {
   "cell_type": "markdown",
   "id": "5ef11b82",
   "metadata": {},
   "source": [
    "Here I run FM to (hopefully) find modules representing each of the cell types present in the single-cell data"
   ]
  },
  {
   "cell_type": "code",
   "execution_count": null,
   "id": "b30fb730",
   "metadata": {
    "vscode": {
     "languageId": "r"
    }
   },
   "outputs": [],
   "source": [
    "counts <- fread(\"data/SyntheticDatasets/SyntheticDataset1_20pcntCells_10pcntVar_200samples_11-31-12.csv\", data.table=FALSE)"
   ]
  },
  {
   "cell_type": "code",
   "execution_count": null,
   "id": "78328e38",
   "metadata": {
    "vscode": {
     "languageId": "r"
    }
   },
   "outputs": [],
   "source": [
    "# For duplicate genes, choose row with highest mean expression\n",
    "\n",
    "mean_expr <- data.frame(\n",
    "    Index=1:nrow(counts), \n",
    "    Gene=counts[,1], \n",
    "    Expr=rowMeans(counts[,-1])\n",
    ")\n",
    "\n",
    "mean_expr <- mean_expr %>%\n",
    "    group_by(Gene) %>%\n",
    "    slice_max(Expr)\n",
    "\n",
    "print(dim(mean_expr))\n",
    "\n",
    "counts <- counts[mean_expr$Index,]"
   ]
  },
  {
   "cell_type": "code",
   "execution_count": null,
   "id": "fab5fc01",
   "metadata": {
    "vscode": {
     "languageId": "r"
    }
   },
   "outputs": [
    {
     "ename": "ERROR",
     "evalue": "Error: object 'counts' not found\n",
     "output_type": "error",
     "traceback": [
      "Error: object 'counts' not found\nTraceback:\n",
      "1. is.data.frame(x)",
      "2. .handleSimpleError(function (cnd) \n . {\n .     watcher$capture_plot_and_output()\n .     cnd <- sanitize_call(cnd)\n .     watcher$push(cnd)\n .     switch(on_error, continue = invokeRestart(\"eval_continue\"), \n .         stop = invokeRestart(\"eval_stop\"), error = NULL)\n . }, \"object 'counts' not found\", base::quote(eval(expr, envir)))"
     ]
    }
   ],
   "source": [
    "# Subset to genes in the top 50th percentile of mean expression\n",
    "\n",
    "prob <- .1\n",
    "mean_expr <- rowMeans(counts[,-1])\n",
    "print(sum(mean_expr >= quantile(mean_expr, prob)))"
   ]
  },
  {
   "cell_type": "code",
   "execution_count": null,
   "id": "6146403b",
   "metadata": {
    "vscode": {
     "languageId": "r"
    }
   },
   "outputs": [],
   "source": [
    "counts_filtered <- counts[mean_expr >= quantile(mean_expr, .5),]"
   ]
  },
  {
   "cell_type": "code",
   "execution_count": null,
   "id": "136868a3",
   "metadata": {
    "vscode": {
     "languageId": "r"
    }
   },
   "outputs": [],
   "source": [
    "# Normalize counts by sample\n",
    "\n",
    "total_expr <- colSums(counts_filtered[,-1])\n",
    "expr <- sweep(counts_filtered[,-1], MARGIN=2, FUN=\"/\", STATS=total_expr) * 1e4\n",
    "expr <- log2(expr + 1)\n",
    "expr <- data.frame(Gene=counts_filtered[,1], expr)"
   ]
  },
  {
   "cell_type": "code",
   "execution_count": null,
   "id": "2727325b",
   "metadata": {
    "vscode": {
     "languageId": "r"
    }
   },
   "outputs": [],
   "source": [
    "FindModules(\n",
    "  projectname=\"tasic_2018_ALM_STAR_20pcntCells_10pcntVar_200samples_log2_pseudobulk\",\n",
    "  expr=expr,\n",
    "  geneinfo=1,\n",
    "  sampleindex=2:ncol(expr),\n",
    "  samplegroups=NULL,\n",
    "  subset=NULL,\n",
    "  simMat=NULL,\n",
    "  saveSimMat=FALSE,\n",
    "  simType=\"Bicor\",\n",
    "  beta=1,\n",
    "  overlapType=\"None\",\n",
    "  TOtype=\"signed\",\n",
    "  TOdenom=\"min\",\n",
    "  MIestimator=\"mi.mm\",\n",
    "  MIdisc=\"equalfreq\",\n",
    "  signumType=\"rel\",\n",
    "  iterate=TRUE,\n",
    "  signumvec=c(.999999,.99999,.9999,.999,.99,.98,.97),\n",
    "  minsizevec=c(3,4,5,6,8,10),\n",
    "  signum=NULL,\n",
    "  minSize=NULL,\n",
    "  merge.by=\"ME\",\n",
    "  merge.param=0.9,\n",
    "  export.merge.comp=T,\n",
    "  ZNCcut=2,\n",
    "  calcSW=FALSE,\n",
    "  loadTree=FALSE,\n",
    "  writeKME=TRUE,\n",
    "  calcBigModStat=FALSE,\n",
    "  writeModSnap=TRUE\n",
    ")"
   ]
  }
 ],
 "metadata": {
  "kernelspec": {
   "display_name": "R",
   "language": "R",
   "name": "ir"
  },
  "language_info": {
   "codemirror_mode": "r",
   "file_extension": ".r",
   "mimetype": "text/x-r-source",
   "name": "R",
   "pygments_lexer": "r",
   "version": "4.3.3"
  }
 },
 "nbformat": 4,
 "nbformat_minor": 5
}
