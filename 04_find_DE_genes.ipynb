{
 "cells": [
  {
   "cell_type": "code",
   "execution_count": 3,
   "id": "79b8f93f",
   "metadata": {
    "vscode": {
     "languageId": "r"
    }
   },
   "outputs": [
    {
     "name": "stderr",
     "output_type": "stream",
     "text": [
      "\n",
      "Attaching package: ‘variancePartition’\n",
      "\n",
      "\n",
      "The following objects are masked from ‘package:limma’:\n",
      "\n",
      "    eBayes, topTable\n",
      "\n",
      "\n"
     ]
    }
   ],
   "source": [
    "# conda activate dream\n",
    "\n",
    "library(edgeR)\n",
    "library(data.table)\n",
    "library(BiocParallel)\n",
    "library(variancePartition)\n",
    "\n",
    "setwd(\"/mnt/lareaulab/reliscu/projects/NSF_GRFP/analyses/pseudobulk_test/tasic_2018/mouse_ALM\")\n",
    "\n",
    "param <- MulticoreParam(20)"
   ]
  },
  {
   "cell_type": "markdown",
   "id": "c7a10101",
   "metadata": {},
   "source": [
    "Here I run DE analysis on the pseudobulked cell type data"
   ]
  },
  {
   "cell_type": "code",
   "execution_count": 64,
   "id": "4b0e2b31",
   "metadata": {
    "vscode": {
     "languageId": "r"
    }
   },
   "outputs": [],
   "source": [
    "counts <- fread(\"data/tasic_2018_ALM_STAR_donor_cell_type_pseudobulk.csv\", data.table=FALSE)\n",
    "sample_meta <- fread(\"data/tasic_2018_ALM_STAR_donor_cell_type_pseudobulk_sampleinfo.csv\", data.table=FALSE)"
   ]
  },
  {
   "cell_type": "code",
   "execution_count": null,
   "id": "725b0aaf",
   "metadata": {
    "vscode": {
     "languageId": "r"
    }
   },
   "outputs": [],
   "source": [
    "# Add sex and age info. to metadata\n",
    "sample_meta$Row <- 1:nrow(sample_meta)\n",
    "donor_meta <- fread(\"/mnt/lareaulab/reliscu/projects/NSF_GRFP/data/scRNA-seq/tasic_2018/tasic_2018_tableS10_sampleinfo_donor_level.csv\")\n",
    "sample_meta <- merge(sample_meta, donor_meta[,1:3], by.x=\"Donor\", by.y=\"Animal ID\", all.x=TRUE, sort=FALSE)\n",
    "sample_meta <- sample_meta[order(sample_meta$Row),] # Keep original row order\n",
    "rownames(sample_meta) <- sample_meta$Sample_ID\n",
    "\n",
    "# Reformat cell type names\n",
    "sample_meta$Cell_type <- sapply(sample_meta$Cell_type, function(x) gsub(\" \", \"_\", x))\n",
    "sample_meta$Cell_type <- sapply(sample_meta$Cell_type, function(x) gsub(\"/\", \"_\", x, fixed=TRUE))\n",
    "\n",
    "# Center/scale age\n",
    "sample_meta$Age_c <- as.numeric(scale(sample_meta$Age, center=TRUE, scale=FALSE))"
   ]
  },
  {
   "cell_type": "code",
   "execution_count": 66,
   "id": "feb3888f",
   "metadata": {
    "vscode": {
     "languageId": "r"
    }
   },
   "outputs": [
    {
     "name": "stderr",
     "output_type": "stream",
     "text": [
      "Setting first column of `counts` as gene annotation.\n",
      "\n"
     ]
    },
    {
     "name": "stdout",
     "output_type": "stream",
     "text": [
      "[1] 25273   609\n"
     ]
    }
   ],
   "source": [
    "# Prep count data\n",
    "\n",
    "y <- DGEList(counts) \n",
    "keep <- filterByExpr(y, group=sample_meta$Cell_type)\n",
    "y <- y[keep,, keep.lib.sizes=FALSE]\n",
    "print(dim(y$counts))\n",
    "y <- calcNormFactors(y)"
   ]
  },
  {
   "cell_type": "code",
   "execution_count": null,
   "id": "8632de18",
   "metadata": {
    "vscode": {
     "languageId": "r"
    }
   },
   "outputs": [],
   "source": [
    "ctypes <- unique(sample_meta$Cell_type)\n",
    "ctype_levels <- levels(factor(ctypes))"
   ]
  },
  {
   "cell_type": "code",
   "execution_count": null,
   "id": "0af28c26",
   "metadata": {
    "vscode": {
     "languageId": "r"
    }
   },
   "outputs": [
    {
     "name": "stderr",
     "output_type": "stream",
     "text": [
      "Setting first column of `counts` as gene annotation.\n",
      "\n"
     ]
    },
    {
     "data": {
      "text/html": [
       "<style>\n",
       ".list-inline {list-style: none; margin:0; padding: 0}\n",
       ".list-inline>li {display: inline-block}\n",
       ".list-inline>li:not(:last-child)::after {content: \"\\00b7\"; padding: 0 .5ex}\n",
       "</style>\n",
       "<ol class=list-inline><li>678</li><li>200</li></ol>\n"
      ],
      "text/latex": [
       "\\begin{enumerate*}\n",
       "\\item 678\n",
       "\\item 200\n",
       "\\end{enumerate*}\n"
      ],
      "text/markdown": [
       "1. 678\n",
       "2. 200\n",
       "\n",
       "\n"
      ],
      "text/plain": [
       "[1] 678 200"
      ]
     },
     "metadata": {},
     "output_type": "display_data"
    }
   ],
   "source": [
    "# # Subset data for testing\n",
    "\n",
    "# set.seed(1)\n",
    "# sample_idx <- sample(1:nrow(sample_meta), size=200)\n",
    "# sample_meta_subset <- sample_meta[sample_idx,]\n",
    "# counts_subset <- counts[sample(1:nrow(counts), size=1000), c(1, sample_idx + 1)]\n",
    "\n",
    "# y <- DGEList(counts_subset)\n",
    "# keep <- filterByExpr(y, group=sample_meta_subset$Cell_type)\n",
    "# y <- y[keep,, keep.lib.sizes=FALSE]\n",
    "# dim(y$counts)\n",
    "# y <- calcNormFactors(y)\n",
    "\n",
    "# ctypes <- unique(sample_meta_subset$Cell_type)\n",
    "# ctype_levels <- levels(factor(ctypes))"
   ]
  },
  {
   "cell_type": "markdown",
   "id": "e77219e7",
   "metadata": {
    "vscode": {
     "languageId": "r"
    }
   },
   "source": [
    "## 1 vs. pooled test"
   ]
  },
  {
   "cell_type": "markdown",
   "id": "701b5228",
   "metadata": {},
   "source": [
    "Compare gene expression between target cell type and a pool of all other cell types"
   ]
  },
  {
   "cell_type": "code",
   "execution_count": null,
   "id": "8ce591f9",
   "metadata": {
    "vscode": {
     "languageId": "r"
    }
   },
   "outputs": [],
   "source": [
    "# # Note: this takes several days\n",
    "\n",
    "# form <- ~ Test + Sex + Age_c + (1 | Donor)\n",
    "\n",
    "# pool_res <- lapply(ctypes, function(target) {\n",
    "#     print(paste(target, \"vs. rest\"))\n",
    "#     sample_meta$Test <- ifelse(\n",
    "#         sample_meta$Cell_type == target, target, \"Rest\"\n",
    "#     )\n",
    "#     vobj <- voomWithDreamWeights(y, form, sample_meta, BPPARAM=param)\n",
    "#     fit <- dream(vobj, form, sample_meta, BPPARAM=param)\n",
    "#     # fit <- eBayes(fit)\n",
    "#     topTable(fit)\n",
    "# })\n",
    "# names(pool_res) <- ctypes\n",
    "\n",
    "# saveRDS(pool_res, file=\"data/tasic_2018_ALM_STAR_donor_cell_type_pseudobulk_1_vs_pooled_DE_genes_dream.RDS\")"
   ]
  },
  {
   "cell_type": "markdown",
   "id": "40e2dd09",
   "metadata": {},
   "source": [
    "## Pairwise tests / 1 vs. mean(others) tests"
   ]
  },
  {
   "cell_type": "code",
   "execution_count": 104,
   "id": "91579ed5",
   "metadata": {
    "vscode": {
     "languageId": "r"
    }
   },
   "outputs": [],
   "source": [
    "# Make a 1 vs. mean(others) contrast matrix\n",
    "\n",
    "make_mean_contrasts <- function(a, levs){\n",
    "  others <- setdiff(ctype_levels, a)\n",
    "  K <- length(others)\n",
    "  L <- matrix(0, length(coef_names), 1, dimnames=list(coef_names, paste0(a, \"_vs_meanOthers\")))\n",
    "  L[paste0(\"Cell_type\", make.names(a)), 1] <-  1\n",
    "  L[paste0(\"Cell_type\", make.names(others)), 1] <- -1/K\n",
    "  L\n",
    "}\n",
    "\n",
    "# Make a pairwise contrast matrix\n",
    "\n",
    "make_pairwise_contrasts <- function(target) {\n",
    "  others <- setdiff(ctype_levels, target)\n",
    "  # One column for each test: \"target vs other\"\n",
    "  mk_col <- function(other) {\n",
    "    L <- matrix(0, nrow = length(coef_names), ncol = 1,\n",
    "                dimnames = list(coef_names, paste0(target, \"_vs_\", other)))\n",
    "    L[paste0(\"Cell_type\", target), 1] <-  1\n",
    "    L[paste0(\"Cell_type\", other), 1]  <- -1\n",
    "    L\n",
    "  }\n",
    "  do.call(cbind, lapply(others, mk_col))\n",
    "}"
   ]
  },
  {
   "cell_type": "code",
   "execution_count": null,
   "id": "db5a18e0",
   "metadata": {
    "vscode": {
     "languageId": "r"
    }
   },
   "outputs": [],
   "source": [
    "form <- ~ 0 + Cell_type + Sex + Age_c + (1 | Donor)\n",
    "vobj <- voomWithDreamWeights(y, form, sample_meta, BPPARAM=param)"
   ]
  },
  {
   "cell_type": "code",
   "execution_count": null,
   "id": "f88b039d",
   "metadata": {
    "vscode": {
     "languageId": "r"
    }
   },
   "outputs": [],
   "source": [
    "form_fixed <- ~ 0 + Cell_type + Sex + Age_c\n",
    "coef_names <- colnames(model.matrix(form_fixed, data=sample_meta))"
   ]
  },
  {
   "cell_type": "code",
   "execution_count": null,
   "id": "65865c49",
   "metadata": {
    "vscode": {
     "languageId": "r"
    }
   },
   "outputs": [],
   "source": [
    "res_list <- vector(mode=\"list\", length=length(ctypes))\n",
    "names(res_list) <- ctypes\n",
    "\n",
    "for (target in ctypes) {\n",
    "    print(paste(\"Starting\", target))\n",
    "\n",
    "    # Test multiple contrasts at once:\n",
    "    L <- cbind(\n",
    "        make_pairwise_contrasts(target),\n",
    "        make_mean_contrasts(target)\n",
    "    )\n",
    "    fit <- dream(vobj, form, sample_meta, L=L, BPPARAM=param)\n",
    "    fit <- eBayes(fit)\n",
    "\n",
    "    # Extract results\n",
    "    ctype_res_list <- lapply(colnames(L), function(test) {\n",
    "        tt <- topTable(fit, coef=test, number=Inf, p.value=0.05)\n",
    "        tt$Test <- test\n",
    "        tt\n",
    "    })\n",
    "    res_list[[target]] <- do.call(rbind, ctype_res_list)\n",
    "\n",
    "}\n",
    "\n",
    "saveRDS(mean_res, file=\"data/tasic_2018_ALM_STAR_donor_cell_type_pseudobulk_multi_test_DE_genes_dream.RDS\")"
   ]
  },
  {
   "cell_type": "code",
   "execution_count": null,
   "id": "d0825b69",
   "metadata": {
    "vscode": {
     "languageId": "r"
    }
   },
   "outputs": [],
   "source": [
    "saveRDS(mean_res, file=\"data/tasic_2018_ALM_STAR_donor_cell_type_pseudobulk_DE_genes_dream.RDS\")"
   ]
  }
 ],
 "metadata": {
  "kernelspec": {
   "display_name": "R (dream)",
   "language": "R",
   "name": "dream"
  },
  "language_info": {
   "codemirror_mode": "r",
   "file_extension": ".r",
   "mimetype": "text/x-r-source",
   "name": "R",
   "pygments_lexer": "r",
   "version": "4.5.1"
  }
 },
 "nbformat": 4,
 "nbformat_minor": 5
}
