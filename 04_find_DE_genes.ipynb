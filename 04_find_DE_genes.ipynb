{
 "cells": [
  {
   "cell_type": "code",
   "execution_count": 94,
   "id": "79b8f93f",
   "metadata": {
    "vscode": {
     "languageId": "r"
    }
   },
   "outputs": [],
   "source": [
    "# conda activate dream\n",
    "\n",
    "library(edgeR)\n",
    "library(limma)\n",
    "library(data.table)\n",
    "library(BiocParallel)\n",
    "library(variancePartition)\n",
    "\n",
    "setwd(\"/mnt/lareaulab/reliscu/projects/NSF_GRFP/analyses/pseudobulk_test/tasic_2018/mouse_ALM\")"
   ]
  },
  {
   "cell_type": "code",
   "execution_count": null,
   "id": "75628951",
   "metadata": {
    "vscode": {
     "languageId": "r"
    }
   },
   "outputs": [],
   "source": [
    "param <- SnowParam(20, \"SOCK\", progressbar=TRUE)"
   ]
  },
  {
   "cell_type": "markdown",
   "id": "c7a10101",
   "metadata": {},
   "source": [
    "Here I run DE analysis on the pseudobulked cell type data"
   ]
  },
  {
   "cell_type": "code",
   "execution_count": null,
   "id": "4b0e2b31",
   "metadata": {
    "vscode": {
     "languageId": "r"
    }
   },
   "outputs": [],
   "source": [
    "counts <- fread(\"data/tasic_2018_ALM_STAR_donor_cell_type_pseudobulk.csv\", data.table=FALSE)\n",
    "sample_meta <- fread(\"data/tasic_2018_ALM_STAR_donor_cell_type_pseudobulk_sampleinfo.csv\", data.table=FALSE)"
   ]
  },
  {
   "cell_type": "code",
   "execution_count": null,
   "id": "725b0aaf",
   "metadata": {
    "vscode": {
     "languageId": "r"
    }
   },
   "outputs": [],
   "source": [
    "# Add sex and age info. to metadata\n",
    "\n",
    "sample_meta$Row <- 1:nrow(sample_meta)\n",
    "donor_meta <- fread(\"/mnt/lareaulab/reliscu/projects/NSF_GRFP/data/scRNA-seq/tasic_2018/tasic_2018_tableS10_sampleinfo_donor_level.csv\")\n",
    "sample_meta <- merge(sample_meta, donor_meta[,1:3], by.x=\"Donor\", by.y=\"Animal ID\", all.x=TRUE, sort=FALSE)\n",
    "sample_meta <- sample_meta[order(sample_meta$Row),] # Keep original row order\n",
    "rownames(sample_meta) <- sample_meta$Sample_ID\n",
    "\n",
    "# Reformat cell type names\n",
    "sample_meta$Cell_type <- sapply(sample_meta$Cell_type, function(x) gsub(\" \", \"_\", x))\n",
    "sample_meta$Cell_type <- sapply(sample_meta$Cell_type, function(x) gsub(\"/\", \"_\", x, fixed=TRUE))"
   ]
  },
  {
   "cell_type": "code",
   "execution_count": null,
   "id": "feb3888f",
   "metadata": {
    "vscode": {
     "languageId": "r"
    }
   },
   "outputs": [
    {
     "name": "stderr",
     "output_type": "stream",
     "text": [
      "Setting first column of `counts` as gene annotation.\n",
      "\n"
     ]
    },
    {
     "data": {
      "text/html": [
       "<style>\n",
       ".list-inline {list-style: none; margin:0; padding: 0}\n",
       ".list-inline>li {display: inline-block}\n",
       ".list-inline>li:not(:last-child)::after {content: \"\\00b7\"; padding: 0 .5ex}\n",
       "</style>\n",
       "<ol class=list-inline><li>25273</li><li>609</li></ol>\n"
      ],
      "text/latex": [
       "\\begin{enumerate*}\n",
       "\\item 25273\n",
       "\\item 609\n",
       "\\end{enumerate*}\n"
      ],
      "text/markdown": [
       "1. 25273\n",
       "2. 609\n",
       "\n",
       "\n"
      ],
      "text/plain": [
       "[1] 25273   609"
      ]
     },
     "metadata": {},
     "output_type": "display_data"
    }
   ],
   "source": [
    "# Prep count data\n",
    "\n",
    "# set.seed(1)\n",
    "# y <- DGEList(counts[sample(1:nrow(counts), size=100),])\n",
    " \n",
    "y <- DGEList(counts) \n",
    "keep <- filterByExpr(y, group=sample_meta$Cell_type)\n",
    "y <- y[keep,, keep.lib.sizes=FALSE]\n",
    "dim(y$counts)"
   ]
  },
  {
   "cell_type": "code",
   "execution_count": 88,
   "id": "12995d02",
   "metadata": {
    "vscode": {
     "languageId": "r"
    }
   },
   "outputs": [],
   "source": [
    "y <- calcNormFactors(y)"
   ]
  },
  {
   "cell_type": "code",
   "execution_count": 95,
   "id": "c92a2da4",
   "metadata": {
    "vscode": {
     "languageId": "r"
    }
   },
   "outputs": [],
   "source": [
    "ctypes <- unique(sample_meta$Cell_type)\n",
    "ctype_levels <- levels(factor(ctypes))"
   ]
  },
  {
   "cell_type": "markdown",
   "id": "e77219e7",
   "metadata": {
    "vscode": {
     "languageId": "r"
    }
   },
   "source": [
    "## 1 vs. pooled test"
   ]
  },
  {
   "cell_type": "markdown",
   "id": "701b5228",
   "metadata": {},
   "source": [
    "Compare gene expression between target cell type and a pool of all other cell types"
   ]
  },
  {
   "cell_type": "code",
   "execution_count": 97,
   "id": "f20813e4",
   "metadata": {
    "vscode": {
     "languageId": "r"
    }
   },
   "outputs": [],
   "source": [
    "form <- ~ Test + (1|Sex) + (1|Age) + (1|Donor)"
   ]
  },
  {
   "cell_type": "code",
   "execution_count": null,
   "id": "8ce591f9",
   "metadata": {
    "vscode": {
     "languageId": "r"
    }
   },
   "outputs": [],
   "source": [
    "# Note: this takes 2+ days\n",
    "\n",
    "pool_res <- vector(mode=\"list\", length=length(ctypes))\n",
    "names(pool_res) <- ctypes\n",
    "\n",
    "for (target in ctypes) {\n",
    "    print(paste(target, \"vs. rest\"))\n",
    "    sample_meta$Test <- ifelse(\n",
    "        sample_meta$Cell_type == target, target, \"Rest\"\n",
    "    )\n",
    "    vobj <- voomWithDreamWeights(y, form, sample_meta, BPPARAM=param)\n",
    "    fit <- dream(vobj, form, sample_meta, BPPARAM=param)\n",
    "    fit <- eBayes(fit)\n",
    "    pool_res[target] <- topTable(fit)\n",
    "}"
   ]
  },
  {
   "cell_type": "code",
   "execution_count": null,
   "id": "c603aa90",
   "metadata": {
    "vscode": {
     "languageId": "r"
    }
   },
   "outputs": [],
   "source": [
    "saveRDS(pool_res, file=\"data/tasic_2018_ALM_STAR_donor_cell_type_pseudobulk_1_vs_pooled_DE_genes.RDS\")"
   ]
  },
  {
   "cell_type": "code",
   "execution_count": null,
   "id": "27614d3b",
   "metadata": {
    "vscode": {
     "languageId": "r"
    }
   },
   "outputs": [],
   "source": [
    "# contrast <- paste0(\"Test\", target, \" - TestRest\")\n",
    "# names(contrast) <- paste0(target, \"_vs_rest\")\n",
    "# L <- makeContrastsDream(form, sample_meta,\n",
    "#   contrasts = contrast\n",
    "# )\n",
    "# plotContrasts(L)"
   ]
  },
  {
   "cell_type": "markdown",
   "id": "736018af",
   "metadata": {},
   "source": [
    "## Pairwise tests"
   ]
  },
  {
   "cell_type": "code",
   "execution_count": null,
   "id": "94df8c2d",
   "metadata": {
    "vscode": {
     "languageId": "r"
    }
   },
   "outputs": [],
   "source": [
    "form <- ~ 0 + Cell_type + Sex + Age + (1 | Donor)\n",
    "vobj <- voomWithDreamWeights(y, form, sample_meta, BPPARAM=param)"
   ]
  },
  {
   "cell_type": "code",
   "execution_count": null,
   "id": "e8ae26f2",
   "metadata": {
    "vscode": {
     "languageId": "r"
    }
   },
   "outputs": [],
   "source": [
    "others <- setdiff(ctype_levels, target)\n",
    "K <- length(others)\n",
    "test <- paste0(paste0(\"Cell_type\", target, \" - (\"), paste0(\"Cell_type\", others, collapse = \" + \"), \")/\", K)\n",
    "names(test) <- paste0(target, \"_vs_all\")"
   ]
  },
  {
   "cell_type": "code",
   "execution_count": null,
   "id": "4ef86232",
   "metadata": {
    "vscode": {
     "languageId": "r"
    }
   },
   "outputs": [],
   "source": [
    "L <- makeContrastsDream(form, sample_meta, contrasts=test)\n",
    "fit <- dream(vobj, form, sample_meta, L, BPPARAM=param)"
   ]
  },
  {
   "cell_type": "code",
   "execution_count": null,
   "id": "6293e64e",
   "metadata": {
    "vscode": {
     "languageId": "r"
    }
   },
   "outputs": [],
   "source": [
    "pairwise_res <- lapply(seq_len(ncol(L)), function(i) \n",
    "    topTable(fit, coef=i)\n",
    ")\n",
    "names(pairwise_res) <- colnames(L)"
   ]
  },
  {
   "cell_type": "code",
   "execution_count": null,
   "id": "feba7262",
   "metadata": {
    "vscode": {
     "languageId": "r"
    }
   },
   "outputs": [],
   "source": [
    "head(pairwise_res[1])"
   ]
  },
  {
   "cell_type": "code",
   "execution_count": null,
   "id": "6d27311f",
   "metadata": {
    "vscode": {
     "languageId": "r"
    }
   },
   "outputs": [],
   "source": [
    "# # 3b) extract per-contrast results\n",
    "# P2   <- do.call(cbind, lapply(res_list, `[[`, \"P.Value\"))  # two-sided p\n",
    "# LFC  <- do.call(cbind, lapply(res_list, `[[`, \"logFC\"))"
   ]
  },
  {
   "cell_type": "code",
   "execution_count": null,
   "id": "499d7fe3",
   "metadata": {
    "vscode": {
     "languageId": "r"
    }
   },
   "outputs": [],
   "source": [
    "saveRDS(pairwise_res, file=\"data/tasic_2018_ALM_STAR_donor_cell_type_pseudobulk_pairwise_DE_genes.RDS\")"
   ]
  }
 ],
 "metadata": {
  "kernelspec": {
   "display_name": "R (dream)",
   "language": "R",
   "name": "dream"
  },
  "language_info": {
   "codemirror_mode": "r",
   "file_extension": ".r",
   "mimetype": "text/x-r-source",
   "name": "R",
   "pygments_lexer": "r",
   "version": "4.5.1"
  }
 },
 "nbformat": 4,
 "nbformat_minor": 5
}
