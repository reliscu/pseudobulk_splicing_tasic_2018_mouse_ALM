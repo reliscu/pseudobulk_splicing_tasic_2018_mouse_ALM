{
 "cells": [
  {
   "cell_type": "code",
   "execution_count": null,
   "id": "79b8f93f",
   "metadata": {
    "vscode": {
     "languageId": "r"
    }
   },
   "outputs": [],
   "source": [
    "# conda activate dream\n",
    "\n",
    "library(edgeR)\n",
    "library(parallelly)\n",
    "library(data.table)\n",
    "library(BiocParallel)\n",
    "library(variancePartition)\n",
    "\n",
    "setwd(\"/mnt/lareaulab/reliscu/projects/NSF_GRFP/analyses/pseudobulk_test/tasic_2018/mouse_ALM\")"
   ]
  },
  {
   "cell_type": "code",
   "execution_count": null,
   "id": "af3f0a22",
   "metadata": {
    "vscode": {
     "languageId": "r"
    }
   },
   "outputs": [],
   "source": [
    "Sys.setenv(OPENBLAS_NUM_THREADS=\"1\", OMP_NUM_THREADS=\"1\", MKL_NUM_THREADS=\"1\")\n",
    "if (requireNamespace(\"RhpcBLASctl\", quietly=TRUE)) {\n",
    "  RhpcBLASctl::blas_set_num_threads(1)\n",
    "  RhpcBLASctl::omp_set_num_threads(1)\n",
    "}\n",
    "\n",
    "param <- SnowParam(workers=6, type=\"SOCK\", progressbar=TRUE)"
   ]
  },
  {
   "cell_type": "markdown",
   "id": "c7a10101",
   "metadata": {},
   "source": [
    "Here I run DE analysis on the pseudobulked cell type data"
   ]
  },
  {
   "cell_type": "code",
   "execution_count": 4,
   "id": "4b0e2b31",
   "metadata": {
    "vscode": {
     "languageId": "r"
    }
   },
   "outputs": [],
   "source": [
    "counts <- fread(\"data/tasic_2018_ALM_STAR_donor_cell_type_pseudobulk.csv\", data.table=FALSE)\n",
    "sample_meta <- fread(\"data/tasic_2018_ALM_STAR_donor_cell_type_pseudobulk_sampleinfo.csv\", data.table=FALSE)\n",
    "\n",
    "# Add sex and age info. to metadata\n",
    "sample_meta$Row <- 1:nrow(sample_meta)\n",
    "donor_meta <- fread(\"/mnt/lareaulab/reliscu/projects/NSF_GRFP/data/scRNA-seq/tasic_2018/tasic_2018_tableS10_sampleinfo_donor_level.csv\")\n",
    "sample_meta <- merge(sample_meta, donor_meta[,1:3], by.x=\"Donor\", by.y=\"Animal ID\", all.x=TRUE, sort=FALSE)\n",
    "sample_meta <- sample_meta[order(sample_meta$Row),] # Keep original row order\n",
    "rownames(sample_meta) <- sample_meta$Sample_ID\n",
    "\n",
    "# Reformat cell type names\n",
    "sample_meta$Cell_type <- sapply(sample_meta$Cell_type, function(x) gsub(\" \", \"_\", x))\n",
    "sample_meta$Cell_type <- sapply(sample_meta$Cell_type, function(x) gsub(\"/\", \"_\", x, fixed=TRUE))\n",
    "\n",
    "# Center age\n",
    "sample_meta$Age_c <- as.numeric(scale(sample_meta$Age, center=TRUE, scale=FALSE))"
   ]
  },
  {
   "cell_type": "code",
   "execution_count": 5,
   "id": "feb3888f",
   "metadata": {
    "vscode": {
     "languageId": "r"
    }
   },
   "outputs": [
    {
     "name": "stderr",
     "output_type": "stream",
     "text": [
      "Setting first column of `counts` as gene annotation.\n",
      "\n"
     ]
    },
    {
     "name": "stdout",
     "output_type": "stream",
     "text": [
      "[1] 25273   609\n"
     ]
    }
   ],
   "source": [
    "# Prep count data\n",
    "\n",
    "y <- DGEList(counts) \n",
    "keep <- filterByExpr(y, group=sample_meta$Cell_type)\n",
    "y <- y[keep,, keep.lib.sizes=FALSE]\n",
    "print(dim(y$counts))\n",
    "y <- calcNormFactors(y)"
   ]
  },
  {
   "cell_type": "code",
   "execution_count": 6,
   "id": "8632de18",
   "metadata": {
    "vscode": {
     "languageId": "r"
    }
   },
   "outputs": [],
   "source": [
    "ctypes <- unique(sample_meta$Cell_type)\n",
    "ctype_levels <- levels(factor(ctypes))"
   ]
  },
  {
   "cell_type": "code",
   "execution_count": 7,
   "id": "0af28c26",
   "metadata": {
    "vscode": {
     "languageId": "r"
    }
   },
   "outputs": [],
   "source": [
    "# # Subset data for testing\n",
    "\n",
    "# set.seed(1)\n",
    "# sample_idx <- sample(1:nrow(sample_meta), size=200)\n",
    "# sample_meta <- sample_meta[sample_idx,]\n",
    "# counts_subset <- counts[sample(1:nrow(counts), size=1000), c(1, sample_idx + 1)]\n",
    "\n",
    "# y <- DGEList(counts_subset)\n",
    "# keep <- filterByExpr(y, group=sample_meta$Cell_type)\n",
    "# y <- y[keep,, keep.lib.sizes=FALSE]\n",
    "# dim(y$counts)\n",
    "# y <- calcNormFactors(y)\n",
    "\n",
    "# ctypes <- unique(sample_meta$Cell_type)\n",
    "# ctype_levels <- levels(factor(ctypes))"
   ]
  },
  {
   "cell_type": "markdown",
   "id": "e77219e7",
   "metadata": {
    "vscode": {
     "languageId": "r"
    }
   },
   "source": [
    "## 1 vs. pooled test"
   ]
  },
  {
   "cell_type": "markdown",
   "id": "701b5228",
   "metadata": {},
   "source": [
    "Compare gene expression between target cell type all other cell types pooled"
   ]
  },
  {
   "cell_type": "code",
   "execution_count": 8,
   "id": "8ce591f9",
   "metadata": {
    "vscode": {
     "languageId": "r"
    }
   },
   "outputs": [],
   "source": [
    "# # Note: this takes several days\n",
    "\n",
    "# form <- ~ Test + Sex + Age_c + (1 | Donor)\n",
    "\n",
    "# pool_res <- lapply(ctypes, function(target) {\n",
    "#     print(paste(target, \"vs. rest\"))\n",
    "#     sample_meta$Test <- ifelse(\n",
    "#         sample_meta$Cell_type == target, target, \"Rest\"\n",
    "#     )\n",
    "#     vobj <- voomWithDreamWeights(y, form, sample_meta, BPPARAM=param)\n",
    "#     fit <- dream(vobj, form, sample_meta, BPPARAM=param)\n",
    "#     # fit <- eBayes(fit)\n",
    "#     topTable(fit, number=Inf, p.value=0.05)\n",
    "# })\n",
    "# names(pool_res) <- ctypes\n",
    "\n",
    "# saveRDS(pool_res, file=\"data/tasic_2018_ALM_STAR_donor_cell_type_pseudobulk_1_vs_pooled_DE_genes_dream.RDS\")"
   ]
  },
  {
   "cell_type": "markdown",
   "id": "40e2dd09",
   "metadata": {},
   "source": [
    "## Pairwise tests / 1 vs. mean(others) tests"
   ]
  },
  {
   "cell_type": "markdown",
   "id": "d68b888e",
   "metadata": {
    "vscode": {
     "languageId": "r"
    }
   },
   "source": [
    "Compare model coefficients expression between:\n",
    "\n",
    "1. Each target cell type each other cell type (pairwise)\n",
    "2. "
   ]
  },
  {
   "cell_type": "code",
   "execution_count": 9,
   "id": "db5a18e0",
   "metadata": {
    "vscode": {
     "languageId": "r"
    }
   },
   "outputs": [],
   "source": [
    "form <- ~ 0 + Cell_type + Sex + Age_c + (1 | Donor)\n",
    "vobj <- voomWithDreamWeights(y, form, sample_meta, BPPARAM=param)"
   ]
  },
  {
   "cell_type": "code",
   "execution_count": 65,
   "id": "c842dc2e",
   "metadata": {
    "vscode": {
     "languageId": "r"
    }
   },
   "outputs": [],
   "source": [
    "form_fixed <- ~ 0 + Cell_type + Sex + Age_c\n",
    "coef_names <- colnames(model.matrix(form_fixed, data=sample_meta))\n",
    "\n",
    "ctype_coef_names <- coef_names[-c(length(coef_names)-1, length(coef_names))]\n",
    "ctype_pairs <- combn(ctype_coef_names, m=2) \n",
    "\n",
    "L_list <- lapply(1:ncol(ctype_pairs), function(idx) {\n",
    "    pair <- ctype_pairs[,idx]\n",
    "    ctype1 <- gsub(\"Cell_type\", \"\", pair[1])\n",
    "    ctype2 <- gsub(\"Cell_type\", \"\", pair[2])\n",
    "    L <- matrix(\n",
    "        0, nrow=length(coef_names), ncol=1, \n",
    "        dimnames=list(coef_names, paste0(ctype1, \"_vs_\", ctype2))\n",
    "    )\n",
    "    L[pair[1], 1] <-  1\n",
    "    L[pair[2], 1] <- -1\n",
    "    L\n",
    "})\n",
    "L <- do.call(cbind, L_list)"
   ]
  },
  {
   "cell_type": "code",
   "execution_count": null,
   "id": "8f5868d7",
   "metadata": {
    "vscode": {
     "languageId": "r"
    }
   },
   "outputs": [],
   "source": [
    "# Batching contrasts\n",
    "\n",
    "# Running on compute4 (screen on compute3)\n",
    "\n",
    "idx_list <- split(seq_len(ncol(L)), ceiling(seq_along(seq_len(ncol(L))) / 100))\n",
    "res_list <- vector(\"list\", length(idx_list))\n",
    "\n",
    "for (i in seq_along(idx_list)) {\n",
    "    print(paste(\"Starting batch\", i))\n",
    "    idx <- idx_list[[i]]\n",
    "    Lsub <- L[,idx, drop=FALSE]\n",
    "    fit  <- dream(vobj, form, sample_meta, L=Lsub, BPPARAM=param)\n",
    "    batch_res <- lapply(colnames(Lsub), function(test) {\n",
    "        tt <- topTable(fit, coef=test, number=Inf, p.value=0.05)\n",
    "        tt$Test <- test\n",
    "        tt\n",
    "    })\n",
    "    res_list[[i]] <- do.call(rbind, batch_res)\n",
    "    rm(fit); gc()\n",
    "}\n",
    "all_res <- do.call(rbind, unlist(res_list, recursive=FALSE))"
   ]
  },
  {
   "cell_type": "code",
   "execution_count": null,
   "id": "7db467aa",
   "metadata": {
    "vscode": {
     "languageId": "r"
    }
   },
   "outputs": [],
   "source": [
    "saveRDS(res_list, file=\"data/tasic_2018_ALM_STAR_donor_cell_type_pseudobulk_pairwise_DE_genes_dream.RDS\")"
   ]
  },
  {
   "cell_type": "code",
   "execution_count": null,
   "id": "65865c49",
   "metadata": {
    "vscode": {
     "languageId": "r"
    }
   },
   "outputs": [],
   "source": [
    "# res_list <- vector(mode=\"list\", length=length(ctypes))\n",
    "# names(res_list) <- ctypes\n",
    "\n",
    "# for (target in ctypes) {\n",
    "#     print(paste(\"Starting\", target))\n",
    "\n",
    "#     # Test multiple contrasts at once:\n",
    "#     L <- cbind(\n",
    "#         make_pairwise_contrasts(target),\n",
    "#         make_mean_contrasts(target)\n",
    "#     )\n",
    "#     fit <- dream(vobj, form, sample_meta, L=L, BPPARAM=param)\n",
    "#     fit <- eBayes(fit)\n",
    "\n",
    "#     # Extract results\n",
    "#     ctype_res_list <- lapply(colnames(L), function(test) {\n",
    "#         tt <- topTable(fit, coef=test, number=Inf, p.value=0.05)\n",
    "#         tt$Test <- test\n",
    "#         tt\n",
    "#     })\n",
    "#     res_list[[target]] <- do.call(rbind, ctype_res_list)\n",
    "\n",
    "# }\n",
    "\n",
    "# saveRDS(mean_res, file=\"data/tasic_2018_ALM_STAR_donor_cell_type_pseudobulk_multi_test_DE_genes_dream.RDS\")"
   ]
  },
  {
   "cell_type": "markdown",
   "id": "f1c08544",
   "metadata": {},
   "source": [
    "# 1 vs. mean(others) tests"
   ]
  },
  {
   "cell_type": "markdown",
   "id": "ca897438",
   "metadata": {},
   "source": [
    "Compare model coefficients between each target cell type and the average of the other cell types (this approach is invariant to cell type composition, unlike the pooled approach)"
   ]
  },
  {
   "cell_type": "code",
   "execution_count": null,
   "id": "4a401f32",
   "metadata": {
    "vscode": {
     "languageId": "r"
    }
   },
   "outputs": [],
   "source": [
    "# Make a 1 vs. mean(others) contrast matrix\n",
    "\n",
    "form_fixed <- ~ 0 + Cell_type + Sex + Age_c\n",
    "coef_names <- colnames(model.matrix(form_fixed, data=sample_meta))\n",
    "\n",
    "make_mean_contrast <- function(target, ctype_levels){\n",
    "  others <- setdiff(ctype_levels, target)\n",
    "  K <- length(others)\n",
    "  L <- matrix(0, length(coef_names), 1, dimnames=list(coef_names, paste0(target, \"_vs_meanOthers\")))\n",
    "  L[paste0(\"Cell_type\", make.names(target)), 1] <-  1\n",
    "  L[paste0(\"Cell_type\", make.names(others)), 1] <- -1/K\n",
    "  L\n",
    "}"
   ]
  },
  {
   "cell_type": "code",
   "execution_count": null,
   "id": "f4514dcd",
   "metadata": {
    "vscode": {
     "languageId": "r"
    }
   },
   "outputs": [],
   "source": [
    "\n",
    "fit  <- dream(vobj, form, sample_meta, L=Lsub, BPPARAM=param)"
   ]
  }
 ],
 "metadata": {
  "kernelspec": {
   "display_name": "R (dream)",
   "language": "R",
   "name": "dream"
  },
  "language_info": {
   "codemirror_mode": "r",
   "file_extension": ".r",
   "mimetype": "text/x-r-source",
   "name": "R",
   "pygments_lexer": "r",
   "version": "4.5.1"
  }
 },
 "nbformat": 4,
 "nbformat_minor": 5
}
