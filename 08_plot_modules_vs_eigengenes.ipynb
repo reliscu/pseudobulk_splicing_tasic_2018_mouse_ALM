{
 "cells": [
  {
   "cell_type": "code",
   "execution_count": null,
   "id": "b7c6fcb1",
   "metadata": {
    "vscode": {
     "languageId": "plaintext"
    }
   },
   "outputs": [],
   "source": []
  },
  {
   "cell_type": "markdown",
   "id": "f07d8540",
   "metadata": {},
   "source": [
    "As an extra layer to verify enriched modules actually represent a given cell type, plot cell type abundance vs. the module eigengene"
   ]
  },
  {
   "cell_type": "code",
   "execution_count": null,
   "id": "00c49056",
   "metadata": {
    "vscode": {
     "languageId": "plaintext"
    }
   },
   "outputs": [],
   "source": []
  }
 ],
 "metadata": {
  "language_info": {
   "name": "python"
  }
 },
 "nbformat": 4,
 "nbformat_minor": 5
}
