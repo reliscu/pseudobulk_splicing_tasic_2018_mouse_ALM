{
 "cells": [
  {
   "cell_type": "code",
   "execution_count": 3,
   "id": "b7c6fcb1",
   "metadata": {
    "vscode": {
     "languageId": "r"
    }
   },
   "outputs": [
    {
     "name": "stderr",
     "output_type": "stream",
     "text": [
      "\n",
      "Attaching package: ‘dplyr’\n",
      "\n",
      "\n",
      "The following objects are masked from ‘package:stats’:\n",
      "\n",
      "    filter, lag\n",
      "\n",
      "\n",
      "The following objects are masked from ‘package:base’:\n",
      "\n",
      "    intersect, setdiff, setequal, union\n",
      "\n",
      "\n",
      "\n",
      "Attaching package: ‘data.table’\n",
      "\n",
      "\n",
      "The following objects are masked from ‘package:dplyr’:\n",
      "\n",
      "    between, first, last\n",
      "\n",
      "\n"
     ]
    }
   ],
   "source": [
    "library(dplyr)\n",
    "library(ggplot2)\n",
    "library(data.table)\n",
    "\n",
    "setwd(\"/mnt/lareaulab/reliscu/projects/NSF_GRFP/analyses/pseudobulk_test/tasic_2018/mouse_ALM\")\n",
    "\n",
    "source(\"/mnt/lareaulab/reliscu/code/ggplot_theme.R\")\n",
    "\n",
    "theme_set(default_theme())"
   ]
  },
  {
   "cell_type": "markdown",
   "id": "f07d8540",
   "metadata": {},
   "source": [
    "Verify enriched modules actually represent a given cell type by plotting cell type abundance vs. the module eigengene"
   ]
  },
  {
   "cell_type": "code",
   "execution_count": null,
   "id": "a949ebf4",
   "metadata": {
    "vscode": {
     "languageId": "r"
    }
   },
   "outputs": [],
   "source": [
    "get_top_corr_mods <- function(network_dir, pseudobulk_legend, top_qval_mods_df) {\n",
    "    top_corr_mods_list <- vector(mode=\"list\", length=length(ctypes))\n",
    "\n",
    "    for (i in seq_along(ctypes)) {\n",
    "        # Get working cell type proportion in each sample\n",
    "        mask <- pseudobulk_legend$Cell.type == ctypes[i]\n",
    "        n_cells_per_sample <- colSums(pseudobulk_legend[mask, -c(1, 2)])\n",
    "        frac_per_sample <- n_cells_per_sample/nrow(pseudobulk_legend) \n",
    "\n",
    "        if (var(frac_per_sample) > 0) {\n",
    "            # Get most enriched cell type module\n",
    "            old_mod <- top_qval_mods_df$Module[i]\n",
    "            ME_df <- fread(top_qval_mods_df$ME_path[i], data.table=FALSE)\n",
    "            ME_vec <- ME_df[,grep(paste0(\"^\", mod, \"$\"), colnames(ME_df))]\n",
    "            old_corr <- cor(frac_per_sample, ME_vec)\n",
    "\n",
    "            # Traverse networks to find module most correlated to cell type abundance\n",
    "            networks <- list.dirs(file.path(getwd(), network_dir), full.names=TRUE, recursive=FALSE)\n",
    "            networks <- networks[lengths(lapply(networks, list.files)) > 0]\n",
    "            ME_corrs_list <- lapply(seq_along(networks), function(j) {\n",
    "                ME_path <- list.files(networks[j])[grep(\"eigengene\", list.files(networks[j]))]\n",
    "                ME_df <- fread(file.path(networks[j], ME_path), data.table=FALSE)\n",
    "\n",
    "                ME_corrs <- apply(ME_df[,-1, drop=FALSE], 2, function(ME) {\n",
    "                    cor(ME, frac_per_sample)\n",
    "                })\n",
    "\n",
    "                new_mod <- names(which.max(ME_corrs))\n",
    "                new_corr <- ME_corrs[which.max(ME_corrs)]\n",
    "                \n",
    "                # Save the network the module came from\n",
    "                network_id <- sapply(strsplit(networks[j], \"/\"), function(x) x[length(x)])\n",
    "                \n",
    "                data.frame(\n",
    "                    Cell_type=ctypes[i],\n",
    "                    Cor=new_corr,\n",
    "                    Old_cor=old_corr,\n",
    "                    Module=new_mod,\n",
    "                    Old_module=old_mod,\n",
    "                    Network=network_id,\n",
    "                    Old_network=top_qval_mods_df$Network[i],\n",
    "                    Pseudobulk_SD=round(sd(n_cells_per_sample), 2),\n",
    "                    New_ME_path=file.path(networks[i], ME_path)\n",
    "                )\n",
    "            })\n",
    "            ME_corrs <- do.call(rbind, ME_corrs_list)\n",
    "            \n",
    "            top_corr_mods_list[[i]] <- ME_corrs %>%\n",
    "                arrange(Network, Module) %>%\n",
    "                slice_max(Cor, with_ties=F)\n",
    "        }\n",
    "    }\n",
    "\n",
    "    top_corr_mods_df <- do.call(rbind, top_corr_mods_list)\n",
    "    top_corr_mods_df %>%\n",
    "        arrange(Cor)\n",
    "}\n",
    "\n",
    "plot_ctype_abundance_vs_ME <- function(pseudobulk_legend, top_qval_mods_df) {\n",
    "    ctypes <- unique(pseudobulk_legend$Cell.type)\n",
    "\n",
    "    for (i in seq_along(ctypes)) {\n",
    "        # Get cell type proportion in each sample\n",
    "        mask <- pseudobulk_legend$Cell.type == ctypes[i]\n",
    "        n_cells_per_sample <- colSums(pseudobulk_legend[mask, -c(1, 2)])\n",
    "        frac_per_sample <- n_cells_per_sample/nrow(pseudobulk_legend) \n",
    "\n",
    "        # Get eigengene from most enriched cell type module\n",
    "        mod <- top_qval_mods_df$Module[i]\n",
    "        ME_df <- fread(top_qval_mods_df$ME_path[i], data.table=FALSE)\n",
    "        ME_vec <- ME_df[,grep(paste0(\"^\", mod, \"$\"), colnames(ME_df))]\n",
    "\n",
    "        df <- data.frame(Frac=frac_per_sample, ME=ME_vec)\n",
    "\n",
    "        subtitle <- paste(\n",
    "            top_qval_mods_df$Module[i], top_qval_mods_df$Network_short[i], \"\\n\",\n",
    "            \"Cor:\", round(cor(frac_per_sample, ME_vec), 2), \"\\n\",\n",
    "            \"Qval =\", formatC(top_qval_mods_df$Qval[i], format=\"e\", digits=1) \n",
    "        )\n",
    "\n",
    "        # Plot cell type proportion vs. module eigengene\n",
    "        \n",
    "        print(\n",
    "            ggplot(df, aes(x=Frac*100, y=ME)) +\n",
    "                geom_point() +\n",
    "                theme(\n",
    "                    plot.title=element_text(hjust=0.5),\n",
    "                    plot.subtitle=element_text(hjust=0.5),\n",
    "                    axis.title.x=element_text(size=14),\n",
    "                    axis.title.y=element_text(size=14)\n",
    "                ) +\n",
    "                labs(\n",
    "                    title=ctypes[i], \n",
    "                    subtitle=subtitle\n",
    "                ) +\n",
    "                xlab(\"% cells per sample\") +\n",
    "                ylab(\"Module eigengene\")\n",
    "        )\n",
    "    }\n",
    "    \n",
    "}"
   ]
  },
  {
   "cell_type": "markdown",
   "id": "bb4b8eaa",
   "metadata": {},
   "source": [
    "# Round 2 enrichment results (only using unique DE genes, PosFDR module definiton)"
   ]
  },
  {
   "cell_type": "code",
   "execution_count": null,
   "id": "27b89252",
   "metadata": {
    "vscode": {
     "languageId": "r"
    }
   },
   "outputs": [],
   "source": [
    "network_dir <- \"tasic_2018_ALM_STAR_20pcntCells_0.4pcntVar_200samples_log2_pseudobulk_Modules\"\n",
    "\n",
    "pseudobulk_legend <- read.csv(\"data/SyntheticDatasets/SyntheticDataset1_20pcntCells_0.4pcntVar_200samples_legend_07-25-48.csv\")\n",
    "pseudobulk_legend$Cell.type <- gsub(\"/\", \"_\", pseudobulk_legend$Cell.type, fixed=TRUE)\n",
    "pseudobulk_legend$Cell.type <- gsub(\" \", \"_\", pseudobulk_legend$Cell.type)\n",
    "\n",
    "top_qval_mods_df <- read.csv(\"data/tasic_2018_ALM_STAR_donor_cell_type_pseudobulk_DE_genes_dream_unique_markers_top_Qval_module.csv\")"
   ]
  },
  {
   "cell_type": "code",
   "execution_count": null,
   "id": "c055592a",
   "metadata": {
    "vscode": {
     "languageId": "r"
    }
   },
   "outputs": [],
   "source": [
    "plot_ctype_abundance_vs_ME(pseudobulk_legend, top_qval_mods_df)"
   ]
  },
  {
   "cell_type": "markdown",
   "id": "89611b4a",
   "metadata": {},
   "source": [
    "### For (poorly correlated) cell types, see if there exists any module(s) to which they are correlated:"
   ]
  },
  {
   "cell_type": "code",
   "execution_count": null,
   "id": "490aac0a",
   "metadata": {
    "vscode": {
     "languageId": "r"
    }
   },
   "outputs": [],
   "source": [
    "# For each (poorly correlated) cell types, see if there exists any module(s) to which they are correlated:\n",
    "\n",
    "top_corr_mods_df <- get_top_corr_mods(network_dir, pseudobulk_legend, top_qval_mods_df)"
   ]
  },
  {
   "cell_type": "code",
   "execution_count": null,
   "id": "329c7934",
   "metadata": {
    "vscode": {
     "languageId": "r"
    }
   },
   "outputs": [],
   "source": [
    "top_corr_mods_df"
   ]
  },
  {
   "cell_type": "markdown",
   "id": "71a3b5e2",
   "metadata": {},
   "source": [
    "# Round 3 enrichment results (only using unique DE genes, PosBC module definiton)"
   ]
  },
  {
   "cell_type": "code",
   "execution_count": null,
   "id": "23ea7aba",
   "metadata": {
    "vscode": {
     "languageId": "r"
    }
   },
   "outputs": [],
   "source": [
    "network_dir <- \"tasic_2018_ALM_STAR_20pcntCells_0.4pcntVar_200samples_log2_pseudobulk_Modules\"\n",
    "\n",
    "pseudobulk_legend <- read.csv(\"data/SyntheticDatasets/SyntheticDataset1_20pcntCells_0.4pcntVar_200samples_legend_07-25-48.csv\")\n",
    "pseudobulk_legend$Cell.type <- gsub(\"/\", \"_\", pseudobulk_legend$Cell.type, fixed=TRUE)\n",
    "pseudobulk_legend$Cell.type <- gsub(\" \", \"_\", pseudobulk_legend$Cell.type)\n",
    "\n",
    "top_qval_mods_df <- read.csv(\"data/tasic_2018_ALM_STAR_donor_cell_type_pseudobulk_DE_genes_dream_unique_20pcntCells_0.4pcntVar_200samples_log2_pseudobulk_PosBC_top_Qval_modules.csv\")"
   ]
  },
  {
   "cell_type": "code",
   "execution_count": null,
   "id": "b9325a97",
   "metadata": {
    "vscode": {
     "languageId": "r"
    }
   },
   "outputs": [],
   "source": [
    "plot_ctype_abundance_vs_ME(pseudobulk_legend, top_qval_mods_df)"
   ]
  },
  {
   "cell_type": "code",
   "execution_count": null,
   "id": "bca892d6",
   "metadata": {
    "vscode": {
     "languageId": "r"
    }
   },
   "outputs": [],
   "source": [
    "top_corr_mods_df <- get_top_corr_mods(network_dir, pseudobulk_legend, top_qval_mods_df)\n",
    "top_corr_mods_df"
   ]
  },
  {
   "cell_type": "markdown",
   "id": "15f4cc16",
   "metadata": {},
   "source": [
    "# Round 4 (new network; PosBC module definition)"
   ]
  },
  {
   "cell_type": "code",
   "execution_count": null,
   "id": "81a2b55b",
   "metadata": {
    "vscode": {
     "languageId": "r"
    }
   },
   "outputs": [],
   "source": [
    "network_dir <- \"tasic_2018_ALM_STAR_30pcntCells_50pcntVar_200samples_log2_pseudobulk_Modules\"\n",
    "\n",
    "pseudobulk_legend <- read.csv(\"data/SyntheticDatasets/SyntheticDataset1_30pcntCells_50pcntVar_200samples_legend_05-16-36.csv\")\n",
    "pseudobulk_legend$Cell.type <- gsub(\"/\", \"_\", pseudobulk_legend$Cell.type, fixed=TRUE)\n",
    "pseudobulk_legend$Cell.type <- gsub(\" \", \"_\", pseudobulk_legend$Cell.type)\n",
    "\n",
    "top_qval_mods_df <- read.csv(\"data/tasic_2018_ALM_STAR_donor_cell_type_pseudobulk_DE_genes_dream_unique_30pcntCells_50pcntVar_200samples_log2_pseudobulk_PosBC_top_Qval_modules.csv\")"
   ]
  },
  {
   "cell_type": "code",
   "execution_count": null,
   "id": "3bc2323a",
   "metadata": {
    "vscode": {
     "languageId": "r"
    }
   },
   "outputs": [],
   "source": [
    "plot_ctype_abundance_vs_ME(pseudobulk_legend, top_qval_mods_df)"
   ]
  },
  {
   "cell_type": "code",
   "execution_count": null,
   "id": "1ecb7601",
   "metadata": {
    "vscode": {
     "languageId": "r"
    }
   },
   "outputs": [],
   "source": [
    "top_corr_mods_df <- get_top_corr_mods(network_dir, pseudobulk_legend, top_qval_mods_df)\n",
    "top_corr_mods_df"
   ]
  },
  {
   "cell_type": "markdown",
   "id": "7b53c911",
   "metadata": {},
   "source": [
    "# Round 5 (new network; PosFDR module definition)"
   ]
  },
  {
   "cell_type": "code",
   "execution_count": null,
   "id": "bf321c52",
   "metadata": {
    "vscode": {
     "languageId": "r"
    }
   },
   "outputs": [],
   "source": [
    "network_dir <- \"tasic_2018_ALM_STAR_30pcntCells_50pcntVar_200samples_log2_pseudobulk_Modules\"\n",
    "\n",
    "pseudobulk_legend <- read.csv(\"data/SyntheticDatasets/SyntheticDataset1_30pcntCells_50pcntVar_200samples_legend_05-16-36.csv\")\n",
    "pseudobulk_legend$Cell.type <- gsub(\"/\", \"_\", pseudobulk_legend$Cell.type, fixed=TRUE)\n",
    "pseudobulk_legend$Cell.type <- gsub(\" \", \"_\", pseudobulk_legend$Cell.type)\n",
    "\n",
    "top_qval_mods_df <- read.csv(\"data/tasic_2018_ALM_STAR_donor_cell_type_pseudobulk_DE_genes_dream_30pcntCells_50pcntVar_200samples_log2_pseudobulk_PosFDR_top_Qval_modules.csv\")"
   ]
  },
  {
   "cell_type": "code",
   "execution_count": null,
   "id": "b27a06b1",
   "metadata": {
    "vscode": {
     "languageId": "r"
    }
   },
   "outputs": [],
   "source": [
    "plot_ctype_abundance_vs_ME(pseudobulk_legend, top_qval_mods_df)"
   ]
  },
  {
   "cell_type": "code",
   "execution_count": null,
   "id": "89cfde8a",
   "metadata": {
    "vscode": {
     "languageId": "r"
    }
   },
   "outputs": [],
   "source": [
    "top_corr_mods_df <- get_top_corr_mods(network_dir, pseudobulk_legend, top_qval_mods_df)\n",
    "top_corr_mods_df"
   ]
  }
 ],
 "metadata": {
  "kernelspec": {
   "display_name": "R",
   "language": "R",
   "name": "ir"
  },
  "language_info": {
   "codemirror_mode": "r",
   "file_extension": ".r",
   "mimetype": "text/x-r-source",
   "name": "R",
   "pygments_lexer": "r",
   "version": "4.3.3"
  }
 },
 "nbformat": 4,
 "nbformat_minor": 5
}
