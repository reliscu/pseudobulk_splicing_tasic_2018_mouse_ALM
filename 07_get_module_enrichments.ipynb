{
 "cells": [
  {
   "cell_type": "code",
   "execution_count": 1,
   "id": "dc32d0f1",
   "metadata": {
    "vscode": {
     "languageId": "r"
    }
   },
   "outputs": [
    {
     "name": "stderr",
     "output_type": "stream",
     "text": [
      "\n",
      "Attaching package: ‘dplyr’\n",
      "\n",
      "\n",
      "The following objects are masked from ‘package:stats’:\n",
      "\n",
      "    filter, lag\n",
      "\n",
      "\n",
      "The following objects are masked from ‘package:base’:\n",
      "\n",
      "    intersect, setdiff, setequal, union\n",
      "\n",
      "\n",
      "\n",
      "Attaching package: ‘data.table’\n",
      "\n",
      "\n",
      "The following objects are masked from ‘package:dplyr’:\n",
      "\n",
      "    between, first, last\n",
      "\n",
      "\n"
     ]
    }
   ],
   "source": [
    "library(dplyr)\n",
    "library(tidyr)\n",
    "library(tibble)\n",
    "library(qvalue)\n",
    "library(data.table)\n",
    "\n",
    "source(\"/mnt/lareaulab/reliscu/code/fisher_test.R\")\n",
    "\n",
    "setwd(\"/mnt/lareaulab/reliscu/projects/NSF_GRFP/analyses/pseudobulk_test/tasic_2018/mouse_ALM\")"
   ]
  },
  {
   "cell_type": "code",
   "execution_count": 2,
   "id": "6cf840e4",
   "metadata": {
    "vscode": {
     "languageId": "r"
    }
   },
   "outputs": [],
   "source": [
    "get_module_enrichments <- function(network_dir, ctype_genes, mod_def=\"PosFDR\") {\n",
    "    # Traverse networks to get cell type enrichments for each module\n",
    "    networks <- list.dirs(file.path(getwd(), network_dir), full.names=TRUE, recursive=FALSE)\n",
    "    networks <- networks[lengths(lapply(networks, list.files)) > 0]\n",
    "\n",
    "    enrichments_list <- lapply(seq_along(networks), function(i) {\n",
    "        kME_path <- list.files(networks[i])[grep(\"kME\", list.files(networks[i]))]\n",
    "        kME <- fread(file.path(networks[i], kME_path), data.table=FALSE)\n",
    "        mod_col <- grep(\"PosFDR\", colnames(kME))\n",
    "        mod_genes <- tapply(kME$Gene, kME[,mod_col], list)\n",
    "        \n",
    "        if (length(mod_genes) > 0) {\n",
    "            all_genes <- kME$Gene\n",
    "\n",
    "            # For each module: calculate enrichment for DE genes from each cell type\n",
    "            mod_enrichments_list <- lapply(mod_genes, function(mod) {\n",
    "                lapply(unlist(lapply(ctype_genes, function(set) {\n",
    "                    fisher_test(set, mod, all=all_genes)\n",
    "                })), c)\n",
    "            })\n",
    "            \n",
    "            # Save the network the module came from\n",
    "            network_id <- sapply(strsplit(networks[i], \"/\"), function(x) x[length(x)])\n",
    "            mod_enrichments_df <- reshape2::melt(mod_enrichments_list)\n",
    "            colnames(mod_enrichments_df) <- c(\"Pval\", \"Cell_type\", \"Module\")\n",
    "            \n",
    "            # Save path to module eigengenes table for downstream analyses\n",
    "            ME_path <- list.files(networks[i])[grep(\"eigengene\", list.files(networks[i]))]\n",
    "            \n",
    "            data.frame(\n",
    "                Network=network_id,\n",
    "                kME_path=file.path(networks[i], kME_path),\n",
    "                ME_path=file.path(networks[i], ME_path),\n",
    "                mod_enrichments_df\n",
    "            )\n",
    "        }\n",
    "    })\n",
    "    enrichments_df <- do.call(rbind, enrichments_list)\n",
    "    enrichments_df$Qval <- qvalue(enrichments_df$Pval)$qvalue\n",
    "\n",
    "    enrichments_df\n",
    "}"
   ]
  },
  {
   "cell_type": "markdown",
   "id": "47fcf9ad",
   "metadata": {},
   "source": [
    "Here I perform enrichment analysis to find modules enriched for cell type markers. \n",
    "\n",
    "These modules will later be used to correlate with exon PSI to define cell type-specific exons."
   ]
  },
  {
   "cell_type": "code",
   "execution_count": 3,
   "id": "e55565fe",
   "metadata": {
    "vscode": {
     "languageId": "r"
    }
   },
   "outputs": [],
   "source": [
    "network_dir <- \"tasic_2018_ALM_STAR_20pcntCells_40pcntVar_200samples_log2_pseudobulk_Modules\"\n",
    "network_dataset <- \"20pcntCells_40pcntVar_200samples_log2_pseudobulk\""
   ]
  },
  {
   "cell_type": "code",
   "execution_count": 4,
   "id": "3944edfc",
   "metadata": {
    "vscode": {
     "languageId": "r"
    }
   },
   "outputs": [],
   "source": [
    "mod_def <- \"PosBC\"\n",
    "unique <- TRUE"
   ]
  },
  {
   "cell_type": "markdown",
   "id": "7baea033",
   "metadata": {
    "vscode": {
     "languageId": "r"
    }
   },
   "source": [
    "### Prep DE genes"
   ]
  },
  {
   "cell_type": "markdown",
   "id": "cfa6429e",
   "metadata": {},
   "source": [
    "#### 1 vs. pooled tests"
   ]
  },
  {
   "cell_type": "code",
   "execution_count": 5,
   "id": "d9fc4df1",
   "metadata": {
    "vscode": {
     "languageId": "r"
    }
   },
   "outputs": [],
   "source": [
    "pooled_res_list <- readRDS(\"data/tasic_2018_ALM_STAR_donor_cell_type_pseudobulk_1_vs_pooled_DE_genes_dream.RDS\")"
   ]
  },
  {
   "cell_type": "code",
   "execution_count": 6,
   "id": "b3f726eb",
   "metadata": {
    "vscode": {
     "languageId": "r"
    }
   },
   "outputs": [],
   "source": [
    "pval_threshold <- .05/length(pooled_res_list)\n",
    "lfc_threshold <- 6\n",
    "\n",
    "pooled_ctype_genes <- lapply(pooled_res_list, function(df) {\n",
    "    mask <- (df['adj.P.Val'] < pval_threshold) & (abs(df['logFC']) > lfc_threshold)\n",
    "    df[mask, 1]\n",
    "})\n",
    "names(pooled_ctype_genes) <- names(pooled_res_list) "
   ]
  },
  {
   "cell_type": "code",
   "execution_count": 7,
   "id": "08b1de18",
   "metadata": {
    "vscode": {
     "languageId": "r"
    }
   },
   "outputs": [],
   "source": [
    "if (unique) {\n",
    "    all_genes <- unlist(pooled_ctype_genes)\n",
    "    duplicates <- unique(names(table(all_genes)[table(all_genes) > 1]))\n",
    "\n",
    "    # Remove markers that are not unique to a cell type\n",
    "\n",
    "    pooled_ctype_genes <- lapply(pooled_ctype_genes, function(x) x[!(x %in% duplicates)])\n",
    "}"
   ]
  },
  {
   "cell_type": "code",
   "execution_count": 8,
   "id": "ade891df",
   "metadata": {
    "vscode": {
     "languageId": "r"
    }
   },
   "outputs": [
    {
     "data": {
      "text/html": [
       "<table class=\"dataframe\">\n",
       "<caption>A data.frame: 23 × 1</caption>\n",
       "<thead>\n",
       "\t<tr><th></th><th scope=col>No.genes</th></tr>\n",
       "\t<tr><th></th><th scope=col>&lt;int&gt;</th></tr>\n",
       "</thead>\n",
       "<tbody>\n",
       "\t<tr><th scope=row>Peri</th><td>1568</td></tr>\n",
       "\t<tr><th scope=row>Macrophage</th><td> 395</td></tr>\n",
       "\t<tr><th scope=row>Endo</th><td> 304</td></tr>\n",
       "\t<tr><th scope=row>Astro</th><td> 282</td></tr>\n",
       "\t<tr><th scope=row>VLMC</th><td> 136</td></tr>\n",
       "\t<tr><th scope=row>SMC</th><td> 129</td></tr>\n",
       "\t<tr><th scope=row>Oligo</th><td> 105</td></tr>\n",
       "\t<tr><th scope=row>Meis2</th><td>  83</td></tr>\n",
       "\t<tr><th scope=row>CR</th><td>  61</td></tr>\n",
       "\t<tr><th scope=row>L4</th><td>  27</td></tr>\n",
       "\t<tr><th scope=row>NP</th><td>  24</td></tr>\n",
       "\t<tr><th scope=row>Pvalb</th><td>  18</td></tr>\n",
       "\t<tr><th scope=row>Vip</th><td>  16</td></tr>\n",
       "\t<tr><th scope=row>L6_CT</th><td>  14</td></tr>\n",
       "\t<tr><th scope=row>L5_IT</th><td>  13</td></tr>\n",
       "\t<tr><th scope=row>Lamp5</th><td>  12</td></tr>\n",
       "\t<tr><th scope=row>Sst</th><td>  12</td></tr>\n",
       "\t<tr><th scope=row>Sncg</th><td>   9</td></tr>\n",
       "\t<tr><th scope=row>L5_PT</th><td>   8</td></tr>\n",
       "\t<tr><th scope=row>Serpinf1</th><td>   8</td></tr>\n",
       "\t<tr><th scope=row>L2_3_IT</th><td>   7</td></tr>\n",
       "\t<tr><th scope=row>L6_IT</th><td>   7</td></tr>\n",
       "\t<tr><th scope=row>L6b</th><td>   3</td></tr>\n",
       "</tbody>\n",
       "</table>\n"
      ],
      "text/latex": [
       "A data.frame: 23 × 1\n",
       "\\begin{tabular}{r|l}\n",
       "  & No.genes\\\\\n",
       "  & <int>\\\\\n",
       "\\hline\n",
       "\tPeri & 1568\\\\\n",
       "\tMacrophage &  395\\\\\n",
       "\tEndo &  304\\\\\n",
       "\tAstro &  282\\\\\n",
       "\tVLMC &  136\\\\\n",
       "\tSMC &  129\\\\\n",
       "\tOligo &  105\\\\\n",
       "\tMeis2 &   83\\\\\n",
       "\tCR &   61\\\\\n",
       "\tL4 &   27\\\\\n",
       "\tNP &   24\\\\\n",
       "\tPvalb &   18\\\\\n",
       "\tVip &   16\\\\\n",
       "\tL6\\_CT &   14\\\\\n",
       "\tL5\\_IT &   13\\\\\n",
       "\tLamp5 &   12\\\\\n",
       "\tSst &   12\\\\\n",
       "\tSncg &    9\\\\\n",
       "\tL5\\_PT &    8\\\\\n",
       "\tSerpinf1 &    8\\\\\n",
       "\tL2\\_3\\_IT &    7\\\\\n",
       "\tL6\\_IT &    7\\\\\n",
       "\tL6b &    3\\\\\n",
       "\\end{tabular}\n"
      ],
      "text/markdown": [
       "\n",
       "A data.frame: 23 × 1\n",
       "\n",
       "| <!--/--> | No.genes &lt;int&gt; |\n",
       "|---|---|\n",
       "| Peri | 1568 |\n",
       "| Macrophage |  395 |\n",
       "| Endo |  304 |\n",
       "| Astro |  282 |\n",
       "| VLMC |  136 |\n",
       "| SMC |  129 |\n",
       "| Oligo |  105 |\n",
       "| Meis2 |   83 |\n",
       "| CR |   61 |\n",
       "| L4 |   27 |\n",
       "| NP |   24 |\n",
       "| Pvalb |   18 |\n",
       "| Vip |   16 |\n",
       "| L6_CT |   14 |\n",
       "| L5_IT |   13 |\n",
       "| Lamp5 |   12 |\n",
       "| Sst |   12 |\n",
       "| Sncg |    9 |\n",
       "| L5_PT |    8 |\n",
       "| Serpinf1 |    8 |\n",
       "| L2_3_IT |    7 |\n",
       "| L6_IT |    7 |\n",
       "| L6b |    3 |\n",
       "\n"
      ],
      "text/plain": [
       "           No.genes\n",
       "Peri       1568    \n",
       "Macrophage  395    \n",
       "Endo        304    \n",
       "Astro       282    \n",
       "VLMC        136    \n",
       "SMC         129    \n",
       "Oligo       105    \n",
       "Meis2        83    \n",
       "CR           61    \n",
       "L4           27    \n",
       "NP           24    \n",
       "Pvalb        18    \n",
       "Vip          16    \n",
       "L6_CT        14    \n",
       "L5_IT        13    \n",
       "Lamp5        12    \n",
       "Sst          12    \n",
       "Sncg          9    \n",
       "L5_PT         8    \n",
       "Serpinf1      8    \n",
       "L2_3_IT       7    \n",
       "L6_IT         7    \n",
       "L6b           3    "
      ]
     },
     "metadata": {},
     "output_type": "display_data"
    }
   ],
   "source": [
    "data.frame(No.genes=lengths(pooled_ctype_genes)) %>% arrange(-`No.genes`)"
   ]
  },
  {
   "cell_type": "markdown",
   "id": "181c0478",
   "metadata": {},
   "source": [
    "#### Pairwise tests"
   ]
  },
  {
   "cell_type": "code",
   "execution_count": 9,
   "id": "c5449ef7",
   "metadata": {
    "vscode": {
     "languageId": "r"
    }
   },
   "outputs": [],
   "source": [
    "pairwise_res_list <- readRDS(\"data/tasic_2018_ALM_STAR_donor_cell_type_pseudobulk_pairwise_DE_genes_dream.RDS\")"
   ]
  },
  {
   "cell_type": "code",
   "execution_count": 10,
   "id": "a739660e",
   "metadata": {
    "vscode": {
     "languageId": "r"
    }
   },
   "outputs": [],
   "source": [
    "ctypes <- unique(sapply(strsplit(names(pairwise_res_list), \"_vs_\"), \"[\", 1))\n",
    "\n",
    "pairwise_ctype_genes <- lapply(ctypes, function(target) {\n",
    "    # Subset to pairwise tests with target cell type\n",
    "    ctype_res_list <- pairwise_res_list[grep(paste0(\"^\", target), names(pairwise_res_list))]\n",
    "\n",
    "    # For each pairwise test, return genes that meet p-value threshold:\n",
    "    pval_threshold <- .05 /length(ctype_res_list)\n",
    "    ctype_genes_list <- lapply(ctype_res_list, function(df) {\n",
    "        mask <- df$adj.P.Val < pval_threshold\n",
    "        df[mask, 1]\n",
    "    }) \n",
    "\n",
    "    # Restrict to genes that were identified in EVERY pairwise test\n",
    "    Reduce(intersect, ctype_genes_list)\n",
    "})\n",
    "names(pairwise_ctype_genes) <- ctypes"
   ]
  },
  {
   "cell_type": "code",
   "execution_count": 11,
   "id": "ccadb211",
   "metadata": {
    "vscode": {
     "languageId": "r"
    }
   },
   "outputs": [
    {
     "data": {
      "text/html": [
       "<table class=\"dataframe\">\n",
       "<caption>A data.frame: 23 × 1</caption>\n",
       "<thead>\n",
       "\t<tr><th></th><th scope=col>No.genes</th></tr>\n",
       "\t<tr><th></th><th scope=col>&lt;int&gt;</th></tr>\n",
       "</thead>\n",
       "<tbody>\n",
       "\t<tr><th scope=row>Macrophage</th><td>333</td></tr>\n",
       "\t<tr><th scope=row>Astro</th><td>288</td></tr>\n",
       "\t<tr><th scope=row>Endo</th><td>237</td></tr>\n",
       "\t<tr><th scope=row>Oligo</th><td>131</td></tr>\n",
       "\t<tr><th scope=row>VLMC</th><td> 85</td></tr>\n",
       "\t<tr><th scope=row>SMC</th><td> 60</td></tr>\n",
       "\t<tr><th scope=row>Pvalb</th><td> 31</td></tr>\n",
       "\t<tr><th scope=row>Lamp5</th><td> 22</td></tr>\n",
       "\t<tr><th scope=row>CR</th><td> 21</td></tr>\n",
       "\t<tr><th scope=row>Sst</th><td> 21</td></tr>\n",
       "\t<tr><th scope=row>Peri</th><td> 15</td></tr>\n",
       "\t<tr><th scope=row>Sncg</th><td> 14</td></tr>\n",
       "\t<tr><th scope=row>Vip</th><td> 14</td></tr>\n",
       "\t<tr><th scope=row>NP</th><td> 13</td></tr>\n",
       "\t<tr><th scope=row>L5_IT</th><td> 11</td></tr>\n",
       "\t<tr><th scope=row>L6_IT</th><td>  9</td></tr>\n",
       "\t<tr><th scope=row>L2_3_IT</th><td>  7</td></tr>\n",
       "\t<tr><th scope=row>L6_CT</th><td>  6</td></tr>\n",
       "\t<tr><th scope=row>Serpinf1</th><td>  4</td></tr>\n",
       "\t<tr><th scope=row>L5_PT</th><td>  3</td></tr>\n",
       "\t<tr><th scope=row>L6b</th><td>  3</td></tr>\n",
       "\t<tr><th scope=row>Meis2</th><td>  1</td></tr>\n",
       "\t<tr><th scope=row>L4</th><td>  0</td></tr>\n",
       "</tbody>\n",
       "</table>\n"
      ],
      "text/latex": [
       "A data.frame: 23 × 1\n",
       "\\begin{tabular}{r|l}\n",
       "  & No.genes\\\\\n",
       "  & <int>\\\\\n",
       "\\hline\n",
       "\tMacrophage & 333\\\\\n",
       "\tAstro & 288\\\\\n",
       "\tEndo & 237\\\\\n",
       "\tOligo & 131\\\\\n",
       "\tVLMC &  85\\\\\n",
       "\tSMC &  60\\\\\n",
       "\tPvalb &  31\\\\\n",
       "\tLamp5 &  22\\\\\n",
       "\tCR &  21\\\\\n",
       "\tSst &  21\\\\\n",
       "\tPeri &  15\\\\\n",
       "\tSncg &  14\\\\\n",
       "\tVip &  14\\\\\n",
       "\tNP &  13\\\\\n",
       "\tL5\\_IT &  11\\\\\n",
       "\tL6\\_IT &   9\\\\\n",
       "\tL2\\_3\\_IT &   7\\\\\n",
       "\tL6\\_CT &   6\\\\\n",
       "\tSerpinf1 &   4\\\\\n",
       "\tL5\\_PT &   3\\\\\n",
       "\tL6b &   3\\\\\n",
       "\tMeis2 &   1\\\\\n",
       "\tL4 &   0\\\\\n",
       "\\end{tabular}\n"
      ],
      "text/markdown": [
       "\n",
       "A data.frame: 23 × 1\n",
       "\n",
       "| <!--/--> | No.genes &lt;int&gt; |\n",
       "|---|---|\n",
       "| Macrophage | 333 |\n",
       "| Astro | 288 |\n",
       "| Endo | 237 |\n",
       "| Oligo | 131 |\n",
       "| VLMC |  85 |\n",
       "| SMC |  60 |\n",
       "| Pvalb |  31 |\n",
       "| Lamp5 |  22 |\n",
       "| CR |  21 |\n",
       "| Sst |  21 |\n",
       "| Peri |  15 |\n",
       "| Sncg |  14 |\n",
       "| Vip |  14 |\n",
       "| NP |  13 |\n",
       "| L5_IT |  11 |\n",
       "| L6_IT |   9 |\n",
       "| L2_3_IT |   7 |\n",
       "| L6_CT |   6 |\n",
       "| Serpinf1 |   4 |\n",
       "| L5_PT |   3 |\n",
       "| L6b |   3 |\n",
       "| Meis2 |   1 |\n",
       "| L4 |   0 |\n",
       "\n"
      ],
      "text/plain": [
       "           No.genes\n",
       "Macrophage 333     \n",
       "Astro      288     \n",
       "Endo       237     \n",
       "Oligo      131     \n",
       "VLMC        85     \n",
       "SMC         60     \n",
       "Pvalb       31     \n",
       "Lamp5       22     \n",
       "CR          21     \n",
       "Sst         21     \n",
       "Peri        15     \n",
       "Sncg        14     \n",
       "Vip         14     \n",
       "NP          13     \n",
       "L5_IT       11     \n",
       "L6_IT        9     \n",
       "L2_3_IT      7     \n",
       "L6_CT        6     \n",
       "Serpinf1     4     \n",
       "L5_PT        3     \n",
       "L6b          3     \n",
       "Meis2        1     \n",
       "L4           0     "
      ]
     },
     "metadata": {},
     "output_type": "display_data"
    }
   ],
   "source": [
    "data.frame(No.genes=lengths(pairwise_ctype_genes)) %>% arrange(-`No.genes`)"
   ]
  },
  {
   "cell_type": "code",
   "execution_count": 12,
   "id": "2e5c68a9",
   "metadata": {
    "vscode": {
     "languageId": "r"
    }
   },
   "outputs": [],
   "source": [
    "pairwise_ctype_genes <- pairwise_ctype_genes[lengths(pairwise_ctype_genes) > 0]"
   ]
  },
  {
   "cell_type": "code",
   "execution_count": 13,
   "id": "141aa58d",
   "metadata": {
    "vscode": {
     "languageId": "r"
    }
   },
   "outputs": [],
   "source": [
    "if (unique) {\n",
    "    all_genes <- unlist(pairwise_ctype_genes)\n",
    "    duplicates <- unique(names(table(all_genes)[table(all_genes) > 1]))\n",
    "\n",
    "    # Remove markers that are not unique to a cell type\n",
    "\n",
    "    pairwise_ctype_genes <- lapply(pairwise_ctype_genes, function(x) x[!(x %in% duplicates)])\n",
    "}\n",
    "\n",
    "pairwise_ctype_genes <- pairwise_ctype_genes[lengths(pairwise_ctype_genes) > 0]"
   ]
  },
  {
   "cell_type": "markdown",
   "id": "0ea29e85",
   "metadata": {},
   "source": [
    "#### 1 vs. mean tests"
   ]
  },
  {
   "cell_type": "code",
   "execution_count": 14,
   "id": "54340439",
   "metadata": {
    "vscode": {
     "languageId": "r"
    }
   },
   "outputs": [],
   "source": [
    "mean_res_list <- readRDS(\"data/tasic_2018_ALM_STAR_donor_cell_type_pseudobulk_1_vs_meanOthers_DE_genes_dream.RDS\")"
   ]
  },
  {
   "cell_type": "code",
   "execution_count": 15,
   "id": "d868ba05",
   "metadata": {
    "vscode": {
     "languageId": "r"
    }
   },
   "outputs": [],
   "source": [
    "pval_threshold <- .05/length(mean_res_list)\n",
    "lfc_threshold <- 6\n",
    "\n",
    "mean_ctype_genes <- lapply(mean_res_list, function(df) {\n",
    "    mask <- (df['adj.P.Val'] < pval_threshold) & (abs(df['logFC']) > lfc_threshold)\n",
    "    df[mask, 1]\n",
    "})\n",
    "names(mean_ctype_genes) <- names(mean_res_list) "
   ]
  },
  {
   "cell_type": "code",
   "execution_count": 16,
   "id": "bf629980",
   "metadata": {
    "vscode": {
     "languageId": "r"
    }
   },
   "outputs": [],
   "source": [
    "if (unique) {\n",
    "    all_genes <- unlist(mean_ctype_genes)\n",
    "    duplicates <- unique(names(table(all_genes)[table(all_genes) > 1]))\n",
    "\n",
    "    # Remove markers that are not unique to a cell type\n",
    "\n",
    "    mean_ctype_genes <- lapply(mean_ctype_genes, function(x) x[!(x %in% duplicates)])\n",
    "}"
   ]
  },
  {
   "cell_type": "code",
   "execution_count": 17,
   "id": "93eb6386",
   "metadata": {
    "vscode": {
     "languageId": "r"
    }
   },
   "outputs": [
    {
     "data": {
      "text/html": [
       "<table class=\"dataframe\">\n",
       "<caption>A data.frame: 23 × 1</caption>\n",
       "<thead>\n",
       "\t<tr><th></th><th scope=col>No.genes</th></tr>\n",
       "\t<tr><th></th><th scope=col>&lt;int&gt;</th></tr>\n",
       "</thead>\n",
       "<tbody>\n",
       "\t<tr><th scope=row>Peri</th><td>1279</td></tr>\n",
       "\t<tr><th scope=row>Macrophage</th><td> 355</td></tr>\n",
       "\t<tr><th scope=row>Endo</th><td> 325</td></tr>\n",
       "\t<tr><th scope=row>Astro</th><td> 213</td></tr>\n",
       "\t<tr><th scope=row>Oligo</th><td> 119</td></tr>\n",
       "\t<tr><th scope=row>VLMC</th><td> 110</td></tr>\n",
       "\t<tr><th scope=row>SMC</th><td>  94</td></tr>\n",
       "\t<tr><th scope=row>CR</th><td>  31</td></tr>\n",
       "\t<tr><th scope=row>Meis2</th><td>  30</td></tr>\n",
       "\t<tr><th scope=row>NP</th><td>  25</td></tr>\n",
       "\t<tr><th scope=row>L6_IT</th><td>  19</td></tr>\n",
       "\t<tr><th scope=row>Sst</th><td>  19</td></tr>\n",
       "\t<tr><th scope=row>L6_CT</th><td>  17</td></tr>\n",
       "\t<tr><th scope=row>Pvalb</th><td>  17</td></tr>\n",
       "\t<tr><th scope=row>Lamp5</th><td>  16</td></tr>\n",
       "\t<tr><th scope=row>L5_IT</th><td>  14</td></tr>\n",
       "\t<tr><th scope=row>Serpinf1</th><td>  14</td></tr>\n",
       "\t<tr><th scope=row>Sncg</th><td>  13</td></tr>\n",
       "\t<tr><th scope=row>L2_3_IT</th><td>  12</td></tr>\n",
       "\t<tr><th scope=row>L4</th><td>  12</td></tr>\n",
       "\t<tr><th scope=row>Vip</th><td>  12</td></tr>\n",
       "\t<tr><th scope=row>L5_PT</th><td>  10</td></tr>\n",
       "\t<tr><th scope=row>L6b</th><td>   8</td></tr>\n",
       "</tbody>\n",
       "</table>\n"
      ],
      "text/latex": [
       "A data.frame: 23 × 1\n",
       "\\begin{tabular}{r|l}\n",
       "  & No.genes\\\\\n",
       "  & <int>\\\\\n",
       "\\hline\n",
       "\tPeri & 1279\\\\\n",
       "\tMacrophage &  355\\\\\n",
       "\tEndo &  325\\\\\n",
       "\tAstro &  213\\\\\n",
       "\tOligo &  119\\\\\n",
       "\tVLMC &  110\\\\\n",
       "\tSMC &   94\\\\\n",
       "\tCR &   31\\\\\n",
       "\tMeis2 &   30\\\\\n",
       "\tNP &   25\\\\\n",
       "\tL6\\_IT &   19\\\\\n",
       "\tSst &   19\\\\\n",
       "\tL6\\_CT &   17\\\\\n",
       "\tPvalb &   17\\\\\n",
       "\tLamp5 &   16\\\\\n",
       "\tL5\\_IT &   14\\\\\n",
       "\tSerpinf1 &   14\\\\\n",
       "\tSncg &   13\\\\\n",
       "\tL2\\_3\\_IT &   12\\\\\n",
       "\tL4 &   12\\\\\n",
       "\tVip &   12\\\\\n",
       "\tL5\\_PT &   10\\\\\n",
       "\tL6b &    8\\\\\n",
       "\\end{tabular}\n"
      ],
      "text/markdown": [
       "\n",
       "A data.frame: 23 × 1\n",
       "\n",
       "| <!--/--> | No.genes &lt;int&gt; |\n",
       "|---|---|\n",
       "| Peri | 1279 |\n",
       "| Macrophage |  355 |\n",
       "| Endo |  325 |\n",
       "| Astro |  213 |\n",
       "| Oligo |  119 |\n",
       "| VLMC |  110 |\n",
       "| SMC |   94 |\n",
       "| CR |   31 |\n",
       "| Meis2 |   30 |\n",
       "| NP |   25 |\n",
       "| L6_IT |   19 |\n",
       "| Sst |   19 |\n",
       "| L6_CT |   17 |\n",
       "| Pvalb |   17 |\n",
       "| Lamp5 |   16 |\n",
       "| L5_IT |   14 |\n",
       "| Serpinf1 |   14 |\n",
       "| Sncg |   13 |\n",
       "| L2_3_IT |   12 |\n",
       "| L4 |   12 |\n",
       "| Vip |   12 |\n",
       "| L5_PT |   10 |\n",
       "| L6b |    8 |\n",
       "\n"
      ],
      "text/plain": [
       "           No.genes\n",
       "Peri       1279    \n",
       "Macrophage  355    \n",
       "Endo        325    \n",
       "Astro       213    \n",
       "Oligo       119    \n",
       "VLMC        110    \n",
       "SMC          94    \n",
       "CR           31    \n",
       "Meis2        30    \n",
       "NP           25    \n",
       "L6_IT        19    \n",
       "Sst          19    \n",
       "L6_CT        17    \n",
       "Pvalb        17    \n",
       "Lamp5        16    \n",
       "L5_IT        14    \n",
       "Serpinf1     14    \n",
       "Sncg         13    \n",
       "L2_3_IT      12    \n",
       "L4           12    \n",
       "Vip          12    \n",
       "L5_PT        10    \n",
       "L6b           8    "
      ]
     },
     "metadata": {},
     "output_type": "display_data"
    }
   ],
   "source": [
    "data.frame(No.genes=lengths(mean_ctype_genes)) %>% arrange(-`No.genes`)"
   ]
  },
  {
   "cell_type": "markdown",
   "id": "0b894bcf",
   "metadata": {},
   "source": [
    "### Enrichment results using 1 vs. pooled DE genes"
   ]
  },
  {
   "cell_type": "code",
   "execution_count": 18,
   "id": "09fbb1a8",
   "metadata": {
    "vscode": {
     "languageId": "r"
    }
   },
   "outputs": [],
   "source": [
    "pooled_enrichments_df <- get_module_enrichments(network_dir, pooled_ctype_genes, mod_def)"
   ]
  },
  {
   "cell_type": "code",
   "execution_count": 19,
   "id": "e1c46ab3",
   "metadata": {
    "vscode": {
     "languageId": "r"
    }
   },
   "outputs": [],
   "source": [
    "# Get most enriched cell type for each module\n",
    "# If cell type is most enriched in multiple modules, choose module with smallest p-value\n",
    "\n",
    "pooled_top_mods_df <- pooled_enrichments_df %>%\n",
    "    group_by(Network, Module) %>%\n",
    "    slice_min(Qval) %>%\n",
    "    group_by(Cell_type) %>%\n",
    "    arrange(Network) %>%\n",
    "    slice_min(Qval, with_ties=FALSE) %>%\n",
    "    filter(Qval < .05) %>%\n",
    "    arrange(Qval)"
   ]
  },
  {
   "cell_type": "code",
   "execution_count": 20,
   "id": "97f3f715",
   "metadata": {
    "vscode": {
     "languageId": "r"
    }
   },
   "outputs": [
    {
     "data": {
      "text/html": [
       "<table class=\"dataframe\">\n",
       "<caption>A grouped_df: 20 × 5</caption>\n",
       "<thead>\n",
       "\t<tr><th scope=col>Cell_type</th><th scope=col>Pval</th><th scope=col>Qval</th><th scope=col>Module</th><th scope=col>Network</th></tr>\n",
       "\t<tr><th scope=col>&lt;chr&gt;</th><th scope=col>&lt;dbl&gt;</th><th scope=col>&lt;dbl&gt;</th><th scope=col>&lt;chr&gt;</th><th scope=col>&lt;chr&gt;</th></tr>\n",
       "</thead>\n",
       "<tbody>\n",
       "\t<tr><td>Macrophage</td><td>5.066725e-290</td><td>4.291972e-285</td><td>black          </td><td>Bicor-None_signum0.723_minSize8_merge_ME_0.9_20151 </td></tr>\n",
       "\t<tr><td>Endo      </td><td>5.705872e-248</td><td>6.041734e-244</td><td>cyan           </td><td>Bicor-None_signum0.864_minSize3_merge_ME_0.9_20151 </td></tr>\n",
       "\t<tr><td>Astro     </td><td>2.757588e-193</td><td>1.112345e-189</td><td>yellow         </td><td>Bicor-None_signum0.723_minSize3_merge_ME_0.9_20151 </td></tr>\n",
       "\t<tr><td>Oligo     </td><td>8.842039e-132</td><td>1.413208e-128</td><td>lightcyan      </td><td>Bicor-None_signum0.723_minSize6_merge_ME_0.9_20151 </td></tr>\n",
       "\t<tr><td>VLMC      </td><td>2.026801e-121</td><td>2.814562e-118</td><td>lightsteelblue1</td><td>Bicor-None_signum0.466_minSize10_merge_ME_0.9_20151</td></tr>\n",
       "\t<tr><td>SMC       </td><td> 1.327504e-70</td><td> 1.102466e-67</td><td>brown          </td><td>Bicor-None_signum0.931_minSize3_merge_ME_0.9_20151 </td></tr>\n",
       "\t<tr><td>NP        </td><td> 2.387003e-33</td><td> 1.123337e-30</td><td>darkorange     </td><td>Bicor-None_signum0.723_minSize4_merge_ME_0.9_20151 </td></tr>\n",
       "\t<tr><td>Peri      </td><td> 4.729459e-33</td><td> 2.213413e-30</td><td>blue           </td><td>Bicor-None_signum0.864_minSize10_merge_ME_0.9_20151</td></tr>\n",
       "\t<tr><td>Lamp5     </td><td> 1.337442e-21</td><td> 4.495770e-19</td><td>cyan           </td><td>Bicor-None_signum0.317_minSize5_merge_ME_0.9_20151 </td></tr>\n",
       "\t<tr><td>L6_CT     </td><td> 3.267396e-20</td><td> 1.028914e-17</td><td>navajowhite2   </td><td>Bicor-None_signum0.723_minSize4_merge_ME_0.9_20151 </td></tr>\n",
       "\t<tr><td>L5_IT     </td><td> 4.970213e-19</td><td> 1.441855e-16</td><td>navajowhite2   </td><td>Bicor-None_signum0.723_minSize3_merge_ME_0.9_20151 </td></tr>\n",
       "\t<tr><td>Sst       </td><td> 2.207564e-16</td><td> 5.467851e-14</td><td>green          </td><td>Bicor-None_signum0.864_minSize3_merge_ME_0.9_20151 </td></tr>\n",
       "\t<tr><td>Vip       </td><td> 3.894207e-16</td><td> 9.506465e-14</td><td>yellow         </td><td>Bicor-None_signum0.466_minSize4_merge_ME_0.9_20151 </td></tr>\n",
       "\t<tr><td>Pvalb     </td><td> 4.308080e-15</td><td> 9.731551e-13</td><td>blue           </td><td>Bicor-None_signum0.723_minSize5_merge_ME_0.9_20151 </td></tr>\n",
       "\t<tr><td>L2_3_IT   </td><td> 1.355567e-13</td><td> 2.670436e-11</td><td>slateblue      </td><td>Bicor-None_signum0.317_minSize10_merge_ME_0.9_20151</td></tr>\n",
       "\t<tr><td>L6_IT     </td><td> 3.163565e-12</td><td> 5.491443e-10</td><td>plum3          </td><td>Bicor-None_signum0.466_minSize6_merge_ME_0.9_20151 </td></tr>\n",
       "\t<tr><td>L5_PT     </td><td> 3.648710e-10</td><td> 5.509422e-08</td><td>mistyrose4     </td><td>Bicor-None_signum0.317_minSize5_merge_ME_0.9_20151 </td></tr>\n",
       "\t<tr><td>Serpinf1  </td><td> 4.680601e-07</td><td> 5.293579e-05</td><td>azure2         </td><td>Bicor-None_signum0.317_minSize5_merge_ME_0.9_20151 </td></tr>\n",
       "\t<tr><td>L4        </td><td> 6.141352e-06</td><td> 6.070336e-04</td><td>dodgerblue4    </td><td>Bicor-None_signum0.466_minSize4_merge_ME_0.9_20151 </td></tr>\n",
       "\t<tr><td>Meis2     </td><td> 1.013111e-04</td><td> 8.142277e-03</td><td>darkorange2    </td><td>Bicor-None_signum0.466_minSize10_merge_ME_0.9_20151</td></tr>\n",
       "</tbody>\n",
       "</table>\n"
      ],
      "text/latex": [
       "A grouped\\_df: 20 × 5\n",
       "\\begin{tabular}{lllll}\n",
       " Cell\\_type & Pval & Qval & Module & Network\\\\\n",
       " <chr> & <dbl> & <dbl> & <chr> & <chr>\\\\\n",
       "\\hline\n",
       "\t Macrophage & 5.066725e-290 & 4.291972e-285 & black           & Bicor-None\\_signum0.723\\_minSize8\\_merge\\_ME\\_0.9\\_20151 \\\\\n",
       "\t Endo       & 5.705872e-248 & 6.041734e-244 & cyan            & Bicor-None\\_signum0.864\\_minSize3\\_merge\\_ME\\_0.9\\_20151 \\\\\n",
       "\t Astro      & 2.757588e-193 & 1.112345e-189 & yellow          & Bicor-None\\_signum0.723\\_minSize3\\_merge\\_ME\\_0.9\\_20151 \\\\\n",
       "\t Oligo      & 8.842039e-132 & 1.413208e-128 & lightcyan       & Bicor-None\\_signum0.723\\_minSize6\\_merge\\_ME\\_0.9\\_20151 \\\\\n",
       "\t VLMC       & 2.026801e-121 & 2.814562e-118 & lightsteelblue1 & Bicor-None\\_signum0.466\\_minSize10\\_merge\\_ME\\_0.9\\_20151\\\\\n",
       "\t SMC        &  1.327504e-70 &  1.102466e-67 & brown           & Bicor-None\\_signum0.931\\_minSize3\\_merge\\_ME\\_0.9\\_20151 \\\\\n",
       "\t NP         &  2.387003e-33 &  1.123337e-30 & darkorange      & Bicor-None\\_signum0.723\\_minSize4\\_merge\\_ME\\_0.9\\_20151 \\\\\n",
       "\t Peri       &  4.729459e-33 &  2.213413e-30 & blue            & Bicor-None\\_signum0.864\\_minSize10\\_merge\\_ME\\_0.9\\_20151\\\\\n",
       "\t Lamp5      &  1.337442e-21 &  4.495770e-19 & cyan            & Bicor-None\\_signum0.317\\_minSize5\\_merge\\_ME\\_0.9\\_20151 \\\\\n",
       "\t L6\\_CT      &  3.267396e-20 &  1.028914e-17 & navajowhite2    & Bicor-None\\_signum0.723\\_minSize4\\_merge\\_ME\\_0.9\\_20151 \\\\\n",
       "\t L5\\_IT      &  4.970213e-19 &  1.441855e-16 & navajowhite2    & Bicor-None\\_signum0.723\\_minSize3\\_merge\\_ME\\_0.9\\_20151 \\\\\n",
       "\t Sst        &  2.207564e-16 &  5.467851e-14 & green           & Bicor-None\\_signum0.864\\_minSize3\\_merge\\_ME\\_0.9\\_20151 \\\\\n",
       "\t Vip        &  3.894207e-16 &  9.506465e-14 & yellow          & Bicor-None\\_signum0.466\\_minSize4\\_merge\\_ME\\_0.9\\_20151 \\\\\n",
       "\t Pvalb      &  4.308080e-15 &  9.731551e-13 & blue            & Bicor-None\\_signum0.723\\_minSize5\\_merge\\_ME\\_0.9\\_20151 \\\\\n",
       "\t L2\\_3\\_IT    &  1.355567e-13 &  2.670436e-11 & slateblue       & Bicor-None\\_signum0.317\\_minSize10\\_merge\\_ME\\_0.9\\_20151\\\\\n",
       "\t L6\\_IT      &  3.163565e-12 &  5.491443e-10 & plum3           & Bicor-None\\_signum0.466\\_minSize6\\_merge\\_ME\\_0.9\\_20151 \\\\\n",
       "\t L5\\_PT      &  3.648710e-10 &  5.509422e-08 & mistyrose4      & Bicor-None\\_signum0.317\\_minSize5\\_merge\\_ME\\_0.9\\_20151 \\\\\n",
       "\t Serpinf1   &  4.680601e-07 &  5.293579e-05 & azure2          & Bicor-None\\_signum0.317\\_minSize5\\_merge\\_ME\\_0.9\\_20151 \\\\\n",
       "\t L4         &  6.141352e-06 &  6.070336e-04 & dodgerblue4     & Bicor-None\\_signum0.466\\_minSize4\\_merge\\_ME\\_0.9\\_20151 \\\\\n",
       "\t Meis2      &  1.013111e-04 &  8.142277e-03 & darkorange2     & Bicor-None\\_signum0.466\\_minSize10\\_merge\\_ME\\_0.9\\_20151\\\\\n",
       "\\end{tabular}\n"
      ],
      "text/markdown": [
       "\n",
       "A grouped_df: 20 × 5\n",
       "\n",
       "| Cell_type &lt;chr&gt; | Pval &lt;dbl&gt; | Qval &lt;dbl&gt; | Module &lt;chr&gt; | Network &lt;chr&gt; |\n",
       "|---|---|---|---|---|\n",
       "| Macrophage | 5.066725e-290 | 4.291972e-285 | black           | Bicor-None_signum0.723_minSize8_merge_ME_0.9_20151  |\n",
       "| Endo       | 5.705872e-248 | 6.041734e-244 | cyan            | Bicor-None_signum0.864_minSize3_merge_ME_0.9_20151  |\n",
       "| Astro      | 2.757588e-193 | 1.112345e-189 | yellow          | Bicor-None_signum0.723_minSize3_merge_ME_0.9_20151  |\n",
       "| Oligo      | 8.842039e-132 | 1.413208e-128 | lightcyan       | Bicor-None_signum0.723_minSize6_merge_ME_0.9_20151  |\n",
       "| VLMC       | 2.026801e-121 | 2.814562e-118 | lightsteelblue1 | Bicor-None_signum0.466_minSize10_merge_ME_0.9_20151 |\n",
       "| SMC        |  1.327504e-70 |  1.102466e-67 | brown           | Bicor-None_signum0.931_minSize3_merge_ME_0.9_20151  |\n",
       "| NP         |  2.387003e-33 |  1.123337e-30 | darkorange      | Bicor-None_signum0.723_minSize4_merge_ME_0.9_20151  |\n",
       "| Peri       |  4.729459e-33 |  2.213413e-30 | blue            | Bicor-None_signum0.864_minSize10_merge_ME_0.9_20151 |\n",
       "| Lamp5      |  1.337442e-21 |  4.495770e-19 | cyan            | Bicor-None_signum0.317_minSize5_merge_ME_0.9_20151  |\n",
       "| L6_CT      |  3.267396e-20 |  1.028914e-17 | navajowhite2    | Bicor-None_signum0.723_minSize4_merge_ME_0.9_20151  |\n",
       "| L5_IT      |  4.970213e-19 |  1.441855e-16 | navajowhite2    | Bicor-None_signum0.723_minSize3_merge_ME_0.9_20151  |\n",
       "| Sst        |  2.207564e-16 |  5.467851e-14 | green           | Bicor-None_signum0.864_minSize3_merge_ME_0.9_20151  |\n",
       "| Vip        |  3.894207e-16 |  9.506465e-14 | yellow          | Bicor-None_signum0.466_minSize4_merge_ME_0.9_20151  |\n",
       "| Pvalb      |  4.308080e-15 |  9.731551e-13 | blue            | Bicor-None_signum0.723_minSize5_merge_ME_0.9_20151  |\n",
       "| L2_3_IT    |  1.355567e-13 |  2.670436e-11 | slateblue       | Bicor-None_signum0.317_minSize10_merge_ME_0.9_20151 |\n",
       "| L6_IT      |  3.163565e-12 |  5.491443e-10 | plum3           | Bicor-None_signum0.466_minSize6_merge_ME_0.9_20151  |\n",
       "| L5_PT      |  3.648710e-10 |  5.509422e-08 | mistyrose4      | Bicor-None_signum0.317_minSize5_merge_ME_0.9_20151  |\n",
       "| Serpinf1   |  4.680601e-07 |  5.293579e-05 | azure2          | Bicor-None_signum0.317_minSize5_merge_ME_0.9_20151  |\n",
       "| L4         |  6.141352e-06 |  6.070336e-04 | dodgerblue4     | Bicor-None_signum0.466_minSize4_merge_ME_0.9_20151  |\n",
       "| Meis2      |  1.013111e-04 |  8.142277e-03 | darkorange2     | Bicor-None_signum0.466_minSize10_merge_ME_0.9_20151 |\n",
       "\n"
      ],
      "text/plain": [
       "   Cell_type  Pval          Qval          Module         \n",
       "1  Macrophage 5.066725e-290 4.291972e-285 black          \n",
       "2  Endo       5.705872e-248 6.041734e-244 cyan           \n",
       "3  Astro      2.757588e-193 1.112345e-189 yellow         \n",
       "4  Oligo      8.842039e-132 1.413208e-128 lightcyan      \n",
       "5  VLMC       2.026801e-121 2.814562e-118 lightsteelblue1\n",
       "6  SMC         1.327504e-70  1.102466e-67 brown          \n",
       "7  NP          2.387003e-33  1.123337e-30 darkorange     \n",
       "8  Peri        4.729459e-33  2.213413e-30 blue           \n",
       "9  Lamp5       1.337442e-21  4.495770e-19 cyan           \n",
       "10 L6_CT       3.267396e-20  1.028914e-17 navajowhite2   \n",
       "11 L5_IT       4.970213e-19  1.441855e-16 navajowhite2   \n",
       "12 Sst         2.207564e-16  5.467851e-14 green          \n",
       "13 Vip         3.894207e-16  9.506465e-14 yellow         \n",
       "14 Pvalb       4.308080e-15  9.731551e-13 blue           \n",
       "15 L2_3_IT     1.355567e-13  2.670436e-11 slateblue      \n",
       "16 L6_IT       3.163565e-12  5.491443e-10 plum3          \n",
       "17 L5_PT       3.648710e-10  5.509422e-08 mistyrose4     \n",
       "18 Serpinf1    4.680601e-07  5.293579e-05 azure2         \n",
       "19 L4          6.141352e-06  6.070336e-04 dodgerblue4    \n",
       "20 Meis2       1.013111e-04  8.142277e-03 darkorange2    \n",
       "   Network                                            \n",
       "1  Bicor-None_signum0.723_minSize8_merge_ME_0.9_20151 \n",
       "2  Bicor-None_signum0.864_minSize3_merge_ME_0.9_20151 \n",
       "3  Bicor-None_signum0.723_minSize3_merge_ME_0.9_20151 \n",
       "4  Bicor-None_signum0.723_minSize6_merge_ME_0.9_20151 \n",
       "5  Bicor-None_signum0.466_minSize10_merge_ME_0.9_20151\n",
       "6  Bicor-None_signum0.931_minSize3_merge_ME_0.9_20151 \n",
       "7  Bicor-None_signum0.723_minSize4_merge_ME_0.9_20151 \n",
       "8  Bicor-None_signum0.864_minSize10_merge_ME_0.9_20151\n",
       "9  Bicor-None_signum0.317_minSize5_merge_ME_0.9_20151 \n",
       "10 Bicor-None_signum0.723_minSize4_merge_ME_0.9_20151 \n",
       "11 Bicor-None_signum0.723_minSize3_merge_ME_0.9_20151 \n",
       "12 Bicor-None_signum0.864_minSize3_merge_ME_0.9_20151 \n",
       "13 Bicor-None_signum0.466_minSize4_merge_ME_0.9_20151 \n",
       "14 Bicor-None_signum0.723_minSize5_merge_ME_0.9_20151 \n",
       "15 Bicor-None_signum0.317_minSize10_merge_ME_0.9_20151\n",
       "16 Bicor-None_signum0.466_minSize6_merge_ME_0.9_20151 \n",
       "17 Bicor-None_signum0.317_minSize5_merge_ME_0.9_20151 \n",
       "18 Bicor-None_signum0.317_minSize5_merge_ME_0.9_20151 \n",
       "19 Bicor-None_signum0.466_minSize4_merge_ME_0.9_20151 \n",
       "20 Bicor-None_signum0.466_minSize10_merge_ME_0.9_20151"
      ]
     },
     "metadata": {},
     "output_type": "display_data"
    }
   ],
   "source": [
    "pooled_top_mods_df[,c(\"Cell_type\", \"Pval\", \"Qval\", \"Module\", \"Network\")]"
   ]
  },
  {
   "cell_type": "markdown",
   "id": "cc33c767",
   "metadata": {},
   "source": [
    "### Enrichment results using pairwise DE genes"
   ]
  },
  {
   "cell_type": "code",
   "execution_count": 21,
   "id": "da30c5c6",
   "metadata": {
    "vscode": {
     "languageId": "r"
    }
   },
   "outputs": [],
   "source": [
    "pairwise_enrichments_df <- get_module_enrichments(network_dir, pairwise_ctype_genes, mod_def)"
   ]
  },
  {
   "cell_type": "code",
   "execution_count": 22,
   "id": "c7411268",
   "metadata": {
    "vscode": {
     "languageId": "r"
    }
   },
   "outputs": [],
   "source": [
    "# Get most enriched cell type for each module\n",
    "# If cell type is most enriched in multiple modules, choose module with smallest p-value\n",
    "\n",
    "pairwise_top_mods_df <- pairwise_enrichments_df %>%\n",
    "    group_by(Network, Module) %>%\n",
    "    slice_min(Qval) %>%\n",
    "    group_by(Cell_type) %>%\n",
    "    arrange(Network) %>%\n",
    "    slice_min(Qval, with_ties=FALSE) %>%\n",
    "    filter(Qval < .05) %>%\n",
    "    arrange(Qval)"
   ]
  },
  {
   "cell_type": "code",
   "execution_count": 23,
   "id": "efbeaebe",
   "metadata": {
    "vscode": {
     "languageId": "r"
    }
   },
   "outputs": [
    {
     "data": {
      "text/html": [
       "<table class=\"dataframe\">\n",
       "<caption>A grouped_df: 20 × 5</caption>\n",
       "<thead>\n",
       "\t<tr><th scope=col>Cell_type</th><th scope=col>Pval</th><th scope=col>Qval</th><th scope=col>Module</th><th scope=col>Network</th></tr>\n",
       "\t<tr><th scope=col>&lt;chr&gt;</th><th scope=col>&lt;dbl&gt;</th><th scope=col>&lt;dbl&gt;</th><th scope=col>&lt;chr&gt;</th><th scope=col>&lt;chr&gt;</th></tr>\n",
       "</thead>\n",
       "<tbody>\n",
       "\t<tr><td>Macrophage</td><td> 0.000000e+00</td><td> 0.000000e+00</td><td>red           </td><td>Bicor-None_signum0.723_minSize10_merge_ME_0.9_20151</td></tr>\n",
       "\t<tr><td>Astro     </td><td>2.924869e-321</td><td>2.962380e-317</td><td>yellow        </td><td>Bicor-None_signum0.466_minSize8_merge_ME_0.9_20151 </td></tr>\n",
       "\t<tr><td>Endo      </td><td>9.438148e-312</td><td>8.497059e-308</td><td>cyan          </td><td>Bicor-None_signum0.864_minSize3_merge_ME_0.9_20151 </td></tr>\n",
       "\t<tr><td>Oligo     </td><td>2.284915e-191</td><td>3.192027e-188</td><td>lightcyan     </td><td>Bicor-None_signum0.723_minSize6_merge_ME_0.9_20151 </td></tr>\n",
       "\t<tr><td>VLMC      </td><td>8.648821e-136</td><td>1.001113e-132</td><td>saddlebrown   </td><td>Bicor-None_signum0.723_minSize4_merge_ME_0.9_20151 </td></tr>\n",
       "\t<tr><td>SMC       </td><td> 3.154559e-86</td><td> 2.457705e-83</td><td>lightgreen    </td><td>Bicor-None_signum0.466_minSize8_merge_ME_0.9_20151 </td></tr>\n",
       "\t<tr><td>Pvalb     </td><td> 1.347643e-40</td><td> 5.902384e-38</td><td>blue          </td><td>Bicor-None_signum0.723_minSize5_merge_ME_0.9_20151 </td></tr>\n",
       "\t<tr><td>Sst       </td><td> 2.594186e-30</td><td> 9.731321e-28</td><td>red           </td><td>Bicor-None_signum0.723_minSize8_merge_ME_0.9_20151 </td></tr>\n",
       "\t<tr><td>Lamp5     </td><td> 3.956670e-29</td><td> 1.457242e-26</td><td>purple        </td><td>Bicor-None_signum0.864_minSize4_merge_ME_0.9_20151 </td></tr>\n",
       "\t<tr><td>Vip       </td><td> 2.527162e-25</td><td> 7.875608e-23</td><td>green         </td><td>Bicor-None_signum0.317_minSize5_merge_ME_0.9_20151 </td></tr>\n",
       "\t<tr><td>Peri      </td><td> 4.840564e-21</td><td> 1.221843e-18</td><td>orange2       </td><td>Bicor-None_signum0.466_minSize4_merge_ME_0.9_20151 </td></tr>\n",
       "\t<tr><td>NP        </td><td> 4.444286e-20</td><td> 1.081390e-17</td><td>darkorange    </td><td>Bicor-None_signum0.723_minSize4_merge_ME_0.9_20151 </td></tr>\n",
       "\t<tr><td>L5_IT     </td><td> 2.696716e-17</td><td> 5.462602e-15</td><td>navajowhite2  </td><td>Bicor-None_signum0.723_minSize3_merge_ME_0.9_20151 </td></tr>\n",
       "\t<tr><td>L6_IT     </td><td> 8.321450e-17</td><td> 1.648542e-14</td><td>mediumpurple4 </td><td>Bicor-None_signum0.466_minSize6_merge_ME_0.9_20151 </td></tr>\n",
       "\t<tr><td>L2_3_IT   </td><td> 1.626649e-12</td><td> 2.503038e-10</td><td>steelblue     </td><td>Bicor-None_signum0.723_minSize5_merge_ME_0.9_20151 </td></tr>\n",
       "\t<tr><td>L6_CT     </td><td> 1.283197e-10</td><td> 1.744501e-08</td><td>lightsteelblue</td><td>Bicor-None_signum0.37_minSize5_merge_ME_0.9_20151  </td></tr>\n",
       "\t<tr><td>Sncg      </td><td> 5.712628e-08</td><td> 6.650451e-06</td><td>darkred       </td><td>Bicor-None_signum0.864_minSize3_merge_ME_0.9_20151 </td></tr>\n",
       "\t<tr><td>L5_PT     </td><td> 7.322004e-06</td><td> 7.126516e-04</td><td>mistyrose4    </td><td>Bicor-None_signum0.317_minSize5_merge_ME_0.9_20151 </td></tr>\n",
       "\t<tr><td>Serpinf1  </td><td> 2.537830e-05</td><td> 2.350059e-03</td><td>azure2        </td><td>Bicor-None_signum0.317_minSize5_merge_ME_0.9_20151 </td></tr>\n",
       "\t<tr><td>CR        </td><td> 1.754421e-04</td><td> 1.507463e-02</td><td>lightskyblue  </td><td>Bicor-None_signum0.466_minSize4_merge_ME_0.9_20151 </td></tr>\n",
       "</tbody>\n",
       "</table>\n"
      ],
      "text/latex": [
       "A grouped\\_df: 20 × 5\n",
       "\\begin{tabular}{lllll}\n",
       " Cell\\_type & Pval & Qval & Module & Network\\\\\n",
       " <chr> & <dbl> & <dbl> & <chr> & <chr>\\\\\n",
       "\\hline\n",
       "\t Macrophage &  0.000000e+00 &  0.000000e+00 & red            & Bicor-None\\_signum0.723\\_minSize10\\_merge\\_ME\\_0.9\\_20151\\\\\n",
       "\t Astro      & 2.924869e-321 & 2.962380e-317 & yellow         & Bicor-None\\_signum0.466\\_minSize8\\_merge\\_ME\\_0.9\\_20151 \\\\\n",
       "\t Endo       & 9.438148e-312 & 8.497059e-308 & cyan           & Bicor-None\\_signum0.864\\_minSize3\\_merge\\_ME\\_0.9\\_20151 \\\\\n",
       "\t Oligo      & 2.284915e-191 & 3.192027e-188 & lightcyan      & Bicor-None\\_signum0.723\\_minSize6\\_merge\\_ME\\_0.9\\_20151 \\\\\n",
       "\t VLMC       & 8.648821e-136 & 1.001113e-132 & saddlebrown    & Bicor-None\\_signum0.723\\_minSize4\\_merge\\_ME\\_0.9\\_20151 \\\\\n",
       "\t SMC        &  3.154559e-86 &  2.457705e-83 & lightgreen     & Bicor-None\\_signum0.466\\_minSize8\\_merge\\_ME\\_0.9\\_20151 \\\\\n",
       "\t Pvalb      &  1.347643e-40 &  5.902384e-38 & blue           & Bicor-None\\_signum0.723\\_minSize5\\_merge\\_ME\\_0.9\\_20151 \\\\\n",
       "\t Sst        &  2.594186e-30 &  9.731321e-28 & red            & Bicor-None\\_signum0.723\\_minSize8\\_merge\\_ME\\_0.9\\_20151 \\\\\n",
       "\t Lamp5      &  3.956670e-29 &  1.457242e-26 & purple         & Bicor-None\\_signum0.864\\_minSize4\\_merge\\_ME\\_0.9\\_20151 \\\\\n",
       "\t Vip        &  2.527162e-25 &  7.875608e-23 & green          & Bicor-None\\_signum0.317\\_minSize5\\_merge\\_ME\\_0.9\\_20151 \\\\\n",
       "\t Peri       &  4.840564e-21 &  1.221843e-18 & orange2        & Bicor-None\\_signum0.466\\_minSize4\\_merge\\_ME\\_0.9\\_20151 \\\\\n",
       "\t NP         &  4.444286e-20 &  1.081390e-17 & darkorange     & Bicor-None\\_signum0.723\\_minSize4\\_merge\\_ME\\_0.9\\_20151 \\\\\n",
       "\t L5\\_IT      &  2.696716e-17 &  5.462602e-15 & navajowhite2   & Bicor-None\\_signum0.723\\_minSize3\\_merge\\_ME\\_0.9\\_20151 \\\\\n",
       "\t L6\\_IT      &  8.321450e-17 &  1.648542e-14 & mediumpurple4  & Bicor-None\\_signum0.466\\_minSize6\\_merge\\_ME\\_0.9\\_20151 \\\\\n",
       "\t L2\\_3\\_IT    &  1.626649e-12 &  2.503038e-10 & steelblue      & Bicor-None\\_signum0.723\\_minSize5\\_merge\\_ME\\_0.9\\_20151 \\\\\n",
       "\t L6\\_CT      &  1.283197e-10 &  1.744501e-08 & lightsteelblue & Bicor-None\\_signum0.37\\_minSize5\\_merge\\_ME\\_0.9\\_20151  \\\\\n",
       "\t Sncg       &  5.712628e-08 &  6.650451e-06 & darkred        & Bicor-None\\_signum0.864\\_minSize3\\_merge\\_ME\\_0.9\\_20151 \\\\\n",
       "\t L5\\_PT      &  7.322004e-06 &  7.126516e-04 & mistyrose4     & Bicor-None\\_signum0.317\\_minSize5\\_merge\\_ME\\_0.9\\_20151 \\\\\n",
       "\t Serpinf1   &  2.537830e-05 &  2.350059e-03 & azure2         & Bicor-None\\_signum0.317\\_minSize5\\_merge\\_ME\\_0.9\\_20151 \\\\\n",
       "\t CR         &  1.754421e-04 &  1.507463e-02 & lightskyblue   & Bicor-None\\_signum0.466\\_minSize4\\_merge\\_ME\\_0.9\\_20151 \\\\\n",
       "\\end{tabular}\n"
      ],
      "text/markdown": [
       "\n",
       "A grouped_df: 20 × 5\n",
       "\n",
       "| Cell_type &lt;chr&gt; | Pval &lt;dbl&gt; | Qval &lt;dbl&gt; | Module &lt;chr&gt; | Network &lt;chr&gt; |\n",
       "|---|---|---|---|---|\n",
       "| Macrophage |  0.000000e+00 |  0.000000e+00 | red            | Bicor-None_signum0.723_minSize10_merge_ME_0.9_20151 |\n",
       "| Astro      | 2.924869e-321 | 2.962380e-317 | yellow         | Bicor-None_signum0.466_minSize8_merge_ME_0.9_20151  |\n",
       "| Endo       | 9.438148e-312 | 8.497059e-308 | cyan           | Bicor-None_signum0.864_minSize3_merge_ME_0.9_20151  |\n",
       "| Oligo      | 2.284915e-191 | 3.192027e-188 | lightcyan      | Bicor-None_signum0.723_minSize6_merge_ME_0.9_20151  |\n",
       "| VLMC       | 8.648821e-136 | 1.001113e-132 | saddlebrown    | Bicor-None_signum0.723_minSize4_merge_ME_0.9_20151  |\n",
       "| SMC        |  3.154559e-86 |  2.457705e-83 | lightgreen     | Bicor-None_signum0.466_minSize8_merge_ME_0.9_20151  |\n",
       "| Pvalb      |  1.347643e-40 |  5.902384e-38 | blue           | Bicor-None_signum0.723_minSize5_merge_ME_0.9_20151  |\n",
       "| Sst        |  2.594186e-30 |  9.731321e-28 | red            | Bicor-None_signum0.723_minSize8_merge_ME_0.9_20151  |\n",
       "| Lamp5      |  3.956670e-29 |  1.457242e-26 | purple         | Bicor-None_signum0.864_minSize4_merge_ME_0.9_20151  |\n",
       "| Vip        |  2.527162e-25 |  7.875608e-23 | green          | Bicor-None_signum0.317_minSize5_merge_ME_0.9_20151  |\n",
       "| Peri       |  4.840564e-21 |  1.221843e-18 | orange2        | Bicor-None_signum0.466_minSize4_merge_ME_0.9_20151  |\n",
       "| NP         |  4.444286e-20 |  1.081390e-17 | darkorange     | Bicor-None_signum0.723_minSize4_merge_ME_0.9_20151  |\n",
       "| L5_IT      |  2.696716e-17 |  5.462602e-15 | navajowhite2   | Bicor-None_signum0.723_minSize3_merge_ME_0.9_20151  |\n",
       "| L6_IT      |  8.321450e-17 |  1.648542e-14 | mediumpurple4  | Bicor-None_signum0.466_minSize6_merge_ME_0.9_20151  |\n",
       "| L2_3_IT    |  1.626649e-12 |  2.503038e-10 | steelblue      | Bicor-None_signum0.723_minSize5_merge_ME_0.9_20151  |\n",
       "| L6_CT      |  1.283197e-10 |  1.744501e-08 | lightsteelblue | Bicor-None_signum0.37_minSize5_merge_ME_0.9_20151   |\n",
       "| Sncg       |  5.712628e-08 |  6.650451e-06 | darkred        | Bicor-None_signum0.864_minSize3_merge_ME_0.9_20151  |\n",
       "| L5_PT      |  7.322004e-06 |  7.126516e-04 | mistyrose4     | Bicor-None_signum0.317_minSize5_merge_ME_0.9_20151  |\n",
       "| Serpinf1   |  2.537830e-05 |  2.350059e-03 | azure2         | Bicor-None_signum0.317_minSize5_merge_ME_0.9_20151  |\n",
       "| CR         |  1.754421e-04 |  1.507463e-02 | lightskyblue   | Bicor-None_signum0.466_minSize4_merge_ME_0.9_20151  |\n",
       "\n"
      ],
      "text/plain": [
       "   Cell_type  Pval          Qval          Module        \n",
       "1  Macrophage  0.000000e+00  0.000000e+00 red           \n",
       "2  Astro      2.924869e-321 2.962380e-317 yellow        \n",
       "3  Endo       9.438148e-312 8.497059e-308 cyan          \n",
       "4  Oligo      2.284915e-191 3.192027e-188 lightcyan     \n",
       "5  VLMC       8.648821e-136 1.001113e-132 saddlebrown   \n",
       "6  SMC         3.154559e-86  2.457705e-83 lightgreen    \n",
       "7  Pvalb       1.347643e-40  5.902384e-38 blue          \n",
       "8  Sst         2.594186e-30  9.731321e-28 red           \n",
       "9  Lamp5       3.956670e-29  1.457242e-26 purple        \n",
       "10 Vip         2.527162e-25  7.875608e-23 green         \n",
       "11 Peri        4.840564e-21  1.221843e-18 orange2       \n",
       "12 NP          4.444286e-20  1.081390e-17 darkorange    \n",
       "13 L5_IT       2.696716e-17  5.462602e-15 navajowhite2  \n",
       "14 L6_IT       8.321450e-17  1.648542e-14 mediumpurple4 \n",
       "15 L2_3_IT     1.626649e-12  2.503038e-10 steelblue     \n",
       "16 L6_CT       1.283197e-10  1.744501e-08 lightsteelblue\n",
       "17 Sncg        5.712628e-08  6.650451e-06 darkred       \n",
       "18 L5_PT       7.322004e-06  7.126516e-04 mistyrose4    \n",
       "19 Serpinf1    2.537830e-05  2.350059e-03 azure2        \n",
       "20 CR          1.754421e-04  1.507463e-02 lightskyblue  \n",
       "   Network                                            \n",
       "1  Bicor-None_signum0.723_minSize10_merge_ME_0.9_20151\n",
       "2  Bicor-None_signum0.466_minSize8_merge_ME_0.9_20151 \n",
       "3  Bicor-None_signum0.864_minSize3_merge_ME_0.9_20151 \n",
       "4  Bicor-None_signum0.723_minSize6_merge_ME_0.9_20151 \n",
       "5  Bicor-None_signum0.723_minSize4_merge_ME_0.9_20151 \n",
       "6  Bicor-None_signum0.466_minSize8_merge_ME_0.9_20151 \n",
       "7  Bicor-None_signum0.723_minSize5_merge_ME_0.9_20151 \n",
       "8  Bicor-None_signum0.723_minSize8_merge_ME_0.9_20151 \n",
       "9  Bicor-None_signum0.864_minSize4_merge_ME_0.9_20151 \n",
       "10 Bicor-None_signum0.317_minSize5_merge_ME_0.9_20151 \n",
       "11 Bicor-None_signum0.466_minSize4_merge_ME_0.9_20151 \n",
       "12 Bicor-None_signum0.723_minSize4_merge_ME_0.9_20151 \n",
       "13 Bicor-None_signum0.723_minSize3_merge_ME_0.9_20151 \n",
       "14 Bicor-None_signum0.466_minSize6_merge_ME_0.9_20151 \n",
       "15 Bicor-None_signum0.723_minSize5_merge_ME_0.9_20151 \n",
       "16 Bicor-None_signum0.37_minSize5_merge_ME_0.9_20151  \n",
       "17 Bicor-None_signum0.864_minSize3_merge_ME_0.9_20151 \n",
       "18 Bicor-None_signum0.317_minSize5_merge_ME_0.9_20151 \n",
       "19 Bicor-None_signum0.317_minSize5_merge_ME_0.9_20151 \n",
       "20 Bicor-None_signum0.466_minSize4_merge_ME_0.9_20151 "
      ]
     },
     "metadata": {},
     "output_type": "display_data"
    }
   ],
   "source": [
    "pairwise_top_mods_df[,c(\"Cell_type\", \"Pval\", \"Qval\", \"Module\", \"Network\")]"
   ]
  },
  {
   "cell_type": "code",
   "execution_count": 24,
   "id": "33f3bdb4",
   "metadata": {
    "vscode": {
     "languageId": "r"
    }
   },
   "outputs": [],
   "source": [
    "# pairwise_top_mods_df[,c(\"Cell_type\", \"Pval\", \"Qval\", \"Module\", \"Network\")]"
   ]
  },
  {
   "cell_type": "markdown",
   "id": "03b2b613",
   "metadata": {},
   "source": [
    "### Enrichment results using 1 vs. mean DE genes"
   ]
  },
  {
   "cell_type": "code",
   "execution_count": 25,
   "id": "461bdf2d",
   "metadata": {
    "vscode": {
     "languageId": "r"
    }
   },
   "outputs": [],
   "source": [
    "mean_enrichments_df <- get_module_enrichments(network_dir, mean_ctype_genes, mod_def)"
   ]
  },
  {
   "cell_type": "code",
   "execution_count": 26,
   "id": "0830bd47",
   "metadata": {
    "vscode": {
     "languageId": "r"
    }
   },
   "outputs": [],
   "source": [
    "# Get most enriched cell type for each module\n",
    "# If cell type is most enriched in multiple modules, choose module with smallest p-value\n",
    "\n",
    "mean_top_mods_df <- mean_enrichments_df %>%\n",
    "    group_by(Network, Module) %>%\n",
    "    slice_min(Qval) %>%\n",
    "    group_by(Cell_type) %>%\n",
    "    arrange(Network) %>%\n",
    "    slice_min(Qval, with_ties=FALSE) %>%\n",
    "    filter(Qval < .05) %>%\n",
    "    arrange(Qval)"
   ]
  },
  {
   "cell_type": "code",
   "execution_count": 27,
   "id": "fcfe83c2",
   "metadata": {
    "vscode": {
     "languageId": "r"
    }
   },
   "outputs": [
    {
     "data": {
      "text/html": [
       "<table class=\"dataframe\">\n",
       "<caption>A grouped_df: 19 × 5</caption>\n",
       "<thead>\n",
       "\t<tr><th scope=col>Cell_type</th><th scope=col>Pval</th><th scope=col>Qval</th><th scope=col>Module</th><th scope=col>Network</th></tr>\n",
       "\t<tr><th scope=col>&lt;chr&gt;</th><th scope=col>&lt;dbl&gt;</th><th scope=col>&lt;dbl&gt;</th><th scope=col>&lt;chr&gt;</th><th scope=col>&lt;chr&gt;</th></tr>\n",
       "</thead>\n",
       "<tbody>\n",
       "\t<tr><td>Macrophage</td><td>1.560208e-313</td><td>1.321637e-308</td><td>black          </td><td>Bicor-None_signum0.723_minSize8_merge_ME_0.9_20151 </td></tr>\n",
       "\t<tr><td>Endo      </td><td>2.349002e-230</td><td>2.210907e-226</td><td>cyan           </td><td>Bicor-None_signum0.864_minSize3_merge_ME_0.9_20151 </td></tr>\n",
       "\t<tr><td>Astro     </td><td>3.454826e-230</td><td>2.926549e-226</td><td>yellow         </td><td>Bicor-None_signum0.466_minSize8_merge_ME_0.9_20151 </td></tr>\n",
       "\t<tr><td>Oligo     </td><td>1.001716e-146</td><td>1.488674e-143</td><td>lightcyan      </td><td>Bicor-None_signum0.723_minSize6_merge_ME_0.9_20151 </td></tr>\n",
       "\t<tr><td>VLMC      </td><td>6.824551e-120</td><td>8.893860e-117</td><td>lightsteelblue1</td><td>Bicor-None_signum0.466_minSize10_merge_ME_0.9_20151</td></tr>\n",
       "\t<tr><td>SMC       </td><td> 5.659848e-77</td><td> 4.892246e-74</td><td>brown          </td><td>Bicor-None_signum0.931_minSize3_merge_ME_0.9_20151 </td></tr>\n",
       "\t<tr><td>Peri      </td><td> 1.084067e-38</td><td> 5.370188e-36</td><td>skyblue        </td><td>Bicor-None_signum0.723_minSize6_merge_ME_0.9_20151 </td></tr>\n",
       "\t<tr><td>NP        </td><td> 5.147565e-35</td><td> 2.422473e-32</td><td>darkorange     </td><td>Bicor-None_signum0.723_minSize4_merge_ME_0.9_20151 </td></tr>\n",
       "\t<tr><td>L6_CT     </td><td> 3.345210e-26</td><td> 1.270715e-23</td><td>mediumpurple2  </td><td>Bicor-None_signum0.37_minSize10_merge_ME_0.9_20151 </td></tr>\n",
       "\t<tr><td>Sst       </td><td> 2.127435e-24</td><td> 7.668635e-22</td><td>green          </td><td>Bicor-None_signum0.864_minSize3_merge_ME_0.9_20151 </td></tr>\n",
       "\t<tr><td>Pvalb     </td><td> 2.756904e-24</td><td> 9.812379e-22</td><td>blue           </td><td>Bicor-None_signum0.723_minSize5_merge_ME_0.9_20151 </td></tr>\n",
       "\t<tr><td>Lamp5     </td><td> 6.791743e-22</td><td> 2.154763e-19</td><td>greenyellow    </td><td>Bicor-None_signum0.723_minSize10_merge_ME_0.9_20151</td></tr>\n",
       "\t<tr><td>L5_IT     </td><td> 3.928119e-18</td><td> 9.903185e-16</td><td>turquoise      </td><td>Bicor-None_signum0.466_minSize10_merge_ME_0.9_20151</td></tr>\n",
       "\t<tr><td>Vip       </td><td> 9.546785e-16</td><td> 2.063007e-13</td><td>yellow         </td><td>Bicor-None_signum0.466_minSize4_merge_ME_0.9_20151 </td></tr>\n",
       "\t<tr><td>L6_IT     </td><td> 7.343316e-12</td><td> 1.175888e-09</td><td>mediumpurple4  </td><td>Bicor-None_signum0.466_minSize5_merge_ME_0.9_20151 </td></tr>\n",
       "\t<tr><td>L2_3_IT   </td><td> 2.103788e-10</td><td> 3.010301e-08</td><td>honeydew1      </td><td>Bicor-None_signum0.466_minSize8_merge_ME_0.9_20151 </td></tr>\n",
       "\t<tr><td>L5_PT     </td><td> 1.092180e-09</td><td> 1.475558e-07</td><td>mistyrose4     </td><td>Bicor-None_signum0.317_minSize5_merge_ME_0.9_20151 </td></tr>\n",
       "\t<tr><td>Serpinf1  </td><td> 1.606857e-08</td><td> 1.989989e-06</td><td>azure2         </td><td>Bicor-None_signum0.317_minSize5_merge_ME_0.9_20151 </td></tr>\n",
       "\t<tr><td>CR        </td><td> 4.010693e-04</td><td> 2.662553e-02</td><td>lightskyblue   </td><td>Bicor-None_signum0.466_minSize4_merge_ME_0.9_20151 </td></tr>\n",
       "</tbody>\n",
       "</table>\n"
      ],
      "text/latex": [
       "A grouped\\_df: 19 × 5\n",
       "\\begin{tabular}{lllll}\n",
       " Cell\\_type & Pval & Qval & Module & Network\\\\\n",
       " <chr> & <dbl> & <dbl> & <chr> & <chr>\\\\\n",
       "\\hline\n",
       "\t Macrophage & 1.560208e-313 & 1.321637e-308 & black           & Bicor-None\\_signum0.723\\_minSize8\\_merge\\_ME\\_0.9\\_20151 \\\\\n",
       "\t Endo       & 2.349002e-230 & 2.210907e-226 & cyan            & Bicor-None\\_signum0.864\\_minSize3\\_merge\\_ME\\_0.9\\_20151 \\\\\n",
       "\t Astro      & 3.454826e-230 & 2.926549e-226 & yellow          & Bicor-None\\_signum0.466\\_minSize8\\_merge\\_ME\\_0.9\\_20151 \\\\\n",
       "\t Oligo      & 1.001716e-146 & 1.488674e-143 & lightcyan       & Bicor-None\\_signum0.723\\_minSize6\\_merge\\_ME\\_0.9\\_20151 \\\\\n",
       "\t VLMC       & 6.824551e-120 & 8.893860e-117 & lightsteelblue1 & Bicor-None\\_signum0.466\\_minSize10\\_merge\\_ME\\_0.9\\_20151\\\\\n",
       "\t SMC        &  5.659848e-77 &  4.892246e-74 & brown           & Bicor-None\\_signum0.931\\_minSize3\\_merge\\_ME\\_0.9\\_20151 \\\\\n",
       "\t Peri       &  1.084067e-38 &  5.370188e-36 & skyblue         & Bicor-None\\_signum0.723\\_minSize6\\_merge\\_ME\\_0.9\\_20151 \\\\\n",
       "\t NP         &  5.147565e-35 &  2.422473e-32 & darkorange      & Bicor-None\\_signum0.723\\_minSize4\\_merge\\_ME\\_0.9\\_20151 \\\\\n",
       "\t L6\\_CT      &  3.345210e-26 &  1.270715e-23 & mediumpurple2   & Bicor-None\\_signum0.37\\_minSize10\\_merge\\_ME\\_0.9\\_20151 \\\\\n",
       "\t Sst        &  2.127435e-24 &  7.668635e-22 & green           & Bicor-None\\_signum0.864\\_minSize3\\_merge\\_ME\\_0.9\\_20151 \\\\\n",
       "\t Pvalb      &  2.756904e-24 &  9.812379e-22 & blue            & Bicor-None\\_signum0.723\\_minSize5\\_merge\\_ME\\_0.9\\_20151 \\\\\n",
       "\t Lamp5      &  6.791743e-22 &  2.154763e-19 & greenyellow     & Bicor-None\\_signum0.723\\_minSize10\\_merge\\_ME\\_0.9\\_20151\\\\\n",
       "\t L5\\_IT      &  3.928119e-18 &  9.903185e-16 & turquoise       & Bicor-None\\_signum0.466\\_minSize10\\_merge\\_ME\\_0.9\\_20151\\\\\n",
       "\t Vip        &  9.546785e-16 &  2.063007e-13 & yellow          & Bicor-None\\_signum0.466\\_minSize4\\_merge\\_ME\\_0.9\\_20151 \\\\\n",
       "\t L6\\_IT      &  7.343316e-12 &  1.175888e-09 & mediumpurple4   & Bicor-None\\_signum0.466\\_minSize5\\_merge\\_ME\\_0.9\\_20151 \\\\\n",
       "\t L2\\_3\\_IT    &  2.103788e-10 &  3.010301e-08 & honeydew1       & Bicor-None\\_signum0.466\\_minSize8\\_merge\\_ME\\_0.9\\_20151 \\\\\n",
       "\t L5\\_PT      &  1.092180e-09 &  1.475558e-07 & mistyrose4      & Bicor-None\\_signum0.317\\_minSize5\\_merge\\_ME\\_0.9\\_20151 \\\\\n",
       "\t Serpinf1   &  1.606857e-08 &  1.989989e-06 & azure2          & Bicor-None\\_signum0.317\\_minSize5\\_merge\\_ME\\_0.9\\_20151 \\\\\n",
       "\t CR         &  4.010693e-04 &  2.662553e-02 & lightskyblue    & Bicor-None\\_signum0.466\\_minSize4\\_merge\\_ME\\_0.9\\_20151 \\\\\n",
       "\\end{tabular}\n"
      ],
      "text/markdown": [
       "\n",
       "A grouped_df: 19 × 5\n",
       "\n",
       "| Cell_type &lt;chr&gt; | Pval &lt;dbl&gt; | Qval &lt;dbl&gt; | Module &lt;chr&gt; | Network &lt;chr&gt; |\n",
       "|---|---|---|---|---|\n",
       "| Macrophage | 1.560208e-313 | 1.321637e-308 | black           | Bicor-None_signum0.723_minSize8_merge_ME_0.9_20151  |\n",
       "| Endo       | 2.349002e-230 | 2.210907e-226 | cyan            | Bicor-None_signum0.864_minSize3_merge_ME_0.9_20151  |\n",
       "| Astro      | 3.454826e-230 | 2.926549e-226 | yellow          | Bicor-None_signum0.466_minSize8_merge_ME_0.9_20151  |\n",
       "| Oligo      | 1.001716e-146 | 1.488674e-143 | lightcyan       | Bicor-None_signum0.723_minSize6_merge_ME_0.9_20151  |\n",
       "| VLMC       | 6.824551e-120 | 8.893860e-117 | lightsteelblue1 | Bicor-None_signum0.466_minSize10_merge_ME_0.9_20151 |\n",
       "| SMC        |  5.659848e-77 |  4.892246e-74 | brown           | Bicor-None_signum0.931_minSize3_merge_ME_0.9_20151  |\n",
       "| Peri       |  1.084067e-38 |  5.370188e-36 | skyblue         | Bicor-None_signum0.723_minSize6_merge_ME_0.9_20151  |\n",
       "| NP         |  5.147565e-35 |  2.422473e-32 | darkorange      | Bicor-None_signum0.723_minSize4_merge_ME_0.9_20151  |\n",
       "| L6_CT      |  3.345210e-26 |  1.270715e-23 | mediumpurple2   | Bicor-None_signum0.37_minSize10_merge_ME_0.9_20151  |\n",
       "| Sst        |  2.127435e-24 |  7.668635e-22 | green           | Bicor-None_signum0.864_minSize3_merge_ME_0.9_20151  |\n",
       "| Pvalb      |  2.756904e-24 |  9.812379e-22 | blue            | Bicor-None_signum0.723_minSize5_merge_ME_0.9_20151  |\n",
       "| Lamp5      |  6.791743e-22 |  2.154763e-19 | greenyellow     | Bicor-None_signum0.723_minSize10_merge_ME_0.9_20151 |\n",
       "| L5_IT      |  3.928119e-18 |  9.903185e-16 | turquoise       | Bicor-None_signum0.466_minSize10_merge_ME_0.9_20151 |\n",
       "| Vip        |  9.546785e-16 |  2.063007e-13 | yellow          | Bicor-None_signum0.466_minSize4_merge_ME_0.9_20151  |\n",
       "| L6_IT      |  7.343316e-12 |  1.175888e-09 | mediumpurple4   | Bicor-None_signum0.466_minSize5_merge_ME_0.9_20151  |\n",
       "| L2_3_IT    |  2.103788e-10 |  3.010301e-08 | honeydew1       | Bicor-None_signum0.466_minSize8_merge_ME_0.9_20151  |\n",
       "| L5_PT      |  1.092180e-09 |  1.475558e-07 | mistyrose4      | Bicor-None_signum0.317_minSize5_merge_ME_0.9_20151  |\n",
       "| Serpinf1   |  1.606857e-08 |  1.989989e-06 | azure2          | Bicor-None_signum0.317_minSize5_merge_ME_0.9_20151  |\n",
       "| CR         |  4.010693e-04 |  2.662553e-02 | lightskyblue    | Bicor-None_signum0.466_minSize4_merge_ME_0.9_20151  |\n",
       "\n"
      ],
      "text/plain": [
       "   Cell_type  Pval          Qval          Module         \n",
       "1  Macrophage 1.560208e-313 1.321637e-308 black          \n",
       "2  Endo       2.349002e-230 2.210907e-226 cyan           \n",
       "3  Astro      3.454826e-230 2.926549e-226 yellow         \n",
       "4  Oligo      1.001716e-146 1.488674e-143 lightcyan      \n",
       "5  VLMC       6.824551e-120 8.893860e-117 lightsteelblue1\n",
       "6  SMC         5.659848e-77  4.892246e-74 brown          \n",
       "7  Peri        1.084067e-38  5.370188e-36 skyblue        \n",
       "8  NP          5.147565e-35  2.422473e-32 darkorange     \n",
       "9  L6_CT       3.345210e-26  1.270715e-23 mediumpurple2  \n",
       "10 Sst         2.127435e-24  7.668635e-22 green          \n",
       "11 Pvalb       2.756904e-24  9.812379e-22 blue           \n",
       "12 Lamp5       6.791743e-22  2.154763e-19 greenyellow    \n",
       "13 L5_IT       3.928119e-18  9.903185e-16 turquoise      \n",
       "14 Vip         9.546785e-16  2.063007e-13 yellow         \n",
       "15 L6_IT       7.343316e-12  1.175888e-09 mediumpurple4  \n",
       "16 L2_3_IT     2.103788e-10  3.010301e-08 honeydew1      \n",
       "17 L5_PT       1.092180e-09  1.475558e-07 mistyrose4     \n",
       "18 Serpinf1    1.606857e-08  1.989989e-06 azure2         \n",
       "19 CR          4.010693e-04  2.662553e-02 lightskyblue   \n",
       "   Network                                            \n",
       "1  Bicor-None_signum0.723_minSize8_merge_ME_0.9_20151 \n",
       "2  Bicor-None_signum0.864_minSize3_merge_ME_0.9_20151 \n",
       "3  Bicor-None_signum0.466_minSize8_merge_ME_0.9_20151 \n",
       "4  Bicor-None_signum0.723_minSize6_merge_ME_0.9_20151 \n",
       "5  Bicor-None_signum0.466_minSize10_merge_ME_0.9_20151\n",
       "6  Bicor-None_signum0.931_minSize3_merge_ME_0.9_20151 \n",
       "7  Bicor-None_signum0.723_minSize6_merge_ME_0.9_20151 \n",
       "8  Bicor-None_signum0.723_minSize4_merge_ME_0.9_20151 \n",
       "9  Bicor-None_signum0.37_minSize10_merge_ME_0.9_20151 \n",
       "10 Bicor-None_signum0.864_minSize3_merge_ME_0.9_20151 \n",
       "11 Bicor-None_signum0.723_minSize5_merge_ME_0.9_20151 \n",
       "12 Bicor-None_signum0.723_minSize10_merge_ME_0.9_20151\n",
       "13 Bicor-None_signum0.466_minSize10_merge_ME_0.9_20151\n",
       "14 Bicor-None_signum0.466_minSize4_merge_ME_0.9_20151 \n",
       "15 Bicor-None_signum0.466_minSize5_merge_ME_0.9_20151 \n",
       "16 Bicor-None_signum0.466_minSize8_merge_ME_0.9_20151 \n",
       "17 Bicor-None_signum0.317_minSize5_merge_ME_0.9_20151 \n",
       "18 Bicor-None_signum0.317_minSize5_merge_ME_0.9_20151 \n",
       "19 Bicor-None_signum0.466_minSize4_merge_ME_0.9_20151 "
      ]
     },
     "metadata": {},
     "output_type": "display_data"
    }
   ],
   "source": [
    "mean_top_mods_df[,c(\"Cell_type\", \"Pval\", \"Qval\", \"Module\", \"Network\")]"
   ]
  },
  {
   "cell_type": "markdown",
   "id": "ef3a3af6",
   "metadata": {},
   "source": [
    "### Compare enrichment results"
   ]
  },
  {
   "cell_type": "code",
   "execution_count": 28,
   "id": "d4cdd2ff",
   "metadata": {
    "vscode": {
     "languageId": "r"
    }
   },
   "outputs": [],
   "source": [
    "pooled_top_mods_df$Network_short <- gsub(\"Bicor-None_\", \"\", gsub(\"_merge_ME_0.9_20151\", \"\", pooled_top_mods_df$Network))\n",
    "pairwise_top_mods_df$Network_short <- gsub(\"Bicor-None_\", \"\", gsub(\"_merge_ME_0.9_20151\", \"\", pairwise_top_mods_df$Network))\n",
    "mean_top_mods_df$Network_short <- gsub(\"Bicor-None_\", \"\", gsub(\"_merge_ME_0.9_20151\", \"\", mean_top_mods_df$Network))\n",
    "\n",
    "cols <- c(\"Cell_type\", \"Qval\", \"Module\", \"Network_short\")\n",
    "\n",
    "all_top_mods_df <- merge(\n",
    "    merge(\n",
    "        pooled_top_mods_df[,cols], \n",
    "        pairwise_top_mods_df[,cols], \n",
    "        by=\"Cell_type\", all=TRUE\n",
    "    ), \n",
    "    mean_top_mods_df[,cols], by=\"Cell_type\", all=TRUE\n",
    ")"
   ]
  },
  {
   "cell_type": "code",
   "execution_count": 29,
   "id": "6a9404c7",
   "metadata": {
    "vscode": {
     "languageId": "r"
    }
   },
   "outputs": [
    {
     "data": {
      "text/html": [
       "<table class=\"dataframe\">\n",
       "<caption>A data.frame: 22 × 10</caption>\n",
       "<thead>\n",
       "\t<tr><th scope=col>Cell_type</th><th scope=col>Module</th><th scope=col>Module.x</th><th scope=col>Module.y</th><th scope=col>Network_short</th><th scope=col>Network_short.x</th><th scope=col>Network_short.y</th><th scope=col>Qval</th><th scope=col>Qval.x</th><th scope=col>Qval.y</th></tr>\n",
       "\t<tr><th scope=col>&lt;chr&gt;</th><th scope=col>&lt;chr&gt;</th><th scope=col>&lt;chr&gt;</th><th scope=col>&lt;chr&gt;</th><th scope=col>&lt;chr&gt;</th><th scope=col>&lt;chr&gt;</th><th scope=col>&lt;chr&gt;</th><th scope=col>&lt;dbl&gt;</th><th scope=col>&lt;dbl&gt;</th><th scope=col>&lt;dbl&gt;</th></tr>\n",
       "</thead>\n",
       "<tbody>\n",
       "\t<tr><td>Astro     </td><td>yellow         </td><td>yellow         </td><td>yellow        </td><td>signum0.466_minSize8 </td><td>signum0.723_minSize3 </td><td>signum0.466_minSize8 </td><td>2.926549e-226</td><td>1.112345e-189</td><td>2.962380e-317</td></tr>\n",
       "\t<tr><td>CR        </td><td>lightskyblue   </td><td>NA             </td><td>lightskyblue  </td><td>signum0.466_minSize4 </td><td>NA                   </td><td>signum0.466_minSize4 </td><td> 2.662553e-02</td><td>           NA</td><td> 1.507463e-02</td></tr>\n",
       "\t<tr><td>Endo      </td><td>cyan           </td><td>cyan           </td><td>cyan          </td><td>signum0.864_minSize3 </td><td>signum0.864_minSize3 </td><td>signum0.864_minSize3 </td><td>2.210907e-226</td><td>6.041734e-244</td><td>8.497059e-308</td></tr>\n",
       "\t<tr><td>L2_3_IT   </td><td>honeydew1      </td><td>slateblue      </td><td>steelblue     </td><td>signum0.466_minSize8 </td><td>signum0.317_minSize10</td><td>signum0.723_minSize5 </td><td> 3.010301e-08</td><td> 2.670436e-11</td><td> 2.503038e-10</td></tr>\n",
       "\t<tr><td>L4        </td><td>NA             </td><td>dodgerblue4    </td><td>NA            </td><td>NA                   </td><td>signum0.466_minSize4 </td><td>NA                   </td><td>           NA</td><td> 6.070336e-04</td><td>           NA</td></tr>\n",
       "\t<tr><td>L5_IT     </td><td>turquoise      </td><td>navajowhite2   </td><td>navajowhite2  </td><td>signum0.466_minSize10</td><td>signum0.723_minSize3 </td><td>signum0.723_minSize3 </td><td> 9.903185e-16</td><td> 1.441855e-16</td><td> 5.462602e-15</td></tr>\n",
       "\t<tr><td>L5_PT     </td><td>mistyrose4     </td><td>mistyrose4     </td><td>mistyrose4    </td><td>signum0.317_minSize5 </td><td>signum0.317_minSize5 </td><td>signum0.317_minSize5 </td><td> 1.475558e-07</td><td> 5.509422e-08</td><td> 7.126516e-04</td></tr>\n",
       "\t<tr><td>L6_CT     </td><td>mediumpurple2  </td><td>navajowhite2   </td><td>lightsteelblue</td><td>signum0.37_minSize10 </td><td>signum0.723_minSize4 </td><td>signum0.37_minSize5  </td><td> 1.270715e-23</td><td> 1.028914e-17</td><td> 1.744501e-08</td></tr>\n",
       "\t<tr><td>L6_IT     </td><td>mediumpurple4  </td><td>plum3          </td><td>mediumpurple4 </td><td>signum0.466_minSize5 </td><td>signum0.466_minSize6 </td><td>signum0.466_minSize6 </td><td> 1.175888e-09</td><td> 5.491443e-10</td><td> 1.648542e-14</td></tr>\n",
       "\t<tr><td>Lamp5     </td><td>greenyellow    </td><td>cyan           </td><td>purple        </td><td>signum0.723_minSize10</td><td>signum0.317_minSize5 </td><td>signum0.864_minSize4 </td><td> 2.154763e-19</td><td> 4.495770e-19</td><td> 1.457242e-26</td></tr>\n",
       "\t<tr><td>Macrophage</td><td>black          </td><td>black          </td><td>red           </td><td>signum0.723_minSize8 </td><td>signum0.723_minSize8 </td><td>signum0.723_minSize10</td><td>1.321637e-308</td><td>4.291972e-285</td><td> 0.000000e+00</td></tr>\n",
       "\t<tr><td>Meis2     </td><td>NA             </td><td>darkorange2    </td><td>NA            </td><td>NA                   </td><td>signum0.466_minSize10</td><td>NA                   </td><td>           NA</td><td> 8.142277e-03</td><td>           NA</td></tr>\n",
       "\t<tr><td>NP        </td><td>darkorange     </td><td>darkorange     </td><td>darkorange    </td><td>signum0.723_minSize4 </td><td>signum0.723_minSize4 </td><td>signum0.723_minSize4 </td><td> 2.422473e-32</td><td> 1.123337e-30</td><td> 1.081390e-17</td></tr>\n",
       "\t<tr><td>Oligo     </td><td>lightcyan      </td><td>lightcyan      </td><td>lightcyan     </td><td>signum0.723_minSize6 </td><td>signum0.723_minSize6 </td><td>signum0.723_minSize6 </td><td>1.488674e-143</td><td>1.413208e-128</td><td>3.192027e-188</td></tr>\n",
       "\t<tr><td>Peri      </td><td>skyblue        </td><td>blue           </td><td>orange2       </td><td>signum0.723_minSize6 </td><td>signum0.864_minSize10</td><td>signum0.466_minSize4 </td><td> 5.370188e-36</td><td> 2.213413e-30</td><td> 1.221843e-18</td></tr>\n",
       "\t<tr><td>Pvalb     </td><td>blue           </td><td>blue           </td><td>blue          </td><td>signum0.723_minSize5 </td><td>signum0.723_minSize5 </td><td>signum0.723_minSize5 </td><td> 9.812379e-22</td><td> 9.731551e-13</td><td> 5.902384e-38</td></tr>\n",
       "\t<tr><td>Serpinf1  </td><td>azure2         </td><td>azure2         </td><td>azure2        </td><td>signum0.317_minSize5 </td><td>signum0.317_minSize5 </td><td>signum0.317_minSize5 </td><td> 1.989989e-06</td><td> 5.293579e-05</td><td> 2.350059e-03</td></tr>\n",
       "\t<tr><td>SMC       </td><td>brown          </td><td>brown          </td><td>lightgreen    </td><td>signum0.931_minSize3 </td><td>signum0.931_minSize3 </td><td>signum0.466_minSize8 </td><td> 4.892246e-74</td><td> 1.102466e-67</td><td> 2.457705e-83</td></tr>\n",
       "\t<tr><td>Sncg      </td><td>NA             </td><td>NA             </td><td>darkred       </td><td>NA                   </td><td>NA                   </td><td>signum0.864_minSize3 </td><td>           NA</td><td>           NA</td><td> 6.650451e-06</td></tr>\n",
       "\t<tr><td>Sst       </td><td>green          </td><td>green          </td><td>red           </td><td>signum0.864_minSize3 </td><td>signum0.864_minSize3 </td><td>signum0.723_minSize8 </td><td> 7.668635e-22</td><td> 5.467851e-14</td><td> 9.731321e-28</td></tr>\n",
       "\t<tr><td>Vip       </td><td>yellow         </td><td>yellow         </td><td>green         </td><td>signum0.466_minSize4 </td><td>signum0.466_minSize4 </td><td>signum0.317_minSize5 </td><td> 2.063007e-13</td><td> 9.506465e-14</td><td> 7.875608e-23</td></tr>\n",
       "\t<tr><td>VLMC      </td><td>lightsteelblue1</td><td>lightsteelblue1</td><td>saddlebrown   </td><td>signum0.466_minSize10</td><td>signum0.466_minSize10</td><td>signum0.723_minSize4 </td><td>8.893860e-117</td><td>2.814562e-118</td><td>1.001113e-132</td></tr>\n",
       "</tbody>\n",
       "</table>\n"
      ],
      "text/latex": [
       "A data.frame: 22 × 10\n",
       "\\begin{tabular}{llllllllll}\n",
       " Cell\\_type & Module & Module.x & Module.y & Network\\_short & Network\\_short.x & Network\\_short.y & Qval & Qval.x & Qval.y\\\\\n",
       " <chr> & <chr> & <chr> & <chr> & <chr> & <chr> & <chr> & <dbl> & <dbl> & <dbl>\\\\\n",
       "\\hline\n",
       "\t Astro      & yellow          & yellow          & yellow         & signum0.466\\_minSize8  & signum0.723\\_minSize3  & signum0.466\\_minSize8  & 2.926549e-226 & 1.112345e-189 & 2.962380e-317\\\\\n",
       "\t CR         & lightskyblue    & NA              & lightskyblue   & signum0.466\\_minSize4  & NA                    & signum0.466\\_minSize4  &  2.662553e-02 &            NA &  1.507463e-02\\\\\n",
       "\t Endo       & cyan            & cyan            & cyan           & signum0.864\\_minSize3  & signum0.864\\_minSize3  & signum0.864\\_minSize3  & 2.210907e-226 & 6.041734e-244 & 8.497059e-308\\\\\n",
       "\t L2\\_3\\_IT    & honeydew1       & slateblue       & steelblue      & signum0.466\\_minSize8  & signum0.317\\_minSize10 & signum0.723\\_minSize5  &  3.010301e-08 &  2.670436e-11 &  2.503038e-10\\\\\n",
       "\t L4         & NA              & dodgerblue4     & NA             & NA                    & signum0.466\\_minSize4  & NA                    &            NA &  6.070336e-04 &            NA\\\\\n",
       "\t L5\\_IT      & turquoise       & navajowhite2    & navajowhite2   & signum0.466\\_minSize10 & signum0.723\\_minSize3  & signum0.723\\_minSize3  &  9.903185e-16 &  1.441855e-16 &  5.462602e-15\\\\\n",
       "\t L5\\_PT      & mistyrose4      & mistyrose4      & mistyrose4     & signum0.317\\_minSize5  & signum0.317\\_minSize5  & signum0.317\\_minSize5  &  1.475558e-07 &  5.509422e-08 &  7.126516e-04\\\\\n",
       "\t L6\\_CT      & mediumpurple2   & navajowhite2    & lightsteelblue & signum0.37\\_minSize10  & signum0.723\\_minSize4  & signum0.37\\_minSize5   &  1.270715e-23 &  1.028914e-17 &  1.744501e-08\\\\\n",
       "\t L6\\_IT      & mediumpurple4   & plum3           & mediumpurple4  & signum0.466\\_minSize5  & signum0.466\\_minSize6  & signum0.466\\_minSize6  &  1.175888e-09 &  5.491443e-10 &  1.648542e-14\\\\\n",
       "\t Lamp5      & greenyellow     & cyan            & purple         & signum0.723\\_minSize10 & signum0.317\\_minSize5  & signum0.864\\_minSize4  &  2.154763e-19 &  4.495770e-19 &  1.457242e-26\\\\\n",
       "\t Macrophage & black           & black           & red            & signum0.723\\_minSize8  & signum0.723\\_minSize8  & signum0.723\\_minSize10 & 1.321637e-308 & 4.291972e-285 &  0.000000e+00\\\\\n",
       "\t Meis2      & NA              & darkorange2     & NA             & NA                    & signum0.466\\_minSize10 & NA                    &            NA &  8.142277e-03 &            NA\\\\\n",
       "\t NP         & darkorange      & darkorange      & darkorange     & signum0.723\\_minSize4  & signum0.723\\_minSize4  & signum0.723\\_minSize4  &  2.422473e-32 &  1.123337e-30 &  1.081390e-17\\\\\n",
       "\t Oligo      & lightcyan       & lightcyan       & lightcyan      & signum0.723\\_minSize6  & signum0.723\\_minSize6  & signum0.723\\_minSize6  & 1.488674e-143 & 1.413208e-128 & 3.192027e-188\\\\\n",
       "\t Peri       & skyblue         & blue            & orange2        & signum0.723\\_minSize6  & signum0.864\\_minSize10 & signum0.466\\_minSize4  &  5.370188e-36 &  2.213413e-30 &  1.221843e-18\\\\\n",
       "\t Pvalb      & blue            & blue            & blue           & signum0.723\\_minSize5  & signum0.723\\_minSize5  & signum0.723\\_minSize5  &  9.812379e-22 &  9.731551e-13 &  5.902384e-38\\\\\n",
       "\t Serpinf1   & azure2          & azure2          & azure2         & signum0.317\\_minSize5  & signum0.317\\_minSize5  & signum0.317\\_minSize5  &  1.989989e-06 &  5.293579e-05 &  2.350059e-03\\\\\n",
       "\t SMC        & brown           & brown           & lightgreen     & signum0.931\\_minSize3  & signum0.931\\_minSize3  & signum0.466\\_minSize8  &  4.892246e-74 &  1.102466e-67 &  2.457705e-83\\\\\n",
       "\t Sncg       & NA              & NA              & darkred        & NA                    & NA                    & signum0.864\\_minSize3  &            NA &            NA &  6.650451e-06\\\\\n",
       "\t Sst        & green           & green           & red            & signum0.864\\_minSize3  & signum0.864\\_minSize3  & signum0.723\\_minSize8  &  7.668635e-22 &  5.467851e-14 &  9.731321e-28\\\\\n",
       "\t Vip        & yellow          & yellow          & green          & signum0.466\\_minSize4  & signum0.466\\_minSize4  & signum0.317\\_minSize5  &  2.063007e-13 &  9.506465e-14 &  7.875608e-23\\\\\n",
       "\t VLMC       & lightsteelblue1 & lightsteelblue1 & saddlebrown    & signum0.466\\_minSize10 & signum0.466\\_minSize10 & signum0.723\\_minSize4  & 8.893860e-117 & 2.814562e-118 & 1.001113e-132\\\\\n",
       "\\end{tabular}\n"
      ],
      "text/markdown": [
       "\n",
       "A data.frame: 22 × 10\n",
       "\n",
       "| Cell_type &lt;chr&gt; | Module &lt;chr&gt; | Module.x &lt;chr&gt; | Module.y &lt;chr&gt; | Network_short &lt;chr&gt; | Network_short.x &lt;chr&gt; | Network_short.y &lt;chr&gt; | Qval &lt;dbl&gt; | Qval.x &lt;dbl&gt; | Qval.y &lt;dbl&gt; |\n",
       "|---|---|---|---|---|---|---|---|---|---|\n",
       "| Astro      | yellow          | yellow          | yellow         | signum0.466_minSize8  | signum0.723_minSize3  | signum0.466_minSize8  | 2.926549e-226 | 1.112345e-189 | 2.962380e-317 |\n",
       "| CR         | lightskyblue    | NA              | lightskyblue   | signum0.466_minSize4  | NA                    | signum0.466_minSize4  |  2.662553e-02 |            NA |  1.507463e-02 |\n",
       "| Endo       | cyan            | cyan            | cyan           | signum0.864_minSize3  | signum0.864_minSize3  | signum0.864_minSize3  | 2.210907e-226 | 6.041734e-244 | 8.497059e-308 |\n",
       "| L2_3_IT    | honeydew1       | slateblue       | steelblue      | signum0.466_minSize8  | signum0.317_minSize10 | signum0.723_minSize5  |  3.010301e-08 |  2.670436e-11 |  2.503038e-10 |\n",
       "| L4         | NA              | dodgerblue4     | NA             | NA                    | signum0.466_minSize4  | NA                    |            NA |  6.070336e-04 |            NA |\n",
       "| L5_IT      | turquoise       | navajowhite2    | navajowhite2   | signum0.466_minSize10 | signum0.723_minSize3  | signum0.723_minSize3  |  9.903185e-16 |  1.441855e-16 |  5.462602e-15 |\n",
       "| L5_PT      | mistyrose4      | mistyrose4      | mistyrose4     | signum0.317_minSize5  | signum0.317_minSize5  | signum0.317_minSize5  |  1.475558e-07 |  5.509422e-08 |  7.126516e-04 |\n",
       "| L6_CT      | mediumpurple2   | navajowhite2    | lightsteelblue | signum0.37_minSize10  | signum0.723_minSize4  | signum0.37_minSize5   |  1.270715e-23 |  1.028914e-17 |  1.744501e-08 |\n",
       "| L6_IT      | mediumpurple4   | plum3           | mediumpurple4  | signum0.466_minSize5  | signum0.466_minSize6  | signum0.466_minSize6  |  1.175888e-09 |  5.491443e-10 |  1.648542e-14 |\n",
       "| Lamp5      | greenyellow     | cyan            | purple         | signum0.723_minSize10 | signum0.317_minSize5  | signum0.864_minSize4  |  2.154763e-19 |  4.495770e-19 |  1.457242e-26 |\n",
       "| Macrophage | black           | black           | red            | signum0.723_minSize8  | signum0.723_minSize8  | signum0.723_minSize10 | 1.321637e-308 | 4.291972e-285 |  0.000000e+00 |\n",
       "| Meis2      | NA              | darkorange2     | NA             | NA                    | signum0.466_minSize10 | NA                    |            NA |  8.142277e-03 |            NA |\n",
       "| NP         | darkorange      | darkorange      | darkorange     | signum0.723_minSize4  | signum0.723_minSize4  | signum0.723_minSize4  |  2.422473e-32 |  1.123337e-30 |  1.081390e-17 |\n",
       "| Oligo      | lightcyan       | lightcyan       | lightcyan      | signum0.723_minSize6  | signum0.723_minSize6  | signum0.723_minSize6  | 1.488674e-143 | 1.413208e-128 | 3.192027e-188 |\n",
       "| Peri       | skyblue         | blue            | orange2        | signum0.723_minSize6  | signum0.864_minSize10 | signum0.466_minSize4  |  5.370188e-36 |  2.213413e-30 |  1.221843e-18 |\n",
       "| Pvalb      | blue            | blue            | blue           | signum0.723_minSize5  | signum0.723_minSize5  | signum0.723_minSize5  |  9.812379e-22 |  9.731551e-13 |  5.902384e-38 |\n",
       "| Serpinf1   | azure2          | azure2          | azure2         | signum0.317_minSize5  | signum0.317_minSize5  | signum0.317_minSize5  |  1.989989e-06 |  5.293579e-05 |  2.350059e-03 |\n",
       "| SMC        | brown           | brown           | lightgreen     | signum0.931_minSize3  | signum0.931_minSize3  | signum0.466_minSize8  |  4.892246e-74 |  1.102466e-67 |  2.457705e-83 |\n",
       "| Sncg       | NA              | NA              | darkred        | NA                    | NA                    | signum0.864_minSize3  |            NA |            NA |  6.650451e-06 |\n",
       "| Sst        | green           | green           | red            | signum0.864_minSize3  | signum0.864_minSize3  | signum0.723_minSize8  |  7.668635e-22 |  5.467851e-14 |  9.731321e-28 |\n",
       "| Vip        | yellow          | yellow          | green          | signum0.466_minSize4  | signum0.466_minSize4  | signum0.317_minSize5  |  2.063007e-13 |  9.506465e-14 |  7.875608e-23 |\n",
       "| VLMC       | lightsteelblue1 | lightsteelblue1 | saddlebrown    | signum0.466_minSize10 | signum0.466_minSize10 | signum0.723_minSize4  | 8.893860e-117 | 2.814562e-118 | 1.001113e-132 |\n",
       "\n"
      ],
      "text/plain": [
       "   Cell_type  Module          Module.x        Module.y      \n",
       "1  Astro      yellow          yellow          yellow        \n",
       "2  CR         lightskyblue    NA              lightskyblue  \n",
       "3  Endo       cyan            cyan            cyan          \n",
       "4  L2_3_IT    honeydew1       slateblue       steelblue     \n",
       "5  L4         NA              dodgerblue4     NA            \n",
       "6  L5_IT      turquoise       navajowhite2    navajowhite2  \n",
       "7  L5_PT      mistyrose4      mistyrose4      mistyrose4    \n",
       "8  L6_CT      mediumpurple2   navajowhite2    lightsteelblue\n",
       "9  L6_IT      mediumpurple4   plum3           mediumpurple4 \n",
       "10 Lamp5      greenyellow     cyan            purple        \n",
       "11 Macrophage black           black           red           \n",
       "12 Meis2      NA              darkorange2     NA            \n",
       "13 NP         darkorange      darkorange      darkorange    \n",
       "14 Oligo      lightcyan       lightcyan       lightcyan     \n",
       "15 Peri       skyblue         blue            orange2       \n",
       "16 Pvalb      blue            blue            blue          \n",
       "17 Serpinf1   azure2          azure2          azure2        \n",
       "18 SMC        brown           brown           lightgreen    \n",
       "19 Sncg       NA              NA              darkred       \n",
       "20 Sst        green           green           red           \n",
       "21 Vip        yellow          yellow          green         \n",
       "22 VLMC       lightsteelblue1 lightsteelblue1 saddlebrown   \n",
       "   Network_short         Network_short.x       Network_short.y      \n",
       "1  signum0.466_minSize8  signum0.723_minSize3  signum0.466_minSize8 \n",
       "2  signum0.466_minSize4  NA                    signum0.466_minSize4 \n",
       "3  signum0.864_minSize3  signum0.864_minSize3  signum0.864_minSize3 \n",
       "4  signum0.466_minSize8  signum0.317_minSize10 signum0.723_minSize5 \n",
       "5  NA                    signum0.466_minSize4  NA                   \n",
       "6  signum0.466_minSize10 signum0.723_minSize3  signum0.723_minSize3 \n",
       "7  signum0.317_minSize5  signum0.317_minSize5  signum0.317_minSize5 \n",
       "8  signum0.37_minSize10  signum0.723_minSize4  signum0.37_minSize5  \n",
       "9  signum0.466_minSize5  signum0.466_minSize6  signum0.466_minSize6 \n",
       "10 signum0.723_minSize10 signum0.317_minSize5  signum0.864_minSize4 \n",
       "11 signum0.723_minSize8  signum0.723_minSize8  signum0.723_minSize10\n",
       "12 NA                    signum0.466_minSize10 NA                   \n",
       "13 signum0.723_minSize4  signum0.723_minSize4  signum0.723_minSize4 \n",
       "14 signum0.723_minSize6  signum0.723_minSize6  signum0.723_minSize6 \n",
       "15 signum0.723_minSize6  signum0.864_minSize10 signum0.466_minSize4 \n",
       "16 signum0.723_minSize5  signum0.723_minSize5  signum0.723_minSize5 \n",
       "17 signum0.317_minSize5  signum0.317_minSize5  signum0.317_minSize5 \n",
       "18 signum0.931_minSize3  signum0.931_minSize3  signum0.466_minSize8 \n",
       "19 NA                    NA                    signum0.864_minSize3 \n",
       "20 signum0.864_minSize3  signum0.864_minSize3  signum0.723_minSize8 \n",
       "21 signum0.466_minSize4  signum0.466_minSize4  signum0.317_minSize5 \n",
       "22 signum0.466_minSize10 signum0.466_minSize10 signum0.723_minSize4 \n",
       "   Qval          Qval.x        Qval.y       \n",
       "1  2.926549e-226 1.112345e-189 2.962380e-317\n",
       "2   2.662553e-02            NA  1.507463e-02\n",
       "3  2.210907e-226 6.041734e-244 8.497059e-308\n",
       "4   3.010301e-08  2.670436e-11  2.503038e-10\n",
       "5             NA  6.070336e-04            NA\n",
       "6   9.903185e-16  1.441855e-16  5.462602e-15\n",
       "7   1.475558e-07  5.509422e-08  7.126516e-04\n",
       "8   1.270715e-23  1.028914e-17  1.744501e-08\n",
       "9   1.175888e-09  5.491443e-10  1.648542e-14\n",
       "10  2.154763e-19  4.495770e-19  1.457242e-26\n",
       "11 1.321637e-308 4.291972e-285  0.000000e+00\n",
       "12            NA  8.142277e-03            NA\n",
       "13  2.422473e-32  1.123337e-30  1.081390e-17\n",
       "14 1.488674e-143 1.413208e-128 3.192027e-188\n",
       "15  5.370188e-36  2.213413e-30  1.221843e-18\n",
       "16  9.812379e-22  9.731551e-13  5.902384e-38\n",
       "17  1.989989e-06  5.293579e-05  2.350059e-03\n",
       "18  4.892246e-74  1.102466e-67  2.457705e-83\n",
       "19            NA            NA  6.650451e-06\n",
       "20  7.668635e-22  5.467851e-14  9.731321e-28\n",
       "21  2.063007e-13  9.506465e-14  7.875608e-23\n",
       "22 8.893860e-117 2.814562e-118 1.001113e-132"
      ]
     },
     "metadata": {},
     "output_type": "display_data"
    }
   ],
   "source": [
    "all_top_mods_df <- all_top_mods_df[,order(colnames(all_top_mods_df))]\n",
    "all_top_mods_df"
   ]
  },
  {
   "cell_type": "markdown",
   "id": "92968296",
   "metadata": {},
   "source": [
    "### Select the module from the lowest Qval per cell type"
   ]
  },
  {
   "cell_type": "code",
   "execution_count": 30,
   "id": "1b335611",
   "metadata": {
    "vscode": {
     "languageId": "r"
    }
   },
   "outputs": [],
   "source": [
    "cols <- c(\"Cell_type\", \"Qval\", \"Module\", \"Network_short\")"
   ]
  },
  {
   "cell_type": "code",
   "execution_count": 31,
   "id": "7c46bf68",
   "metadata": {
    "vscode": {
     "languageId": "r"
    }
   },
   "outputs": [],
   "source": [
    "# Select the module from the lowest Qval per cell type\n",
    "\n",
    "pooled_top_mods_df$DE_Test <- \"Pooled\"\n",
    "pairwise_top_mods_df$DE_Test <- \"Pairwise\"\n",
    "mean_top_mods_df$DE_Test <- \"Mean\"\n",
    "\n",
    "all_top_mods_df <- rbind(pooled_top_mods_df, pairwise_top_mods_df, mean_top_mods_df)"
   ]
  },
  {
   "cell_type": "code",
   "execution_count": 32,
   "id": "a74dab3b",
   "metadata": {
    "vscode": {
     "languageId": "r"
    }
   },
   "outputs": [
    {
     "data": {
      "text/html": [
       "<table class=\"dataframe\">\n",
       "<caption>A grouped_df: 22 × 5</caption>\n",
       "<thead>\n",
       "\t<tr><th scope=col>Cell_type</th><th scope=col>Qval</th><th scope=col>Module</th><th scope=col>Network_short</th><th scope=col>DE_Test</th></tr>\n",
       "\t<tr><th scope=col>&lt;chr&gt;</th><th scope=col>&lt;dbl&gt;</th><th scope=col>&lt;chr&gt;</th><th scope=col>&lt;chr&gt;</th><th scope=col>&lt;chr&gt;</th></tr>\n",
       "</thead>\n",
       "<tbody>\n",
       "\t<tr><td>Astro     </td><td>2.962380e-317</td><td>yellow       </td><td>signum0.466_minSize8 </td><td>Pairwise</td></tr>\n",
       "\t<tr><td>CR        </td><td> 1.507463e-02</td><td>lightskyblue </td><td>signum0.466_minSize4 </td><td>Pairwise</td></tr>\n",
       "\t<tr><td>Endo      </td><td>8.497059e-308</td><td>cyan         </td><td>signum0.864_minSize3 </td><td>Pairwise</td></tr>\n",
       "\t<tr><td>L2_3_IT   </td><td> 2.670436e-11</td><td>slateblue    </td><td>signum0.317_minSize10</td><td>Pooled  </td></tr>\n",
       "\t<tr><td>L4        </td><td> 6.070336e-04</td><td>dodgerblue4  </td><td>signum0.466_minSize4 </td><td>Pooled  </td></tr>\n",
       "\t<tr><td>L5_IT     </td><td> 1.441855e-16</td><td>navajowhite2 </td><td>signum0.723_minSize3 </td><td>Pooled  </td></tr>\n",
       "\t<tr><td>L5_PT     </td><td> 5.509422e-08</td><td>mistyrose4   </td><td>signum0.317_minSize5 </td><td>Pooled  </td></tr>\n",
       "\t<tr><td>L6_CT     </td><td> 1.270715e-23</td><td>mediumpurple2</td><td>signum0.37_minSize10 </td><td>Mean    </td></tr>\n",
       "\t<tr><td>L6_IT     </td><td> 1.648542e-14</td><td>mediumpurple4</td><td>signum0.466_minSize6 </td><td>Pairwise</td></tr>\n",
       "\t<tr><td>Lamp5     </td><td> 1.457242e-26</td><td>purple       </td><td>signum0.864_minSize4 </td><td>Pairwise</td></tr>\n",
       "\t<tr><td>Macrophage</td><td> 0.000000e+00</td><td>red          </td><td>signum0.723_minSize10</td><td>Pairwise</td></tr>\n",
       "\t<tr><td>Meis2     </td><td> 8.142277e-03</td><td>darkorange2  </td><td>signum0.466_minSize10</td><td>Pooled  </td></tr>\n",
       "\t<tr><td>NP        </td><td> 2.422473e-32</td><td>darkorange   </td><td>signum0.723_minSize4 </td><td>Mean    </td></tr>\n",
       "\t<tr><td>Oligo     </td><td>3.192027e-188</td><td>lightcyan    </td><td>signum0.723_minSize6 </td><td>Pairwise</td></tr>\n",
       "\t<tr><td>Peri      </td><td> 5.370188e-36</td><td>skyblue      </td><td>signum0.723_minSize6 </td><td>Mean    </td></tr>\n",
       "\t<tr><td>Pvalb     </td><td> 5.902384e-38</td><td>blue         </td><td>signum0.723_minSize5 </td><td>Pairwise</td></tr>\n",
       "\t<tr><td>SMC       </td><td> 2.457705e-83</td><td>lightgreen   </td><td>signum0.466_minSize8 </td><td>Pairwise</td></tr>\n",
       "\t<tr><td>Serpinf1  </td><td> 1.989989e-06</td><td>azure2       </td><td>signum0.317_minSize5 </td><td>Mean    </td></tr>\n",
       "\t<tr><td>Sncg      </td><td> 6.650451e-06</td><td>darkred      </td><td>signum0.864_minSize3 </td><td>Pairwise</td></tr>\n",
       "\t<tr><td>Sst       </td><td> 9.731321e-28</td><td>red          </td><td>signum0.723_minSize8 </td><td>Pairwise</td></tr>\n",
       "\t<tr><td>VLMC      </td><td>1.001113e-132</td><td>saddlebrown  </td><td>signum0.723_minSize4 </td><td>Pairwise</td></tr>\n",
       "\t<tr><td>Vip       </td><td> 7.875608e-23</td><td>green        </td><td>signum0.317_minSize5 </td><td>Pairwise</td></tr>\n",
       "</tbody>\n",
       "</table>\n"
      ],
      "text/latex": [
       "A grouped\\_df: 22 × 5\n",
       "\\begin{tabular}{lllll}\n",
       " Cell\\_type & Qval & Module & Network\\_short & DE\\_Test\\\\\n",
       " <chr> & <dbl> & <chr> & <chr> & <chr>\\\\\n",
       "\\hline\n",
       "\t Astro      & 2.962380e-317 & yellow        & signum0.466\\_minSize8  & Pairwise\\\\\n",
       "\t CR         &  1.507463e-02 & lightskyblue  & signum0.466\\_minSize4  & Pairwise\\\\\n",
       "\t Endo       & 8.497059e-308 & cyan          & signum0.864\\_minSize3  & Pairwise\\\\\n",
       "\t L2\\_3\\_IT    &  2.670436e-11 & slateblue     & signum0.317\\_minSize10 & Pooled  \\\\\n",
       "\t L4         &  6.070336e-04 & dodgerblue4   & signum0.466\\_minSize4  & Pooled  \\\\\n",
       "\t L5\\_IT      &  1.441855e-16 & navajowhite2  & signum0.723\\_minSize3  & Pooled  \\\\\n",
       "\t L5\\_PT      &  5.509422e-08 & mistyrose4    & signum0.317\\_minSize5  & Pooled  \\\\\n",
       "\t L6\\_CT      &  1.270715e-23 & mediumpurple2 & signum0.37\\_minSize10  & Mean    \\\\\n",
       "\t L6\\_IT      &  1.648542e-14 & mediumpurple4 & signum0.466\\_minSize6  & Pairwise\\\\\n",
       "\t Lamp5      &  1.457242e-26 & purple        & signum0.864\\_minSize4  & Pairwise\\\\\n",
       "\t Macrophage &  0.000000e+00 & red           & signum0.723\\_minSize10 & Pairwise\\\\\n",
       "\t Meis2      &  8.142277e-03 & darkorange2   & signum0.466\\_minSize10 & Pooled  \\\\\n",
       "\t NP         &  2.422473e-32 & darkorange    & signum0.723\\_minSize4  & Mean    \\\\\n",
       "\t Oligo      & 3.192027e-188 & lightcyan     & signum0.723\\_minSize6  & Pairwise\\\\\n",
       "\t Peri       &  5.370188e-36 & skyblue       & signum0.723\\_minSize6  & Mean    \\\\\n",
       "\t Pvalb      &  5.902384e-38 & blue          & signum0.723\\_minSize5  & Pairwise\\\\\n",
       "\t SMC        &  2.457705e-83 & lightgreen    & signum0.466\\_minSize8  & Pairwise\\\\\n",
       "\t Serpinf1   &  1.989989e-06 & azure2        & signum0.317\\_minSize5  & Mean    \\\\\n",
       "\t Sncg       &  6.650451e-06 & darkred       & signum0.864\\_minSize3  & Pairwise\\\\\n",
       "\t Sst        &  9.731321e-28 & red           & signum0.723\\_minSize8  & Pairwise\\\\\n",
       "\t VLMC       & 1.001113e-132 & saddlebrown   & signum0.723\\_minSize4  & Pairwise\\\\\n",
       "\t Vip        &  7.875608e-23 & green         & signum0.317\\_minSize5  & Pairwise\\\\\n",
       "\\end{tabular}\n"
      ],
      "text/markdown": [
       "\n",
       "A grouped_df: 22 × 5\n",
       "\n",
       "| Cell_type &lt;chr&gt; | Qval &lt;dbl&gt; | Module &lt;chr&gt; | Network_short &lt;chr&gt; | DE_Test &lt;chr&gt; |\n",
       "|---|---|---|---|---|\n",
       "| Astro      | 2.962380e-317 | yellow        | signum0.466_minSize8  | Pairwise |\n",
       "| CR         |  1.507463e-02 | lightskyblue  | signum0.466_minSize4  | Pairwise |\n",
       "| Endo       | 8.497059e-308 | cyan          | signum0.864_minSize3  | Pairwise |\n",
       "| L2_3_IT    |  2.670436e-11 | slateblue     | signum0.317_minSize10 | Pooled   |\n",
       "| L4         |  6.070336e-04 | dodgerblue4   | signum0.466_minSize4  | Pooled   |\n",
       "| L5_IT      |  1.441855e-16 | navajowhite2  | signum0.723_minSize3  | Pooled   |\n",
       "| L5_PT      |  5.509422e-08 | mistyrose4    | signum0.317_minSize5  | Pooled   |\n",
       "| L6_CT      |  1.270715e-23 | mediumpurple2 | signum0.37_minSize10  | Mean     |\n",
       "| L6_IT      |  1.648542e-14 | mediumpurple4 | signum0.466_minSize6  | Pairwise |\n",
       "| Lamp5      |  1.457242e-26 | purple        | signum0.864_minSize4  | Pairwise |\n",
       "| Macrophage |  0.000000e+00 | red           | signum0.723_minSize10 | Pairwise |\n",
       "| Meis2      |  8.142277e-03 | darkorange2   | signum0.466_minSize10 | Pooled   |\n",
       "| NP         |  2.422473e-32 | darkorange    | signum0.723_minSize4  | Mean     |\n",
       "| Oligo      | 3.192027e-188 | lightcyan     | signum0.723_minSize6  | Pairwise |\n",
       "| Peri       |  5.370188e-36 | skyblue       | signum0.723_minSize6  | Mean     |\n",
       "| Pvalb      |  5.902384e-38 | blue          | signum0.723_minSize5  | Pairwise |\n",
       "| SMC        |  2.457705e-83 | lightgreen    | signum0.466_minSize8  | Pairwise |\n",
       "| Serpinf1   |  1.989989e-06 | azure2        | signum0.317_minSize5  | Mean     |\n",
       "| Sncg       |  6.650451e-06 | darkred       | signum0.864_minSize3  | Pairwise |\n",
       "| Sst        |  9.731321e-28 | red           | signum0.723_minSize8  | Pairwise |\n",
       "| VLMC       | 1.001113e-132 | saddlebrown   | signum0.723_minSize4  | Pairwise |\n",
       "| Vip        |  7.875608e-23 | green         | signum0.317_minSize5  | Pairwise |\n",
       "\n"
      ],
      "text/plain": [
       "   Cell_type  Qval          Module        Network_short         DE_Test \n",
       "1  Astro      2.962380e-317 yellow        signum0.466_minSize8  Pairwise\n",
       "2  CR          1.507463e-02 lightskyblue  signum0.466_minSize4  Pairwise\n",
       "3  Endo       8.497059e-308 cyan          signum0.864_minSize3  Pairwise\n",
       "4  L2_3_IT     2.670436e-11 slateblue     signum0.317_minSize10 Pooled  \n",
       "5  L4          6.070336e-04 dodgerblue4   signum0.466_minSize4  Pooled  \n",
       "6  L5_IT       1.441855e-16 navajowhite2  signum0.723_minSize3  Pooled  \n",
       "7  L5_PT       5.509422e-08 mistyrose4    signum0.317_minSize5  Pooled  \n",
       "8  L6_CT       1.270715e-23 mediumpurple2 signum0.37_minSize10  Mean    \n",
       "9  L6_IT       1.648542e-14 mediumpurple4 signum0.466_minSize6  Pairwise\n",
       "10 Lamp5       1.457242e-26 purple        signum0.864_minSize4  Pairwise\n",
       "11 Macrophage  0.000000e+00 red           signum0.723_minSize10 Pairwise\n",
       "12 Meis2       8.142277e-03 darkorange2   signum0.466_minSize10 Pooled  \n",
       "13 NP          2.422473e-32 darkorange    signum0.723_minSize4  Mean    \n",
       "14 Oligo      3.192027e-188 lightcyan     signum0.723_minSize6  Pairwise\n",
       "15 Peri        5.370188e-36 skyblue       signum0.723_minSize6  Mean    \n",
       "16 Pvalb       5.902384e-38 blue          signum0.723_minSize5  Pairwise\n",
       "17 SMC         2.457705e-83 lightgreen    signum0.466_minSize8  Pairwise\n",
       "18 Serpinf1    1.989989e-06 azure2        signum0.317_minSize5  Mean    \n",
       "19 Sncg        6.650451e-06 darkred       signum0.864_minSize3  Pairwise\n",
       "20 Sst         9.731321e-28 red           signum0.723_minSize8  Pairwise\n",
       "21 VLMC       1.001113e-132 saddlebrown   signum0.723_minSize4  Pairwise\n",
       "22 Vip         7.875608e-23 green         signum0.317_minSize5  Pairwise"
      ]
     },
     "metadata": {},
     "output_type": "display_data"
    }
   ],
   "source": [
    "top_qval_mods_df <- all_top_mods_df %>%\n",
    "    group_by(Cell_type) %>%\n",
    "    slice_min(Qval)\n",
    "\n",
    "top_qval_mods_df[, c(cols, \"DE_Test\")]"
   ]
  },
  {
   "cell_type": "code",
   "execution_count": 33,
   "id": "b46b3118",
   "metadata": {
    "vscode": {
     "languageId": "r"
    }
   },
   "outputs": [],
   "source": [
    "if (unique) {\n",
    "    write.csv(top_qval_mods_df, file=paste0(\"data/tasic_2018_ALM_STAR_donor_cell_type_pseudobulk_DE_genes_dream_unique_\", network_dataset, \"_\", mod_def, \"_top_Qval_modules.csv\"), row.names=FALSE, quote=FALSE)\n",
    "} else {\n",
    "    write.csv(top_qval_mods_df, file=paste0(\"data/tasic_2018_ALM_STAR_donor_cell_type_pseudobulk_DE_genes_dream_\", network_dataset, \"_\", mod_def, \"_top_Qval_modules.csv\"), row.names=FALSE, quote=FALSE)\n",
    "}\n"
   ]
  }
 ],
 "metadata": {
  "kernelspec": {
   "display_name": "R",
   "language": "R",
   "name": "ir"
  },
  "language_info": {
   "codemirror_mode": "r",
   "file_extension": ".r",
   "mimetype": "text/x-r-source",
   "name": "R",
   "pygments_lexer": "r",
   "version": "4.3.3"
  }
 },
 "nbformat": 4,
 "nbformat_minor": 5
}
