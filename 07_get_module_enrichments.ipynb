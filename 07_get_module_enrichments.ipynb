{
 "cells": [
  {
   "cell_type": "code",
   "execution_count": 1,
   "id": "dc32d0f1",
   "metadata": {
    "vscode": {
     "languageId": "r"
    }
   },
   "outputs": [
    {
     "name": "stderr",
     "output_type": "stream",
     "text": [
      "\n",
      "Attaching package: ‘dplyr’\n",
      "\n",
      "\n",
      "The following objects are masked from ‘package:stats’:\n",
      "\n",
      "    filter, lag\n",
      "\n",
      "\n",
      "The following objects are masked from ‘package:base’:\n",
      "\n",
      "    intersect, setdiff, setequal, union\n",
      "\n",
      "\n",
      "\n",
      "Attaching package: ‘data.table’\n",
      "\n",
      "\n",
      "The following objects are masked from ‘package:dplyr’:\n",
      "\n",
      "    between, first, last\n",
      "\n",
      "\n"
     ]
    }
   ],
   "source": [
    "library(dplyr)\n",
    "library(tidyr)\n",
    "library(tibble)\n",
    "library(qvalue)\n",
    "library(data.table)\n",
    "\n",
    "source(\"/mnt/lareaulab/reliscu/code/fisher_test.R\")\n",
    "\n",
    "setwd(\"/mnt/lareaulab/reliscu/projects/NSF_GRFP/analyses/pseudobulk_test/tasic_2018/mouse_ALM\")"
   ]
  },
  {
   "cell_type": "markdown",
   "id": "47fcf9ad",
   "metadata": {},
   "source": [
    "Here I perform enrichment analysis to find modules enriched for cell type markers. These modules will later be used to correlate to exon PSI to find cell type-specific exons."
   ]
  },
  {
   "cell_type": "code",
   "execution_count": 2,
   "id": "e55565fe",
   "metadata": {
    "vscode": {
     "languageId": "r"
    }
   },
   "outputs": [],
   "source": [
    "network_dir <- \"mouse_ACA_20pcntCells_0.4pcntVar_200samples_log2_Modules\""
   ]
  },
  {
   "cell_type": "code",
   "execution_count": 3,
   "id": "6cf840e4",
   "metadata": {
    "vscode": {
     "languageId": "r"
    }
   },
   "outputs": [],
   "source": [
    "get_module_enrichments <- function(network_dir, ctype_genes, mod_def=\"PosFDR\") {\n",
    "    # Traverse networks to get cell type enrichments for each module\n",
    "    networks <- list.dirs(file.path(getwd(), network_dir), full.names=TRUE, recursive=FALSE)\n",
    "    networks <- networks[lengths(lapply(networks, list.files)) > 0]\n",
    "\n",
    "    enrichments_list <- lapply(seq_along(networks), function(i) {\n",
    "        kME_path <- list.files(networks[i])[grep(\"kME\", list.files(networks[i]))]\n",
    "        kME <- fread(file.path(networks[i], kME_path), data.table=FALSE)\n",
    "        mod_col <- grep(\"PosFDR\", colnames(kME))\n",
    "        mod_genes <- tapply(kME$Gene, kME[,mod_col], list)\n",
    "        \n",
    "        if (length(mod_genes) > 0) {\n",
    "            all_genes <- kME$Gene\n",
    "\n",
    "            # For each module: calculate enrichment for DE genes from each cell type\n",
    "            mod_enrichments_list <- lapply(mod_genes, function(mod) {\n",
    "                lapply(unlist(lapply(ctype_genes, function(set) {\n",
    "                    fisher_test(set, mod, all=all_genes)\n",
    "                })), c)\n",
    "            })\n",
    "            \n",
    "            # Save the network module came from\n",
    "            network_id <- sapply(strsplit(networks[i], \"/\"), function(x) x[length(x)])\n",
    "            mod_enrichments_df <- reshape2::melt(mod_enrichments_list)\n",
    "            colnames(mod_enrichments_df) <- c(\"Pval\", \"Cell_type\", \"Module\")\n",
    "            \n",
    "            # Save path to module eigengenes table for downstream analyses\n",
    "            ME_path <- list.files(networks[i])[grep(\"eigengene\", list.files(networks[i]))]\n",
    "            \n",
    "            data.frame(\n",
    "                Network=network_id,\n",
    "                kME_path=file.path(networks[i], kME_path),\n",
    "                ME_path=file.path(networks[i], ME_path),\n",
    "                mod_enrichments_df\n",
    "            )\n",
    "        }\n",
    "    })\n",
    "    enrichments_df <- do.call(rbind, enrichments_list)\n",
    "    enrichments_df$Qval <- qvalue(enrichments_df$Pval)$qvalue\n",
    "\n",
    "    enrichments_df\n",
    "}"
   ]
  },
  {
   "cell_type": "markdown",
   "id": "0b894bcf",
   "metadata": {},
   "source": [
    "### Get DE genes frome each cell type: 1 vs. pooled tests"
   ]
  },
  {
   "cell_type": "code",
   "execution_count": 4,
   "id": "d9fc4df1",
   "metadata": {
    "vscode": {
     "languageId": "r"
    }
   },
   "outputs": [],
   "source": [
    "# pooled_res_list <- readRDS(\"data/tasic_2018_ALM_STAR_donor_cell_type_pseudobulk_1_vs_pooled_DE_genes_dream.RDS\")"
   ]
  },
  {
   "cell_type": "code",
   "execution_count": 5,
   "id": "b3f726eb",
   "metadata": {
    "vscode": {
     "languageId": "r"
    }
   },
   "outputs": [],
   "source": [
    "# pval_threshold <- .05/length(pooled_res_list)\n",
    "\n",
    "# ctype_genes <- lapply(pooled_res_list, function(df) {\n",
    "#     mask <- (df['adj.P.Val'] < pval_threshold) & (abs(df['logFC']) > 2)\n",
    "#     df[mask, 1]\n",
    "# })\n",
    "# names(ctype_genes) <- names(pooled_res_list) "
   ]
  },
  {
   "cell_type": "code",
   "execution_count": 6,
   "id": "ade891df",
   "metadata": {
    "vscode": {
     "languageId": "r"
    }
   },
   "outputs": [
    {
     "ename": "ERROR",
     "evalue": "Error: object 'ctype_genes' not found\n",
     "output_type": "error",
     "traceback": [
      "Error: object 'ctype_genes' not found\nTraceback:\n",
      "1. .handleSimpleError(function (cnd) \n . {\n .     watcher$capture_plot_and_output()\n .     cnd <- sanitize_call(cnd)\n .     watcher$push(cnd)\n .     switch(on_error, continue = invokeRestart(\"eval_continue\"), \n .         stop = invokeRestart(\"eval_stop\"), error = NULL)\n . }, \"object 'ctype_genes' not found\", base::quote(eval(expr, envir)))"
     ]
    }
   ],
   "source": [
    "lengths(ctype_genes)"
   ]
  },
  {
   "cell_type": "code",
   "execution_count": 7,
   "id": "09fbb1a8",
   "metadata": {
    "vscode": {
     "languageId": "r"
    }
   },
   "outputs": [
    {
     "ename": "ERROR",
     "evalue": "Error: object 'ctype_genes' not found\n",
     "output_type": "error",
     "traceback": [
      "Error: object 'ctype_genes' not found\nTraceback:\n",
      "1. lapply(seq_along(networks), function(i) {\n .     kME_path <- list.files(networks[i])[grep(\"kME\", list.files(networks[i]))]\n .     kME <- fread(file.path(networks[i], kME_path), data.table = FALSE)\n .     mod_col <- grep(\"PosFDR\", colnames(kME))\n .     mod_genes <- tapply(kME$Gene, kME[, mod_col], list)\n .     if (length(mod_genes) > 0) {\n .         all_genes <- kME$Gene\n .         mod_enrichments_list <- lapply(mod_genes, function(mod) {\n .             lapply(unlist(lapply(ctype_genes, function(set) {\n .                 fisher_test(set, mod, all = all_genes)\n .             })), c)\n .         })\n .         network_id <- sapply(strsplit(networks[i], \"/\"), function(x) x[length(x)])\n .         mod_enrichments_df <- reshape2::melt(mod_enrichments_list)\n .         colnames(mod_enrichments_df) <- c(\"Pval\", \"Cell_type\", \n .             \"Module\")\n .         ME_path <- list.files(networks[i])[grep(\"eigengene\", \n .             list.files(networks[i]))]\n .         data.frame(Network = network_id, kME_path = file.path(networks[i], \n .             kME_path), ME_path = file.path(networks[i], ME_path), \n .             mod_enrichments_df)\n .     }\n . })",
      "2. FUN(X[[i]], ...)",
      "3. lapply(mod_genes, function(mod) {\n .     lapply(unlist(lapply(ctype_genes, function(set) {\n .         fisher_test(set, mod, all = all_genes)\n .     })), c)\n . })",
      "4. FUN(X[[i]], ...)",
      "5. lapply(unlist(lapply(ctype_genes, function(set) {\n .     fisher_test(set, mod, all = all_genes)\n . })), c)",
      "6. unlist(lapply(ctype_genes, function(set) {\n .     fisher_test(set, mod, all = all_genes)\n . }))",
      "7. lapply(ctype_genes, function(set) {\n .     fisher_test(set, mod, all = all_genes)\n . })",
      "8. .handleSimpleError(function (cnd) \n . {\n .     watcher$capture_plot_and_output()\n .     cnd <- sanitize_call(cnd)\n .     watcher$push(cnd)\n .     switch(on_error, continue = invokeRestart(\"eval_continue\"), \n .         stop = invokeRestart(\"eval_stop\"), error = NULL)\n . }, \"object 'ctype_genes' not found\", base::quote(eval(expr, envir)))"
     ]
    }
   ],
   "source": [
    "enrichments_df <- get_module_enrichments(network_dir, ctype_genes)"
   ]
  },
  {
   "cell_type": "code",
   "execution_count": 8,
   "id": "e1c46ab3",
   "metadata": {
    "vscode": {
     "languageId": "r"
    }
   },
   "outputs": [
    {
     "ename": "ERROR",
     "evalue": "Error: object 'enrichments_df' not found\n",
     "output_type": "error",
     "traceback": [
      "Error: object 'enrichments_df' not found\nTraceback:\n",
      "1. arrange(., Qval)",
      "2. filter(., Qval < 0.05)",
      "3. slice_min(., Qval, with_ties = FALSE)",
      "4. group_by(., Cell_type)",
      "5. slice_min(., Qval)",
      "6. group_by(., Network, Module)",
      "7. .handleSimpleError(function (cnd) \n . {\n .     watcher$capture_plot_and_output()\n .     cnd <- sanitize_call(cnd)\n .     watcher$push(cnd)\n .     switch(on_error, continue = invokeRestart(\"eval_continue\"), \n .         stop = invokeRestart(\"eval_stop\"), error = NULL)\n . }, \"object 'enrichments_df' not found\", base::quote(eval(expr, \n .     envir)))"
     ]
    }
   ],
   "source": [
    "# Get most enriched cell type for each module\n",
    "# If cell type is most enriched in multiple modules, choose module with smallest p-value\n",
    "\n",
    "top_mods_df <- enrichments_df %>%\n",
    "    group_by(Network, Module) %>%\n",
    "    slice_min(Qval) %>%\n",
    "    group_by(Cell_type) %>%\n",
    "    slice_min(Qval,with_ties=FALSE) %>%\n",
    "    filter(Qval < .05) %>%\n",
    "    arrange(Qval)"
   ]
  },
  {
   "cell_type": "code",
   "execution_count": 9,
   "id": "cf051d4a",
   "metadata": {
    "vscode": {
     "languageId": "r"
    }
   },
   "outputs": [
    {
     "ename": "ERROR",
     "evalue": "Error: object 'top_mods_df' not found\n",
     "output_type": "error",
     "traceback": [
      "Error: object 'top_mods_df' not found\nTraceback:\n"
     ]
    }
   ],
   "source": [
    "top_mods_df"
   ]
  },
  {
   "cell_type": "markdown",
   "id": "cc33c767",
   "metadata": {},
   "source": [
    "### Get DE genes frome each cell type: pairwise tests"
   ]
  },
  {
   "cell_type": "code",
   "execution_count": 10,
   "id": "c5449ef7",
   "metadata": {
    "vscode": {
     "languageId": "r"
    }
   },
   "outputs": [],
   "source": [
    "pairwise_res_list <- readRDS(\"data/tasic_2018_ALM_STAR_donor_cell_type_pseudobulk_pairwise_DE_genes_dream_processed.RDS\")"
   ]
  },
  {
   "cell_type": "code",
   "execution_count": 23,
   "id": "a739660e",
   "metadata": {
    "vscode": {
     "languageId": "r"
    }
   },
   "outputs": [],
   "source": [
    "ctypes <- unique(sapply(strsplit(names(pairwise_res_list), \"_vs_\"), \"[\", 1))\n",
    "\n",
    "ctype_genes <- lapply(ctypes, function(target) {\n",
    "    ctype_res_list <- pairwise_res_list[grep(paste0(\"^\", target), names(pairwise_res_list))]\n",
    "    pval_threshold <- .05 # /length(ctype_res_list)\n",
    "    ctype_genes_list <- lapply(ctype_res_list, function(ctype_res) {\n",
    "        ctype_res[ctype_res$adj.P.Val < pval_threshold, 1]\n",
    "    }) \n",
    "    Reduce(intersect, ctype_genes_list)\n",
    "})\n",
    "names(ctype_genes) <- ctypes"
   ]
  },
  {
   "cell_type": "code",
   "execution_count": 24,
   "id": "ccadb211",
   "metadata": {
    "vscode": {
     "languageId": "r"
    }
   },
   "outputs": [
    {
     "data": {
      "text/html": [
       "<table class=\"dataframe\">\n",
       "<caption>A data.frame: 23 × 1</caption>\n",
       "<thead>\n",
       "\t<tr><th></th><th scope=col>No.genes</th></tr>\n",
       "\t<tr><th></th><th scope=col>&lt;int&gt;</th></tr>\n",
       "</thead>\n",
       "<tbody>\n",
       "\t<tr><th scope=row>Macrophage</th><td>481</td></tr>\n",
       "\t<tr><th scope=row>Astro</th><td>471</td></tr>\n",
       "\t<tr><th scope=row>Endo</th><td>364</td></tr>\n",
       "\t<tr><th scope=row>Oligo</th><td>234</td></tr>\n",
       "\t<tr><th scope=row>VLMC</th><td>141</td></tr>\n",
       "\t<tr><th scope=row>Pvalb</th><td>118</td></tr>\n",
       "\t<tr><th scope=row>SMC</th><td>107</td></tr>\n",
       "\t<tr><th scope=row>L5_IT</th><td> 65</td></tr>\n",
       "\t<tr><th scope=row>Lamp5</th><td> 58</td></tr>\n",
       "\t<tr><th scope=row>Sst</th><td> 54</td></tr>\n",
       "\t<tr><th scope=row>Vip</th><td> 52</td></tr>\n",
       "\t<tr><th scope=row>NP</th><td> 48</td></tr>\n",
       "\t<tr><th scope=row>CR</th><td> 36</td></tr>\n",
       "\t<tr><th scope=row>Sncg</th><td> 34</td></tr>\n",
       "\t<tr><th scope=row>L2_3_IT</th><td> 33</td></tr>\n",
       "\t<tr><th scope=row>Peri</th><td> 26</td></tr>\n",
       "\t<tr><th scope=row>L5_PT</th><td> 21</td></tr>\n",
       "\t<tr><th scope=row>L6_IT</th><td> 21</td></tr>\n",
       "\t<tr><th scope=row>L6_CT</th><td> 19</td></tr>\n",
       "\t<tr><th scope=row>Serpinf1</th><td> 12</td></tr>\n",
       "\t<tr><th scope=row>L6b</th><td>  8</td></tr>\n",
       "\t<tr><th scope=row>L4</th><td>  6</td></tr>\n",
       "\t<tr><th scope=row>Meis2</th><td>  1</td></tr>\n",
       "</tbody>\n",
       "</table>\n"
      ],
      "text/latex": [
       "A data.frame: 23 × 1\n",
       "\\begin{tabular}{r|l}\n",
       "  & No.genes\\\\\n",
       "  & <int>\\\\\n",
       "\\hline\n",
       "\tMacrophage & 481\\\\\n",
       "\tAstro & 471\\\\\n",
       "\tEndo & 364\\\\\n",
       "\tOligo & 234\\\\\n",
       "\tVLMC & 141\\\\\n",
       "\tPvalb & 118\\\\\n",
       "\tSMC & 107\\\\\n",
       "\tL5\\_IT &  65\\\\\n",
       "\tLamp5 &  58\\\\\n",
       "\tSst &  54\\\\\n",
       "\tVip &  52\\\\\n",
       "\tNP &  48\\\\\n",
       "\tCR &  36\\\\\n",
       "\tSncg &  34\\\\\n",
       "\tL2\\_3\\_IT &  33\\\\\n",
       "\tPeri &  26\\\\\n",
       "\tL5\\_PT &  21\\\\\n",
       "\tL6\\_IT &  21\\\\\n",
       "\tL6\\_CT &  19\\\\\n",
       "\tSerpinf1 &  12\\\\\n",
       "\tL6b &   8\\\\\n",
       "\tL4 &   6\\\\\n",
       "\tMeis2 &   1\\\\\n",
       "\\end{tabular}\n"
      ],
      "text/markdown": [
       "\n",
       "A data.frame: 23 × 1\n",
       "\n",
       "| <!--/--> | No.genes &lt;int&gt; |\n",
       "|---|---|\n",
       "| Macrophage | 481 |\n",
       "| Astro | 471 |\n",
       "| Endo | 364 |\n",
       "| Oligo | 234 |\n",
       "| VLMC | 141 |\n",
       "| Pvalb | 118 |\n",
       "| SMC | 107 |\n",
       "| L5_IT |  65 |\n",
       "| Lamp5 |  58 |\n",
       "| Sst |  54 |\n",
       "| Vip |  52 |\n",
       "| NP |  48 |\n",
       "| CR |  36 |\n",
       "| Sncg |  34 |\n",
       "| L2_3_IT |  33 |\n",
       "| Peri |  26 |\n",
       "| L5_PT |  21 |\n",
       "| L6_IT |  21 |\n",
       "| L6_CT |  19 |\n",
       "| Serpinf1 |  12 |\n",
       "| L6b |   8 |\n",
       "| L4 |   6 |\n",
       "| Meis2 |   1 |\n",
       "\n"
      ],
      "text/plain": [
       "           No.genes\n",
       "Macrophage 481     \n",
       "Astro      471     \n",
       "Endo       364     \n",
       "Oligo      234     \n",
       "VLMC       141     \n",
       "Pvalb      118     \n",
       "SMC        107     \n",
       "L5_IT       65     \n",
       "Lamp5       58     \n",
       "Sst         54     \n",
       "Vip         52     \n",
       "NP          48     \n",
       "CR          36     \n",
       "Sncg        34     \n",
       "L2_3_IT     33     \n",
       "Peri        26     \n",
       "L5_PT       21     \n",
       "L6_IT       21     \n",
       "L6_CT       19     \n",
       "Serpinf1    12     \n",
       "L6b          8     \n",
       "L4           6     \n",
       "Meis2        1     "
      ]
     },
     "metadata": {},
     "output_type": "display_data"
    }
   ],
   "source": [
    "data.frame(No.genes=lengths(ctype_genes)) %>% arrange(-`No.genes`)"
   ]
  },
  {
   "cell_type": "code",
   "execution_count": 18,
   "id": "2e5c68a9",
   "metadata": {
    "vscode": {
     "languageId": "r"
    }
   },
   "outputs": [],
   "source": [
    "ctype_genes <- ctype_genes[lengths(ctype_genes) > 0]"
   ]
  },
  {
   "cell_type": "code",
   "execution_count": null,
   "id": "da30c5c6",
   "metadata": {
    "vscode": {
     "languageId": "r"
    }
   },
   "outputs": [],
   "source": [
    "enrichments_df <- get_module_enrichments(network_dir, ctype_genes)"
   ]
  },
  {
   "cell_type": "code",
   "execution_count": 20,
   "id": "c7411268",
   "metadata": {
    "vscode": {
     "languageId": "r"
    }
   },
   "outputs": [],
   "source": [
    "# Get most enriched cell type for each module\n",
    "# If cell type is most enriched in multiple modules, choose module with smallest p-value\n",
    "\n",
    "top_mods_df <- enrichments_df %>%\n",
    "    group_by(Network, Module) %>%\n",
    "    slice_min(Qval) %>%\n",
    "    group_by(Cell_type) %>%\n",
    "    slice_min(Qval,with_ties=FALSE) %>%\n",
    "    filter(Qval < .05) %>%\n",
    "    arrange(Qval)"
   ]
  },
  {
   "cell_type": "code",
   "execution_count": 22,
   "id": "33f3bdb4",
   "metadata": {
    "vscode": {
     "languageId": "r"
    }
   },
   "outputs": [
    {
     "data": {
      "text/html": [
       "<table class=\"dataframe\">\n",
       "<caption>A grouped_df: 17 × 4</caption>\n",
       "<thead>\n",
       "\t<tr><th scope=col>Cell_type</th><th scope=col>Pval</th><th scope=col>Qval</th><th scope=col>Module</th></tr>\n",
       "\t<tr><th scope=col>&lt;chr&gt;</th><th scope=col>&lt;dbl&gt;</th><th scope=col>&lt;dbl&gt;</th><th scope=col>&lt;chr&gt;</th></tr>\n",
       "</thead>\n",
       "<tbody>\n",
       "\t<tr><td>Astro     </td><td> 0.000000e+00</td><td> 0.000000e+00</td><td>turquoise     </td></tr>\n",
       "\t<tr><td>Endo      </td><td> 0.000000e+00</td><td> 0.000000e+00</td><td>blue          </td></tr>\n",
       "\t<tr><td>Macrophage</td><td> 0.000000e+00</td><td> 0.000000e+00</td><td>yellow        </td></tr>\n",
       "\t<tr><td>Oligo     </td><td>1.516717e-284</td><td>1.218730e-281</td><td>green         </td></tr>\n",
       "\t<tr><td>VLMC      </td><td>3.333505e-206</td><td>2.034688e-203</td><td>tan           </td></tr>\n",
       "\t<tr><td>SMC       </td><td>3.125547e-134</td><td>1.695783e-131</td><td>black         </td></tr>\n",
       "\t<tr><td>NP        </td><td> 2.535164e-80</td><td> 1.031601e-77</td><td>brown         </td></tr>\n",
       "\t<tr><td>Sncg      </td><td> 1.086617e-50</td><td> 3.381244e-48</td><td>brown2        </td></tr>\n",
       "\t<tr><td>L2        </td><td> 1.681900e-49</td><td> 5.132950e-47</td><td>lightcyan     </td></tr>\n",
       "\t<tr><td>Pvalb     </td><td> 1.655253e-43</td><td> 4.797890e-41</td><td>darkorange    </td></tr>\n",
       "\t<tr><td>Sst       </td><td> 1.743772e-27</td><td> 4.161387e-25</td><td>mintcream     </td></tr>\n",
       "\t<tr><td>Lamp5     </td><td> 5.829295e-26</td><td> 1.380738e-23</td><td>salmon4       </td></tr>\n",
       "\t<tr><td>Vip       </td><td> 3.269544e-21</td><td> 7.181569e-19</td><td>dodgerblue3   </td></tr>\n",
       "\t<tr><td>Peri      </td><td> 2.951838e-20</td><td> 6.309081e-18</td><td>firebrick2    </td></tr>\n",
       "\t<tr><td>L6b       </td><td> 2.076819e-16</td><td> 3.651923e-14</td><td>lavenderblush2</td></tr>\n",
       "\t<tr><td>Serpinf1  </td><td> 1.864085e-11</td><td> 2.266863e-09</td><td>dodgerblue1   </td></tr>\n",
       "\t<tr><td>CR        </td><td> 2.962400e-05</td><td> 1.998408e-03</td><td>mistyrose1    </td></tr>\n",
       "</tbody>\n",
       "</table>\n"
      ],
      "text/latex": [
       "A grouped\\_df: 17 × 4\n",
       "\\begin{tabular}{llll}\n",
       " Cell\\_type & Pval & Qval & Module\\\\\n",
       " <chr> & <dbl> & <dbl> & <chr>\\\\\n",
       "\\hline\n",
       "\t Astro      &  0.000000e+00 &  0.000000e+00 & turquoise     \\\\\n",
       "\t Endo       &  0.000000e+00 &  0.000000e+00 & blue          \\\\\n",
       "\t Macrophage &  0.000000e+00 &  0.000000e+00 & yellow        \\\\\n",
       "\t Oligo      & 1.516717e-284 & 1.218730e-281 & green         \\\\\n",
       "\t VLMC       & 3.333505e-206 & 2.034688e-203 & tan           \\\\\n",
       "\t SMC        & 3.125547e-134 & 1.695783e-131 & black         \\\\\n",
       "\t NP         &  2.535164e-80 &  1.031601e-77 & brown         \\\\\n",
       "\t Sncg       &  1.086617e-50 &  3.381244e-48 & brown2        \\\\\n",
       "\t L2         &  1.681900e-49 &  5.132950e-47 & lightcyan     \\\\\n",
       "\t Pvalb      &  1.655253e-43 &  4.797890e-41 & darkorange    \\\\\n",
       "\t Sst        &  1.743772e-27 &  4.161387e-25 & mintcream     \\\\\n",
       "\t Lamp5      &  5.829295e-26 &  1.380738e-23 & salmon4       \\\\\n",
       "\t Vip        &  3.269544e-21 &  7.181569e-19 & dodgerblue3   \\\\\n",
       "\t Peri       &  2.951838e-20 &  6.309081e-18 & firebrick2    \\\\\n",
       "\t L6b        &  2.076819e-16 &  3.651923e-14 & lavenderblush2\\\\\n",
       "\t Serpinf1   &  1.864085e-11 &  2.266863e-09 & dodgerblue1   \\\\\n",
       "\t CR         &  2.962400e-05 &  1.998408e-03 & mistyrose1    \\\\\n",
       "\\end{tabular}\n"
      ],
      "text/markdown": [
       "\n",
       "A grouped_df: 17 × 4\n",
       "\n",
       "| Cell_type &lt;chr&gt; | Pval &lt;dbl&gt; | Qval &lt;dbl&gt; | Module &lt;chr&gt; |\n",
       "|---|---|---|---|\n",
       "| Astro      |  0.000000e+00 |  0.000000e+00 | turquoise      |\n",
       "| Endo       |  0.000000e+00 |  0.000000e+00 | blue           |\n",
       "| Macrophage |  0.000000e+00 |  0.000000e+00 | yellow         |\n",
       "| Oligo      | 1.516717e-284 | 1.218730e-281 | green          |\n",
       "| VLMC       | 3.333505e-206 | 2.034688e-203 | tan            |\n",
       "| SMC        | 3.125547e-134 | 1.695783e-131 | black          |\n",
       "| NP         |  2.535164e-80 |  1.031601e-77 | brown          |\n",
       "| Sncg       |  1.086617e-50 |  3.381244e-48 | brown2         |\n",
       "| L2         |  1.681900e-49 |  5.132950e-47 | lightcyan      |\n",
       "| Pvalb      |  1.655253e-43 |  4.797890e-41 | darkorange     |\n",
       "| Sst        |  1.743772e-27 |  4.161387e-25 | mintcream      |\n",
       "| Lamp5      |  5.829295e-26 |  1.380738e-23 | salmon4        |\n",
       "| Vip        |  3.269544e-21 |  7.181569e-19 | dodgerblue3    |\n",
       "| Peri       |  2.951838e-20 |  6.309081e-18 | firebrick2     |\n",
       "| L6b        |  2.076819e-16 |  3.651923e-14 | lavenderblush2 |\n",
       "| Serpinf1   |  1.864085e-11 |  2.266863e-09 | dodgerblue1    |\n",
       "| CR         |  2.962400e-05 |  1.998408e-03 | mistyrose1     |\n",
       "\n"
      ],
      "text/plain": [
       "   Cell_type  Pval          Qval          Module        \n",
       "1  Astro       0.000000e+00  0.000000e+00 turquoise     \n",
       "2  Endo        0.000000e+00  0.000000e+00 blue          \n",
       "3  Macrophage  0.000000e+00  0.000000e+00 yellow        \n",
       "4  Oligo      1.516717e-284 1.218730e-281 green         \n",
       "5  VLMC       3.333505e-206 2.034688e-203 tan           \n",
       "6  SMC        3.125547e-134 1.695783e-131 black         \n",
       "7  NP          2.535164e-80  1.031601e-77 brown         \n",
       "8  Sncg        1.086617e-50  3.381244e-48 brown2        \n",
       "9  L2          1.681900e-49  5.132950e-47 lightcyan     \n",
       "10 Pvalb       1.655253e-43  4.797890e-41 darkorange    \n",
       "11 Sst         1.743772e-27  4.161387e-25 mintcream     \n",
       "12 Lamp5       5.829295e-26  1.380738e-23 salmon4       \n",
       "13 Vip         3.269544e-21  7.181569e-19 dodgerblue3   \n",
       "14 Peri        2.951838e-20  6.309081e-18 firebrick2    \n",
       "15 L6b         2.076819e-16  3.651923e-14 lavenderblush2\n",
       "16 Serpinf1    1.864085e-11  2.266863e-09 dodgerblue1   \n",
       "17 CR          2.962400e-05  1.998408e-03 mistyrose1    "
      ]
     },
     "metadata": {},
     "output_type": "display_data"
    }
   ],
   "source": [
    "top_mods_df[,c(\"Cell_type\", \"Pval\", \"Qval\", \"Module\")]"
   ]
  },
  {
   "cell_type": "code",
   "execution_count": null,
   "id": "ff686136",
   "metadata": {
    "vscode": {
     "languageId": "r"
    }
   },
   "outputs": [],
   "source": []
  },
  {
   "cell_type": "markdown",
   "id": "03b2b613",
   "metadata": {},
   "source": [
    "### Get DE genes frome each cell type: 1 vs. mean analysis"
   ]
  },
  {
   "cell_type": "code",
   "execution_count": 34,
   "id": "54340439",
   "metadata": {
    "vscode": {
     "languageId": "r"
    }
   },
   "outputs": [],
   "source": [
    "mean_res_list <- readRDS(\"data/tasic_2018_ALM_STAR_donor_cell_type_pseudobulk_1_vs_meanOthers_DE_genes_dream.RDS\")"
   ]
  },
  {
   "cell_type": "code",
   "execution_count": 50,
   "id": "d868ba05",
   "metadata": {
    "vscode": {
     "languageId": "r"
    }
   },
   "outputs": [],
   "source": [
    "pval_threshold <- .05/length(mean_res_list)\n",
    "\n",
    "ctype_genes <- lapply(mean_res_list, function(df) {\n",
    "    mask <- (df['adj.P.Val'] < pval_threshold) & (abs(df['logFC']) > 5)\n",
    "    df[mask, 1]\n",
    "})\n",
    "names(ctype_genes) <- names(mean_res_list) "
   ]
  },
  {
   "cell_type": "code",
   "execution_count": 54,
   "id": "461bdf2d",
   "metadata": {
    "vscode": {
     "languageId": "r"
    }
   },
   "outputs": [],
   "source": [
    "enrichments_df <- get_module_enrichments(network_dir, ctype_genes)"
   ]
  },
  {
   "cell_type": "code",
   "execution_count": null,
   "id": "0830bd47",
   "metadata": {
    "vscode": {
     "languageId": "r"
    }
   },
   "outputs": [],
   "source": [
    "# Get most enriched cell type for each module\n",
    "# If cell type is most enriched in multiple modules, choose module with smallest p-value\n",
    "\n",
    "top_mods_df <- enrichments_df %>%\n",
    "    group_by(Network, Module) %>%\n",
    "    slice_min(Qval) %>%\n",
    "    group_by(Cell_type) %>%\n",
    "    slice_min(Qval,with_ties=FALSE) %>%\n",
    "    filter(Qval < .05) %>%\n",
    "    arrange(Qval)"
   ]
  },
  {
   "cell_type": "code",
   "execution_count": null,
   "id": "ba0560f3",
   "metadata": {
    "vscode": {
     "languageId": "r"
    }
   },
   "outputs": [
    {
     "data": {
      "text/html": [
       "<table class=\"dataframe\">\n",
       "<caption>A grouped_df: 23 × 7</caption>\n",
       "<thead>\n",
       "\t<tr><th scope=col>Network</th><th scope=col>kME_path</th><th scope=col>ME_path</th><th scope=col>Pval</th><th scope=col>Cell_type</th><th scope=col>Module</th><th scope=col>Qval</th></tr>\n",
       "\t<tr><th scope=col>&lt;chr&gt;</th><th scope=col>&lt;chr&gt;</th><th scope=col>&lt;chr&gt;</th><th scope=col>&lt;dbl&gt;</th><th scope=col>&lt;chr&gt;</th><th scope=col>&lt;chr&gt;</th><th scope=col>&lt;dbl&gt;</th></tr>\n",
       "</thead>\n",
       "<tbody>\n",
       "\t<tr><td>Bicor-None_signum0.219_minSize6_merge_ME_0.9_20151 </td><td>/mnt/lareaulab/reliscu/projects/NSF_GRFP/analyses/pseudobulk_test/tasic_2018/mouse_ALM/mouse_ACA_20pcntCells_0.4pcntVar_200samples_log2_Modules/Bicor-None_signum0.219_minSize6_merge_ME_0.9_20151/kME_table_08-09-19.csv </td><td>/mnt/lareaulab/reliscu/projects/NSF_GRFP/analyses/pseudobulk_test/tasic_2018/mouse_ALM/mouse_ACA_20pcntCells_0.4pcntVar_200samples_log2_Modules/Bicor-None_signum0.219_minSize6_merge_ME_0.9_20151/Module_eigengenes_08-09-19.csv </td><td>6.154253e-277</td><td>Astro     </td><td>turquoise     </td><td>4.729113e-272</td></tr>\n",
       "\t<tr><td>Bicor-None_signum0.794_minSize12_merge_ME_0.9_20151</td><td>/mnt/lareaulab/reliscu/projects/NSF_GRFP/analyses/pseudobulk_test/tasic_2018/mouse_ALM/mouse_ACA_20pcntCells_0.4pcntVar_200samples_log2_Modules/Bicor-None_signum0.794_minSize12_merge_ME_0.9_20151/kME_table_06-18-14.csv</td><td>/mnt/lareaulab/reliscu/projects/NSF_GRFP/analyses/pseudobulk_test/tasic_2018/mouse_ALM/mouse_ACA_20pcntCells_0.4pcntVar_200samples_log2_Modules/Bicor-None_signum0.794_minSize12_merge_ME_0.9_20151/Module_eigengenes_06-18-14.csv</td><td>1.417968e-196</td><td>Endo      </td><td>green         </td><td>7.264062e-193</td></tr>\n",
       "\t<tr><td>Bicor-None_signum0.919_minSize6_merge_ME_0.9_20151 </td><td>/mnt/lareaulab/reliscu/projects/NSF_GRFP/analyses/pseudobulk_test/tasic_2018/mouse_ALM/mouse_ACA_20pcntCells_0.4pcntVar_200samples_log2_Modules/Bicor-None_signum0.919_minSize6_merge_ME_0.9_20151/kME_table_06-12-22.csv </td><td>/mnt/lareaulab/reliscu/projects/NSF_GRFP/analyses/pseudobulk_test/tasic_2018/mouse_ALM/mouse_ACA_20pcntCells_0.4pcntVar_200samples_log2_Modules/Bicor-None_signum0.919_minSize6_merge_ME_0.9_20151/Module_eigengenes_06-12-22.csv </td><td>1.071779e-193</td><td>Macrophage</td><td>yellow        </td><td>4.575483e-190</td></tr>\n",
       "\t<tr><td>Bicor-None_signum0.794_minSize12_merge_ME_0.9_20151</td><td>/mnt/lareaulab/reliscu/projects/NSF_GRFP/analyses/pseudobulk_test/tasic_2018/mouse_ALM/mouse_ACA_20pcntCells_0.4pcntVar_200samples_log2_Modules/Bicor-None_signum0.794_minSize12_merge_ME_0.9_20151/kME_table_06-18-14.csv</td><td>/mnt/lareaulab/reliscu/projects/NSF_GRFP/analyses/pseudobulk_test/tasic_2018/mouse_ALM/mouse_ACA_20pcntCells_0.4pcntVar_200samples_log2_Modules/Bicor-None_signum0.794_minSize12_merge_ME_0.9_20151/Module_eigengenes_06-18-14.csv</td><td>1.691646e-186</td><td>Oligo     </td><td>red           </td><td>5.416296e-183</td></tr>\n",
       "\t<tr><td>Bicor-None_signum0.794_minSize3_merge_ME_0.9_20151 </td><td>/mnt/lareaulab/reliscu/projects/NSF_GRFP/analyses/pseudobulk_test/tasic_2018/mouse_ALM/mouse_ACA_20pcntCells_0.4pcntVar_200samples_log2_Modules/Bicor-None_signum0.794_minSize3_merge_ME_0.9_20151/kME_table_06-13-30.csv </td><td>/mnt/lareaulab/reliscu/projects/NSF_GRFP/analyses/pseudobulk_test/tasic_2018/mouse_ALM/mouse_ACA_20pcntCells_0.4pcntVar_200samples_log2_Modules/Bicor-None_signum0.794_minSize3_merge_ME_0.9_20151/Module_eigengenes_06-13-30.csv </td><td>1.545143e-125</td><td>VLMC      </td><td>tan           </td><td>1.109658e-122</td></tr>\n",
       "\t<tr><td>Bicor-None_signum0.919_minSize6_merge_ME_0.9_20151 </td><td>/mnt/lareaulab/reliscu/projects/NSF_GRFP/analyses/pseudobulk_test/tasic_2018/mouse_ALM/mouse_ACA_20pcntCells_0.4pcntVar_200samples_log2_Modules/Bicor-None_signum0.919_minSize6_merge_ME_0.9_20151/kME_table_06-12-22.csv </td><td>/mnt/lareaulab/reliscu/projects/NSF_GRFP/analyses/pseudobulk_test/tasic_2018/mouse_ALM/mouse_ACA_20pcntCells_0.4pcntVar_200samples_log2_Modules/Bicor-None_signum0.919_minSize6_merge_ME_0.9_20151/Module_eigengenes_06-12-22.csv </td><td>3.085103e-121</td><td>SMC       </td><td>brown         </td><td>2.135753e-118</td></tr>\n",
       "\t<tr><td>Bicor-None_signum0.586_minSize8_merge_ME_0.9_20151 </td><td>/mnt/lareaulab/reliscu/projects/NSF_GRFP/analyses/pseudobulk_test/tasic_2018/mouse_ALM/mouse_ACA_20pcntCells_0.4pcntVar_200samples_log2_Modules/Bicor-None_signum0.586_minSize8_merge_ME_0.9_20151/kME_table_06-40-23.csv </td><td>/mnt/lareaulab/reliscu/projects/NSF_GRFP/analyses/pseudobulk_test/tasic_2018/mouse_ALM/mouse_ACA_20pcntCells_0.4pcntVar_200samples_log2_Modules/Bicor-None_signum0.586_minSize8_merge_ME_0.9_20151/Module_eigengenes_06-40-23.csv </td><td>1.906383e-118</td><td>Peri      </td><td>white         </td><td>1.273845e-115</td></tr>\n",
       "\t<tr><td>Bicor-None_signum0.325_minSize4_merge_ME_0.9_20151 </td><td>/mnt/lareaulab/reliscu/projects/NSF_GRFP/analyses/pseudobulk_test/tasic_2018/mouse_ALM/mouse_ACA_20pcntCells_0.4pcntVar_200samples_log2_Modules/Bicor-None_signum0.325_minSize4_merge_ME_0.9_20151/kME_table_06-44-39.csv </td><td>/mnt/lareaulab/reliscu/projects/NSF_GRFP/analyses/pseudobulk_test/tasic_2018/mouse_ALM/mouse_ACA_20pcntCells_0.4pcntVar_200samples_log2_Modules/Bicor-None_signum0.325_minSize4_merge_ME_0.9_20151/Module_eigengenes_06-44-39.csv </td><td> 9.153633e-89</td><td>NP        </td><td>brown         </td><td> 5.672521e-86</td></tr>\n",
       "\t<tr><td>Bicor-None_signum0.586_minSize8_merge_ME_0.9_20151 </td><td>/mnt/lareaulab/reliscu/projects/NSF_GRFP/analyses/pseudobulk_test/tasic_2018/mouse_ALM/mouse_ACA_20pcntCells_0.4pcntVar_200samples_log2_Modules/Bicor-None_signum0.586_minSize8_merge_ME_0.9_20151/kME_table_06-40-23.csv </td><td>/mnt/lareaulab/reliscu/projects/NSF_GRFP/analyses/pseudobulk_test/tasic_2018/mouse_ALM/mouse_ACA_20pcntCells_0.4pcntVar_200samples_log2_Modules/Bicor-None_signum0.586_minSize8_merge_ME_0.9_20151/Module_eigengenes_06-40-23.csv </td><td> 4.179938e-85</td><td>Vip       </td><td>darkorange    </td><td> 2.489915e-82</td></tr>\n",
       "\t<tr><td>Bicor-None_signum0.325_minSize12_merge_ME_0.9_20151</td><td>/mnt/lareaulab/reliscu/projects/NSF_GRFP/analyses/pseudobulk_test/tasic_2018/mouse_ALM/mouse_ACA_20pcntCells_0.4pcntVar_200samples_log2_Modules/Bicor-None_signum0.325_minSize12_merge_ME_0.9_20151/kME_table_07-30-53.csv</td><td>/mnt/lareaulab/reliscu/projects/NSF_GRFP/analyses/pseudobulk_test/tasic_2018/mouse_ALM/mouse_ACA_20pcntCells_0.4pcntVar_200samples_log2_Modules/Bicor-None_signum0.325_minSize12_merge_ME_0.9_20151/Module_eigengenes_07-30-53.csv</td><td> 5.348967e-82</td><td>Sncg      </td><td>palevioletred3</td><td> 3.113869e-79</td></tr>\n",
       "\t<tr><td>Bicor-None_signum0.325_minSize10_merge_ME_0.9_20151</td><td>/mnt/lareaulab/reliscu/projects/NSF_GRFP/analyses/pseudobulk_test/tasic_2018/mouse_ALM/mouse_ACA_20pcntCells_0.4pcntVar_200samples_log2_Modules/Bicor-None_signum0.325_minSize10_merge_ME_0.9_20151/kME_table_07-26-22.csv</td><td>/mnt/lareaulab/reliscu/projects/NSF_GRFP/analyses/pseudobulk_test/tasic_2018/mouse_ALM/mouse_ACA_20pcntCells_0.4pcntVar_200samples_log2_Modules/Bicor-None_signum0.325_minSize10_merge_ME_0.9_20151/Module_eigengenes_07-26-22.csv</td><td> 2.232875e-63</td><td>Pvalb     </td><td>midnightblue  </td><td> 8.844373e-61</td></tr>\n",
       "\t<tr><td>Bicor-None_signum0.586_minSize8_merge_ME_0.9_20151 </td><td>/mnt/lareaulab/reliscu/projects/NSF_GRFP/analyses/pseudobulk_test/tasic_2018/mouse_ALM/mouse_ACA_20pcntCells_0.4pcntVar_200samples_log2_Modules/Bicor-None_signum0.586_minSize8_merge_ME_0.9_20151/kME_table_06-40-23.csv </td><td>/mnt/lareaulab/reliscu/projects/NSF_GRFP/analyses/pseudobulk_test/tasic_2018/mouse_ALM/mouse_ACA_20pcntCells_0.4pcntVar_200samples_log2_Modules/Bicor-None_signum0.586_minSize8_merge_ME_0.9_20151/Module_eigengenes_06-40-23.csv </td><td> 5.442750e-54</td><td>L6_IT     </td><td>yellowgreen   </td><td> 1.954379e-51</td></tr>\n",
       "\t<tr><td>Bicor-None_signum0.794_minSize4_merge_ME_0.9_20151 </td><td>/mnt/lareaulab/reliscu/projects/NSF_GRFP/analyses/pseudobulk_test/tasic_2018/mouse_ALM/mouse_ACA_20pcntCells_0.4pcntVar_200samples_log2_Modules/Bicor-None_signum0.794_minSize4_merge_ME_0.9_20151/kME_table_06-15-29.csv </td><td>/mnt/lareaulab/reliscu/projects/NSF_GRFP/analyses/pseudobulk_test/tasic_2018/mouse_ALM/mouse_ACA_20pcntCells_0.4pcntVar_200samples_log2_Modules/Bicor-None_signum0.794_minSize4_merge_ME_0.9_20151/Module_eigengenes_06-15-29.csv </td><td> 1.365177e-47</td><td>L2_3_IT   </td><td>greenyellow   </td><td> 4.768379e-45</td></tr>\n",
       "\t<tr><td>Bicor-None_signum0.586_minSize10_merge_ME_0.9_20151</td><td>/mnt/lareaulab/reliscu/projects/NSF_GRFP/analyses/pseudobulk_test/tasic_2018/mouse_ALM/mouse_ACA_20pcntCells_0.4pcntVar_200samples_log2_Modules/Bicor-None_signum0.586_minSize10_merge_ME_0.9_20151/kME_table_06-42-14.csv</td><td>/mnt/lareaulab/reliscu/projects/NSF_GRFP/analyses/pseudobulk_test/tasic_2018/mouse_ALM/mouse_ACA_20pcntCells_0.4pcntVar_200samples_log2_Modules/Bicor-None_signum0.586_minSize10_merge_ME_0.9_20151/Module_eigengenes_06-42-14.csv</td><td> 1.505276e-39</td><td>L6_CT     </td><td>purple        </td><td> 4.760080e-37</td></tr>\n",
       "\t<tr><td>Bicor-None_signum0.586_minSize6_merge_ME_0.9_20151 </td><td>/mnt/lareaulab/reliscu/projects/NSF_GRFP/analyses/pseudobulk_test/tasic_2018/mouse_ALM/mouse_ACA_20pcntCells_0.4pcntVar_200samples_log2_Modules/Bicor-None_signum0.586_minSize6_merge_ME_0.9_20151/kME_table_06-37-30.csv </td><td>/mnt/lareaulab/reliscu/projects/NSF_GRFP/analyses/pseudobulk_test/tasic_2018/mouse_ALM/mouse_ACA_20pcntCells_0.4pcntVar_200samples_log2_Modules/Bicor-None_signum0.586_minSize6_merge_ME_0.9_20151/Module_eigengenes_06-37-30.csv </td><td> 3.644836e-37</td><td>Lamp5     </td><td>salmon4       </td><td> 1.129355e-34</td></tr>\n",
       "\t<tr><td>Bicor-None_signum0.794_minSize12_merge_ME_0.9_20151</td><td>/mnt/lareaulab/reliscu/projects/NSF_GRFP/analyses/pseudobulk_test/tasic_2018/mouse_ALM/mouse_ACA_20pcntCells_0.4pcntVar_200samples_log2_Modules/Bicor-None_signum0.794_minSize12_merge_ME_0.9_20151/kME_table_06-18-14.csv</td><td>/mnt/lareaulab/reliscu/projects/NSF_GRFP/analyses/pseudobulk_test/tasic_2018/mouse_ALM/mouse_ACA_20pcntCells_0.4pcntVar_200samples_log2_Modules/Bicor-None_signum0.794_minSize12_merge_ME_0.9_20151/Module_eigengenes_06-18-14.csv</td><td> 4.311508e-35</td><td>L5_PT     </td><td>yellow        </td><td> 1.289141e-32</td></tr>\n",
       "\t<tr><td>Bicor-None_signum0.219_minSize8_merge_ME_0.9_20151 </td><td>/mnt/lareaulab/reliscu/projects/NSF_GRFP/analyses/pseudobulk_test/tasic_2018/mouse_ALM/mouse_ACA_20pcntCells_0.4pcntVar_200samples_log2_Modules/Bicor-None_signum0.219_minSize8_merge_ME_0.9_20151/kME_table_08-26-30.csv </td><td>/mnt/lareaulab/reliscu/projects/NSF_GRFP/analyses/pseudobulk_test/tasic_2018/mouse_ALM/mouse_ACA_20pcntCells_0.4pcntVar_200samples_log2_Modules/Bicor-None_signum0.219_minSize8_merge_ME_0.9_20151/Module_eigengenes_08-26-30.csv </td><td> 6.380650e-21</td><td>Serpinf1  </td><td>lightpink1    </td><td> 1.084753e-18</td></tr>\n",
       "\t<tr><td>Bicor-None_signum0.586_minSize4_merge_ME_0.9_20151 </td><td>/mnt/lareaulab/reliscu/projects/NSF_GRFP/analyses/pseudobulk_test/tasic_2018/mouse_ALM/mouse_ACA_20pcntCells_0.4pcntVar_200samples_log2_Modules/Bicor-None_signum0.586_minSize4_merge_ME_0.9_20151/kME_table_06-30-59.csv </td><td>/mnt/lareaulab/reliscu/projects/NSF_GRFP/analyses/pseudobulk_test/tasic_2018/mouse_ALM/mouse_ACA_20pcntCells_0.4pcntVar_200samples_log2_Modules/Bicor-None_signum0.586_minSize4_merge_ME_0.9_20151/Module_eigengenes_06-30-59.csv </td><td> 1.708880e-19</td><td>Sst       </td><td>thistle3      </td><td> 2.615846e-17</td></tr>\n",
       "\t<tr><td>Bicor-None_signum0.586_minSize8_merge_ME_0.9_20151 </td><td>/mnt/lareaulab/reliscu/projects/NSF_GRFP/analyses/pseudobulk_test/tasic_2018/mouse_ALM/mouse_ACA_20pcntCells_0.4pcntVar_200samples_log2_Modules/Bicor-None_signum0.586_minSize8_merge_ME_0.9_20151/kME_table_06-40-23.csv </td><td>/mnt/lareaulab/reliscu/projects/NSF_GRFP/analyses/pseudobulk_test/tasic_2018/mouse_ALM/mouse_ACA_20pcntCells_0.4pcntVar_200samples_log2_Modules/Bicor-None_signum0.586_minSize8_merge_ME_0.9_20151/Module_eigengenes_06-40-23.csv </td><td> 9.342229e-19</td><td>L5_IT     </td><td>lightgreen    </td><td> 1.349408e-16</td></tr>\n",
       "\t<tr><td>Bicor-None_signum0.219_minSize8_merge_ME_0.9_20151 </td><td>/mnt/lareaulab/reliscu/projects/NSF_GRFP/analyses/pseudobulk_test/tasic_2018/mouse_ALM/mouse_ACA_20pcntCells_0.4pcntVar_200samples_log2_Modules/Bicor-None_signum0.219_minSize8_merge_ME_0.9_20151/kME_table_08-26-30.csv </td><td>/mnt/lareaulab/reliscu/projects/NSF_GRFP/analyses/pseudobulk_test/tasic_2018/mouse_ALM/mouse_ACA_20pcntCells_0.4pcntVar_200samples_log2_Modules/Bicor-None_signum0.219_minSize8_merge_ME_0.9_20151/Module_eigengenes_08-26-30.csv </td><td> 1.022966e-11</td><td>L6b       </td><td>thistle4      </td><td> 8.283223e-10</td></tr>\n",
       "\t<tr><td>Bicor-None_signum0.255_minSize10_merge_ME_0.9_20151</td><td>/mnt/lareaulab/reliscu/projects/NSF_GRFP/analyses/pseudobulk_test/tasic_2018/mouse_ALM/mouse_ACA_20pcntCells_0.4pcntVar_200samples_log2_Modules/Bicor-None_signum0.255_minSize10_merge_ME_0.9_20151/kME_table_07-58-32.csv</td><td>/mnt/lareaulab/reliscu/projects/NSF_GRFP/analyses/pseudobulk_test/tasic_2018/mouse_ALM/mouse_ACA_20pcntCells_0.4pcntVar_200samples_log2_Modules/Bicor-None_signum0.255_minSize10_merge_ME_0.9_20151/Module_eigengenes_07-58-32.csv</td><td> 1.922654e-04</td><td>CR        </td><td>sienna2       </td><td> 5.331738e-03</td></tr>\n",
       "\t<tr><td>Bicor-None_signum0.219_minSize6_merge_ME_0.9_20151 </td><td>/mnt/lareaulab/reliscu/projects/NSF_GRFP/analyses/pseudobulk_test/tasic_2018/mouse_ALM/mouse_ACA_20pcntCells_0.4pcntVar_200samples_log2_Modules/Bicor-None_signum0.219_minSize6_merge_ME_0.9_20151/kME_table_08-09-19.csv </td><td>/mnt/lareaulab/reliscu/projects/NSF_GRFP/analyses/pseudobulk_test/tasic_2018/mouse_ALM/mouse_ACA_20pcntCells_0.4pcntVar_200samples_log2_Modules/Bicor-None_signum0.219_minSize6_merge_ME_0.9_20151/Module_eigengenes_08-09-19.csv </td><td> 3.323244e-04</td><td>L4        </td><td>brown1        </td><td> 8.583800e-03</td></tr>\n",
       "\t<tr><td>Bicor-None_signum0.325_minSize4_merge_ME_0.9_20151 </td><td>/mnt/lareaulab/reliscu/projects/NSF_GRFP/analyses/pseudobulk_test/tasic_2018/mouse_ALM/mouse_ACA_20pcntCells_0.4pcntVar_200samples_log2_Modules/Bicor-None_signum0.325_minSize4_merge_ME_0.9_20151/kME_table_06-44-39.csv </td><td>/mnt/lareaulab/reliscu/projects/NSF_GRFP/analyses/pseudobulk_test/tasic_2018/mouse_ALM/mouse_ACA_20pcntCells_0.4pcntVar_200samples_log2_Modules/Bicor-None_signum0.325_minSize4_merge_ME_0.9_20151/Module_eigengenes_06-44-39.csv </td><td> 3.839339e-04</td><td>Meis2     </td><td>orange4       </td><td> 9.704814e-03</td></tr>\n",
       "</tbody>\n",
       "</table>\n"
      ],
      "text/latex": [
       "A grouped\\_df: 23 × 7\n",
       "\\begin{tabular}{lllllll}\n",
       " Network & kME\\_path & ME\\_path & Pval & Cell\\_type & Module & Qval\\\\\n",
       " <chr> & <chr> & <chr> & <dbl> & <chr> & <chr> & <dbl>\\\\\n",
       "\\hline\n",
       "\t Bicor-None\\_signum0.219\\_minSize6\\_merge\\_ME\\_0.9\\_20151  & /mnt/lareaulab/reliscu/projects/NSF\\_GRFP/analyses/pseudobulk\\_test/tasic\\_2018/mouse\\_ALM/mouse\\_ACA\\_20pcntCells\\_0.4pcntVar\\_200samples\\_log2\\_Modules/Bicor-None\\_signum0.219\\_minSize6\\_merge\\_ME\\_0.9\\_20151/kME\\_table\\_08-09-19.csv  & /mnt/lareaulab/reliscu/projects/NSF\\_GRFP/analyses/pseudobulk\\_test/tasic\\_2018/mouse\\_ALM/mouse\\_ACA\\_20pcntCells\\_0.4pcntVar\\_200samples\\_log2\\_Modules/Bicor-None\\_signum0.219\\_minSize6\\_merge\\_ME\\_0.9\\_20151/Module\\_eigengenes\\_08-09-19.csv  & 6.154253e-277 & Astro      & turquoise      & 4.729113e-272\\\\\n",
       "\t Bicor-None\\_signum0.794\\_minSize12\\_merge\\_ME\\_0.9\\_20151 & /mnt/lareaulab/reliscu/projects/NSF\\_GRFP/analyses/pseudobulk\\_test/tasic\\_2018/mouse\\_ALM/mouse\\_ACA\\_20pcntCells\\_0.4pcntVar\\_200samples\\_log2\\_Modules/Bicor-None\\_signum0.794\\_minSize12\\_merge\\_ME\\_0.9\\_20151/kME\\_table\\_06-18-14.csv & /mnt/lareaulab/reliscu/projects/NSF\\_GRFP/analyses/pseudobulk\\_test/tasic\\_2018/mouse\\_ALM/mouse\\_ACA\\_20pcntCells\\_0.4pcntVar\\_200samples\\_log2\\_Modules/Bicor-None\\_signum0.794\\_minSize12\\_merge\\_ME\\_0.9\\_20151/Module\\_eigengenes\\_06-18-14.csv & 1.417968e-196 & Endo       & green          & 7.264062e-193\\\\\n",
       "\t Bicor-None\\_signum0.919\\_minSize6\\_merge\\_ME\\_0.9\\_20151  & /mnt/lareaulab/reliscu/projects/NSF\\_GRFP/analyses/pseudobulk\\_test/tasic\\_2018/mouse\\_ALM/mouse\\_ACA\\_20pcntCells\\_0.4pcntVar\\_200samples\\_log2\\_Modules/Bicor-None\\_signum0.919\\_minSize6\\_merge\\_ME\\_0.9\\_20151/kME\\_table\\_06-12-22.csv  & /mnt/lareaulab/reliscu/projects/NSF\\_GRFP/analyses/pseudobulk\\_test/tasic\\_2018/mouse\\_ALM/mouse\\_ACA\\_20pcntCells\\_0.4pcntVar\\_200samples\\_log2\\_Modules/Bicor-None\\_signum0.919\\_minSize6\\_merge\\_ME\\_0.9\\_20151/Module\\_eigengenes\\_06-12-22.csv  & 1.071779e-193 & Macrophage & yellow         & 4.575483e-190\\\\\n",
       "\t Bicor-None\\_signum0.794\\_minSize12\\_merge\\_ME\\_0.9\\_20151 & /mnt/lareaulab/reliscu/projects/NSF\\_GRFP/analyses/pseudobulk\\_test/tasic\\_2018/mouse\\_ALM/mouse\\_ACA\\_20pcntCells\\_0.4pcntVar\\_200samples\\_log2\\_Modules/Bicor-None\\_signum0.794\\_minSize12\\_merge\\_ME\\_0.9\\_20151/kME\\_table\\_06-18-14.csv & /mnt/lareaulab/reliscu/projects/NSF\\_GRFP/analyses/pseudobulk\\_test/tasic\\_2018/mouse\\_ALM/mouse\\_ACA\\_20pcntCells\\_0.4pcntVar\\_200samples\\_log2\\_Modules/Bicor-None\\_signum0.794\\_minSize12\\_merge\\_ME\\_0.9\\_20151/Module\\_eigengenes\\_06-18-14.csv & 1.691646e-186 & Oligo      & red            & 5.416296e-183\\\\\n",
       "\t Bicor-None\\_signum0.794\\_minSize3\\_merge\\_ME\\_0.9\\_20151  & /mnt/lareaulab/reliscu/projects/NSF\\_GRFP/analyses/pseudobulk\\_test/tasic\\_2018/mouse\\_ALM/mouse\\_ACA\\_20pcntCells\\_0.4pcntVar\\_200samples\\_log2\\_Modules/Bicor-None\\_signum0.794\\_minSize3\\_merge\\_ME\\_0.9\\_20151/kME\\_table\\_06-13-30.csv  & /mnt/lareaulab/reliscu/projects/NSF\\_GRFP/analyses/pseudobulk\\_test/tasic\\_2018/mouse\\_ALM/mouse\\_ACA\\_20pcntCells\\_0.4pcntVar\\_200samples\\_log2\\_Modules/Bicor-None\\_signum0.794\\_minSize3\\_merge\\_ME\\_0.9\\_20151/Module\\_eigengenes\\_06-13-30.csv  & 1.545143e-125 & VLMC       & tan            & 1.109658e-122\\\\\n",
       "\t Bicor-None\\_signum0.919\\_minSize6\\_merge\\_ME\\_0.9\\_20151  & /mnt/lareaulab/reliscu/projects/NSF\\_GRFP/analyses/pseudobulk\\_test/tasic\\_2018/mouse\\_ALM/mouse\\_ACA\\_20pcntCells\\_0.4pcntVar\\_200samples\\_log2\\_Modules/Bicor-None\\_signum0.919\\_minSize6\\_merge\\_ME\\_0.9\\_20151/kME\\_table\\_06-12-22.csv  & /mnt/lareaulab/reliscu/projects/NSF\\_GRFP/analyses/pseudobulk\\_test/tasic\\_2018/mouse\\_ALM/mouse\\_ACA\\_20pcntCells\\_0.4pcntVar\\_200samples\\_log2\\_Modules/Bicor-None\\_signum0.919\\_minSize6\\_merge\\_ME\\_0.9\\_20151/Module\\_eigengenes\\_06-12-22.csv  & 3.085103e-121 & SMC        & brown          & 2.135753e-118\\\\\n",
       "\t Bicor-None\\_signum0.586\\_minSize8\\_merge\\_ME\\_0.9\\_20151  & /mnt/lareaulab/reliscu/projects/NSF\\_GRFP/analyses/pseudobulk\\_test/tasic\\_2018/mouse\\_ALM/mouse\\_ACA\\_20pcntCells\\_0.4pcntVar\\_200samples\\_log2\\_Modules/Bicor-None\\_signum0.586\\_minSize8\\_merge\\_ME\\_0.9\\_20151/kME\\_table\\_06-40-23.csv  & /mnt/lareaulab/reliscu/projects/NSF\\_GRFP/analyses/pseudobulk\\_test/tasic\\_2018/mouse\\_ALM/mouse\\_ACA\\_20pcntCells\\_0.4pcntVar\\_200samples\\_log2\\_Modules/Bicor-None\\_signum0.586\\_minSize8\\_merge\\_ME\\_0.9\\_20151/Module\\_eigengenes\\_06-40-23.csv  & 1.906383e-118 & Peri       & white          & 1.273845e-115\\\\\n",
       "\t Bicor-None\\_signum0.325\\_minSize4\\_merge\\_ME\\_0.9\\_20151  & /mnt/lareaulab/reliscu/projects/NSF\\_GRFP/analyses/pseudobulk\\_test/tasic\\_2018/mouse\\_ALM/mouse\\_ACA\\_20pcntCells\\_0.4pcntVar\\_200samples\\_log2\\_Modules/Bicor-None\\_signum0.325\\_minSize4\\_merge\\_ME\\_0.9\\_20151/kME\\_table\\_06-44-39.csv  & /mnt/lareaulab/reliscu/projects/NSF\\_GRFP/analyses/pseudobulk\\_test/tasic\\_2018/mouse\\_ALM/mouse\\_ACA\\_20pcntCells\\_0.4pcntVar\\_200samples\\_log2\\_Modules/Bicor-None\\_signum0.325\\_minSize4\\_merge\\_ME\\_0.9\\_20151/Module\\_eigengenes\\_06-44-39.csv  &  9.153633e-89 & NP         & brown          &  5.672521e-86\\\\\n",
       "\t Bicor-None\\_signum0.586\\_minSize8\\_merge\\_ME\\_0.9\\_20151  & /mnt/lareaulab/reliscu/projects/NSF\\_GRFP/analyses/pseudobulk\\_test/tasic\\_2018/mouse\\_ALM/mouse\\_ACA\\_20pcntCells\\_0.4pcntVar\\_200samples\\_log2\\_Modules/Bicor-None\\_signum0.586\\_minSize8\\_merge\\_ME\\_0.9\\_20151/kME\\_table\\_06-40-23.csv  & /mnt/lareaulab/reliscu/projects/NSF\\_GRFP/analyses/pseudobulk\\_test/tasic\\_2018/mouse\\_ALM/mouse\\_ACA\\_20pcntCells\\_0.4pcntVar\\_200samples\\_log2\\_Modules/Bicor-None\\_signum0.586\\_minSize8\\_merge\\_ME\\_0.9\\_20151/Module\\_eigengenes\\_06-40-23.csv  &  4.179938e-85 & Vip        & darkorange     &  2.489915e-82\\\\\n",
       "\t Bicor-None\\_signum0.325\\_minSize12\\_merge\\_ME\\_0.9\\_20151 & /mnt/lareaulab/reliscu/projects/NSF\\_GRFP/analyses/pseudobulk\\_test/tasic\\_2018/mouse\\_ALM/mouse\\_ACA\\_20pcntCells\\_0.4pcntVar\\_200samples\\_log2\\_Modules/Bicor-None\\_signum0.325\\_minSize12\\_merge\\_ME\\_0.9\\_20151/kME\\_table\\_07-30-53.csv & /mnt/lareaulab/reliscu/projects/NSF\\_GRFP/analyses/pseudobulk\\_test/tasic\\_2018/mouse\\_ALM/mouse\\_ACA\\_20pcntCells\\_0.4pcntVar\\_200samples\\_log2\\_Modules/Bicor-None\\_signum0.325\\_minSize12\\_merge\\_ME\\_0.9\\_20151/Module\\_eigengenes\\_07-30-53.csv &  5.348967e-82 & Sncg       & palevioletred3 &  3.113869e-79\\\\\n",
       "\t Bicor-None\\_signum0.325\\_minSize10\\_merge\\_ME\\_0.9\\_20151 & /mnt/lareaulab/reliscu/projects/NSF\\_GRFP/analyses/pseudobulk\\_test/tasic\\_2018/mouse\\_ALM/mouse\\_ACA\\_20pcntCells\\_0.4pcntVar\\_200samples\\_log2\\_Modules/Bicor-None\\_signum0.325\\_minSize10\\_merge\\_ME\\_0.9\\_20151/kME\\_table\\_07-26-22.csv & /mnt/lareaulab/reliscu/projects/NSF\\_GRFP/analyses/pseudobulk\\_test/tasic\\_2018/mouse\\_ALM/mouse\\_ACA\\_20pcntCells\\_0.4pcntVar\\_200samples\\_log2\\_Modules/Bicor-None\\_signum0.325\\_minSize10\\_merge\\_ME\\_0.9\\_20151/Module\\_eigengenes\\_07-26-22.csv &  2.232875e-63 & Pvalb      & midnightblue   &  8.844373e-61\\\\\n",
       "\t Bicor-None\\_signum0.586\\_minSize8\\_merge\\_ME\\_0.9\\_20151  & /mnt/lareaulab/reliscu/projects/NSF\\_GRFP/analyses/pseudobulk\\_test/tasic\\_2018/mouse\\_ALM/mouse\\_ACA\\_20pcntCells\\_0.4pcntVar\\_200samples\\_log2\\_Modules/Bicor-None\\_signum0.586\\_minSize8\\_merge\\_ME\\_0.9\\_20151/kME\\_table\\_06-40-23.csv  & /mnt/lareaulab/reliscu/projects/NSF\\_GRFP/analyses/pseudobulk\\_test/tasic\\_2018/mouse\\_ALM/mouse\\_ACA\\_20pcntCells\\_0.4pcntVar\\_200samples\\_log2\\_Modules/Bicor-None\\_signum0.586\\_minSize8\\_merge\\_ME\\_0.9\\_20151/Module\\_eigengenes\\_06-40-23.csv  &  5.442750e-54 & L6\\_IT      & yellowgreen    &  1.954379e-51\\\\\n",
       "\t Bicor-None\\_signum0.794\\_minSize4\\_merge\\_ME\\_0.9\\_20151  & /mnt/lareaulab/reliscu/projects/NSF\\_GRFP/analyses/pseudobulk\\_test/tasic\\_2018/mouse\\_ALM/mouse\\_ACA\\_20pcntCells\\_0.4pcntVar\\_200samples\\_log2\\_Modules/Bicor-None\\_signum0.794\\_minSize4\\_merge\\_ME\\_0.9\\_20151/kME\\_table\\_06-15-29.csv  & /mnt/lareaulab/reliscu/projects/NSF\\_GRFP/analyses/pseudobulk\\_test/tasic\\_2018/mouse\\_ALM/mouse\\_ACA\\_20pcntCells\\_0.4pcntVar\\_200samples\\_log2\\_Modules/Bicor-None\\_signum0.794\\_minSize4\\_merge\\_ME\\_0.9\\_20151/Module\\_eigengenes\\_06-15-29.csv  &  1.365177e-47 & L2\\_3\\_IT    & greenyellow    &  4.768379e-45\\\\\n",
       "\t Bicor-None\\_signum0.586\\_minSize10\\_merge\\_ME\\_0.9\\_20151 & /mnt/lareaulab/reliscu/projects/NSF\\_GRFP/analyses/pseudobulk\\_test/tasic\\_2018/mouse\\_ALM/mouse\\_ACA\\_20pcntCells\\_0.4pcntVar\\_200samples\\_log2\\_Modules/Bicor-None\\_signum0.586\\_minSize10\\_merge\\_ME\\_0.9\\_20151/kME\\_table\\_06-42-14.csv & /mnt/lareaulab/reliscu/projects/NSF\\_GRFP/analyses/pseudobulk\\_test/tasic\\_2018/mouse\\_ALM/mouse\\_ACA\\_20pcntCells\\_0.4pcntVar\\_200samples\\_log2\\_Modules/Bicor-None\\_signum0.586\\_minSize10\\_merge\\_ME\\_0.9\\_20151/Module\\_eigengenes\\_06-42-14.csv &  1.505276e-39 & L6\\_CT      & purple         &  4.760080e-37\\\\\n",
       "\t Bicor-None\\_signum0.586\\_minSize6\\_merge\\_ME\\_0.9\\_20151  & /mnt/lareaulab/reliscu/projects/NSF\\_GRFP/analyses/pseudobulk\\_test/tasic\\_2018/mouse\\_ALM/mouse\\_ACA\\_20pcntCells\\_0.4pcntVar\\_200samples\\_log2\\_Modules/Bicor-None\\_signum0.586\\_minSize6\\_merge\\_ME\\_0.9\\_20151/kME\\_table\\_06-37-30.csv  & /mnt/lareaulab/reliscu/projects/NSF\\_GRFP/analyses/pseudobulk\\_test/tasic\\_2018/mouse\\_ALM/mouse\\_ACA\\_20pcntCells\\_0.4pcntVar\\_200samples\\_log2\\_Modules/Bicor-None\\_signum0.586\\_minSize6\\_merge\\_ME\\_0.9\\_20151/Module\\_eigengenes\\_06-37-30.csv  &  3.644836e-37 & Lamp5      & salmon4        &  1.129355e-34\\\\\n",
       "\t Bicor-None\\_signum0.794\\_minSize12\\_merge\\_ME\\_0.9\\_20151 & /mnt/lareaulab/reliscu/projects/NSF\\_GRFP/analyses/pseudobulk\\_test/tasic\\_2018/mouse\\_ALM/mouse\\_ACA\\_20pcntCells\\_0.4pcntVar\\_200samples\\_log2\\_Modules/Bicor-None\\_signum0.794\\_minSize12\\_merge\\_ME\\_0.9\\_20151/kME\\_table\\_06-18-14.csv & /mnt/lareaulab/reliscu/projects/NSF\\_GRFP/analyses/pseudobulk\\_test/tasic\\_2018/mouse\\_ALM/mouse\\_ACA\\_20pcntCells\\_0.4pcntVar\\_200samples\\_log2\\_Modules/Bicor-None\\_signum0.794\\_minSize12\\_merge\\_ME\\_0.9\\_20151/Module\\_eigengenes\\_06-18-14.csv &  4.311508e-35 & L5\\_PT      & yellow         &  1.289141e-32\\\\\n",
       "\t Bicor-None\\_signum0.219\\_minSize8\\_merge\\_ME\\_0.9\\_20151  & /mnt/lareaulab/reliscu/projects/NSF\\_GRFP/analyses/pseudobulk\\_test/tasic\\_2018/mouse\\_ALM/mouse\\_ACA\\_20pcntCells\\_0.4pcntVar\\_200samples\\_log2\\_Modules/Bicor-None\\_signum0.219\\_minSize8\\_merge\\_ME\\_0.9\\_20151/kME\\_table\\_08-26-30.csv  & /mnt/lareaulab/reliscu/projects/NSF\\_GRFP/analyses/pseudobulk\\_test/tasic\\_2018/mouse\\_ALM/mouse\\_ACA\\_20pcntCells\\_0.4pcntVar\\_200samples\\_log2\\_Modules/Bicor-None\\_signum0.219\\_minSize8\\_merge\\_ME\\_0.9\\_20151/Module\\_eigengenes\\_08-26-30.csv  &  6.380650e-21 & Serpinf1   & lightpink1     &  1.084753e-18\\\\\n",
       "\t Bicor-None\\_signum0.586\\_minSize4\\_merge\\_ME\\_0.9\\_20151  & /mnt/lareaulab/reliscu/projects/NSF\\_GRFP/analyses/pseudobulk\\_test/tasic\\_2018/mouse\\_ALM/mouse\\_ACA\\_20pcntCells\\_0.4pcntVar\\_200samples\\_log2\\_Modules/Bicor-None\\_signum0.586\\_minSize4\\_merge\\_ME\\_0.9\\_20151/kME\\_table\\_06-30-59.csv  & /mnt/lareaulab/reliscu/projects/NSF\\_GRFP/analyses/pseudobulk\\_test/tasic\\_2018/mouse\\_ALM/mouse\\_ACA\\_20pcntCells\\_0.4pcntVar\\_200samples\\_log2\\_Modules/Bicor-None\\_signum0.586\\_minSize4\\_merge\\_ME\\_0.9\\_20151/Module\\_eigengenes\\_06-30-59.csv  &  1.708880e-19 & Sst        & thistle3       &  2.615846e-17\\\\\n",
       "\t Bicor-None\\_signum0.586\\_minSize8\\_merge\\_ME\\_0.9\\_20151  & /mnt/lareaulab/reliscu/projects/NSF\\_GRFP/analyses/pseudobulk\\_test/tasic\\_2018/mouse\\_ALM/mouse\\_ACA\\_20pcntCells\\_0.4pcntVar\\_200samples\\_log2\\_Modules/Bicor-None\\_signum0.586\\_minSize8\\_merge\\_ME\\_0.9\\_20151/kME\\_table\\_06-40-23.csv  & /mnt/lareaulab/reliscu/projects/NSF\\_GRFP/analyses/pseudobulk\\_test/tasic\\_2018/mouse\\_ALM/mouse\\_ACA\\_20pcntCells\\_0.4pcntVar\\_200samples\\_log2\\_Modules/Bicor-None\\_signum0.586\\_minSize8\\_merge\\_ME\\_0.9\\_20151/Module\\_eigengenes\\_06-40-23.csv  &  9.342229e-19 & L5\\_IT      & lightgreen     &  1.349408e-16\\\\\n",
       "\t Bicor-None\\_signum0.219\\_minSize8\\_merge\\_ME\\_0.9\\_20151  & /mnt/lareaulab/reliscu/projects/NSF\\_GRFP/analyses/pseudobulk\\_test/tasic\\_2018/mouse\\_ALM/mouse\\_ACA\\_20pcntCells\\_0.4pcntVar\\_200samples\\_log2\\_Modules/Bicor-None\\_signum0.219\\_minSize8\\_merge\\_ME\\_0.9\\_20151/kME\\_table\\_08-26-30.csv  & /mnt/lareaulab/reliscu/projects/NSF\\_GRFP/analyses/pseudobulk\\_test/tasic\\_2018/mouse\\_ALM/mouse\\_ACA\\_20pcntCells\\_0.4pcntVar\\_200samples\\_log2\\_Modules/Bicor-None\\_signum0.219\\_minSize8\\_merge\\_ME\\_0.9\\_20151/Module\\_eigengenes\\_08-26-30.csv  &  1.022966e-11 & L6b        & thistle4       &  8.283223e-10\\\\\n",
       "\t Bicor-None\\_signum0.255\\_minSize10\\_merge\\_ME\\_0.9\\_20151 & /mnt/lareaulab/reliscu/projects/NSF\\_GRFP/analyses/pseudobulk\\_test/tasic\\_2018/mouse\\_ALM/mouse\\_ACA\\_20pcntCells\\_0.4pcntVar\\_200samples\\_log2\\_Modules/Bicor-None\\_signum0.255\\_minSize10\\_merge\\_ME\\_0.9\\_20151/kME\\_table\\_07-58-32.csv & /mnt/lareaulab/reliscu/projects/NSF\\_GRFP/analyses/pseudobulk\\_test/tasic\\_2018/mouse\\_ALM/mouse\\_ACA\\_20pcntCells\\_0.4pcntVar\\_200samples\\_log2\\_Modules/Bicor-None\\_signum0.255\\_minSize10\\_merge\\_ME\\_0.9\\_20151/Module\\_eigengenes\\_07-58-32.csv &  1.922654e-04 & CR         & sienna2        &  5.331738e-03\\\\\n",
       "\t Bicor-None\\_signum0.219\\_minSize6\\_merge\\_ME\\_0.9\\_20151  & /mnt/lareaulab/reliscu/projects/NSF\\_GRFP/analyses/pseudobulk\\_test/tasic\\_2018/mouse\\_ALM/mouse\\_ACA\\_20pcntCells\\_0.4pcntVar\\_200samples\\_log2\\_Modules/Bicor-None\\_signum0.219\\_minSize6\\_merge\\_ME\\_0.9\\_20151/kME\\_table\\_08-09-19.csv  & /mnt/lareaulab/reliscu/projects/NSF\\_GRFP/analyses/pseudobulk\\_test/tasic\\_2018/mouse\\_ALM/mouse\\_ACA\\_20pcntCells\\_0.4pcntVar\\_200samples\\_log2\\_Modules/Bicor-None\\_signum0.219\\_minSize6\\_merge\\_ME\\_0.9\\_20151/Module\\_eigengenes\\_08-09-19.csv  &  3.323244e-04 & L4         & brown1         &  8.583800e-03\\\\\n",
       "\t Bicor-None\\_signum0.325\\_minSize4\\_merge\\_ME\\_0.9\\_20151  & /mnt/lareaulab/reliscu/projects/NSF\\_GRFP/analyses/pseudobulk\\_test/tasic\\_2018/mouse\\_ALM/mouse\\_ACA\\_20pcntCells\\_0.4pcntVar\\_200samples\\_log2\\_Modules/Bicor-None\\_signum0.325\\_minSize4\\_merge\\_ME\\_0.9\\_20151/kME\\_table\\_06-44-39.csv  & /mnt/lareaulab/reliscu/projects/NSF\\_GRFP/analyses/pseudobulk\\_test/tasic\\_2018/mouse\\_ALM/mouse\\_ACA\\_20pcntCells\\_0.4pcntVar\\_200samples\\_log2\\_Modules/Bicor-None\\_signum0.325\\_minSize4\\_merge\\_ME\\_0.9\\_20151/Module\\_eigengenes\\_06-44-39.csv  &  3.839339e-04 & Meis2      & orange4        &  9.704814e-03\\\\\n",
       "\\end{tabular}\n"
      ],
      "text/markdown": [
       "\n",
       "A grouped_df: 23 × 7\n",
       "\n",
       "| Network &lt;chr&gt; | kME_path &lt;chr&gt; | ME_path &lt;chr&gt; | Pval &lt;dbl&gt; | Cell_type &lt;chr&gt; | Module &lt;chr&gt; | Qval &lt;dbl&gt; |\n",
       "|---|---|---|---|---|---|---|\n",
       "| Bicor-None_signum0.219_minSize6_merge_ME_0.9_20151  | /mnt/lareaulab/reliscu/projects/NSF_GRFP/analyses/pseudobulk_test/tasic_2018/mouse_ALM/mouse_ACA_20pcntCells_0.4pcntVar_200samples_log2_Modules/Bicor-None_signum0.219_minSize6_merge_ME_0.9_20151/kME_table_08-09-19.csv  | /mnt/lareaulab/reliscu/projects/NSF_GRFP/analyses/pseudobulk_test/tasic_2018/mouse_ALM/mouse_ACA_20pcntCells_0.4pcntVar_200samples_log2_Modules/Bicor-None_signum0.219_minSize6_merge_ME_0.9_20151/Module_eigengenes_08-09-19.csv  | 6.154253e-277 | Astro      | turquoise      | 4.729113e-272 |\n",
       "| Bicor-None_signum0.794_minSize12_merge_ME_0.9_20151 | /mnt/lareaulab/reliscu/projects/NSF_GRFP/analyses/pseudobulk_test/tasic_2018/mouse_ALM/mouse_ACA_20pcntCells_0.4pcntVar_200samples_log2_Modules/Bicor-None_signum0.794_minSize12_merge_ME_0.9_20151/kME_table_06-18-14.csv | /mnt/lareaulab/reliscu/projects/NSF_GRFP/analyses/pseudobulk_test/tasic_2018/mouse_ALM/mouse_ACA_20pcntCells_0.4pcntVar_200samples_log2_Modules/Bicor-None_signum0.794_minSize12_merge_ME_0.9_20151/Module_eigengenes_06-18-14.csv | 1.417968e-196 | Endo       | green          | 7.264062e-193 |\n",
       "| Bicor-None_signum0.919_minSize6_merge_ME_0.9_20151  | /mnt/lareaulab/reliscu/projects/NSF_GRFP/analyses/pseudobulk_test/tasic_2018/mouse_ALM/mouse_ACA_20pcntCells_0.4pcntVar_200samples_log2_Modules/Bicor-None_signum0.919_minSize6_merge_ME_0.9_20151/kME_table_06-12-22.csv  | /mnt/lareaulab/reliscu/projects/NSF_GRFP/analyses/pseudobulk_test/tasic_2018/mouse_ALM/mouse_ACA_20pcntCells_0.4pcntVar_200samples_log2_Modules/Bicor-None_signum0.919_minSize6_merge_ME_0.9_20151/Module_eigengenes_06-12-22.csv  | 1.071779e-193 | Macrophage | yellow         | 4.575483e-190 |\n",
       "| Bicor-None_signum0.794_minSize12_merge_ME_0.9_20151 | /mnt/lareaulab/reliscu/projects/NSF_GRFP/analyses/pseudobulk_test/tasic_2018/mouse_ALM/mouse_ACA_20pcntCells_0.4pcntVar_200samples_log2_Modules/Bicor-None_signum0.794_minSize12_merge_ME_0.9_20151/kME_table_06-18-14.csv | /mnt/lareaulab/reliscu/projects/NSF_GRFP/analyses/pseudobulk_test/tasic_2018/mouse_ALM/mouse_ACA_20pcntCells_0.4pcntVar_200samples_log2_Modules/Bicor-None_signum0.794_minSize12_merge_ME_0.9_20151/Module_eigengenes_06-18-14.csv | 1.691646e-186 | Oligo      | red            | 5.416296e-183 |\n",
       "| Bicor-None_signum0.794_minSize3_merge_ME_0.9_20151  | /mnt/lareaulab/reliscu/projects/NSF_GRFP/analyses/pseudobulk_test/tasic_2018/mouse_ALM/mouse_ACA_20pcntCells_0.4pcntVar_200samples_log2_Modules/Bicor-None_signum0.794_minSize3_merge_ME_0.9_20151/kME_table_06-13-30.csv  | /mnt/lareaulab/reliscu/projects/NSF_GRFP/analyses/pseudobulk_test/tasic_2018/mouse_ALM/mouse_ACA_20pcntCells_0.4pcntVar_200samples_log2_Modules/Bicor-None_signum0.794_minSize3_merge_ME_0.9_20151/Module_eigengenes_06-13-30.csv  | 1.545143e-125 | VLMC       | tan            | 1.109658e-122 |\n",
       "| Bicor-None_signum0.919_minSize6_merge_ME_0.9_20151  | /mnt/lareaulab/reliscu/projects/NSF_GRFP/analyses/pseudobulk_test/tasic_2018/mouse_ALM/mouse_ACA_20pcntCells_0.4pcntVar_200samples_log2_Modules/Bicor-None_signum0.919_minSize6_merge_ME_0.9_20151/kME_table_06-12-22.csv  | /mnt/lareaulab/reliscu/projects/NSF_GRFP/analyses/pseudobulk_test/tasic_2018/mouse_ALM/mouse_ACA_20pcntCells_0.4pcntVar_200samples_log2_Modules/Bicor-None_signum0.919_minSize6_merge_ME_0.9_20151/Module_eigengenes_06-12-22.csv  | 3.085103e-121 | SMC        | brown          | 2.135753e-118 |\n",
       "| Bicor-None_signum0.586_minSize8_merge_ME_0.9_20151  | /mnt/lareaulab/reliscu/projects/NSF_GRFP/analyses/pseudobulk_test/tasic_2018/mouse_ALM/mouse_ACA_20pcntCells_0.4pcntVar_200samples_log2_Modules/Bicor-None_signum0.586_minSize8_merge_ME_0.9_20151/kME_table_06-40-23.csv  | /mnt/lareaulab/reliscu/projects/NSF_GRFP/analyses/pseudobulk_test/tasic_2018/mouse_ALM/mouse_ACA_20pcntCells_0.4pcntVar_200samples_log2_Modules/Bicor-None_signum0.586_minSize8_merge_ME_0.9_20151/Module_eigengenes_06-40-23.csv  | 1.906383e-118 | Peri       | white          | 1.273845e-115 |\n",
       "| Bicor-None_signum0.325_minSize4_merge_ME_0.9_20151  | /mnt/lareaulab/reliscu/projects/NSF_GRFP/analyses/pseudobulk_test/tasic_2018/mouse_ALM/mouse_ACA_20pcntCells_0.4pcntVar_200samples_log2_Modules/Bicor-None_signum0.325_minSize4_merge_ME_0.9_20151/kME_table_06-44-39.csv  | /mnt/lareaulab/reliscu/projects/NSF_GRFP/analyses/pseudobulk_test/tasic_2018/mouse_ALM/mouse_ACA_20pcntCells_0.4pcntVar_200samples_log2_Modules/Bicor-None_signum0.325_minSize4_merge_ME_0.9_20151/Module_eigengenes_06-44-39.csv  |  9.153633e-89 | NP         | brown          |  5.672521e-86 |\n",
       "| Bicor-None_signum0.586_minSize8_merge_ME_0.9_20151  | /mnt/lareaulab/reliscu/projects/NSF_GRFP/analyses/pseudobulk_test/tasic_2018/mouse_ALM/mouse_ACA_20pcntCells_0.4pcntVar_200samples_log2_Modules/Bicor-None_signum0.586_minSize8_merge_ME_0.9_20151/kME_table_06-40-23.csv  | /mnt/lareaulab/reliscu/projects/NSF_GRFP/analyses/pseudobulk_test/tasic_2018/mouse_ALM/mouse_ACA_20pcntCells_0.4pcntVar_200samples_log2_Modules/Bicor-None_signum0.586_minSize8_merge_ME_0.9_20151/Module_eigengenes_06-40-23.csv  |  4.179938e-85 | Vip        | darkorange     |  2.489915e-82 |\n",
       "| Bicor-None_signum0.325_minSize12_merge_ME_0.9_20151 | /mnt/lareaulab/reliscu/projects/NSF_GRFP/analyses/pseudobulk_test/tasic_2018/mouse_ALM/mouse_ACA_20pcntCells_0.4pcntVar_200samples_log2_Modules/Bicor-None_signum0.325_minSize12_merge_ME_0.9_20151/kME_table_07-30-53.csv | /mnt/lareaulab/reliscu/projects/NSF_GRFP/analyses/pseudobulk_test/tasic_2018/mouse_ALM/mouse_ACA_20pcntCells_0.4pcntVar_200samples_log2_Modules/Bicor-None_signum0.325_minSize12_merge_ME_0.9_20151/Module_eigengenes_07-30-53.csv |  5.348967e-82 | Sncg       | palevioletred3 |  3.113869e-79 |\n",
       "| Bicor-None_signum0.325_minSize10_merge_ME_0.9_20151 | /mnt/lareaulab/reliscu/projects/NSF_GRFP/analyses/pseudobulk_test/tasic_2018/mouse_ALM/mouse_ACA_20pcntCells_0.4pcntVar_200samples_log2_Modules/Bicor-None_signum0.325_minSize10_merge_ME_0.9_20151/kME_table_07-26-22.csv | /mnt/lareaulab/reliscu/projects/NSF_GRFP/analyses/pseudobulk_test/tasic_2018/mouse_ALM/mouse_ACA_20pcntCells_0.4pcntVar_200samples_log2_Modules/Bicor-None_signum0.325_minSize10_merge_ME_0.9_20151/Module_eigengenes_07-26-22.csv |  2.232875e-63 | Pvalb      | midnightblue   |  8.844373e-61 |\n",
       "| Bicor-None_signum0.586_minSize8_merge_ME_0.9_20151  | /mnt/lareaulab/reliscu/projects/NSF_GRFP/analyses/pseudobulk_test/tasic_2018/mouse_ALM/mouse_ACA_20pcntCells_0.4pcntVar_200samples_log2_Modules/Bicor-None_signum0.586_minSize8_merge_ME_0.9_20151/kME_table_06-40-23.csv  | /mnt/lareaulab/reliscu/projects/NSF_GRFP/analyses/pseudobulk_test/tasic_2018/mouse_ALM/mouse_ACA_20pcntCells_0.4pcntVar_200samples_log2_Modules/Bicor-None_signum0.586_minSize8_merge_ME_0.9_20151/Module_eigengenes_06-40-23.csv  |  5.442750e-54 | L6_IT      | yellowgreen    |  1.954379e-51 |\n",
       "| Bicor-None_signum0.794_minSize4_merge_ME_0.9_20151  | /mnt/lareaulab/reliscu/projects/NSF_GRFP/analyses/pseudobulk_test/tasic_2018/mouse_ALM/mouse_ACA_20pcntCells_0.4pcntVar_200samples_log2_Modules/Bicor-None_signum0.794_minSize4_merge_ME_0.9_20151/kME_table_06-15-29.csv  | /mnt/lareaulab/reliscu/projects/NSF_GRFP/analyses/pseudobulk_test/tasic_2018/mouse_ALM/mouse_ACA_20pcntCells_0.4pcntVar_200samples_log2_Modules/Bicor-None_signum0.794_minSize4_merge_ME_0.9_20151/Module_eigengenes_06-15-29.csv  |  1.365177e-47 | L2_3_IT    | greenyellow    |  4.768379e-45 |\n",
       "| Bicor-None_signum0.586_minSize10_merge_ME_0.9_20151 | /mnt/lareaulab/reliscu/projects/NSF_GRFP/analyses/pseudobulk_test/tasic_2018/mouse_ALM/mouse_ACA_20pcntCells_0.4pcntVar_200samples_log2_Modules/Bicor-None_signum0.586_minSize10_merge_ME_0.9_20151/kME_table_06-42-14.csv | /mnt/lareaulab/reliscu/projects/NSF_GRFP/analyses/pseudobulk_test/tasic_2018/mouse_ALM/mouse_ACA_20pcntCells_0.4pcntVar_200samples_log2_Modules/Bicor-None_signum0.586_minSize10_merge_ME_0.9_20151/Module_eigengenes_06-42-14.csv |  1.505276e-39 | L6_CT      | purple         |  4.760080e-37 |\n",
       "| Bicor-None_signum0.586_minSize6_merge_ME_0.9_20151  | /mnt/lareaulab/reliscu/projects/NSF_GRFP/analyses/pseudobulk_test/tasic_2018/mouse_ALM/mouse_ACA_20pcntCells_0.4pcntVar_200samples_log2_Modules/Bicor-None_signum0.586_minSize6_merge_ME_0.9_20151/kME_table_06-37-30.csv  | /mnt/lareaulab/reliscu/projects/NSF_GRFP/analyses/pseudobulk_test/tasic_2018/mouse_ALM/mouse_ACA_20pcntCells_0.4pcntVar_200samples_log2_Modules/Bicor-None_signum0.586_minSize6_merge_ME_0.9_20151/Module_eigengenes_06-37-30.csv  |  3.644836e-37 | Lamp5      | salmon4        |  1.129355e-34 |\n",
       "| Bicor-None_signum0.794_minSize12_merge_ME_0.9_20151 | /mnt/lareaulab/reliscu/projects/NSF_GRFP/analyses/pseudobulk_test/tasic_2018/mouse_ALM/mouse_ACA_20pcntCells_0.4pcntVar_200samples_log2_Modules/Bicor-None_signum0.794_minSize12_merge_ME_0.9_20151/kME_table_06-18-14.csv | /mnt/lareaulab/reliscu/projects/NSF_GRFP/analyses/pseudobulk_test/tasic_2018/mouse_ALM/mouse_ACA_20pcntCells_0.4pcntVar_200samples_log2_Modules/Bicor-None_signum0.794_minSize12_merge_ME_0.9_20151/Module_eigengenes_06-18-14.csv |  4.311508e-35 | L5_PT      | yellow         |  1.289141e-32 |\n",
       "| Bicor-None_signum0.219_minSize8_merge_ME_0.9_20151  | /mnt/lareaulab/reliscu/projects/NSF_GRFP/analyses/pseudobulk_test/tasic_2018/mouse_ALM/mouse_ACA_20pcntCells_0.4pcntVar_200samples_log2_Modules/Bicor-None_signum0.219_minSize8_merge_ME_0.9_20151/kME_table_08-26-30.csv  | /mnt/lareaulab/reliscu/projects/NSF_GRFP/analyses/pseudobulk_test/tasic_2018/mouse_ALM/mouse_ACA_20pcntCells_0.4pcntVar_200samples_log2_Modules/Bicor-None_signum0.219_minSize8_merge_ME_0.9_20151/Module_eigengenes_08-26-30.csv  |  6.380650e-21 | Serpinf1   | lightpink1     |  1.084753e-18 |\n",
       "| Bicor-None_signum0.586_minSize4_merge_ME_0.9_20151  | /mnt/lareaulab/reliscu/projects/NSF_GRFP/analyses/pseudobulk_test/tasic_2018/mouse_ALM/mouse_ACA_20pcntCells_0.4pcntVar_200samples_log2_Modules/Bicor-None_signum0.586_minSize4_merge_ME_0.9_20151/kME_table_06-30-59.csv  | /mnt/lareaulab/reliscu/projects/NSF_GRFP/analyses/pseudobulk_test/tasic_2018/mouse_ALM/mouse_ACA_20pcntCells_0.4pcntVar_200samples_log2_Modules/Bicor-None_signum0.586_minSize4_merge_ME_0.9_20151/Module_eigengenes_06-30-59.csv  |  1.708880e-19 | Sst        | thistle3       |  2.615846e-17 |\n",
       "| Bicor-None_signum0.586_minSize8_merge_ME_0.9_20151  | /mnt/lareaulab/reliscu/projects/NSF_GRFP/analyses/pseudobulk_test/tasic_2018/mouse_ALM/mouse_ACA_20pcntCells_0.4pcntVar_200samples_log2_Modules/Bicor-None_signum0.586_minSize8_merge_ME_0.9_20151/kME_table_06-40-23.csv  | /mnt/lareaulab/reliscu/projects/NSF_GRFP/analyses/pseudobulk_test/tasic_2018/mouse_ALM/mouse_ACA_20pcntCells_0.4pcntVar_200samples_log2_Modules/Bicor-None_signum0.586_minSize8_merge_ME_0.9_20151/Module_eigengenes_06-40-23.csv  |  9.342229e-19 | L5_IT      | lightgreen     |  1.349408e-16 |\n",
       "| Bicor-None_signum0.219_minSize8_merge_ME_0.9_20151  | /mnt/lareaulab/reliscu/projects/NSF_GRFP/analyses/pseudobulk_test/tasic_2018/mouse_ALM/mouse_ACA_20pcntCells_0.4pcntVar_200samples_log2_Modules/Bicor-None_signum0.219_minSize8_merge_ME_0.9_20151/kME_table_08-26-30.csv  | /mnt/lareaulab/reliscu/projects/NSF_GRFP/analyses/pseudobulk_test/tasic_2018/mouse_ALM/mouse_ACA_20pcntCells_0.4pcntVar_200samples_log2_Modules/Bicor-None_signum0.219_minSize8_merge_ME_0.9_20151/Module_eigengenes_08-26-30.csv  |  1.022966e-11 | L6b        | thistle4       |  8.283223e-10 |\n",
       "| Bicor-None_signum0.255_minSize10_merge_ME_0.9_20151 | /mnt/lareaulab/reliscu/projects/NSF_GRFP/analyses/pseudobulk_test/tasic_2018/mouse_ALM/mouse_ACA_20pcntCells_0.4pcntVar_200samples_log2_Modules/Bicor-None_signum0.255_minSize10_merge_ME_0.9_20151/kME_table_07-58-32.csv | /mnt/lareaulab/reliscu/projects/NSF_GRFP/analyses/pseudobulk_test/tasic_2018/mouse_ALM/mouse_ACA_20pcntCells_0.4pcntVar_200samples_log2_Modules/Bicor-None_signum0.255_minSize10_merge_ME_0.9_20151/Module_eigengenes_07-58-32.csv |  1.922654e-04 | CR         | sienna2        |  5.331738e-03 |\n",
       "| Bicor-None_signum0.219_minSize6_merge_ME_0.9_20151  | /mnt/lareaulab/reliscu/projects/NSF_GRFP/analyses/pseudobulk_test/tasic_2018/mouse_ALM/mouse_ACA_20pcntCells_0.4pcntVar_200samples_log2_Modules/Bicor-None_signum0.219_minSize6_merge_ME_0.9_20151/kME_table_08-09-19.csv  | /mnt/lareaulab/reliscu/projects/NSF_GRFP/analyses/pseudobulk_test/tasic_2018/mouse_ALM/mouse_ACA_20pcntCells_0.4pcntVar_200samples_log2_Modules/Bicor-None_signum0.219_minSize6_merge_ME_0.9_20151/Module_eigengenes_08-09-19.csv  |  3.323244e-04 | L4         | brown1         |  8.583800e-03 |\n",
       "| Bicor-None_signum0.325_minSize4_merge_ME_0.9_20151  | /mnt/lareaulab/reliscu/projects/NSF_GRFP/analyses/pseudobulk_test/tasic_2018/mouse_ALM/mouse_ACA_20pcntCells_0.4pcntVar_200samples_log2_Modules/Bicor-None_signum0.325_minSize4_merge_ME_0.9_20151/kME_table_06-44-39.csv  | /mnt/lareaulab/reliscu/projects/NSF_GRFP/analyses/pseudobulk_test/tasic_2018/mouse_ALM/mouse_ACA_20pcntCells_0.4pcntVar_200samples_log2_Modules/Bicor-None_signum0.325_minSize4_merge_ME_0.9_20151/Module_eigengenes_06-44-39.csv  |  3.839339e-04 | Meis2      | orange4        |  9.704814e-03 |\n",
       "\n"
      ],
      "text/plain": [
       "   Network                                            \n",
       "1  Bicor-None_signum0.219_minSize6_merge_ME_0.9_20151 \n",
       "2  Bicor-None_signum0.794_minSize12_merge_ME_0.9_20151\n",
       "3  Bicor-None_signum0.919_minSize6_merge_ME_0.9_20151 \n",
       "4  Bicor-None_signum0.794_minSize12_merge_ME_0.9_20151\n",
       "5  Bicor-None_signum0.794_minSize3_merge_ME_0.9_20151 \n",
       "6  Bicor-None_signum0.919_minSize6_merge_ME_0.9_20151 \n",
       "7  Bicor-None_signum0.586_minSize8_merge_ME_0.9_20151 \n",
       "8  Bicor-None_signum0.325_minSize4_merge_ME_0.9_20151 \n",
       "9  Bicor-None_signum0.586_minSize8_merge_ME_0.9_20151 \n",
       "10 Bicor-None_signum0.325_minSize12_merge_ME_0.9_20151\n",
       "11 Bicor-None_signum0.325_minSize10_merge_ME_0.9_20151\n",
       "12 Bicor-None_signum0.586_minSize8_merge_ME_0.9_20151 \n",
       "13 Bicor-None_signum0.794_minSize4_merge_ME_0.9_20151 \n",
       "14 Bicor-None_signum0.586_minSize10_merge_ME_0.9_20151\n",
       "15 Bicor-None_signum0.586_minSize6_merge_ME_0.9_20151 \n",
       "16 Bicor-None_signum0.794_minSize12_merge_ME_0.9_20151\n",
       "17 Bicor-None_signum0.219_minSize8_merge_ME_0.9_20151 \n",
       "18 Bicor-None_signum0.586_minSize4_merge_ME_0.9_20151 \n",
       "19 Bicor-None_signum0.586_minSize8_merge_ME_0.9_20151 \n",
       "20 Bicor-None_signum0.219_minSize8_merge_ME_0.9_20151 \n",
       "21 Bicor-None_signum0.255_minSize10_merge_ME_0.9_20151\n",
       "22 Bicor-None_signum0.219_minSize6_merge_ME_0.9_20151 \n",
       "23 Bicor-None_signum0.325_minSize4_merge_ME_0.9_20151 \n",
       "   kME_path                                                                                                                                                                                                                  \n",
       "1  /mnt/lareaulab/reliscu/projects/NSF_GRFP/analyses/pseudobulk_test/tasic_2018/mouse_ALM/mouse_ACA_20pcntCells_0.4pcntVar_200samples_log2_Modules/Bicor-None_signum0.219_minSize6_merge_ME_0.9_20151/kME_table_08-09-19.csv \n",
       "2  /mnt/lareaulab/reliscu/projects/NSF_GRFP/analyses/pseudobulk_test/tasic_2018/mouse_ALM/mouse_ACA_20pcntCells_0.4pcntVar_200samples_log2_Modules/Bicor-None_signum0.794_minSize12_merge_ME_0.9_20151/kME_table_06-18-14.csv\n",
       "3  /mnt/lareaulab/reliscu/projects/NSF_GRFP/analyses/pseudobulk_test/tasic_2018/mouse_ALM/mouse_ACA_20pcntCells_0.4pcntVar_200samples_log2_Modules/Bicor-None_signum0.919_minSize6_merge_ME_0.9_20151/kME_table_06-12-22.csv \n",
       "4  /mnt/lareaulab/reliscu/projects/NSF_GRFP/analyses/pseudobulk_test/tasic_2018/mouse_ALM/mouse_ACA_20pcntCells_0.4pcntVar_200samples_log2_Modules/Bicor-None_signum0.794_minSize12_merge_ME_0.9_20151/kME_table_06-18-14.csv\n",
       "5  /mnt/lareaulab/reliscu/projects/NSF_GRFP/analyses/pseudobulk_test/tasic_2018/mouse_ALM/mouse_ACA_20pcntCells_0.4pcntVar_200samples_log2_Modules/Bicor-None_signum0.794_minSize3_merge_ME_0.9_20151/kME_table_06-13-30.csv \n",
       "6  /mnt/lareaulab/reliscu/projects/NSF_GRFP/analyses/pseudobulk_test/tasic_2018/mouse_ALM/mouse_ACA_20pcntCells_0.4pcntVar_200samples_log2_Modules/Bicor-None_signum0.919_minSize6_merge_ME_0.9_20151/kME_table_06-12-22.csv \n",
       "7  /mnt/lareaulab/reliscu/projects/NSF_GRFP/analyses/pseudobulk_test/tasic_2018/mouse_ALM/mouse_ACA_20pcntCells_0.4pcntVar_200samples_log2_Modules/Bicor-None_signum0.586_minSize8_merge_ME_0.9_20151/kME_table_06-40-23.csv \n",
       "8  /mnt/lareaulab/reliscu/projects/NSF_GRFP/analyses/pseudobulk_test/tasic_2018/mouse_ALM/mouse_ACA_20pcntCells_0.4pcntVar_200samples_log2_Modules/Bicor-None_signum0.325_minSize4_merge_ME_0.9_20151/kME_table_06-44-39.csv \n",
       "9  /mnt/lareaulab/reliscu/projects/NSF_GRFP/analyses/pseudobulk_test/tasic_2018/mouse_ALM/mouse_ACA_20pcntCells_0.4pcntVar_200samples_log2_Modules/Bicor-None_signum0.586_minSize8_merge_ME_0.9_20151/kME_table_06-40-23.csv \n",
       "10 /mnt/lareaulab/reliscu/projects/NSF_GRFP/analyses/pseudobulk_test/tasic_2018/mouse_ALM/mouse_ACA_20pcntCells_0.4pcntVar_200samples_log2_Modules/Bicor-None_signum0.325_minSize12_merge_ME_0.9_20151/kME_table_07-30-53.csv\n",
       "11 /mnt/lareaulab/reliscu/projects/NSF_GRFP/analyses/pseudobulk_test/tasic_2018/mouse_ALM/mouse_ACA_20pcntCells_0.4pcntVar_200samples_log2_Modules/Bicor-None_signum0.325_minSize10_merge_ME_0.9_20151/kME_table_07-26-22.csv\n",
       "12 /mnt/lareaulab/reliscu/projects/NSF_GRFP/analyses/pseudobulk_test/tasic_2018/mouse_ALM/mouse_ACA_20pcntCells_0.4pcntVar_200samples_log2_Modules/Bicor-None_signum0.586_minSize8_merge_ME_0.9_20151/kME_table_06-40-23.csv \n",
       "13 /mnt/lareaulab/reliscu/projects/NSF_GRFP/analyses/pseudobulk_test/tasic_2018/mouse_ALM/mouse_ACA_20pcntCells_0.4pcntVar_200samples_log2_Modules/Bicor-None_signum0.794_minSize4_merge_ME_0.9_20151/kME_table_06-15-29.csv \n",
       "14 /mnt/lareaulab/reliscu/projects/NSF_GRFP/analyses/pseudobulk_test/tasic_2018/mouse_ALM/mouse_ACA_20pcntCells_0.4pcntVar_200samples_log2_Modules/Bicor-None_signum0.586_minSize10_merge_ME_0.9_20151/kME_table_06-42-14.csv\n",
       "15 /mnt/lareaulab/reliscu/projects/NSF_GRFP/analyses/pseudobulk_test/tasic_2018/mouse_ALM/mouse_ACA_20pcntCells_0.4pcntVar_200samples_log2_Modules/Bicor-None_signum0.586_minSize6_merge_ME_0.9_20151/kME_table_06-37-30.csv \n",
       "16 /mnt/lareaulab/reliscu/projects/NSF_GRFP/analyses/pseudobulk_test/tasic_2018/mouse_ALM/mouse_ACA_20pcntCells_0.4pcntVar_200samples_log2_Modules/Bicor-None_signum0.794_minSize12_merge_ME_0.9_20151/kME_table_06-18-14.csv\n",
       "17 /mnt/lareaulab/reliscu/projects/NSF_GRFP/analyses/pseudobulk_test/tasic_2018/mouse_ALM/mouse_ACA_20pcntCells_0.4pcntVar_200samples_log2_Modules/Bicor-None_signum0.219_minSize8_merge_ME_0.9_20151/kME_table_08-26-30.csv \n",
       "18 /mnt/lareaulab/reliscu/projects/NSF_GRFP/analyses/pseudobulk_test/tasic_2018/mouse_ALM/mouse_ACA_20pcntCells_0.4pcntVar_200samples_log2_Modules/Bicor-None_signum0.586_minSize4_merge_ME_0.9_20151/kME_table_06-30-59.csv \n",
       "19 /mnt/lareaulab/reliscu/projects/NSF_GRFP/analyses/pseudobulk_test/tasic_2018/mouse_ALM/mouse_ACA_20pcntCells_0.4pcntVar_200samples_log2_Modules/Bicor-None_signum0.586_minSize8_merge_ME_0.9_20151/kME_table_06-40-23.csv \n",
       "20 /mnt/lareaulab/reliscu/projects/NSF_GRFP/analyses/pseudobulk_test/tasic_2018/mouse_ALM/mouse_ACA_20pcntCells_0.4pcntVar_200samples_log2_Modules/Bicor-None_signum0.219_minSize8_merge_ME_0.9_20151/kME_table_08-26-30.csv \n",
       "21 /mnt/lareaulab/reliscu/projects/NSF_GRFP/analyses/pseudobulk_test/tasic_2018/mouse_ALM/mouse_ACA_20pcntCells_0.4pcntVar_200samples_log2_Modules/Bicor-None_signum0.255_minSize10_merge_ME_0.9_20151/kME_table_07-58-32.csv\n",
       "22 /mnt/lareaulab/reliscu/projects/NSF_GRFP/analyses/pseudobulk_test/tasic_2018/mouse_ALM/mouse_ACA_20pcntCells_0.4pcntVar_200samples_log2_Modules/Bicor-None_signum0.219_minSize6_merge_ME_0.9_20151/kME_table_08-09-19.csv \n",
       "23 /mnt/lareaulab/reliscu/projects/NSF_GRFP/analyses/pseudobulk_test/tasic_2018/mouse_ALM/mouse_ACA_20pcntCells_0.4pcntVar_200samples_log2_Modules/Bicor-None_signum0.325_minSize4_merge_ME_0.9_20151/kME_table_06-44-39.csv \n",
       "   ME_path                                                                                                                                                                                                                           \n",
       "1  /mnt/lareaulab/reliscu/projects/NSF_GRFP/analyses/pseudobulk_test/tasic_2018/mouse_ALM/mouse_ACA_20pcntCells_0.4pcntVar_200samples_log2_Modules/Bicor-None_signum0.219_minSize6_merge_ME_0.9_20151/Module_eigengenes_08-09-19.csv \n",
       "2  /mnt/lareaulab/reliscu/projects/NSF_GRFP/analyses/pseudobulk_test/tasic_2018/mouse_ALM/mouse_ACA_20pcntCells_0.4pcntVar_200samples_log2_Modules/Bicor-None_signum0.794_minSize12_merge_ME_0.9_20151/Module_eigengenes_06-18-14.csv\n",
       "3  /mnt/lareaulab/reliscu/projects/NSF_GRFP/analyses/pseudobulk_test/tasic_2018/mouse_ALM/mouse_ACA_20pcntCells_0.4pcntVar_200samples_log2_Modules/Bicor-None_signum0.919_minSize6_merge_ME_0.9_20151/Module_eigengenes_06-12-22.csv \n",
       "4  /mnt/lareaulab/reliscu/projects/NSF_GRFP/analyses/pseudobulk_test/tasic_2018/mouse_ALM/mouse_ACA_20pcntCells_0.4pcntVar_200samples_log2_Modules/Bicor-None_signum0.794_minSize12_merge_ME_0.9_20151/Module_eigengenes_06-18-14.csv\n",
       "5  /mnt/lareaulab/reliscu/projects/NSF_GRFP/analyses/pseudobulk_test/tasic_2018/mouse_ALM/mouse_ACA_20pcntCells_0.4pcntVar_200samples_log2_Modules/Bicor-None_signum0.794_minSize3_merge_ME_0.9_20151/Module_eigengenes_06-13-30.csv \n",
       "6  /mnt/lareaulab/reliscu/projects/NSF_GRFP/analyses/pseudobulk_test/tasic_2018/mouse_ALM/mouse_ACA_20pcntCells_0.4pcntVar_200samples_log2_Modules/Bicor-None_signum0.919_minSize6_merge_ME_0.9_20151/Module_eigengenes_06-12-22.csv \n",
       "7  /mnt/lareaulab/reliscu/projects/NSF_GRFP/analyses/pseudobulk_test/tasic_2018/mouse_ALM/mouse_ACA_20pcntCells_0.4pcntVar_200samples_log2_Modules/Bicor-None_signum0.586_minSize8_merge_ME_0.9_20151/Module_eigengenes_06-40-23.csv \n",
       "8  /mnt/lareaulab/reliscu/projects/NSF_GRFP/analyses/pseudobulk_test/tasic_2018/mouse_ALM/mouse_ACA_20pcntCells_0.4pcntVar_200samples_log2_Modules/Bicor-None_signum0.325_minSize4_merge_ME_0.9_20151/Module_eigengenes_06-44-39.csv \n",
       "9  /mnt/lareaulab/reliscu/projects/NSF_GRFP/analyses/pseudobulk_test/tasic_2018/mouse_ALM/mouse_ACA_20pcntCells_0.4pcntVar_200samples_log2_Modules/Bicor-None_signum0.586_minSize8_merge_ME_0.9_20151/Module_eigengenes_06-40-23.csv \n",
       "10 /mnt/lareaulab/reliscu/projects/NSF_GRFP/analyses/pseudobulk_test/tasic_2018/mouse_ALM/mouse_ACA_20pcntCells_0.4pcntVar_200samples_log2_Modules/Bicor-None_signum0.325_minSize12_merge_ME_0.9_20151/Module_eigengenes_07-30-53.csv\n",
       "11 /mnt/lareaulab/reliscu/projects/NSF_GRFP/analyses/pseudobulk_test/tasic_2018/mouse_ALM/mouse_ACA_20pcntCells_0.4pcntVar_200samples_log2_Modules/Bicor-None_signum0.325_minSize10_merge_ME_0.9_20151/Module_eigengenes_07-26-22.csv\n",
       "12 /mnt/lareaulab/reliscu/projects/NSF_GRFP/analyses/pseudobulk_test/tasic_2018/mouse_ALM/mouse_ACA_20pcntCells_0.4pcntVar_200samples_log2_Modules/Bicor-None_signum0.586_minSize8_merge_ME_0.9_20151/Module_eigengenes_06-40-23.csv \n",
       "13 /mnt/lareaulab/reliscu/projects/NSF_GRFP/analyses/pseudobulk_test/tasic_2018/mouse_ALM/mouse_ACA_20pcntCells_0.4pcntVar_200samples_log2_Modules/Bicor-None_signum0.794_minSize4_merge_ME_0.9_20151/Module_eigengenes_06-15-29.csv \n",
       "14 /mnt/lareaulab/reliscu/projects/NSF_GRFP/analyses/pseudobulk_test/tasic_2018/mouse_ALM/mouse_ACA_20pcntCells_0.4pcntVar_200samples_log2_Modules/Bicor-None_signum0.586_minSize10_merge_ME_0.9_20151/Module_eigengenes_06-42-14.csv\n",
       "15 /mnt/lareaulab/reliscu/projects/NSF_GRFP/analyses/pseudobulk_test/tasic_2018/mouse_ALM/mouse_ACA_20pcntCells_0.4pcntVar_200samples_log2_Modules/Bicor-None_signum0.586_minSize6_merge_ME_0.9_20151/Module_eigengenes_06-37-30.csv \n",
       "16 /mnt/lareaulab/reliscu/projects/NSF_GRFP/analyses/pseudobulk_test/tasic_2018/mouse_ALM/mouse_ACA_20pcntCells_0.4pcntVar_200samples_log2_Modules/Bicor-None_signum0.794_minSize12_merge_ME_0.9_20151/Module_eigengenes_06-18-14.csv\n",
       "17 /mnt/lareaulab/reliscu/projects/NSF_GRFP/analyses/pseudobulk_test/tasic_2018/mouse_ALM/mouse_ACA_20pcntCells_0.4pcntVar_200samples_log2_Modules/Bicor-None_signum0.219_minSize8_merge_ME_0.9_20151/Module_eigengenes_08-26-30.csv \n",
       "18 /mnt/lareaulab/reliscu/projects/NSF_GRFP/analyses/pseudobulk_test/tasic_2018/mouse_ALM/mouse_ACA_20pcntCells_0.4pcntVar_200samples_log2_Modules/Bicor-None_signum0.586_minSize4_merge_ME_0.9_20151/Module_eigengenes_06-30-59.csv \n",
       "19 /mnt/lareaulab/reliscu/projects/NSF_GRFP/analyses/pseudobulk_test/tasic_2018/mouse_ALM/mouse_ACA_20pcntCells_0.4pcntVar_200samples_log2_Modules/Bicor-None_signum0.586_minSize8_merge_ME_0.9_20151/Module_eigengenes_06-40-23.csv \n",
       "20 /mnt/lareaulab/reliscu/projects/NSF_GRFP/analyses/pseudobulk_test/tasic_2018/mouse_ALM/mouse_ACA_20pcntCells_0.4pcntVar_200samples_log2_Modules/Bicor-None_signum0.219_minSize8_merge_ME_0.9_20151/Module_eigengenes_08-26-30.csv \n",
       "21 /mnt/lareaulab/reliscu/projects/NSF_GRFP/analyses/pseudobulk_test/tasic_2018/mouse_ALM/mouse_ACA_20pcntCells_0.4pcntVar_200samples_log2_Modules/Bicor-None_signum0.255_minSize10_merge_ME_0.9_20151/Module_eigengenes_07-58-32.csv\n",
       "22 /mnt/lareaulab/reliscu/projects/NSF_GRFP/analyses/pseudobulk_test/tasic_2018/mouse_ALM/mouse_ACA_20pcntCells_0.4pcntVar_200samples_log2_Modules/Bicor-None_signum0.219_minSize6_merge_ME_0.9_20151/Module_eigengenes_08-09-19.csv \n",
       "23 /mnt/lareaulab/reliscu/projects/NSF_GRFP/analyses/pseudobulk_test/tasic_2018/mouse_ALM/mouse_ACA_20pcntCells_0.4pcntVar_200samples_log2_Modules/Bicor-None_signum0.325_minSize4_merge_ME_0.9_20151/Module_eigengenes_06-44-39.csv \n",
       "   Pval          Cell_type  Module         Qval         \n",
       "1  6.154253e-277 Astro      turquoise      4.729113e-272\n",
       "2  1.417968e-196 Endo       green          7.264062e-193\n",
       "3  1.071779e-193 Macrophage yellow         4.575483e-190\n",
       "4  1.691646e-186 Oligo      red            5.416296e-183\n",
       "5  1.545143e-125 VLMC       tan            1.109658e-122\n",
       "6  3.085103e-121 SMC        brown          2.135753e-118\n",
       "7  1.906383e-118 Peri       white          1.273845e-115\n",
       "8   9.153633e-89 NP         brown           5.672521e-86\n",
       "9   4.179938e-85 Vip        darkorange      2.489915e-82\n",
       "10  5.348967e-82 Sncg       palevioletred3  3.113869e-79\n",
       "11  2.232875e-63 Pvalb      midnightblue    8.844373e-61\n",
       "12  5.442750e-54 L6_IT      yellowgreen     1.954379e-51\n",
       "13  1.365177e-47 L2_3_IT    greenyellow     4.768379e-45\n",
       "14  1.505276e-39 L6_CT      purple          4.760080e-37\n",
       "15  3.644836e-37 Lamp5      salmon4         1.129355e-34\n",
       "16  4.311508e-35 L5_PT      yellow          1.289141e-32\n",
       "17  6.380650e-21 Serpinf1   lightpink1      1.084753e-18\n",
       "18  1.708880e-19 Sst        thistle3        2.615846e-17\n",
       "19  9.342229e-19 L5_IT      lightgreen      1.349408e-16\n",
       "20  1.022966e-11 L6b        thistle4        8.283223e-10\n",
       "21  1.922654e-04 CR         sienna2         5.331738e-03\n",
       "22  3.323244e-04 L4         brown1          8.583800e-03\n",
       "23  3.839339e-04 Meis2      orange4         9.704814e-03"
      ]
     },
     "metadata": {},
     "output_type": "display_data"
    }
   ],
   "source": [
    "top_mods_df[,c(\"Cell_type\", \"Pval\", \"Qval\", \"Module\")]"
   ]
  }
 ],
 "metadata": {
  "kernelspec": {
   "display_name": "R",
   "language": "R",
   "name": "ir"
  },
  "language_info": {
   "codemirror_mode": "r",
   "file_extension": ".r",
   "mimetype": "text/x-r-source",
   "name": "R",
   "pygments_lexer": "r",
   "version": "4.3.3"
  }
 },
 "nbformat": 4,
 "nbformat_minor": 5
}
