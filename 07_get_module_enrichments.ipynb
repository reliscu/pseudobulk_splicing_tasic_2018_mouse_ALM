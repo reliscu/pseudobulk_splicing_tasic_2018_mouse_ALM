{
 "cells": [
  {
   "cell_type": "code",
   "execution_count": 3,
   "id": "dc32d0f1",
   "metadata": {
    "vscode": {
     "languageId": "r"
    }
   },
   "outputs": [],
   "source": [
    "library(dplyr)\n",
    "library(tidyr)\n",
    "library(tibble)\n",
    "library(qvalue)\n",
    "library(data.table)\n",
    "\n",
    "source(\"/mnt/lareaulab/reliscu/code/fisher_test.R\")\n",
    "\n",
    "setwd(\"/mnt/lareaulab/reliscu/projects/NSF_GRFP/analyses/pseudobulk_test/tasic_2018/mouse_ALM\")"
   ]
  },
  {
   "cell_type": "code",
   "execution_count": 4,
   "id": "6cf840e4",
   "metadata": {
    "vscode": {
     "languageId": "r"
    }
   },
   "outputs": [],
   "source": [
    "get_module_enrichments <- function(network_dir, ctype_genes, mod_def=\"PosFDR\") {\n",
    "    # Traverse networks to get cell type enrichments for each module\n",
    "    networks <- list.dirs(file.path(getwd(), network_dir), full.names=TRUE, recursive=FALSE)\n",
    "    networks <- networks[lengths(lapply(networks, list.files)) > 0]\n",
    "\n",
    "    enrichments_list <- lapply(seq_along(networks), function(i) {\n",
    "        kME_path <- list.files(networks[i])[grep(\"kME\", list.files(networks[i]))]\n",
    "        kME <- fread(file.path(networks[i], kME_path), data.table=FALSE)\n",
    "        mod_col <- grep(\"PosFDR\", colnames(kME))\n",
    "        mod_genes <- tapply(kME$Gene, kME[,mod_col], list)\n",
    "        \n",
    "        if (length(mod_genes) > 0) {\n",
    "            all_genes <- kME$Gene\n",
    "\n",
    "            # For each module: calculate enrichment for DE genes from each cell type\n",
    "            mod_enrichments_list <- lapply(mod_genes, function(mod) {\n",
    "                lapply(unlist(lapply(ctype_genes, function(set) {\n",
    "                    fisher_test(set, mod, all=all_genes)\n",
    "                })), c)\n",
    "            })\n",
    "            \n",
    "            # Save the network the module came from\n",
    "            network_id <- sapply(strsplit(networks[i], \"/\"), function(x) x[length(x)])\n",
    "            mod_enrichments_df <- reshape2::melt(mod_enrichments_list)\n",
    "            colnames(mod_enrichments_df) <- c(\"Pval\", \"Cell_type\", \"Module\")\n",
    "            \n",
    "            # Save path to module eigengenes table for downstream analyses\n",
    "            ME_path <- list.files(networks[i])[grep(\"eigengene\", list.files(networks[i]))]\n",
    "            \n",
    "            data.frame(\n",
    "                Network=network_id,\n",
    "                kME_path=file.path(networks[i], kME_path),\n",
    "                ME_path=file.path(networks[i], ME_path),\n",
    "                mod_enrichments_df\n",
    "            )\n",
    "        }\n",
    "    })\n",
    "    enrichments_df <- do.call(rbind, enrichments_list)\n",
    "    enrichments_df$Qval <- qvalue(enrichments_df$Pval)$qvalue\n",
    "\n",
    "    enrichments_df\n",
    "}"
   ]
  },
  {
   "cell_type": "markdown",
   "id": "47fcf9ad",
   "metadata": {},
   "source": [
    "Here I perform enrichment analysis to find modules enriched for cell type markers. \n",
    "\n",
    "These modules will later be used to correlate with exon PSI to define cell type-specific exons."
   ]
  },
  {
   "cell_type": "code",
   "execution_count": 5,
   "id": "e55565fe",
   "metadata": {
    "vscode": {
     "languageId": "r"
    }
   },
   "outputs": [],
   "source": [
    "network_dir <- \"tasic_2018_ALM_STAR_20pcntCells_25kappa_200samples_pseudobulk_Modules\"\n",
    "network_dataset <- \"20pcntCells_25kappa_200samples_pseudobulk\""
   ]
  },
  {
   "cell_type": "code",
   "execution_count": 6,
   "id": "3944edfc",
   "metadata": {
    "vscode": {
     "languageId": "r"
    }
   },
   "outputs": [],
   "source": [
    "mod_def <- \"PosBC\"\n",
    "unique <- TRUE"
   ]
  },
  {
   "cell_type": "markdown",
   "id": "7baea033",
   "metadata": {
    "vscode": {
     "languageId": "r"
    }
   },
   "source": [
    "### Prep DE genes"
   ]
  },
  {
   "cell_type": "markdown",
   "id": "cfa6429e",
   "metadata": {},
   "source": [
    "#### 1 vs. pooled tests"
   ]
  },
  {
   "cell_type": "code",
   "execution_count": 7,
   "id": "d9fc4df1",
   "metadata": {
    "vscode": {
     "languageId": "r"
    }
   },
   "outputs": [],
   "source": [
    "pooled_res_list <- readRDS(\"data/tasic_2018_ALM_STAR_donor_cell_type_pseudobulk_1_vs_pooled_DE_genes_dream.RDS\")"
   ]
  },
  {
   "cell_type": "code",
   "execution_count": 8,
   "id": "b3f726eb",
   "metadata": {
    "vscode": {
     "languageId": "r"
    }
   },
   "outputs": [],
   "source": [
    "pval_threshold <- .05/length(pooled_res_list)\n",
    "lfc_threshold <- 6\n",
    "\n",
    "pooled_ctype_genes <- lapply(pooled_res_list, function(df) {\n",
    "    mask <- (df['adj.P.Val'] < pval_threshold) & (abs(df['logFC']) > lfc_threshold)\n",
    "    df[mask, 1]\n",
    "})\n",
    "names(pooled_ctype_genes) <- names(pooled_res_list) "
   ]
  },
  {
   "cell_type": "code",
   "execution_count": 9,
   "id": "08b1de18",
   "metadata": {
    "vscode": {
     "languageId": "r"
    }
   },
   "outputs": [],
   "source": [
    "if (unique) {\n",
    "    all_genes <- unlist(pooled_ctype_genes)\n",
    "    duplicates <- unique(names(table(all_genes)[table(all_genes) > 1]))\n",
    "\n",
    "    # Remove markers that are not unique to a cell type\n",
    "\n",
    "    pooled_ctype_genes <- lapply(pooled_ctype_genes, function(x) x[!(x %in% duplicates)])\n",
    "}"
   ]
  },
  {
   "cell_type": "code",
   "execution_count": 10,
   "id": "ade891df",
   "metadata": {
    "vscode": {
     "languageId": "r"
    }
   },
   "outputs": [
    {
     "data": {
      "text/html": [
       "<table class=\"dataframe\">\n",
       "<caption>A data.frame: 23 × 1</caption>\n",
       "<thead>\n",
       "\t<tr><th></th><th scope=col>No.genes</th></tr>\n",
       "\t<tr><th></th><th scope=col>&lt;int&gt;</th></tr>\n",
       "</thead>\n",
       "<tbody>\n",
       "\t<tr><th scope=row>Peri</th><td>1568</td></tr>\n",
       "\t<tr><th scope=row>Macrophage</th><td> 395</td></tr>\n",
       "\t<tr><th scope=row>Endo</th><td> 304</td></tr>\n",
       "\t<tr><th scope=row>Astro</th><td> 282</td></tr>\n",
       "\t<tr><th scope=row>VLMC</th><td> 136</td></tr>\n",
       "\t<tr><th scope=row>SMC</th><td> 129</td></tr>\n",
       "\t<tr><th scope=row>Oligo</th><td> 105</td></tr>\n",
       "\t<tr><th scope=row>Meis2</th><td>  83</td></tr>\n",
       "\t<tr><th scope=row>CR</th><td>  61</td></tr>\n",
       "\t<tr><th scope=row>L4</th><td>  27</td></tr>\n",
       "\t<tr><th scope=row>NP</th><td>  24</td></tr>\n",
       "\t<tr><th scope=row>Pvalb</th><td>  18</td></tr>\n",
       "\t<tr><th scope=row>Vip</th><td>  16</td></tr>\n",
       "\t<tr><th scope=row>L6_CT</th><td>  14</td></tr>\n",
       "\t<tr><th scope=row>L5_IT</th><td>  13</td></tr>\n",
       "\t<tr><th scope=row>Lamp5</th><td>  12</td></tr>\n",
       "\t<tr><th scope=row>Sst</th><td>  12</td></tr>\n",
       "\t<tr><th scope=row>Sncg</th><td>   9</td></tr>\n",
       "\t<tr><th scope=row>L5_PT</th><td>   8</td></tr>\n",
       "\t<tr><th scope=row>Serpinf1</th><td>   8</td></tr>\n",
       "\t<tr><th scope=row>L2_3_IT</th><td>   7</td></tr>\n",
       "\t<tr><th scope=row>L6_IT</th><td>   7</td></tr>\n",
       "\t<tr><th scope=row>L6b</th><td>   3</td></tr>\n",
       "</tbody>\n",
       "</table>\n"
      ],
      "text/latex": [
       "A data.frame: 23 × 1\n",
       "\\begin{tabular}{r|l}\n",
       "  & No.genes\\\\\n",
       "  & <int>\\\\\n",
       "\\hline\n",
       "\tPeri & 1568\\\\\n",
       "\tMacrophage &  395\\\\\n",
       "\tEndo &  304\\\\\n",
       "\tAstro &  282\\\\\n",
       "\tVLMC &  136\\\\\n",
       "\tSMC &  129\\\\\n",
       "\tOligo &  105\\\\\n",
       "\tMeis2 &   83\\\\\n",
       "\tCR &   61\\\\\n",
       "\tL4 &   27\\\\\n",
       "\tNP &   24\\\\\n",
       "\tPvalb &   18\\\\\n",
       "\tVip &   16\\\\\n",
       "\tL6\\_CT &   14\\\\\n",
       "\tL5\\_IT &   13\\\\\n",
       "\tLamp5 &   12\\\\\n",
       "\tSst &   12\\\\\n",
       "\tSncg &    9\\\\\n",
       "\tL5\\_PT &    8\\\\\n",
       "\tSerpinf1 &    8\\\\\n",
       "\tL2\\_3\\_IT &    7\\\\\n",
       "\tL6\\_IT &    7\\\\\n",
       "\tL6b &    3\\\\\n",
       "\\end{tabular}\n"
      ],
      "text/markdown": [
       "\n",
       "A data.frame: 23 × 1\n",
       "\n",
       "| <!--/--> | No.genes &lt;int&gt; |\n",
       "|---|---|\n",
       "| Peri | 1568 |\n",
       "| Macrophage |  395 |\n",
       "| Endo |  304 |\n",
       "| Astro |  282 |\n",
       "| VLMC |  136 |\n",
       "| SMC |  129 |\n",
       "| Oligo |  105 |\n",
       "| Meis2 |   83 |\n",
       "| CR |   61 |\n",
       "| L4 |   27 |\n",
       "| NP |   24 |\n",
       "| Pvalb |   18 |\n",
       "| Vip |   16 |\n",
       "| L6_CT |   14 |\n",
       "| L5_IT |   13 |\n",
       "| Lamp5 |   12 |\n",
       "| Sst |   12 |\n",
       "| Sncg |    9 |\n",
       "| L5_PT |    8 |\n",
       "| Serpinf1 |    8 |\n",
       "| L2_3_IT |    7 |\n",
       "| L6_IT |    7 |\n",
       "| L6b |    3 |\n",
       "\n"
      ],
      "text/plain": [
       "           No.genes\n",
       "Peri       1568    \n",
       "Macrophage  395    \n",
       "Endo        304    \n",
       "Astro       282    \n",
       "VLMC        136    \n",
       "SMC         129    \n",
       "Oligo       105    \n",
       "Meis2        83    \n",
       "CR           61    \n",
       "L4           27    \n",
       "NP           24    \n",
       "Pvalb        18    \n",
       "Vip          16    \n",
       "L6_CT        14    \n",
       "L5_IT        13    \n",
       "Lamp5        12    \n",
       "Sst          12    \n",
       "Sncg          9    \n",
       "L5_PT         8    \n",
       "Serpinf1      8    \n",
       "L2_3_IT       7    \n",
       "L6_IT         7    \n",
       "L6b           3    "
      ]
     },
     "metadata": {},
     "output_type": "display_data"
    }
   ],
   "source": [
    "data.frame(No.genes=lengths(pooled_ctype_genes)) %>% arrange(-`No.genes`)"
   ]
  },
  {
   "cell_type": "markdown",
   "id": "181c0478",
   "metadata": {},
   "source": [
    "#### Pairwise tests"
   ]
  },
  {
   "cell_type": "code",
   "execution_count": 11,
   "id": "c5449ef7",
   "metadata": {
    "vscode": {
     "languageId": "r"
    }
   },
   "outputs": [],
   "source": [
    "pairwise_res_list <- readRDS(\"data/tasic_2018_ALM_STAR_donor_cell_type_pseudobulk_pairwise_DE_genes_dream.RDS\")"
   ]
  },
  {
   "cell_type": "code",
   "execution_count": 12,
   "id": "a739660e",
   "metadata": {
    "vscode": {
     "languageId": "r"
    }
   },
   "outputs": [],
   "source": [
    "ctypes <- unique(sapply(strsplit(names(pairwise_res_list), \"_vs_\"), \"[\", 1))\n",
    "\n",
    "pairwise_ctype_genes <- lapply(ctypes, function(target) {\n",
    "    # Subset to pairwise tests with target cell type\n",
    "    ctype_res_list <- pairwise_res_list[grep(paste0(\"^\", target), names(pairwise_res_list))]\n",
    "\n",
    "    # For each pairwise test, return genes that meet p-value threshold:\n",
    "    pval_threshold <- .05 /length(ctype_res_list)\n",
    "    ctype_genes_list <- lapply(ctype_res_list, function(df) {\n",
    "        mask <- df$adj.P.Val < pval_threshold\n",
    "        df[mask, 1]\n",
    "    }) \n",
    "\n",
    "    # Restrict to genes that were identified in EVERY pairwise test\n",
    "    Reduce(intersect, ctype_genes_list)\n",
    "})\n",
    "names(pairwise_ctype_genes) <- ctypes"
   ]
  },
  {
   "cell_type": "code",
   "execution_count": 13,
   "id": "ccadb211",
   "metadata": {
    "vscode": {
     "languageId": "r"
    }
   },
   "outputs": [
    {
     "data": {
      "text/html": [
       "<table class=\"dataframe\">\n",
       "<caption>A data.frame: 23 × 1</caption>\n",
       "<thead>\n",
       "\t<tr><th></th><th scope=col>No.genes</th></tr>\n",
       "\t<tr><th></th><th scope=col>&lt;int&gt;</th></tr>\n",
       "</thead>\n",
       "<tbody>\n",
       "\t<tr><th scope=row>Macrophage</th><td>333</td></tr>\n",
       "\t<tr><th scope=row>Astro</th><td>288</td></tr>\n",
       "\t<tr><th scope=row>Endo</th><td>237</td></tr>\n",
       "\t<tr><th scope=row>Oligo</th><td>131</td></tr>\n",
       "\t<tr><th scope=row>VLMC</th><td> 85</td></tr>\n",
       "\t<tr><th scope=row>SMC</th><td> 60</td></tr>\n",
       "\t<tr><th scope=row>Pvalb</th><td> 31</td></tr>\n",
       "\t<tr><th scope=row>Lamp5</th><td> 22</td></tr>\n",
       "\t<tr><th scope=row>CR</th><td> 21</td></tr>\n",
       "\t<tr><th scope=row>Sst</th><td> 21</td></tr>\n",
       "\t<tr><th scope=row>Peri</th><td> 15</td></tr>\n",
       "\t<tr><th scope=row>Sncg</th><td> 14</td></tr>\n",
       "\t<tr><th scope=row>Vip</th><td> 14</td></tr>\n",
       "\t<tr><th scope=row>NP</th><td> 13</td></tr>\n",
       "\t<tr><th scope=row>L5_IT</th><td> 11</td></tr>\n",
       "\t<tr><th scope=row>L6_IT</th><td>  9</td></tr>\n",
       "\t<tr><th scope=row>L2_3_IT</th><td>  7</td></tr>\n",
       "\t<tr><th scope=row>L6_CT</th><td>  6</td></tr>\n",
       "\t<tr><th scope=row>Serpinf1</th><td>  4</td></tr>\n",
       "\t<tr><th scope=row>L5_PT</th><td>  3</td></tr>\n",
       "\t<tr><th scope=row>L6b</th><td>  3</td></tr>\n",
       "\t<tr><th scope=row>Meis2</th><td>  1</td></tr>\n",
       "\t<tr><th scope=row>L4</th><td>  0</td></tr>\n",
       "</tbody>\n",
       "</table>\n"
      ],
      "text/latex": [
       "A data.frame: 23 × 1\n",
       "\\begin{tabular}{r|l}\n",
       "  & No.genes\\\\\n",
       "  & <int>\\\\\n",
       "\\hline\n",
       "\tMacrophage & 333\\\\\n",
       "\tAstro & 288\\\\\n",
       "\tEndo & 237\\\\\n",
       "\tOligo & 131\\\\\n",
       "\tVLMC &  85\\\\\n",
       "\tSMC &  60\\\\\n",
       "\tPvalb &  31\\\\\n",
       "\tLamp5 &  22\\\\\n",
       "\tCR &  21\\\\\n",
       "\tSst &  21\\\\\n",
       "\tPeri &  15\\\\\n",
       "\tSncg &  14\\\\\n",
       "\tVip &  14\\\\\n",
       "\tNP &  13\\\\\n",
       "\tL5\\_IT &  11\\\\\n",
       "\tL6\\_IT &   9\\\\\n",
       "\tL2\\_3\\_IT &   7\\\\\n",
       "\tL6\\_CT &   6\\\\\n",
       "\tSerpinf1 &   4\\\\\n",
       "\tL5\\_PT &   3\\\\\n",
       "\tL6b &   3\\\\\n",
       "\tMeis2 &   1\\\\\n",
       "\tL4 &   0\\\\\n",
       "\\end{tabular}\n"
      ],
      "text/markdown": [
       "\n",
       "A data.frame: 23 × 1\n",
       "\n",
       "| <!--/--> | No.genes &lt;int&gt; |\n",
       "|---|---|\n",
       "| Macrophage | 333 |\n",
       "| Astro | 288 |\n",
       "| Endo | 237 |\n",
       "| Oligo | 131 |\n",
       "| VLMC |  85 |\n",
       "| SMC |  60 |\n",
       "| Pvalb |  31 |\n",
       "| Lamp5 |  22 |\n",
       "| CR |  21 |\n",
       "| Sst |  21 |\n",
       "| Peri |  15 |\n",
       "| Sncg |  14 |\n",
       "| Vip |  14 |\n",
       "| NP |  13 |\n",
       "| L5_IT |  11 |\n",
       "| L6_IT |   9 |\n",
       "| L2_3_IT |   7 |\n",
       "| L6_CT |   6 |\n",
       "| Serpinf1 |   4 |\n",
       "| L5_PT |   3 |\n",
       "| L6b |   3 |\n",
       "| Meis2 |   1 |\n",
       "| L4 |   0 |\n",
       "\n"
      ],
      "text/plain": [
       "           No.genes\n",
       "Macrophage 333     \n",
       "Astro      288     \n",
       "Endo       237     \n",
       "Oligo      131     \n",
       "VLMC        85     \n",
       "SMC         60     \n",
       "Pvalb       31     \n",
       "Lamp5       22     \n",
       "CR          21     \n",
       "Sst         21     \n",
       "Peri        15     \n",
       "Sncg        14     \n",
       "Vip         14     \n",
       "NP          13     \n",
       "L5_IT       11     \n",
       "L6_IT        9     \n",
       "L2_3_IT      7     \n",
       "L6_CT        6     \n",
       "Serpinf1     4     \n",
       "L5_PT        3     \n",
       "L6b          3     \n",
       "Meis2        1     \n",
       "L4           0     "
      ]
     },
     "metadata": {},
     "output_type": "display_data"
    }
   ],
   "source": [
    "data.frame(No.genes=lengths(pairwise_ctype_genes)) %>% arrange(-`No.genes`)"
   ]
  },
  {
   "cell_type": "code",
   "execution_count": 14,
   "id": "2e5c68a9",
   "metadata": {
    "vscode": {
     "languageId": "r"
    }
   },
   "outputs": [],
   "source": [
    "pairwise_ctype_genes <- pairwise_ctype_genes[lengths(pairwise_ctype_genes) > 0]"
   ]
  },
  {
   "cell_type": "code",
   "execution_count": 15,
   "id": "141aa58d",
   "metadata": {
    "vscode": {
     "languageId": "r"
    }
   },
   "outputs": [],
   "source": [
    "if (unique) {\n",
    "    all_genes <- unlist(pairwise_ctype_genes)\n",
    "    duplicates <- unique(names(table(all_genes)[table(all_genes) > 1]))\n",
    "\n",
    "    # Remove markers that are not unique to a cell type\n",
    "\n",
    "    pairwise_ctype_genes <- lapply(pairwise_ctype_genes, function(x) x[!(x %in% duplicates)])\n",
    "}\n",
    "\n",
    "pairwise_ctype_genes <- pairwise_ctype_genes[lengths(pairwise_ctype_genes) > 0]"
   ]
  },
  {
   "cell_type": "markdown",
   "id": "0ea29e85",
   "metadata": {},
   "source": [
    "#### 1 vs. mean tests"
   ]
  },
  {
   "cell_type": "code",
   "execution_count": 16,
   "id": "54340439",
   "metadata": {
    "vscode": {
     "languageId": "r"
    }
   },
   "outputs": [],
   "source": [
    "mean_res_list <- readRDS(\"data/tasic_2018_ALM_STAR_donor_cell_type_pseudobulk_1_vs_meanOthers_DE_genes_dream.RDS\")"
   ]
  },
  {
   "cell_type": "code",
   "execution_count": 17,
   "id": "d868ba05",
   "metadata": {
    "vscode": {
     "languageId": "r"
    }
   },
   "outputs": [],
   "source": [
    "pval_threshold <- .05/length(mean_res_list)\n",
    "lfc_threshold <- 6\n",
    "\n",
    "mean_ctype_genes <- lapply(mean_res_list, function(df) {\n",
    "    mask <- (df['adj.P.Val'] < pval_threshold) & (abs(df['logFC']) > lfc_threshold)\n",
    "    df[mask, 1]\n",
    "})\n",
    "names(mean_ctype_genes) <- names(mean_res_list) "
   ]
  },
  {
   "cell_type": "code",
   "execution_count": 18,
   "id": "bf629980",
   "metadata": {
    "vscode": {
     "languageId": "r"
    }
   },
   "outputs": [],
   "source": [
    "if (unique) {\n",
    "    all_genes <- unlist(mean_ctype_genes)\n",
    "    duplicates <- unique(names(table(all_genes)[table(all_genes) > 1]))\n",
    "\n",
    "    # Remove markers that are not unique to a cell type\n",
    "\n",
    "    mean_ctype_genes <- lapply(mean_ctype_genes, function(x) x[!(x %in% duplicates)])\n",
    "}"
   ]
  },
  {
   "cell_type": "code",
   "execution_count": 19,
   "id": "93eb6386",
   "metadata": {
    "vscode": {
     "languageId": "r"
    }
   },
   "outputs": [
    {
     "data": {
      "text/html": [
       "<table class=\"dataframe\">\n",
       "<caption>A data.frame: 23 × 1</caption>\n",
       "<thead>\n",
       "\t<tr><th></th><th scope=col>No.genes</th></tr>\n",
       "\t<tr><th></th><th scope=col>&lt;int&gt;</th></tr>\n",
       "</thead>\n",
       "<tbody>\n",
       "\t<tr><th scope=row>Peri</th><td>1279</td></tr>\n",
       "\t<tr><th scope=row>Macrophage</th><td> 355</td></tr>\n",
       "\t<tr><th scope=row>Endo</th><td> 325</td></tr>\n",
       "\t<tr><th scope=row>Astro</th><td> 213</td></tr>\n",
       "\t<tr><th scope=row>Oligo</th><td> 119</td></tr>\n",
       "\t<tr><th scope=row>VLMC</th><td> 110</td></tr>\n",
       "\t<tr><th scope=row>SMC</th><td>  94</td></tr>\n",
       "\t<tr><th scope=row>CR</th><td>  31</td></tr>\n",
       "\t<tr><th scope=row>Meis2</th><td>  30</td></tr>\n",
       "\t<tr><th scope=row>NP</th><td>  25</td></tr>\n",
       "\t<tr><th scope=row>L6_IT</th><td>  19</td></tr>\n",
       "\t<tr><th scope=row>Sst</th><td>  19</td></tr>\n",
       "\t<tr><th scope=row>L6_CT</th><td>  17</td></tr>\n",
       "\t<tr><th scope=row>Pvalb</th><td>  17</td></tr>\n",
       "\t<tr><th scope=row>Lamp5</th><td>  16</td></tr>\n",
       "\t<tr><th scope=row>L5_IT</th><td>  14</td></tr>\n",
       "\t<tr><th scope=row>Serpinf1</th><td>  14</td></tr>\n",
       "\t<tr><th scope=row>Sncg</th><td>  13</td></tr>\n",
       "\t<tr><th scope=row>L2_3_IT</th><td>  12</td></tr>\n",
       "\t<tr><th scope=row>L4</th><td>  12</td></tr>\n",
       "\t<tr><th scope=row>Vip</th><td>  12</td></tr>\n",
       "\t<tr><th scope=row>L5_PT</th><td>  10</td></tr>\n",
       "\t<tr><th scope=row>L6b</th><td>   8</td></tr>\n",
       "</tbody>\n",
       "</table>\n"
      ],
      "text/latex": [
       "A data.frame: 23 × 1\n",
       "\\begin{tabular}{r|l}\n",
       "  & No.genes\\\\\n",
       "  & <int>\\\\\n",
       "\\hline\n",
       "\tPeri & 1279\\\\\n",
       "\tMacrophage &  355\\\\\n",
       "\tEndo &  325\\\\\n",
       "\tAstro &  213\\\\\n",
       "\tOligo &  119\\\\\n",
       "\tVLMC &  110\\\\\n",
       "\tSMC &   94\\\\\n",
       "\tCR &   31\\\\\n",
       "\tMeis2 &   30\\\\\n",
       "\tNP &   25\\\\\n",
       "\tL6\\_IT &   19\\\\\n",
       "\tSst &   19\\\\\n",
       "\tL6\\_CT &   17\\\\\n",
       "\tPvalb &   17\\\\\n",
       "\tLamp5 &   16\\\\\n",
       "\tL5\\_IT &   14\\\\\n",
       "\tSerpinf1 &   14\\\\\n",
       "\tSncg &   13\\\\\n",
       "\tL2\\_3\\_IT &   12\\\\\n",
       "\tL4 &   12\\\\\n",
       "\tVip &   12\\\\\n",
       "\tL5\\_PT &   10\\\\\n",
       "\tL6b &    8\\\\\n",
       "\\end{tabular}\n"
      ],
      "text/markdown": [
       "\n",
       "A data.frame: 23 × 1\n",
       "\n",
       "| <!--/--> | No.genes &lt;int&gt; |\n",
       "|---|---|\n",
       "| Peri | 1279 |\n",
       "| Macrophage |  355 |\n",
       "| Endo |  325 |\n",
       "| Astro |  213 |\n",
       "| Oligo |  119 |\n",
       "| VLMC |  110 |\n",
       "| SMC |   94 |\n",
       "| CR |   31 |\n",
       "| Meis2 |   30 |\n",
       "| NP |   25 |\n",
       "| L6_IT |   19 |\n",
       "| Sst |   19 |\n",
       "| L6_CT |   17 |\n",
       "| Pvalb |   17 |\n",
       "| Lamp5 |   16 |\n",
       "| L5_IT |   14 |\n",
       "| Serpinf1 |   14 |\n",
       "| Sncg |   13 |\n",
       "| L2_3_IT |   12 |\n",
       "| L4 |   12 |\n",
       "| Vip |   12 |\n",
       "| L5_PT |   10 |\n",
       "| L6b |    8 |\n",
       "\n"
      ],
      "text/plain": [
       "           No.genes\n",
       "Peri       1279    \n",
       "Macrophage  355    \n",
       "Endo        325    \n",
       "Astro       213    \n",
       "Oligo       119    \n",
       "VLMC        110    \n",
       "SMC          94    \n",
       "CR           31    \n",
       "Meis2        30    \n",
       "NP           25    \n",
       "L6_IT        19    \n",
       "Sst          19    \n",
       "L6_CT        17    \n",
       "Pvalb        17    \n",
       "Lamp5        16    \n",
       "L5_IT        14    \n",
       "Serpinf1     14    \n",
       "Sncg         13    \n",
       "L2_3_IT      12    \n",
       "L4           12    \n",
       "Vip          12    \n",
       "L5_PT        10    \n",
       "L6b           8    "
      ]
     },
     "metadata": {},
     "output_type": "display_data"
    }
   ],
   "source": [
    "data.frame(No.genes=lengths(mean_ctype_genes)) %>% arrange(-`No.genes`)"
   ]
  },
  {
   "cell_type": "markdown",
   "id": "0b894bcf",
   "metadata": {},
   "source": [
    "### Enrichment results using 1 vs. pooled DE genes"
   ]
  },
  {
   "cell_type": "code",
   "execution_count": 20,
   "id": "09fbb1a8",
   "metadata": {
    "vscode": {
     "languageId": "r"
    }
   },
   "outputs": [],
   "source": [
    "pooled_enrichments_df <- get_module_enrichments(network_dir, pooled_ctype_genes, mod_def)"
   ]
  },
  {
   "cell_type": "code",
   "execution_count": 21,
   "id": "e1c46ab3",
   "metadata": {
    "vscode": {
     "languageId": "r"
    }
   },
   "outputs": [],
   "source": [
    "# Get most enriched cell type for each module\n",
    "# If cell type is most enriched in multiple modules, choose module with smallest p-value\n",
    "\n",
    "pooled_top_mods_df <- pooled_enrichments_df %>%\n",
    "    group_by(Network, Module) %>%\n",
    "    slice_min(Qval) %>%\n",
    "    group_by(Cell_type) %>%\n",
    "    arrange(Network) %>%\n",
    "    slice_min(Qval, with_ties=FALSE) %>%\n",
    "    filter(Qval < .05) %>%\n",
    "    arrange(Qval)"
   ]
  },
  {
   "cell_type": "code",
   "execution_count": 22,
   "id": "97f3f715",
   "metadata": {
    "vscode": {
     "languageId": "r"
    }
   },
   "outputs": [
    {
     "data": {
      "text/html": [
       "<table class=\"dataframe\">\n",
       "<caption>A grouped_df: 22 × 5</caption>\n",
       "<thead>\n",
       "\t<tr><th scope=col>Cell_type</th><th scope=col>Pval</th><th scope=col>Qval</th><th scope=col>Module</th><th scope=col>Network</th></tr>\n",
       "\t<tr><th scope=col>&lt;chr&gt;</th><th scope=col>&lt;dbl&gt;</th><th scope=col>&lt;dbl&gt;</th><th scope=col>&lt;chr&gt;</th><th scope=col>&lt;chr&gt;</th></tr>\n",
       "</thead>\n",
       "<tbody>\n",
       "\t<tr><td>Macrophage</td><td>3.376635e-303</td><td>1.688385e-298</td><td>brown         </td><td>Bicor-None_signum0.474_minSize8_merge_ME_0.9_20151</td></tr>\n",
       "\t<tr><td>Endo      </td><td>1.455766e-232</td><td>3.831117e-229</td><td>red           </td><td>Bicor-None_signum0.474_minSize8_merge_ME_0.9_20151</td></tr>\n",
       "\t<tr><td>Astro     </td><td>2.359966e-186</td><td>2.809595e-183</td><td>turquoise     </td><td>Bicor-None_signum0.474_minSize8_merge_ME_0.9_20151</td></tr>\n",
       "\t<tr><td>Oligo     </td><td>2.457302e-128</td><td>2.082543e-125</td><td>black         </td><td>Bicor-None_signum0.474_minSize8_merge_ME_0.9_20151</td></tr>\n",
       "\t<tr><td>VLMC      </td><td>3.022686e-119</td><td>2.015204e-116</td><td>salmon        </td><td>Bicor-None_signum0.526_minSize8_merge_ME_0.9_20151</td></tr>\n",
       "\t<tr><td>SMC       </td><td> 8.301235e-78</td><td> 4.109686e-75</td><td>lightpink3    </td><td>Bicor-None_signum0.603_minSize6_merge_ME_0.9_20151</td></tr>\n",
       "\t<tr><td>Peri      </td><td> 1.687046e-37</td><td> 6.642179e-35</td><td>yellowgreen   </td><td>Bicor-None_signum0.892_minSize4_merge_ME_0.9_20151</td></tr>\n",
       "\t<tr><td>NP        </td><td> 5.067304e-35</td><td> 1.964150e-32</td><td>tan           </td><td>Bicor-None_signum0.787_minSize5_merge_ME_0.9_20151</td></tr>\n",
       "\t<tr><td>L6_CT     </td><td> 6.963281e-22</td><td> 2.149247e-19</td><td>paleturquoise </td><td>Bicor-None_signum0.892_minSize3_merge_ME_0.9_20151</td></tr>\n",
       "\t<tr><td>Lamp5     </td><td> 3.518993e-20</td><td> 1.047361e-17</td><td>midnightblue  </td><td>Bicor-None_signum0.474_minSize8_merge_ME_0.9_20151</td></tr>\n",
       "\t<tr><td>Vip       </td><td> 2.325715e-19</td><td> 6.645166e-17</td><td>midnightblue  </td><td>Bicor-None_signum0.603_minSize8_merge_ME_0.9_20151</td></tr>\n",
       "\t<tr><td>Sst       </td><td> 4.558573e-19</td><td> 1.280549e-16</td><td>black         </td><td>Bicor-None_signum0.787_minSize5_merge_ME_0.9_20151</td></tr>\n",
       "\t<tr><td>L5_IT     </td><td> 4.854015e-19</td><td> 1.355924e-16</td><td>yellow        </td><td>Bicor-None_signum0.603_minSize8_merge_ME_0.9_20151</td></tr>\n",
       "\t<tr><td>Sncg      </td><td> 8.660747e-17</td><td> 2.102207e-14</td><td>orangered4    </td><td>Bicor-None_signum0.892_minSize4_merge_ME_0.9_20151</td></tr>\n",
       "\t<tr><td>Pvalb     </td><td> 8.948478e-16</td><td> 2.033826e-13</td><td>greenyellow   </td><td>Bicor-None_signum0.474_minSize8_merge_ME_0.9_20151</td></tr>\n",
       "\t<tr><td>L6_IT     </td><td> 2.256573e-14</td><td> 4.624310e-12</td><td>navajowhite2  </td><td>Bicor-None_signum0.787_minSize6_merge_ME_0.9_20151</td></tr>\n",
       "\t<tr><td>Serpinf1  </td><td> 1.011523e-12</td><td> 1.780921e-10</td><td>dodgerblue3   </td><td>Bicor-None_signum0.474_minSize8_merge_ME_0.9_20151</td></tr>\n",
       "\t<tr><td>L2_3_IT   </td><td> 7.400192e-10</td><td> 1.097995e-07</td><td>paleturquoise </td><td>Bicor-None_signum0.892_minSize4_merge_ME_0.9_20151</td></tr>\n",
       "\t<tr><td>L5_PT     </td><td> 3.447905e-09</td><td> 4.788948e-07</td><td>lightblue1    </td><td>Bicor-None_signum0.474_minSize8_merge_ME_0.9_20151</td></tr>\n",
       "\t<tr><td>Meis2     </td><td> 5.272285e-06</td><td> 5.220293e-04</td><td>palevioletred2</td><td>Bicor-None_signum0.787_minSize5_merge_ME_0.9_20151</td></tr>\n",
       "\t<tr><td>L6b       </td><td> 2.190503e-05</td><td> 1.995073e-03</td><td>chocolate3    </td><td>Bicor-None_signum0.787_minSize4_merge_ME_0.9_20151</td></tr>\n",
       "\t<tr><td>CR        </td><td> 1.939358e-04</td><td> 1.564061e-02</td><td>red1          </td><td>Bicor-None_signum0.603_minSize6_merge_ME_0.9_20151</td></tr>\n",
       "</tbody>\n",
       "</table>\n"
      ],
      "text/latex": [
       "A grouped\\_df: 22 × 5\n",
       "\\begin{tabular}{lllll}\n",
       " Cell\\_type & Pval & Qval & Module & Network\\\\\n",
       " <chr> & <dbl> & <dbl> & <chr> & <chr>\\\\\n",
       "\\hline\n",
       "\t Macrophage & 3.376635e-303 & 1.688385e-298 & brown          & Bicor-None\\_signum0.474\\_minSize8\\_merge\\_ME\\_0.9\\_20151\\\\\n",
       "\t Endo       & 1.455766e-232 & 3.831117e-229 & red            & Bicor-None\\_signum0.474\\_minSize8\\_merge\\_ME\\_0.9\\_20151\\\\\n",
       "\t Astro      & 2.359966e-186 & 2.809595e-183 & turquoise      & Bicor-None\\_signum0.474\\_minSize8\\_merge\\_ME\\_0.9\\_20151\\\\\n",
       "\t Oligo      & 2.457302e-128 & 2.082543e-125 & black          & Bicor-None\\_signum0.474\\_minSize8\\_merge\\_ME\\_0.9\\_20151\\\\\n",
       "\t VLMC       & 3.022686e-119 & 2.015204e-116 & salmon         & Bicor-None\\_signum0.526\\_minSize8\\_merge\\_ME\\_0.9\\_20151\\\\\n",
       "\t SMC        &  8.301235e-78 &  4.109686e-75 & lightpink3     & Bicor-None\\_signum0.603\\_minSize6\\_merge\\_ME\\_0.9\\_20151\\\\\n",
       "\t Peri       &  1.687046e-37 &  6.642179e-35 & yellowgreen    & Bicor-None\\_signum0.892\\_minSize4\\_merge\\_ME\\_0.9\\_20151\\\\\n",
       "\t NP         &  5.067304e-35 &  1.964150e-32 & tan            & Bicor-None\\_signum0.787\\_minSize5\\_merge\\_ME\\_0.9\\_20151\\\\\n",
       "\t L6\\_CT      &  6.963281e-22 &  2.149247e-19 & paleturquoise  & Bicor-None\\_signum0.892\\_minSize3\\_merge\\_ME\\_0.9\\_20151\\\\\n",
       "\t Lamp5      &  3.518993e-20 &  1.047361e-17 & midnightblue   & Bicor-None\\_signum0.474\\_minSize8\\_merge\\_ME\\_0.9\\_20151\\\\\n",
       "\t Vip        &  2.325715e-19 &  6.645166e-17 & midnightblue   & Bicor-None\\_signum0.603\\_minSize8\\_merge\\_ME\\_0.9\\_20151\\\\\n",
       "\t Sst        &  4.558573e-19 &  1.280549e-16 & black          & Bicor-None\\_signum0.787\\_minSize5\\_merge\\_ME\\_0.9\\_20151\\\\\n",
       "\t L5\\_IT      &  4.854015e-19 &  1.355924e-16 & yellow         & Bicor-None\\_signum0.603\\_minSize8\\_merge\\_ME\\_0.9\\_20151\\\\\n",
       "\t Sncg       &  8.660747e-17 &  2.102207e-14 & orangered4     & Bicor-None\\_signum0.892\\_minSize4\\_merge\\_ME\\_0.9\\_20151\\\\\n",
       "\t Pvalb      &  8.948478e-16 &  2.033826e-13 & greenyellow    & Bicor-None\\_signum0.474\\_minSize8\\_merge\\_ME\\_0.9\\_20151\\\\\n",
       "\t L6\\_IT      &  2.256573e-14 &  4.624310e-12 & navajowhite2   & Bicor-None\\_signum0.787\\_minSize6\\_merge\\_ME\\_0.9\\_20151\\\\\n",
       "\t Serpinf1   &  1.011523e-12 &  1.780921e-10 & dodgerblue3    & Bicor-None\\_signum0.474\\_minSize8\\_merge\\_ME\\_0.9\\_20151\\\\\n",
       "\t L2\\_3\\_IT    &  7.400192e-10 &  1.097995e-07 & paleturquoise  & Bicor-None\\_signum0.892\\_minSize4\\_merge\\_ME\\_0.9\\_20151\\\\\n",
       "\t L5\\_PT      &  3.447905e-09 &  4.788948e-07 & lightblue1     & Bicor-None\\_signum0.474\\_minSize8\\_merge\\_ME\\_0.9\\_20151\\\\\n",
       "\t Meis2      &  5.272285e-06 &  5.220293e-04 & palevioletred2 & Bicor-None\\_signum0.787\\_minSize5\\_merge\\_ME\\_0.9\\_20151\\\\\n",
       "\t L6b        &  2.190503e-05 &  1.995073e-03 & chocolate3     & Bicor-None\\_signum0.787\\_minSize4\\_merge\\_ME\\_0.9\\_20151\\\\\n",
       "\t CR         &  1.939358e-04 &  1.564061e-02 & red1           & Bicor-None\\_signum0.603\\_minSize6\\_merge\\_ME\\_0.9\\_20151\\\\\n",
       "\\end{tabular}\n"
      ],
      "text/markdown": [
       "\n",
       "A grouped_df: 22 × 5\n",
       "\n",
       "| Cell_type &lt;chr&gt; | Pval &lt;dbl&gt; | Qval &lt;dbl&gt; | Module &lt;chr&gt; | Network &lt;chr&gt; |\n",
       "|---|---|---|---|---|\n",
       "| Macrophage | 3.376635e-303 | 1.688385e-298 | brown          | Bicor-None_signum0.474_minSize8_merge_ME_0.9_20151 |\n",
       "| Endo       | 1.455766e-232 | 3.831117e-229 | red            | Bicor-None_signum0.474_minSize8_merge_ME_0.9_20151 |\n",
       "| Astro      | 2.359966e-186 | 2.809595e-183 | turquoise      | Bicor-None_signum0.474_minSize8_merge_ME_0.9_20151 |\n",
       "| Oligo      | 2.457302e-128 | 2.082543e-125 | black          | Bicor-None_signum0.474_minSize8_merge_ME_0.9_20151 |\n",
       "| VLMC       | 3.022686e-119 | 2.015204e-116 | salmon         | Bicor-None_signum0.526_minSize8_merge_ME_0.9_20151 |\n",
       "| SMC        |  8.301235e-78 |  4.109686e-75 | lightpink3     | Bicor-None_signum0.603_minSize6_merge_ME_0.9_20151 |\n",
       "| Peri       |  1.687046e-37 |  6.642179e-35 | yellowgreen    | Bicor-None_signum0.892_minSize4_merge_ME_0.9_20151 |\n",
       "| NP         |  5.067304e-35 |  1.964150e-32 | tan            | Bicor-None_signum0.787_minSize5_merge_ME_0.9_20151 |\n",
       "| L6_CT      |  6.963281e-22 |  2.149247e-19 | paleturquoise  | Bicor-None_signum0.892_minSize3_merge_ME_0.9_20151 |\n",
       "| Lamp5      |  3.518993e-20 |  1.047361e-17 | midnightblue   | Bicor-None_signum0.474_minSize8_merge_ME_0.9_20151 |\n",
       "| Vip        |  2.325715e-19 |  6.645166e-17 | midnightblue   | Bicor-None_signum0.603_minSize8_merge_ME_0.9_20151 |\n",
       "| Sst        |  4.558573e-19 |  1.280549e-16 | black          | Bicor-None_signum0.787_minSize5_merge_ME_0.9_20151 |\n",
       "| L5_IT      |  4.854015e-19 |  1.355924e-16 | yellow         | Bicor-None_signum0.603_minSize8_merge_ME_0.9_20151 |\n",
       "| Sncg       |  8.660747e-17 |  2.102207e-14 | orangered4     | Bicor-None_signum0.892_minSize4_merge_ME_0.9_20151 |\n",
       "| Pvalb      |  8.948478e-16 |  2.033826e-13 | greenyellow    | Bicor-None_signum0.474_minSize8_merge_ME_0.9_20151 |\n",
       "| L6_IT      |  2.256573e-14 |  4.624310e-12 | navajowhite2   | Bicor-None_signum0.787_minSize6_merge_ME_0.9_20151 |\n",
       "| Serpinf1   |  1.011523e-12 |  1.780921e-10 | dodgerblue3    | Bicor-None_signum0.474_minSize8_merge_ME_0.9_20151 |\n",
       "| L2_3_IT    |  7.400192e-10 |  1.097995e-07 | paleturquoise  | Bicor-None_signum0.892_minSize4_merge_ME_0.9_20151 |\n",
       "| L5_PT      |  3.447905e-09 |  4.788948e-07 | lightblue1     | Bicor-None_signum0.474_minSize8_merge_ME_0.9_20151 |\n",
       "| Meis2      |  5.272285e-06 |  5.220293e-04 | palevioletred2 | Bicor-None_signum0.787_minSize5_merge_ME_0.9_20151 |\n",
       "| L6b        |  2.190503e-05 |  1.995073e-03 | chocolate3     | Bicor-None_signum0.787_minSize4_merge_ME_0.9_20151 |\n",
       "| CR         |  1.939358e-04 |  1.564061e-02 | red1           | Bicor-None_signum0.603_minSize6_merge_ME_0.9_20151 |\n",
       "\n"
      ],
      "text/plain": [
       "   Cell_type  Pval          Qval          Module        \n",
       "1  Macrophage 3.376635e-303 1.688385e-298 brown         \n",
       "2  Endo       1.455766e-232 3.831117e-229 red           \n",
       "3  Astro      2.359966e-186 2.809595e-183 turquoise     \n",
       "4  Oligo      2.457302e-128 2.082543e-125 black         \n",
       "5  VLMC       3.022686e-119 2.015204e-116 salmon        \n",
       "6  SMC         8.301235e-78  4.109686e-75 lightpink3    \n",
       "7  Peri        1.687046e-37  6.642179e-35 yellowgreen   \n",
       "8  NP          5.067304e-35  1.964150e-32 tan           \n",
       "9  L6_CT       6.963281e-22  2.149247e-19 paleturquoise \n",
       "10 Lamp5       3.518993e-20  1.047361e-17 midnightblue  \n",
       "11 Vip         2.325715e-19  6.645166e-17 midnightblue  \n",
       "12 Sst         4.558573e-19  1.280549e-16 black         \n",
       "13 L5_IT       4.854015e-19  1.355924e-16 yellow        \n",
       "14 Sncg        8.660747e-17  2.102207e-14 orangered4    \n",
       "15 Pvalb       8.948478e-16  2.033826e-13 greenyellow   \n",
       "16 L6_IT       2.256573e-14  4.624310e-12 navajowhite2  \n",
       "17 Serpinf1    1.011523e-12  1.780921e-10 dodgerblue3   \n",
       "18 L2_3_IT     7.400192e-10  1.097995e-07 paleturquoise \n",
       "19 L5_PT       3.447905e-09  4.788948e-07 lightblue1    \n",
       "20 Meis2       5.272285e-06  5.220293e-04 palevioletred2\n",
       "21 L6b         2.190503e-05  1.995073e-03 chocolate3    \n",
       "22 CR          1.939358e-04  1.564061e-02 red1          \n",
       "   Network                                           \n",
       "1  Bicor-None_signum0.474_minSize8_merge_ME_0.9_20151\n",
       "2  Bicor-None_signum0.474_minSize8_merge_ME_0.9_20151\n",
       "3  Bicor-None_signum0.474_minSize8_merge_ME_0.9_20151\n",
       "4  Bicor-None_signum0.474_minSize8_merge_ME_0.9_20151\n",
       "5  Bicor-None_signum0.526_minSize8_merge_ME_0.9_20151\n",
       "6  Bicor-None_signum0.603_minSize6_merge_ME_0.9_20151\n",
       "7  Bicor-None_signum0.892_minSize4_merge_ME_0.9_20151\n",
       "8  Bicor-None_signum0.787_minSize5_merge_ME_0.9_20151\n",
       "9  Bicor-None_signum0.892_minSize3_merge_ME_0.9_20151\n",
       "10 Bicor-None_signum0.474_minSize8_merge_ME_0.9_20151\n",
       "11 Bicor-None_signum0.603_minSize8_merge_ME_0.9_20151\n",
       "12 Bicor-None_signum0.787_minSize5_merge_ME_0.9_20151\n",
       "13 Bicor-None_signum0.603_minSize8_merge_ME_0.9_20151\n",
       "14 Bicor-None_signum0.892_minSize4_merge_ME_0.9_20151\n",
       "15 Bicor-None_signum0.474_minSize8_merge_ME_0.9_20151\n",
       "16 Bicor-None_signum0.787_minSize6_merge_ME_0.9_20151\n",
       "17 Bicor-None_signum0.474_minSize8_merge_ME_0.9_20151\n",
       "18 Bicor-None_signum0.892_minSize4_merge_ME_0.9_20151\n",
       "19 Bicor-None_signum0.474_minSize8_merge_ME_0.9_20151\n",
       "20 Bicor-None_signum0.787_minSize5_merge_ME_0.9_20151\n",
       "21 Bicor-None_signum0.787_minSize4_merge_ME_0.9_20151\n",
       "22 Bicor-None_signum0.603_minSize6_merge_ME_0.9_20151"
      ]
     },
     "metadata": {},
     "output_type": "display_data"
    }
   ],
   "source": [
    "pooled_top_mods_df[,c(\"Cell_type\", \"Pval\", \"Qval\", \"Module\", \"Network\")]"
   ]
  },
  {
   "cell_type": "markdown",
   "id": "cc33c767",
   "metadata": {},
   "source": [
    "### Enrichment results using pairwise DE genes"
   ]
  },
  {
   "cell_type": "code",
   "execution_count": 23,
   "id": "da30c5c6",
   "metadata": {
    "vscode": {
     "languageId": "r"
    }
   },
   "outputs": [],
   "source": [
    "pairwise_enrichments_df <- get_module_enrichments(network_dir, pairwise_ctype_genes, mod_def)"
   ]
  },
  {
   "cell_type": "code",
   "execution_count": 24,
   "id": "c7411268",
   "metadata": {
    "vscode": {
     "languageId": "r"
    }
   },
   "outputs": [],
   "source": [
    "# Get most enriched cell type for each module\n",
    "# If cell type is most enriched in multiple modules, choose module with smallest p-value\n",
    "\n",
    "pairwise_top_mods_df <- pairwise_enrichments_df %>%\n",
    "    group_by(Network, Module) %>%\n",
    "    slice_min(Qval) %>%\n",
    "    group_by(Cell_type) %>%\n",
    "    arrange(Network) %>%\n",
    "    slice_min(Qval, with_ties=FALSE) %>%\n",
    "    filter(Qval < .05) %>%\n",
    "    arrange(Qval)"
   ]
  },
  {
   "cell_type": "code",
   "execution_count": 25,
   "id": "efbeaebe",
   "metadata": {
    "vscode": {
     "languageId": "r"
    }
   },
   "outputs": [
    {
     "data": {
      "text/html": [
       "<table class=\"dataframe\">\n",
       "<caption>A grouped_df: 20 × 5</caption>\n",
       "<thead>\n",
       "\t<tr><th scope=col>Cell_type</th><th scope=col>Pval</th><th scope=col>Qval</th><th scope=col>Module</th><th scope=col>Network</th></tr>\n",
       "\t<tr><th scope=col>&lt;chr&gt;</th><th scope=col>&lt;dbl&gt;</th><th scope=col>&lt;dbl&gt;</th><th scope=col>&lt;chr&gt;</th><th scope=col>&lt;chr&gt;</th></tr>\n",
       "</thead>\n",
       "<tbody>\n",
       "\t<tr><td>Astro     </td><td> 0.000000e+00</td><td> 0.000000e+00</td><td>turquoise    </td><td>Bicor-None_signum0.474_minSize10_merge_ME_0.9_20151</td></tr>\n",
       "\t<tr><td>Endo      </td><td> 0.000000e+00</td><td> 0.000000e+00</td><td>red          </td><td>Bicor-None_signum0.474_minSize10_merge_ME_0.9_20151</td></tr>\n",
       "\t<tr><td>Macrophage</td><td> 0.000000e+00</td><td> 0.000000e+00</td><td>yellow       </td><td>Bicor-None_signum0.474_minSize10_merge_ME_0.9_20151</td></tr>\n",
       "\t<tr><td>Oligo     </td><td>3.849951e-205</td><td>2.789931e-202</td><td>greenyellow  </td><td>Bicor-None_signum0.892_minSize3_merge_ME_0.9_20151 </td></tr>\n",
       "\t<tr><td>VLMC      </td><td>9.090226e-136</td><td>4.997325e-133</td><td>purple       </td><td>Bicor-None_signum0.474_minSize10_merge_ME_0.9_20151</td></tr>\n",
       "\t<tr><td>SMC       </td><td> 7.070499e-93</td><td> 3.220646e-90</td><td>tomato       </td><td>Bicor-None_signum0.474_minSize10_merge_ME_0.9_20151</td></tr>\n",
       "\t<tr><td>Pvalb     </td><td> 8.803478e-42</td><td> 3.263975e-39</td><td>tan          </td><td>Bicor-None_signum0.603_minSize10_merge_ME_0.9_20151</td></tr>\n",
       "\t<tr><td>Lamp5     </td><td> 1.676955e-41</td><td> 6.169646e-39</td><td>red          </td><td>Bicor-None_signum0.603_minSize6_merge_ME_0.9_20151 </td></tr>\n",
       "\t<tr><td>Sst       </td><td> 2.530060e-35</td><td> 8.462078e-33</td><td>black        </td><td>Bicor-None_signum0.892_minSize4_merge_ME_0.9_20151 </td></tr>\n",
       "\t<tr><td>Sncg      </td><td> 4.211237e-28</td><td> 1.282898e-25</td><td>darkgoldenrod</td><td>Bicor-None_signum0.526_minSize8_merge_ME_0.9_20151 </td></tr>\n",
       "\t<tr><td>Vip       </td><td> 3.444053e-26</td><td> 9.804890e-24</td><td>lightyellow  </td><td>Bicor-None_signum0.526_minSize10_merge_ME_0.9_20151</td></tr>\n",
       "\t<tr><td>NP        </td><td> 1.144148e-23</td><td> 3.040129e-21</td><td>salmon       </td><td>Bicor-None_signum0.474_minSize10_merge_ME_0.9_20151</td></tr>\n",
       "\t<tr><td>L6_IT     </td><td> 1.570455e-23</td><td> 4.149818e-21</td><td>skyblue1     </td><td>Bicor-None_signum0.526_minSize8_merge_ME_0.9_20151 </td></tr>\n",
       "\t<tr><td>L5_IT     </td><td> 3.897146e-22</td><td> 9.607871e-20</td><td>green        </td><td>Bicor-None_signum0.526_minSize8_merge_ME_0.9_20151 </td></tr>\n",
       "\t<tr><td>L6_CT     </td><td> 1.320609e-16</td><td> 2.392503e-14</td><td>thistle1     </td><td>Bicor-None_signum0.474_minSize8_merge_ME_0.9_20151 </td></tr>\n",
       "\t<tr><td>L2_3_IT   </td><td> 2.331291e-12</td><td> 3.517381e-10</td><td>paleturquoise</td><td>Bicor-None_signum0.892_minSize4_merge_ME_0.9_20151 </td></tr>\n",
       "\t<tr><td>Serpinf1  </td><td> 1.074729e-11</td><td> 1.601312e-09</td><td>dodgerblue3  </td><td>Bicor-None_signum0.474_minSize8_merge_ME_0.9_20151 </td></tr>\n",
       "\t<tr><td>L6b       </td><td> 1.006098e-05</td><td> 1.142985e-03</td><td>skyblue      </td><td>Bicor-None_signum0.94_minSize3_merge_ME_0.9_20151  </td></tr>\n",
       "\t<tr><td>L5_PT     </td><td> 2.190503e-05</td><td> 2.453568e-03</td><td>lightblue1   </td><td>Bicor-None_signum0.474_minSize8_merge_ME_0.9_20151 </td></tr>\n",
       "\t<tr><td>Peri      </td><td> 1.124602e-04</td><td> 1.166756e-02</td><td>deepskyblue  </td><td>Bicor-None_signum0.603_minSize6_merge_ME_0.9_20151 </td></tr>\n",
       "</tbody>\n",
       "</table>\n"
      ],
      "text/latex": [
       "A grouped\\_df: 20 × 5\n",
       "\\begin{tabular}{lllll}\n",
       " Cell\\_type & Pval & Qval & Module & Network\\\\\n",
       " <chr> & <dbl> & <dbl> & <chr> & <chr>\\\\\n",
       "\\hline\n",
       "\t Astro      &  0.000000e+00 &  0.000000e+00 & turquoise     & Bicor-None\\_signum0.474\\_minSize10\\_merge\\_ME\\_0.9\\_20151\\\\\n",
       "\t Endo       &  0.000000e+00 &  0.000000e+00 & red           & Bicor-None\\_signum0.474\\_minSize10\\_merge\\_ME\\_0.9\\_20151\\\\\n",
       "\t Macrophage &  0.000000e+00 &  0.000000e+00 & yellow        & Bicor-None\\_signum0.474\\_minSize10\\_merge\\_ME\\_0.9\\_20151\\\\\n",
       "\t Oligo      & 3.849951e-205 & 2.789931e-202 & greenyellow   & Bicor-None\\_signum0.892\\_minSize3\\_merge\\_ME\\_0.9\\_20151 \\\\\n",
       "\t VLMC       & 9.090226e-136 & 4.997325e-133 & purple        & Bicor-None\\_signum0.474\\_minSize10\\_merge\\_ME\\_0.9\\_20151\\\\\n",
       "\t SMC        &  7.070499e-93 &  3.220646e-90 & tomato        & Bicor-None\\_signum0.474\\_minSize10\\_merge\\_ME\\_0.9\\_20151\\\\\n",
       "\t Pvalb      &  8.803478e-42 &  3.263975e-39 & tan           & Bicor-None\\_signum0.603\\_minSize10\\_merge\\_ME\\_0.9\\_20151\\\\\n",
       "\t Lamp5      &  1.676955e-41 &  6.169646e-39 & red           & Bicor-None\\_signum0.603\\_minSize6\\_merge\\_ME\\_0.9\\_20151 \\\\\n",
       "\t Sst        &  2.530060e-35 &  8.462078e-33 & black         & Bicor-None\\_signum0.892\\_minSize4\\_merge\\_ME\\_0.9\\_20151 \\\\\n",
       "\t Sncg       &  4.211237e-28 &  1.282898e-25 & darkgoldenrod & Bicor-None\\_signum0.526\\_minSize8\\_merge\\_ME\\_0.9\\_20151 \\\\\n",
       "\t Vip        &  3.444053e-26 &  9.804890e-24 & lightyellow   & Bicor-None\\_signum0.526\\_minSize10\\_merge\\_ME\\_0.9\\_20151\\\\\n",
       "\t NP         &  1.144148e-23 &  3.040129e-21 & salmon        & Bicor-None\\_signum0.474\\_minSize10\\_merge\\_ME\\_0.9\\_20151\\\\\n",
       "\t L6\\_IT      &  1.570455e-23 &  4.149818e-21 & skyblue1      & Bicor-None\\_signum0.526\\_minSize8\\_merge\\_ME\\_0.9\\_20151 \\\\\n",
       "\t L5\\_IT      &  3.897146e-22 &  9.607871e-20 & green         & Bicor-None\\_signum0.526\\_minSize8\\_merge\\_ME\\_0.9\\_20151 \\\\\n",
       "\t L6\\_CT      &  1.320609e-16 &  2.392503e-14 & thistle1      & Bicor-None\\_signum0.474\\_minSize8\\_merge\\_ME\\_0.9\\_20151 \\\\\n",
       "\t L2\\_3\\_IT    &  2.331291e-12 &  3.517381e-10 & paleturquoise & Bicor-None\\_signum0.892\\_minSize4\\_merge\\_ME\\_0.9\\_20151 \\\\\n",
       "\t Serpinf1   &  1.074729e-11 &  1.601312e-09 & dodgerblue3   & Bicor-None\\_signum0.474\\_minSize8\\_merge\\_ME\\_0.9\\_20151 \\\\\n",
       "\t L6b        &  1.006098e-05 &  1.142985e-03 & skyblue       & Bicor-None\\_signum0.94\\_minSize3\\_merge\\_ME\\_0.9\\_20151  \\\\\n",
       "\t L5\\_PT      &  2.190503e-05 &  2.453568e-03 & lightblue1    & Bicor-None\\_signum0.474\\_minSize8\\_merge\\_ME\\_0.9\\_20151 \\\\\n",
       "\t Peri       &  1.124602e-04 &  1.166756e-02 & deepskyblue   & Bicor-None\\_signum0.603\\_minSize6\\_merge\\_ME\\_0.9\\_20151 \\\\\n",
       "\\end{tabular}\n"
      ],
      "text/markdown": [
       "\n",
       "A grouped_df: 20 × 5\n",
       "\n",
       "| Cell_type &lt;chr&gt; | Pval &lt;dbl&gt; | Qval &lt;dbl&gt; | Module &lt;chr&gt; | Network &lt;chr&gt; |\n",
       "|---|---|---|---|---|\n",
       "| Astro      |  0.000000e+00 |  0.000000e+00 | turquoise     | Bicor-None_signum0.474_minSize10_merge_ME_0.9_20151 |\n",
       "| Endo       |  0.000000e+00 |  0.000000e+00 | red           | Bicor-None_signum0.474_minSize10_merge_ME_0.9_20151 |\n",
       "| Macrophage |  0.000000e+00 |  0.000000e+00 | yellow        | Bicor-None_signum0.474_minSize10_merge_ME_0.9_20151 |\n",
       "| Oligo      | 3.849951e-205 | 2.789931e-202 | greenyellow   | Bicor-None_signum0.892_minSize3_merge_ME_0.9_20151  |\n",
       "| VLMC       | 9.090226e-136 | 4.997325e-133 | purple        | Bicor-None_signum0.474_minSize10_merge_ME_0.9_20151 |\n",
       "| SMC        |  7.070499e-93 |  3.220646e-90 | tomato        | Bicor-None_signum0.474_minSize10_merge_ME_0.9_20151 |\n",
       "| Pvalb      |  8.803478e-42 |  3.263975e-39 | tan           | Bicor-None_signum0.603_minSize10_merge_ME_0.9_20151 |\n",
       "| Lamp5      |  1.676955e-41 |  6.169646e-39 | red           | Bicor-None_signum0.603_minSize6_merge_ME_0.9_20151  |\n",
       "| Sst        |  2.530060e-35 |  8.462078e-33 | black         | Bicor-None_signum0.892_minSize4_merge_ME_0.9_20151  |\n",
       "| Sncg       |  4.211237e-28 |  1.282898e-25 | darkgoldenrod | Bicor-None_signum0.526_minSize8_merge_ME_0.9_20151  |\n",
       "| Vip        |  3.444053e-26 |  9.804890e-24 | lightyellow   | Bicor-None_signum0.526_minSize10_merge_ME_0.9_20151 |\n",
       "| NP         |  1.144148e-23 |  3.040129e-21 | salmon        | Bicor-None_signum0.474_minSize10_merge_ME_0.9_20151 |\n",
       "| L6_IT      |  1.570455e-23 |  4.149818e-21 | skyblue1      | Bicor-None_signum0.526_minSize8_merge_ME_0.9_20151  |\n",
       "| L5_IT      |  3.897146e-22 |  9.607871e-20 | green         | Bicor-None_signum0.526_minSize8_merge_ME_0.9_20151  |\n",
       "| L6_CT      |  1.320609e-16 |  2.392503e-14 | thistle1      | Bicor-None_signum0.474_minSize8_merge_ME_0.9_20151  |\n",
       "| L2_3_IT    |  2.331291e-12 |  3.517381e-10 | paleturquoise | Bicor-None_signum0.892_minSize4_merge_ME_0.9_20151  |\n",
       "| Serpinf1   |  1.074729e-11 |  1.601312e-09 | dodgerblue3   | Bicor-None_signum0.474_minSize8_merge_ME_0.9_20151  |\n",
       "| L6b        |  1.006098e-05 |  1.142985e-03 | skyblue       | Bicor-None_signum0.94_minSize3_merge_ME_0.9_20151   |\n",
       "| L5_PT      |  2.190503e-05 |  2.453568e-03 | lightblue1    | Bicor-None_signum0.474_minSize8_merge_ME_0.9_20151  |\n",
       "| Peri       |  1.124602e-04 |  1.166756e-02 | deepskyblue   | Bicor-None_signum0.603_minSize6_merge_ME_0.9_20151  |\n",
       "\n"
      ],
      "text/plain": [
       "   Cell_type  Pval          Qval          Module       \n",
       "1  Astro       0.000000e+00  0.000000e+00 turquoise    \n",
       "2  Endo        0.000000e+00  0.000000e+00 red          \n",
       "3  Macrophage  0.000000e+00  0.000000e+00 yellow       \n",
       "4  Oligo      3.849951e-205 2.789931e-202 greenyellow  \n",
       "5  VLMC       9.090226e-136 4.997325e-133 purple       \n",
       "6  SMC         7.070499e-93  3.220646e-90 tomato       \n",
       "7  Pvalb       8.803478e-42  3.263975e-39 tan          \n",
       "8  Lamp5       1.676955e-41  6.169646e-39 red          \n",
       "9  Sst         2.530060e-35  8.462078e-33 black        \n",
       "10 Sncg        4.211237e-28  1.282898e-25 darkgoldenrod\n",
       "11 Vip         3.444053e-26  9.804890e-24 lightyellow  \n",
       "12 NP          1.144148e-23  3.040129e-21 salmon       \n",
       "13 L6_IT       1.570455e-23  4.149818e-21 skyblue1     \n",
       "14 L5_IT       3.897146e-22  9.607871e-20 green        \n",
       "15 L6_CT       1.320609e-16  2.392503e-14 thistle1     \n",
       "16 L2_3_IT     2.331291e-12  3.517381e-10 paleturquoise\n",
       "17 Serpinf1    1.074729e-11  1.601312e-09 dodgerblue3  \n",
       "18 L6b         1.006098e-05  1.142985e-03 skyblue      \n",
       "19 L5_PT       2.190503e-05  2.453568e-03 lightblue1   \n",
       "20 Peri        1.124602e-04  1.166756e-02 deepskyblue  \n",
       "   Network                                            \n",
       "1  Bicor-None_signum0.474_minSize10_merge_ME_0.9_20151\n",
       "2  Bicor-None_signum0.474_minSize10_merge_ME_0.9_20151\n",
       "3  Bicor-None_signum0.474_minSize10_merge_ME_0.9_20151\n",
       "4  Bicor-None_signum0.892_minSize3_merge_ME_0.9_20151 \n",
       "5  Bicor-None_signum0.474_minSize10_merge_ME_0.9_20151\n",
       "6  Bicor-None_signum0.474_minSize10_merge_ME_0.9_20151\n",
       "7  Bicor-None_signum0.603_minSize10_merge_ME_0.9_20151\n",
       "8  Bicor-None_signum0.603_minSize6_merge_ME_0.9_20151 \n",
       "9  Bicor-None_signum0.892_minSize4_merge_ME_0.9_20151 \n",
       "10 Bicor-None_signum0.526_minSize8_merge_ME_0.9_20151 \n",
       "11 Bicor-None_signum0.526_minSize10_merge_ME_0.9_20151\n",
       "12 Bicor-None_signum0.474_minSize10_merge_ME_0.9_20151\n",
       "13 Bicor-None_signum0.526_minSize8_merge_ME_0.9_20151 \n",
       "14 Bicor-None_signum0.526_minSize8_merge_ME_0.9_20151 \n",
       "15 Bicor-None_signum0.474_minSize8_merge_ME_0.9_20151 \n",
       "16 Bicor-None_signum0.892_minSize4_merge_ME_0.9_20151 \n",
       "17 Bicor-None_signum0.474_minSize8_merge_ME_0.9_20151 \n",
       "18 Bicor-None_signum0.94_minSize3_merge_ME_0.9_20151  \n",
       "19 Bicor-None_signum0.474_minSize8_merge_ME_0.9_20151 \n",
       "20 Bicor-None_signum0.603_minSize6_merge_ME_0.9_20151 "
      ]
     },
     "metadata": {},
     "output_type": "display_data"
    }
   ],
   "source": [
    "pairwise_top_mods_df[,c(\"Cell_type\", \"Pval\", \"Qval\", \"Module\", \"Network\")]"
   ]
  },
  {
   "cell_type": "code",
   "execution_count": 26,
   "id": "33f3bdb4",
   "metadata": {
    "vscode": {
     "languageId": "r"
    }
   },
   "outputs": [],
   "source": [
    "# pairwise_top_mods_df[,c(\"Cell_type\", \"Pval\", \"Qval\", \"Module\", \"Network\")]"
   ]
  },
  {
   "cell_type": "markdown",
   "id": "03b2b613",
   "metadata": {},
   "source": [
    "### Enrichment results using 1 vs. mean DE genes"
   ]
  },
  {
   "cell_type": "code",
   "execution_count": 27,
   "id": "461bdf2d",
   "metadata": {
    "vscode": {
     "languageId": "r"
    }
   },
   "outputs": [],
   "source": [
    "mean_enrichments_df <- get_module_enrichments(network_dir, mean_ctype_genes, mod_def)"
   ]
  },
  {
   "cell_type": "code",
   "execution_count": 28,
   "id": "0830bd47",
   "metadata": {
    "vscode": {
     "languageId": "r"
    }
   },
   "outputs": [],
   "source": [
    "# Get most enriched cell type for each module\n",
    "# If cell type is most enriched in multiple modules, choose module with smallest p-value\n",
    "\n",
    "mean_top_mods_df <- mean_enrichments_df %>%\n",
    "    group_by(Network, Module) %>%\n",
    "    slice_min(Qval) %>%\n",
    "    group_by(Cell_type) %>%\n",
    "    arrange(Network) %>%\n",
    "    slice_min(Qval, with_ties=FALSE) %>%\n",
    "    filter(Qval < .05) %>%\n",
    "    arrange(Qval)"
   ]
  },
  {
   "cell_type": "code",
   "execution_count": 29,
   "id": "fcfe83c2",
   "metadata": {
    "vscode": {
     "languageId": "r"
    }
   },
   "outputs": [
    {
     "data": {
      "text/html": [
       "<table class=\"dataframe\">\n",
       "<caption>A grouped_df: 22 × 5</caption>\n",
       "<thead>\n",
       "\t<tr><th scope=col>Cell_type</th><th scope=col>Pval</th><th scope=col>Qval</th><th scope=col>Module</th><th scope=col>Network</th></tr>\n",
       "\t<tr><th scope=col>&lt;chr&gt;</th><th scope=col>&lt;dbl&gt;</th><th scope=col>&lt;dbl&gt;</th><th scope=col>&lt;chr&gt;</th><th scope=col>&lt;chr&gt;</th></tr>\n",
       "</thead>\n",
       "<tbody>\n",
       "\t<tr><td>Macrophage</td><td>2.272702e-322</td><td>1.136396e-317</td><td>brown        </td><td>Bicor-None_signum0.474_minSize8_merge_ME_0.9_20151 </td></tr>\n",
       "\t<tr><td>Astro     </td><td>5.945692e-226</td><td>1.351348e-222</td><td>turquoise    </td><td>Bicor-None_signum0.474_minSize8_merge_ME_0.9_20151 </td></tr>\n",
       "\t<tr><td>Endo      </td><td>2.879982e-222</td><td>6.000202e-219</td><td>pink         </td><td>Bicor-None_signum0.787_minSize4_merge_ME_0.9_20151 </td></tr>\n",
       "\t<tr><td>Oligo     </td><td>4.337679e-144</td><td>3.388947e-141</td><td>royalblue    </td><td>Bicor-None_signum0.892_minSize5_merge_ME_0.9_20151 </td></tr>\n",
       "\t<tr><td>VLMC      </td><td>7.140103e-125</td><td>4.301439e-122</td><td>midnightblue </td><td>Bicor-None_signum0.603_minSize6_merge_ME_0.9_20151 </td></tr>\n",
       "\t<tr><td>SMC       </td><td> 5.657718e-88</td><td> 2.746575e-85</td><td>lightpink3   </td><td>Bicor-None_signum0.603_minSize6_merge_ME_0.9_20151 </td></tr>\n",
       "\t<tr><td>Peri      </td><td> 2.883049e-61</td><td> 1.162566e-58</td><td>yellowgreen  </td><td>Bicor-None_signum0.892_minSize4_merge_ME_0.9_20151 </td></tr>\n",
       "\t<tr><td>NP        </td><td> 2.776951e-36</td><td> 1.059947e-33</td><td>salmon       </td><td>Bicor-None_signum0.474_minSize10_merge_ME_0.9_20151</td></tr>\n",
       "\t<tr><td>L6_CT     </td><td> 7.254142e-29</td><td> 2.340139e-26</td><td>paleturquoise</td><td>Bicor-None_signum0.892_minSize3_merge_ME_0.9_20151 </td></tr>\n",
       "\t<tr><td>Sst       </td><td> 1.816018e-27</td><td> 5.747123e-25</td><td>black        </td><td>Bicor-None_signum0.787_minSize5_merge_ME_0.9_20151 </td></tr>\n",
       "\t<tr><td>Lamp5     </td><td> 1.264298e-26</td><td> 3.878371e-24</td><td>red          </td><td>Bicor-None_signum0.603_minSize6_merge_ME_0.9_20151 </td></tr>\n",
       "\t<tr><td>Pvalb     </td><td> 3.022650e-26</td><td> 9.104732e-24</td><td>tan          </td><td>Bicor-None_signum0.603_minSize8_merge_ME_0.9_20151 </td></tr>\n",
       "\t<tr><td>L6_IT     </td><td> 1.041511e-20</td><td> 2.616965e-18</td><td>mediumpurple3</td><td>Bicor-None_signum0.892_minSize3_merge_ME_0.9_20151 </td></tr>\n",
       "\t<tr><td>L5_IT     </td><td> 2.405789e-17</td><td> 5.033232e-15</td><td>brown        </td><td>Bicor-None_signum0.892_minSize8_merge_ME_0.9_20151 </td></tr>\n",
       "\t<tr><td>Sncg      </td><td> 4.412621e-17</td><td> 9.079831e-15</td><td>darkgoldenrod</td><td>Bicor-None_signum0.526_minSize8_merge_ME_0.9_20151 </td></tr>\n",
       "\t<tr><td>Serpinf1  </td><td> 1.604448e-16</td><td> 3.196240e-14</td><td>dodgerblue3  </td><td>Bicor-None_signum0.474_minSize8_merge_ME_0.9_20151 </td></tr>\n",
       "\t<tr><td>L2_3_IT   </td><td> 1.479558e-15</td><td> 2.690214e-13</td><td>paleturquoise</td><td>Bicor-None_signum0.892_minSize4_merge_ME_0.9_20151 </td></tr>\n",
       "\t<tr><td>Vip       </td><td> 2.269228e-14</td><td> 3.899173e-12</td><td>lightyellow  </td><td>Bicor-None_signum0.526_minSize10_merge_ME_0.9_20151</td></tr>\n",
       "\t<tr><td>L5_PT     </td><td> 1.200642e-09</td><td> 1.516022e-07</td><td>yellowgreen  </td><td>Bicor-None_signum0.892_minSize3_merge_ME_0.9_20151 </td></tr>\n",
       "\t<tr><td>L6b       </td><td> 3.447905e-09</td><td> 4.204930e-07</td><td>chocolate3   </td><td>Bicor-None_signum0.787_minSize4_merge_ME_0.9_20151 </td></tr>\n",
       "\t<tr><td>Meis2     </td><td> 2.222831e-04</td><td> 1.615494e-02</td><td>mistyrose1   </td><td>Bicor-None_signum0.603_minSize6_merge_ME_0.9_20151 </td></tr>\n",
       "\t<tr><td>CR        </td><td> 2.815665e-04</td><td> 2.011270e-02</td><td>orange1      </td><td>Bicor-None_signum0.603_minSize6_merge_ME_0.9_20151 </td></tr>\n",
       "</tbody>\n",
       "</table>\n"
      ],
      "text/latex": [
       "A grouped\\_df: 22 × 5\n",
       "\\begin{tabular}{lllll}\n",
       " Cell\\_type & Pval & Qval & Module & Network\\\\\n",
       " <chr> & <dbl> & <dbl> & <chr> & <chr>\\\\\n",
       "\\hline\n",
       "\t Macrophage & 2.272702e-322 & 1.136396e-317 & brown         & Bicor-None\\_signum0.474\\_minSize8\\_merge\\_ME\\_0.9\\_20151 \\\\\n",
       "\t Astro      & 5.945692e-226 & 1.351348e-222 & turquoise     & Bicor-None\\_signum0.474\\_minSize8\\_merge\\_ME\\_0.9\\_20151 \\\\\n",
       "\t Endo       & 2.879982e-222 & 6.000202e-219 & pink          & Bicor-None\\_signum0.787\\_minSize4\\_merge\\_ME\\_0.9\\_20151 \\\\\n",
       "\t Oligo      & 4.337679e-144 & 3.388947e-141 & royalblue     & Bicor-None\\_signum0.892\\_minSize5\\_merge\\_ME\\_0.9\\_20151 \\\\\n",
       "\t VLMC       & 7.140103e-125 & 4.301439e-122 & midnightblue  & Bicor-None\\_signum0.603\\_minSize6\\_merge\\_ME\\_0.9\\_20151 \\\\\n",
       "\t SMC        &  5.657718e-88 &  2.746575e-85 & lightpink3    & Bicor-None\\_signum0.603\\_minSize6\\_merge\\_ME\\_0.9\\_20151 \\\\\n",
       "\t Peri       &  2.883049e-61 &  1.162566e-58 & yellowgreen   & Bicor-None\\_signum0.892\\_minSize4\\_merge\\_ME\\_0.9\\_20151 \\\\\n",
       "\t NP         &  2.776951e-36 &  1.059947e-33 & salmon        & Bicor-None\\_signum0.474\\_minSize10\\_merge\\_ME\\_0.9\\_20151\\\\\n",
       "\t L6\\_CT      &  7.254142e-29 &  2.340139e-26 & paleturquoise & Bicor-None\\_signum0.892\\_minSize3\\_merge\\_ME\\_0.9\\_20151 \\\\\n",
       "\t Sst        &  1.816018e-27 &  5.747123e-25 & black         & Bicor-None\\_signum0.787\\_minSize5\\_merge\\_ME\\_0.9\\_20151 \\\\\n",
       "\t Lamp5      &  1.264298e-26 &  3.878371e-24 & red           & Bicor-None\\_signum0.603\\_minSize6\\_merge\\_ME\\_0.9\\_20151 \\\\\n",
       "\t Pvalb      &  3.022650e-26 &  9.104732e-24 & tan           & Bicor-None\\_signum0.603\\_minSize8\\_merge\\_ME\\_0.9\\_20151 \\\\\n",
       "\t L6\\_IT      &  1.041511e-20 &  2.616965e-18 & mediumpurple3 & Bicor-None\\_signum0.892\\_minSize3\\_merge\\_ME\\_0.9\\_20151 \\\\\n",
       "\t L5\\_IT      &  2.405789e-17 &  5.033232e-15 & brown         & Bicor-None\\_signum0.892\\_minSize8\\_merge\\_ME\\_0.9\\_20151 \\\\\n",
       "\t Sncg       &  4.412621e-17 &  9.079831e-15 & darkgoldenrod & Bicor-None\\_signum0.526\\_minSize8\\_merge\\_ME\\_0.9\\_20151 \\\\\n",
       "\t Serpinf1   &  1.604448e-16 &  3.196240e-14 & dodgerblue3   & Bicor-None\\_signum0.474\\_minSize8\\_merge\\_ME\\_0.9\\_20151 \\\\\n",
       "\t L2\\_3\\_IT    &  1.479558e-15 &  2.690214e-13 & paleturquoise & Bicor-None\\_signum0.892\\_minSize4\\_merge\\_ME\\_0.9\\_20151 \\\\\n",
       "\t Vip        &  2.269228e-14 &  3.899173e-12 & lightyellow   & Bicor-None\\_signum0.526\\_minSize10\\_merge\\_ME\\_0.9\\_20151\\\\\n",
       "\t L5\\_PT      &  1.200642e-09 &  1.516022e-07 & yellowgreen   & Bicor-None\\_signum0.892\\_minSize3\\_merge\\_ME\\_0.9\\_20151 \\\\\n",
       "\t L6b        &  3.447905e-09 &  4.204930e-07 & chocolate3    & Bicor-None\\_signum0.787\\_minSize4\\_merge\\_ME\\_0.9\\_20151 \\\\\n",
       "\t Meis2      &  2.222831e-04 &  1.615494e-02 & mistyrose1    & Bicor-None\\_signum0.603\\_minSize6\\_merge\\_ME\\_0.9\\_20151 \\\\\n",
       "\t CR         &  2.815665e-04 &  2.011270e-02 & orange1       & Bicor-None\\_signum0.603\\_minSize6\\_merge\\_ME\\_0.9\\_20151 \\\\\n",
       "\\end{tabular}\n"
      ],
      "text/markdown": [
       "\n",
       "A grouped_df: 22 × 5\n",
       "\n",
       "| Cell_type &lt;chr&gt; | Pval &lt;dbl&gt; | Qval &lt;dbl&gt; | Module &lt;chr&gt; | Network &lt;chr&gt; |\n",
       "|---|---|---|---|---|\n",
       "| Macrophage | 2.272702e-322 | 1.136396e-317 | brown         | Bicor-None_signum0.474_minSize8_merge_ME_0.9_20151  |\n",
       "| Astro      | 5.945692e-226 | 1.351348e-222 | turquoise     | Bicor-None_signum0.474_minSize8_merge_ME_0.9_20151  |\n",
       "| Endo       | 2.879982e-222 | 6.000202e-219 | pink          | Bicor-None_signum0.787_minSize4_merge_ME_0.9_20151  |\n",
       "| Oligo      | 4.337679e-144 | 3.388947e-141 | royalblue     | Bicor-None_signum0.892_minSize5_merge_ME_0.9_20151  |\n",
       "| VLMC       | 7.140103e-125 | 4.301439e-122 | midnightblue  | Bicor-None_signum0.603_minSize6_merge_ME_0.9_20151  |\n",
       "| SMC        |  5.657718e-88 |  2.746575e-85 | lightpink3    | Bicor-None_signum0.603_minSize6_merge_ME_0.9_20151  |\n",
       "| Peri       |  2.883049e-61 |  1.162566e-58 | yellowgreen   | Bicor-None_signum0.892_minSize4_merge_ME_0.9_20151  |\n",
       "| NP         |  2.776951e-36 |  1.059947e-33 | salmon        | Bicor-None_signum0.474_minSize10_merge_ME_0.9_20151 |\n",
       "| L6_CT      |  7.254142e-29 |  2.340139e-26 | paleturquoise | Bicor-None_signum0.892_minSize3_merge_ME_0.9_20151  |\n",
       "| Sst        |  1.816018e-27 |  5.747123e-25 | black         | Bicor-None_signum0.787_minSize5_merge_ME_0.9_20151  |\n",
       "| Lamp5      |  1.264298e-26 |  3.878371e-24 | red           | Bicor-None_signum0.603_minSize6_merge_ME_0.9_20151  |\n",
       "| Pvalb      |  3.022650e-26 |  9.104732e-24 | tan           | Bicor-None_signum0.603_minSize8_merge_ME_0.9_20151  |\n",
       "| L6_IT      |  1.041511e-20 |  2.616965e-18 | mediumpurple3 | Bicor-None_signum0.892_minSize3_merge_ME_0.9_20151  |\n",
       "| L5_IT      |  2.405789e-17 |  5.033232e-15 | brown         | Bicor-None_signum0.892_minSize8_merge_ME_0.9_20151  |\n",
       "| Sncg       |  4.412621e-17 |  9.079831e-15 | darkgoldenrod | Bicor-None_signum0.526_minSize8_merge_ME_0.9_20151  |\n",
       "| Serpinf1   |  1.604448e-16 |  3.196240e-14 | dodgerblue3   | Bicor-None_signum0.474_minSize8_merge_ME_0.9_20151  |\n",
       "| L2_3_IT    |  1.479558e-15 |  2.690214e-13 | paleturquoise | Bicor-None_signum0.892_minSize4_merge_ME_0.9_20151  |\n",
       "| Vip        |  2.269228e-14 |  3.899173e-12 | lightyellow   | Bicor-None_signum0.526_minSize10_merge_ME_0.9_20151 |\n",
       "| L5_PT      |  1.200642e-09 |  1.516022e-07 | yellowgreen   | Bicor-None_signum0.892_minSize3_merge_ME_0.9_20151  |\n",
       "| L6b        |  3.447905e-09 |  4.204930e-07 | chocolate3    | Bicor-None_signum0.787_minSize4_merge_ME_0.9_20151  |\n",
       "| Meis2      |  2.222831e-04 |  1.615494e-02 | mistyrose1    | Bicor-None_signum0.603_minSize6_merge_ME_0.9_20151  |\n",
       "| CR         |  2.815665e-04 |  2.011270e-02 | orange1       | Bicor-None_signum0.603_minSize6_merge_ME_0.9_20151  |\n",
       "\n"
      ],
      "text/plain": [
       "   Cell_type  Pval          Qval          Module       \n",
       "1  Macrophage 2.272702e-322 1.136396e-317 brown        \n",
       "2  Astro      5.945692e-226 1.351348e-222 turquoise    \n",
       "3  Endo       2.879982e-222 6.000202e-219 pink         \n",
       "4  Oligo      4.337679e-144 3.388947e-141 royalblue    \n",
       "5  VLMC       7.140103e-125 4.301439e-122 midnightblue \n",
       "6  SMC         5.657718e-88  2.746575e-85 lightpink3   \n",
       "7  Peri        2.883049e-61  1.162566e-58 yellowgreen  \n",
       "8  NP          2.776951e-36  1.059947e-33 salmon       \n",
       "9  L6_CT       7.254142e-29  2.340139e-26 paleturquoise\n",
       "10 Sst         1.816018e-27  5.747123e-25 black        \n",
       "11 Lamp5       1.264298e-26  3.878371e-24 red          \n",
       "12 Pvalb       3.022650e-26  9.104732e-24 tan          \n",
       "13 L6_IT       1.041511e-20  2.616965e-18 mediumpurple3\n",
       "14 L5_IT       2.405789e-17  5.033232e-15 brown        \n",
       "15 Sncg        4.412621e-17  9.079831e-15 darkgoldenrod\n",
       "16 Serpinf1    1.604448e-16  3.196240e-14 dodgerblue3  \n",
       "17 L2_3_IT     1.479558e-15  2.690214e-13 paleturquoise\n",
       "18 Vip         2.269228e-14  3.899173e-12 lightyellow  \n",
       "19 L5_PT       1.200642e-09  1.516022e-07 yellowgreen  \n",
       "20 L6b         3.447905e-09  4.204930e-07 chocolate3   \n",
       "21 Meis2       2.222831e-04  1.615494e-02 mistyrose1   \n",
       "22 CR          2.815665e-04  2.011270e-02 orange1      \n",
       "   Network                                            \n",
       "1  Bicor-None_signum0.474_minSize8_merge_ME_0.9_20151 \n",
       "2  Bicor-None_signum0.474_minSize8_merge_ME_0.9_20151 \n",
       "3  Bicor-None_signum0.787_minSize4_merge_ME_0.9_20151 \n",
       "4  Bicor-None_signum0.892_minSize5_merge_ME_0.9_20151 \n",
       "5  Bicor-None_signum0.603_minSize6_merge_ME_0.9_20151 \n",
       "6  Bicor-None_signum0.603_minSize6_merge_ME_0.9_20151 \n",
       "7  Bicor-None_signum0.892_minSize4_merge_ME_0.9_20151 \n",
       "8  Bicor-None_signum0.474_minSize10_merge_ME_0.9_20151\n",
       "9  Bicor-None_signum0.892_minSize3_merge_ME_0.9_20151 \n",
       "10 Bicor-None_signum0.787_minSize5_merge_ME_0.9_20151 \n",
       "11 Bicor-None_signum0.603_minSize6_merge_ME_0.9_20151 \n",
       "12 Bicor-None_signum0.603_minSize8_merge_ME_0.9_20151 \n",
       "13 Bicor-None_signum0.892_minSize3_merge_ME_0.9_20151 \n",
       "14 Bicor-None_signum0.892_minSize8_merge_ME_0.9_20151 \n",
       "15 Bicor-None_signum0.526_minSize8_merge_ME_0.9_20151 \n",
       "16 Bicor-None_signum0.474_minSize8_merge_ME_0.9_20151 \n",
       "17 Bicor-None_signum0.892_minSize4_merge_ME_0.9_20151 \n",
       "18 Bicor-None_signum0.526_minSize10_merge_ME_0.9_20151\n",
       "19 Bicor-None_signum0.892_minSize3_merge_ME_0.9_20151 \n",
       "20 Bicor-None_signum0.787_minSize4_merge_ME_0.9_20151 \n",
       "21 Bicor-None_signum0.603_minSize6_merge_ME_0.9_20151 \n",
       "22 Bicor-None_signum0.603_minSize6_merge_ME_0.9_20151 "
      ]
     },
     "metadata": {},
     "output_type": "display_data"
    }
   ],
   "source": [
    "mean_top_mods_df[,c(\"Cell_type\", \"Pval\", \"Qval\", \"Module\", \"Network\")]"
   ]
  },
  {
   "cell_type": "markdown",
   "id": "ef3a3af6",
   "metadata": {},
   "source": [
    "### Compare enrichment results"
   ]
  },
  {
   "cell_type": "code",
   "execution_count": 30,
   "id": "d4cdd2ff",
   "metadata": {
    "vscode": {
     "languageId": "r"
    }
   },
   "outputs": [],
   "source": [
    "pooled_top_mods_df$Network_short <- gsub(\"Bicor-None_\", \"\", gsub(\"_merge_ME_0.9_20151\", \"\", pooled_top_mods_df$Network))\n",
    "pairwise_top_mods_df$Network_short <- gsub(\"Bicor-None_\", \"\", gsub(\"_merge_ME_0.9_20151\", \"\", pairwise_top_mods_df$Network))\n",
    "mean_top_mods_df$Network_short <- gsub(\"Bicor-None_\", \"\", gsub(\"_merge_ME_0.9_20151\", \"\", mean_top_mods_df$Network))\n",
    "\n",
    "cols <- c(\"Cell_type\", \"Qval\", \"Module\", \"Network_short\")\n",
    "\n",
    "all_top_mods_df <- merge(\n",
    "    merge(\n",
    "        pooled_top_mods_df[,cols], \n",
    "        pairwise_top_mods_df[,cols], \n",
    "        by=\"Cell_type\", all=TRUE\n",
    "    ), \n",
    "    mean_top_mods_df[,cols], by=\"Cell_type\", all=TRUE\n",
    ")"
   ]
  },
  {
   "cell_type": "code",
   "execution_count": 31,
   "id": "6a9404c7",
   "metadata": {
    "vscode": {
     "languageId": "r"
    }
   },
   "outputs": [
    {
     "data": {
      "text/html": [
       "<table class=\"dataframe\">\n",
       "<caption>A data.frame: 22 × 10</caption>\n",
       "<thead>\n",
       "\t<tr><th scope=col>Cell_type</th><th scope=col>Module</th><th scope=col>Module.x</th><th scope=col>Module.y</th><th scope=col>Network_short</th><th scope=col>Network_short.x</th><th scope=col>Network_short.y</th><th scope=col>Qval</th><th scope=col>Qval.x</th><th scope=col>Qval.y</th></tr>\n",
       "\t<tr><th scope=col>&lt;chr&gt;</th><th scope=col>&lt;chr&gt;</th><th scope=col>&lt;chr&gt;</th><th scope=col>&lt;chr&gt;</th><th scope=col>&lt;chr&gt;</th><th scope=col>&lt;chr&gt;</th><th scope=col>&lt;chr&gt;</th><th scope=col>&lt;dbl&gt;</th><th scope=col>&lt;dbl&gt;</th><th scope=col>&lt;dbl&gt;</th></tr>\n",
       "</thead>\n",
       "<tbody>\n",
       "\t<tr><td>Astro     </td><td>turquoise    </td><td>turquoise     </td><td>turquoise    </td><td>signum0.474_minSize8 </td><td>signum0.474_minSize8</td><td>signum0.474_minSize10</td><td>1.351348e-222</td><td>2.809595e-183</td><td> 0.000000e+00</td></tr>\n",
       "\t<tr><td>CR        </td><td>orange1      </td><td>red1          </td><td>NA           </td><td>signum0.603_minSize6 </td><td>signum0.603_minSize6</td><td>NA                   </td><td> 2.011270e-02</td><td> 1.564061e-02</td><td>           NA</td></tr>\n",
       "\t<tr><td>Endo      </td><td>pink         </td><td>red           </td><td>red          </td><td>signum0.787_minSize4 </td><td>signum0.474_minSize8</td><td>signum0.474_minSize10</td><td>6.000202e-219</td><td>3.831117e-229</td><td> 0.000000e+00</td></tr>\n",
       "\t<tr><td>L2_3_IT   </td><td>paleturquoise</td><td>paleturquoise </td><td>paleturquoise</td><td>signum0.892_minSize4 </td><td>signum0.892_minSize4</td><td>signum0.892_minSize4 </td><td> 2.690214e-13</td><td> 1.097995e-07</td><td> 3.517381e-10</td></tr>\n",
       "\t<tr><td>L5_IT     </td><td>brown        </td><td>yellow        </td><td>green        </td><td>signum0.892_minSize8 </td><td>signum0.603_minSize8</td><td>signum0.526_minSize8 </td><td> 5.033232e-15</td><td> 1.355924e-16</td><td> 9.607871e-20</td></tr>\n",
       "\t<tr><td>L5_PT     </td><td>yellowgreen  </td><td>lightblue1    </td><td>lightblue1   </td><td>signum0.892_minSize3 </td><td>signum0.474_minSize8</td><td>signum0.474_minSize8 </td><td> 1.516022e-07</td><td> 4.788948e-07</td><td> 2.453568e-03</td></tr>\n",
       "\t<tr><td>L6_CT     </td><td>paleturquoise</td><td>paleturquoise </td><td>thistle1     </td><td>signum0.892_minSize3 </td><td>signum0.892_minSize3</td><td>signum0.474_minSize8 </td><td> 2.340139e-26</td><td> 2.149247e-19</td><td> 2.392503e-14</td></tr>\n",
       "\t<tr><td>L6_IT     </td><td>mediumpurple3</td><td>navajowhite2  </td><td>skyblue1     </td><td>signum0.892_minSize3 </td><td>signum0.787_minSize6</td><td>signum0.526_minSize8 </td><td> 2.616965e-18</td><td> 4.624310e-12</td><td> 4.149818e-21</td></tr>\n",
       "\t<tr><td>L6b       </td><td>chocolate3   </td><td>chocolate3    </td><td>skyblue      </td><td>signum0.787_minSize4 </td><td>signum0.787_minSize4</td><td>signum0.94_minSize3  </td><td> 4.204930e-07</td><td> 1.995073e-03</td><td> 1.142985e-03</td></tr>\n",
       "\t<tr><td>Lamp5     </td><td>red          </td><td>midnightblue  </td><td>red          </td><td>signum0.603_minSize6 </td><td>signum0.474_minSize8</td><td>signum0.603_minSize6 </td><td> 3.878371e-24</td><td> 1.047361e-17</td><td> 6.169646e-39</td></tr>\n",
       "\t<tr><td>Macrophage</td><td>brown        </td><td>brown         </td><td>yellow       </td><td>signum0.474_minSize8 </td><td>signum0.474_minSize8</td><td>signum0.474_minSize10</td><td>1.136396e-317</td><td>1.688385e-298</td><td> 0.000000e+00</td></tr>\n",
       "\t<tr><td>Meis2     </td><td>mistyrose1   </td><td>palevioletred2</td><td>NA           </td><td>signum0.603_minSize6 </td><td>signum0.787_minSize5</td><td>NA                   </td><td> 1.615494e-02</td><td> 5.220293e-04</td><td>           NA</td></tr>\n",
       "\t<tr><td>NP        </td><td>salmon       </td><td>tan           </td><td>salmon       </td><td>signum0.474_minSize10</td><td>signum0.787_minSize5</td><td>signum0.474_minSize10</td><td> 1.059947e-33</td><td> 1.964150e-32</td><td> 3.040129e-21</td></tr>\n",
       "\t<tr><td>Oligo     </td><td>royalblue    </td><td>black         </td><td>greenyellow  </td><td>signum0.892_minSize5 </td><td>signum0.474_minSize8</td><td>signum0.892_minSize3 </td><td>3.388947e-141</td><td>2.082543e-125</td><td>2.789931e-202</td></tr>\n",
       "\t<tr><td>Peri      </td><td>yellowgreen  </td><td>yellowgreen   </td><td>deepskyblue  </td><td>signum0.892_minSize4 </td><td>signum0.892_minSize4</td><td>signum0.603_minSize6 </td><td> 1.162566e-58</td><td> 6.642179e-35</td><td> 1.166756e-02</td></tr>\n",
       "\t<tr><td>Pvalb     </td><td>tan          </td><td>greenyellow   </td><td>tan          </td><td>signum0.603_minSize8 </td><td>signum0.474_minSize8</td><td>signum0.603_minSize10</td><td> 9.104732e-24</td><td> 2.033826e-13</td><td> 3.263975e-39</td></tr>\n",
       "\t<tr><td>Serpinf1  </td><td>dodgerblue3  </td><td>dodgerblue3   </td><td>dodgerblue3  </td><td>signum0.474_minSize8 </td><td>signum0.474_minSize8</td><td>signum0.474_minSize8 </td><td> 3.196240e-14</td><td> 1.780921e-10</td><td> 1.601312e-09</td></tr>\n",
       "\t<tr><td>SMC       </td><td>lightpink3   </td><td>lightpink3    </td><td>tomato       </td><td>signum0.603_minSize6 </td><td>signum0.603_minSize6</td><td>signum0.474_minSize10</td><td> 2.746575e-85</td><td> 4.109686e-75</td><td> 3.220646e-90</td></tr>\n",
       "\t<tr><td>Sncg      </td><td>darkgoldenrod</td><td>orangered4    </td><td>darkgoldenrod</td><td>signum0.526_minSize8 </td><td>signum0.892_minSize4</td><td>signum0.526_minSize8 </td><td> 9.079831e-15</td><td> 2.102207e-14</td><td> 1.282898e-25</td></tr>\n",
       "\t<tr><td>Sst       </td><td>black        </td><td>black         </td><td>black        </td><td>signum0.787_minSize5 </td><td>signum0.787_minSize5</td><td>signum0.892_minSize4 </td><td> 5.747123e-25</td><td> 1.280549e-16</td><td> 8.462078e-33</td></tr>\n",
       "\t<tr><td>Vip       </td><td>lightyellow  </td><td>midnightblue  </td><td>lightyellow  </td><td>signum0.526_minSize10</td><td>signum0.603_minSize8</td><td>signum0.526_minSize10</td><td> 3.899173e-12</td><td> 6.645166e-17</td><td> 9.804890e-24</td></tr>\n",
       "\t<tr><td>VLMC      </td><td>midnightblue </td><td>salmon        </td><td>purple       </td><td>signum0.603_minSize6 </td><td>signum0.526_minSize8</td><td>signum0.474_minSize10</td><td>4.301439e-122</td><td>2.015204e-116</td><td>4.997325e-133</td></tr>\n",
       "</tbody>\n",
       "</table>\n"
      ],
      "text/latex": [
       "A data.frame: 22 × 10\n",
       "\\begin{tabular}{llllllllll}\n",
       " Cell\\_type & Module & Module.x & Module.y & Network\\_short & Network\\_short.x & Network\\_short.y & Qval & Qval.x & Qval.y\\\\\n",
       " <chr> & <chr> & <chr> & <chr> & <chr> & <chr> & <chr> & <dbl> & <dbl> & <dbl>\\\\\n",
       "\\hline\n",
       "\t Astro      & turquoise     & turquoise      & turquoise     & signum0.474\\_minSize8  & signum0.474\\_minSize8 & signum0.474\\_minSize10 & 1.351348e-222 & 2.809595e-183 &  0.000000e+00\\\\\n",
       "\t CR         & orange1       & red1           & NA            & signum0.603\\_minSize6  & signum0.603\\_minSize6 & NA                    &  2.011270e-02 &  1.564061e-02 &            NA\\\\\n",
       "\t Endo       & pink          & red            & red           & signum0.787\\_minSize4  & signum0.474\\_minSize8 & signum0.474\\_minSize10 & 6.000202e-219 & 3.831117e-229 &  0.000000e+00\\\\\n",
       "\t L2\\_3\\_IT    & paleturquoise & paleturquoise  & paleturquoise & signum0.892\\_minSize4  & signum0.892\\_minSize4 & signum0.892\\_minSize4  &  2.690214e-13 &  1.097995e-07 &  3.517381e-10\\\\\n",
       "\t L5\\_IT      & brown         & yellow         & green         & signum0.892\\_minSize8  & signum0.603\\_minSize8 & signum0.526\\_minSize8  &  5.033232e-15 &  1.355924e-16 &  9.607871e-20\\\\\n",
       "\t L5\\_PT      & yellowgreen   & lightblue1     & lightblue1    & signum0.892\\_minSize3  & signum0.474\\_minSize8 & signum0.474\\_minSize8  &  1.516022e-07 &  4.788948e-07 &  2.453568e-03\\\\\n",
       "\t L6\\_CT      & paleturquoise & paleturquoise  & thistle1      & signum0.892\\_minSize3  & signum0.892\\_minSize3 & signum0.474\\_minSize8  &  2.340139e-26 &  2.149247e-19 &  2.392503e-14\\\\\n",
       "\t L6\\_IT      & mediumpurple3 & navajowhite2   & skyblue1      & signum0.892\\_minSize3  & signum0.787\\_minSize6 & signum0.526\\_minSize8  &  2.616965e-18 &  4.624310e-12 &  4.149818e-21\\\\\n",
       "\t L6b        & chocolate3    & chocolate3     & skyblue       & signum0.787\\_minSize4  & signum0.787\\_minSize4 & signum0.94\\_minSize3   &  4.204930e-07 &  1.995073e-03 &  1.142985e-03\\\\\n",
       "\t Lamp5      & red           & midnightblue   & red           & signum0.603\\_minSize6  & signum0.474\\_minSize8 & signum0.603\\_minSize6  &  3.878371e-24 &  1.047361e-17 &  6.169646e-39\\\\\n",
       "\t Macrophage & brown         & brown          & yellow        & signum0.474\\_minSize8  & signum0.474\\_minSize8 & signum0.474\\_minSize10 & 1.136396e-317 & 1.688385e-298 &  0.000000e+00\\\\\n",
       "\t Meis2      & mistyrose1    & palevioletred2 & NA            & signum0.603\\_minSize6  & signum0.787\\_minSize5 & NA                    &  1.615494e-02 &  5.220293e-04 &            NA\\\\\n",
       "\t NP         & salmon        & tan            & salmon        & signum0.474\\_minSize10 & signum0.787\\_minSize5 & signum0.474\\_minSize10 &  1.059947e-33 &  1.964150e-32 &  3.040129e-21\\\\\n",
       "\t Oligo      & royalblue     & black          & greenyellow   & signum0.892\\_minSize5  & signum0.474\\_minSize8 & signum0.892\\_minSize3  & 3.388947e-141 & 2.082543e-125 & 2.789931e-202\\\\\n",
       "\t Peri       & yellowgreen   & yellowgreen    & deepskyblue   & signum0.892\\_minSize4  & signum0.892\\_minSize4 & signum0.603\\_minSize6  &  1.162566e-58 &  6.642179e-35 &  1.166756e-02\\\\\n",
       "\t Pvalb      & tan           & greenyellow    & tan           & signum0.603\\_minSize8  & signum0.474\\_minSize8 & signum0.603\\_minSize10 &  9.104732e-24 &  2.033826e-13 &  3.263975e-39\\\\\n",
       "\t Serpinf1   & dodgerblue3   & dodgerblue3    & dodgerblue3   & signum0.474\\_minSize8  & signum0.474\\_minSize8 & signum0.474\\_minSize8  &  3.196240e-14 &  1.780921e-10 &  1.601312e-09\\\\\n",
       "\t SMC        & lightpink3    & lightpink3     & tomato        & signum0.603\\_minSize6  & signum0.603\\_minSize6 & signum0.474\\_minSize10 &  2.746575e-85 &  4.109686e-75 &  3.220646e-90\\\\\n",
       "\t Sncg       & darkgoldenrod & orangered4     & darkgoldenrod & signum0.526\\_minSize8  & signum0.892\\_minSize4 & signum0.526\\_minSize8  &  9.079831e-15 &  2.102207e-14 &  1.282898e-25\\\\\n",
       "\t Sst        & black         & black          & black         & signum0.787\\_minSize5  & signum0.787\\_minSize5 & signum0.892\\_minSize4  &  5.747123e-25 &  1.280549e-16 &  8.462078e-33\\\\\n",
       "\t Vip        & lightyellow   & midnightblue   & lightyellow   & signum0.526\\_minSize10 & signum0.603\\_minSize8 & signum0.526\\_minSize10 &  3.899173e-12 &  6.645166e-17 &  9.804890e-24\\\\\n",
       "\t VLMC       & midnightblue  & salmon         & purple        & signum0.603\\_minSize6  & signum0.526\\_minSize8 & signum0.474\\_minSize10 & 4.301439e-122 & 2.015204e-116 & 4.997325e-133\\\\\n",
       "\\end{tabular}\n"
      ],
      "text/markdown": [
       "\n",
       "A data.frame: 22 × 10\n",
       "\n",
       "| Cell_type &lt;chr&gt; | Module &lt;chr&gt; | Module.x &lt;chr&gt; | Module.y &lt;chr&gt; | Network_short &lt;chr&gt; | Network_short.x &lt;chr&gt; | Network_short.y &lt;chr&gt; | Qval &lt;dbl&gt; | Qval.x &lt;dbl&gt; | Qval.y &lt;dbl&gt; |\n",
       "|---|---|---|---|---|---|---|---|---|---|\n",
       "| Astro      | turquoise     | turquoise      | turquoise     | signum0.474_minSize8  | signum0.474_minSize8 | signum0.474_minSize10 | 1.351348e-222 | 2.809595e-183 |  0.000000e+00 |\n",
       "| CR         | orange1       | red1           | NA            | signum0.603_minSize6  | signum0.603_minSize6 | NA                    |  2.011270e-02 |  1.564061e-02 |            NA |\n",
       "| Endo       | pink          | red            | red           | signum0.787_minSize4  | signum0.474_minSize8 | signum0.474_minSize10 | 6.000202e-219 | 3.831117e-229 |  0.000000e+00 |\n",
       "| L2_3_IT    | paleturquoise | paleturquoise  | paleturquoise | signum0.892_minSize4  | signum0.892_minSize4 | signum0.892_minSize4  |  2.690214e-13 |  1.097995e-07 |  3.517381e-10 |\n",
       "| L5_IT      | brown         | yellow         | green         | signum0.892_minSize8  | signum0.603_minSize8 | signum0.526_minSize8  |  5.033232e-15 |  1.355924e-16 |  9.607871e-20 |\n",
       "| L5_PT      | yellowgreen   | lightblue1     | lightblue1    | signum0.892_minSize3  | signum0.474_minSize8 | signum0.474_minSize8  |  1.516022e-07 |  4.788948e-07 |  2.453568e-03 |\n",
       "| L6_CT      | paleturquoise | paleturquoise  | thistle1      | signum0.892_minSize3  | signum0.892_minSize3 | signum0.474_minSize8  |  2.340139e-26 |  2.149247e-19 |  2.392503e-14 |\n",
       "| L6_IT      | mediumpurple3 | navajowhite2   | skyblue1      | signum0.892_minSize3  | signum0.787_minSize6 | signum0.526_minSize8  |  2.616965e-18 |  4.624310e-12 |  4.149818e-21 |\n",
       "| L6b        | chocolate3    | chocolate3     | skyblue       | signum0.787_minSize4  | signum0.787_minSize4 | signum0.94_minSize3   |  4.204930e-07 |  1.995073e-03 |  1.142985e-03 |\n",
       "| Lamp5      | red           | midnightblue   | red           | signum0.603_minSize6  | signum0.474_minSize8 | signum0.603_minSize6  |  3.878371e-24 |  1.047361e-17 |  6.169646e-39 |\n",
       "| Macrophage | brown         | brown          | yellow        | signum0.474_minSize8  | signum0.474_minSize8 | signum0.474_minSize10 | 1.136396e-317 | 1.688385e-298 |  0.000000e+00 |\n",
       "| Meis2      | mistyrose1    | palevioletred2 | NA            | signum0.603_minSize6  | signum0.787_minSize5 | NA                    |  1.615494e-02 |  5.220293e-04 |            NA |\n",
       "| NP         | salmon        | tan            | salmon        | signum0.474_minSize10 | signum0.787_minSize5 | signum0.474_minSize10 |  1.059947e-33 |  1.964150e-32 |  3.040129e-21 |\n",
       "| Oligo      | royalblue     | black          | greenyellow   | signum0.892_minSize5  | signum0.474_minSize8 | signum0.892_minSize3  | 3.388947e-141 | 2.082543e-125 | 2.789931e-202 |\n",
       "| Peri       | yellowgreen   | yellowgreen    | deepskyblue   | signum0.892_minSize4  | signum0.892_minSize4 | signum0.603_minSize6  |  1.162566e-58 |  6.642179e-35 |  1.166756e-02 |\n",
       "| Pvalb      | tan           | greenyellow    | tan           | signum0.603_minSize8  | signum0.474_minSize8 | signum0.603_minSize10 |  9.104732e-24 |  2.033826e-13 |  3.263975e-39 |\n",
       "| Serpinf1   | dodgerblue3   | dodgerblue3    | dodgerblue3   | signum0.474_minSize8  | signum0.474_minSize8 | signum0.474_minSize8  |  3.196240e-14 |  1.780921e-10 |  1.601312e-09 |\n",
       "| SMC        | lightpink3    | lightpink3     | tomato        | signum0.603_minSize6  | signum0.603_minSize6 | signum0.474_minSize10 |  2.746575e-85 |  4.109686e-75 |  3.220646e-90 |\n",
       "| Sncg       | darkgoldenrod | orangered4     | darkgoldenrod | signum0.526_minSize8  | signum0.892_minSize4 | signum0.526_minSize8  |  9.079831e-15 |  2.102207e-14 |  1.282898e-25 |\n",
       "| Sst        | black         | black          | black         | signum0.787_minSize5  | signum0.787_minSize5 | signum0.892_minSize4  |  5.747123e-25 |  1.280549e-16 |  8.462078e-33 |\n",
       "| Vip        | lightyellow   | midnightblue   | lightyellow   | signum0.526_minSize10 | signum0.603_minSize8 | signum0.526_minSize10 |  3.899173e-12 |  6.645166e-17 |  9.804890e-24 |\n",
       "| VLMC       | midnightblue  | salmon         | purple        | signum0.603_minSize6  | signum0.526_minSize8 | signum0.474_minSize10 | 4.301439e-122 | 2.015204e-116 | 4.997325e-133 |\n",
       "\n"
      ],
      "text/plain": [
       "   Cell_type  Module        Module.x       Module.y      Network_short        \n",
       "1  Astro      turquoise     turquoise      turquoise     signum0.474_minSize8 \n",
       "2  CR         orange1       red1           NA            signum0.603_minSize6 \n",
       "3  Endo       pink          red            red           signum0.787_minSize4 \n",
       "4  L2_3_IT    paleturquoise paleturquoise  paleturquoise signum0.892_minSize4 \n",
       "5  L5_IT      brown         yellow         green         signum0.892_minSize8 \n",
       "6  L5_PT      yellowgreen   lightblue1     lightblue1    signum0.892_minSize3 \n",
       "7  L6_CT      paleturquoise paleturquoise  thistle1      signum0.892_minSize3 \n",
       "8  L6_IT      mediumpurple3 navajowhite2   skyblue1      signum0.892_minSize3 \n",
       "9  L6b        chocolate3    chocolate3     skyblue       signum0.787_minSize4 \n",
       "10 Lamp5      red           midnightblue   red           signum0.603_minSize6 \n",
       "11 Macrophage brown         brown          yellow        signum0.474_minSize8 \n",
       "12 Meis2      mistyrose1    palevioletred2 NA            signum0.603_minSize6 \n",
       "13 NP         salmon        tan            salmon        signum0.474_minSize10\n",
       "14 Oligo      royalblue     black          greenyellow   signum0.892_minSize5 \n",
       "15 Peri       yellowgreen   yellowgreen    deepskyblue   signum0.892_minSize4 \n",
       "16 Pvalb      tan           greenyellow    tan           signum0.603_minSize8 \n",
       "17 Serpinf1   dodgerblue3   dodgerblue3    dodgerblue3   signum0.474_minSize8 \n",
       "18 SMC        lightpink3    lightpink3     tomato        signum0.603_minSize6 \n",
       "19 Sncg       darkgoldenrod orangered4     darkgoldenrod signum0.526_minSize8 \n",
       "20 Sst        black         black          black         signum0.787_minSize5 \n",
       "21 Vip        lightyellow   midnightblue   lightyellow   signum0.526_minSize10\n",
       "22 VLMC       midnightblue  salmon         purple        signum0.603_minSize6 \n",
       "   Network_short.x      Network_short.y       Qval          Qval.x       \n",
       "1  signum0.474_minSize8 signum0.474_minSize10 1.351348e-222 2.809595e-183\n",
       "2  signum0.603_minSize6 NA                     2.011270e-02  1.564061e-02\n",
       "3  signum0.474_minSize8 signum0.474_minSize10 6.000202e-219 3.831117e-229\n",
       "4  signum0.892_minSize4 signum0.892_minSize4   2.690214e-13  1.097995e-07\n",
       "5  signum0.603_minSize8 signum0.526_minSize8   5.033232e-15  1.355924e-16\n",
       "6  signum0.474_minSize8 signum0.474_minSize8   1.516022e-07  4.788948e-07\n",
       "7  signum0.892_minSize3 signum0.474_minSize8   2.340139e-26  2.149247e-19\n",
       "8  signum0.787_minSize6 signum0.526_minSize8   2.616965e-18  4.624310e-12\n",
       "9  signum0.787_minSize4 signum0.94_minSize3    4.204930e-07  1.995073e-03\n",
       "10 signum0.474_minSize8 signum0.603_minSize6   3.878371e-24  1.047361e-17\n",
       "11 signum0.474_minSize8 signum0.474_minSize10 1.136396e-317 1.688385e-298\n",
       "12 signum0.787_minSize5 NA                     1.615494e-02  5.220293e-04\n",
       "13 signum0.787_minSize5 signum0.474_minSize10  1.059947e-33  1.964150e-32\n",
       "14 signum0.474_minSize8 signum0.892_minSize3  3.388947e-141 2.082543e-125\n",
       "15 signum0.892_minSize4 signum0.603_minSize6   1.162566e-58  6.642179e-35\n",
       "16 signum0.474_minSize8 signum0.603_minSize10  9.104732e-24  2.033826e-13\n",
       "17 signum0.474_minSize8 signum0.474_minSize8   3.196240e-14  1.780921e-10\n",
       "18 signum0.603_minSize6 signum0.474_minSize10  2.746575e-85  4.109686e-75\n",
       "19 signum0.892_minSize4 signum0.526_minSize8   9.079831e-15  2.102207e-14\n",
       "20 signum0.787_minSize5 signum0.892_minSize4   5.747123e-25  1.280549e-16\n",
       "21 signum0.603_minSize8 signum0.526_minSize10  3.899173e-12  6.645166e-17\n",
       "22 signum0.526_minSize8 signum0.474_minSize10 4.301439e-122 2.015204e-116\n",
       "   Qval.y       \n",
       "1   0.000000e+00\n",
       "2             NA\n",
       "3   0.000000e+00\n",
       "4   3.517381e-10\n",
       "5   9.607871e-20\n",
       "6   2.453568e-03\n",
       "7   2.392503e-14\n",
       "8   4.149818e-21\n",
       "9   1.142985e-03\n",
       "10  6.169646e-39\n",
       "11  0.000000e+00\n",
       "12            NA\n",
       "13  3.040129e-21\n",
       "14 2.789931e-202\n",
       "15  1.166756e-02\n",
       "16  3.263975e-39\n",
       "17  1.601312e-09\n",
       "18  3.220646e-90\n",
       "19  1.282898e-25\n",
       "20  8.462078e-33\n",
       "21  9.804890e-24\n",
       "22 4.997325e-133"
      ]
     },
     "metadata": {},
     "output_type": "display_data"
    }
   ],
   "source": [
    "all_top_mods_df <- all_top_mods_df[,order(colnames(all_top_mods_df))]\n",
    "all_top_mods_df"
   ]
  },
  {
   "cell_type": "markdown",
   "id": "92968296",
   "metadata": {},
   "source": [
    "### Select the module from the lowest Qval per cell type"
   ]
  },
  {
   "cell_type": "code",
   "execution_count": 32,
   "id": "1b335611",
   "metadata": {
    "vscode": {
     "languageId": "r"
    }
   },
   "outputs": [],
   "source": [
    "cols <- c(\"Cell_type\", \"Qval\", \"Module\", \"Network_short\")"
   ]
  },
  {
   "cell_type": "code",
   "execution_count": 33,
   "id": "7c46bf68",
   "metadata": {
    "vscode": {
     "languageId": "r"
    }
   },
   "outputs": [],
   "source": [
    "# Select the module from the lowest Qval per cell type\n",
    "\n",
    "pooled_top_mods_df$DE_Test <- \"Pooled\"\n",
    "pairwise_top_mods_df$DE_Test <- \"Pairwise\"\n",
    "mean_top_mods_df$DE_Test <- \"Mean\"\n",
    "\n",
    "all_top_mods_df <- rbind(pooled_top_mods_df, pairwise_top_mods_df, mean_top_mods_df)"
   ]
  },
  {
   "cell_type": "code",
   "execution_count": 34,
   "id": "a74dab3b",
   "metadata": {
    "vscode": {
     "languageId": "r"
    }
   },
   "outputs": [
    {
     "data": {
      "text/html": [
       "<table class=\"dataframe\">\n",
       "<caption>A grouped_df: 22 × 5</caption>\n",
       "<thead>\n",
       "\t<tr><th scope=col>Cell_type</th><th scope=col>Qval</th><th scope=col>Module</th><th scope=col>Network_short</th><th scope=col>DE_Test</th></tr>\n",
       "\t<tr><th scope=col>&lt;chr&gt;</th><th scope=col>&lt;dbl&gt;</th><th scope=col>&lt;chr&gt;</th><th scope=col>&lt;chr&gt;</th><th scope=col>&lt;chr&gt;</th></tr>\n",
       "</thead>\n",
       "<tbody>\n",
       "\t<tr><td>Astro     </td><td> 0.000000e+00</td><td>turquoise     </td><td>signum0.474_minSize10</td><td>Pairwise</td></tr>\n",
       "\t<tr><td>CR        </td><td> 1.564061e-02</td><td>red1          </td><td>signum0.603_minSize6 </td><td>Pooled  </td></tr>\n",
       "\t<tr><td>Endo      </td><td> 0.000000e+00</td><td>red           </td><td>signum0.474_minSize10</td><td>Pairwise</td></tr>\n",
       "\t<tr><td>L2_3_IT   </td><td> 2.690214e-13</td><td>paleturquoise </td><td>signum0.892_minSize4 </td><td>Mean    </td></tr>\n",
       "\t<tr><td>L5_IT     </td><td> 9.607871e-20</td><td>green         </td><td>signum0.526_minSize8 </td><td>Pairwise</td></tr>\n",
       "\t<tr><td>L5_PT     </td><td> 1.516022e-07</td><td>yellowgreen   </td><td>signum0.892_minSize3 </td><td>Mean    </td></tr>\n",
       "\t<tr><td>L6_CT     </td><td> 2.340139e-26</td><td>paleturquoise </td><td>signum0.892_minSize3 </td><td>Mean    </td></tr>\n",
       "\t<tr><td>L6_IT     </td><td> 4.149818e-21</td><td>skyblue1      </td><td>signum0.526_minSize8 </td><td>Pairwise</td></tr>\n",
       "\t<tr><td>L6b       </td><td> 4.204930e-07</td><td>chocolate3    </td><td>signum0.787_minSize4 </td><td>Mean    </td></tr>\n",
       "\t<tr><td>Lamp5     </td><td> 6.169646e-39</td><td>red           </td><td>signum0.603_minSize6 </td><td>Pairwise</td></tr>\n",
       "\t<tr><td>Macrophage</td><td> 0.000000e+00</td><td>yellow        </td><td>signum0.474_minSize10</td><td>Pairwise</td></tr>\n",
       "\t<tr><td>Meis2     </td><td> 5.220293e-04</td><td>palevioletred2</td><td>signum0.787_minSize5 </td><td>Pooled  </td></tr>\n",
       "\t<tr><td>NP        </td><td> 1.059947e-33</td><td>salmon        </td><td>signum0.474_minSize10</td><td>Mean    </td></tr>\n",
       "\t<tr><td>Oligo     </td><td>2.789931e-202</td><td>greenyellow   </td><td>signum0.892_minSize3 </td><td>Pairwise</td></tr>\n",
       "\t<tr><td>Peri      </td><td> 1.162566e-58</td><td>yellowgreen   </td><td>signum0.892_minSize4 </td><td>Mean    </td></tr>\n",
       "\t<tr><td>Pvalb     </td><td> 3.263975e-39</td><td>tan           </td><td>signum0.603_minSize10</td><td>Pairwise</td></tr>\n",
       "\t<tr><td>SMC       </td><td> 3.220646e-90</td><td>tomato        </td><td>signum0.474_minSize10</td><td>Pairwise</td></tr>\n",
       "\t<tr><td>Serpinf1  </td><td> 3.196240e-14</td><td>dodgerblue3   </td><td>signum0.474_minSize8 </td><td>Mean    </td></tr>\n",
       "\t<tr><td>Sncg      </td><td> 1.282898e-25</td><td>darkgoldenrod </td><td>signum0.526_minSize8 </td><td>Pairwise</td></tr>\n",
       "\t<tr><td>Sst       </td><td> 8.462078e-33</td><td>black         </td><td>signum0.892_minSize4 </td><td>Pairwise</td></tr>\n",
       "\t<tr><td>VLMC      </td><td>4.997325e-133</td><td>purple        </td><td>signum0.474_minSize10</td><td>Pairwise</td></tr>\n",
       "\t<tr><td>Vip       </td><td> 9.804890e-24</td><td>lightyellow   </td><td>signum0.526_minSize10</td><td>Pairwise</td></tr>\n",
       "</tbody>\n",
       "</table>\n"
      ],
      "text/latex": [
       "A grouped\\_df: 22 × 5\n",
       "\\begin{tabular}{lllll}\n",
       " Cell\\_type & Qval & Module & Network\\_short & DE\\_Test\\\\\n",
       " <chr> & <dbl> & <chr> & <chr> & <chr>\\\\\n",
       "\\hline\n",
       "\t Astro      &  0.000000e+00 & turquoise      & signum0.474\\_minSize10 & Pairwise\\\\\n",
       "\t CR         &  1.564061e-02 & red1           & signum0.603\\_minSize6  & Pooled  \\\\\n",
       "\t Endo       &  0.000000e+00 & red            & signum0.474\\_minSize10 & Pairwise\\\\\n",
       "\t L2\\_3\\_IT    &  2.690214e-13 & paleturquoise  & signum0.892\\_minSize4  & Mean    \\\\\n",
       "\t L5\\_IT      &  9.607871e-20 & green          & signum0.526\\_minSize8  & Pairwise\\\\\n",
       "\t L5\\_PT      &  1.516022e-07 & yellowgreen    & signum0.892\\_minSize3  & Mean    \\\\\n",
       "\t L6\\_CT      &  2.340139e-26 & paleturquoise  & signum0.892\\_minSize3  & Mean    \\\\\n",
       "\t L6\\_IT      &  4.149818e-21 & skyblue1       & signum0.526\\_minSize8  & Pairwise\\\\\n",
       "\t L6b        &  4.204930e-07 & chocolate3     & signum0.787\\_minSize4  & Mean    \\\\\n",
       "\t Lamp5      &  6.169646e-39 & red            & signum0.603\\_minSize6  & Pairwise\\\\\n",
       "\t Macrophage &  0.000000e+00 & yellow         & signum0.474\\_minSize10 & Pairwise\\\\\n",
       "\t Meis2      &  5.220293e-04 & palevioletred2 & signum0.787\\_minSize5  & Pooled  \\\\\n",
       "\t NP         &  1.059947e-33 & salmon         & signum0.474\\_minSize10 & Mean    \\\\\n",
       "\t Oligo      & 2.789931e-202 & greenyellow    & signum0.892\\_minSize3  & Pairwise\\\\\n",
       "\t Peri       &  1.162566e-58 & yellowgreen    & signum0.892\\_minSize4  & Mean    \\\\\n",
       "\t Pvalb      &  3.263975e-39 & tan            & signum0.603\\_minSize10 & Pairwise\\\\\n",
       "\t SMC        &  3.220646e-90 & tomato         & signum0.474\\_minSize10 & Pairwise\\\\\n",
       "\t Serpinf1   &  3.196240e-14 & dodgerblue3    & signum0.474\\_minSize8  & Mean    \\\\\n",
       "\t Sncg       &  1.282898e-25 & darkgoldenrod  & signum0.526\\_minSize8  & Pairwise\\\\\n",
       "\t Sst        &  8.462078e-33 & black          & signum0.892\\_minSize4  & Pairwise\\\\\n",
       "\t VLMC       & 4.997325e-133 & purple         & signum0.474\\_minSize10 & Pairwise\\\\\n",
       "\t Vip        &  9.804890e-24 & lightyellow    & signum0.526\\_minSize10 & Pairwise\\\\\n",
       "\\end{tabular}\n"
      ],
      "text/markdown": [
       "\n",
       "A grouped_df: 22 × 5\n",
       "\n",
       "| Cell_type &lt;chr&gt; | Qval &lt;dbl&gt; | Module &lt;chr&gt; | Network_short &lt;chr&gt; | DE_Test &lt;chr&gt; |\n",
       "|---|---|---|---|---|\n",
       "| Astro      |  0.000000e+00 | turquoise      | signum0.474_minSize10 | Pairwise |\n",
       "| CR         |  1.564061e-02 | red1           | signum0.603_minSize6  | Pooled   |\n",
       "| Endo       |  0.000000e+00 | red            | signum0.474_minSize10 | Pairwise |\n",
       "| L2_3_IT    |  2.690214e-13 | paleturquoise  | signum0.892_minSize4  | Mean     |\n",
       "| L5_IT      |  9.607871e-20 | green          | signum0.526_minSize8  | Pairwise |\n",
       "| L5_PT      |  1.516022e-07 | yellowgreen    | signum0.892_minSize3  | Mean     |\n",
       "| L6_CT      |  2.340139e-26 | paleturquoise  | signum0.892_minSize3  | Mean     |\n",
       "| L6_IT      |  4.149818e-21 | skyblue1       | signum0.526_minSize8  | Pairwise |\n",
       "| L6b        |  4.204930e-07 | chocolate3     | signum0.787_minSize4  | Mean     |\n",
       "| Lamp5      |  6.169646e-39 | red            | signum0.603_minSize6  | Pairwise |\n",
       "| Macrophage |  0.000000e+00 | yellow         | signum0.474_minSize10 | Pairwise |\n",
       "| Meis2      |  5.220293e-04 | palevioletred2 | signum0.787_minSize5  | Pooled   |\n",
       "| NP         |  1.059947e-33 | salmon         | signum0.474_minSize10 | Mean     |\n",
       "| Oligo      | 2.789931e-202 | greenyellow    | signum0.892_minSize3  | Pairwise |\n",
       "| Peri       |  1.162566e-58 | yellowgreen    | signum0.892_minSize4  | Mean     |\n",
       "| Pvalb      |  3.263975e-39 | tan            | signum0.603_minSize10 | Pairwise |\n",
       "| SMC        |  3.220646e-90 | tomato         | signum0.474_minSize10 | Pairwise |\n",
       "| Serpinf1   |  3.196240e-14 | dodgerblue3    | signum0.474_minSize8  | Mean     |\n",
       "| Sncg       |  1.282898e-25 | darkgoldenrod  | signum0.526_minSize8  | Pairwise |\n",
       "| Sst        |  8.462078e-33 | black          | signum0.892_minSize4  | Pairwise |\n",
       "| VLMC       | 4.997325e-133 | purple         | signum0.474_minSize10 | Pairwise |\n",
       "| Vip        |  9.804890e-24 | lightyellow    | signum0.526_minSize10 | Pairwise |\n",
       "\n"
      ],
      "text/plain": [
       "   Cell_type  Qval          Module         Network_short         DE_Test \n",
       "1  Astro       0.000000e+00 turquoise      signum0.474_minSize10 Pairwise\n",
       "2  CR          1.564061e-02 red1           signum0.603_minSize6  Pooled  \n",
       "3  Endo        0.000000e+00 red            signum0.474_minSize10 Pairwise\n",
       "4  L2_3_IT     2.690214e-13 paleturquoise  signum0.892_minSize4  Mean    \n",
       "5  L5_IT       9.607871e-20 green          signum0.526_minSize8  Pairwise\n",
       "6  L5_PT       1.516022e-07 yellowgreen    signum0.892_minSize3  Mean    \n",
       "7  L6_CT       2.340139e-26 paleturquoise  signum0.892_minSize3  Mean    \n",
       "8  L6_IT       4.149818e-21 skyblue1       signum0.526_minSize8  Pairwise\n",
       "9  L6b         4.204930e-07 chocolate3     signum0.787_minSize4  Mean    \n",
       "10 Lamp5       6.169646e-39 red            signum0.603_minSize6  Pairwise\n",
       "11 Macrophage  0.000000e+00 yellow         signum0.474_minSize10 Pairwise\n",
       "12 Meis2       5.220293e-04 palevioletred2 signum0.787_minSize5  Pooled  \n",
       "13 NP          1.059947e-33 salmon         signum0.474_minSize10 Mean    \n",
       "14 Oligo      2.789931e-202 greenyellow    signum0.892_minSize3  Pairwise\n",
       "15 Peri        1.162566e-58 yellowgreen    signum0.892_minSize4  Mean    \n",
       "16 Pvalb       3.263975e-39 tan            signum0.603_minSize10 Pairwise\n",
       "17 SMC         3.220646e-90 tomato         signum0.474_minSize10 Pairwise\n",
       "18 Serpinf1    3.196240e-14 dodgerblue3    signum0.474_minSize8  Mean    \n",
       "19 Sncg        1.282898e-25 darkgoldenrod  signum0.526_minSize8  Pairwise\n",
       "20 Sst         8.462078e-33 black          signum0.892_minSize4  Pairwise\n",
       "21 VLMC       4.997325e-133 purple         signum0.474_minSize10 Pairwise\n",
       "22 Vip         9.804890e-24 lightyellow    signum0.526_minSize10 Pairwise"
      ]
     },
     "metadata": {},
     "output_type": "display_data"
    }
   ],
   "source": [
    "top_qval_mods_df <- all_top_mods_df %>%\n",
    "    group_by(Cell_type) %>%\n",
    "    slice_min(Qval)\n",
    "\n",
    "top_qval_mods_df[, c(cols, \"DE_Test\")]"
   ]
  },
  {
   "cell_type": "code",
   "execution_count": 35,
   "id": "b46b3118",
   "metadata": {
    "vscode": {
     "languageId": "r"
    }
   },
   "outputs": [],
   "source": [
    "if (unique) {\n",
    "    write.csv(top_qval_mods_df, file=paste0(\"data/tasic_2018_ALM_STAR_donor_cell_type_pseudobulk_DE_genes_dream_unique_\", network_dataset, \"_\", mod_def, \"_top_Qval_modules.csv\"), row.names=FALSE, quote=FALSE)\n",
    "} else {\n",
    "    write.csv(top_qval_mods_df, file=paste0(\"data/tasic_2018_ALM_STAR_donor_cell_type_pseudobulk_DE_genes_dream_\", network_dataset, \"_\", mod_def, \"_top_Qval_modules.csv\"), row.names=FALSE, quote=FALSE)\n",
    "}\n"
   ]
  },
  {
   "cell_type": "code",
   "execution_count": null,
   "id": "48f206d5",
   "metadata": {
    "vscode": {
     "languageId": "r"
    }
   },
   "outputs": [],
   "source": []
  }
 ],
 "metadata": {
  "kernelspec": {
   "display_name": "R",
   "language": "R",
   "name": "ir"
  },
  "language_info": {
   "codemirror_mode": "r",
   "file_extension": ".r",
   "mimetype": "text/x-r-source",
   "name": "R",
   "pygments_lexer": "r",
   "version": "4.3.3"
  }
 },
 "nbformat": 4,
 "nbformat_minor": 5
}
