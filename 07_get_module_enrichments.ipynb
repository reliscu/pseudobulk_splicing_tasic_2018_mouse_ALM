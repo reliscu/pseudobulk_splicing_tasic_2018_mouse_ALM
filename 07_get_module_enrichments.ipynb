{
 "cells": [
  {
   "cell_type": "code",
   "execution_count": 145,
   "id": "dc32d0f1",
   "metadata": {
    "vscode": {
     "languageId": "r"
    }
   },
   "outputs": [],
   "source": [
    "library(dplyr)\n",
    "library(tidyr)\n",
    "library(tibble)\n",
    "library(qvalue)\n",
    "library(data.table)\n",
    "\n",
    "source(\"/mnt/lareaulab/reliscu/code/fisher_test.R\")\n",
    "\n",
    "setwd(\"/mnt/lareaulab/reliscu/projects/NSF_GRFP/analyses/pseudobulk_test/tasic_2018/mouse_ALM\")"
   ]
  },
  {
   "cell_type": "markdown",
   "id": "47fcf9ad",
   "metadata": {},
   "source": [
    "Here I perform enrichment analysis to find modules enriched for cell type markers. \n",
    "\n",
    "These modules will later be used to correlate with exon PSI to define cell type-specific exons."
   ]
  },
  {
   "cell_type": "code",
   "execution_count": 146,
   "id": "6cf840e4",
   "metadata": {
    "vscode": {
     "languageId": "r"
    }
   },
   "outputs": [],
   "source": [
    "get_module_enrichments <- function(network_dir, ctype_genes, mod_def=\"PosFDR\") {\n",
    "    # Traverse networks to get cell type enrichments for each module\n",
    "    networks <- list.dirs(file.path(getwd(), network_dir), full.names=TRUE, recursive=FALSE)\n",
    "    networks <- networks[lengths(lapply(networks, list.files)) > 0]\n",
    "\n",
    "    enrichments_list <- lapply(seq_along(networks), function(i) {\n",
    "        kME_path <- list.files(networks[i])[grep(\"kME\", list.files(networks[i]))]\n",
    "        kME <- fread(file.path(networks[i], kME_path), data.table=FALSE)\n",
    "        mod_col <- grep(\"PosFDR\", colnames(kME))\n",
    "        mod_genes <- tapply(kME$Gene, kME[,mod_col], list)\n",
    "        \n",
    "        if (length(mod_genes) > 0) {\n",
    "            all_genes <- kME$Gene\n",
    "\n",
    "            # For each module: calculate enrichment for DE genes from each cell type\n",
    "            mod_enrichments_list <- lapply(mod_genes, function(mod) {\n",
    "                lapply(unlist(lapply(ctype_genes, function(set) {\n",
    "                    fisher_test(set, mod, all=all_genes)\n",
    "                })), c)\n",
    "            })\n",
    "            \n",
    "            # Save the network module came from\n",
    "            network_id <- sapply(strsplit(networks[i], \"/\"), function(x) x[length(x)])\n",
    "            mod_enrichments_df <- reshape2::melt(mod_enrichments_list)\n",
    "            colnames(mod_enrichments_df) <- c(\"Pval\", \"Cell_type\", \"Module\")\n",
    "            \n",
    "            # Save path to module eigengenes table for downstream analyses\n",
    "            ME_path <- list.files(networks[i])[grep(\"eigengene\", list.files(networks[i]))]\n",
    "            \n",
    "            data.frame(\n",
    "                Network=network_id,\n",
    "                kME_path=file.path(networks[i], kME_path),\n",
    "                ME_path=file.path(networks[i], ME_path),\n",
    "                mod_enrichments_df\n",
    "            )\n",
    "        }\n",
    "    })\n",
    "    enrichments_df <- do.call(rbind, enrichments_list)\n",
    "    enrichments_df$Qval <- qvalue(enrichments_df$Pval)$qvalue\n",
    "\n",
    "    enrichments_df\n",
    "}"
   ]
  },
  {
   "cell_type": "code",
   "execution_count": 177,
   "id": "fdecd365",
   "metadata": {
    "vscode": {
     "languageId": "r"
    }
   },
   "outputs": [
    {
     "ename": "ERROR",
     "evalue": "Error: object 'ME_df' not found\n",
     "output_type": "error",
     "traceback": [
      "Error: object 'ME_df' not found\nTraceback:\n"
     ]
    }
   ],
   "source": [
    "ME_df[,-1, drop=FALSE]"
   ]
  },
  {
   "cell_type": "code",
   "execution_count": 147,
   "id": "e55565fe",
   "metadata": {
    "vscode": {
     "languageId": "r"
    }
   },
   "outputs": [],
   "source": [
    "network_dir <- \"mouse_ACA_20pcntCells_0.4pcntVar_200samples_log2_Modules\""
   ]
  },
  {
   "cell_type": "markdown",
   "id": "0b894bcf",
   "metadata": {},
   "source": [
    "### Get DE genes frome each cell type: 1 vs. pooled tests"
   ]
  },
  {
   "cell_type": "code",
   "execution_count": 148,
   "id": "d9fc4df1",
   "metadata": {
    "vscode": {
     "languageId": "r"
    }
   },
   "outputs": [],
   "source": [
    "pooled_res_list <- readRDS(\"data/tasic_2018_ALM_STAR_donor_cell_type_pseudobulk_1_vs_pooled_DE_genes_dream.RDS\")"
   ]
  },
  {
   "cell_type": "code",
   "execution_count": 149,
   "id": "b3f726eb",
   "metadata": {
    "vscode": {
     "languageId": "r"
    }
   },
   "outputs": [],
   "source": [
    "pval_threshold <- .05/length(pooled_res_list)\n",
    "lfc_threshold <- 6\n",
    "\n",
    "pooled_ctype_genes <- lapply(pooled_res_list, function(df) {\n",
    "    mask <- (df['adj.P.Val'] < pval_threshold) & (abs(df['logFC']) > lfc_threshold)\n",
    "    df[mask, 1]\n",
    "})\n",
    "names(pooled_ctype_genes) <- names(pooled_res_list) "
   ]
  },
  {
   "cell_type": "code",
   "execution_count": 150,
   "id": "08b1de18",
   "metadata": {
    "vscode": {
     "languageId": "r"
    }
   },
   "outputs": [],
   "source": [
    "all_genes <- unlist(pooled_ctype_genes)\n",
    "duplicates <- unique(names(table(all_genes)[table(all_genes) > 1]))\n",
    "\n",
    "# Remove markers that are not unique to a cell type\n",
    "\n",
    "pooled_ctype_genes <- lapply(pooled_ctype_genes, function(x) x[!(x %in% duplicates)])"
   ]
  },
  {
   "cell_type": "code",
   "execution_count": 151,
   "id": "ade891df",
   "metadata": {
    "vscode": {
     "languageId": "r"
    }
   },
   "outputs": [
    {
     "data": {
      "text/html": [
       "<table class=\"dataframe\">\n",
       "<caption>A data.frame: 23 × 1</caption>\n",
       "<thead>\n",
       "\t<tr><th></th><th scope=col>No.genes</th></tr>\n",
       "\t<tr><th></th><th scope=col>&lt;int&gt;</th></tr>\n",
       "</thead>\n",
       "<tbody>\n",
       "\t<tr><th scope=row>Peri</th><td>1568</td></tr>\n",
       "\t<tr><th scope=row>Macrophage</th><td> 395</td></tr>\n",
       "\t<tr><th scope=row>Endo</th><td> 304</td></tr>\n",
       "\t<tr><th scope=row>Astro</th><td> 282</td></tr>\n",
       "\t<tr><th scope=row>VLMC</th><td> 136</td></tr>\n",
       "\t<tr><th scope=row>SMC</th><td> 129</td></tr>\n",
       "\t<tr><th scope=row>Oligo</th><td> 105</td></tr>\n",
       "\t<tr><th scope=row>Meis2</th><td>  83</td></tr>\n",
       "\t<tr><th scope=row>CR</th><td>  61</td></tr>\n",
       "\t<tr><th scope=row>L4</th><td>  27</td></tr>\n",
       "\t<tr><th scope=row>NP</th><td>  24</td></tr>\n",
       "\t<tr><th scope=row>Pvalb</th><td>  18</td></tr>\n",
       "\t<tr><th scope=row>Vip</th><td>  16</td></tr>\n",
       "\t<tr><th scope=row>L6_CT</th><td>  14</td></tr>\n",
       "\t<tr><th scope=row>L5_IT</th><td>  13</td></tr>\n",
       "\t<tr><th scope=row>Lamp5</th><td>  12</td></tr>\n",
       "\t<tr><th scope=row>Sst</th><td>  12</td></tr>\n",
       "\t<tr><th scope=row>Sncg</th><td>   9</td></tr>\n",
       "\t<tr><th scope=row>L5_PT</th><td>   8</td></tr>\n",
       "\t<tr><th scope=row>Serpinf1</th><td>   8</td></tr>\n",
       "\t<tr><th scope=row>L2_3_IT</th><td>   7</td></tr>\n",
       "\t<tr><th scope=row>L6_IT</th><td>   7</td></tr>\n",
       "\t<tr><th scope=row>L6b</th><td>   3</td></tr>\n",
       "</tbody>\n",
       "</table>\n"
      ],
      "text/latex": [
       "A data.frame: 23 × 1\n",
       "\\begin{tabular}{r|l}\n",
       "  & No.genes\\\\\n",
       "  & <int>\\\\\n",
       "\\hline\n",
       "\tPeri & 1568\\\\\n",
       "\tMacrophage &  395\\\\\n",
       "\tEndo &  304\\\\\n",
       "\tAstro &  282\\\\\n",
       "\tVLMC &  136\\\\\n",
       "\tSMC &  129\\\\\n",
       "\tOligo &  105\\\\\n",
       "\tMeis2 &   83\\\\\n",
       "\tCR &   61\\\\\n",
       "\tL4 &   27\\\\\n",
       "\tNP &   24\\\\\n",
       "\tPvalb &   18\\\\\n",
       "\tVip &   16\\\\\n",
       "\tL6\\_CT &   14\\\\\n",
       "\tL5\\_IT &   13\\\\\n",
       "\tLamp5 &   12\\\\\n",
       "\tSst &   12\\\\\n",
       "\tSncg &    9\\\\\n",
       "\tL5\\_PT &    8\\\\\n",
       "\tSerpinf1 &    8\\\\\n",
       "\tL2\\_3\\_IT &    7\\\\\n",
       "\tL6\\_IT &    7\\\\\n",
       "\tL6b &    3\\\\\n",
       "\\end{tabular}\n"
      ],
      "text/markdown": [
       "\n",
       "A data.frame: 23 × 1\n",
       "\n",
       "| <!--/--> | No.genes &lt;int&gt; |\n",
       "|---|---|\n",
       "| Peri | 1568 |\n",
       "| Macrophage |  395 |\n",
       "| Endo |  304 |\n",
       "| Astro |  282 |\n",
       "| VLMC |  136 |\n",
       "| SMC |  129 |\n",
       "| Oligo |  105 |\n",
       "| Meis2 |   83 |\n",
       "| CR |   61 |\n",
       "| L4 |   27 |\n",
       "| NP |   24 |\n",
       "| Pvalb |   18 |\n",
       "| Vip |   16 |\n",
       "| L6_CT |   14 |\n",
       "| L5_IT |   13 |\n",
       "| Lamp5 |   12 |\n",
       "| Sst |   12 |\n",
       "| Sncg |    9 |\n",
       "| L5_PT |    8 |\n",
       "| Serpinf1 |    8 |\n",
       "| L2_3_IT |    7 |\n",
       "| L6_IT |    7 |\n",
       "| L6b |    3 |\n",
       "\n"
      ],
      "text/plain": [
       "           No.genes\n",
       "Peri       1568    \n",
       "Macrophage  395    \n",
       "Endo        304    \n",
       "Astro       282    \n",
       "VLMC        136    \n",
       "SMC         129    \n",
       "Oligo       105    \n",
       "Meis2        83    \n",
       "CR           61    \n",
       "L4           27    \n",
       "NP           24    \n",
       "Pvalb        18    \n",
       "Vip          16    \n",
       "L6_CT        14    \n",
       "L5_IT        13    \n",
       "Lamp5        12    \n",
       "Sst          12    \n",
       "Sncg          9    \n",
       "L5_PT         8    \n",
       "Serpinf1      8    \n",
       "L2_3_IT       7    \n",
       "L6_IT         7    \n",
       "L6b           3    "
      ]
     },
     "metadata": {},
     "output_type": "display_data"
    }
   ],
   "source": [
    "data.frame(No.genes=lengths(pooled_ctype_genes)) %>% arrange(-`No.genes`)"
   ]
  },
  {
   "cell_type": "code",
   "execution_count": 152,
   "id": "09fbb1a8",
   "metadata": {
    "vscode": {
     "languageId": "r"
    }
   },
   "outputs": [],
   "source": [
    "pooled_enrichments_df <- get_module_enrichments(network_dir, pooled_ctype_genes)"
   ]
  },
  {
   "cell_type": "code",
   "execution_count": 153,
   "id": "e1c46ab3",
   "metadata": {
    "vscode": {
     "languageId": "r"
    }
   },
   "outputs": [],
   "source": [
    "# Get most enriched cell type for each module\n",
    "# If cell type is most enriched in multiple modules, choose module with smallest p-value\n",
    "\n",
    "pooled_top_mods_df <- pooled_enrichments_df %>%\n",
    "    group_by(Network, Module) %>%\n",
    "    slice_min(Qval) %>%\n",
    "    group_by(Cell_type) %>%\n",
    "    arrange(Network) %>%\n",
    "    slice_min(Qval, with_ties=FALSE) %>%\n",
    "    filter(Qval < .05) %>%\n",
    "    arrange(Qval)"
   ]
  },
  {
   "cell_type": "code",
   "execution_count": 154,
   "id": "97f3f715",
   "metadata": {
    "vscode": {
     "languageId": "r"
    }
   },
   "outputs": [
    {
     "data": {
      "text/html": [
       "<table class=\"dataframe\">\n",
       "<caption>A grouped_df: 22 × 5</caption>\n",
       "<thead>\n",
       "\t<tr><th scope=col>Cell_type</th><th scope=col>Pval</th><th scope=col>Qval</th><th scope=col>Module</th><th scope=col>Network</th></tr>\n",
       "\t<tr><th scope=col>&lt;chr&gt;</th><th scope=col>&lt;dbl&gt;</th><th scope=col>&lt;dbl&gt;</th><th scope=col>&lt;chr&gt;</th><th scope=col>&lt;chr&gt;</th></tr>\n",
       "</thead>\n",
       "<tbody>\n",
       "\t<tr><td>Macrophage</td><td>1.365305e-255</td><td>1.049141e-250</td><td>blue          </td><td>Bicor-None_signum0.794_minSize10_merge_ME_0.9_20151</td></tr>\n",
       "\t<tr><td>Endo      </td><td>1.225475e-241</td><td>1.569487e-237</td><td>blue          </td><td>Bicor-None_signum0.325_minSize10_merge_ME_0.9_20151</td></tr>\n",
       "\t<tr><td>Astro     </td><td>1.274262e-204</td><td>3.415631e-201</td><td>turquoise     </td><td>Bicor-None_signum0.325_minSize4_merge_ME_0.9_20151 </td></tr>\n",
       "\t<tr><td>Oligo     </td><td>2.647845e-134</td><td>2.712912e-131</td><td>green         </td><td>Bicor-None_signum0.325_minSize10_merge_ME_0.9_20151</td></tr>\n",
       "\t<tr><td>VLMC      </td><td>1.272234e-122</td><td>1.123704e-119</td><td>tan           </td><td>Bicor-None_signum0.794_minSize3_merge_ME_0.9_20151 </td></tr>\n",
       "\t<tr><td>SMC       </td><td> 1.359555e-77</td><td> 8.853582e-75</td><td>black         </td><td>Bicor-None_signum0.794_minSize6_merge_ME_0.9_20151 </td></tr>\n",
       "\t<tr><td>Peri      </td><td> 9.299968e-58</td><td> 4.701562e-55</td><td>white         </td><td>Bicor-None_signum0.586_minSize8_merge_ME_0.9_20151 </td></tr>\n",
       "\t<tr><td>NP        </td><td> 1.671897e-37</td><td> 7.097986e-35</td><td>brown         </td><td>Bicor-None_signum0.255_minSize6_merge_ME_0.9_20151 </td></tr>\n",
       "\t<tr><td>L6_CT     </td><td> 5.362766e-18</td><td> 1.753579e-15</td><td>darkgreen     </td><td>Bicor-None_signum0.325_minSize4_merge_ME_0.9_20151 </td></tr>\n",
       "\t<tr><td>Sncg      </td><td> 1.314519e-15</td><td> 3.713662e-13</td><td>brown2        </td><td>Bicor-None_signum0.255_minSize10_merge_ME_0.9_20151</td></tr>\n",
       "\t<tr><td>Vip       </td><td> 1.967272e-14</td><td> 5.285702e-12</td><td>dodgerblue3   </td><td>Bicor-None_signum0.325_minSize4_merge_ME_0.9_20151 </td></tr>\n",
       "\t<tr><td>L6_IT     </td><td> 1.647375e-12</td><td> 3.993350e-10</td><td>darkred       </td><td>Bicor-None_signum0.794_minSize3_merge_ME_0.9_20151 </td></tr>\n",
       "\t<tr><td>Pvalb     </td><td> 1.797838e-12</td><td> 4.317228e-10</td><td>grey60        </td><td>Bicor-None_signum0.255_minSize10_merge_ME_0.9_20151</td></tr>\n",
       "\t<tr><td>Lamp5     </td><td> 2.277130e-11</td><td> 4.985227e-09</td><td>mediumpurple4 </td><td>Bicor-None_signum0.325_minSize8_merge_ME_0.9_20151 </td></tr>\n",
       "\t<tr><td>L2_3_IT   </td><td> 4.853081e-11</td><td> 1.041691e-08</td><td>lightgreen    </td><td>Bicor-None_signum0.219_minSize6_merge_ME_0.9_20151 </td></tr>\n",
       "\t<tr><td>L5_PT     </td><td> 2.025034e-10</td><td> 4.183055e-08</td><td>salmon        </td><td>Bicor-None_signum0.325_minSize4_merge_ME_0.9_20151 </td></tr>\n",
       "\t<tr><td>Sst       </td><td> 2.838288e-07</td><td> 3.951133e-05</td><td>darkslategray2</td><td>Bicor-None_signum0.325_minSize4_merge_ME_0.9_20151 </td></tr>\n",
       "\t<tr><td>Serpinf1  </td><td> 4.029754e-07</td><td> 5.442888e-05</td><td>dodgerblue1   </td><td>Bicor-None_signum0.219_minSize6_merge_ME_0.9_20151 </td></tr>\n",
       "\t<tr><td>L5_IT     </td><td> 1.029510e-06</td><td> 1.314130e-04</td><td>darkseagreen4 </td><td>Bicor-None_signum0.255_minSize8_merge_ME_0.9_20151 </td></tr>\n",
       "\t<tr><td>L4        </td><td> 1.355385e-04</td><td> 1.201290e-02</td><td>darkmagenta   </td><td>Bicor-None_signum0.255_minSize12_merge_ME_0.9_20151</td></tr>\n",
       "\t<tr><td>CR        </td><td> 2.081208e-04</td><td> 1.780916e-02</td><td>sienna2       </td><td>Bicor-None_signum0.255_minSize10_merge_ME_0.9_20151</td></tr>\n",
       "\t<tr><td>Meis2     </td><td> 2.107513e-04</td><td> 1.801420e-02</td><td>honeydew1     </td><td>Bicor-None_signum0.325_minSize6_merge_ME_0.9_20151 </td></tr>\n",
       "</tbody>\n",
       "</table>\n"
      ],
      "text/latex": [
       "A grouped\\_df: 22 × 5\n",
       "\\begin{tabular}{lllll}\n",
       " Cell\\_type & Pval & Qval & Module & Network\\\\\n",
       " <chr> & <dbl> & <dbl> & <chr> & <chr>\\\\\n",
       "\\hline\n",
       "\t Macrophage & 1.365305e-255 & 1.049141e-250 & blue           & Bicor-None\\_signum0.794\\_minSize10\\_merge\\_ME\\_0.9\\_20151\\\\\n",
       "\t Endo       & 1.225475e-241 & 1.569487e-237 & blue           & Bicor-None\\_signum0.325\\_minSize10\\_merge\\_ME\\_0.9\\_20151\\\\\n",
       "\t Astro      & 1.274262e-204 & 3.415631e-201 & turquoise      & Bicor-None\\_signum0.325\\_minSize4\\_merge\\_ME\\_0.9\\_20151 \\\\\n",
       "\t Oligo      & 2.647845e-134 & 2.712912e-131 & green          & Bicor-None\\_signum0.325\\_minSize10\\_merge\\_ME\\_0.9\\_20151\\\\\n",
       "\t VLMC       & 1.272234e-122 & 1.123704e-119 & tan            & Bicor-None\\_signum0.794\\_minSize3\\_merge\\_ME\\_0.9\\_20151 \\\\\n",
       "\t SMC        &  1.359555e-77 &  8.853582e-75 & black          & Bicor-None\\_signum0.794\\_minSize6\\_merge\\_ME\\_0.9\\_20151 \\\\\n",
       "\t Peri       &  9.299968e-58 &  4.701562e-55 & white          & Bicor-None\\_signum0.586\\_minSize8\\_merge\\_ME\\_0.9\\_20151 \\\\\n",
       "\t NP         &  1.671897e-37 &  7.097986e-35 & brown          & Bicor-None\\_signum0.255\\_minSize6\\_merge\\_ME\\_0.9\\_20151 \\\\\n",
       "\t L6\\_CT      &  5.362766e-18 &  1.753579e-15 & darkgreen      & Bicor-None\\_signum0.325\\_minSize4\\_merge\\_ME\\_0.9\\_20151 \\\\\n",
       "\t Sncg       &  1.314519e-15 &  3.713662e-13 & brown2         & Bicor-None\\_signum0.255\\_minSize10\\_merge\\_ME\\_0.9\\_20151\\\\\n",
       "\t Vip        &  1.967272e-14 &  5.285702e-12 & dodgerblue3    & Bicor-None\\_signum0.325\\_minSize4\\_merge\\_ME\\_0.9\\_20151 \\\\\n",
       "\t L6\\_IT      &  1.647375e-12 &  3.993350e-10 & darkred        & Bicor-None\\_signum0.794\\_minSize3\\_merge\\_ME\\_0.9\\_20151 \\\\\n",
       "\t Pvalb      &  1.797838e-12 &  4.317228e-10 & grey60         & Bicor-None\\_signum0.255\\_minSize10\\_merge\\_ME\\_0.9\\_20151\\\\\n",
       "\t Lamp5      &  2.277130e-11 &  4.985227e-09 & mediumpurple4  & Bicor-None\\_signum0.325\\_minSize8\\_merge\\_ME\\_0.9\\_20151 \\\\\n",
       "\t L2\\_3\\_IT    &  4.853081e-11 &  1.041691e-08 & lightgreen     & Bicor-None\\_signum0.219\\_minSize6\\_merge\\_ME\\_0.9\\_20151 \\\\\n",
       "\t L5\\_PT      &  2.025034e-10 &  4.183055e-08 & salmon         & Bicor-None\\_signum0.325\\_minSize4\\_merge\\_ME\\_0.9\\_20151 \\\\\n",
       "\t Sst        &  2.838288e-07 &  3.951133e-05 & darkslategray2 & Bicor-None\\_signum0.325\\_minSize4\\_merge\\_ME\\_0.9\\_20151 \\\\\n",
       "\t Serpinf1   &  4.029754e-07 &  5.442888e-05 & dodgerblue1    & Bicor-None\\_signum0.219\\_minSize6\\_merge\\_ME\\_0.9\\_20151 \\\\\n",
       "\t L5\\_IT      &  1.029510e-06 &  1.314130e-04 & darkseagreen4  & Bicor-None\\_signum0.255\\_minSize8\\_merge\\_ME\\_0.9\\_20151 \\\\\n",
       "\t L4         &  1.355385e-04 &  1.201290e-02 & darkmagenta    & Bicor-None\\_signum0.255\\_minSize12\\_merge\\_ME\\_0.9\\_20151\\\\\n",
       "\t CR         &  2.081208e-04 &  1.780916e-02 & sienna2        & Bicor-None\\_signum0.255\\_minSize10\\_merge\\_ME\\_0.9\\_20151\\\\\n",
       "\t Meis2      &  2.107513e-04 &  1.801420e-02 & honeydew1      & Bicor-None\\_signum0.325\\_minSize6\\_merge\\_ME\\_0.9\\_20151 \\\\\n",
       "\\end{tabular}\n"
      ],
      "text/markdown": [
       "\n",
       "A grouped_df: 22 × 5\n",
       "\n",
       "| Cell_type &lt;chr&gt; | Pval &lt;dbl&gt; | Qval &lt;dbl&gt; | Module &lt;chr&gt; | Network &lt;chr&gt; |\n",
       "|---|---|---|---|---|\n",
       "| Macrophage | 1.365305e-255 | 1.049141e-250 | blue           | Bicor-None_signum0.794_minSize10_merge_ME_0.9_20151 |\n",
       "| Endo       | 1.225475e-241 | 1.569487e-237 | blue           | Bicor-None_signum0.325_minSize10_merge_ME_0.9_20151 |\n",
       "| Astro      | 1.274262e-204 | 3.415631e-201 | turquoise      | Bicor-None_signum0.325_minSize4_merge_ME_0.9_20151  |\n",
       "| Oligo      | 2.647845e-134 | 2.712912e-131 | green          | Bicor-None_signum0.325_minSize10_merge_ME_0.9_20151 |\n",
       "| VLMC       | 1.272234e-122 | 1.123704e-119 | tan            | Bicor-None_signum0.794_minSize3_merge_ME_0.9_20151  |\n",
       "| SMC        |  1.359555e-77 |  8.853582e-75 | black          | Bicor-None_signum0.794_minSize6_merge_ME_0.9_20151  |\n",
       "| Peri       |  9.299968e-58 |  4.701562e-55 | white          | Bicor-None_signum0.586_minSize8_merge_ME_0.9_20151  |\n",
       "| NP         |  1.671897e-37 |  7.097986e-35 | brown          | Bicor-None_signum0.255_minSize6_merge_ME_0.9_20151  |\n",
       "| L6_CT      |  5.362766e-18 |  1.753579e-15 | darkgreen      | Bicor-None_signum0.325_minSize4_merge_ME_0.9_20151  |\n",
       "| Sncg       |  1.314519e-15 |  3.713662e-13 | brown2         | Bicor-None_signum0.255_minSize10_merge_ME_0.9_20151 |\n",
       "| Vip        |  1.967272e-14 |  5.285702e-12 | dodgerblue3    | Bicor-None_signum0.325_minSize4_merge_ME_0.9_20151  |\n",
       "| L6_IT      |  1.647375e-12 |  3.993350e-10 | darkred        | Bicor-None_signum0.794_minSize3_merge_ME_0.9_20151  |\n",
       "| Pvalb      |  1.797838e-12 |  4.317228e-10 | grey60         | Bicor-None_signum0.255_minSize10_merge_ME_0.9_20151 |\n",
       "| Lamp5      |  2.277130e-11 |  4.985227e-09 | mediumpurple4  | Bicor-None_signum0.325_minSize8_merge_ME_0.9_20151  |\n",
       "| L2_3_IT    |  4.853081e-11 |  1.041691e-08 | lightgreen     | Bicor-None_signum0.219_minSize6_merge_ME_0.9_20151  |\n",
       "| L5_PT      |  2.025034e-10 |  4.183055e-08 | salmon         | Bicor-None_signum0.325_minSize4_merge_ME_0.9_20151  |\n",
       "| Sst        |  2.838288e-07 |  3.951133e-05 | darkslategray2 | Bicor-None_signum0.325_minSize4_merge_ME_0.9_20151  |\n",
       "| Serpinf1   |  4.029754e-07 |  5.442888e-05 | dodgerblue1    | Bicor-None_signum0.219_minSize6_merge_ME_0.9_20151  |\n",
       "| L5_IT      |  1.029510e-06 |  1.314130e-04 | darkseagreen4  | Bicor-None_signum0.255_minSize8_merge_ME_0.9_20151  |\n",
       "| L4         |  1.355385e-04 |  1.201290e-02 | darkmagenta    | Bicor-None_signum0.255_minSize12_merge_ME_0.9_20151 |\n",
       "| CR         |  2.081208e-04 |  1.780916e-02 | sienna2        | Bicor-None_signum0.255_minSize10_merge_ME_0.9_20151 |\n",
       "| Meis2      |  2.107513e-04 |  1.801420e-02 | honeydew1      | Bicor-None_signum0.325_minSize6_merge_ME_0.9_20151  |\n",
       "\n"
      ],
      "text/plain": [
       "   Cell_type  Pval          Qval          Module        \n",
       "1  Macrophage 1.365305e-255 1.049141e-250 blue          \n",
       "2  Endo       1.225475e-241 1.569487e-237 blue          \n",
       "3  Astro      1.274262e-204 3.415631e-201 turquoise     \n",
       "4  Oligo      2.647845e-134 2.712912e-131 green         \n",
       "5  VLMC       1.272234e-122 1.123704e-119 tan           \n",
       "6  SMC         1.359555e-77  8.853582e-75 black         \n",
       "7  Peri        9.299968e-58  4.701562e-55 white         \n",
       "8  NP          1.671897e-37  7.097986e-35 brown         \n",
       "9  L6_CT       5.362766e-18  1.753579e-15 darkgreen     \n",
       "10 Sncg        1.314519e-15  3.713662e-13 brown2        \n",
       "11 Vip         1.967272e-14  5.285702e-12 dodgerblue3   \n",
       "12 L6_IT       1.647375e-12  3.993350e-10 darkred       \n",
       "13 Pvalb       1.797838e-12  4.317228e-10 grey60        \n",
       "14 Lamp5       2.277130e-11  4.985227e-09 mediumpurple4 \n",
       "15 L2_3_IT     4.853081e-11  1.041691e-08 lightgreen    \n",
       "16 L5_PT       2.025034e-10  4.183055e-08 salmon        \n",
       "17 Sst         2.838288e-07  3.951133e-05 darkslategray2\n",
       "18 Serpinf1    4.029754e-07  5.442888e-05 dodgerblue1   \n",
       "19 L5_IT       1.029510e-06  1.314130e-04 darkseagreen4 \n",
       "20 L4          1.355385e-04  1.201290e-02 darkmagenta   \n",
       "21 CR          2.081208e-04  1.780916e-02 sienna2       \n",
       "22 Meis2       2.107513e-04  1.801420e-02 honeydew1     \n",
       "   Network                                            \n",
       "1  Bicor-None_signum0.794_minSize10_merge_ME_0.9_20151\n",
       "2  Bicor-None_signum0.325_minSize10_merge_ME_0.9_20151\n",
       "3  Bicor-None_signum0.325_minSize4_merge_ME_0.9_20151 \n",
       "4  Bicor-None_signum0.325_minSize10_merge_ME_0.9_20151\n",
       "5  Bicor-None_signum0.794_minSize3_merge_ME_0.9_20151 \n",
       "6  Bicor-None_signum0.794_minSize6_merge_ME_0.9_20151 \n",
       "7  Bicor-None_signum0.586_minSize8_merge_ME_0.9_20151 \n",
       "8  Bicor-None_signum0.255_minSize6_merge_ME_0.9_20151 \n",
       "9  Bicor-None_signum0.325_minSize4_merge_ME_0.9_20151 \n",
       "10 Bicor-None_signum0.255_minSize10_merge_ME_0.9_20151\n",
       "11 Bicor-None_signum0.325_minSize4_merge_ME_0.9_20151 \n",
       "12 Bicor-None_signum0.794_minSize3_merge_ME_0.9_20151 \n",
       "13 Bicor-None_signum0.255_minSize10_merge_ME_0.9_20151\n",
       "14 Bicor-None_signum0.325_minSize8_merge_ME_0.9_20151 \n",
       "15 Bicor-None_signum0.219_minSize6_merge_ME_0.9_20151 \n",
       "16 Bicor-None_signum0.325_minSize4_merge_ME_0.9_20151 \n",
       "17 Bicor-None_signum0.325_minSize4_merge_ME_0.9_20151 \n",
       "18 Bicor-None_signum0.219_minSize6_merge_ME_0.9_20151 \n",
       "19 Bicor-None_signum0.255_minSize8_merge_ME_0.9_20151 \n",
       "20 Bicor-None_signum0.255_minSize12_merge_ME_0.9_20151\n",
       "21 Bicor-None_signum0.255_minSize10_merge_ME_0.9_20151\n",
       "22 Bicor-None_signum0.325_minSize6_merge_ME_0.9_20151 "
      ]
     },
     "metadata": {},
     "output_type": "display_data"
    }
   ],
   "source": [
    "pooled_top_mods_df[,c(\"Cell_type\", \"Pval\", \"Qval\", \"Module\", \"Network\")]"
   ]
  },
  {
   "cell_type": "markdown",
   "id": "cc33c767",
   "metadata": {},
   "source": [
    "### Get DE genes frome each cell type: pairwise tests"
   ]
  },
  {
   "cell_type": "code",
   "execution_count": 155,
   "id": "c5449ef7",
   "metadata": {
    "vscode": {
     "languageId": "r"
    }
   },
   "outputs": [],
   "source": [
    "pairwise_res_list <- readRDS(\"data/tasic_2018_ALM_STAR_donor_cell_type_pseudobulk_pairwise_DE_genes_dream.RDS\")"
   ]
  },
  {
   "cell_type": "code",
   "execution_count": 156,
   "id": "a739660e",
   "metadata": {
    "vscode": {
     "languageId": "r"
    }
   },
   "outputs": [],
   "source": [
    "ctypes <- unique(sapply(strsplit(names(pairwise_res_list), \"_vs_\"), \"[\", 1))\n",
    "\n",
    "pairwise_ctype_genes <- lapply(ctypes, function(target) {\n",
    "    # Subset to pairwise tests with target cell type\n",
    "    ctype_res_list <- pairwise_res_list[grep(paste0(\"^\", target), names(pairwise_res_list))]\n",
    "\n",
    "    # For each pairwise test, return genes that meet p-value threshold:\n",
    "    pval_threshold <- .05 /length(ctype_res_list)\n",
    "    ctype_genes_list <- lapply(ctype_res_list, function(df) {\n",
    "        mask <- df$adj.P.Val < pval_threshold\n",
    "        df[mask, 1]\n",
    "    }) \n",
    "\n",
    "    # Restrict to genes that were identified in EVERY pairwise test\n",
    "    Reduce(intersect, ctype_genes_list)\n",
    "})\n",
    "names(pairwise_ctype_genes) <- ctypes"
   ]
  },
  {
   "cell_type": "code",
   "execution_count": 157,
   "id": "ccadb211",
   "metadata": {
    "vscode": {
     "languageId": "r"
    }
   },
   "outputs": [
    {
     "data": {
      "text/html": [
       "<table class=\"dataframe\">\n",
       "<caption>A data.frame: 23 × 1</caption>\n",
       "<thead>\n",
       "\t<tr><th></th><th scope=col>No.genes</th></tr>\n",
       "\t<tr><th></th><th scope=col>&lt;int&gt;</th></tr>\n",
       "</thead>\n",
       "<tbody>\n",
       "\t<tr><th scope=row>Macrophage</th><td>333</td></tr>\n",
       "\t<tr><th scope=row>Astro</th><td>288</td></tr>\n",
       "\t<tr><th scope=row>Endo</th><td>237</td></tr>\n",
       "\t<tr><th scope=row>Oligo</th><td>131</td></tr>\n",
       "\t<tr><th scope=row>VLMC</th><td> 85</td></tr>\n",
       "\t<tr><th scope=row>SMC</th><td> 60</td></tr>\n",
       "\t<tr><th scope=row>Pvalb</th><td> 31</td></tr>\n",
       "\t<tr><th scope=row>Lamp5</th><td> 22</td></tr>\n",
       "\t<tr><th scope=row>CR</th><td> 21</td></tr>\n",
       "\t<tr><th scope=row>Sst</th><td> 21</td></tr>\n",
       "\t<tr><th scope=row>Peri</th><td> 15</td></tr>\n",
       "\t<tr><th scope=row>Sncg</th><td> 14</td></tr>\n",
       "\t<tr><th scope=row>Vip</th><td> 14</td></tr>\n",
       "\t<tr><th scope=row>NP</th><td> 13</td></tr>\n",
       "\t<tr><th scope=row>L5_IT</th><td> 11</td></tr>\n",
       "\t<tr><th scope=row>L6_IT</th><td>  9</td></tr>\n",
       "\t<tr><th scope=row>L2_3_IT</th><td>  7</td></tr>\n",
       "\t<tr><th scope=row>L6_CT</th><td>  6</td></tr>\n",
       "\t<tr><th scope=row>Serpinf1</th><td>  4</td></tr>\n",
       "\t<tr><th scope=row>L5_PT</th><td>  3</td></tr>\n",
       "\t<tr><th scope=row>L6b</th><td>  3</td></tr>\n",
       "\t<tr><th scope=row>Meis2</th><td>  1</td></tr>\n",
       "\t<tr><th scope=row>L4</th><td>  0</td></tr>\n",
       "</tbody>\n",
       "</table>\n"
      ],
      "text/latex": [
       "A data.frame: 23 × 1\n",
       "\\begin{tabular}{r|l}\n",
       "  & No.genes\\\\\n",
       "  & <int>\\\\\n",
       "\\hline\n",
       "\tMacrophage & 333\\\\\n",
       "\tAstro & 288\\\\\n",
       "\tEndo & 237\\\\\n",
       "\tOligo & 131\\\\\n",
       "\tVLMC &  85\\\\\n",
       "\tSMC &  60\\\\\n",
       "\tPvalb &  31\\\\\n",
       "\tLamp5 &  22\\\\\n",
       "\tCR &  21\\\\\n",
       "\tSst &  21\\\\\n",
       "\tPeri &  15\\\\\n",
       "\tSncg &  14\\\\\n",
       "\tVip &  14\\\\\n",
       "\tNP &  13\\\\\n",
       "\tL5\\_IT &  11\\\\\n",
       "\tL6\\_IT &   9\\\\\n",
       "\tL2\\_3\\_IT &   7\\\\\n",
       "\tL6\\_CT &   6\\\\\n",
       "\tSerpinf1 &   4\\\\\n",
       "\tL5\\_PT &   3\\\\\n",
       "\tL6b &   3\\\\\n",
       "\tMeis2 &   1\\\\\n",
       "\tL4 &   0\\\\\n",
       "\\end{tabular}\n"
      ],
      "text/markdown": [
       "\n",
       "A data.frame: 23 × 1\n",
       "\n",
       "| <!--/--> | No.genes &lt;int&gt; |\n",
       "|---|---|\n",
       "| Macrophage | 333 |\n",
       "| Astro | 288 |\n",
       "| Endo | 237 |\n",
       "| Oligo | 131 |\n",
       "| VLMC |  85 |\n",
       "| SMC |  60 |\n",
       "| Pvalb |  31 |\n",
       "| Lamp5 |  22 |\n",
       "| CR |  21 |\n",
       "| Sst |  21 |\n",
       "| Peri |  15 |\n",
       "| Sncg |  14 |\n",
       "| Vip |  14 |\n",
       "| NP |  13 |\n",
       "| L5_IT |  11 |\n",
       "| L6_IT |   9 |\n",
       "| L2_3_IT |   7 |\n",
       "| L6_CT |   6 |\n",
       "| Serpinf1 |   4 |\n",
       "| L5_PT |   3 |\n",
       "| L6b |   3 |\n",
       "| Meis2 |   1 |\n",
       "| L4 |   0 |\n",
       "\n"
      ],
      "text/plain": [
       "           No.genes\n",
       "Macrophage 333     \n",
       "Astro      288     \n",
       "Endo       237     \n",
       "Oligo      131     \n",
       "VLMC        85     \n",
       "SMC         60     \n",
       "Pvalb       31     \n",
       "Lamp5       22     \n",
       "CR          21     \n",
       "Sst         21     \n",
       "Peri        15     \n",
       "Sncg        14     \n",
       "Vip         14     \n",
       "NP          13     \n",
       "L5_IT       11     \n",
       "L6_IT        9     \n",
       "L2_3_IT      7     \n",
       "L6_CT        6     \n",
       "Serpinf1     4     \n",
       "L5_PT        3     \n",
       "L6b          3     \n",
       "Meis2        1     \n",
       "L4           0     "
      ]
     },
     "metadata": {},
     "output_type": "display_data"
    }
   ],
   "source": [
    "data.frame(No.genes=lengths(pairwise_ctype_genes)) %>% arrange(-`No.genes`)"
   ]
  },
  {
   "cell_type": "code",
   "execution_count": 158,
   "id": "2e5c68a9",
   "metadata": {
    "vscode": {
     "languageId": "r"
    }
   },
   "outputs": [],
   "source": [
    "pairwise_ctype_genes <- pairwise_ctype_genes[lengths(pairwise_ctype_genes) > 0]"
   ]
  },
  {
   "cell_type": "code",
   "execution_count": 159,
   "id": "141aa58d",
   "metadata": {
    "vscode": {
     "languageId": "r"
    }
   },
   "outputs": [],
   "source": [
    "all_genes <- unlist(pairwise_ctype_genes)\n",
    "duplicates <- unique(names(table(all_genes)[table(all_genes) > 1]))\n",
    "\n",
    "# Remove markers that are not unique to a cell type\n",
    "\n",
    "pairwise_ctype_genes <- lapply(pairwise_ctype_genes, function(x) x[!(x %in% duplicates)])"
   ]
  },
  {
   "cell_type": "code",
   "execution_count": 160,
   "id": "ffaf1c6d",
   "metadata": {
    "vscode": {
     "languageId": "r"
    }
   },
   "outputs": [],
   "source": [
    "pairwise_ctype_genes <- pairwise_ctype_genes[lengths(pairwise_ctype_genes) > 0]"
   ]
  },
  {
   "cell_type": "code",
   "execution_count": 161,
   "id": "da30c5c6",
   "metadata": {
    "vscode": {
     "languageId": "r"
    }
   },
   "outputs": [],
   "source": [
    "pairwise_enrichments_df <- get_module_enrichments(network_dir, pairwise_ctype_genes)"
   ]
  },
  {
   "cell_type": "code",
   "execution_count": 162,
   "id": "c7411268",
   "metadata": {
    "vscode": {
     "languageId": "r"
    }
   },
   "outputs": [],
   "source": [
    "# Get most enriched cell type for each module\n",
    "# If cell type is most enriched in multiple modules, choose module with smallest p-value\n",
    "\n",
    "pairwise_top_mods_df <- pairwise_enrichments_df %>%\n",
    "    group_by(Network, Module) %>%\n",
    "    slice_min(Qval) %>%\n",
    "    group_by(Cell_type) %>%\n",
    "    arrange(Network) %>%\n",
    "    slice_min(Qval, with_ties=FALSE) %>%\n",
    "    filter(Qval < .05) %>%\n",
    "    arrange(Qval)\n",
    "\n",
    "    # Get most enriched cell type for each module"
   ]
  },
  {
   "cell_type": "code",
   "execution_count": 163,
   "id": "33f3bdb4",
   "metadata": {
    "vscode": {
     "languageId": "r"
    }
   },
   "outputs": [
    {
     "data": {
      "text/html": [
       "<table class=\"dataframe\">\n",
       "<caption>A grouped_df: 21 × 5</caption>\n",
       "<thead>\n",
       "\t<tr><th scope=col>Cell_type</th><th scope=col>Pval</th><th scope=col>Qval</th><th scope=col>Module</th><th scope=col>Network</th></tr>\n",
       "\t<tr><th scope=col>&lt;chr&gt;</th><th scope=col>&lt;dbl&gt;</th><th scope=col>&lt;dbl&gt;</th><th scope=col>&lt;chr&gt;</th><th scope=col>&lt;chr&gt;</th></tr>\n",
       "</thead>\n",
       "<tbody>\n",
       "\t<tr><td>Astro     </td><td> 0.000000e+00</td><td> 0.000000e+00</td><td>turquoise     </td><td>Bicor-None_signum0.219_minSize10_merge_ME_0.9_20151</td></tr>\n",
       "\t<tr><td>Endo      </td><td> 0.000000e+00</td><td> 0.000000e+00</td><td>blue          </td><td>Bicor-None_signum0.219_minSize12_merge_ME_0.9_20151</td></tr>\n",
       "\t<tr><td>Macrophage</td><td> 0.000000e+00</td><td> 0.000000e+00</td><td>blue          </td><td>Bicor-None_signum0.794_minSize10_merge_ME_0.9_20151</td></tr>\n",
       "\t<tr><td>Oligo     </td><td>2.121824e-204</td><td>1.856647e-201</td><td>green         </td><td>Bicor-None_signum0.325_minSize10_merge_ME_0.9_20151</td></tr>\n",
       "\t<tr><td>VLMC      </td><td>4.271020e-139</td><td>2.853896e-136</td><td>tan           </td><td>Bicor-None_signum0.794_minSize3_merge_ME_0.9_20151 </td></tr>\n",
       "\t<tr><td>SMC       </td><td> 1.527776e-95</td><td> 9.516493e-93</td><td>black         </td><td>Bicor-None_signum0.794_minSize6_merge_ME_0.9_20151 </td></tr>\n",
       "\t<tr><td>NP        </td><td> 5.714908e-27</td><td> 2.258372e-24</td><td>brown         </td><td>Bicor-None_signum0.325_minSize4_merge_ME_0.9_20151 </td></tr>\n",
       "\t<tr><td>Pvalb     </td><td> 7.313579e-27</td><td> 2.874667e-24</td><td>midnightblue  </td><td>Bicor-None_signum0.325_minSize12_merge_ME_0.9_20151</td></tr>\n",
       "\t<tr><td>Sncg      </td><td> 1.426546e-22</td><td> 5.016938e-20</td><td>brown2        </td><td>Bicor-None_signum0.255_minSize10_merge_ME_0.9_20151</td></tr>\n",
       "\t<tr><td>L6_IT     </td><td> 1.118060e-18</td><td> 3.542225e-16</td><td>yellowgreen   </td><td>Bicor-None_signum0.586_minSize8_merge_ME_0.9_20151 </td></tr>\n",
       "\t<tr><td>L6_CT     </td><td> 3.119748e-16</td><td> 9.246279e-14</td><td>darkgreen     </td><td>Bicor-None_signum0.325_minSize4_merge_ME_0.9_20151 </td></tr>\n",
       "\t<tr><td>Peri      </td><td> 4.069349e-16</td><td> 1.196421e-13</td><td>tan4          </td><td>Bicor-None_signum0.255_minSize6_merge_ME_0.9_20151 </td></tr>\n",
       "\t<tr><td>Vip       </td><td> 7.389845e-15</td><td> 1.939887e-12</td><td>dodgerblue3   </td><td>Bicor-None_signum0.325_minSize4_merge_ME_0.9_20151 </td></tr>\n",
       "\t<tr><td>L2_3_IT   </td><td> 9.493675e-15</td><td> 2.465739e-12</td><td>grey60        </td><td>Bicor-None_signum0.586_minSize4_merge_ME_0.9_20151 </td></tr>\n",
       "\t<tr><td>L5_IT     </td><td> 5.573515e-14</td><td> 1.379342e-11</td><td>mediumpurple4 </td><td>Bicor-None_signum0.325_minSize8_merge_ME_0.9_20151 </td></tr>\n",
       "\t<tr><td>Sst       </td><td> 5.561626e-13</td><td> 1.265606e-10</td><td>mintcream     </td><td>Bicor-None_signum0.255_minSize6_merge_ME_0.9_20151 </td></tr>\n",
       "\t<tr><td>Lamp5     </td><td> 5.714646e-12</td><td> 1.221041e-09</td><td>navajowhite1  </td><td>Bicor-None_signum0.255_minSize10_merge_ME_0.9_20151</td></tr>\n",
       "\t<tr><td>L6b       </td><td> 6.186751e-09</td><td> 1.033497e-06</td><td>lavenderblush2</td><td>Bicor-None_signum0.325_minSize4_merge_ME_0.9_20151 </td></tr>\n",
       "\t<tr><td>Serpinf1  </td><td> 2.894306e-08</td><td> 4.450571e-06</td><td>dodgerblue1   </td><td>Bicor-None_signum0.219_minSize6_merge_ME_0.9_20151 </td></tr>\n",
       "\t<tr><td>L5_PT     </td><td> 1.414827e-07</td><td> 2.011463e-05</td><td>salmon        </td><td>Bicor-None_signum0.325_minSize4_merge_ME_0.9_20151 </td></tr>\n",
       "\t<tr><td>CR        </td><td> 4.626542e-06</td><td> 5.423606e-04</td><td>mistyrose1    </td><td>Bicor-None_signum0.219_minSize6_merge_ME_0.9_20151 </td></tr>\n",
       "</tbody>\n",
       "</table>\n"
      ],
      "text/latex": [
       "A grouped\\_df: 21 × 5\n",
       "\\begin{tabular}{lllll}\n",
       " Cell\\_type & Pval & Qval & Module & Network\\\\\n",
       " <chr> & <dbl> & <dbl> & <chr> & <chr>\\\\\n",
       "\\hline\n",
       "\t Astro      &  0.000000e+00 &  0.000000e+00 & turquoise      & Bicor-None\\_signum0.219\\_minSize10\\_merge\\_ME\\_0.9\\_20151\\\\\n",
       "\t Endo       &  0.000000e+00 &  0.000000e+00 & blue           & Bicor-None\\_signum0.219\\_minSize12\\_merge\\_ME\\_0.9\\_20151\\\\\n",
       "\t Macrophage &  0.000000e+00 &  0.000000e+00 & blue           & Bicor-None\\_signum0.794\\_minSize10\\_merge\\_ME\\_0.9\\_20151\\\\\n",
       "\t Oligo      & 2.121824e-204 & 1.856647e-201 & green          & Bicor-None\\_signum0.325\\_minSize10\\_merge\\_ME\\_0.9\\_20151\\\\\n",
       "\t VLMC       & 4.271020e-139 & 2.853896e-136 & tan            & Bicor-None\\_signum0.794\\_minSize3\\_merge\\_ME\\_0.9\\_20151 \\\\\n",
       "\t SMC        &  1.527776e-95 &  9.516493e-93 & black          & Bicor-None\\_signum0.794\\_minSize6\\_merge\\_ME\\_0.9\\_20151 \\\\\n",
       "\t NP         &  5.714908e-27 &  2.258372e-24 & brown          & Bicor-None\\_signum0.325\\_minSize4\\_merge\\_ME\\_0.9\\_20151 \\\\\n",
       "\t Pvalb      &  7.313579e-27 &  2.874667e-24 & midnightblue   & Bicor-None\\_signum0.325\\_minSize12\\_merge\\_ME\\_0.9\\_20151\\\\\n",
       "\t Sncg       &  1.426546e-22 &  5.016938e-20 & brown2         & Bicor-None\\_signum0.255\\_minSize10\\_merge\\_ME\\_0.9\\_20151\\\\\n",
       "\t L6\\_IT      &  1.118060e-18 &  3.542225e-16 & yellowgreen    & Bicor-None\\_signum0.586\\_minSize8\\_merge\\_ME\\_0.9\\_20151 \\\\\n",
       "\t L6\\_CT      &  3.119748e-16 &  9.246279e-14 & darkgreen      & Bicor-None\\_signum0.325\\_minSize4\\_merge\\_ME\\_0.9\\_20151 \\\\\n",
       "\t Peri       &  4.069349e-16 &  1.196421e-13 & tan4           & Bicor-None\\_signum0.255\\_minSize6\\_merge\\_ME\\_0.9\\_20151 \\\\\n",
       "\t Vip        &  7.389845e-15 &  1.939887e-12 & dodgerblue3    & Bicor-None\\_signum0.325\\_minSize4\\_merge\\_ME\\_0.9\\_20151 \\\\\n",
       "\t L2\\_3\\_IT    &  9.493675e-15 &  2.465739e-12 & grey60         & Bicor-None\\_signum0.586\\_minSize4\\_merge\\_ME\\_0.9\\_20151 \\\\\n",
       "\t L5\\_IT      &  5.573515e-14 &  1.379342e-11 & mediumpurple4  & Bicor-None\\_signum0.325\\_minSize8\\_merge\\_ME\\_0.9\\_20151 \\\\\n",
       "\t Sst        &  5.561626e-13 &  1.265606e-10 & mintcream      & Bicor-None\\_signum0.255\\_minSize6\\_merge\\_ME\\_0.9\\_20151 \\\\\n",
       "\t Lamp5      &  5.714646e-12 &  1.221041e-09 & navajowhite1   & Bicor-None\\_signum0.255\\_minSize10\\_merge\\_ME\\_0.9\\_20151\\\\\n",
       "\t L6b        &  6.186751e-09 &  1.033497e-06 & lavenderblush2 & Bicor-None\\_signum0.325\\_minSize4\\_merge\\_ME\\_0.9\\_20151 \\\\\n",
       "\t Serpinf1   &  2.894306e-08 &  4.450571e-06 & dodgerblue1    & Bicor-None\\_signum0.219\\_minSize6\\_merge\\_ME\\_0.9\\_20151 \\\\\n",
       "\t L5\\_PT      &  1.414827e-07 &  2.011463e-05 & salmon         & Bicor-None\\_signum0.325\\_minSize4\\_merge\\_ME\\_0.9\\_20151 \\\\\n",
       "\t CR         &  4.626542e-06 &  5.423606e-04 & mistyrose1     & Bicor-None\\_signum0.219\\_minSize6\\_merge\\_ME\\_0.9\\_20151 \\\\\n",
       "\\end{tabular}\n"
      ],
      "text/markdown": [
       "\n",
       "A grouped_df: 21 × 5\n",
       "\n",
       "| Cell_type &lt;chr&gt; | Pval &lt;dbl&gt; | Qval &lt;dbl&gt; | Module &lt;chr&gt; | Network &lt;chr&gt; |\n",
       "|---|---|---|---|---|\n",
       "| Astro      |  0.000000e+00 |  0.000000e+00 | turquoise      | Bicor-None_signum0.219_minSize10_merge_ME_0.9_20151 |\n",
       "| Endo       |  0.000000e+00 |  0.000000e+00 | blue           | Bicor-None_signum0.219_minSize12_merge_ME_0.9_20151 |\n",
       "| Macrophage |  0.000000e+00 |  0.000000e+00 | blue           | Bicor-None_signum0.794_minSize10_merge_ME_0.9_20151 |\n",
       "| Oligo      | 2.121824e-204 | 1.856647e-201 | green          | Bicor-None_signum0.325_minSize10_merge_ME_0.9_20151 |\n",
       "| VLMC       | 4.271020e-139 | 2.853896e-136 | tan            | Bicor-None_signum0.794_minSize3_merge_ME_0.9_20151  |\n",
       "| SMC        |  1.527776e-95 |  9.516493e-93 | black          | Bicor-None_signum0.794_minSize6_merge_ME_0.9_20151  |\n",
       "| NP         |  5.714908e-27 |  2.258372e-24 | brown          | Bicor-None_signum0.325_minSize4_merge_ME_0.9_20151  |\n",
       "| Pvalb      |  7.313579e-27 |  2.874667e-24 | midnightblue   | Bicor-None_signum0.325_minSize12_merge_ME_0.9_20151 |\n",
       "| Sncg       |  1.426546e-22 |  5.016938e-20 | brown2         | Bicor-None_signum0.255_minSize10_merge_ME_0.9_20151 |\n",
       "| L6_IT      |  1.118060e-18 |  3.542225e-16 | yellowgreen    | Bicor-None_signum0.586_minSize8_merge_ME_0.9_20151  |\n",
       "| L6_CT      |  3.119748e-16 |  9.246279e-14 | darkgreen      | Bicor-None_signum0.325_minSize4_merge_ME_0.9_20151  |\n",
       "| Peri       |  4.069349e-16 |  1.196421e-13 | tan4           | Bicor-None_signum0.255_minSize6_merge_ME_0.9_20151  |\n",
       "| Vip        |  7.389845e-15 |  1.939887e-12 | dodgerblue3    | Bicor-None_signum0.325_minSize4_merge_ME_0.9_20151  |\n",
       "| L2_3_IT    |  9.493675e-15 |  2.465739e-12 | grey60         | Bicor-None_signum0.586_minSize4_merge_ME_0.9_20151  |\n",
       "| L5_IT      |  5.573515e-14 |  1.379342e-11 | mediumpurple4  | Bicor-None_signum0.325_minSize8_merge_ME_0.9_20151  |\n",
       "| Sst        |  5.561626e-13 |  1.265606e-10 | mintcream      | Bicor-None_signum0.255_minSize6_merge_ME_0.9_20151  |\n",
       "| Lamp5      |  5.714646e-12 |  1.221041e-09 | navajowhite1   | Bicor-None_signum0.255_minSize10_merge_ME_0.9_20151 |\n",
       "| L6b        |  6.186751e-09 |  1.033497e-06 | lavenderblush2 | Bicor-None_signum0.325_minSize4_merge_ME_0.9_20151  |\n",
       "| Serpinf1   |  2.894306e-08 |  4.450571e-06 | dodgerblue1    | Bicor-None_signum0.219_minSize6_merge_ME_0.9_20151  |\n",
       "| L5_PT      |  1.414827e-07 |  2.011463e-05 | salmon         | Bicor-None_signum0.325_minSize4_merge_ME_0.9_20151  |\n",
       "| CR         |  4.626542e-06 |  5.423606e-04 | mistyrose1     | Bicor-None_signum0.219_minSize6_merge_ME_0.9_20151  |\n",
       "\n"
      ],
      "text/plain": [
       "   Cell_type  Pval          Qval          Module        \n",
       "1  Astro       0.000000e+00  0.000000e+00 turquoise     \n",
       "2  Endo        0.000000e+00  0.000000e+00 blue          \n",
       "3  Macrophage  0.000000e+00  0.000000e+00 blue          \n",
       "4  Oligo      2.121824e-204 1.856647e-201 green         \n",
       "5  VLMC       4.271020e-139 2.853896e-136 tan           \n",
       "6  SMC         1.527776e-95  9.516493e-93 black         \n",
       "7  NP          5.714908e-27  2.258372e-24 brown         \n",
       "8  Pvalb       7.313579e-27  2.874667e-24 midnightblue  \n",
       "9  Sncg        1.426546e-22  5.016938e-20 brown2        \n",
       "10 L6_IT       1.118060e-18  3.542225e-16 yellowgreen   \n",
       "11 L6_CT       3.119748e-16  9.246279e-14 darkgreen     \n",
       "12 Peri        4.069349e-16  1.196421e-13 tan4          \n",
       "13 Vip         7.389845e-15  1.939887e-12 dodgerblue3   \n",
       "14 L2_3_IT     9.493675e-15  2.465739e-12 grey60        \n",
       "15 L5_IT       5.573515e-14  1.379342e-11 mediumpurple4 \n",
       "16 Sst         5.561626e-13  1.265606e-10 mintcream     \n",
       "17 Lamp5       5.714646e-12  1.221041e-09 navajowhite1  \n",
       "18 L6b         6.186751e-09  1.033497e-06 lavenderblush2\n",
       "19 Serpinf1    2.894306e-08  4.450571e-06 dodgerblue1   \n",
       "20 L5_PT       1.414827e-07  2.011463e-05 salmon        \n",
       "21 CR          4.626542e-06  5.423606e-04 mistyrose1    \n",
       "   Network                                            \n",
       "1  Bicor-None_signum0.219_minSize10_merge_ME_0.9_20151\n",
       "2  Bicor-None_signum0.219_minSize12_merge_ME_0.9_20151\n",
       "3  Bicor-None_signum0.794_minSize10_merge_ME_0.9_20151\n",
       "4  Bicor-None_signum0.325_minSize10_merge_ME_0.9_20151\n",
       "5  Bicor-None_signum0.794_minSize3_merge_ME_0.9_20151 \n",
       "6  Bicor-None_signum0.794_minSize6_merge_ME_0.9_20151 \n",
       "7  Bicor-None_signum0.325_minSize4_merge_ME_0.9_20151 \n",
       "8  Bicor-None_signum0.325_minSize12_merge_ME_0.9_20151\n",
       "9  Bicor-None_signum0.255_minSize10_merge_ME_0.9_20151\n",
       "10 Bicor-None_signum0.586_minSize8_merge_ME_0.9_20151 \n",
       "11 Bicor-None_signum0.325_minSize4_merge_ME_0.9_20151 \n",
       "12 Bicor-None_signum0.255_minSize6_merge_ME_0.9_20151 \n",
       "13 Bicor-None_signum0.325_minSize4_merge_ME_0.9_20151 \n",
       "14 Bicor-None_signum0.586_minSize4_merge_ME_0.9_20151 \n",
       "15 Bicor-None_signum0.325_minSize8_merge_ME_0.9_20151 \n",
       "16 Bicor-None_signum0.255_minSize6_merge_ME_0.9_20151 \n",
       "17 Bicor-None_signum0.255_minSize10_merge_ME_0.9_20151\n",
       "18 Bicor-None_signum0.325_minSize4_merge_ME_0.9_20151 \n",
       "19 Bicor-None_signum0.219_minSize6_merge_ME_0.9_20151 \n",
       "20 Bicor-None_signum0.325_minSize4_merge_ME_0.9_20151 \n",
       "21 Bicor-None_signum0.219_minSize6_merge_ME_0.9_20151 "
      ]
     },
     "metadata": {},
     "output_type": "display_data"
    }
   ],
   "source": [
    "pairwise_top_mods_df[,c(\"Cell_type\", \"Pval\", \"Qval\", \"Module\", \"Network\")]"
   ]
  },
  {
   "cell_type": "markdown",
   "id": "03b2b613",
   "metadata": {},
   "source": [
    "### Get DE genes frome each cell type: 1 vs. mean analysis"
   ]
  },
  {
   "cell_type": "code",
   "execution_count": 164,
   "id": "54340439",
   "metadata": {
    "vscode": {
     "languageId": "r"
    }
   },
   "outputs": [],
   "source": [
    "mean_res_list <- readRDS(\"data/tasic_2018_ALM_STAR_donor_cell_type_pseudobulk_1_vs_meanOthers_DE_genes_dream.RDS\")"
   ]
  },
  {
   "cell_type": "code",
   "execution_count": 165,
   "id": "d868ba05",
   "metadata": {
    "vscode": {
     "languageId": "r"
    }
   },
   "outputs": [],
   "source": [
    "pval_threshold <- .05/length(mean_res_list)\n",
    "lfc_threshold <- 6\n",
    "\n",
    "mean_ctype_genes <- lapply(mean_res_list, function(df) {\n",
    "    mask <- (df['adj.P.Val'] < pval_threshold) & (abs(df['logFC']) > lfc_threshold)\n",
    "    df[mask, 1]\n",
    "})\n",
    "names(mean_ctype_genes) <- names(mean_res_list) "
   ]
  },
  {
   "cell_type": "code",
   "execution_count": 166,
   "id": "bf629980",
   "metadata": {
    "vscode": {
     "languageId": "r"
    }
   },
   "outputs": [],
   "source": [
    "all_genes <- unlist(mean_ctype_genes)\n",
    "duplicates <- unique(names(table(all_genes)[table(all_genes) > 1]))\n",
    "\n",
    "# Remove markers that are not unique to a cell type\n",
    "\n",
    "mean_ctype_genes <- lapply(mean_ctype_genes, function(x) x[!(x %in% duplicates)])"
   ]
  },
  {
   "cell_type": "code",
   "execution_count": 167,
   "id": "93eb6386",
   "metadata": {
    "vscode": {
     "languageId": "r"
    }
   },
   "outputs": [
    {
     "data": {
      "text/html": [
       "<table class=\"dataframe\">\n",
       "<caption>A data.frame: 23 × 1</caption>\n",
       "<thead>\n",
       "\t<tr><th></th><th scope=col>No.genes</th></tr>\n",
       "\t<tr><th></th><th scope=col>&lt;int&gt;</th></tr>\n",
       "</thead>\n",
       "<tbody>\n",
       "\t<tr><th scope=row>Peri</th><td>1279</td></tr>\n",
       "\t<tr><th scope=row>Macrophage</th><td> 355</td></tr>\n",
       "\t<tr><th scope=row>Endo</th><td> 325</td></tr>\n",
       "\t<tr><th scope=row>Astro</th><td> 213</td></tr>\n",
       "\t<tr><th scope=row>Oligo</th><td> 119</td></tr>\n",
       "\t<tr><th scope=row>VLMC</th><td> 110</td></tr>\n",
       "\t<tr><th scope=row>SMC</th><td>  94</td></tr>\n",
       "\t<tr><th scope=row>CR</th><td>  31</td></tr>\n",
       "\t<tr><th scope=row>Meis2</th><td>  30</td></tr>\n",
       "\t<tr><th scope=row>NP</th><td>  25</td></tr>\n",
       "\t<tr><th scope=row>L6_IT</th><td>  19</td></tr>\n",
       "\t<tr><th scope=row>Sst</th><td>  19</td></tr>\n",
       "\t<tr><th scope=row>L6_CT</th><td>  17</td></tr>\n",
       "\t<tr><th scope=row>Pvalb</th><td>  17</td></tr>\n",
       "\t<tr><th scope=row>Lamp5</th><td>  16</td></tr>\n",
       "\t<tr><th scope=row>L5_IT</th><td>  14</td></tr>\n",
       "\t<tr><th scope=row>Serpinf1</th><td>  14</td></tr>\n",
       "\t<tr><th scope=row>Sncg</th><td>  13</td></tr>\n",
       "\t<tr><th scope=row>L2_3_IT</th><td>  12</td></tr>\n",
       "\t<tr><th scope=row>L4</th><td>  12</td></tr>\n",
       "\t<tr><th scope=row>Vip</th><td>  12</td></tr>\n",
       "\t<tr><th scope=row>L5_PT</th><td>  10</td></tr>\n",
       "\t<tr><th scope=row>L6b</th><td>   8</td></tr>\n",
       "</tbody>\n",
       "</table>\n"
      ],
      "text/latex": [
       "A data.frame: 23 × 1\n",
       "\\begin{tabular}{r|l}\n",
       "  & No.genes\\\\\n",
       "  & <int>\\\\\n",
       "\\hline\n",
       "\tPeri & 1279\\\\\n",
       "\tMacrophage &  355\\\\\n",
       "\tEndo &  325\\\\\n",
       "\tAstro &  213\\\\\n",
       "\tOligo &  119\\\\\n",
       "\tVLMC &  110\\\\\n",
       "\tSMC &   94\\\\\n",
       "\tCR &   31\\\\\n",
       "\tMeis2 &   30\\\\\n",
       "\tNP &   25\\\\\n",
       "\tL6\\_IT &   19\\\\\n",
       "\tSst &   19\\\\\n",
       "\tL6\\_CT &   17\\\\\n",
       "\tPvalb &   17\\\\\n",
       "\tLamp5 &   16\\\\\n",
       "\tL5\\_IT &   14\\\\\n",
       "\tSerpinf1 &   14\\\\\n",
       "\tSncg &   13\\\\\n",
       "\tL2\\_3\\_IT &   12\\\\\n",
       "\tL4 &   12\\\\\n",
       "\tVip &   12\\\\\n",
       "\tL5\\_PT &   10\\\\\n",
       "\tL6b &    8\\\\\n",
       "\\end{tabular}\n"
      ],
      "text/markdown": [
       "\n",
       "A data.frame: 23 × 1\n",
       "\n",
       "| <!--/--> | No.genes &lt;int&gt; |\n",
       "|---|---|\n",
       "| Peri | 1279 |\n",
       "| Macrophage |  355 |\n",
       "| Endo |  325 |\n",
       "| Astro |  213 |\n",
       "| Oligo |  119 |\n",
       "| VLMC |  110 |\n",
       "| SMC |   94 |\n",
       "| CR |   31 |\n",
       "| Meis2 |   30 |\n",
       "| NP |   25 |\n",
       "| L6_IT |   19 |\n",
       "| Sst |   19 |\n",
       "| L6_CT |   17 |\n",
       "| Pvalb |   17 |\n",
       "| Lamp5 |   16 |\n",
       "| L5_IT |   14 |\n",
       "| Serpinf1 |   14 |\n",
       "| Sncg |   13 |\n",
       "| L2_3_IT |   12 |\n",
       "| L4 |   12 |\n",
       "| Vip |   12 |\n",
       "| L5_PT |   10 |\n",
       "| L6b |    8 |\n",
       "\n"
      ],
      "text/plain": [
       "           No.genes\n",
       "Peri       1279    \n",
       "Macrophage  355    \n",
       "Endo        325    \n",
       "Astro       213    \n",
       "Oligo       119    \n",
       "VLMC        110    \n",
       "SMC          94    \n",
       "CR           31    \n",
       "Meis2        30    \n",
       "NP           25    \n",
       "L6_IT        19    \n",
       "Sst          19    \n",
       "L6_CT        17    \n",
       "Pvalb        17    \n",
       "Lamp5        16    \n",
       "L5_IT        14    \n",
       "Serpinf1     14    \n",
       "Sncg         13    \n",
       "L2_3_IT      12    \n",
       "L4           12    \n",
       "Vip          12    \n",
       "L5_PT        10    \n",
       "L6b           8    "
      ]
     },
     "metadata": {},
     "output_type": "display_data"
    }
   ],
   "source": [
    "data.frame(No.genes=lengths(mean_ctype_genes)) %>% arrange(-`No.genes`)"
   ]
  },
  {
   "cell_type": "code",
   "execution_count": 168,
   "id": "461bdf2d",
   "metadata": {
    "vscode": {
     "languageId": "r"
    }
   },
   "outputs": [],
   "source": [
    "mean_enrichments_df <- get_module_enrichments(network_dir, mean_ctype_genes)"
   ]
  },
  {
   "cell_type": "code",
   "execution_count": 169,
   "id": "0830bd47",
   "metadata": {
    "vscode": {
     "languageId": "r"
    }
   },
   "outputs": [],
   "source": [
    "# Get most enriched cell type for each module\n",
    "# If cell type is most enriched in multiple modules, choose module with smallest p-value\n",
    "\n",
    "mean_top_mods_df <- mean_enrichments_df %>%\n",
    "    group_by(Network, Module) %>%\n",
    "    slice_min(Qval) %>%\n",
    "    group_by(Cell_type) %>%\n",
    "    arrange(Network) %>%\n",
    "    slice_min(Qval, with_ties=FALSE) %>%\n",
    "    filter(Qval < .05) %>%\n",
    "    arrange(Qval)"
   ]
  },
  {
   "cell_type": "code",
   "execution_count": 170,
   "id": "33582973",
   "metadata": {
    "vscode": {
     "languageId": "r"
    }
   },
   "outputs": [
    {
     "data": {
      "text/html": [
       "<table class=\"dataframe\">\n",
       "<caption>A grouped_df: 23 × 5</caption>\n",
       "<thead>\n",
       "\t<tr><th scope=col>Cell_type</th><th scope=col>Pval</th><th scope=col>Qval</th><th scope=col>Module</th><th scope=col>Network</th></tr>\n",
       "\t<tr><th scope=col>&lt;chr&gt;</th><th scope=col>&lt;dbl&gt;</th><th scope=col>&lt;dbl&gt;</th><th scope=col>&lt;chr&gt;</th><th scope=col>&lt;chr&gt;</th></tr>\n",
       "</thead>\n",
       "<tbody>\n",
       "\t<tr><td>Macrophage</td><td>1.042092e-284</td><td>8.007749e-280</td><td>blue          </td><td>Bicor-None_signum0.794_minSize10_merge_ME_0.9_20151</td></tr>\n",
       "\t<tr><td>Astro     </td><td>8.465824e-259</td><td>1.084232e-254</td><td>turquoise     </td><td>Bicor-None_signum0.325_minSize4_merge_ME_0.9_20151 </td></tr>\n",
       "\t<tr><td>Endo      </td><td>2.425537e-237</td><td>1.035475e-233</td><td>blue          </td><td>Bicor-None_signum0.325_minSize10_merge_ME_0.9_20151</td></tr>\n",
       "\t<tr><td>Oligo     </td><td>8.625306e-145</td><td>7.890410e-142</td><td>green         </td><td>Bicor-None_signum0.919_minSize3_merge_ME_0.9_20151 </td></tr>\n",
       "\t<tr><td>VLMC      </td><td>3.308877e-132</td><td>2.676463e-129</td><td>tan           </td><td>Bicor-None_signum0.794_minSize3_merge_ME_0.9_20151 </td></tr>\n",
       "\t<tr><td>SMC       </td><td> 4.097873e-88</td><td> 2.668583e-85</td><td>black         </td><td>Bicor-None_signum0.794_minSize6_merge_ME_0.9_20151 </td></tr>\n",
       "\t<tr><td>Peri      </td><td> 7.154487e-68</td><td> 3.983857e-65</td><td>white         </td><td>Bicor-None_signum0.586_minSize8_merge_ME_0.9_20151 </td></tr>\n",
       "\t<tr><td>NP        </td><td> 3.448277e-45</td><td> 1.625619e-42</td><td>brown         </td><td>Bicor-None_signum0.255_minSize6_merge_ME_0.9_20151 </td></tr>\n",
       "\t<tr><td>L6_CT     </td><td> 2.038744e-25</td><td> 7.495848e-23</td><td>tan           </td><td>Bicor-None_signum0.586_minSize6_merge_ME_0.9_20151 </td></tr>\n",
       "\t<tr><td>L6_IT     </td><td> 1.112587e-24</td><td> 4.071167e-22</td><td>yellowgreen   </td><td>Bicor-None_signum0.586_minSize8_merge_ME_0.9_20151 </td></tr>\n",
       "\t<tr><td>Sncg      </td><td> 6.954155e-21</td><td> 2.283667e-18</td><td>palevioletred3</td><td>Bicor-None_signum0.325_minSize12_merge_ME_0.9_20151</td></tr>\n",
       "\t<tr><td>Pvalb     </td><td> 2.775033e-17</td><td> 7.353169e-15</td><td>midnightblue  </td><td>Bicor-None_signum0.325_minSize10_merge_ME_0.9_20151</td></tr>\n",
       "\t<tr><td>L2_3_IT   </td><td> 1.102387e-15</td><td> 2.715087e-13</td><td>greenyellow   </td><td>Bicor-None_signum0.794_minSize4_merge_ME_0.9_20151 </td></tr>\n",
       "\t<tr><td>Serpinf1  </td><td> 1.221268e-14</td><td> 2.878709e-12</td><td>lightpink1    </td><td>Bicor-None_signum0.219_minSize8_merge_ME_0.9_20151 </td></tr>\n",
       "\t<tr><td>Lamp5     </td><td> 1.450931e-12</td><td> 3.037980e-10</td><td>darkorange    </td><td>Bicor-None_signum0.586_minSize8_merge_ME_0.9_20151 </td></tr>\n",
       "\t<tr><td>Vip       </td><td> 1.871073e-12</td><td> 3.865023e-10</td><td>dodgerblue3   </td><td>Bicor-None_signum0.325_minSize4_merge_ME_0.9_20151 </td></tr>\n",
       "\t<tr><td>L5_IT     </td><td> 8.761249e-11</td><td> 1.622267e-08</td><td>mediumpurple4 </td><td>Bicor-None_signum0.325_minSize6_merge_ME_0.9_20151 </td></tr>\n",
       "\t<tr><td>Sst       </td><td> 5.265126e-09</td><td> 8.140605e-07</td><td>mintcream     </td><td>Bicor-None_signum0.255_minSize6_merge_ME_0.9_20151 </td></tr>\n",
       "\t<tr><td>L5_PT     </td><td> 7.233828e-09</td><td> 1.098908e-06</td><td>salmon        </td><td>Bicor-None_signum0.325_minSize6_merge_ME_0.9_20151 </td></tr>\n",
       "\t<tr><td>L6b       </td><td> 5.782283e-07</td><td> 6.582637e-05</td><td>darkseagreen4 </td><td>Bicor-None_signum0.586_minSize3_merge_ME_0.9_20151 </td></tr>\n",
       "\t<tr><td>L4        </td><td> 1.058009e-06</td><td> 1.168112e-04</td><td>salmon2       </td><td>Bicor-None_signum0.219_minSize8_merge_ME_0.9_20151 </td></tr>\n",
       "\t<tr><td>CR        </td><td> 4.010693e-04</td><td> 2.756652e-02</td><td>tomato        </td><td>Bicor-None_signum0.586_minSize4_merge_ME_0.9_20151 </td></tr>\n",
       "\t<tr><td>Meis2     </td><td> 7.348539e-04</td><td> 4.740929e-02</td><td>goldenrod2    </td><td>Bicor-None_signum0.255_minSize6_merge_ME_0.9_20151 </td></tr>\n",
       "</tbody>\n",
       "</table>\n"
      ],
      "text/latex": [
       "A grouped\\_df: 23 × 5\n",
       "\\begin{tabular}{lllll}\n",
       " Cell\\_type & Pval & Qval & Module & Network\\\\\n",
       " <chr> & <dbl> & <dbl> & <chr> & <chr>\\\\\n",
       "\\hline\n",
       "\t Macrophage & 1.042092e-284 & 8.007749e-280 & blue           & Bicor-None\\_signum0.794\\_minSize10\\_merge\\_ME\\_0.9\\_20151\\\\\n",
       "\t Astro      & 8.465824e-259 & 1.084232e-254 & turquoise      & Bicor-None\\_signum0.325\\_minSize4\\_merge\\_ME\\_0.9\\_20151 \\\\\n",
       "\t Endo       & 2.425537e-237 & 1.035475e-233 & blue           & Bicor-None\\_signum0.325\\_minSize10\\_merge\\_ME\\_0.9\\_20151\\\\\n",
       "\t Oligo      & 8.625306e-145 & 7.890410e-142 & green          & Bicor-None\\_signum0.919\\_minSize3\\_merge\\_ME\\_0.9\\_20151 \\\\\n",
       "\t VLMC       & 3.308877e-132 & 2.676463e-129 & tan            & Bicor-None\\_signum0.794\\_minSize3\\_merge\\_ME\\_0.9\\_20151 \\\\\n",
       "\t SMC        &  4.097873e-88 &  2.668583e-85 & black          & Bicor-None\\_signum0.794\\_minSize6\\_merge\\_ME\\_0.9\\_20151 \\\\\n",
       "\t Peri       &  7.154487e-68 &  3.983857e-65 & white          & Bicor-None\\_signum0.586\\_minSize8\\_merge\\_ME\\_0.9\\_20151 \\\\\n",
       "\t NP         &  3.448277e-45 &  1.625619e-42 & brown          & Bicor-None\\_signum0.255\\_minSize6\\_merge\\_ME\\_0.9\\_20151 \\\\\n",
       "\t L6\\_CT      &  2.038744e-25 &  7.495848e-23 & tan            & Bicor-None\\_signum0.586\\_minSize6\\_merge\\_ME\\_0.9\\_20151 \\\\\n",
       "\t L6\\_IT      &  1.112587e-24 &  4.071167e-22 & yellowgreen    & Bicor-None\\_signum0.586\\_minSize8\\_merge\\_ME\\_0.9\\_20151 \\\\\n",
       "\t Sncg       &  6.954155e-21 &  2.283667e-18 & palevioletred3 & Bicor-None\\_signum0.325\\_minSize12\\_merge\\_ME\\_0.9\\_20151\\\\\n",
       "\t Pvalb      &  2.775033e-17 &  7.353169e-15 & midnightblue   & Bicor-None\\_signum0.325\\_minSize10\\_merge\\_ME\\_0.9\\_20151\\\\\n",
       "\t L2\\_3\\_IT    &  1.102387e-15 &  2.715087e-13 & greenyellow    & Bicor-None\\_signum0.794\\_minSize4\\_merge\\_ME\\_0.9\\_20151 \\\\\n",
       "\t Serpinf1   &  1.221268e-14 &  2.878709e-12 & lightpink1     & Bicor-None\\_signum0.219\\_minSize8\\_merge\\_ME\\_0.9\\_20151 \\\\\n",
       "\t Lamp5      &  1.450931e-12 &  3.037980e-10 & darkorange     & Bicor-None\\_signum0.586\\_minSize8\\_merge\\_ME\\_0.9\\_20151 \\\\\n",
       "\t Vip        &  1.871073e-12 &  3.865023e-10 & dodgerblue3    & Bicor-None\\_signum0.325\\_minSize4\\_merge\\_ME\\_0.9\\_20151 \\\\\n",
       "\t L5\\_IT      &  8.761249e-11 &  1.622267e-08 & mediumpurple4  & Bicor-None\\_signum0.325\\_minSize6\\_merge\\_ME\\_0.9\\_20151 \\\\\n",
       "\t Sst        &  5.265126e-09 &  8.140605e-07 & mintcream      & Bicor-None\\_signum0.255\\_minSize6\\_merge\\_ME\\_0.9\\_20151 \\\\\n",
       "\t L5\\_PT      &  7.233828e-09 &  1.098908e-06 & salmon         & Bicor-None\\_signum0.325\\_minSize6\\_merge\\_ME\\_0.9\\_20151 \\\\\n",
       "\t L6b        &  5.782283e-07 &  6.582637e-05 & darkseagreen4  & Bicor-None\\_signum0.586\\_minSize3\\_merge\\_ME\\_0.9\\_20151 \\\\\n",
       "\t L4         &  1.058009e-06 &  1.168112e-04 & salmon2        & Bicor-None\\_signum0.219\\_minSize8\\_merge\\_ME\\_0.9\\_20151 \\\\\n",
       "\t CR         &  4.010693e-04 &  2.756652e-02 & tomato         & Bicor-None\\_signum0.586\\_minSize4\\_merge\\_ME\\_0.9\\_20151 \\\\\n",
       "\t Meis2      &  7.348539e-04 &  4.740929e-02 & goldenrod2     & Bicor-None\\_signum0.255\\_minSize6\\_merge\\_ME\\_0.9\\_20151 \\\\\n",
       "\\end{tabular}\n"
      ],
      "text/markdown": [
       "\n",
       "A grouped_df: 23 × 5\n",
       "\n",
       "| Cell_type &lt;chr&gt; | Pval &lt;dbl&gt; | Qval &lt;dbl&gt; | Module &lt;chr&gt; | Network &lt;chr&gt; |\n",
       "|---|---|---|---|---|\n",
       "| Macrophage | 1.042092e-284 | 8.007749e-280 | blue           | Bicor-None_signum0.794_minSize10_merge_ME_0.9_20151 |\n",
       "| Astro      | 8.465824e-259 | 1.084232e-254 | turquoise      | Bicor-None_signum0.325_minSize4_merge_ME_0.9_20151  |\n",
       "| Endo       | 2.425537e-237 | 1.035475e-233 | blue           | Bicor-None_signum0.325_minSize10_merge_ME_0.9_20151 |\n",
       "| Oligo      | 8.625306e-145 | 7.890410e-142 | green          | Bicor-None_signum0.919_minSize3_merge_ME_0.9_20151  |\n",
       "| VLMC       | 3.308877e-132 | 2.676463e-129 | tan            | Bicor-None_signum0.794_minSize3_merge_ME_0.9_20151  |\n",
       "| SMC        |  4.097873e-88 |  2.668583e-85 | black          | Bicor-None_signum0.794_minSize6_merge_ME_0.9_20151  |\n",
       "| Peri       |  7.154487e-68 |  3.983857e-65 | white          | Bicor-None_signum0.586_minSize8_merge_ME_0.9_20151  |\n",
       "| NP         |  3.448277e-45 |  1.625619e-42 | brown          | Bicor-None_signum0.255_minSize6_merge_ME_0.9_20151  |\n",
       "| L6_CT      |  2.038744e-25 |  7.495848e-23 | tan            | Bicor-None_signum0.586_minSize6_merge_ME_0.9_20151  |\n",
       "| L6_IT      |  1.112587e-24 |  4.071167e-22 | yellowgreen    | Bicor-None_signum0.586_minSize8_merge_ME_0.9_20151  |\n",
       "| Sncg       |  6.954155e-21 |  2.283667e-18 | palevioletred3 | Bicor-None_signum0.325_minSize12_merge_ME_0.9_20151 |\n",
       "| Pvalb      |  2.775033e-17 |  7.353169e-15 | midnightblue   | Bicor-None_signum0.325_minSize10_merge_ME_0.9_20151 |\n",
       "| L2_3_IT    |  1.102387e-15 |  2.715087e-13 | greenyellow    | Bicor-None_signum0.794_minSize4_merge_ME_0.9_20151  |\n",
       "| Serpinf1   |  1.221268e-14 |  2.878709e-12 | lightpink1     | Bicor-None_signum0.219_minSize8_merge_ME_0.9_20151  |\n",
       "| Lamp5      |  1.450931e-12 |  3.037980e-10 | darkorange     | Bicor-None_signum0.586_minSize8_merge_ME_0.9_20151  |\n",
       "| Vip        |  1.871073e-12 |  3.865023e-10 | dodgerblue3    | Bicor-None_signum0.325_minSize4_merge_ME_0.9_20151  |\n",
       "| L5_IT      |  8.761249e-11 |  1.622267e-08 | mediumpurple4  | Bicor-None_signum0.325_minSize6_merge_ME_0.9_20151  |\n",
       "| Sst        |  5.265126e-09 |  8.140605e-07 | mintcream      | Bicor-None_signum0.255_minSize6_merge_ME_0.9_20151  |\n",
       "| L5_PT      |  7.233828e-09 |  1.098908e-06 | salmon         | Bicor-None_signum0.325_minSize6_merge_ME_0.9_20151  |\n",
       "| L6b        |  5.782283e-07 |  6.582637e-05 | darkseagreen4  | Bicor-None_signum0.586_minSize3_merge_ME_0.9_20151  |\n",
       "| L4         |  1.058009e-06 |  1.168112e-04 | salmon2        | Bicor-None_signum0.219_minSize8_merge_ME_0.9_20151  |\n",
       "| CR         |  4.010693e-04 |  2.756652e-02 | tomato         | Bicor-None_signum0.586_minSize4_merge_ME_0.9_20151  |\n",
       "| Meis2      |  7.348539e-04 |  4.740929e-02 | goldenrod2     | Bicor-None_signum0.255_minSize6_merge_ME_0.9_20151  |\n",
       "\n"
      ],
      "text/plain": [
       "   Cell_type  Pval          Qval          Module        \n",
       "1  Macrophage 1.042092e-284 8.007749e-280 blue          \n",
       "2  Astro      8.465824e-259 1.084232e-254 turquoise     \n",
       "3  Endo       2.425537e-237 1.035475e-233 blue          \n",
       "4  Oligo      8.625306e-145 7.890410e-142 green         \n",
       "5  VLMC       3.308877e-132 2.676463e-129 tan           \n",
       "6  SMC         4.097873e-88  2.668583e-85 black         \n",
       "7  Peri        7.154487e-68  3.983857e-65 white         \n",
       "8  NP          3.448277e-45  1.625619e-42 brown         \n",
       "9  L6_CT       2.038744e-25  7.495848e-23 tan           \n",
       "10 L6_IT       1.112587e-24  4.071167e-22 yellowgreen   \n",
       "11 Sncg        6.954155e-21  2.283667e-18 palevioletred3\n",
       "12 Pvalb       2.775033e-17  7.353169e-15 midnightblue  \n",
       "13 L2_3_IT     1.102387e-15  2.715087e-13 greenyellow   \n",
       "14 Serpinf1    1.221268e-14  2.878709e-12 lightpink1    \n",
       "15 Lamp5       1.450931e-12  3.037980e-10 darkorange    \n",
       "16 Vip         1.871073e-12  3.865023e-10 dodgerblue3   \n",
       "17 L5_IT       8.761249e-11  1.622267e-08 mediumpurple4 \n",
       "18 Sst         5.265126e-09  8.140605e-07 mintcream     \n",
       "19 L5_PT       7.233828e-09  1.098908e-06 salmon        \n",
       "20 L6b         5.782283e-07  6.582637e-05 darkseagreen4 \n",
       "21 L4          1.058009e-06  1.168112e-04 salmon2       \n",
       "22 CR          4.010693e-04  2.756652e-02 tomato        \n",
       "23 Meis2       7.348539e-04  4.740929e-02 goldenrod2    \n",
       "   Network                                            \n",
       "1  Bicor-None_signum0.794_minSize10_merge_ME_0.9_20151\n",
       "2  Bicor-None_signum0.325_minSize4_merge_ME_0.9_20151 \n",
       "3  Bicor-None_signum0.325_minSize10_merge_ME_0.9_20151\n",
       "4  Bicor-None_signum0.919_minSize3_merge_ME_0.9_20151 \n",
       "5  Bicor-None_signum0.794_minSize3_merge_ME_0.9_20151 \n",
       "6  Bicor-None_signum0.794_minSize6_merge_ME_0.9_20151 \n",
       "7  Bicor-None_signum0.586_minSize8_merge_ME_0.9_20151 \n",
       "8  Bicor-None_signum0.255_minSize6_merge_ME_0.9_20151 \n",
       "9  Bicor-None_signum0.586_minSize6_merge_ME_0.9_20151 \n",
       "10 Bicor-None_signum0.586_minSize8_merge_ME_0.9_20151 \n",
       "11 Bicor-None_signum0.325_minSize12_merge_ME_0.9_20151\n",
       "12 Bicor-None_signum0.325_minSize10_merge_ME_0.9_20151\n",
       "13 Bicor-None_signum0.794_minSize4_merge_ME_0.9_20151 \n",
       "14 Bicor-None_signum0.219_minSize8_merge_ME_0.9_20151 \n",
       "15 Bicor-None_signum0.586_minSize8_merge_ME_0.9_20151 \n",
       "16 Bicor-None_signum0.325_minSize4_merge_ME_0.9_20151 \n",
       "17 Bicor-None_signum0.325_minSize6_merge_ME_0.9_20151 \n",
       "18 Bicor-None_signum0.255_minSize6_merge_ME_0.9_20151 \n",
       "19 Bicor-None_signum0.325_minSize6_merge_ME_0.9_20151 \n",
       "20 Bicor-None_signum0.586_minSize3_merge_ME_0.9_20151 \n",
       "21 Bicor-None_signum0.219_minSize8_merge_ME_0.9_20151 \n",
       "22 Bicor-None_signum0.586_minSize4_merge_ME_0.9_20151 \n",
       "23 Bicor-None_signum0.255_minSize6_merge_ME_0.9_20151 "
      ]
     },
     "metadata": {},
     "output_type": "display_data"
    }
   ],
   "source": [
    "mean_top_mods_df[,c(\"Cell_type\", \"Pval\", \"Qval\", \"Module\", \"Network\")]"
   ]
  },
  {
   "cell_type": "markdown",
   "id": "ef3a3af6",
   "metadata": {},
   "source": [
    "### Compare enrichment results"
   ]
  },
  {
   "cell_type": "code",
   "execution_count": 171,
   "id": "d4cdd2ff",
   "metadata": {
    "vscode": {
     "languageId": "r"
    }
   },
   "outputs": [],
   "source": [
    "pooled_top_mods_df$Network_short <- gsub(\"Bicor-None_\", \"\", gsub(\"_merge_ME_0.9_20151\", \"\", pooled_top_mods_df$Network))\n",
    "pairwise_top_mods_df$Network_short <- gsub(\"Bicor-None_\", \"\", gsub(\"_merge_ME_0.9_20151\", \"\", pairwise_top_mods_df$Network))\n",
    "mean_top_mods_df$Network_short <- gsub(\"Bicor-None_\", \"\", gsub(\"_merge_ME_0.9_20151\", \"\", mean_top_mods_df$Network))\n",
    "\n",
    "cols <- c(\"Cell_type\", \"Qval\", \"Module\", \"Network_short\")\n",
    "\n",
    "all_top_mods_df <- merge(\n",
    "    merge(\n",
    "        pooled_top_mods_df[,cols], \n",
    "        pairwise_top_mods_df[,cols], \n",
    "        by=\"Cell_type\", all=TRUE\n",
    "    ), \n",
    "    mean_top_mods_df[,cols], by=\"Cell_type\", all=TRUE\n",
    ")"
   ]
  },
  {
   "cell_type": "code",
   "execution_count": 172,
   "id": "6a9404c7",
   "metadata": {
    "vscode": {
     "languageId": "r"
    }
   },
   "outputs": [
    {
     "data": {
      "text/html": [
       "<table class=\"dataframe\">\n",
       "<caption>A data.frame: 23 × 10</caption>\n",
       "<thead>\n",
       "\t<tr><th scope=col>Cell_type</th><th scope=col>Module</th><th scope=col>Module.x</th><th scope=col>Module.y</th><th scope=col>Network_short</th><th scope=col>Network_short.x</th><th scope=col>Network_short.y</th><th scope=col>Qval</th><th scope=col>Qval.x</th><th scope=col>Qval.y</th></tr>\n",
       "\t<tr><th scope=col>&lt;chr&gt;</th><th scope=col>&lt;chr&gt;</th><th scope=col>&lt;chr&gt;</th><th scope=col>&lt;chr&gt;</th><th scope=col>&lt;chr&gt;</th><th scope=col>&lt;chr&gt;</th><th scope=col>&lt;chr&gt;</th><th scope=col>&lt;dbl&gt;</th><th scope=col>&lt;dbl&gt;</th><th scope=col>&lt;dbl&gt;</th></tr>\n",
       "</thead>\n",
       "<tbody>\n",
       "\t<tr><td>Astro     </td><td>turquoise     </td><td>turquoise     </td><td>turquoise     </td><td>signum0.325_minSize4 </td><td>signum0.325_minSize4 </td><td>signum0.219_minSize10</td><td>1.084232e-254</td><td>3.415631e-201</td><td> 0.000000e+00</td></tr>\n",
       "\t<tr><td>CR        </td><td>tomato        </td><td>sienna2       </td><td>mistyrose1    </td><td>signum0.586_minSize4 </td><td>signum0.255_minSize10</td><td>signum0.219_minSize6 </td><td> 2.756652e-02</td><td> 1.780916e-02</td><td> 5.423606e-04</td></tr>\n",
       "\t<tr><td>Endo      </td><td>blue          </td><td>blue          </td><td>blue          </td><td>signum0.325_minSize10</td><td>signum0.325_minSize10</td><td>signum0.219_minSize12</td><td>1.035475e-233</td><td>1.569487e-237</td><td> 0.000000e+00</td></tr>\n",
       "\t<tr><td>L2_3_IT   </td><td>greenyellow   </td><td>lightgreen    </td><td>grey60        </td><td>signum0.794_minSize4 </td><td>signum0.219_minSize6 </td><td>signum0.586_minSize4 </td><td> 2.715087e-13</td><td> 1.041691e-08</td><td> 2.465739e-12</td></tr>\n",
       "\t<tr><td>L4        </td><td>salmon2       </td><td>darkmagenta   </td><td>NA            </td><td>signum0.219_minSize8 </td><td>signum0.255_minSize12</td><td>NA                   </td><td> 1.168112e-04</td><td> 1.201290e-02</td><td>           NA</td></tr>\n",
       "\t<tr><td>L5_IT     </td><td>mediumpurple4 </td><td>darkseagreen4 </td><td>mediumpurple4 </td><td>signum0.325_minSize6 </td><td>signum0.255_minSize8 </td><td>signum0.325_minSize8 </td><td> 1.622267e-08</td><td> 1.314130e-04</td><td> 1.379342e-11</td></tr>\n",
       "\t<tr><td>L5_PT     </td><td>salmon        </td><td>salmon        </td><td>salmon        </td><td>signum0.325_minSize6 </td><td>signum0.325_minSize4 </td><td>signum0.325_minSize4 </td><td> 1.098908e-06</td><td> 4.183055e-08</td><td> 2.011463e-05</td></tr>\n",
       "\t<tr><td>L6_CT     </td><td>tan           </td><td>darkgreen     </td><td>darkgreen     </td><td>signum0.586_minSize6 </td><td>signum0.325_minSize4 </td><td>signum0.325_minSize4 </td><td> 7.495848e-23</td><td> 1.753579e-15</td><td> 9.246279e-14</td></tr>\n",
       "\t<tr><td>L6_IT     </td><td>yellowgreen   </td><td>darkred       </td><td>yellowgreen   </td><td>signum0.586_minSize8 </td><td>signum0.794_minSize3 </td><td>signum0.586_minSize8 </td><td> 4.071167e-22</td><td> 3.993350e-10</td><td> 3.542225e-16</td></tr>\n",
       "\t<tr><td>L6b       </td><td>darkseagreen4 </td><td>NA            </td><td>lavenderblush2</td><td>signum0.586_minSize3 </td><td>NA                   </td><td>signum0.325_minSize4 </td><td> 6.582637e-05</td><td>           NA</td><td> 1.033497e-06</td></tr>\n",
       "\t<tr><td>Lamp5     </td><td>darkorange    </td><td>mediumpurple4 </td><td>navajowhite1  </td><td>signum0.586_minSize8 </td><td>signum0.325_minSize8 </td><td>signum0.255_minSize10</td><td> 3.037980e-10</td><td> 4.985227e-09</td><td> 1.221041e-09</td></tr>\n",
       "\t<tr><td>Macrophage</td><td>blue          </td><td>blue          </td><td>blue          </td><td>signum0.794_minSize10</td><td>signum0.794_minSize10</td><td>signum0.794_minSize10</td><td>8.007749e-280</td><td>1.049141e-250</td><td> 0.000000e+00</td></tr>\n",
       "\t<tr><td>Meis2     </td><td>goldenrod2    </td><td>honeydew1     </td><td>NA            </td><td>signum0.255_minSize6 </td><td>signum0.325_minSize6 </td><td>NA                   </td><td> 4.740929e-02</td><td> 1.801420e-02</td><td>           NA</td></tr>\n",
       "\t<tr><td>NP        </td><td>brown         </td><td>brown         </td><td>brown         </td><td>signum0.255_minSize6 </td><td>signum0.255_minSize6 </td><td>signum0.325_minSize4 </td><td> 1.625619e-42</td><td> 7.097986e-35</td><td> 2.258372e-24</td></tr>\n",
       "\t<tr><td>Oligo     </td><td>green         </td><td>green         </td><td>green         </td><td>signum0.919_minSize3 </td><td>signum0.325_minSize10</td><td>signum0.325_minSize10</td><td>7.890410e-142</td><td>2.712912e-131</td><td>1.856647e-201</td></tr>\n",
       "\t<tr><td>Peri      </td><td>white         </td><td>white         </td><td>tan4          </td><td>signum0.586_minSize8 </td><td>signum0.586_minSize8 </td><td>signum0.255_minSize6 </td><td> 3.983857e-65</td><td> 4.701562e-55</td><td> 1.196421e-13</td></tr>\n",
       "\t<tr><td>Pvalb     </td><td>midnightblue  </td><td>grey60        </td><td>midnightblue  </td><td>signum0.325_minSize10</td><td>signum0.255_minSize10</td><td>signum0.325_minSize12</td><td> 7.353169e-15</td><td> 4.317228e-10</td><td> 2.874667e-24</td></tr>\n",
       "\t<tr><td>Serpinf1  </td><td>lightpink1    </td><td>dodgerblue1   </td><td>dodgerblue1   </td><td>signum0.219_minSize8 </td><td>signum0.219_minSize6 </td><td>signum0.219_minSize6 </td><td> 2.878709e-12</td><td> 5.442888e-05</td><td> 4.450571e-06</td></tr>\n",
       "\t<tr><td>SMC       </td><td>black         </td><td>black         </td><td>black         </td><td>signum0.794_minSize6 </td><td>signum0.794_minSize6 </td><td>signum0.794_minSize6 </td><td> 2.668583e-85</td><td> 8.853582e-75</td><td> 9.516493e-93</td></tr>\n",
       "\t<tr><td>Sncg      </td><td>palevioletred3</td><td>brown2        </td><td>brown2        </td><td>signum0.325_minSize12</td><td>signum0.255_minSize10</td><td>signum0.255_minSize10</td><td> 2.283667e-18</td><td> 3.713662e-13</td><td> 5.016938e-20</td></tr>\n",
       "\t<tr><td>Sst       </td><td>mintcream     </td><td>darkslategray2</td><td>mintcream     </td><td>signum0.255_minSize6 </td><td>signum0.325_minSize4 </td><td>signum0.255_minSize6 </td><td> 8.140605e-07</td><td> 3.951133e-05</td><td> 1.265606e-10</td></tr>\n",
       "\t<tr><td>Vip       </td><td>dodgerblue3   </td><td>dodgerblue3   </td><td>dodgerblue3   </td><td>signum0.325_minSize4 </td><td>signum0.325_minSize4 </td><td>signum0.325_minSize4 </td><td> 3.865023e-10</td><td> 5.285702e-12</td><td> 1.939887e-12</td></tr>\n",
       "\t<tr><td>VLMC      </td><td>tan           </td><td>tan           </td><td>tan           </td><td>signum0.794_minSize3 </td><td>signum0.794_minSize3 </td><td>signum0.794_minSize3 </td><td>2.676463e-129</td><td>1.123704e-119</td><td>2.853896e-136</td></tr>\n",
       "</tbody>\n",
       "</table>\n"
      ],
      "text/latex": [
       "A data.frame: 23 × 10\n",
       "\\begin{tabular}{llllllllll}\n",
       " Cell\\_type & Module & Module.x & Module.y & Network\\_short & Network\\_short.x & Network\\_short.y & Qval & Qval.x & Qval.y\\\\\n",
       " <chr> & <chr> & <chr> & <chr> & <chr> & <chr> & <chr> & <dbl> & <dbl> & <dbl>\\\\\n",
       "\\hline\n",
       "\t Astro      & turquoise      & turquoise      & turquoise      & signum0.325\\_minSize4  & signum0.325\\_minSize4  & signum0.219\\_minSize10 & 1.084232e-254 & 3.415631e-201 &  0.000000e+00\\\\\n",
       "\t CR         & tomato         & sienna2        & mistyrose1     & signum0.586\\_minSize4  & signum0.255\\_minSize10 & signum0.219\\_minSize6  &  2.756652e-02 &  1.780916e-02 &  5.423606e-04\\\\\n",
       "\t Endo       & blue           & blue           & blue           & signum0.325\\_minSize10 & signum0.325\\_minSize10 & signum0.219\\_minSize12 & 1.035475e-233 & 1.569487e-237 &  0.000000e+00\\\\\n",
       "\t L2\\_3\\_IT    & greenyellow    & lightgreen     & grey60         & signum0.794\\_minSize4  & signum0.219\\_minSize6  & signum0.586\\_minSize4  &  2.715087e-13 &  1.041691e-08 &  2.465739e-12\\\\\n",
       "\t L4         & salmon2        & darkmagenta    & NA             & signum0.219\\_minSize8  & signum0.255\\_minSize12 & NA                    &  1.168112e-04 &  1.201290e-02 &            NA\\\\\n",
       "\t L5\\_IT      & mediumpurple4  & darkseagreen4  & mediumpurple4  & signum0.325\\_minSize6  & signum0.255\\_minSize8  & signum0.325\\_minSize8  &  1.622267e-08 &  1.314130e-04 &  1.379342e-11\\\\\n",
       "\t L5\\_PT      & salmon         & salmon         & salmon         & signum0.325\\_minSize6  & signum0.325\\_minSize4  & signum0.325\\_minSize4  &  1.098908e-06 &  4.183055e-08 &  2.011463e-05\\\\\n",
       "\t L6\\_CT      & tan            & darkgreen      & darkgreen      & signum0.586\\_minSize6  & signum0.325\\_minSize4  & signum0.325\\_minSize4  &  7.495848e-23 &  1.753579e-15 &  9.246279e-14\\\\\n",
       "\t L6\\_IT      & yellowgreen    & darkred        & yellowgreen    & signum0.586\\_minSize8  & signum0.794\\_minSize3  & signum0.586\\_minSize8  &  4.071167e-22 &  3.993350e-10 &  3.542225e-16\\\\\n",
       "\t L6b        & darkseagreen4  & NA             & lavenderblush2 & signum0.586\\_minSize3  & NA                    & signum0.325\\_minSize4  &  6.582637e-05 &            NA &  1.033497e-06\\\\\n",
       "\t Lamp5      & darkorange     & mediumpurple4  & navajowhite1   & signum0.586\\_minSize8  & signum0.325\\_minSize8  & signum0.255\\_minSize10 &  3.037980e-10 &  4.985227e-09 &  1.221041e-09\\\\\n",
       "\t Macrophage & blue           & blue           & blue           & signum0.794\\_minSize10 & signum0.794\\_minSize10 & signum0.794\\_minSize10 & 8.007749e-280 & 1.049141e-250 &  0.000000e+00\\\\\n",
       "\t Meis2      & goldenrod2     & honeydew1      & NA             & signum0.255\\_minSize6  & signum0.325\\_minSize6  & NA                    &  4.740929e-02 &  1.801420e-02 &            NA\\\\\n",
       "\t NP         & brown          & brown          & brown          & signum0.255\\_minSize6  & signum0.255\\_minSize6  & signum0.325\\_minSize4  &  1.625619e-42 &  7.097986e-35 &  2.258372e-24\\\\\n",
       "\t Oligo      & green          & green          & green          & signum0.919\\_minSize3  & signum0.325\\_minSize10 & signum0.325\\_minSize10 & 7.890410e-142 & 2.712912e-131 & 1.856647e-201\\\\\n",
       "\t Peri       & white          & white          & tan4           & signum0.586\\_minSize8  & signum0.586\\_minSize8  & signum0.255\\_minSize6  &  3.983857e-65 &  4.701562e-55 &  1.196421e-13\\\\\n",
       "\t Pvalb      & midnightblue   & grey60         & midnightblue   & signum0.325\\_minSize10 & signum0.255\\_minSize10 & signum0.325\\_minSize12 &  7.353169e-15 &  4.317228e-10 &  2.874667e-24\\\\\n",
       "\t Serpinf1   & lightpink1     & dodgerblue1    & dodgerblue1    & signum0.219\\_minSize8  & signum0.219\\_minSize6  & signum0.219\\_minSize6  &  2.878709e-12 &  5.442888e-05 &  4.450571e-06\\\\\n",
       "\t SMC        & black          & black          & black          & signum0.794\\_minSize6  & signum0.794\\_minSize6  & signum0.794\\_minSize6  &  2.668583e-85 &  8.853582e-75 &  9.516493e-93\\\\\n",
       "\t Sncg       & palevioletred3 & brown2         & brown2         & signum0.325\\_minSize12 & signum0.255\\_minSize10 & signum0.255\\_minSize10 &  2.283667e-18 &  3.713662e-13 &  5.016938e-20\\\\\n",
       "\t Sst        & mintcream      & darkslategray2 & mintcream      & signum0.255\\_minSize6  & signum0.325\\_minSize4  & signum0.255\\_minSize6  &  8.140605e-07 &  3.951133e-05 &  1.265606e-10\\\\\n",
       "\t Vip        & dodgerblue3    & dodgerblue3    & dodgerblue3    & signum0.325\\_minSize4  & signum0.325\\_minSize4  & signum0.325\\_minSize4  &  3.865023e-10 &  5.285702e-12 &  1.939887e-12\\\\\n",
       "\t VLMC       & tan            & tan            & tan            & signum0.794\\_minSize3  & signum0.794\\_minSize3  & signum0.794\\_minSize3  & 2.676463e-129 & 1.123704e-119 & 2.853896e-136\\\\\n",
       "\\end{tabular}\n"
      ],
      "text/markdown": [
       "\n",
       "A data.frame: 23 × 10\n",
       "\n",
       "| Cell_type &lt;chr&gt; | Module &lt;chr&gt; | Module.x &lt;chr&gt; | Module.y &lt;chr&gt; | Network_short &lt;chr&gt; | Network_short.x &lt;chr&gt; | Network_short.y &lt;chr&gt; | Qval &lt;dbl&gt; | Qval.x &lt;dbl&gt; | Qval.y &lt;dbl&gt; |\n",
       "|---|---|---|---|---|---|---|---|---|---|\n",
       "| Astro      | turquoise      | turquoise      | turquoise      | signum0.325_minSize4  | signum0.325_minSize4  | signum0.219_minSize10 | 1.084232e-254 | 3.415631e-201 |  0.000000e+00 |\n",
       "| CR         | tomato         | sienna2        | mistyrose1     | signum0.586_minSize4  | signum0.255_minSize10 | signum0.219_minSize6  |  2.756652e-02 |  1.780916e-02 |  5.423606e-04 |\n",
       "| Endo       | blue           | blue           | blue           | signum0.325_minSize10 | signum0.325_minSize10 | signum0.219_minSize12 | 1.035475e-233 | 1.569487e-237 |  0.000000e+00 |\n",
       "| L2_3_IT    | greenyellow    | lightgreen     | grey60         | signum0.794_minSize4  | signum0.219_minSize6  | signum0.586_minSize4  |  2.715087e-13 |  1.041691e-08 |  2.465739e-12 |\n",
       "| L4         | salmon2        | darkmagenta    | NA             | signum0.219_minSize8  | signum0.255_minSize12 | NA                    |  1.168112e-04 |  1.201290e-02 |            NA |\n",
       "| L5_IT      | mediumpurple4  | darkseagreen4  | mediumpurple4  | signum0.325_minSize6  | signum0.255_minSize8  | signum0.325_minSize8  |  1.622267e-08 |  1.314130e-04 |  1.379342e-11 |\n",
       "| L5_PT      | salmon         | salmon         | salmon         | signum0.325_minSize6  | signum0.325_minSize4  | signum0.325_minSize4  |  1.098908e-06 |  4.183055e-08 |  2.011463e-05 |\n",
       "| L6_CT      | tan            | darkgreen      | darkgreen      | signum0.586_minSize6  | signum0.325_minSize4  | signum0.325_minSize4  |  7.495848e-23 |  1.753579e-15 |  9.246279e-14 |\n",
       "| L6_IT      | yellowgreen    | darkred        | yellowgreen    | signum0.586_minSize8  | signum0.794_minSize3  | signum0.586_minSize8  |  4.071167e-22 |  3.993350e-10 |  3.542225e-16 |\n",
       "| L6b        | darkseagreen4  | NA             | lavenderblush2 | signum0.586_minSize3  | NA                    | signum0.325_minSize4  |  6.582637e-05 |            NA |  1.033497e-06 |\n",
       "| Lamp5      | darkorange     | mediumpurple4  | navajowhite1   | signum0.586_minSize8  | signum0.325_minSize8  | signum0.255_minSize10 |  3.037980e-10 |  4.985227e-09 |  1.221041e-09 |\n",
       "| Macrophage | blue           | blue           | blue           | signum0.794_minSize10 | signum0.794_minSize10 | signum0.794_minSize10 | 8.007749e-280 | 1.049141e-250 |  0.000000e+00 |\n",
       "| Meis2      | goldenrod2     | honeydew1      | NA             | signum0.255_minSize6  | signum0.325_minSize6  | NA                    |  4.740929e-02 |  1.801420e-02 |            NA |\n",
       "| NP         | brown          | brown          | brown          | signum0.255_minSize6  | signum0.255_minSize6  | signum0.325_minSize4  |  1.625619e-42 |  7.097986e-35 |  2.258372e-24 |\n",
       "| Oligo      | green          | green          | green          | signum0.919_minSize3  | signum0.325_minSize10 | signum0.325_minSize10 | 7.890410e-142 | 2.712912e-131 | 1.856647e-201 |\n",
       "| Peri       | white          | white          | tan4           | signum0.586_minSize8  | signum0.586_minSize8  | signum0.255_minSize6  |  3.983857e-65 |  4.701562e-55 |  1.196421e-13 |\n",
       "| Pvalb      | midnightblue   | grey60         | midnightblue   | signum0.325_minSize10 | signum0.255_minSize10 | signum0.325_minSize12 |  7.353169e-15 |  4.317228e-10 |  2.874667e-24 |\n",
       "| Serpinf1   | lightpink1     | dodgerblue1    | dodgerblue1    | signum0.219_minSize8  | signum0.219_minSize6  | signum0.219_minSize6  |  2.878709e-12 |  5.442888e-05 |  4.450571e-06 |\n",
       "| SMC        | black          | black          | black          | signum0.794_minSize6  | signum0.794_minSize6  | signum0.794_minSize6  |  2.668583e-85 |  8.853582e-75 |  9.516493e-93 |\n",
       "| Sncg       | palevioletred3 | brown2         | brown2         | signum0.325_minSize12 | signum0.255_minSize10 | signum0.255_minSize10 |  2.283667e-18 |  3.713662e-13 |  5.016938e-20 |\n",
       "| Sst        | mintcream      | darkslategray2 | mintcream      | signum0.255_minSize6  | signum0.325_minSize4  | signum0.255_minSize6  |  8.140605e-07 |  3.951133e-05 |  1.265606e-10 |\n",
       "| Vip        | dodgerblue3    | dodgerblue3    | dodgerblue3    | signum0.325_minSize4  | signum0.325_minSize4  | signum0.325_minSize4  |  3.865023e-10 |  5.285702e-12 |  1.939887e-12 |\n",
       "| VLMC       | tan            | tan            | tan            | signum0.794_minSize3  | signum0.794_minSize3  | signum0.794_minSize3  | 2.676463e-129 | 1.123704e-119 | 2.853896e-136 |\n",
       "\n"
      ],
      "text/plain": [
       "   Cell_type  Module         Module.x       Module.y      \n",
       "1  Astro      turquoise      turquoise      turquoise     \n",
       "2  CR         tomato         sienna2        mistyrose1    \n",
       "3  Endo       blue           blue           blue          \n",
       "4  L2_3_IT    greenyellow    lightgreen     grey60        \n",
       "5  L4         salmon2        darkmagenta    NA            \n",
       "6  L5_IT      mediumpurple4  darkseagreen4  mediumpurple4 \n",
       "7  L5_PT      salmon         salmon         salmon        \n",
       "8  L6_CT      tan            darkgreen      darkgreen     \n",
       "9  L6_IT      yellowgreen    darkred        yellowgreen   \n",
       "10 L6b        darkseagreen4  NA             lavenderblush2\n",
       "11 Lamp5      darkorange     mediumpurple4  navajowhite1  \n",
       "12 Macrophage blue           blue           blue          \n",
       "13 Meis2      goldenrod2     honeydew1      NA            \n",
       "14 NP         brown          brown          brown         \n",
       "15 Oligo      green          green          green         \n",
       "16 Peri       white          white          tan4          \n",
       "17 Pvalb      midnightblue   grey60         midnightblue  \n",
       "18 Serpinf1   lightpink1     dodgerblue1    dodgerblue1   \n",
       "19 SMC        black          black          black         \n",
       "20 Sncg       palevioletred3 brown2         brown2        \n",
       "21 Sst        mintcream      darkslategray2 mintcream     \n",
       "22 Vip        dodgerblue3    dodgerblue3    dodgerblue3   \n",
       "23 VLMC       tan            tan            tan           \n",
       "   Network_short         Network_short.x       Network_short.y      \n",
       "1  signum0.325_minSize4  signum0.325_minSize4  signum0.219_minSize10\n",
       "2  signum0.586_minSize4  signum0.255_minSize10 signum0.219_minSize6 \n",
       "3  signum0.325_minSize10 signum0.325_minSize10 signum0.219_minSize12\n",
       "4  signum0.794_minSize4  signum0.219_minSize6  signum0.586_minSize4 \n",
       "5  signum0.219_minSize8  signum0.255_minSize12 NA                   \n",
       "6  signum0.325_minSize6  signum0.255_minSize8  signum0.325_minSize8 \n",
       "7  signum0.325_minSize6  signum0.325_minSize4  signum0.325_minSize4 \n",
       "8  signum0.586_minSize6  signum0.325_minSize4  signum0.325_minSize4 \n",
       "9  signum0.586_minSize8  signum0.794_minSize3  signum0.586_minSize8 \n",
       "10 signum0.586_minSize3  NA                    signum0.325_minSize4 \n",
       "11 signum0.586_minSize8  signum0.325_minSize8  signum0.255_minSize10\n",
       "12 signum0.794_minSize10 signum0.794_minSize10 signum0.794_minSize10\n",
       "13 signum0.255_minSize6  signum0.325_minSize6  NA                   \n",
       "14 signum0.255_minSize6  signum0.255_minSize6  signum0.325_minSize4 \n",
       "15 signum0.919_minSize3  signum0.325_minSize10 signum0.325_minSize10\n",
       "16 signum0.586_minSize8  signum0.586_minSize8  signum0.255_minSize6 \n",
       "17 signum0.325_minSize10 signum0.255_minSize10 signum0.325_minSize12\n",
       "18 signum0.219_minSize8  signum0.219_minSize6  signum0.219_minSize6 \n",
       "19 signum0.794_minSize6  signum0.794_minSize6  signum0.794_minSize6 \n",
       "20 signum0.325_minSize12 signum0.255_minSize10 signum0.255_minSize10\n",
       "21 signum0.255_minSize6  signum0.325_minSize4  signum0.255_minSize6 \n",
       "22 signum0.325_minSize4  signum0.325_minSize4  signum0.325_minSize4 \n",
       "23 signum0.794_minSize3  signum0.794_minSize3  signum0.794_minSize3 \n",
       "   Qval          Qval.x        Qval.y       \n",
       "1  1.084232e-254 3.415631e-201  0.000000e+00\n",
       "2   2.756652e-02  1.780916e-02  5.423606e-04\n",
       "3  1.035475e-233 1.569487e-237  0.000000e+00\n",
       "4   2.715087e-13  1.041691e-08  2.465739e-12\n",
       "5   1.168112e-04  1.201290e-02            NA\n",
       "6   1.622267e-08  1.314130e-04  1.379342e-11\n",
       "7   1.098908e-06  4.183055e-08  2.011463e-05\n",
       "8   7.495848e-23  1.753579e-15  9.246279e-14\n",
       "9   4.071167e-22  3.993350e-10  3.542225e-16\n",
       "10  6.582637e-05            NA  1.033497e-06\n",
       "11  3.037980e-10  4.985227e-09  1.221041e-09\n",
       "12 8.007749e-280 1.049141e-250  0.000000e+00\n",
       "13  4.740929e-02  1.801420e-02            NA\n",
       "14  1.625619e-42  7.097986e-35  2.258372e-24\n",
       "15 7.890410e-142 2.712912e-131 1.856647e-201\n",
       "16  3.983857e-65  4.701562e-55  1.196421e-13\n",
       "17  7.353169e-15  4.317228e-10  2.874667e-24\n",
       "18  2.878709e-12  5.442888e-05  4.450571e-06\n",
       "19  2.668583e-85  8.853582e-75  9.516493e-93\n",
       "20  2.283667e-18  3.713662e-13  5.016938e-20\n",
       "21  8.140605e-07  3.951133e-05  1.265606e-10\n",
       "22  3.865023e-10  5.285702e-12  1.939887e-12\n",
       "23 2.676463e-129 1.123704e-119 2.853896e-136"
      ]
     },
     "metadata": {},
     "output_type": "display_data"
    }
   ],
   "source": [
    "all_top_mods_df <- all_top_mods_df[,order(colnames(all_top_mods_df))]\n",
    "all_top_mods_df"
   ]
  },
  {
   "cell_type": "markdown",
   "id": "92968296",
   "metadata": {},
   "source": [
    "### Select the module from the lowest Qval per cell type"
   ]
  },
  {
   "cell_type": "code",
   "execution_count": 173,
   "id": "7c46bf68",
   "metadata": {
    "vscode": {
     "languageId": "r"
    }
   },
   "outputs": [],
   "source": [
    "# Select the module from the lowest Qval per cell type\n",
    "\n",
    "pooled_top_mods_df$DE_Test <- \"Pooled\"\n",
    "pairwise_top_mods_df$DE_Test <- \"Pairwise\"\n",
    "mean_top_mods_df$DE_Test <- \"Mean\"\n",
    "\n",
    "all_top_mods_df <- rbind(pooled_top_mods_df, pairwise_top_mods_df, mean_top_mods_df)"
   ]
  },
  {
   "cell_type": "code",
   "execution_count": 174,
   "id": "a74dab3b",
   "metadata": {
    "vscode": {
     "languageId": "r"
    }
   },
   "outputs": [
    {
     "data": {
      "text/html": [
       "<table class=\"dataframe\">\n",
       "<caption>A grouped_df: 23 × 4</caption>\n",
       "<thead>\n",
       "\t<tr><th scope=col>Cell_type</th><th scope=col>Qval</th><th scope=col>Module</th><th scope=col>Network_short</th></tr>\n",
       "\t<tr><th scope=col>&lt;chr&gt;</th><th scope=col>&lt;dbl&gt;</th><th scope=col>&lt;chr&gt;</th><th scope=col>&lt;chr&gt;</th></tr>\n",
       "</thead>\n",
       "<tbody>\n",
       "\t<tr><td>Astro     </td><td> 0.000000e+00</td><td>turquoise     </td><td>signum0.219_minSize10</td></tr>\n",
       "\t<tr><td>CR        </td><td> 5.423606e-04</td><td>mistyrose1    </td><td>signum0.219_minSize6 </td></tr>\n",
       "\t<tr><td>Endo      </td><td> 0.000000e+00</td><td>blue          </td><td>signum0.219_minSize12</td></tr>\n",
       "\t<tr><td>L2_3_IT   </td><td> 2.715087e-13</td><td>greenyellow   </td><td>signum0.794_minSize4 </td></tr>\n",
       "\t<tr><td>L4        </td><td> 1.168112e-04</td><td>salmon2       </td><td>signum0.219_minSize8 </td></tr>\n",
       "\t<tr><td>L5_IT     </td><td> 1.379342e-11</td><td>mediumpurple4 </td><td>signum0.325_minSize8 </td></tr>\n",
       "\t<tr><td>L5_PT     </td><td> 4.183055e-08</td><td>salmon        </td><td>signum0.325_minSize4 </td></tr>\n",
       "\t<tr><td>L6_CT     </td><td> 7.495848e-23</td><td>tan           </td><td>signum0.586_minSize6 </td></tr>\n",
       "\t<tr><td>L6_IT     </td><td> 4.071167e-22</td><td>yellowgreen   </td><td>signum0.586_minSize8 </td></tr>\n",
       "\t<tr><td>L6b       </td><td> 1.033497e-06</td><td>lavenderblush2</td><td>signum0.325_minSize4 </td></tr>\n",
       "\t<tr><td>Lamp5     </td><td> 3.037980e-10</td><td>darkorange    </td><td>signum0.586_minSize8 </td></tr>\n",
       "\t<tr><td>Macrophage</td><td> 0.000000e+00</td><td>blue          </td><td>signum0.794_minSize10</td></tr>\n",
       "\t<tr><td>Meis2     </td><td> 1.801420e-02</td><td>honeydew1     </td><td>signum0.325_minSize6 </td></tr>\n",
       "\t<tr><td>NP        </td><td> 1.625619e-42</td><td>brown         </td><td>signum0.255_minSize6 </td></tr>\n",
       "\t<tr><td>Oligo     </td><td>1.856647e-201</td><td>green         </td><td>signum0.325_minSize10</td></tr>\n",
       "\t<tr><td>Peri      </td><td> 3.983857e-65</td><td>white         </td><td>signum0.586_minSize8 </td></tr>\n",
       "\t<tr><td>Pvalb     </td><td> 2.874667e-24</td><td>midnightblue  </td><td>signum0.325_minSize12</td></tr>\n",
       "\t<tr><td>SMC       </td><td> 9.516493e-93</td><td>black         </td><td>signum0.794_minSize6 </td></tr>\n",
       "\t<tr><td>Serpinf1  </td><td> 2.878709e-12</td><td>lightpink1    </td><td>signum0.219_minSize8 </td></tr>\n",
       "\t<tr><td>Sncg      </td><td> 5.016938e-20</td><td>brown2        </td><td>signum0.255_minSize10</td></tr>\n",
       "\t<tr><td>Sst       </td><td> 1.265606e-10</td><td>mintcream     </td><td>signum0.255_minSize6 </td></tr>\n",
       "\t<tr><td>VLMC      </td><td>2.853896e-136</td><td>tan           </td><td>signum0.794_minSize3 </td></tr>\n",
       "\t<tr><td>Vip       </td><td> 1.939887e-12</td><td>dodgerblue3   </td><td>signum0.325_minSize4 </td></tr>\n",
       "</tbody>\n",
       "</table>\n"
      ],
      "text/latex": [
       "A grouped\\_df: 23 × 4\n",
       "\\begin{tabular}{llll}\n",
       " Cell\\_type & Qval & Module & Network\\_short\\\\\n",
       " <chr> & <dbl> & <chr> & <chr>\\\\\n",
       "\\hline\n",
       "\t Astro      &  0.000000e+00 & turquoise      & signum0.219\\_minSize10\\\\\n",
       "\t CR         &  5.423606e-04 & mistyrose1     & signum0.219\\_minSize6 \\\\\n",
       "\t Endo       &  0.000000e+00 & blue           & signum0.219\\_minSize12\\\\\n",
       "\t L2\\_3\\_IT    &  2.715087e-13 & greenyellow    & signum0.794\\_minSize4 \\\\\n",
       "\t L4         &  1.168112e-04 & salmon2        & signum0.219\\_minSize8 \\\\\n",
       "\t L5\\_IT      &  1.379342e-11 & mediumpurple4  & signum0.325\\_minSize8 \\\\\n",
       "\t L5\\_PT      &  4.183055e-08 & salmon         & signum0.325\\_minSize4 \\\\\n",
       "\t L6\\_CT      &  7.495848e-23 & tan            & signum0.586\\_minSize6 \\\\\n",
       "\t L6\\_IT      &  4.071167e-22 & yellowgreen    & signum0.586\\_minSize8 \\\\\n",
       "\t L6b        &  1.033497e-06 & lavenderblush2 & signum0.325\\_minSize4 \\\\\n",
       "\t Lamp5      &  3.037980e-10 & darkorange     & signum0.586\\_minSize8 \\\\\n",
       "\t Macrophage &  0.000000e+00 & blue           & signum0.794\\_minSize10\\\\\n",
       "\t Meis2      &  1.801420e-02 & honeydew1      & signum0.325\\_minSize6 \\\\\n",
       "\t NP         &  1.625619e-42 & brown          & signum0.255\\_minSize6 \\\\\n",
       "\t Oligo      & 1.856647e-201 & green          & signum0.325\\_minSize10\\\\\n",
       "\t Peri       &  3.983857e-65 & white          & signum0.586\\_minSize8 \\\\\n",
       "\t Pvalb      &  2.874667e-24 & midnightblue   & signum0.325\\_minSize12\\\\\n",
       "\t SMC        &  9.516493e-93 & black          & signum0.794\\_minSize6 \\\\\n",
       "\t Serpinf1   &  2.878709e-12 & lightpink1     & signum0.219\\_minSize8 \\\\\n",
       "\t Sncg       &  5.016938e-20 & brown2         & signum0.255\\_minSize10\\\\\n",
       "\t Sst        &  1.265606e-10 & mintcream      & signum0.255\\_minSize6 \\\\\n",
       "\t VLMC       & 2.853896e-136 & tan            & signum0.794\\_minSize3 \\\\\n",
       "\t Vip        &  1.939887e-12 & dodgerblue3    & signum0.325\\_minSize4 \\\\\n",
       "\\end{tabular}\n"
      ],
      "text/markdown": [
       "\n",
       "A grouped_df: 23 × 4\n",
       "\n",
       "| Cell_type &lt;chr&gt; | Qval &lt;dbl&gt; | Module &lt;chr&gt; | Network_short &lt;chr&gt; |\n",
       "|---|---|---|---|\n",
       "| Astro      |  0.000000e+00 | turquoise      | signum0.219_minSize10 |\n",
       "| CR         |  5.423606e-04 | mistyrose1     | signum0.219_minSize6  |\n",
       "| Endo       |  0.000000e+00 | blue           | signum0.219_minSize12 |\n",
       "| L2_3_IT    |  2.715087e-13 | greenyellow    | signum0.794_minSize4  |\n",
       "| L4         |  1.168112e-04 | salmon2        | signum0.219_minSize8  |\n",
       "| L5_IT      |  1.379342e-11 | mediumpurple4  | signum0.325_minSize8  |\n",
       "| L5_PT      |  4.183055e-08 | salmon         | signum0.325_minSize4  |\n",
       "| L6_CT      |  7.495848e-23 | tan            | signum0.586_minSize6  |\n",
       "| L6_IT      |  4.071167e-22 | yellowgreen    | signum0.586_minSize8  |\n",
       "| L6b        |  1.033497e-06 | lavenderblush2 | signum0.325_minSize4  |\n",
       "| Lamp5      |  3.037980e-10 | darkorange     | signum0.586_minSize8  |\n",
       "| Macrophage |  0.000000e+00 | blue           | signum0.794_minSize10 |\n",
       "| Meis2      |  1.801420e-02 | honeydew1      | signum0.325_minSize6  |\n",
       "| NP         |  1.625619e-42 | brown          | signum0.255_minSize6  |\n",
       "| Oligo      | 1.856647e-201 | green          | signum0.325_minSize10 |\n",
       "| Peri       |  3.983857e-65 | white          | signum0.586_minSize8  |\n",
       "| Pvalb      |  2.874667e-24 | midnightblue   | signum0.325_minSize12 |\n",
       "| SMC        |  9.516493e-93 | black          | signum0.794_minSize6  |\n",
       "| Serpinf1   |  2.878709e-12 | lightpink1     | signum0.219_minSize8  |\n",
       "| Sncg       |  5.016938e-20 | brown2         | signum0.255_minSize10 |\n",
       "| Sst        |  1.265606e-10 | mintcream      | signum0.255_minSize6  |\n",
       "| VLMC       | 2.853896e-136 | tan            | signum0.794_minSize3  |\n",
       "| Vip        |  1.939887e-12 | dodgerblue3    | signum0.325_minSize4  |\n",
       "\n"
      ],
      "text/plain": [
       "   Cell_type  Qval          Module         Network_short        \n",
       "1  Astro       0.000000e+00 turquoise      signum0.219_minSize10\n",
       "2  CR          5.423606e-04 mistyrose1     signum0.219_minSize6 \n",
       "3  Endo        0.000000e+00 blue           signum0.219_minSize12\n",
       "4  L2_3_IT     2.715087e-13 greenyellow    signum0.794_minSize4 \n",
       "5  L4          1.168112e-04 salmon2        signum0.219_minSize8 \n",
       "6  L5_IT       1.379342e-11 mediumpurple4  signum0.325_minSize8 \n",
       "7  L5_PT       4.183055e-08 salmon         signum0.325_minSize4 \n",
       "8  L6_CT       7.495848e-23 tan            signum0.586_minSize6 \n",
       "9  L6_IT       4.071167e-22 yellowgreen    signum0.586_minSize8 \n",
       "10 L6b         1.033497e-06 lavenderblush2 signum0.325_minSize4 \n",
       "11 Lamp5       3.037980e-10 darkorange     signum0.586_minSize8 \n",
       "12 Macrophage  0.000000e+00 blue           signum0.794_minSize10\n",
       "13 Meis2       1.801420e-02 honeydew1      signum0.325_minSize6 \n",
       "14 NP          1.625619e-42 brown          signum0.255_minSize6 \n",
       "15 Oligo      1.856647e-201 green          signum0.325_minSize10\n",
       "16 Peri        3.983857e-65 white          signum0.586_minSize8 \n",
       "17 Pvalb       2.874667e-24 midnightblue   signum0.325_minSize12\n",
       "18 SMC         9.516493e-93 black          signum0.794_minSize6 \n",
       "19 Serpinf1    2.878709e-12 lightpink1     signum0.219_minSize8 \n",
       "20 Sncg        5.016938e-20 brown2         signum0.255_minSize10\n",
       "21 Sst         1.265606e-10 mintcream      signum0.255_minSize6 \n",
       "22 VLMC       2.853896e-136 tan            signum0.794_minSize3 \n",
       "23 Vip         1.939887e-12 dodgerblue3    signum0.325_minSize4 "
      ]
     },
     "metadata": {},
     "output_type": "display_data"
    }
   ],
   "source": [
    "top_qval_mods_df <- all_top_mods_df %>%\n",
    "    group_by(Cell_type) %>%\n",
    "    slice_min(Qval)\n",
    "\n",
    "top_qval_mods_df[,cols]"
   ]
  },
  {
   "cell_type": "code",
   "execution_count": 175,
   "id": "b46b3118",
   "metadata": {
    "vscode": {
     "languageId": "r"
    }
   },
   "outputs": [],
   "source": [
    "write.csv(top_qval_mods_df, file=\"data/tasic_2018_ALM_STAR_donor_cell_type_pseudobulk_DE_genes_dream_unique_markers_top_Qval_module.csv\", row.names=FALSE, quote=FALSE)"
   ]
  },
  {
   "cell_type": "code",
   "execution_count": null,
   "id": "236d7295",
   "metadata": {
    "vscode": {
     "languageId": "r"
    }
   },
   "outputs": [],
   "source": []
  }
 ],
 "metadata": {
  "kernelspec": {
   "display_name": "R",
   "language": "R",
   "name": "ir"
  },
  "language_info": {
   "codemirror_mode": "r",
   "file_extension": ".r",
   "mimetype": "text/x-r-source",
   "name": "R",
   "pygments_lexer": "r",
   "version": "4.3.3"
  }
 },
 "nbformat": 4,
 "nbformat_minor": 5
}
