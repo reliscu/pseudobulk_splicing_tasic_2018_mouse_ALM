{
 "cells": [
  {
   "cell_type": "code",
   "execution_count": 72,
   "id": "dc32d0f1",
   "metadata": {
    "vscode": {
     "languageId": "r"
    }
   },
   "outputs": [],
   "source": [
    "library(dplyr)\n",
    "library(tidyr)\n",
    "library(tibble)\n",
    "library(qvalue)\n",
    "library(data.table)\n",
    "\n",
    "source(\"/mnt/lareaulab/reliscu/code/fisher_test.R\")\n",
    "\n",
    "setwd(\"/mnt/lareaulab/reliscu/projects/NSF_GRFP/analyses/pseudobulk_test/tasic_2018/mouse_ALM\")"
   ]
  },
  {
   "cell_type": "markdown",
   "id": "47fcf9ad",
   "metadata": {},
   "source": [
    "Here I perform enrichment analysis to find modules enriched for cell type markers. \n",
    "\n",
    "These modules will later be used to correlate with exon PSI to define cell type-specific exons."
   ]
  },
  {
   "cell_type": "code",
   "execution_count": 73,
   "id": "6cf840e4",
   "metadata": {
    "vscode": {
     "languageId": "r"
    }
   },
   "outputs": [],
   "source": [
    "get_module_enrichments <- function(network_dir, ctype_genes, mod_def=\"PosFDR\") {\n",
    "    # Traverse networks to get cell type enrichments for each module\n",
    "    networks <- list.dirs(file.path(getwd(), network_dir), full.names=TRUE, recursive=FALSE)\n",
    "    networks <- networks[lengths(lapply(networks, list.files)) > 0]\n",
    "\n",
    "    enrichments_list <- lapply(seq_along(networks), function(i) {\n",
    "        kME_path <- list.files(networks[i])[grep(\"kME\", list.files(networks[i]))]\n",
    "        kME <- fread(file.path(networks[i], kME_path), data.table=FALSE)\n",
    "        mod_col <- grep(\"PosFDR\", colnames(kME))\n",
    "        mod_genes <- tapply(kME$Gene, kME[,mod_col], list)\n",
    "        \n",
    "        if (length(mod_genes) > 0) {\n",
    "            all_genes <- kME$Gene\n",
    "\n",
    "            # For each module: calculate enrichment for DE genes from each cell type\n",
    "            mod_enrichments_list <- lapply(mod_genes, function(mod) {\n",
    "                lapply(unlist(lapply(ctype_genes, function(set) {\n",
    "                    fisher_test(set, mod, all=all_genes)\n",
    "                })), c)\n",
    "            })\n",
    "            \n",
    "            # Save the network the module came from\n",
    "            network_id <- sapply(strsplit(networks[i], \"/\"), function(x) x[length(x)])\n",
    "            mod_enrichments_df <- reshape2::melt(mod_enrichments_list)\n",
    "            colnames(mod_enrichments_df) <- c(\"Pval\", \"Cell_type\", \"Module\")\n",
    "            \n",
    "            # Save path to module eigengenes table for downstream analyses\n",
    "            ME_path <- list.files(networks[i])[grep(\"eigengene\", list.files(networks[i]))]\n",
    "            \n",
    "            data.frame(\n",
    "                Network=network_id,\n",
    "                kME_path=file.path(networks[i], kME_path),\n",
    "                ME_path=file.path(networks[i], ME_path),\n",
    "                mod_enrichments_df\n",
    "            )\n",
    "        }\n",
    "    })\n",
    "    enrichments_df <- do.call(rbind, enrichments_list)\n",
    "    enrichments_df$Qval <- qvalue(enrichments_df$Pval)$qvalue\n",
    "\n",
    "    enrichments_df\n",
    "}"
   ]
  },
  {
   "cell_type": "code",
   "execution_count": 74,
   "id": "e55565fe",
   "metadata": {
    "vscode": {
     "languageId": "r"
    }
   },
   "outputs": [],
   "source": [
    "network_dir <- \"tasic_2018_ALM_STAR_20pcntCells_0.4pcntVar_200samples_log2_pseudobulk_Modules\" # \"tasic_2018_ALM_STAR_20pcntCells_0.4pcntVar_200samples_log2_pseudobulk_Modules\"\n",
    "network_dataset <- \"20pcntCells_0.4pcntVar_200samples_log2_pseudobulk\""
   ]
  },
  {
   "cell_type": "code",
   "execution_count": null,
   "id": "3944edfc",
   "metadata": {
    "vscode": {
     "languageId": "r"
    }
   },
   "outputs": [],
   "source": [
    "mod_def <- \"PosFDR\"\n",
    "unique <- TRUE"
   ]
  },
  {
   "cell_type": "markdown",
   "id": "0b894bcf",
   "metadata": {},
   "source": [
    "### Get DE genes frome each cell type: 1 vs. pooled tests"
   ]
  },
  {
   "cell_type": "code",
   "execution_count": 76,
   "id": "d9fc4df1",
   "metadata": {
    "vscode": {
     "languageId": "r"
    }
   },
   "outputs": [],
   "source": [
    "pooled_res_list <- readRDS(\"data/tasic_2018_ALM_STAR_donor_cell_type_pseudobulk_1_vs_pooled_DE_genes_dream.RDS\")"
   ]
  },
  {
   "cell_type": "code",
   "execution_count": 77,
   "id": "b3f726eb",
   "metadata": {
    "vscode": {
     "languageId": "r"
    }
   },
   "outputs": [],
   "source": [
    "pval_threshold <- .05/length(pooled_res_list)\n",
    "lfc_threshold <- 6\n",
    "\n",
    "pooled_ctype_genes <- lapply(pooled_res_list, function(df) {\n",
    "    mask <- (df['adj.P.Val'] < pval_threshold) & (abs(df['logFC']) > lfc_threshold)\n",
    "    df[mask, 1]\n",
    "})\n",
    "names(pooled_ctype_genes) <- names(pooled_res_list) "
   ]
  },
  {
   "cell_type": "code",
   "execution_count": 78,
   "id": "08b1de18",
   "metadata": {
    "vscode": {
     "languageId": "r"
    }
   },
   "outputs": [],
   "source": [
    "if (unique) {\n",
    "    all_genes <- unlist(pooled_ctype_genes)\n",
    "    duplicates <- unique(names(table(all_genes)[table(all_genes) > 1]))\n",
    "\n",
    "    # Remove markers that are not unique to a cell type\n",
    "\n",
    "    pooled_ctype_genes <- lapply(pooled_ctype_genes, function(x) x[!(x %in% duplicates)])\n",
    "}"
   ]
  },
  {
   "cell_type": "code",
   "execution_count": 79,
   "id": "ade891df",
   "metadata": {
    "vscode": {
     "languageId": "r"
    }
   },
   "outputs": [
    {
     "data": {
      "text/html": [
       "<table class=\"dataframe\">\n",
       "<caption>A data.frame: 23 × 1</caption>\n",
       "<thead>\n",
       "\t<tr><th></th><th scope=col>No.genes</th></tr>\n",
       "\t<tr><th></th><th scope=col>&lt;int&gt;</th></tr>\n",
       "</thead>\n",
       "<tbody>\n",
       "\t<tr><th scope=row>Peri</th><td>1568</td></tr>\n",
       "\t<tr><th scope=row>Macrophage</th><td> 395</td></tr>\n",
       "\t<tr><th scope=row>Endo</th><td> 304</td></tr>\n",
       "\t<tr><th scope=row>Astro</th><td> 282</td></tr>\n",
       "\t<tr><th scope=row>VLMC</th><td> 136</td></tr>\n",
       "\t<tr><th scope=row>SMC</th><td> 129</td></tr>\n",
       "\t<tr><th scope=row>Oligo</th><td> 105</td></tr>\n",
       "\t<tr><th scope=row>Meis2</th><td>  83</td></tr>\n",
       "\t<tr><th scope=row>CR</th><td>  61</td></tr>\n",
       "\t<tr><th scope=row>L4</th><td>  27</td></tr>\n",
       "\t<tr><th scope=row>NP</th><td>  24</td></tr>\n",
       "\t<tr><th scope=row>Pvalb</th><td>  18</td></tr>\n",
       "\t<tr><th scope=row>Vip</th><td>  16</td></tr>\n",
       "\t<tr><th scope=row>L6_CT</th><td>  14</td></tr>\n",
       "\t<tr><th scope=row>L5_IT</th><td>  13</td></tr>\n",
       "\t<tr><th scope=row>Lamp5</th><td>  12</td></tr>\n",
       "\t<tr><th scope=row>Sst</th><td>  12</td></tr>\n",
       "\t<tr><th scope=row>Sncg</th><td>   9</td></tr>\n",
       "\t<tr><th scope=row>L5_PT</th><td>   8</td></tr>\n",
       "\t<tr><th scope=row>Serpinf1</th><td>   8</td></tr>\n",
       "\t<tr><th scope=row>L2_3_IT</th><td>   7</td></tr>\n",
       "\t<tr><th scope=row>L6_IT</th><td>   7</td></tr>\n",
       "\t<tr><th scope=row>L6b</th><td>   3</td></tr>\n",
       "</tbody>\n",
       "</table>\n"
      ],
      "text/latex": [
       "A data.frame: 23 × 1\n",
       "\\begin{tabular}{r|l}\n",
       "  & No.genes\\\\\n",
       "  & <int>\\\\\n",
       "\\hline\n",
       "\tPeri & 1568\\\\\n",
       "\tMacrophage &  395\\\\\n",
       "\tEndo &  304\\\\\n",
       "\tAstro &  282\\\\\n",
       "\tVLMC &  136\\\\\n",
       "\tSMC &  129\\\\\n",
       "\tOligo &  105\\\\\n",
       "\tMeis2 &   83\\\\\n",
       "\tCR &   61\\\\\n",
       "\tL4 &   27\\\\\n",
       "\tNP &   24\\\\\n",
       "\tPvalb &   18\\\\\n",
       "\tVip &   16\\\\\n",
       "\tL6\\_CT &   14\\\\\n",
       "\tL5\\_IT &   13\\\\\n",
       "\tLamp5 &   12\\\\\n",
       "\tSst &   12\\\\\n",
       "\tSncg &    9\\\\\n",
       "\tL5\\_PT &    8\\\\\n",
       "\tSerpinf1 &    8\\\\\n",
       "\tL2\\_3\\_IT &    7\\\\\n",
       "\tL6\\_IT &    7\\\\\n",
       "\tL6b &    3\\\\\n",
       "\\end{tabular}\n"
      ],
      "text/markdown": [
       "\n",
       "A data.frame: 23 × 1\n",
       "\n",
       "| <!--/--> | No.genes &lt;int&gt; |\n",
       "|---|---|\n",
       "| Peri | 1568 |\n",
       "| Macrophage |  395 |\n",
       "| Endo |  304 |\n",
       "| Astro |  282 |\n",
       "| VLMC |  136 |\n",
       "| SMC |  129 |\n",
       "| Oligo |  105 |\n",
       "| Meis2 |   83 |\n",
       "| CR |   61 |\n",
       "| L4 |   27 |\n",
       "| NP |   24 |\n",
       "| Pvalb |   18 |\n",
       "| Vip |   16 |\n",
       "| L6_CT |   14 |\n",
       "| L5_IT |   13 |\n",
       "| Lamp5 |   12 |\n",
       "| Sst |   12 |\n",
       "| Sncg |    9 |\n",
       "| L5_PT |    8 |\n",
       "| Serpinf1 |    8 |\n",
       "| L2_3_IT |    7 |\n",
       "| L6_IT |    7 |\n",
       "| L6b |    3 |\n",
       "\n"
      ],
      "text/plain": [
       "           No.genes\n",
       "Peri       1568    \n",
       "Macrophage  395    \n",
       "Endo        304    \n",
       "Astro       282    \n",
       "VLMC        136    \n",
       "SMC         129    \n",
       "Oligo       105    \n",
       "Meis2        83    \n",
       "CR           61    \n",
       "L4           27    \n",
       "NP           24    \n",
       "Pvalb        18    \n",
       "Vip          16    \n",
       "L6_CT        14    \n",
       "L5_IT        13    \n",
       "Lamp5        12    \n",
       "Sst          12    \n",
       "Sncg          9    \n",
       "L5_PT         8    \n",
       "Serpinf1      8    \n",
       "L2_3_IT       7    \n",
       "L6_IT         7    \n",
       "L6b           3    "
      ]
     },
     "metadata": {},
     "output_type": "display_data"
    }
   ],
   "source": [
    "data.frame(No.genes=lengths(pooled_ctype_genes)) %>% arrange(-`No.genes`)"
   ]
  },
  {
   "cell_type": "code",
   "execution_count": null,
   "id": "09fbb1a8",
   "metadata": {
    "vscode": {
     "languageId": "r"
    }
   },
   "outputs": [],
   "source": [
    "pooled_enrichments_df <- get_module_enrichments(network_dir, pooled_ctype_genes, mod_def)"
   ]
  },
  {
   "cell_type": "code",
   "execution_count": null,
   "id": "e1c46ab3",
   "metadata": {
    "vscode": {
     "languageId": "r"
    }
   },
   "outputs": [],
   "source": [
    "# Get most enriched cell type for each module\n",
    "# If cell type is most enriched in multiple modules, choose module with smallest p-value\n",
    "\n",
    "pooled_top_mods_df <- pooled_enrichments_df %>%\n",
    "    group_by(Network, Module) %>%\n",
    "    slice_min(Qval) %>%\n",
    "    group_by(Cell_type) %>%\n",
    "    arrange(Network) %>%\n",
    "    slice_min(Qval, with_ties=FALSE) %>%\n",
    "    filter(Qval < .05) %>%\n",
    "    arrange(Qval)"
   ]
  },
  {
   "cell_type": "code",
   "execution_count": null,
   "id": "97f3f715",
   "metadata": {
    "vscode": {
     "languageId": "r"
    }
   },
   "outputs": [
    {
     "data": {
      "text/html": [
       "<table class=\"dataframe\">\n",
       "<caption>A grouped_df: 21 × 5</caption>\n",
       "<thead>\n",
       "\t<tr><th scope=col>Cell_type</th><th scope=col>Pval</th><th scope=col>Qval</th><th scope=col>Module</th><th scope=col>Network</th></tr>\n",
       "\t<tr><th scope=col>&lt;chr&gt;</th><th scope=col>&lt;dbl&gt;</th><th scope=col>&lt;dbl&gt;</th><th scope=col>&lt;chr&gt;</th><th scope=col>&lt;chr&gt;</th></tr>\n",
       "</thead>\n",
       "<tbody>\n",
       "\t<tr><td>Macrophage</td><td>8.582124e-186</td><td>5.641373e-181</td><td>black        </td><td>Bicor-None_signum0.928_minSize4_merge_ME_0.9_20151 </td></tr>\n",
       "\t<tr><td>Endo      </td><td>1.284248e-183</td><td>1.688376e-179</td><td>pink         </td><td>Bicor-None_signum0.842_minSize4_merge_ME_0.9_20151 </td></tr>\n",
       "\t<tr><td>Astro     </td><td>3.831374e-173</td><td>1.144780e-169</td><td>yellow       </td><td>Bicor-None_signum0.629_minSize4_merge_ME_0.9_20151 </td></tr>\n",
       "\t<tr><td>Oligo     </td><td>3.015653e-146</td><td>4.045529e-143</td><td>darkturquoise</td><td>Bicor-None_signum0.928_minSize3_merge_ME_0.9_20151 </td></tr>\n",
       "\t<tr><td>SMC       </td><td>3.985193e-111</td><td>3.402112e-108</td><td>yellow       </td><td>Bicor-None_signum0.928_minSize5_merge_ME_0.9_20151 </td></tr>\n",
       "\t<tr><td>VLMC      </td><td> 5.670062e-98</td><td> 4.235407e-95</td><td>royalblue    </td><td>Bicor-None_signum0.629_minSize6_merge_ME_0.9_20151 </td></tr>\n",
       "\t<tr><td>Vip       </td><td> 6.421378e-39</td><td> 2.972556e-36</td><td>green        </td><td>Bicor-None_signum0.53_minSize4_merge_ME_0.9_20151  </td></tr>\n",
       "\t<tr><td>NP        </td><td> 9.420120e-38</td><td> 4.330225e-35</td><td>cyan         </td><td>Bicor-None_signum0.842_minSize3_merge_ME_0.9_20151 </td></tr>\n",
       "\t<tr><td>Lamp5     </td><td> 6.081477e-31</td><td> 2.324185e-28</td><td>pink         </td><td>Bicor-None_signum0.53_minSize4_merge_ME_0.9_20151  </td></tr>\n",
       "\t<tr><td>Peri      </td><td> 5.569456e-29</td><td> 1.957768e-26</td><td>blue         </td><td>Bicor-None_signum0.968_minSize3_merge_ME_0.9_20151 </td></tr>\n",
       "\t<tr><td>L6_CT     </td><td> 1.009511e-26</td><td> 3.175082e-24</td><td>thistle2     </td><td>Bicor-None_signum0.53_minSize10_merge_ME_0.9_20151 </td></tr>\n",
       "\t<tr><td>Sst       </td><td> 1.636923e-20</td><td> 4.186829e-18</td><td>red          </td><td>Bicor-None_signum0.928_minSize6_merge_ME_0.9_20151 </td></tr>\n",
       "\t<tr><td>L2_3_IT   </td><td> 2.434653e-15</td><td> 4.835030e-13</td><td>orangered3   </td><td>Bicor-None_signum0.53_minSize10_merge_ME_0.9_20151 </td></tr>\n",
       "\t<tr><td>L5_IT     </td><td> 3.504376e-15</td><td> 6.917617e-13</td><td>turquoise    </td><td>Bicor-None_signum0.629_minSize10_merge_ME_0.9_20151</td></tr>\n",
       "\t<tr><td>L5_PT     </td><td> 3.161569e-12</td><td> 5.328785e-10</td><td>salmon4      </td><td>Bicor-None_signum0.629_minSize4_merge_ME_0.9_20151 </td></tr>\n",
       "\t<tr><td>Pvalb     </td><td> 3.472538e-11</td><td> 5.320835e-09</td><td>darkred      </td><td>Bicor-None_signum0.629_minSize4_merge_ME_0.9_20151 </td></tr>\n",
       "\t<tr><td>L6_IT     </td><td> 2.716844e-10</td><td> 3.840624e-08</td><td>darkorange2  </td><td>Bicor-None_signum0.842_minSize3_merge_ME_0.9_20151 </td></tr>\n",
       "\t<tr><td>L6b       </td><td> 3.736627e-09</td><td> 4.643165e-07</td><td>purple2      </td><td>Bicor-None_signum0.465_minSize5_merge_ME_0.9_20151 </td></tr>\n",
       "\t<tr><td>Sncg      </td><td> 1.480589e-07</td><td> 1.443991e-05</td><td>lightcyan    </td><td>Bicor-None_signum0.629_minSize6_merge_ME_0.9_20151 </td></tr>\n",
       "\t<tr><td>Serpinf1  </td><td> 1.534429e-07</td><td> 1.494284e-05</td><td>salmon       </td><td>Bicor-None_signum0.465_minSize5_merge_ME_0.9_20151 </td></tr>\n",
       "\t<tr><td>Meis2     </td><td> 1.116311e-04</td><td> 6.540073e-03</td><td>antiquewhite4</td><td>Bicor-None_signum0.629_minSize8_merge_ME_0.9_20151 </td></tr>\n",
       "</tbody>\n",
       "</table>\n"
      ],
      "text/latex": [
       "A grouped\\_df: 21 × 5\n",
       "\\begin{tabular}{lllll}\n",
       " Cell\\_type & Pval & Qval & Module & Network\\\\\n",
       " <chr> & <dbl> & <dbl> & <chr> & <chr>\\\\\n",
       "\\hline\n",
       "\t Macrophage & 8.582124e-186 & 5.641373e-181 & black         & Bicor-None\\_signum0.928\\_minSize4\\_merge\\_ME\\_0.9\\_20151 \\\\\n",
       "\t Endo       & 1.284248e-183 & 1.688376e-179 & pink          & Bicor-None\\_signum0.842\\_minSize4\\_merge\\_ME\\_0.9\\_20151 \\\\\n",
       "\t Astro      & 3.831374e-173 & 1.144780e-169 & yellow        & Bicor-None\\_signum0.629\\_minSize4\\_merge\\_ME\\_0.9\\_20151 \\\\\n",
       "\t Oligo      & 3.015653e-146 & 4.045529e-143 & darkturquoise & Bicor-None\\_signum0.928\\_minSize3\\_merge\\_ME\\_0.9\\_20151 \\\\\n",
       "\t SMC        & 3.985193e-111 & 3.402112e-108 & yellow        & Bicor-None\\_signum0.928\\_minSize5\\_merge\\_ME\\_0.9\\_20151 \\\\\n",
       "\t VLMC       &  5.670062e-98 &  4.235407e-95 & royalblue     & Bicor-None\\_signum0.629\\_minSize6\\_merge\\_ME\\_0.9\\_20151 \\\\\n",
       "\t Vip        &  6.421378e-39 &  2.972556e-36 & green         & Bicor-None\\_signum0.53\\_minSize4\\_merge\\_ME\\_0.9\\_20151  \\\\\n",
       "\t NP         &  9.420120e-38 &  4.330225e-35 & cyan          & Bicor-None\\_signum0.842\\_minSize3\\_merge\\_ME\\_0.9\\_20151 \\\\\n",
       "\t Lamp5      &  6.081477e-31 &  2.324185e-28 & pink          & Bicor-None\\_signum0.53\\_minSize4\\_merge\\_ME\\_0.9\\_20151  \\\\\n",
       "\t Peri       &  5.569456e-29 &  1.957768e-26 & blue          & Bicor-None\\_signum0.968\\_minSize3\\_merge\\_ME\\_0.9\\_20151 \\\\\n",
       "\t L6\\_CT      &  1.009511e-26 &  3.175082e-24 & thistle2      & Bicor-None\\_signum0.53\\_minSize10\\_merge\\_ME\\_0.9\\_20151 \\\\\n",
       "\t Sst        &  1.636923e-20 &  4.186829e-18 & red           & Bicor-None\\_signum0.928\\_minSize6\\_merge\\_ME\\_0.9\\_20151 \\\\\n",
       "\t L2\\_3\\_IT    &  2.434653e-15 &  4.835030e-13 & orangered3    & Bicor-None\\_signum0.53\\_minSize10\\_merge\\_ME\\_0.9\\_20151 \\\\\n",
       "\t L5\\_IT      &  3.504376e-15 &  6.917617e-13 & turquoise     & Bicor-None\\_signum0.629\\_minSize10\\_merge\\_ME\\_0.9\\_20151\\\\\n",
       "\t L5\\_PT      &  3.161569e-12 &  5.328785e-10 & salmon4       & Bicor-None\\_signum0.629\\_minSize4\\_merge\\_ME\\_0.9\\_20151 \\\\\n",
       "\t Pvalb      &  3.472538e-11 &  5.320835e-09 & darkred       & Bicor-None\\_signum0.629\\_minSize4\\_merge\\_ME\\_0.9\\_20151 \\\\\n",
       "\t L6\\_IT      &  2.716844e-10 &  3.840624e-08 & darkorange2   & Bicor-None\\_signum0.842\\_minSize3\\_merge\\_ME\\_0.9\\_20151 \\\\\n",
       "\t L6b        &  3.736627e-09 &  4.643165e-07 & purple2       & Bicor-None\\_signum0.465\\_minSize5\\_merge\\_ME\\_0.9\\_20151 \\\\\n",
       "\t Sncg       &  1.480589e-07 &  1.443991e-05 & lightcyan     & Bicor-None\\_signum0.629\\_minSize6\\_merge\\_ME\\_0.9\\_20151 \\\\\n",
       "\t Serpinf1   &  1.534429e-07 &  1.494284e-05 & salmon        & Bicor-None\\_signum0.465\\_minSize5\\_merge\\_ME\\_0.9\\_20151 \\\\\n",
       "\t Meis2      &  1.116311e-04 &  6.540073e-03 & antiquewhite4 & Bicor-None\\_signum0.629\\_minSize8\\_merge\\_ME\\_0.9\\_20151 \\\\\n",
       "\\end{tabular}\n"
      ],
      "text/markdown": [
       "\n",
       "A grouped_df: 21 × 5\n",
       "\n",
       "| Cell_type &lt;chr&gt; | Pval &lt;dbl&gt; | Qval &lt;dbl&gt; | Module &lt;chr&gt; | Network &lt;chr&gt; |\n",
       "|---|---|---|---|---|\n",
       "| Macrophage | 8.582124e-186 | 5.641373e-181 | black         | Bicor-None_signum0.928_minSize4_merge_ME_0.9_20151  |\n",
       "| Endo       | 1.284248e-183 | 1.688376e-179 | pink          | Bicor-None_signum0.842_minSize4_merge_ME_0.9_20151  |\n",
       "| Astro      | 3.831374e-173 | 1.144780e-169 | yellow        | Bicor-None_signum0.629_minSize4_merge_ME_0.9_20151  |\n",
       "| Oligo      | 3.015653e-146 | 4.045529e-143 | darkturquoise | Bicor-None_signum0.928_minSize3_merge_ME_0.9_20151  |\n",
       "| SMC        | 3.985193e-111 | 3.402112e-108 | yellow        | Bicor-None_signum0.928_minSize5_merge_ME_0.9_20151  |\n",
       "| VLMC       |  5.670062e-98 |  4.235407e-95 | royalblue     | Bicor-None_signum0.629_minSize6_merge_ME_0.9_20151  |\n",
       "| Vip        |  6.421378e-39 |  2.972556e-36 | green         | Bicor-None_signum0.53_minSize4_merge_ME_0.9_20151   |\n",
       "| NP         |  9.420120e-38 |  4.330225e-35 | cyan          | Bicor-None_signum0.842_minSize3_merge_ME_0.9_20151  |\n",
       "| Lamp5      |  6.081477e-31 |  2.324185e-28 | pink          | Bicor-None_signum0.53_minSize4_merge_ME_0.9_20151   |\n",
       "| Peri       |  5.569456e-29 |  1.957768e-26 | blue          | Bicor-None_signum0.968_minSize3_merge_ME_0.9_20151  |\n",
       "| L6_CT      |  1.009511e-26 |  3.175082e-24 | thistle2      | Bicor-None_signum0.53_minSize10_merge_ME_0.9_20151  |\n",
       "| Sst        |  1.636923e-20 |  4.186829e-18 | red           | Bicor-None_signum0.928_minSize6_merge_ME_0.9_20151  |\n",
       "| L2_3_IT    |  2.434653e-15 |  4.835030e-13 | orangered3    | Bicor-None_signum0.53_minSize10_merge_ME_0.9_20151  |\n",
       "| L5_IT      |  3.504376e-15 |  6.917617e-13 | turquoise     | Bicor-None_signum0.629_minSize10_merge_ME_0.9_20151 |\n",
       "| L5_PT      |  3.161569e-12 |  5.328785e-10 | salmon4       | Bicor-None_signum0.629_minSize4_merge_ME_0.9_20151  |\n",
       "| Pvalb      |  3.472538e-11 |  5.320835e-09 | darkred       | Bicor-None_signum0.629_minSize4_merge_ME_0.9_20151  |\n",
       "| L6_IT      |  2.716844e-10 |  3.840624e-08 | darkorange2   | Bicor-None_signum0.842_minSize3_merge_ME_0.9_20151  |\n",
       "| L6b        |  3.736627e-09 |  4.643165e-07 | purple2       | Bicor-None_signum0.465_minSize5_merge_ME_0.9_20151  |\n",
       "| Sncg       |  1.480589e-07 |  1.443991e-05 | lightcyan     | Bicor-None_signum0.629_minSize6_merge_ME_0.9_20151  |\n",
       "| Serpinf1   |  1.534429e-07 |  1.494284e-05 | salmon        | Bicor-None_signum0.465_minSize5_merge_ME_0.9_20151  |\n",
       "| Meis2      |  1.116311e-04 |  6.540073e-03 | antiquewhite4 | Bicor-None_signum0.629_minSize8_merge_ME_0.9_20151  |\n",
       "\n"
      ],
      "text/plain": [
       "   Cell_type  Pval          Qval          Module       \n",
       "1  Macrophage 8.582124e-186 5.641373e-181 black        \n",
       "2  Endo       1.284248e-183 1.688376e-179 pink         \n",
       "3  Astro      3.831374e-173 1.144780e-169 yellow       \n",
       "4  Oligo      3.015653e-146 4.045529e-143 darkturquoise\n",
       "5  SMC        3.985193e-111 3.402112e-108 yellow       \n",
       "6  VLMC        5.670062e-98  4.235407e-95 royalblue    \n",
       "7  Vip         6.421378e-39  2.972556e-36 green        \n",
       "8  NP          9.420120e-38  4.330225e-35 cyan         \n",
       "9  Lamp5       6.081477e-31  2.324185e-28 pink         \n",
       "10 Peri        5.569456e-29  1.957768e-26 blue         \n",
       "11 L6_CT       1.009511e-26  3.175082e-24 thistle2     \n",
       "12 Sst         1.636923e-20  4.186829e-18 red          \n",
       "13 L2_3_IT     2.434653e-15  4.835030e-13 orangered3   \n",
       "14 L5_IT       3.504376e-15  6.917617e-13 turquoise    \n",
       "15 L5_PT       3.161569e-12  5.328785e-10 salmon4      \n",
       "16 Pvalb       3.472538e-11  5.320835e-09 darkred      \n",
       "17 L6_IT       2.716844e-10  3.840624e-08 darkorange2  \n",
       "18 L6b         3.736627e-09  4.643165e-07 purple2      \n",
       "19 Sncg        1.480589e-07  1.443991e-05 lightcyan    \n",
       "20 Serpinf1    1.534429e-07  1.494284e-05 salmon       \n",
       "21 Meis2       1.116311e-04  6.540073e-03 antiquewhite4\n",
       "   Network                                            \n",
       "1  Bicor-None_signum0.928_minSize4_merge_ME_0.9_20151 \n",
       "2  Bicor-None_signum0.842_minSize4_merge_ME_0.9_20151 \n",
       "3  Bicor-None_signum0.629_minSize4_merge_ME_0.9_20151 \n",
       "4  Bicor-None_signum0.928_minSize3_merge_ME_0.9_20151 \n",
       "5  Bicor-None_signum0.928_minSize5_merge_ME_0.9_20151 \n",
       "6  Bicor-None_signum0.629_minSize6_merge_ME_0.9_20151 \n",
       "7  Bicor-None_signum0.53_minSize4_merge_ME_0.9_20151  \n",
       "8  Bicor-None_signum0.842_minSize3_merge_ME_0.9_20151 \n",
       "9  Bicor-None_signum0.53_minSize4_merge_ME_0.9_20151  \n",
       "10 Bicor-None_signum0.968_minSize3_merge_ME_0.9_20151 \n",
       "11 Bicor-None_signum0.53_minSize10_merge_ME_0.9_20151 \n",
       "12 Bicor-None_signum0.928_minSize6_merge_ME_0.9_20151 \n",
       "13 Bicor-None_signum0.53_minSize10_merge_ME_0.9_20151 \n",
       "14 Bicor-None_signum0.629_minSize10_merge_ME_0.9_20151\n",
       "15 Bicor-None_signum0.629_minSize4_merge_ME_0.9_20151 \n",
       "16 Bicor-None_signum0.629_minSize4_merge_ME_0.9_20151 \n",
       "17 Bicor-None_signum0.842_minSize3_merge_ME_0.9_20151 \n",
       "18 Bicor-None_signum0.465_minSize5_merge_ME_0.9_20151 \n",
       "19 Bicor-None_signum0.629_minSize6_merge_ME_0.9_20151 \n",
       "20 Bicor-None_signum0.465_minSize5_merge_ME_0.9_20151 \n",
       "21 Bicor-None_signum0.629_minSize8_merge_ME_0.9_20151 "
      ]
     },
     "metadata": {},
     "output_type": "display_data"
    }
   ],
   "source": [
    "pooled_top_mods_df[,c(\"Cell_type\", \"Pval\", \"Qval\", \"Module\", \"Network\")]"
   ]
  },
  {
   "cell_type": "markdown",
   "id": "cc33c767",
   "metadata": {},
   "source": [
    "### Get DE genes from each cell type: pairwise tests"
   ]
  },
  {
   "cell_type": "code",
   "execution_count": null,
   "id": "c5449ef7",
   "metadata": {
    "vscode": {
     "languageId": "r"
    }
   },
   "outputs": [],
   "source": [
    "pairwise_res_list <- readRDS(\"data/tasic_2018_ALM_STAR_donor_cell_type_pseudobulk_pairwise_DE_genes_dream.RDS\")"
   ]
  },
  {
   "cell_type": "code",
   "execution_count": null,
   "id": "a739660e",
   "metadata": {
    "vscode": {
     "languageId": "r"
    }
   },
   "outputs": [],
   "source": [
    "ctypes <- unique(sapply(strsplit(names(pairwise_res_list), \"_vs_\"), \"[\", 1))\n",
    "\n",
    "pairwise_ctype_genes <- lapply(ctypes, function(target) {\n",
    "    # Subset to pairwise tests with target cell type\n",
    "    ctype_res_list <- pairwise_res_list[grep(paste0(\"^\", target), names(pairwise_res_list))]\n",
    "\n",
    "    # For each pairwise test, return genes that meet p-value threshold:\n",
    "    pval_threshold <- .05 /length(ctype_res_list)\n",
    "    ctype_genes_list <- lapply(ctype_res_list, function(df) {\n",
    "        mask <- df$adj.P.Val < pval_threshold\n",
    "        df[mask, 1]\n",
    "    }) \n",
    "\n",
    "    # Restrict to genes that were identified in EVERY pairwise test\n",
    "    Reduce(intersect, ctype_genes_list)\n",
    "})\n",
    "names(pairwise_ctype_genes) <- ctypes"
   ]
  },
  {
   "cell_type": "code",
   "execution_count": null,
   "id": "ccadb211",
   "metadata": {
    "vscode": {
     "languageId": "r"
    }
   },
   "outputs": [
    {
     "data": {
      "text/html": [
       "<table class=\"dataframe\">\n",
       "<caption>A data.frame: 23 × 1</caption>\n",
       "<thead>\n",
       "\t<tr><th></th><th scope=col>No.genes</th></tr>\n",
       "\t<tr><th></th><th scope=col>&lt;int&gt;</th></tr>\n",
       "</thead>\n",
       "<tbody>\n",
       "\t<tr><th scope=row>Macrophage</th><td>333</td></tr>\n",
       "\t<tr><th scope=row>Astro</th><td>288</td></tr>\n",
       "\t<tr><th scope=row>Endo</th><td>237</td></tr>\n",
       "\t<tr><th scope=row>Oligo</th><td>131</td></tr>\n",
       "\t<tr><th scope=row>VLMC</th><td> 85</td></tr>\n",
       "\t<tr><th scope=row>SMC</th><td> 60</td></tr>\n",
       "\t<tr><th scope=row>Pvalb</th><td> 31</td></tr>\n",
       "\t<tr><th scope=row>Lamp5</th><td> 22</td></tr>\n",
       "\t<tr><th scope=row>CR</th><td> 21</td></tr>\n",
       "\t<tr><th scope=row>Sst</th><td> 21</td></tr>\n",
       "\t<tr><th scope=row>Peri</th><td> 15</td></tr>\n",
       "\t<tr><th scope=row>Sncg</th><td> 14</td></tr>\n",
       "\t<tr><th scope=row>Vip</th><td> 14</td></tr>\n",
       "\t<tr><th scope=row>NP</th><td> 13</td></tr>\n",
       "\t<tr><th scope=row>L5_IT</th><td> 11</td></tr>\n",
       "\t<tr><th scope=row>L6_IT</th><td>  9</td></tr>\n",
       "\t<tr><th scope=row>L2_3_IT</th><td>  7</td></tr>\n",
       "\t<tr><th scope=row>L6_CT</th><td>  6</td></tr>\n",
       "\t<tr><th scope=row>Serpinf1</th><td>  4</td></tr>\n",
       "\t<tr><th scope=row>L5_PT</th><td>  3</td></tr>\n",
       "\t<tr><th scope=row>L6b</th><td>  3</td></tr>\n",
       "\t<tr><th scope=row>Meis2</th><td>  1</td></tr>\n",
       "\t<tr><th scope=row>L4</th><td>  0</td></tr>\n",
       "</tbody>\n",
       "</table>\n"
      ],
      "text/latex": [
       "A data.frame: 23 × 1\n",
       "\\begin{tabular}{r|l}\n",
       "  & No.genes\\\\\n",
       "  & <int>\\\\\n",
       "\\hline\n",
       "\tMacrophage & 333\\\\\n",
       "\tAstro & 288\\\\\n",
       "\tEndo & 237\\\\\n",
       "\tOligo & 131\\\\\n",
       "\tVLMC &  85\\\\\n",
       "\tSMC &  60\\\\\n",
       "\tPvalb &  31\\\\\n",
       "\tLamp5 &  22\\\\\n",
       "\tCR &  21\\\\\n",
       "\tSst &  21\\\\\n",
       "\tPeri &  15\\\\\n",
       "\tSncg &  14\\\\\n",
       "\tVip &  14\\\\\n",
       "\tNP &  13\\\\\n",
       "\tL5\\_IT &  11\\\\\n",
       "\tL6\\_IT &   9\\\\\n",
       "\tL2\\_3\\_IT &   7\\\\\n",
       "\tL6\\_CT &   6\\\\\n",
       "\tSerpinf1 &   4\\\\\n",
       "\tL5\\_PT &   3\\\\\n",
       "\tL6b &   3\\\\\n",
       "\tMeis2 &   1\\\\\n",
       "\tL4 &   0\\\\\n",
       "\\end{tabular}\n"
      ],
      "text/markdown": [
       "\n",
       "A data.frame: 23 × 1\n",
       "\n",
       "| <!--/--> | No.genes &lt;int&gt; |\n",
       "|---|---|\n",
       "| Macrophage | 333 |\n",
       "| Astro | 288 |\n",
       "| Endo | 237 |\n",
       "| Oligo | 131 |\n",
       "| VLMC |  85 |\n",
       "| SMC |  60 |\n",
       "| Pvalb |  31 |\n",
       "| Lamp5 |  22 |\n",
       "| CR |  21 |\n",
       "| Sst |  21 |\n",
       "| Peri |  15 |\n",
       "| Sncg |  14 |\n",
       "| Vip |  14 |\n",
       "| NP |  13 |\n",
       "| L5_IT |  11 |\n",
       "| L6_IT |   9 |\n",
       "| L2_3_IT |   7 |\n",
       "| L6_CT |   6 |\n",
       "| Serpinf1 |   4 |\n",
       "| L5_PT |   3 |\n",
       "| L6b |   3 |\n",
       "| Meis2 |   1 |\n",
       "| L4 |   0 |\n",
       "\n"
      ],
      "text/plain": [
       "           No.genes\n",
       "Macrophage 333     \n",
       "Astro      288     \n",
       "Endo       237     \n",
       "Oligo      131     \n",
       "VLMC        85     \n",
       "SMC         60     \n",
       "Pvalb       31     \n",
       "Lamp5       22     \n",
       "CR          21     \n",
       "Sst         21     \n",
       "Peri        15     \n",
       "Sncg        14     \n",
       "Vip         14     \n",
       "NP          13     \n",
       "L5_IT       11     \n",
       "L6_IT        9     \n",
       "L2_3_IT      7     \n",
       "L6_CT        6     \n",
       "Serpinf1     4     \n",
       "L5_PT        3     \n",
       "L6b          3     \n",
       "Meis2        1     \n",
       "L4           0     "
      ]
     },
     "metadata": {},
     "output_type": "display_data"
    }
   ],
   "source": [
    "data.frame(No.genes=lengths(pairwise_ctype_genes)) %>% arrange(-`No.genes`)"
   ]
  },
  {
   "cell_type": "code",
   "execution_count": null,
   "id": "2e5c68a9",
   "metadata": {
    "vscode": {
     "languageId": "r"
    }
   },
   "outputs": [],
   "source": [
    "pairwise_ctype_genes <- pairwise_ctype_genes[lengths(pairwise_ctype_genes) > 0]"
   ]
  },
  {
   "cell_type": "code",
   "execution_count": null,
   "id": "141aa58d",
   "metadata": {
    "vscode": {
     "languageId": "r"
    }
   },
   "outputs": [],
   "source": [
    "if (unique) {\n",
    "    all_genes <- unlist(pairwise_ctype_genes)\n",
    "    duplicates <- unique(names(table(all_genes)[table(all_genes) > 1]))\n",
    "\n",
    "    # Remove markers that are not unique to a cell type\n",
    "\n",
    "    pairwise_ctype_genes <- lapply(pairwise_ctype_genes, function(x) x[!(x %in% duplicates)])\n",
    "}\n",
    "\n",
    "pairwise_ctype_genes <- pairwise_ctype_genes[lengths(pairwise_ctype_genes) > 0]"
   ]
  },
  {
   "cell_type": "code",
   "execution_count": null,
   "id": "da30c5c6",
   "metadata": {
    "vscode": {
     "languageId": "r"
    }
   },
   "outputs": [],
   "source": [
    "pairwise_enrichments_df <- get_module_enrichments(network_dir, pairwise_ctype_genes, mod_def)"
   ]
  },
  {
   "cell_type": "code",
   "execution_count": null,
   "id": "c7411268",
   "metadata": {
    "vscode": {
     "languageId": "r"
    }
   },
   "outputs": [],
   "source": [
    "# Get most enriched cell type for each module\n",
    "# If cell type is most enriched in multiple modules, choose module with smallest p-value\n",
    "\n",
    "pairwise_top_mods_df <- pairwise_enrichments_df %>%\n",
    "    group_by(Network, Module) %>%\n",
    "    slice_min(Qval) %>%\n",
    "    group_by(Cell_type) %>%\n",
    "    arrange(Network) %>%\n",
    "    slice_min(Qval, with_ties=FALSE) %>%\n",
    "    filter(Qval < .05) %>%\n",
    "    arrange(Qval)"
   ]
  },
  {
   "cell_type": "code",
   "execution_count": null,
   "id": "efbeaebe",
   "metadata": {
    "vscode": {
     "languageId": "r"
    }
   },
   "outputs": [
    {
     "data": {
      "text/html": [
       "<table class=\"dataframe\">\n",
       "<caption>A grouped_df: 18 × 5</caption>\n",
       "<thead>\n",
       "\t<tr><th scope=col>Cell_type</th><th scope=col>Pval</th><th scope=col>Qval</th><th scope=col>Module</th><th scope=col>Network</th></tr>\n",
       "\t<tr><th scope=col>&lt;chr&gt;</th><th scope=col>&lt;dbl&gt;</th><th scope=col>&lt;dbl&gt;</th><th scope=col>&lt;chr&gt;</th><th scope=col>&lt;chr&gt;</th></tr>\n",
       "</thead>\n",
       "<tbody>\n",
       "\t<tr><td>Endo      </td><td> 0.000000e+00</td><td> 0.000000e+00</td><td>pink         </td><td>Bicor-None_signum0.465_minSize10_merge_ME_0.9_20151</td></tr>\n",
       "\t<tr><td>Macrophage</td><td> 0.000000e+00</td><td> 0.000000e+00</td><td>magenta      </td><td>Bicor-None_signum0.53_minSize10_merge_ME_0.9_20151 </td></tr>\n",
       "\t<tr><td>Astro     </td><td>3.644304e-299</td><td>9.165570e-296</td><td>yellow       </td><td>Bicor-None_signum0.842_minSize3_merge_ME_0.9_20151 </td></tr>\n",
       "\t<tr><td>Oligo     </td><td>2.198702e-188</td><td>1.868184e-185</td><td>darkturquoise</td><td>Bicor-None_signum0.928_minSize3_merge_ME_0.9_20151 </td></tr>\n",
       "\t<tr><td>VLMC      </td><td>2.207268e-144</td><td>1.779284e-141</td><td>orange       </td><td>Bicor-None_signum0.629_minSize8_merge_ME_0.9_20151 </td></tr>\n",
       "\t<tr><td>SMC       </td><td> 7.478725e-87</td><td> 4.394695e-84</td><td>royalblue    </td><td>Bicor-None_signum0.629_minSize10_merge_ME_0.9_20151</td></tr>\n",
       "\t<tr><td>Pvalb     </td><td> 8.037187e-38</td><td> 3.158414e-35</td><td>brown        </td><td>Bicor-None_signum0.53_minSize8_merge_ME_0.9_20151  </td></tr>\n",
       "\t<tr><td>Sst       </td><td> 6.370102e-31</td><td> 2.176775e-28</td><td>green        </td><td>Bicor-None_signum0.928_minSize3_merge_ME_0.9_20151 </td></tr>\n",
       "\t<tr><td>Lamp5     </td><td> 5.682781e-30</td><td> 1.890532e-27</td><td>red          </td><td>Bicor-None_signum0.842_minSize5_merge_ME_0.9_20151 </td></tr>\n",
       "\t<tr><td>Vip       </td><td> 1.856283e-24</td><td> 5.210519e-22</td><td>green        </td><td>Bicor-None_signum0.465_minSize5_merge_ME_0.9_20151 </td></tr>\n",
       "\t<tr><td>NP        </td><td> 1.926996e-19</td><td> 4.624496e-17</td><td>midnightblue </td><td>Bicor-None_signum0.53_minSize4_merge_ME_0.9_20151  </td></tr>\n",
       "\t<tr><td>L6_IT     </td><td> 5.451380e-18</td><td> 1.250952e-15</td><td>darkorange2  </td><td>Bicor-None_signum0.842_minSize3_merge_ME_0.9_20151 </td></tr>\n",
       "\t<tr><td>L5_IT     </td><td> 1.780055e-14</td><td> 3.433212e-12</td><td>turquoise    </td><td>Bicor-None_signum0.629_minSize4_merge_ME_0.9_20151 </td></tr>\n",
       "\t<tr><td>Peri      </td><td> 1.947281e-08</td><td> 2.621782e-06</td><td>aquamarine1  </td><td>Bicor-None_signum0.629_minSize4_merge_ME_0.9_20151 </td></tr>\n",
       "\t<tr><td>L6_CT     </td><td> 3.034822e-08</td><td> 4.034197e-06</td><td>thistle2     </td><td>Bicor-None_signum0.53_minSize10_merge_ME_0.9_20151 </td></tr>\n",
       "\t<tr><td>L2_3_IT   </td><td> 7.481133e-08</td><td> 9.758999e-06</td><td>mediumpurple2</td><td>Bicor-None_signum0.465_minSize5_merge_ME_0.9_20151 </td></tr>\n",
       "\t<tr><td>L5_PT     </td><td> 8.508075e-05</td><td> 8.204811e-03</td><td>salmon4      </td><td>Bicor-None_signum0.629_minSize4_merge_ME_0.9_20151 </td></tr>\n",
       "\t<tr><td>Sncg      </td><td> 1.681239e-04</td><td> 1.566068e-02</td><td>lightcyan    </td><td>Bicor-None_signum0.629_minSize6_merge_ME_0.9_20151 </td></tr>\n",
       "</tbody>\n",
       "</table>\n"
      ],
      "text/latex": [
       "A grouped\\_df: 18 × 5\n",
       "\\begin{tabular}{lllll}\n",
       " Cell\\_type & Pval & Qval & Module & Network\\\\\n",
       " <chr> & <dbl> & <dbl> & <chr> & <chr>\\\\\n",
       "\\hline\n",
       "\t Endo       &  0.000000e+00 &  0.000000e+00 & pink          & Bicor-None\\_signum0.465\\_minSize10\\_merge\\_ME\\_0.9\\_20151\\\\\n",
       "\t Macrophage &  0.000000e+00 &  0.000000e+00 & magenta       & Bicor-None\\_signum0.53\\_minSize10\\_merge\\_ME\\_0.9\\_20151 \\\\\n",
       "\t Astro      & 3.644304e-299 & 9.165570e-296 & yellow        & Bicor-None\\_signum0.842\\_minSize3\\_merge\\_ME\\_0.9\\_20151 \\\\\n",
       "\t Oligo      & 2.198702e-188 & 1.868184e-185 & darkturquoise & Bicor-None\\_signum0.928\\_minSize3\\_merge\\_ME\\_0.9\\_20151 \\\\\n",
       "\t VLMC       & 2.207268e-144 & 1.779284e-141 & orange        & Bicor-None\\_signum0.629\\_minSize8\\_merge\\_ME\\_0.9\\_20151 \\\\\n",
       "\t SMC        &  7.478725e-87 &  4.394695e-84 & royalblue     & Bicor-None\\_signum0.629\\_minSize10\\_merge\\_ME\\_0.9\\_20151\\\\\n",
       "\t Pvalb      &  8.037187e-38 &  3.158414e-35 & brown         & Bicor-None\\_signum0.53\\_minSize8\\_merge\\_ME\\_0.9\\_20151  \\\\\n",
       "\t Sst        &  6.370102e-31 &  2.176775e-28 & green         & Bicor-None\\_signum0.928\\_minSize3\\_merge\\_ME\\_0.9\\_20151 \\\\\n",
       "\t Lamp5      &  5.682781e-30 &  1.890532e-27 & red           & Bicor-None\\_signum0.842\\_minSize5\\_merge\\_ME\\_0.9\\_20151 \\\\\n",
       "\t Vip        &  1.856283e-24 &  5.210519e-22 & green         & Bicor-None\\_signum0.465\\_minSize5\\_merge\\_ME\\_0.9\\_20151 \\\\\n",
       "\t NP         &  1.926996e-19 &  4.624496e-17 & midnightblue  & Bicor-None\\_signum0.53\\_minSize4\\_merge\\_ME\\_0.9\\_20151  \\\\\n",
       "\t L6\\_IT      &  5.451380e-18 &  1.250952e-15 & darkorange2   & Bicor-None\\_signum0.842\\_minSize3\\_merge\\_ME\\_0.9\\_20151 \\\\\n",
       "\t L5\\_IT      &  1.780055e-14 &  3.433212e-12 & turquoise     & Bicor-None\\_signum0.629\\_minSize4\\_merge\\_ME\\_0.9\\_20151 \\\\\n",
       "\t Peri       &  1.947281e-08 &  2.621782e-06 & aquamarine1   & Bicor-None\\_signum0.629\\_minSize4\\_merge\\_ME\\_0.9\\_20151 \\\\\n",
       "\t L6\\_CT      &  3.034822e-08 &  4.034197e-06 & thistle2      & Bicor-None\\_signum0.53\\_minSize10\\_merge\\_ME\\_0.9\\_20151 \\\\\n",
       "\t L2\\_3\\_IT    &  7.481133e-08 &  9.758999e-06 & mediumpurple2 & Bicor-None\\_signum0.465\\_minSize5\\_merge\\_ME\\_0.9\\_20151 \\\\\n",
       "\t L5\\_PT      &  8.508075e-05 &  8.204811e-03 & salmon4       & Bicor-None\\_signum0.629\\_minSize4\\_merge\\_ME\\_0.9\\_20151 \\\\\n",
       "\t Sncg       &  1.681239e-04 &  1.566068e-02 & lightcyan     & Bicor-None\\_signum0.629\\_minSize6\\_merge\\_ME\\_0.9\\_20151 \\\\\n",
       "\\end{tabular}\n"
      ],
      "text/markdown": [
       "\n",
       "A grouped_df: 18 × 5\n",
       "\n",
       "| Cell_type &lt;chr&gt; | Pval &lt;dbl&gt; | Qval &lt;dbl&gt; | Module &lt;chr&gt; | Network &lt;chr&gt; |\n",
       "|---|---|---|---|---|\n",
       "| Endo       |  0.000000e+00 |  0.000000e+00 | pink          | Bicor-None_signum0.465_minSize10_merge_ME_0.9_20151 |\n",
       "| Macrophage |  0.000000e+00 |  0.000000e+00 | magenta       | Bicor-None_signum0.53_minSize10_merge_ME_0.9_20151  |\n",
       "| Astro      | 3.644304e-299 | 9.165570e-296 | yellow        | Bicor-None_signum0.842_minSize3_merge_ME_0.9_20151  |\n",
       "| Oligo      | 2.198702e-188 | 1.868184e-185 | darkturquoise | Bicor-None_signum0.928_minSize3_merge_ME_0.9_20151  |\n",
       "| VLMC       | 2.207268e-144 | 1.779284e-141 | orange        | Bicor-None_signum0.629_minSize8_merge_ME_0.9_20151  |\n",
       "| SMC        |  7.478725e-87 |  4.394695e-84 | royalblue     | Bicor-None_signum0.629_minSize10_merge_ME_0.9_20151 |\n",
       "| Pvalb      |  8.037187e-38 |  3.158414e-35 | brown         | Bicor-None_signum0.53_minSize8_merge_ME_0.9_20151   |\n",
       "| Sst        |  6.370102e-31 |  2.176775e-28 | green         | Bicor-None_signum0.928_minSize3_merge_ME_0.9_20151  |\n",
       "| Lamp5      |  5.682781e-30 |  1.890532e-27 | red           | Bicor-None_signum0.842_minSize5_merge_ME_0.9_20151  |\n",
       "| Vip        |  1.856283e-24 |  5.210519e-22 | green         | Bicor-None_signum0.465_minSize5_merge_ME_0.9_20151  |\n",
       "| NP         |  1.926996e-19 |  4.624496e-17 | midnightblue  | Bicor-None_signum0.53_minSize4_merge_ME_0.9_20151   |\n",
       "| L6_IT      |  5.451380e-18 |  1.250952e-15 | darkorange2   | Bicor-None_signum0.842_minSize3_merge_ME_0.9_20151  |\n",
       "| L5_IT      |  1.780055e-14 |  3.433212e-12 | turquoise     | Bicor-None_signum0.629_minSize4_merge_ME_0.9_20151  |\n",
       "| Peri       |  1.947281e-08 |  2.621782e-06 | aquamarine1   | Bicor-None_signum0.629_minSize4_merge_ME_0.9_20151  |\n",
       "| L6_CT      |  3.034822e-08 |  4.034197e-06 | thistle2      | Bicor-None_signum0.53_minSize10_merge_ME_0.9_20151  |\n",
       "| L2_3_IT    |  7.481133e-08 |  9.758999e-06 | mediumpurple2 | Bicor-None_signum0.465_minSize5_merge_ME_0.9_20151  |\n",
       "| L5_PT      |  8.508075e-05 |  8.204811e-03 | salmon4       | Bicor-None_signum0.629_minSize4_merge_ME_0.9_20151  |\n",
       "| Sncg       |  1.681239e-04 |  1.566068e-02 | lightcyan     | Bicor-None_signum0.629_minSize6_merge_ME_0.9_20151  |\n",
       "\n"
      ],
      "text/plain": [
       "   Cell_type  Pval          Qval          Module       \n",
       "1  Endo        0.000000e+00  0.000000e+00 pink         \n",
       "2  Macrophage  0.000000e+00  0.000000e+00 magenta      \n",
       "3  Astro      3.644304e-299 9.165570e-296 yellow       \n",
       "4  Oligo      2.198702e-188 1.868184e-185 darkturquoise\n",
       "5  VLMC       2.207268e-144 1.779284e-141 orange       \n",
       "6  SMC         7.478725e-87  4.394695e-84 royalblue    \n",
       "7  Pvalb       8.037187e-38  3.158414e-35 brown        \n",
       "8  Sst         6.370102e-31  2.176775e-28 green        \n",
       "9  Lamp5       5.682781e-30  1.890532e-27 red          \n",
       "10 Vip         1.856283e-24  5.210519e-22 green        \n",
       "11 NP          1.926996e-19  4.624496e-17 midnightblue \n",
       "12 L6_IT       5.451380e-18  1.250952e-15 darkorange2  \n",
       "13 L5_IT       1.780055e-14  3.433212e-12 turquoise    \n",
       "14 Peri        1.947281e-08  2.621782e-06 aquamarine1  \n",
       "15 L6_CT       3.034822e-08  4.034197e-06 thistle2     \n",
       "16 L2_3_IT     7.481133e-08  9.758999e-06 mediumpurple2\n",
       "17 L5_PT       8.508075e-05  8.204811e-03 salmon4      \n",
       "18 Sncg        1.681239e-04  1.566068e-02 lightcyan    \n",
       "   Network                                            \n",
       "1  Bicor-None_signum0.465_minSize10_merge_ME_0.9_20151\n",
       "2  Bicor-None_signum0.53_minSize10_merge_ME_0.9_20151 \n",
       "3  Bicor-None_signum0.842_minSize3_merge_ME_0.9_20151 \n",
       "4  Bicor-None_signum0.928_minSize3_merge_ME_0.9_20151 \n",
       "5  Bicor-None_signum0.629_minSize8_merge_ME_0.9_20151 \n",
       "6  Bicor-None_signum0.629_minSize10_merge_ME_0.9_20151\n",
       "7  Bicor-None_signum0.53_minSize8_merge_ME_0.9_20151  \n",
       "8  Bicor-None_signum0.928_minSize3_merge_ME_0.9_20151 \n",
       "9  Bicor-None_signum0.842_minSize5_merge_ME_0.9_20151 \n",
       "10 Bicor-None_signum0.465_minSize5_merge_ME_0.9_20151 \n",
       "11 Bicor-None_signum0.53_minSize4_merge_ME_0.9_20151  \n",
       "12 Bicor-None_signum0.842_minSize3_merge_ME_0.9_20151 \n",
       "13 Bicor-None_signum0.629_minSize4_merge_ME_0.9_20151 \n",
       "14 Bicor-None_signum0.629_minSize4_merge_ME_0.9_20151 \n",
       "15 Bicor-None_signum0.53_minSize10_merge_ME_0.9_20151 \n",
       "16 Bicor-None_signum0.465_minSize5_merge_ME_0.9_20151 \n",
       "17 Bicor-None_signum0.629_minSize4_merge_ME_0.9_20151 \n",
       "18 Bicor-None_signum0.629_minSize6_merge_ME_0.9_20151 "
      ]
     },
     "metadata": {},
     "output_type": "display_data"
    }
   ],
   "source": [
    "pairwise_top_mods_df[,c(\"Cell_type\", \"Pval\", \"Qval\", \"Module\", \"Network\")]"
   ]
  },
  {
   "cell_type": "code",
   "execution_count": null,
   "id": "33f3bdb4",
   "metadata": {
    "vscode": {
     "languageId": "r"
    }
   },
   "outputs": [],
   "source": [
    "# pairwise_top_mods_df[,c(\"Cell_type\", \"Pval\", \"Qval\", \"Module\", \"Network\")]"
   ]
  },
  {
   "cell_type": "markdown",
   "id": "03b2b613",
   "metadata": {},
   "source": [
    "### Get DE genes frome each cell type: 1 vs. mean analysis"
   ]
  },
  {
   "cell_type": "code",
   "execution_count": null,
   "id": "54340439",
   "metadata": {
    "vscode": {
     "languageId": "r"
    }
   },
   "outputs": [],
   "source": [
    "mean_res_list <- readRDS(\"data/tasic_2018_ALM_STAR_donor_cell_type_pseudobulk_1_vs_meanOthers_DE_genes_dream.RDS\")"
   ]
  },
  {
   "cell_type": "code",
   "execution_count": null,
   "id": "d868ba05",
   "metadata": {
    "vscode": {
     "languageId": "r"
    }
   },
   "outputs": [],
   "source": [
    "pval_threshold <- .05/length(mean_res_list)\n",
    "lfc_threshold <- 6\n",
    "\n",
    "mean_ctype_genes <- lapply(mean_res_list, function(df) {\n",
    "    mask <- (df['adj.P.Val'] < pval_threshold) & (abs(df['logFC']) > lfc_threshold)\n",
    "    df[mask, 1]\n",
    "})\n",
    "names(mean_ctype_genes) <- names(mean_res_list) "
   ]
  },
  {
   "cell_type": "code",
   "execution_count": null,
   "id": "bf629980",
   "metadata": {
    "vscode": {
     "languageId": "r"
    }
   },
   "outputs": [],
   "source": [
    "if (unique) {\n",
    "    all_genes <- unlist(mean_ctype_genes)\n",
    "    duplicates <- unique(names(table(all_genes)[table(all_genes) > 1]))\n",
    "\n",
    "    # Remove markers that are not unique to a cell type\n",
    "\n",
    "    mean_ctype_genes <- lapply(mean_ctype_genes, function(x) x[!(x %in% duplicates)])\n",
    "}"
   ]
  },
  {
   "cell_type": "code",
   "execution_count": null,
   "id": "93eb6386",
   "metadata": {
    "vscode": {
     "languageId": "r"
    }
   },
   "outputs": [
    {
     "data": {
      "text/html": [
       "<table class=\"dataframe\">\n",
       "<caption>A data.frame: 23 × 1</caption>\n",
       "<thead>\n",
       "\t<tr><th></th><th scope=col>No.genes</th></tr>\n",
       "\t<tr><th></th><th scope=col>&lt;int&gt;</th></tr>\n",
       "</thead>\n",
       "<tbody>\n",
       "\t<tr><th scope=row>Peri</th><td>1806</td></tr>\n",
       "\t<tr><th scope=row>Endo</th><td> 879</td></tr>\n",
       "\t<tr><th scope=row>Macrophage</th><td> 828</td></tr>\n",
       "\t<tr><th scope=row>VLMC</th><td> 551</td></tr>\n",
       "\t<tr><th scope=row>SMC</th><td> 542</td></tr>\n",
       "\t<tr><th scope=row>Astro</th><td> 503</td></tr>\n",
       "\t<tr><th scope=row>Oligo</th><td> 228</td></tr>\n",
       "\t<tr><th scope=row>Vip</th><td>  67</td></tr>\n",
       "\t<tr><th scope=row>Sncg</th><td>  66</td></tr>\n",
       "\t<tr><th scope=row>Lamp5</th><td>  63</td></tr>\n",
       "\t<tr><th scope=row>Serpinf1</th><td>  62</td></tr>\n",
       "\t<tr><th scope=row>L6_IT</th><td>  57</td></tr>\n",
       "\t<tr><th scope=row>Sst</th><td>  57</td></tr>\n",
       "\t<tr><th scope=row>CR</th><td>  56</td></tr>\n",
       "\t<tr><th scope=row>L5_IT</th><td>  56</td></tr>\n",
       "\t<tr><th scope=row>Pvalb</th><td>  56</td></tr>\n",
       "\t<tr><th scope=row>NP</th><td>  54</td></tr>\n",
       "\t<tr><th scope=row>Meis2</th><td>  53</td></tr>\n",
       "\t<tr><th scope=row>L6_CT</th><td>  52</td></tr>\n",
       "\t<tr><th scope=row>L2_3_IT</th><td>  51</td></tr>\n",
       "\t<tr><th scope=row>L4</th><td>  38</td></tr>\n",
       "\t<tr><th scope=row>L6b</th><td>  38</td></tr>\n",
       "\t<tr><th scope=row>L5_PT</th><td>  34</td></tr>\n",
       "</tbody>\n",
       "</table>\n"
      ],
      "text/latex": [
       "A data.frame: 23 × 1\n",
       "\\begin{tabular}{r|l}\n",
       "  & No.genes\\\\\n",
       "  & <int>\\\\\n",
       "\\hline\n",
       "\tPeri & 1806\\\\\n",
       "\tEndo &  879\\\\\n",
       "\tMacrophage &  828\\\\\n",
       "\tVLMC &  551\\\\\n",
       "\tSMC &  542\\\\\n",
       "\tAstro &  503\\\\\n",
       "\tOligo &  228\\\\\n",
       "\tVip &   67\\\\\n",
       "\tSncg &   66\\\\\n",
       "\tLamp5 &   63\\\\\n",
       "\tSerpinf1 &   62\\\\\n",
       "\tL6\\_IT &   57\\\\\n",
       "\tSst &   57\\\\\n",
       "\tCR &   56\\\\\n",
       "\tL5\\_IT &   56\\\\\n",
       "\tPvalb &   56\\\\\n",
       "\tNP &   54\\\\\n",
       "\tMeis2 &   53\\\\\n",
       "\tL6\\_CT &   52\\\\\n",
       "\tL2\\_3\\_IT &   51\\\\\n",
       "\tL4 &   38\\\\\n",
       "\tL6b &   38\\\\\n",
       "\tL5\\_PT &   34\\\\\n",
       "\\end{tabular}\n"
      ],
      "text/markdown": [
       "\n",
       "A data.frame: 23 × 1\n",
       "\n",
       "| <!--/--> | No.genes &lt;int&gt; |\n",
       "|---|---|\n",
       "| Peri | 1806 |\n",
       "| Endo |  879 |\n",
       "| Macrophage |  828 |\n",
       "| VLMC |  551 |\n",
       "| SMC |  542 |\n",
       "| Astro |  503 |\n",
       "| Oligo |  228 |\n",
       "| Vip |   67 |\n",
       "| Sncg |   66 |\n",
       "| Lamp5 |   63 |\n",
       "| Serpinf1 |   62 |\n",
       "| L6_IT |   57 |\n",
       "| Sst |   57 |\n",
       "| CR |   56 |\n",
       "| L5_IT |   56 |\n",
       "| Pvalb |   56 |\n",
       "| NP |   54 |\n",
       "| Meis2 |   53 |\n",
       "| L6_CT |   52 |\n",
       "| L2_3_IT |   51 |\n",
       "| L4 |   38 |\n",
       "| L6b |   38 |\n",
       "| L5_PT |   34 |\n",
       "\n"
      ],
      "text/plain": [
       "           No.genes\n",
       "Peri       1806    \n",
       "Endo        879    \n",
       "Macrophage  828    \n",
       "VLMC        551    \n",
       "SMC         542    \n",
       "Astro       503    \n",
       "Oligo       228    \n",
       "Vip          67    \n",
       "Sncg         66    \n",
       "Lamp5        63    \n",
       "Serpinf1     62    \n",
       "L6_IT        57    \n",
       "Sst          57    \n",
       "CR           56    \n",
       "L5_IT        56    \n",
       "Pvalb        56    \n",
       "NP           54    \n",
       "Meis2        53    \n",
       "L6_CT        52    \n",
       "L2_3_IT      51    \n",
       "L4           38    \n",
       "L6b          38    \n",
       "L5_PT        34    "
      ]
     },
     "metadata": {},
     "output_type": "display_data"
    }
   ],
   "source": [
    "data.frame(No.genes=lengths(mean_ctype_genes)) %>% arrange(-`No.genes`)"
   ]
  },
  {
   "cell_type": "code",
   "execution_count": null,
   "id": "461bdf2d",
   "metadata": {
    "vscode": {
     "languageId": "r"
    }
   },
   "outputs": [],
   "source": [
    "mean_enrichments_df <- get_module_enrichments(network_dir, mean_ctype_genes, mod_def)"
   ]
  },
  {
   "cell_type": "code",
   "execution_count": null,
   "id": "0830bd47",
   "metadata": {
    "vscode": {
     "languageId": "r"
    }
   },
   "outputs": [],
   "source": [
    "# Get most enriched cell type for each module\n",
    "# If cell type is most enriched in multiple modules, choose module with smallest p-value\n",
    "\n",
    "mean_top_mods_df <- mean_enrichments_df %>%\n",
    "    group_by(Network, Module) %>%\n",
    "    slice_min(Qval) %>%\n",
    "    group_by(Cell_type) %>%\n",
    "    arrange(Network) %>%\n",
    "    slice_min(Qval, with_ties=FALSE) %>%\n",
    "    filter(Qval < .05) %>%\n",
    "    arrange(Qval)"
   ]
  },
  {
   "cell_type": "code",
   "execution_count": null,
   "id": "fcfe83c2",
   "metadata": {
    "vscode": {
     "languageId": "r"
    }
   },
   "outputs": [
    {
     "data": {
      "text/html": [
       "<table class=\"dataframe\">\n",
       "<caption>A grouped_df: 20 × 5</caption>\n",
       "<thead>\n",
       "\t<tr><th scope=col>Cell_type</th><th scope=col>Pval</th><th scope=col>Qval</th><th scope=col>Module</th><th scope=col>Network</th></tr>\n",
       "\t<tr><th scope=col>&lt;chr&gt;</th><th scope=col>&lt;dbl&gt;</th><th scope=col>&lt;dbl&gt;</th><th scope=col>&lt;chr&gt;</th><th scope=col>&lt;chr&gt;</th></tr>\n",
       "</thead>\n",
       "<tbody>\n",
       "\t<tr><td>Macrophage</td><td>2.937780e-244</td><td>1.931120e-239</td><td>green        </td><td>Bicor-None_signum0.928_minSize5_merge_ME_0.9_20151 </td></tr>\n",
       "\t<tr><td>Endo      </td><td>6.215654e-215</td><td>4.085798e-211</td><td>pink         </td><td>Bicor-None_signum0.842_minSize4_merge_ME_0.9_20151 </td></tr>\n",
       "\t<tr><td>Astro     </td><td>4.910968e-208</td><td>1.793431e-204</td><td>yellow       </td><td>Bicor-None_signum0.465_minSize5_merge_ME_0.9_20151 </td></tr>\n",
       "\t<tr><td>Oligo     </td><td>2.543546e-175</td><td>2.933289e-172</td><td>lightgreen   </td><td>Bicor-None_signum0.842_minSize6_merge_ME_0.9_20151 </td></tr>\n",
       "\t<tr><td>SMC       </td><td>1.814868e-131</td><td>1.472821e-128</td><td>yellow       </td><td>Bicor-None_signum0.928_minSize5_merge_ME_0.9_20151 </td></tr>\n",
       "\t<tr><td>VLMC      </td><td>4.718012e-111</td><td>3.264567e-108</td><td>orange       </td><td>Bicor-None_signum0.629_minSize8_merge_ME_0.9_20151 </td></tr>\n",
       "\t<tr><td>NP        </td><td> 4.158145e-41</td><td> 1.898136e-38</td><td>cyan         </td><td>Bicor-None_signum0.842_minSize3_merge_ME_0.9_20151 </td></tr>\n",
       "\t<tr><td>Vip       </td><td> 6.406931e-39</td><td> 2.845630e-36</td><td>green        </td><td>Bicor-None_signum0.53_minSize4_merge_ME_0.9_20151  </td></tr>\n",
       "\t<tr><td>L5_IT     </td><td> 2.095423e-38</td><td> 9.182703e-36</td><td>turquoise    </td><td>Bicor-None_signum0.53_minSize4_merge_ME_0.9_20151  </td></tr>\n",
       "\t<tr><td>Lamp5     </td><td> 1.262213e-32</td><td> 4.169363e-30</td><td>red          </td><td>Bicor-None_signum0.465_minSize5_merge_ME_0.9_20151 </td></tr>\n",
       "\t<tr><td>L6_CT     </td><td> 1.103165e-30</td><td> 3.326398e-28</td><td>thistle2     </td><td>Bicor-None_signum0.53_minSize10_merge_ME_0.9_20151 </td></tr>\n",
       "\t<tr><td>Peri      </td><td> 2.185250e-29</td><td> 6.138686e-27</td><td>orange       </td><td>Bicor-None_signum0.842_minSize4_merge_ME_0.9_20151 </td></tr>\n",
       "\t<tr><td>Sst       </td><td> 8.109526e-29</td><td> 2.149482e-26</td><td>magenta      </td><td>Bicor-None_signum0.465_minSize5_merge_ME_0.9_20151 </td></tr>\n",
       "\t<tr><td>L6_IT     </td><td> 5.301249e-23</td><td> 1.181262e-20</td><td>orange       </td><td>Bicor-None_signum0.629_minSize10_merge_ME_0.9_20151</td></tr>\n",
       "\t<tr><td>Pvalb     </td><td> 1.314124e-22</td><td> 2.908507e-20</td><td>blue         </td><td>Bicor-None_signum0.928_minSize8_merge_ME_0.9_20151 </td></tr>\n",
       "\t<tr><td>Serpinf1  </td><td> 9.008205e-17</td><td> 1.491550e-14</td><td>salmon       </td><td>Bicor-None_signum0.465_minSize5_merge_ME_0.9_20151 </td></tr>\n",
       "\t<tr><td>L5_PT     </td><td> 1.056787e-13</td><td> 1.417690e-11</td><td>paleturquoise</td><td>Bicor-None_signum0.842_minSize4_merge_ME_0.9_20151 </td></tr>\n",
       "\t<tr><td>L2_3_IT   </td><td> 4.214387e-11</td><td> 4.751775e-09</td><td>orangered3   </td><td>Bicor-None_signum0.53_minSize10_merge_ME_0.9_20151 </td></tr>\n",
       "\t<tr><td>L6b       </td><td> 5.651462e-09</td><td> 5.081986e-07</td><td>purple2      </td><td>Bicor-None_signum0.465_minSize5_merge_ME_0.9_20151 </td></tr>\n",
       "\t<tr><td>Sncg      </td><td> 6.131696e-06</td><td> 3.795300e-04</td><td>magenta      </td><td>Bicor-None_signum0.465_minSize8_merge_ME_0.9_20151 </td></tr>\n",
       "</tbody>\n",
       "</table>\n"
      ],
      "text/latex": [
       "A grouped\\_df: 20 × 5\n",
       "\\begin{tabular}{lllll}\n",
       " Cell\\_type & Pval & Qval & Module & Network\\\\\n",
       " <chr> & <dbl> & <dbl> & <chr> & <chr>\\\\\n",
       "\\hline\n",
       "\t Macrophage & 2.937780e-244 & 1.931120e-239 & green         & Bicor-None\\_signum0.928\\_minSize5\\_merge\\_ME\\_0.9\\_20151 \\\\\n",
       "\t Endo       & 6.215654e-215 & 4.085798e-211 & pink          & Bicor-None\\_signum0.842\\_minSize4\\_merge\\_ME\\_0.9\\_20151 \\\\\n",
       "\t Astro      & 4.910968e-208 & 1.793431e-204 & yellow        & Bicor-None\\_signum0.465\\_minSize5\\_merge\\_ME\\_0.9\\_20151 \\\\\n",
       "\t Oligo      & 2.543546e-175 & 2.933289e-172 & lightgreen    & Bicor-None\\_signum0.842\\_minSize6\\_merge\\_ME\\_0.9\\_20151 \\\\\n",
       "\t SMC        & 1.814868e-131 & 1.472821e-128 & yellow        & Bicor-None\\_signum0.928\\_minSize5\\_merge\\_ME\\_0.9\\_20151 \\\\\n",
       "\t VLMC       & 4.718012e-111 & 3.264567e-108 & orange        & Bicor-None\\_signum0.629\\_minSize8\\_merge\\_ME\\_0.9\\_20151 \\\\\n",
       "\t NP         &  4.158145e-41 &  1.898136e-38 & cyan          & Bicor-None\\_signum0.842\\_minSize3\\_merge\\_ME\\_0.9\\_20151 \\\\\n",
       "\t Vip        &  6.406931e-39 &  2.845630e-36 & green         & Bicor-None\\_signum0.53\\_minSize4\\_merge\\_ME\\_0.9\\_20151  \\\\\n",
       "\t L5\\_IT      &  2.095423e-38 &  9.182703e-36 & turquoise     & Bicor-None\\_signum0.53\\_minSize4\\_merge\\_ME\\_0.9\\_20151  \\\\\n",
       "\t Lamp5      &  1.262213e-32 &  4.169363e-30 & red           & Bicor-None\\_signum0.465\\_minSize5\\_merge\\_ME\\_0.9\\_20151 \\\\\n",
       "\t L6\\_CT      &  1.103165e-30 &  3.326398e-28 & thistle2      & Bicor-None\\_signum0.53\\_minSize10\\_merge\\_ME\\_0.9\\_20151 \\\\\n",
       "\t Peri       &  2.185250e-29 &  6.138686e-27 & orange        & Bicor-None\\_signum0.842\\_minSize4\\_merge\\_ME\\_0.9\\_20151 \\\\\n",
       "\t Sst        &  8.109526e-29 &  2.149482e-26 & magenta       & Bicor-None\\_signum0.465\\_minSize5\\_merge\\_ME\\_0.9\\_20151 \\\\\n",
       "\t L6\\_IT      &  5.301249e-23 &  1.181262e-20 & orange        & Bicor-None\\_signum0.629\\_minSize10\\_merge\\_ME\\_0.9\\_20151\\\\\n",
       "\t Pvalb      &  1.314124e-22 &  2.908507e-20 & blue          & Bicor-None\\_signum0.928\\_minSize8\\_merge\\_ME\\_0.9\\_20151 \\\\\n",
       "\t Serpinf1   &  9.008205e-17 &  1.491550e-14 & salmon        & Bicor-None\\_signum0.465\\_minSize5\\_merge\\_ME\\_0.9\\_20151 \\\\\n",
       "\t L5\\_PT      &  1.056787e-13 &  1.417690e-11 & paleturquoise & Bicor-None\\_signum0.842\\_minSize4\\_merge\\_ME\\_0.9\\_20151 \\\\\n",
       "\t L2\\_3\\_IT    &  4.214387e-11 &  4.751775e-09 & orangered3    & Bicor-None\\_signum0.53\\_minSize10\\_merge\\_ME\\_0.9\\_20151 \\\\\n",
       "\t L6b        &  5.651462e-09 &  5.081986e-07 & purple2       & Bicor-None\\_signum0.465\\_minSize5\\_merge\\_ME\\_0.9\\_20151 \\\\\n",
       "\t Sncg       &  6.131696e-06 &  3.795300e-04 & magenta       & Bicor-None\\_signum0.465\\_minSize8\\_merge\\_ME\\_0.9\\_20151 \\\\\n",
       "\\end{tabular}\n"
      ],
      "text/markdown": [
       "\n",
       "A grouped_df: 20 × 5\n",
       "\n",
       "| Cell_type &lt;chr&gt; | Pval &lt;dbl&gt; | Qval &lt;dbl&gt; | Module &lt;chr&gt; | Network &lt;chr&gt; |\n",
       "|---|---|---|---|---|\n",
       "| Macrophage | 2.937780e-244 | 1.931120e-239 | green         | Bicor-None_signum0.928_minSize5_merge_ME_0.9_20151  |\n",
       "| Endo       | 6.215654e-215 | 4.085798e-211 | pink          | Bicor-None_signum0.842_minSize4_merge_ME_0.9_20151  |\n",
       "| Astro      | 4.910968e-208 | 1.793431e-204 | yellow        | Bicor-None_signum0.465_minSize5_merge_ME_0.9_20151  |\n",
       "| Oligo      | 2.543546e-175 | 2.933289e-172 | lightgreen    | Bicor-None_signum0.842_minSize6_merge_ME_0.9_20151  |\n",
       "| SMC        | 1.814868e-131 | 1.472821e-128 | yellow        | Bicor-None_signum0.928_minSize5_merge_ME_0.9_20151  |\n",
       "| VLMC       | 4.718012e-111 | 3.264567e-108 | orange        | Bicor-None_signum0.629_minSize8_merge_ME_0.9_20151  |\n",
       "| NP         |  4.158145e-41 |  1.898136e-38 | cyan          | Bicor-None_signum0.842_minSize3_merge_ME_0.9_20151  |\n",
       "| Vip        |  6.406931e-39 |  2.845630e-36 | green         | Bicor-None_signum0.53_minSize4_merge_ME_0.9_20151   |\n",
       "| L5_IT      |  2.095423e-38 |  9.182703e-36 | turquoise     | Bicor-None_signum0.53_minSize4_merge_ME_0.9_20151   |\n",
       "| Lamp5      |  1.262213e-32 |  4.169363e-30 | red           | Bicor-None_signum0.465_minSize5_merge_ME_0.9_20151  |\n",
       "| L6_CT      |  1.103165e-30 |  3.326398e-28 | thistle2      | Bicor-None_signum0.53_minSize10_merge_ME_0.9_20151  |\n",
       "| Peri       |  2.185250e-29 |  6.138686e-27 | orange        | Bicor-None_signum0.842_minSize4_merge_ME_0.9_20151  |\n",
       "| Sst        |  8.109526e-29 |  2.149482e-26 | magenta       | Bicor-None_signum0.465_minSize5_merge_ME_0.9_20151  |\n",
       "| L6_IT      |  5.301249e-23 |  1.181262e-20 | orange        | Bicor-None_signum0.629_minSize10_merge_ME_0.9_20151 |\n",
       "| Pvalb      |  1.314124e-22 |  2.908507e-20 | blue          | Bicor-None_signum0.928_minSize8_merge_ME_0.9_20151  |\n",
       "| Serpinf1   |  9.008205e-17 |  1.491550e-14 | salmon        | Bicor-None_signum0.465_minSize5_merge_ME_0.9_20151  |\n",
       "| L5_PT      |  1.056787e-13 |  1.417690e-11 | paleturquoise | Bicor-None_signum0.842_minSize4_merge_ME_0.9_20151  |\n",
       "| L2_3_IT    |  4.214387e-11 |  4.751775e-09 | orangered3    | Bicor-None_signum0.53_minSize10_merge_ME_0.9_20151  |\n",
       "| L6b        |  5.651462e-09 |  5.081986e-07 | purple2       | Bicor-None_signum0.465_minSize5_merge_ME_0.9_20151  |\n",
       "| Sncg       |  6.131696e-06 |  3.795300e-04 | magenta       | Bicor-None_signum0.465_minSize8_merge_ME_0.9_20151  |\n",
       "\n"
      ],
      "text/plain": [
       "   Cell_type  Pval          Qval          Module       \n",
       "1  Macrophage 2.937780e-244 1.931120e-239 green        \n",
       "2  Endo       6.215654e-215 4.085798e-211 pink         \n",
       "3  Astro      4.910968e-208 1.793431e-204 yellow       \n",
       "4  Oligo      2.543546e-175 2.933289e-172 lightgreen   \n",
       "5  SMC        1.814868e-131 1.472821e-128 yellow       \n",
       "6  VLMC       4.718012e-111 3.264567e-108 orange       \n",
       "7  NP          4.158145e-41  1.898136e-38 cyan         \n",
       "8  Vip         6.406931e-39  2.845630e-36 green        \n",
       "9  L5_IT       2.095423e-38  9.182703e-36 turquoise    \n",
       "10 Lamp5       1.262213e-32  4.169363e-30 red          \n",
       "11 L6_CT       1.103165e-30  3.326398e-28 thistle2     \n",
       "12 Peri        2.185250e-29  6.138686e-27 orange       \n",
       "13 Sst         8.109526e-29  2.149482e-26 magenta      \n",
       "14 L6_IT       5.301249e-23  1.181262e-20 orange       \n",
       "15 Pvalb       1.314124e-22  2.908507e-20 blue         \n",
       "16 Serpinf1    9.008205e-17  1.491550e-14 salmon       \n",
       "17 L5_PT       1.056787e-13  1.417690e-11 paleturquoise\n",
       "18 L2_3_IT     4.214387e-11  4.751775e-09 orangered3   \n",
       "19 L6b         5.651462e-09  5.081986e-07 purple2      \n",
       "20 Sncg        6.131696e-06  3.795300e-04 magenta      \n",
       "   Network                                            \n",
       "1  Bicor-None_signum0.928_minSize5_merge_ME_0.9_20151 \n",
       "2  Bicor-None_signum0.842_minSize4_merge_ME_0.9_20151 \n",
       "3  Bicor-None_signum0.465_minSize5_merge_ME_0.9_20151 \n",
       "4  Bicor-None_signum0.842_minSize6_merge_ME_0.9_20151 \n",
       "5  Bicor-None_signum0.928_minSize5_merge_ME_0.9_20151 \n",
       "6  Bicor-None_signum0.629_minSize8_merge_ME_0.9_20151 \n",
       "7  Bicor-None_signum0.842_minSize3_merge_ME_0.9_20151 \n",
       "8  Bicor-None_signum0.53_minSize4_merge_ME_0.9_20151  \n",
       "9  Bicor-None_signum0.53_minSize4_merge_ME_0.9_20151  \n",
       "10 Bicor-None_signum0.465_minSize5_merge_ME_0.9_20151 \n",
       "11 Bicor-None_signum0.53_minSize10_merge_ME_0.9_20151 \n",
       "12 Bicor-None_signum0.842_minSize4_merge_ME_0.9_20151 \n",
       "13 Bicor-None_signum0.465_minSize5_merge_ME_0.9_20151 \n",
       "14 Bicor-None_signum0.629_minSize10_merge_ME_0.9_20151\n",
       "15 Bicor-None_signum0.928_minSize8_merge_ME_0.9_20151 \n",
       "16 Bicor-None_signum0.465_minSize5_merge_ME_0.9_20151 \n",
       "17 Bicor-None_signum0.842_minSize4_merge_ME_0.9_20151 \n",
       "18 Bicor-None_signum0.53_minSize10_merge_ME_0.9_20151 \n",
       "19 Bicor-None_signum0.465_minSize5_merge_ME_0.9_20151 \n",
       "20 Bicor-None_signum0.465_minSize8_merge_ME_0.9_20151 "
      ]
     },
     "metadata": {},
     "output_type": "display_data"
    }
   ],
   "source": [
    "mean_top_mods_df[,c(\"Cell_type\", \"Pval\", \"Qval\", \"Module\", \"Network\")]"
   ]
  },
  {
   "cell_type": "markdown",
   "id": "ef3a3af6",
   "metadata": {},
   "source": [
    "### Compare enrichment results"
   ]
  },
  {
   "cell_type": "code",
   "execution_count": null,
   "id": "d4cdd2ff",
   "metadata": {
    "vscode": {
     "languageId": "r"
    }
   },
   "outputs": [],
   "source": [
    "pooled_top_mods_df$Network_short <- gsub(\"Bicor-None_\", \"\", gsub(\"_merge_ME_0.9_20151\", \"\", pooled_top_mods_df$Network))\n",
    "pairwise_top_mods_df$Network_short <- gsub(\"Bicor-None_\", \"\", gsub(\"_merge_ME_0.9_20151\", \"\", pairwise_top_mods_df$Network))\n",
    "mean_top_mods_df$Network_short <- gsub(\"Bicor-None_\", \"\", gsub(\"_merge_ME_0.9_20151\", \"\", mean_top_mods_df$Network))\n",
    "\n",
    "cols <- c(\"Cell_type\", \"Qval\", \"Module\", \"Network_short\")\n",
    "\n",
    "all_top_mods_df <- merge(\n",
    "    merge(\n",
    "        pooled_top_mods_df[,cols], \n",
    "        pairwise_top_mods_df[,cols], \n",
    "        by=\"Cell_type\", all=TRUE\n",
    "    ), \n",
    "    mean_top_mods_df[,cols], by=\"Cell_type\", all=TRUE\n",
    ")"
   ]
  },
  {
   "cell_type": "code",
   "execution_count": null,
   "id": "6a9404c7",
   "metadata": {
    "vscode": {
     "languageId": "r"
    }
   },
   "outputs": [
    {
     "data": {
      "text/html": [
       "<table class=\"dataframe\">\n",
       "<caption>A data.frame: 21 × 10</caption>\n",
       "<thead>\n",
       "\t<tr><th scope=col>Cell_type</th><th scope=col>Module</th><th scope=col>Module.x</th><th scope=col>Module.y</th><th scope=col>Network_short</th><th scope=col>Network_short.x</th><th scope=col>Network_short.y</th><th scope=col>Qval</th><th scope=col>Qval.x</th><th scope=col>Qval.y</th></tr>\n",
       "\t<tr><th scope=col>&lt;chr&gt;</th><th scope=col>&lt;chr&gt;</th><th scope=col>&lt;chr&gt;</th><th scope=col>&lt;chr&gt;</th><th scope=col>&lt;chr&gt;</th><th scope=col>&lt;chr&gt;</th><th scope=col>&lt;chr&gt;</th><th scope=col>&lt;dbl&gt;</th><th scope=col>&lt;dbl&gt;</th><th scope=col>&lt;dbl&gt;</th></tr>\n",
       "</thead>\n",
       "<tbody>\n",
       "\t<tr><td>Astro     </td><td>yellow       </td><td>yellow       </td><td>yellow       </td><td>signum0.465_minSize5 </td><td>signum0.629_minSize4 </td><td>signum0.842_minSize3 </td><td>1.793431e-204</td><td>1.144780e-169</td><td>9.165570e-296</td></tr>\n",
       "\t<tr><td>Endo      </td><td>pink         </td><td>pink         </td><td>pink         </td><td>signum0.842_minSize4 </td><td>signum0.842_minSize4 </td><td>signum0.465_minSize10</td><td>4.085798e-211</td><td>1.688376e-179</td><td> 0.000000e+00</td></tr>\n",
       "\t<tr><td>L2_3_IT   </td><td>orangered3   </td><td>orangered3   </td><td>mediumpurple2</td><td>signum0.53_minSize10 </td><td>signum0.53_minSize10 </td><td>signum0.465_minSize5 </td><td> 4.751775e-09</td><td> 4.835030e-13</td><td> 9.758999e-06</td></tr>\n",
       "\t<tr><td>L5_IT     </td><td>turquoise    </td><td>turquoise    </td><td>turquoise    </td><td>signum0.53_minSize4  </td><td>signum0.629_minSize10</td><td>signum0.629_minSize4 </td><td> 9.182703e-36</td><td> 6.917617e-13</td><td> 3.433212e-12</td></tr>\n",
       "\t<tr><td>L5_PT     </td><td>paleturquoise</td><td>salmon4      </td><td>salmon4      </td><td>signum0.842_minSize4 </td><td>signum0.629_minSize4 </td><td>signum0.629_minSize4 </td><td> 1.417690e-11</td><td> 5.328785e-10</td><td> 8.204811e-03</td></tr>\n",
       "\t<tr><td>L6_CT     </td><td>thistle2     </td><td>thistle2     </td><td>thistle2     </td><td>signum0.53_minSize10 </td><td>signum0.53_minSize10 </td><td>signum0.53_minSize10 </td><td> 3.326398e-28</td><td> 3.175082e-24</td><td> 4.034197e-06</td></tr>\n",
       "\t<tr><td>L6_IT     </td><td>orange       </td><td>darkorange2  </td><td>darkorange2  </td><td>signum0.629_minSize10</td><td>signum0.842_minSize3 </td><td>signum0.842_minSize3 </td><td> 1.181262e-20</td><td> 3.840624e-08</td><td> 1.250952e-15</td></tr>\n",
       "\t<tr><td>L6b       </td><td>purple2      </td><td>purple2      </td><td>NA           </td><td>signum0.465_minSize5 </td><td>signum0.465_minSize5 </td><td>NA                   </td><td> 5.081986e-07</td><td> 4.643165e-07</td><td>           NA</td></tr>\n",
       "\t<tr><td>Lamp5     </td><td>red          </td><td>pink         </td><td>red          </td><td>signum0.465_minSize5 </td><td>signum0.53_minSize4  </td><td>signum0.842_minSize5 </td><td> 4.169363e-30</td><td> 2.324185e-28</td><td> 1.890532e-27</td></tr>\n",
       "\t<tr><td>Macrophage</td><td>green        </td><td>black        </td><td>magenta      </td><td>signum0.928_minSize5 </td><td>signum0.928_minSize4 </td><td>signum0.53_minSize10 </td><td>1.931120e-239</td><td>5.641373e-181</td><td> 0.000000e+00</td></tr>\n",
       "\t<tr><td>Meis2     </td><td>NA           </td><td>antiquewhite4</td><td>NA           </td><td>NA                   </td><td>signum0.629_minSize8 </td><td>NA                   </td><td>           NA</td><td> 6.540073e-03</td><td>           NA</td></tr>\n",
       "\t<tr><td>NP        </td><td>cyan         </td><td>cyan         </td><td>midnightblue </td><td>signum0.842_minSize3 </td><td>signum0.842_minSize3 </td><td>signum0.53_minSize4  </td><td> 1.898136e-38</td><td> 4.330225e-35</td><td> 4.624496e-17</td></tr>\n",
       "\t<tr><td>Oligo     </td><td>lightgreen   </td><td>darkturquoise</td><td>darkturquoise</td><td>signum0.842_minSize6 </td><td>signum0.928_minSize3 </td><td>signum0.928_minSize3 </td><td>2.933289e-172</td><td>4.045529e-143</td><td>1.868184e-185</td></tr>\n",
       "\t<tr><td>Peri      </td><td>orange       </td><td>blue         </td><td>aquamarine1  </td><td>signum0.842_minSize4 </td><td>signum0.968_minSize3 </td><td>signum0.629_minSize4 </td><td> 6.138686e-27</td><td> 1.957768e-26</td><td> 2.621782e-06</td></tr>\n",
       "\t<tr><td>Pvalb     </td><td>blue         </td><td>darkred      </td><td>brown        </td><td>signum0.928_minSize8 </td><td>signum0.629_minSize4 </td><td>signum0.53_minSize8  </td><td> 2.908507e-20</td><td> 5.320835e-09</td><td> 3.158414e-35</td></tr>\n",
       "\t<tr><td>Serpinf1  </td><td>salmon       </td><td>salmon       </td><td>NA           </td><td>signum0.465_minSize5 </td><td>signum0.465_minSize5 </td><td>NA                   </td><td> 1.491550e-14</td><td> 1.494284e-05</td><td>           NA</td></tr>\n",
       "\t<tr><td>SMC       </td><td>yellow       </td><td>yellow       </td><td>royalblue    </td><td>signum0.928_minSize5 </td><td>signum0.928_minSize5 </td><td>signum0.629_minSize10</td><td>1.472821e-128</td><td>3.402112e-108</td><td> 4.394695e-84</td></tr>\n",
       "\t<tr><td>Sncg      </td><td>magenta      </td><td>lightcyan    </td><td>lightcyan    </td><td>signum0.465_minSize8 </td><td>signum0.629_minSize6 </td><td>signum0.629_minSize6 </td><td> 3.795300e-04</td><td> 1.443991e-05</td><td> 1.566068e-02</td></tr>\n",
       "\t<tr><td>Sst       </td><td>magenta      </td><td>red          </td><td>green        </td><td>signum0.465_minSize5 </td><td>signum0.928_minSize6 </td><td>signum0.928_minSize3 </td><td> 2.149482e-26</td><td> 4.186829e-18</td><td> 2.176775e-28</td></tr>\n",
       "\t<tr><td>Vip       </td><td>green        </td><td>green        </td><td>green        </td><td>signum0.53_minSize4  </td><td>signum0.53_minSize4  </td><td>signum0.465_minSize5 </td><td> 2.845630e-36</td><td> 2.972556e-36</td><td> 5.210519e-22</td></tr>\n",
       "\t<tr><td>VLMC      </td><td>orange       </td><td>royalblue    </td><td>orange       </td><td>signum0.629_minSize8 </td><td>signum0.629_minSize6 </td><td>signum0.629_minSize8 </td><td>3.264567e-108</td><td> 4.235407e-95</td><td>1.779284e-141</td></tr>\n",
       "</tbody>\n",
       "</table>\n"
      ],
      "text/latex": [
       "A data.frame: 21 × 10\n",
       "\\begin{tabular}{llllllllll}\n",
       " Cell\\_type & Module & Module.x & Module.y & Network\\_short & Network\\_short.x & Network\\_short.y & Qval & Qval.x & Qval.y\\\\\n",
       " <chr> & <chr> & <chr> & <chr> & <chr> & <chr> & <chr> & <dbl> & <dbl> & <dbl>\\\\\n",
       "\\hline\n",
       "\t Astro      & yellow        & yellow        & yellow        & signum0.465\\_minSize5  & signum0.629\\_minSize4  & signum0.842\\_minSize3  & 1.793431e-204 & 1.144780e-169 & 9.165570e-296\\\\\n",
       "\t Endo       & pink          & pink          & pink          & signum0.842\\_minSize4  & signum0.842\\_minSize4  & signum0.465\\_minSize10 & 4.085798e-211 & 1.688376e-179 &  0.000000e+00\\\\\n",
       "\t L2\\_3\\_IT    & orangered3    & orangered3    & mediumpurple2 & signum0.53\\_minSize10  & signum0.53\\_minSize10  & signum0.465\\_minSize5  &  4.751775e-09 &  4.835030e-13 &  9.758999e-06\\\\\n",
       "\t L5\\_IT      & turquoise     & turquoise     & turquoise     & signum0.53\\_minSize4   & signum0.629\\_minSize10 & signum0.629\\_minSize4  &  9.182703e-36 &  6.917617e-13 &  3.433212e-12\\\\\n",
       "\t L5\\_PT      & paleturquoise & salmon4       & salmon4       & signum0.842\\_minSize4  & signum0.629\\_minSize4  & signum0.629\\_minSize4  &  1.417690e-11 &  5.328785e-10 &  8.204811e-03\\\\\n",
       "\t L6\\_CT      & thistle2      & thistle2      & thistle2      & signum0.53\\_minSize10  & signum0.53\\_minSize10  & signum0.53\\_minSize10  &  3.326398e-28 &  3.175082e-24 &  4.034197e-06\\\\\n",
       "\t L6\\_IT      & orange        & darkorange2   & darkorange2   & signum0.629\\_minSize10 & signum0.842\\_minSize3  & signum0.842\\_minSize3  &  1.181262e-20 &  3.840624e-08 &  1.250952e-15\\\\\n",
       "\t L6b        & purple2       & purple2       & NA            & signum0.465\\_minSize5  & signum0.465\\_minSize5  & NA                    &  5.081986e-07 &  4.643165e-07 &            NA\\\\\n",
       "\t Lamp5      & red           & pink          & red           & signum0.465\\_minSize5  & signum0.53\\_minSize4   & signum0.842\\_minSize5  &  4.169363e-30 &  2.324185e-28 &  1.890532e-27\\\\\n",
       "\t Macrophage & green         & black         & magenta       & signum0.928\\_minSize5  & signum0.928\\_minSize4  & signum0.53\\_minSize10  & 1.931120e-239 & 5.641373e-181 &  0.000000e+00\\\\\n",
       "\t Meis2      & NA            & antiquewhite4 & NA            & NA                    & signum0.629\\_minSize8  & NA                    &            NA &  6.540073e-03 &            NA\\\\\n",
       "\t NP         & cyan          & cyan          & midnightblue  & signum0.842\\_minSize3  & signum0.842\\_minSize3  & signum0.53\\_minSize4   &  1.898136e-38 &  4.330225e-35 &  4.624496e-17\\\\\n",
       "\t Oligo      & lightgreen    & darkturquoise & darkturquoise & signum0.842\\_minSize6  & signum0.928\\_minSize3  & signum0.928\\_minSize3  & 2.933289e-172 & 4.045529e-143 & 1.868184e-185\\\\\n",
       "\t Peri       & orange        & blue          & aquamarine1   & signum0.842\\_minSize4  & signum0.968\\_minSize3  & signum0.629\\_minSize4  &  6.138686e-27 &  1.957768e-26 &  2.621782e-06\\\\\n",
       "\t Pvalb      & blue          & darkred       & brown         & signum0.928\\_minSize8  & signum0.629\\_minSize4  & signum0.53\\_minSize8   &  2.908507e-20 &  5.320835e-09 &  3.158414e-35\\\\\n",
       "\t Serpinf1   & salmon        & salmon        & NA            & signum0.465\\_minSize5  & signum0.465\\_minSize5  & NA                    &  1.491550e-14 &  1.494284e-05 &            NA\\\\\n",
       "\t SMC        & yellow        & yellow        & royalblue     & signum0.928\\_minSize5  & signum0.928\\_minSize5  & signum0.629\\_minSize10 & 1.472821e-128 & 3.402112e-108 &  4.394695e-84\\\\\n",
       "\t Sncg       & magenta       & lightcyan     & lightcyan     & signum0.465\\_minSize8  & signum0.629\\_minSize6  & signum0.629\\_minSize6  &  3.795300e-04 &  1.443991e-05 &  1.566068e-02\\\\\n",
       "\t Sst        & magenta       & red           & green         & signum0.465\\_minSize5  & signum0.928\\_minSize6  & signum0.928\\_minSize3  &  2.149482e-26 &  4.186829e-18 &  2.176775e-28\\\\\n",
       "\t Vip        & green         & green         & green         & signum0.53\\_minSize4   & signum0.53\\_minSize4   & signum0.465\\_minSize5  &  2.845630e-36 &  2.972556e-36 &  5.210519e-22\\\\\n",
       "\t VLMC       & orange        & royalblue     & orange        & signum0.629\\_minSize8  & signum0.629\\_minSize6  & signum0.629\\_minSize8  & 3.264567e-108 &  4.235407e-95 & 1.779284e-141\\\\\n",
       "\\end{tabular}\n"
      ],
      "text/markdown": [
       "\n",
       "A data.frame: 21 × 10\n",
       "\n",
       "| Cell_type &lt;chr&gt; | Module &lt;chr&gt; | Module.x &lt;chr&gt; | Module.y &lt;chr&gt; | Network_short &lt;chr&gt; | Network_short.x &lt;chr&gt; | Network_short.y &lt;chr&gt; | Qval &lt;dbl&gt; | Qval.x &lt;dbl&gt; | Qval.y &lt;dbl&gt; |\n",
       "|---|---|---|---|---|---|---|---|---|---|\n",
       "| Astro      | yellow        | yellow        | yellow        | signum0.465_minSize5  | signum0.629_minSize4  | signum0.842_minSize3  | 1.793431e-204 | 1.144780e-169 | 9.165570e-296 |\n",
       "| Endo       | pink          | pink          | pink          | signum0.842_minSize4  | signum0.842_minSize4  | signum0.465_minSize10 | 4.085798e-211 | 1.688376e-179 |  0.000000e+00 |\n",
       "| L2_3_IT    | orangered3    | orangered3    | mediumpurple2 | signum0.53_minSize10  | signum0.53_minSize10  | signum0.465_minSize5  |  4.751775e-09 |  4.835030e-13 |  9.758999e-06 |\n",
       "| L5_IT      | turquoise     | turquoise     | turquoise     | signum0.53_minSize4   | signum0.629_minSize10 | signum0.629_minSize4  |  9.182703e-36 |  6.917617e-13 |  3.433212e-12 |\n",
       "| L5_PT      | paleturquoise | salmon4       | salmon4       | signum0.842_minSize4  | signum0.629_minSize4  | signum0.629_minSize4  |  1.417690e-11 |  5.328785e-10 |  8.204811e-03 |\n",
       "| L6_CT      | thistle2      | thistle2      | thistle2      | signum0.53_minSize10  | signum0.53_minSize10  | signum0.53_minSize10  |  3.326398e-28 |  3.175082e-24 |  4.034197e-06 |\n",
       "| L6_IT      | orange        | darkorange2   | darkorange2   | signum0.629_minSize10 | signum0.842_minSize3  | signum0.842_minSize3  |  1.181262e-20 |  3.840624e-08 |  1.250952e-15 |\n",
       "| L6b        | purple2       | purple2       | NA            | signum0.465_minSize5  | signum0.465_minSize5  | NA                    |  5.081986e-07 |  4.643165e-07 |            NA |\n",
       "| Lamp5      | red           | pink          | red           | signum0.465_minSize5  | signum0.53_minSize4   | signum0.842_minSize5  |  4.169363e-30 |  2.324185e-28 |  1.890532e-27 |\n",
       "| Macrophage | green         | black         | magenta       | signum0.928_minSize5  | signum0.928_minSize4  | signum0.53_minSize10  | 1.931120e-239 | 5.641373e-181 |  0.000000e+00 |\n",
       "| Meis2      | NA            | antiquewhite4 | NA            | NA                    | signum0.629_minSize8  | NA                    |            NA |  6.540073e-03 |            NA |\n",
       "| NP         | cyan          | cyan          | midnightblue  | signum0.842_minSize3  | signum0.842_minSize3  | signum0.53_minSize4   |  1.898136e-38 |  4.330225e-35 |  4.624496e-17 |\n",
       "| Oligo      | lightgreen    | darkturquoise | darkturquoise | signum0.842_minSize6  | signum0.928_minSize3  | signum0.928_minSize3  | 2.933289e-172 | 4.045529e-143 | 1.868184e-185 |\n",
       "| Peri       | orange        | blue          | aquamarine1   | signum0.842_minSize4  | signum0.968_minSize3  | signum0.629_minSize4  |  6.138686e-27 |  1.957768e-26 |  2.621782e-06 |\n",
       "| Pvalb      | blue          | darkred       | brown         | signum0.928_minSize8  | signum0.629_minSize4  | signum0.53_minSize8   |  2.908507e-20 |  5.320835e-09 |  3.158414e-35 |\n",
       "| Serpinf1   | salmon        | salmon        | NA            | signum0.465_minSize5  | signum0.465_minSize5  | NA                    |  1.491550e-14 |  1.494284e-05 |            NA |\n",
       "| SMC        | yellow        | yellow        | royalblue     | signum0.928_minSize5  | signum0.928_minSize5  | signum0.629_minSize10 | 1.472821e-128 | 3.402112e-108 |  4.394695e-84 |\n",
       "| Sncg       | magenta       | lightcyan     | lightcyan     | signum0.465_minSize8  | signum0.629_minSize6  | signum0.629_minSize6  |  3.795300e-04 |  1.443991e-05 |  1.566068e-02 |\n",
       "| Sst        | magenta       | red           | green         | signum0.465_minSize5  | signum0.928_minSize6  | signum0.928_minSize3  |  2.149482e-26 |  4.186829e-18 |  2.176775e-28 |\n",
       "| Vip        | green         | green         | green         | signum0.53_minSize4   | signum0.53_minSize4   | signum0.465_minSize5  |  2.845630e-36 |  2.972556e-36 |  5.210519e-22 |\n",
       "| VLMC       | orange        | royalblue     | orange        | signum0.629_minSize8  | signum0.629_minSize6  | signum0.629_minSize8  | 3.264567e-108 |  4.235407e-95 | 1.779284e-141 |\n",
       "\n"
      ],
      "text/plain": [
       "   Cell_type  Module        Module.x      Module.y      Network_short        \n",
       "1  Astro      yellow        yellow        yellow        signum0.465_minSize5 \n",
       "2  Endo       pink          pink          pink          signum0.842_minSize4 \n",
       "3  L2_3_IT    orangered3    orangered3    mediumpurple2 signum0.53_minSize10 \n",
       "4  L5_IT      turquoise     turquoise     turquoise     signum0.53_minSize4  \n",
       "5  L5_PT      paleturquoise salmon4       salmon4       signum0.842_minSize4 \n",
       "6  L6_CT      thistle2      thistle2      thistle2      signum0.53_minSize10 \n",
       "7  L6_IT      orange        darkorange2   darkorange2   signum0.629_minSize10\n",
       "8  L6b        purple2       purple2       NA            signum0.465_minSize5 \n",
       "9  Lamp5      red           pink          red           signum0.465_minSize5 \n",
       "10 Macrophage green         black         magenta       signum0.928_minSize5 \n",
       "11 Meis2      NA            antiquewhite4 NA            NA                   \n",
       "12 NP         cyan          cyan          midnightblue  signum0.842_minSize3 \n",
       "13 Oligo      lightgreen    darkturquoise darkturquoise signum0.842_minSize6 \n",
       "14 Peri       orange        blue          aquamarine1   signum0.842_minSize4 \n",
       "15 Pvalb      blue          darkred       brown         signum0.928_minSize8 \n",
       "16 Serpinf1   salmon        salmon        NA            signum0.465_minSize5 \n",
       "17 SMC        yellow        yellow        royalblue     signum0.928_minSize5 \n",
       "18 Sncg       magenta       lightcyan     lightcyan     signum0.465_minSize8 \n",
       "19 Sst        magenta       red           green         signum0.465_minSize5 \n",
       "20 Vip        green         green         green         signum0.53_minSize4  \n",
       "21 VLMC       orange        royalblue     orange        signum0.629_minSize8 \n",
       "   Network_short.x       Network_short.y       Qval          Qval.x       \n",
       "1  signum0.629_minSize4  signum0.842_minSize3  1.793431e-204 1.144780e-169\n",
       "2  signum0.842_minSize4  signum0.465_minSize10 4.085798e-211 1.688376e-179\n",
       "3  signum0.53_minSize10  signum0.465_minSize5   4.751775e-09  4.835030e-13\n",
       "4  signum0.629_minSize10 signum0.629_minSize4   9.182703e-36  6.917617e-13\n",
       "5  signum0.629_minSize4  signum0.629_minSize4   1.417690e-11  5.328785e-10\n",
       "6  signum0.53_minSize10  signum0.53_minSize10   3.326398e-28  3.175082e-24\n",
       "7  signum0.842_minSize3  signum0.842_minSize3   1.181262e-20  3.840624e-08\n",
       "8  signum0.465_minSize5  NA                     5.081986e-07  4.643165e-07\n",
       "9  signum0.53_minSize4   signum0.842_minSize5   4.169363e-30  2.324185e-28\n",
       "10 signum0.928_minSize4  signum0.53_minSize10  1.931120e-239 5.641373e-181\n",
       "11 signum0.629_minSize8  NA                               NA  6.540073e-03\n",
       "12 signum0.842_minSize3  signum0.53_minSize4    1.898136e-38  4.330225e-35\n",
       "13 signum0.928_minSize3  signum0.928_minSize3  2.933289e-172 4.045529e-143\n",
       "14 signum0.968_minSize3  signum0.629_minSize4   6.138686e-27  1.957768e-26\n",
       "15 signum0.629_minSize4  signum0.53_minSize8    2.908507e-20  5.320835e-09\n",
       "16 signum0.465_minSize5  NA                     1.491550e-14  1.494284e-05\n",
       "17 signum0.928_minSize5  signum0.629_minSize10 1.472821e-128 3.402112e-108\n",
       "18 signum0.629_minSize6  signum0.629_minSize6   3.795300e-04  1.443991e-05\n",
       "19 signum0.928_minSize6  signum0.928_minSize3   2.149482e-26  4.186829e-18\n",
       "20 signum0.53_minSize4   signum0.465_minSize5   2.845630e-36  2.972556e-36\n",
       "21 signum0.629_minSize6  signum0.629_minSize8  3.264567e-108  4.235407e-95\n",
       "   Qval.y       \n",
       "1  9.165570e-296\n",
       "2   0.000000e+00\n",
       "3   9.758999e-06\n",
       "4   3.433212e-12\n",
       "5   8.204811e-03\n",
       "6   4.034197e-06\n",
       "7   1.250952e-15\n",
       "8             NA\n",
       "9   1.890532e-27\n",
       "10  0.000000e+00\n",
       "11            NA\n",
       "12  4.624496e-17\n",
       "13 1.868184e-185\n",
       "14  2.621782e-06\n",
       "15  3.158414e-35\n",
       "16            NA\n",
       "17  4.394695e-84\n",
       "18  1.566068e-02\n",
       "19  2.176775e-28\n",
       "20  5.210519e-22\n",
       "21 1.779284e-141"
      ]
     },
     "metadata": {},
     "output_type": "display_data"
    }
   ],
   "source": [
    "all_top_mods_df <- all_top_mods_df[,order(colnames(all_top_mods_df))]\n",
    "all_top_mods_df"
   ]
  },
  {
   "cell_type": "markdown",
   "id": "92968296",
   "metadata": {},
   "source": [
    "### Select the module from the lowest Qval per cell type"
   ]
  },
  {
   "cell_type": "code",
   "execution_count": null,
   "id": "7c46bf68",
   "metadata": {
    "vscode": {
     "languageId": "r"
    }
   },
   "outputs": [],
   "source": [
    "# Select the module from the lowest Qval per cell type\n",
    "\n",
    "pooled_top_mods_df$DE_Test <- \"Pooled\"\n",
    "pairwise_top_mods_df$DE_Test <- \"Pairwise\"\n",
    "mean_top_mods_df$DE_Test <- \"Mean\"\n",
    "\n",
    "all_top_mods_df <- rbind(pooled_top_mods_df, pairwise_top_mods_df, mean_top_mods_df)"
   ]
  },
  {
   "cell_type": "code",
   "execution_count": null,
   "id": "0aef2a07",
   "metadata": {
    "vscode": {
     "languageId": "r"
    }
   },
   "outputs": [
    {
     "data": {
      "text/html": [
       "<style>\n",
       ".list-inline {list-style: none; margin:0; padding: 0}\n",
       ".list-inline>li {display: inline-block}\n",
       ".list-inline>li:not(:last-child)::after {content: \"\\00b7\"; padding: 0 .5ex}\n",
       "</style>\n",
       "<ol class=list-inline><li>'Network'</li><li>'kME_path'</li><li>'ME_path'</li><li>'Pval'</li><li>'Cell_type'</li><li>'Module'</li><li>'Qval'</li><li>'Network_short'</li><li>'DE_Test'</li></ol>\n"
      ],
      "text/latex": [
       "\\begin{enumerate*}\n",
       "\\item 'Network'\n",
       "\\item 'kME\\_path'\n",
       "\\item 'ME\\_path'\n",
       "\\item 'Pval'\n",
       "\\item 'Cell\\_type'\n",
       "\\item 'Module'\n",
       "\\item 'Qval'\n",
       "\\item 'Network\\_short'\n",
       "\\item 'DE\\_Test'\n",
       "\\end{enumerate*}\n"
      ],
      "text/markdown": [
       "1. 'Network'\n",
       "2. 'kME_path'\n",
       "3. 'ME_path'\n",
       "4. 'Pval'\n",
       "5. 'Cell_type'\n",
       "6. 'Module'\n",
       "7. 'Qval'\n",
       "8. 'Network_short'\n",
       "9. 'DE_Test'\n",
       "\n",
       "\n"
      ],
      "text/plain": [
       "[1] \"Network\"       \"kME_path\"      \"ME_path\"       \"Pval\"         \n",
       "[5] \"Cell_type\"     \"Module\"        \"Qval\"          \"Network_short\"\n",
       "[9] \"DE_Test\"      "
      ]
     },
     "metadata": {},
     "output_type": "display_data"
    }
   ],
   "source": [
    "colnames(all_top_mods_df)"
   ]
  },
  {
   "cell_type": "code",
   "execution_count": null,
   "id": "a74dab3b",
   "metadata": {
    "vscode": {
     "languageId": "r"
    }
   },
   "outputs": [
    {
     "data": {
      "text/html": [
       "<table class=\"dataframe\">\n",
       "<caption>A grouped_df: 21 × 5</caption>\n",
       "<thead>\n",
       "\t<tr><th scope=col>Cell_type</th><th scope=col>Qval</th><th scope=col>Module</th><th scope=col>Network_short</th><th scope=col>DE_Test</th></tr>\n",
       "\t<tr><th scope=col>&lt;chr&gt;</th><th scope=col>&lt;dbl&gt;</th><th scope=col>&lt;chr&gt;</th><th scope=col>&lt;chr&gt;</th><th scope=col>&lt;chr&gt;</th></tr>\n",
       "</thead>\n",
       "<tbody>\n",
       "\t<tr><td>Astro     </td><td>9.165570e-296</td><td>yellow       </td><td>signum0.842_minSize3 </td><td>Pairwise</td></tr>\n",
       "\t<tr><td>Endo      </td><td> 0.000000e+00</td><td>pink         </td><td>signum0.465_minSize10</td><td>Pairwise</td></tr>\n",
       "\t<tr><td>L2_3_IT   </td><td> 4.835030e-13</td><td>orangered3   </td><td>signum0.53_minSize10 </td><td>Pooled  </td></tr>\n",
       "\t<tr><td>L5_IT     </td><td> 9.182703e-36</td><td>turquoise    </td><td>signum0.53_minSize4  </td><td>Mean    </td></tr>\n",
       "\t<tr><td>L5_PT     </td><td> 1.417690e-11</td><td>paleturquoise</td><td>signum0.842_minSize4 </td><td>Mean    </td></tr>\n",
       "\t<tr><td>L6_CT     </td><td> 3.326398e-28</td><td>thistle2     </td><td>signum0.53_minSize10 </td><td>Mean    </td></tr>\n",
       "\t<tr><td>L6_IT     </td><td> 1.181262e-20</td><td>orange       </td><td>signum0.629_minSize10</td><td>Mean    </td></tr>\n",
       "\t<tr><td>L6b       </td><td> 4.643165e-07</td><td>purple2      </td><td>signum0.465_minSize5 </td><td>Pooled  </td></tr>\n",
       "\t<tr><td>Lamp5     </td><td> 4.169363e-30</td><td>red          </td><td>signum0.465_minSize5 </td><td>Mean    </td></tr>\n",
       "\t<tr><td>Macrophage</td><td> 0.000000e+00</td><td>magenta      </td><td>signum0.53_minSize10 </td><td>Pairwise</td></tr>\n",
       "\t<tr><td>Meis2     </td><td> 6.540073e-03</td><td>antiquewhite4</td><td>signum0.629_minSize8 </td><td>Pooled  </td></tr>\n",
       "\t<tr><td>NP        </td><td> 1.898136e-38</td><td>cyan         </td><td>signum0.842_minSize3 </td><td>Mean    </td></tr>\n",
       "\t<tr><td>Oligo     </td><td>1.868184e-185</td><td>darkturquoise</td><td>signum0.928_minSize3 </td><td>Pairwise</td></tr>\n",
       "\t<tr><td>Peri      </td><td> 6.138686e-27</td><td>orange       </td><td>signum0.842_minSize4 </td><td>Mean    </td></tr>\n",
       "\t<tr><td>Pvalb     </td><td> 3.158414e-35</td><td>brown        </td><td>signum0.53_minSize8  </td><td>Pairwise</td></tr>\n",
       "\t<tr><td>SMC       </td><td>1.472821e-128</td><td>yellow       </td><td>signum0.928_minSize5 </td><td>Mean    </td></tr>\n",
       "\t<tr><td>Serpinf1  </td><td> 1.491550e-14</td><td>salmon       </td><td>signum0.465_minSize5 </td><td>Mean    </td></tr>\n",
       "\t<tr><td>Sncg      </td><td> 1.443991e-05</td><td>lightcyan    </td><td>signum0.629_minSize6 </td><td>Pooled  </td></tr>\n",
       "\t<tr><td>Sst       </td><td> 2.176775e-28</td><td>green        </td><td>signum0.928_minSize3 </td><td>Pairwise</td></tr>\n",
       "\t<tr><td>VLMC      </td><td>1.779284e-141</td><td>orange       </td><td>signum0.629_minSize8 </td><td>Pairwise</td></tr>\n",
       "\t<tr><td>Vip       </td><td> 2.845630e-36</td><td>green        </td><td>signum0.53_minSize4  </td><td>Mean    </td></tr>\n",
       "</tbody>\n",
       "</table>\n"
      ],
      "text/latex": [
       "A grouped\\_df: 21 × 5\n",
       "\\begin{tabular}{lllll}\n",
       " Cell\\_type & Qval & Module & Network\\_short & DE\\_Test\\\\\n",
       " <chr> & <dbl> & <chr> & <chr> & <chr>\\\\\n",
       "\\hline\n",
       "\t Astro      & 9.165570e-296 & yellow        & signum0.842\\_minSize3  & Pairwise\\\\\n",
       "\t Endo       &  0.000000e+00 & pink          & signum0.465\\_minSize10 & Pairwise\\\\\n",
       "\t L2\\_3\\_IT    &  4.835030e-13 & orangered3    & signum0.53\\_minSize10  & Pooled  \\\\\n",
       "\t L5\\_IT      &  9.182703e-36 & turquoise     & signum0.53\\_minSize4   & Mean    \\\\\n",
       "\t L5\\_PT      &  1.417690e-11 & paleturquoise & signum0.842\\_minSize4  & Mean    \\\\\n",
       "\t L6\\_CT      &  3.326398e-28 & thistle2      & signum0.53\\_minSize10  & Mean    \\\\\n",
       "\t L6\\_IT      &  1.181262e-20 & orange        & signum0.629\\_minSize10 & Mean    \\\\\n",
       "\t L6b        &  4.643165e-07 & purple2       & signum0.465\\_minSize5  & Pooled  \\\\\n",
       "\t Lamp5      &  4.169363e-30 & red           & signum0.465\\_minSize5  & Mean    \\\\\n",
       "\t Macrophage &  0.000000e+00 & magenta       & signum0.53\\_minSize10  & Pairwise\\\\\n",
       "\t Meis2      &  6.540073e-03 & antiquewhite4 & signum0.629\\_minSize8  & Pooled  \\\\\n",
       "\t NP         &  1.898136e-38 & cyan          & signum0.842\\_minSize3  & Mean    \\\\\n",
       "\t Oligo      & 1.868184e-185 & darkturquoise & signum0.928\\_minSize3  & Pairwise\\\\\n",
       "\t Peri       &  6.138686e-27 & orange        & signum0.842\\_minSize4  & Mean    \\\\\n",
       "\t Pvalb      &  3.158414e-35 & brown         & signum0.53\\_minSize8   & Pairwise\\\\\n",
       "\t SMC        & 1.472821e-128 & yellow        & signum0.928\\_minSize5  & Mean    \\\\\n",
       "\t Serpinf1   &  1.491550e-14 & salmon        & signum0.465\\_minSize5  & Mean    \\\\\n",
       "\t Sncg       &  1.443991e-05 & lightcyan     & signum0.629\\_minSize6  & Pooled  \\\\\n",
       "\t Sst        &  2.176775e-28 & green         & signum0.928\\_minSize3  & Pairwise\\\\\n",
       "\t VLMC       & 1.779284e-141 & orange        & signum0.629\\_minSize8  & Pairwise\\\\\n",
       "\t Vip        &  2.845630e-36 & green         & signum0.53\\_minSize4   & Mean    \\\\\n",
       "\\end{tabular}\n"
      ],
      "text/markdown": [
       "\n",
       "A grouped_df: 21 × 5\n",
       "\n",
       "| Cell_type &lt;chr&gt; | Qval &lt;dbl&gt; | Module &lt;chr&gt; | Network_short &lt;chr&gt; | DE_Test &lt;chr&gt; |\n",
       "|---|---|---|---|---|\n",
       "| Astro      | 9.165570e-296 | yellow        | signum0.842_minSize3  | Pairwise |\n",
       "| Endo       |  0.000000e+00 | pink          | signum0.465_minSize10 | Pairwise |\n",
       "| L2_3_IT    |  4.835030e-13 | orangered3    | signum0.53_minSize10  | Pooled   |\n",
       "| L5_IT      |  9.182703e-36 | turquoise     | signum0.53_minSize4   | Mean     |\n",
       "| L5_PT      |  1.417690e-11 | paleturquoise | signum0.842_minSize4  | Mean     |\n",
       "| L6_CT      |  3.326398e-28 | thistle2      | signum0.53_minSize10  | Mean     |\n",
       "| L6_IT      |  1.181262e-20 | orange        | signum0.629_minSize10 | Mean     |\n",
       "| L6b        |  4.643165e-07 | purple2       | signum0.465_minSize5  | Pooled   |\n",
       "| Lamp5      |  4.169363e-30 | red           | signum0.465_minSize5  | Mean     |\n",
       "| Macrophage |  0.000000e+00 | magenta       | signum0.53_minSize10  | Pairwise |\n",
       "| Meis2      |  6.540073e-03 | antiquewhite4 | signum0.629_minSize8  | Pooled   |\n",
       "| NP         |  1.898136e-38 | cyan          | signum0.842_minSize3  | Mean     |\n",
       "| Oligo      | 1.868184e-185 | darkturquoise | signum0.928_minSize3  | Pairwise |\n",
       "| Peri       |  6.138686e-27 | orange        | signum0.842_minSize4  | Mean     |\n",
       "| Pvalb      |  3.158414e-35 | brown         | signum0.53_minSize8   | Pairwise |\n",
       "| SMC        | 1.472821e-128 | yellow        | signum0.928_minSize5  | Mean     |\n",
       "| Serpinf1   |  1.491550e-14 | salmon        | signum0.465_minSize5  | Mean     |\n",
       "| Sncg       |  1.443991e-05 | lightcyan     | signum0.629_minSize6  | Pooled   |\n",
       "| Sst        |  2.176775e-28 | green         | signum0.928_minSize3  | Pairwise |\n",
       "| VLMC       | 1.779284e-141 | orange        | signum0.629_minSize8  | Pairwise |\n",
       "| Vip        |  2.845630e-36 | green         | signum0.53_minSize4   | Mean     |\n",
       "\n"
      ],
      "text/plain": [
       "   Cell_type  Qval          Module        Network_short         DE_Test \n",
       "1  Astro      9.165570e-296 yellow        signum0.842_minSize3  Pairwise\n",
       "2  Endo        0.000000e+00 pink          signum0.465_minSize10 Pairwise\n",
       "3  L2_3_IT     4.835030e-13 orangered3    signum0.53_minSize10  Pooled  \n",
       "4  L5_IT       9.182703e-36 turquoise     signum0.53_minSize4   Mean    \n",
       "5  L5_PT       1.417690e-11 paleturquoise signum0.842_minSize4  Mean    \n",
       "6  L6_CT       3.326398e-28 thistle2      signum0.53_minSize10  Mean    \n",
       "7  L6_IT       1.181262e-20 orange        signum0.629_minSize10 Mean    \n",
       "8  L6b         4.643165e-07 purple2       signum0.465_minSize5  Pooled  \n",
       "9  Lamp5       4.169363e-30 red           signum0.465_minSize5  Mean    \n",
       "10 Macrophage  0.000000e+00 magenta       signum0.53_minSize10  Pairwise\n",
       "11 Meis2       6.540073e-03 antiquewhite4 signum0.629_minSize8  Pooled  \n",
       "12 NP          1.898136e-38 cyan          signum0.842_minSize3  Mean    \n",
       "13 Oligo      1.868184e-185 darkturquoise signum0.928_minSize3  Pairwise\n",
       "14 Peri        6.138686e-27 orange        signum0.842_minSize4  Mean    \n",
       "15 Pvalb       3.158414e-35 brown         signum0.53_minSize8   Pairwise\n",
       "16 SMC        1.472821e-128 yellow        signum0.928_minSize5  Mean    \n",
       "17 Serpinf1    1.491550e-14 salmon        signum0.465_minSize5  Mean    \n",
       "18 Sncg        1.443991e-05 lightcyan     signum0.629_minSize6  Pooled  \n",
       "19 Sst         2.176775e-28 green         signum0.928_minSize3  Pairwise\n",
       "20 VLMC       1.779284e-141 orange        signum0.629_minSize8  Pairwise\n",
       "21 Vip         2.845630e-36 green         signum0.53_minSize4   Mean    "
      ]
     },
     "metadata": {},
     "output_type": "display_data"
    }
   ],
   "source": [
    "top_qval_mods_df <- all_top_mods_df %>%\n",
    "    group_by(Cell_type) %>%\n",
    "    slice_min(Qval)\n",
    "\n",
    "top_qval_mods_df[, c(cols, \"DE_Test\")]"
   ]
  },
  {
   "cell_type": "code",
   "execution_count": null,
   "id": "b46b3118",
   "metadata": {
    "vscode": {
     "languageId": "r"
    }
   },
   "outputs": [],
   "source": [
    "if (unique) {\n",
    "    write.csv(top_qval_mods_df, file=paste0(\"data/tasic_2018_ALM_STAR_donor_cell_type_pseudobulk_DE_genes_dream_unique_\", network_dataset, \"_\", mod_def, \"_top_Qval_modules.csv\"), row.names=FALSE, quote=FALSE)\n",
    "} else {\n",
    "    write.csv(top_qval_mods_df, file=paste0(\"data/tasic_2018_ALM_STAR_donor_cell_type_pseudobulk_DE_genes_dream_\", network_dataset, \"_\", mod_def, \"_top_Qval_modules.csv\"), row.names=FALSE, quote=FALSE)\n",
    "}\n"
   ]
  },
  {
   "cell_type": "code",
   "execution_count": null,
   "id": "236d7295",
   "metadata": {
    "vscode": {
     "languageId": "r"
    }
   },
   "outputs": [],
   "source": []
  }
 ],
 "metadata": {
  "kernelspec": {
   "display_name": "R",
   "language": "R",
   "name": "ir"
  },
  "language_info": {
   "codemirror_mode": "r",
   "file_extension": ".r",
   "mimetype": "text/x-r-source",
   "name": "R",
   "pygments_lexer": "r",
   "version": "4.3.3"
  }
 },
 "nbformat": 4,
 "nbformat_minor": 5
}
