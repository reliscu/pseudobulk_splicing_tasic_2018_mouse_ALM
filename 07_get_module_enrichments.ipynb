{
 "cells": [
  {
   "cell_type": "code",
   "execution_count": 1,
   "id": "dc32d0f1",
   "metadata": {
    "vscode": {
     "languageId": "r"
    }
   },
   "outputs": [
    {
     "name": "stderr",
     "output_type": "stream",
     "text": [
      "\n",
      "Attaching package: ‘dplyr’\n",
      "\n",
      "\n",
      "The following objects are masked from ‘package:stats’:\n",
      "\n",
      "    filter, lag\n",
      "\n",
      "\n",
      "The following objects are masked from ‘package:base’:\n",
      "\n",
      "    intersect, setdiff, setequal, union\n",
      "\n",
      "\n",
      "\n",
      "Attaching package: ‘data.table’\n",
      "\n",
      "\n",
      "The following objects are masked from ‘package:dplyr’:\n",
      "\n",
      "    between, first, last\n",
      "\n",
      "\n"
     ]
    }
   ],
   "source": [
    "library(dplyr)\n",
    "library(tidyr)\n",
    "library(tibble)\n",
    "library(qvalue)\n",
    "library(data.table)\n",
    "\n",
    "source(\"/mnt/lareaulab/reliscu/code/fisher_test.R\")\n",
    "\n",
    "setwd(\"/mnt/lareaulab/reliscu/projects/NSF_GRFP/analyses/pseudobulk_test/tasic_2018/mouse_ALM\")"
   ]
  },
  {
   "cell_type": "markdown",
   "id": "47fcf9ad",
   "metadata": {},
   "source": [
    "Here I perform enrichment analysis to find modules enriched for cell type markers. These modules will later be used to correlate to exon PSI to find cell type-specific exons."
   ]
  },
  {
   "cell_type": "code",
   "execution_count": 2,
   "id": "e55565fe",
   "metadata": {
    "vscode": {
     "languageId": "r"
    }
   },
   "outputs": [],
   "source": [
    "network_dir <- \"mouse_ACA_20pcntCells_0.4pcntVar_200samples_log2_Modules\""
   ]
  },
  {
   "cell_type": "code",
   "execution_count": 3,
   "id": "6cf840e4",
   "metadata": {
    "vscode": {
     "languageId": "r"
    }
   },
   "outputs": [],
   "source": [
    "get_module_enrichments <- function(network_dir, ctype_genes, mod_def=\"PosFDR\") {\n",
    "    # Traverse networks to get cell type enrichments for each module\n",
    "    networks <- list.dirs(file.path(getwd(), network_dir), full.names=TRUE, recursive=FALSE)\n",
    "    networks <- networks[lengths(lapply(networks, list.files)) > 0]\n",
    "\n",
    "    enrichments_list <- lapply(seq_along(networks), function(i) {\n",
    "        kME_path <- list.files(networks[i])[grep(\"kME\", list.files(networks[i]))]\n",
    "        kME <- fread(file.path(networks[i], kME_path), data.table=FALSE)\n",
    "        mod_col <- grep(\"PosFDR\", colnames(kME))\n",
    "        mod_genes <- tapply(kME$Gene, kME[,mod_col], list)\n",
    "        \n",
    "        if (length(mod_genes) > 0) {\n",
    "            all_genes <- kME$Gene\n",
    "\n",
    "            # For each module: calculate enrichment for DE genes from each cell type\n",
    "            mod_enrichments_list <- lapply(mod_genes, function(mod) {\n",
    "                lapply(unlist(lapply(ctype_genes, function(set) {\n",
    "                    fisher_test(set, mod, all=all_genes)\n",
    "                })), c)\n",
    "            })\n",
    "            \n",
    "            # Save the network module came from\n",
    "            network_id <- sapply(strsplit(networks[i], \"/\"), function(x) x[length(x)])\n",
    "            mod_enrichments_df <- reshape2::melt(mod_enrichments_list)\n",
    "            colnames(mod_enrichments_df) <- c(\"Pval\", \"Cell_type\", \"Module\")\n",
    "            \n",
    "            # Save path to module eigengenes table for downstream analyses\n",
    "            ME_path <- list.files(networks[i])[grep(\"eigengene\", list.files(networks[i]))]\n",
    "            \n",
    "            data.frame(\n",
    "                Network=network_id,\n",
    "                kME_path=file.path(networks[i], kME_path),\n",
    "                ME_path=file.path(networks[i], ME_path),\n",
    "                mod_enrichments_df\n",
    "            )\n",
    "        }\n",
    "    })\n",
    "    enrichments_df <- do.call(rbind, enrichments_list)\n",
    "    enrichments_df$Qval <- qvalue(enrichments_df$Pval)$qvalue\n",
    "\n",
    "    enrichments_df\n",
    "}"
   ]
  },
  {
   "cell_type": "markdown",
   "id": "0b894bcf",
   "metadata": {},
   "source": [
    "### Get DE genes frome each cell type: 1 vs. pooled tests"
   ]
  },
  {
   "cell_type": "code",
   "execution_count": 4,
   "id": "d9fc4df1",
   "metadata": {
    "vscode": {
     "languageId": "r"
    }
   },
   "outputs": [],
   "source": [
    "# pooled_res_list <- readRDS(\"data/tasic_2018_ALM_STAR_donor_cell_type_pseudobulk_1_vs_pooled_DE_genes_dream.RDS\")"
   ]
  },
  {
   "cell_type": "code",
   "execution_count": null,
   "id": "b3f726eb",
   "metadata": {
    "vscode": {
     "languageId": "r"
    }
   },
   "outputs": [],
   "source": [
    "pval_threshold <- .05/length(pooled_res_list)\n",
    "lfc_threshold <- 6\n",
    "\n",
    "ctype_genes <- lapply(mean_res_list, function(df) {\n",
    "    mask <- (df['adj.P.Val'] < pval_threshold) & (abs(df['logFC']) > lfc_threshold)\n",
    "    df[mask, 1]\n",
    "})\n",
    "names(ctype_genes) <- names(mean_res_list) "
   ]
  },
  {
   "cell_type": "code",
   "execution_count": null,
   "id": "ade891df",
   "metadata": {
    "vscode": {
     "languageId": "r"
    }
   },
   "outputs": [],
   "source": [
    "data.frame(No.genes=lengths(ctype_genes)) %>% arrange(-`No.genes`)"
   ]
  },
  {
   "cell_type": "code",
   "execution_count": null,
   "id": "09fbb1a8",
   "metadata": {
    "vscode": {
     "languageId": "r"
    }
   },
   "outputs": [],
   "source": [
    "enrichments_df <- get_module_enrichments(network_dir, ctype_genes)"
   ]
  },
  {
   "cell_type": "code",
   "execution_count": null,
   "id": "e1c46ab3",
   "metadata": {
    "vscode": {
     "languageId": "r"
    }
   },
   "outputs": [],
   "source": [
    "# Get most enriched cell type for each module\n",
    "# If cell type is most enriched in multiple modules, choose module with smallest p-value\n",
    "\n",
    "pooled_top_mods_df <- enrichments_df %>%\n",
    "    group_by(Network, Module) %>%\n",
    "    slice_min(Qval) %>%\n",
    "    group_by(Cell_type) %>%\n",
    "    slice_min(Qval, with_ties=FALSE) %>%\n",
    "    filter(Qval < .05) %>%\n",
    "    arrange(Qval)"
   ]
  },
  {
   "cell_type": "code",
   "execution_count": null,
   "id": "97f3f715",
   "metadata": {
    "vscode": {
     "languageId": "r"
    }
   },
   "outputs": [],
   "source": [
    "pooled_top_mods_df[,c(\"Cell_type\", \"Pval\", \"Qval\", \"Module\", \"Network\")]"
   ]
  },
  {
   "cell_type": "markdown",
   "id": "cc33c767",
   "metadata": {},
   "source": [
    "### Get DE genes frome each cell type: pairwise tests"
   ]
  },
  {
   "cell_type": "code",
   "execution_count": 10,
   "id": "c5449ef7",
   "metadata": {
    "vscode": {
     "languageId": "r"
    }
   },
   "outputs": [],
   "source": [
    "pairwise_res_list <- readRDS(\"data/tasic_2018_ALM_STAR_donor_cell_type_pseudobulk_pairwise_DE_genes_dream_processed.RDS\")"
   ]
  },
  {
   "cell_type": "code",
   "execution_count": 59,
   "id": "a739660e",
   "metadata": {
    "vscode": {
     "languageId": "r"
    }
   },
   "outputs": [],
   "source": [
    "ctypes <- unique(sapply(strsplit(names(pairwise_res_list), \"_vs_\"), \"[\", 1))\n",
    "\n",
    "ctype_genes <- lapply(ctypes, function(target) {\n",
    "    ctype_res_list <- pairwise_res_list[grep(paste0(\"^\", target), names(pairwise_res_list))]\n",
    "    pval_threshold <- .05 /length(ctype_res_list)\n",
    "    ctype_genes_list <- lapply(ctype_res_list, function(df) {\n",
    "        mask <- df$adj.P.Val < pval_threshold\n",
    "        df[mask, 1]\n",
    "    }) \n",
    "    Reduce(intersect, ctype_genes_list)\n",
    "})\n",
    "names(ctype_genes) <- ctypes"
   ]
  },
  {
   "cell_type": "code",
   "execution_count": 60,
   "id": "ccadb211",
   "metadata": {
    "vscode": {
     "languageId": "r"
    }
   },
   "outputs": [
    {
     "data": {
      "text/html": [
       "<table class=\"dataframe\">\n",
       "<caption>A data.frame: 23 × 1</caption>\n",
       "<thead>\n",
       "\t<tr><th></th><th scope=col>No.genes</th></tr>\n",
       "\t<tr><th></th><th scope=col>&lt;int&gt;</th></tr>\n",
       "</thead>\n",
       "<tbody>\n",
       "\t<tr><th scope=row>Macrophage</th><td>333</td></tr>\n",
       "\t<tr><th scope=row>Astro</th><td>288</td></tr>\n",
       "\t<tr><th scope=row>Endo</th><td>237</td></tr>\n",
       "\t<tr><th scope=row>Oligo</th><td>131</td></tr>\n",
       "\t<tr><th scope=row>VLMC</th><td> 85</td></tr>\n",
       "\t<tr><th scope=row>SMC</th><td> 60</td></tr>\n",
       "\t<tr><th scope=row>Pvalb</th><td> 31</td></tr>\n",
       "\t<tr><th scope=row>Lamp5</th><td> 22</td></tr>\n",
       "\t<tr><th scope=row>CR</th><td> 21</td></tr>\n",
       "\t<tr><th scope=row>Sst</th><td> 21</td></tr>\n",
       "\t<tr><th scope=row>Peri</th><td> 15</td></tr>\n",
       "\t<tr><th scope=row>Sncg</th><td> 14</td></tr>\n",
       "\t<tr><th scope=row>Vip</th><td> 14</td></tr>\n",
       "\t<tr><th scope=row>NP</th><td> 13</td></tr>\n",
       "\t<tr><th scope=row>L5_IT</th><td> 11</td></tr>\n",
       "\t<tr><th scope=row>L6_IT</th><td>  9</td></tr>\n",
       "\t<tr><th scope=row>L2_3_IT</th><td>  7</td></tr>\n",
       "\t<tr><th scope=row>L6_CT</th><td>  6</td></tr>\n",
       "\t<tr><th scope=row>Serpinf1</th><td>  4</td></tr>\n",
       "\t<tr><th scope=row>L5_PT</th><td>  3</td></tr>\n",
       "\t<tr><th scope=row>L6b</th><td>  3</td></tr>\n",
       "\t<tr><th scope=row>Meis2</th><td>  1</td></tr>\n",
       "\t<tr><th scope=row>L4</th><td>  0</td></tr>\n",
       "</tbody>\n",
       "</table>\n"
      ],
      "text/latex": [
       "A data.frame: 23 × 1\n",
       "\\begin{tabular}{r|l}\n",
       "  & No.genes\\\\\n",
       "  & <int>\\\\\n",
       "\\hline\n",
       "\tMacrophage & 333\\\\\n",
       "\tAstro & 288\\\\\n",
       "\tEndo & 237\\\\\n",
       "\tOligo & 131\\\\\n",
       "\tVLMC &  85\\\\\n",
       "\tSMC &  60\\\\\n",
       "\tPvalb &  31\\\\\n",
       "\tLamp5 &  22\\\\\n",
       "\tCR &  21\\\\\n",
       "\tSst &  21\\\\\n",
       "\tPeri &  15\\\\\n",
       "\tSncg &  14\\\\\n",
       "\tVip &  14\\\\\n",
       "\tNP &  13\\\\\n",
       "\tL5\\_IT &  11\\\\\n",
       "\tL6\\_IT &   9\\\\\n",
       "\tL2\\_3\\_IT &   7\\\\\n",
       "\tL6\\_CT &   6\\\\\n",
       "\tSerpinf1 &   4\\\\\n",
       "\tL5\\_PT &   3\\\\\n",
       "\tL6b &   3\\\\\n",
       "\tMeis2 &   1\\\\\n",
       "\tL4 &   0\\\\\n",
       "\\end{tabular}\n"
      ],
      "text/markdown": [
       "\n",
       "A data.frame: 23 × 1\n",
       "\n",
       "| <!--/--> | No.genes &lt;int&gt; |\n",
       "|---|---|\n",
       "| Macrophage | 333 |\n",
       "| Astro | 288 |\n",
       "| Endo | 237 |\n",
       "| Oligo | 131 |\n",
       "| VLMC |  85 |\n",
       "| SMC |  60 |\n",
       "| Pvalb |  31 |\n",
       "| Lamp5 |  22 |\n",
       "| CR |  21 |\n",
       "| Sst |  21 |\n",
       "| Peri |  15 |\n",
       "| Sncg |  14 |\n",
       "| Vip |  14 |\n",
       "| NP |  13 |\n",
       "| L5_IT |  11 |\n",
       "| L6_IT |   9 |\n",
       "| L2_3_IT |   7 |\n",
       "| L6_CT |   6 |\n",
       "| Serpinf1 |   4 |\n",
       "| L5_PT |   3 |\n",
       "| L6b |   3 |\n",
       "| Meis2 |   1 |\n",
       "| L4 |   0 |\n",
       "\n"
      ],
      "text/plain": [
       "           No.genes\n",
       "Macrophage 333     \n",
       "Astro      288     \n",
       "Endo       237     \n",
       "Oligo      131     \n",
       "VLMC        85     \n",
       "SMC         60     \n",
       "Pvalb       31     \n",
       "Lamp5       22     \n",
       "CR          21     \n",
       "Sst         21     \n",
       "Peri        15     \n",
       "Sncg        14     \n",
       "Vip         14     \n",
       "NP          13     \n",
       "L5_IT       11     \n",
       "L6_IT        9     \n",
       "L2_3_IT      7     \n",
       "L6_CT        6     \n",
       "Serpinf1     4     \n",
       "L5_PT        3     \n",
       "L6b          3     \n",
       "Meis2        1     \n",
       "L4           0     "
      ]
     },
     "metadata": {},
     "output_type": "display_data"
    }
   ],
   "source": [
    "data.frame(No.genes=lengths(ctype_genes)) %>% arrange(-`No.genes`)"
   ]
  },
  {
   "cell_type": "code",
   "execution_count": 61,
   "id": "2e5c68a9",
   "metadata": {
    "vscode": {
     "languageId": "r"
    }
   },
   "outputs": [],
   "source": [
    "ctype_genes <- ctype_genes[lengths(ctype_genes) > 0]"
   ]
  },
  {
   "cell_type": "code",
   "execution_count": 62,
   "id": "da30c5c6",
   "metadata": {
    "vscode": {
     "languageId": "r"
    }
   },
   "outputs": [],
   "source": [
    "enrichments_df <- get_module_enrichments(network_dir, ctype_genes)"
   ]
  },
  {
   "cell_type": "code",
   "execution_count": 63,
   "id": "c7411268",
   "metadata": {
    "vscode": {
     "languageId": "r"
    }
   },
   "outputs": [],
   "source": [
    "# Get most enriched cell type for each module\n",
    "# If cell type is most enriched in multiple modules, choose module with smallest p-value\n",
    "\n",
    "pairwise_top_mods_df <- enrichments_df %>%\n",
    "    group_by(Network, Module) %>%\n",
    "    slice_min(Qval) %>%\n",
    "    group_by(Cell_type) %>%\n",
    "    slice_min(Qval, with_ties=FALSE) %>%\n",
    "    # filter(Qval < .05) %>%\n",
    "    arrange(Qval)"
   ]
  },
  {
   "cell_type": "code",
   "execution_count": 64,
   "id": "33f3bdb4",
   "metadata": {
    "vscode": {
     "languageId": "r"
    }
   },
   "outputs": [
    {
     "data": {
      "text/html": [
       "<table class=\"dataframe\">\n",
       "<caption>A grouped_df: 22 × 5</caption>\n",
       "<thead>\n",
       "\t<tr><th scope=col>Cell_type</th><th scope=col>Pval</th><th scope=col>Qval</th><th scope=col>Module</th><th scope=col>Network</th></tr>\n",
       "\t<tr><th scope=col>&lt;chr&gt;</th><th scope=col>&lt;dbl&gt;</th><th scope=col>&lt;dbl&gt;</th><th scope=col>&lt;chr&gt;</th><th scope=col>&lt;chr&gt;</th></tr>\n",
       "</thead>\n",
       "<tbody>\n",
       "\t<tr><td>Astro     </td><td> 0.000000e+00</td><td> 0.000000e+00</td><td>turquoise     </td><td>Bicor-None_signum0.219_minSize10_merge_ME_0.9_20151</td></tr>\n",
       "\t<tr><td>Endo      </td><td> 0.000000e+00</td><td> 0.000000e+00</td><td>blue          </td><td>Bicor-None_signum0.219_minSize12_merge_ME_0.9_20151</td></tr>\n",
       "\t<tr><td>Macrophage</td><td> 0.000000e+00</td><td> 0.000000e+00</td><td>blue          </td><td>Bicor-None_signum0.794_minSize10_merge_ME_0.9_20151</td></tr>\n",
       "\t<tr><td>Oligo     </td><td>2.121824e-204</td><td>1.856647e-201</td><td>green         </td><td>Bicor-None_signum0.325_minSize10_merge_ME_0.9_20151</td></tr>\n",
       "\t<tr><td>VLMC      </td><td>4.271020e-139</td><td>2.853896e-136</td><td>tan           </td><td>Bicor-None_signum0.794_minSize3_merge_ME_0.9_20151 </td></tr>\n",
       "\t<tr><td>SMC       </td><td> 1.527776e-95</td><td> 9.516493e-93</td><td>black         </td><td>Bicor-None_signum0.794_minSize6_merge_ME_0.9_20151 </td></tr>\n",
       "\t<tr><td>NP        </td><td> 5.714908e-27</td><td> 2.258372e-24</td><td>brown         </td><td>Bicor-None_signum0.325_minSize4_merge_ME_0.9_20151 </td></tr>\n",
       "\t<tr><td>Pvalb     </td><td> 7.313579e-27</td><td> 2.874667e-24</td><td>midnightblue  </td><td>Bicor-None_signum0.325_minSize12_merge_ME_0.9_20151</td></tr>\n",
       "\t<tr><td>Sncg      </td><td> 1.426546e-22</td><td> 5.016938e-20</td><td>brown2        </td><td>Bicor-None_signum0.255_minSize10_merge_ME_0.9_20151</td></tr>\n",
       "\t<tr><td>L6_IT     </td><td> 1.118060e-18</td><td> 3.542225e-16</td><td>yellowgreen   </td><td>Bicor-None_signum0.586_minSize8_merge_ME_0.9_20151 </td></tr>\n",
       "\t<tr><td>L6_CT     </td><td> 3.119748e-16</td><td> 9.246279e-14</td><td>darkgreen     </td><td>Bicor-None_signum0.325_minSize4_merge_ME_0.9_20151 </td></tr>\n",
       "\t<tr><td>Peri      </td><td> 4.069349e-16</td><td> 1.196421e-13</td><td>tan4          </td><td>Bicor-None_signum0.255_minSize6_merge_ME_0.9_20151 </td></tr>\n",
       "\t<tr><td>Vip       </td><td> 7.389845e-15</td><td> 1.939887e-12</td><td>dodgerblue3   </td><td>Bicor-None_signum0.325_minSize4_merge_ME_0.9_20151 </td></tr>\n",
       "\t<tr><td>L2_3_IT   </td><td> 9.493675e-15</td><td> 2.465739e-12</td><td>grey60        </td><td>Bicor-None_signum0.586_minSize4_merge_ME_0.9_20151 </td></tr>\n",
       "\t<tr><td>L5_IT     </td><td> 5.573515e-14</td><td> 1.379342e-11</td><td>mediumpurple4 </td><td>Bicor-None_signum0.325_minSize8_merge_ME_0.9_20151 </td></tr>\n",
       "\t<tr><td>Sst       </td><td> 5.561626e-13</td><td> 1.265606e-10</td><td>mintcream     </td><td>Bicor-None_signum0.255_minSize6_merge_ME_0.9_20151 </td></tr>\n",
       "\t<tr><td>Lamp5     </td><td> 5.714646e-12</td><td> 1.221041e-09</td><td>navajowhite1  </td><td>Bicor-None_signum0.255_minSize10_merge_ME_0.9_20151</td></tr>\n",
       "\t<tr><td>L6b       </td><td> 6.186751e-09</td><td> 1.033497e-06</td><td>lavenderblush2</td><td>Bicor-None_signum0.325_minSize4_merge_ME_0.9_20151 </td></tr>\n",
       "\t<tr><td>Serpinf1  </td><td> 2.894306e-08</td><td> 4.450571e-06</td><td>dodgerblue1   </td><td>Bicor-None_signum0.219_minSize6_merge_ME_0.9_20151 </td></tr>\n",
       "\t<tr><td>L5_PT     </td><td> 1.414827e-07</td><td> 2.011463e-05</td><td>salmon        </td><td>Bicor-None_signum0.325_minSize4_merge_ME_0.9_20151 </td></tr>\n",
       "\t<tr><td>CR        </td><td> 4.626542e-06</td><td> 5.423606e-04</td><td>mistyrose1    </td><td>Bicor-None_signum0.219_minSize6_merge_ME_0.9_20151 </td></tr>\n",
       "\t<tr><td>Meis2     </td><td> 2.431641e-03</td><td> 1.877421e-01</td><td>yellow2       </td><td>Bicor-None_signum0.325_minSize4_merge_ME_0.9_20151 </td></tr>\n",
       "</tbody>\n",
       "</table>\n"
      ],
      "text/latex": [
       "A grouped\\_df: 22 × 5\n",
       "\\begin{tabular}{lllll}\n",
       " Cell\\_type & Pval & Qval & Module & Network\\\\\n",
       " <chr> & <dbl> & <dbl> & <chr> & <chr>\\\\\n",
       "\\hline\n",
       "\t Astro      &  0.000000e+00 &  0.000000e+00 & turquoise      & Bicor-None\\_signum0.219\\_minSize10\\_merge\\_ME\\_0.9\\_20151\\\\\n",
       "\t Endo       &  0.000000e+00 &  0.000000e+00 & blue           & Bicor-None\\_signum0.219\\_minSize12\\_merge\\_ME\\_0.9\\_20151\\\\\n",
       "\t Macrophage &  0.000000e+00 &  0.000000e+00 & blue           & Bicor-None\\_signum0.794\\_minSize10\\_merge\\_ME\\_0.9\\_20151\\\\\n",
       "\t Oligo      & 2.121824e-204 & 1.856647e-201 & green          & Bicor-None\\_signum0.325\\_minSize10\\_merge\\_ME\\_0.9\\_20151\\\\\n",
       "\t VLMC       & 4.271020e-139 & 2.853896e-136 & tan            & Bicor-None\\_signum0.794\\_minSize3\\_merge\\_ME\\_0.9\\_20151 \\\\\n",
       "\t SMC        &  1.527776e-95 &  9.516493e-93 & black          & Bicor-None\\_signum0.794\\_minSize6\\_merge\\_ME\\_0.9\\_20151 \\\\\n",
       "\t NP         &  5.714908e-27 &  2.258372e-24 & brown          & Bicor-None\\_signum0.325\\_minSize4\\_merge\\_ME\\_0.9\\_20151 \\\\\n",
       "\t Pvalb      &  7.313579e-27 &  2.874667e-24 & midnightblue   & Bicor-None\\_signum0.325\\_minSize12\\_merge\\_ME\\_0.9\\_20151\\\\\n",
       "\t Sncg       &  1.426546e-22 &  5.016938e-20 & brown2         & Bicor-None\\_signum0.255\\_minSize10\\_merge\\_ME\\_0.9\\_20151\\\\\n",
       "\t L6\\_IT      &  1.118060e-18 &  3.542225e-16 & yellowgreen    & Bicor-None\\_signum0.586\\_minSize8\\_merge\\_ME\\_0.9\\_20151 \\\\\n",
       "\t L6\\_CT      &  3.119748e-16 &  9.246279e-14 & darkgreen      & Bicor-None\\_signum0.325\\_minSize4\\_merge\\_ME\\_0.9\\_20151 \\\\\n",
       "\t Peri       &  4.069349e-16 &  1.196421e-13 & tan4           & Bicor-None\\_signum0.255\\_minSize6\\_merge\\_ME\\_0.9\\_20151 \\\\\n",
       "\t Vip        &  7.389845e-15 &  1.939887e-12 & dodgerblue3    & Bicor-None\\_signum0.325\\_minSize4\\_merge\\_ME\\_0.9\\_20151 \\\\\n",
       "\t L2\\_3\\_IT    &  9.493675e-15 &  2.465739e-12 & grey60         & Bicor-None\\_signum0.586\\_minSize4\\_merge\\_ME\\_0.9\\_20151 \\\\\n",
       "\t L5\\_IT      &  5.573515e-14 &  1.379342e-11 & mediumpurple4  & Bicor-None\\_signum0.325\\_minSize8\\_merge\\_ME\\_0.9\\_20151 \\\\\n",
       "\t Sst        &  5.561626e-13 &  1.265606e-10 & mintcream      & Bicor-None\\_signum0.255\\_minSize6\\_merge\\_ME\\_0.9\\_20151 \\\\\n",
       "\t Lamp5      &  5.714646e-12 &  1.221041e-09 & navajowhite1   & Bicor-None\\_signum0.255\\_minSize10\\_merge\\_ME\\_0.9\\_20151\\\\\n",
       "\t L6b        &  6.186751e-09 &  1.033497e-06 & lavenderblush2 & Bicor-None\\_signum0.325\\_minSize4\\_merge\\_ME\\_0.9\\_20151 \\\\\n",
       "\t Serpinf1   &  2.894306e-08 &  4.450571e-06 & dodgerblue1    & Bicor-None\\_signum0.219\\_minSize6\\_merge\\_ME\\_0.9\\_20151 \\\\\n",
       "\t L5\\_PT      &  1.414827e-07 &  2.011463e-05 & salmon         & Bicor-None\\_signum0.325\\_minSize4\\_merge\\_ME\\_0.9\\_20151 \\\\\n",
       "\t CR         &  4.626542e-06 &  5.423606e-04 & mistyrose1     & Bicor-None\\_signum0.219\\_minSize6\\_merge\\_ME\\_0.9\\_20151 \\\\\n",
       "\t Meis2      &  2.431641e-03 &  1.877421e-01 & yellow2        & Bicor-None\\_signum0.325\\_minSize4\\_merge\\_ME\\_0.9\\_20151 \\\\\n",
       "\\end{tabular}\n"
      ],
      "text/markdown": [
       "\n",
       "A grouped_df: 22 × 5\n",
       "\n",
       "| Cell_type &lt;chr&gt; | Pval &lt;dbl&gt; | Qval &lt;dbl&gt; | Module &lt;chr&gt; | Network &lt;chr&gt; |\n",
       "|---|---|---|---|---|\n",
       "| Astro      |  0.000000e+00 |  0.000000e+00 | turquoise      | Bicor-None_signum0.219_minSize10_merge_ME_0.9_20151 |\n",
       "| Endo       |  0.000000e+00 |  0.000000e+00 | blue           | Bicor-None_signum0.219_minSize12_merge_ME_0.9_20151 |\n",
       "| Macrophage |  0.000000e+00 |  0.000000e+00 | blue           | Bicor-None_signum0.794_minSize10_merge_ME_0.9_20151 |\n",
       "| Oligo      | 2.121824e-204 | 1.856647e-201 | green          | Bicor-None_signum0.325_minSize10_merge_ME_0.9_20151 |\n",
       "| VLMC       | 4.271020e-139 | 2.853896e-136 | tan            | Bicor-None_signum0.794_minSize3_merge_ME_0.9_20151  |\n",
       "| SMC        |  1.527776e-95 |  9.516493e-93 | black          | Bicor-None_signum0.794_minSize6_merge_ME_0.9_20151  |\n",
       "| NP         |  5.714908e-27 |  2.258372e-24 | brown          | Bicor-None_signum0.325_minSize4_merge_ME_0.9_20151  |\n",
       "| Pvalb      |  7.313579e-27 |  2.874667e-24 | midnightblue   | Bicor-None_signum0.325_minSize12_merge_ME_0.9_20151 |\n",
       "| Sncg       |  1.426546e-22 |  5.016938e-20 | brown2         | Bicor-None_signum0.255_minSize10_merge_ME_0.9_20151 |\n",
       "| L6_IT      |  1.118060e-18 |  3.542225e-16 | yellowgreen    | Bicor-None_signum0.586_minSize8_merge_ME_0.9_20151  |\n",
       "| L6_CT      |  3.119748e-16 |  9.246279e-14 | darkgreen      | Bicor-None_signum0.325_minSize4_merge_ME_0.9_20151  |\n",
       "| Peri       |  4.069349e-16 |  1.196421e-13 | tan4           | Bicor-None_signum0.255_minSize6_merge_ME_0.9_20151  |\n",
       "| Vip        |  7.389845e-15 |  1.939887e-12 | dodgerblue3    | Bicor-None_signum0.325_minSize4_merge_ME_0.9_20151  |\n",
       "| L2_3_IT    |  9.493675e-15 |  2.465739e-12 | grey60         | Bicor-None_signum0.586_minSize4_merge_ME_0.9_20151  |\n",
       "| L5_IT      |  5.573515e-14 |  1.379342e-11 | mediumpurple4  | Bicor-None_signum0.325_minSize8_merge_ME_0.9_20151  |\n",
       "| Sst        |  5.561626e-13 |  1.265606e-10 | mintcream      | Bicor-None_signum0.255_minSize6_merge_ME_0.9_20151  |\n",
       "| Lamp5      |  5.714646e-12 |  1.221041e-09 | navajowhite1   | Bicor-None_signum0.255_minSize10_merge_ME_0.9_20151 |\n",
       "| L6b        |  6.186751e-09 |  1.033497e-06 | lavenderblush2 | Bicor-None_signum0.325_minSize4_merge_ME_0.9_20151  |\n",
       "| Serpinf1   |  2.894306e-08 |  4.450571e-06 | dodgerblue1    | Bicor-None_signum0.219_minSize6_merge_ME_0.9_20151  |\n",
       "| L5_PT      |  1.414827e-07 |  2.011463e-05 | salmon         | Bicor-None_signum0.325_minSize4_merge_ME_0.9_20151  |\n",
       "| CR         |  4.626542e-06 |  5.423606e-04 | mistyrose1     | Bicor-None_signum0.219_minSize6_merge_ME_0.9_20151  |\n",
       "| Meis2      |  2.431641e-03 |  1.877421e-01 | yellow2        | Bicor-None_signum0.325_minSize4_merge_ME_0.9_20151  |\n",
       "\n"
      ],
      "text/plain": [
       "   Cell_type  Pval          Qval          Module        \n",
       "1  Astro       0.000000e+00  0.000000e+00 turquoise     \n",
       "2  Endo        0.000000e+00  0.000000e+00 blue          \n",
       "3  Macrophage  0.000000e+00  0.000000e+00 blue          \n",
       "4  Oligo      2.121824e-204 1.856647e-201 green         \n",
       "5  VLMC       4.271020e-139 2.853896e-136 tan           \n",
       "6  SMC         1.527776e-95  9.516493e-93 black         \n",
       "7  NP          5.714908e-27  2.258372e-24 brown         \n",
       "8  Pvalb       7.313579e-27  2.874667e-24 midnightblue  \n",
       "9  Sncg        1.426546e-22  5.016938e-20 brown2        \n",
       "10 L6_IT       1.118060e-18  3.542225e-16 yellowgreen   \n",
       "11 L6_CT       3.119748e-16  9.246279e-14 darkgreen     \n",
       "12 Peri        4.069349e-16  1.196421e-13 tan4          \n",
       "13 Vip         7.389845e-15  1.939887e-12 dodgerblue3   \n",
       "14 L2_3_IT     9.493675e-15  2.465739e-12 grey60        \n",
       "15 L5_IT       5.573515e-14  1.379342e-11 mediumpurple4 \n",
       "16 Sst         5.561626e-13  1.265606e-10 mintcream     \n",
       "17 Lamp5       5.714646e-12  1.221041e-09 navajowhite1  \n",
       "18 L6b         6.186751e-09  1.033497e-06 lavenderblush2\n",
       "19 Serpinf1    2.894306e-08  4.450571e-06 dodgerblue1   \n",
       "20 L5_PT       1.414827e-07  2.011463e-05 salmon        \n",
       "21 CR          4.626542e-06  5.423606e-04 mistyrose1    \n",
       "22 Meis2       2.431641e-03  1.877421e-01 yellow2       \n",
       "   Network                                            \n",
       "1  Bicor-None_signum0.219_minSize10_merge_ME_0.9_20151\n",
       "2  Bicor-None_signum0.219_minSize12_merge_ME_0.9_20151\n",
       "3  Bicor-None_signum0.794_minSize10_merge_ME_0.9_20151\n",
       "4  Bicor-None_signum0.325_minSize10_merge_ME_0.9_20151\n",
       "5  Bicor-None_signum0.794_minSize3_merge_ME_0.9_20151 \n",
       "6  Bicor-None_signum0.794_minSize6_merge_ME_0.9_20151 \n",
       "7  Bicor-None_signum0.325_minSize4_merge_ME_0.9_20151 \n",
       "8  Bicor-None_signum0.325_minSize12_merge_ME_0.9_20151\n",
       "9  Bicor-None_signum0.255_minSize10_merge_ME_0.9_20151\n",
       "10 Bicor-None_signum0.586_minSize8_merge_ME_0.9_20151 \n",
       "11 Bicor-None_signum0.325_minSize4_merge_ME_0.9_20151 \n",
       "12 Bicor-None_signum0.255_minSize6_merge_ME_0.9_20151 \n",
       "13 Bicor-None_signum0.325_minSize4_merge_ME_0.9_20151 \n",
       "14 Bicor-None_signum0.586_minSize4_merge_ME_0.9_20151 \n",
       "15 Bicor-None_signum0.325_minSize8_merge_ME_0.9_20151 \n",
       "16 Bicor-None_signum0.255_minSize6_merge_ME_0.9_20151 \n",
       "17 Bicor-None_signum0.255_minSize10_merge_ME_0.9_20151\n",
       "18 Bicor-None_signum0.325_minSize4_merge_ME_0.9_20151 \n",
       "19 Bicor-None_signum0.219_minSize6_merge_ME_0.9_20151 \n",
       "20 Bicor-None_signum0.325_minSize4_merge_ME_0.9_20151 \n",
       "21 Bicor-None_signum0.219_minSize6_merge_ME_0.9_20151 \n",
       "22 Bicor-None_signum0.325_minSize4_merge_ME_0.9_20151 "
      ]
     },
     "metadata": {},
     "output_type": "display_data"
    }
   ],
   "source": [
    "pairwise_top_mods_df[,c(\"Cell_type\", \"Pval\", \"Qval\", \"Module\", \"Network\")]"
   ]
  },
  {
   "cell_type": "markdown",
   "id": "03b2b613",
   "metadata": {},
   "source": [
    "### Get DE genes frome each cell type: 1 vs. mean analysis"
   ]
  },
  {
   "cell_type": "code",
   "execution_count": 65,
   "id": "54340439",
   "metadata": {
    "vscode": {
     "languageId": "r"
    }
   },
   "outputs": [],
   "source": [
    "mean_res_list <- readRDS(\"data/tasic_2018_ALM_STAR_donor_cell_type_pseudobulk_1_vs_meanOthers_DE_genes_dream.RDS\")"
   ]
  },
  {
   "cell_type": "code",
   "execution_count": 66,
   "id": "d868ba05",
   "metadata": {
    "vscode": {
     "languageId": "r"
    }
   },
   "outputs": [],
   "source": [
    "pval_threshold <- .05/length(mean_res_list)\n",
    "lfc_threshold <- 6\n",
    "\n",
    "ctype_genes <- lapply(mean_res_list, function(df) {\n",
    "    mask <- (df['adj.P.Val'] < pval_threshold) & (abs(df['logFC']) > lfc_threshold)\n",
    "    df[mask, 1]\n",
    "})\n",
    "names(ctype_genes) <- names(mean_res_list) "
   ]
  },
  {
   "cell_type": "code",
   "execution_count": 67,
   "id": "93eb6386",
   "metadata": {
    "vscode": {
     "languageId": "r"
    }
   },
   "outputs": [
    {
     "data": {
      "text/html": [
       "<table class=\"dataframe\">\n",
       "<caption>A data.frame: 23 × 1</caption>\n",
       "<thead>\n",
       "\t<tr><th></th><th scope=col>No.genes</th></tr>\n",
       "\t<tr><th></th><th scope=col>&lt;int&gt;</th></tr>\n",
       "</thead>\n",
       "<tbody>\n",
       "\t<tr><th scope=row>Peri</th><td>1806</td></tr>\n",
       "\t<tr><th scope=row>Endo</th><td> 879</td></tr>\n",
       "\t<tr><th scope=row>Macrophage</th><td> 828</td></tr>\n",
       "\t<tr><th scope=row>VLMC</th><td> 551</td></tr>\n",
       "\t<tr><th scope=row>SMC</th><td> 542</td></tr>\n",
       "\t<tr><th scope=row>Astro</th><td> 503</td></tr>\n",
       "\t<tr><th scope=row>Oligo</th><td> 228</td></tr>\n",
       "\t<tr><th scope=row>Vip</th><td>  67</td></tr>\n",
       "\t<tr><th scope=row>Sncg</th><td>  66</td></tr>\n",
       "\t<tr><th scope=row>Lamp5</th><td>  63</td></tr>\n",
       "\t<tr><th scope=row>Serpinf1</th><td>  62</td></tr>\n",
       "\t<tr><th scope=row>L6_IT</th><td>  57</td></tr>\n",
       "\t<tr><th scope=row>Sst</th><td>  57</td></tr>\n",
       "\t<tr><th scope=row>CR</th><td>  56</td></tr>\n",
       "\t<tr><th scope=row>L5_IT</th><td>  56</td></tr>\n",
       "\t<tr><th scope=row>Pvalb</th><td>  56</td></tr>\n",
       "\t<tr><th scope=row>NP</th><td>  54</td></tr>\n",
       "\t<tr><th scope=row>Meis2</th><td>  53</td></tr>\n",
       "\t<tr><th scope=row>L6_CT</th><td>  52</td></tr>\n",
       "\t<tr><th scope=row>L2_3_IT</th><td>  51</td></tr>\n",
       "\t<tr><th scope=row>L4</th><td>  38</td></tr>\n",
       "\t<tr><th scope=row>L6b</th><td>  38</td></tr>\n",
       "\t<tr><th scope=row>L5_PT</th><td>  34</td></tr>\n",
       "</tbody>\n",
       "</table>\n"
      ],
      "text/latex": [
       "A data.frame: 23 × 1\n",
       "\\begin{tabular}{r|l}\n",
       "  & No.genes\\\\\n",
       "  & <int>\\\\\n",
       "\\hline\n",
       "\tPeri & 1806\\\\\n",
       "\tEndo &  879\\\\\n",
       "\tMacrophage &  828\\\\\n",
       "\tVLMC &  551\\\\\n",
       "\tSMC &  542\\\\\n",
       "\tAstro &  503\\\\\n",
       "\tOligo &  228\\\\\n",
       "\tVip &   67\\\\\n",
       "\tSncg &   66\\\\\n",
       "\tLamp5 &   63\\\\\n",
       "\tSerpinf1 &   62\\\\\n",
       "\tL6\\_IT &   57\\\\\n",
       "\tSst &   57\\\\\n",
       "\tCR &   56\\\\\n",
       "\tL5\\_IT &   56\\\\\n",
       "\tPvalb &   56\\\\\n",
       "\tNP &   54\\\\\n",
       "\tMeis2 &   53\\\\\n",
       "\tL6\\_CT &   52\\\\\n",
       "\tL2\\_3\\_IT &   51\\\\\n",
       "\tL4 &   38\\\\\n",
       "\tL6b &   38\\\\\n",
       "\tL5\\_PT &   34\\\\\n",
       "\\end{tabular}\n"
      ],
      "text/markdown": [
       "\n",
       "A data.frame: 23 × 1\n",
       "\n",
       "| <!--/--> | No.genes &lt;int&gt; |\n",
       "|---|---|\n",
       "| Peri | 1806 |\n",
       "| Endo |  879 |\n",
       "| Macrophage |  828 |\n",
       "| VLMC |  551 |\n",
       "| SMC |  542 |\n",
       "| Astro |  503 |\n",
       "| Oligo |  228 |\n",
       "| Vip |   67 |\n",
       "| Sncg |   66 |\n",
       "| Lamp5 |   63 |\n",
       "| Serpinf1 |   62 |\n",
       "| L6_IT |   57 |\n",
       "| Sst |   57 |\n",
       "| CR |   56 |\n",
       "| L5_IT |   56 |\n",
       "| Pvalb |   56 |\n",
       "| NP |   54 |\n",
       "| Meis2 |   53 |\n",
       "| L6_CT |   52 |\n",
       "| L2_3_IT |   51 |\n",
       "| L4 |   38 |\n",
       "| L6b |   38 |\n",
       "| L5_PT |   34 |\n",
       "\n"
      ],
      "text/plain": [
       "           No.genes\n",
       "Peri       1806    \n",
       "Endo        879    \n",
       "Macrophage  828    \n",
       "VLMC        551    \n",
       "SMC         542    \n",
       "Astro       503    \n",
       "Oligo       228    \n",
       "Vip          67    \n",
       "Sncg         66    \n",
       "Lamp5        63    \n",
       "Serpinf1     62    \n",
       "L6_IT        57    \n",
       "Sst          57    \n",
       "CR           56    \n",
       "L5_IT        56    \n",
       "Pvalb        56    \n",
       "NP           54    \n",
       "Meis2        53    \n",
       "L6_CT        52    \n",
       "L2_3_IT      51    \n",
       "L4           38    \n",
       "L6b          38    \n",
       "L5_PT        34    "
      ]
     },
     "metadata": {},
     "output_type": "display_data"
    }
   ],
   "source": [
    "data.frame(No.genes=lengths(ctype_genes)) %>% arrange(-`No.genes`)"
   ]
  },
  {
   "cell_type": "code",
   "execution_count": 68,
   "id": "461bdf2d",
   "metadata": {
    "vscode": {
     "languageId": "r"
    }
   },
   "outputs": [],
   "source": [
    "enrichments_df <- get_module_enrichments(network_dir, ctype_genes)"
   ]
  },
  {
   "cell_type": "code",
   "execution_count": 69,
   "id": "0830bd47",
   "metadata": {
    "vscode": {
     "languageId": "r"
    }
   },
   "outputs": [],
   "source": [
    "# Get most enriched cell type for each module\n",
    "# If cell type is most enriched in multiple modules, choose module with smallest p-value\n",
    "\n",
    "mean_top_mods_df <- enrichments_df %>%\n",
    "    group_by(Network, Module) %>%\n",
    "    slice_min(Qval) %>%\n",
    "    group_by(Cell_type) %>%\n",
    "    slice_min(Qval, with_ties=FALSE) %>%\n",
    "    filter(Qval < .05) %>%\n",
    "    arrange(Qval)"
   ]
  },
  {
   "cell_type": "code",
   "execution_count": 70,
   "id": "ba0560f3",
   "metadata": {
    "vscode": {
     "languageId": "r"
    }
   },
   "outputs": [
    {
     "data": {
      "text/html": [
       "<table class=\"dataframe\">\n",
       "<caption>A grouped_df: 22 × 5</caption>\n",
       "<thead>\n",
       "\t<tr><th scope=col>Cell_type</th><th scope=col>Pval</th><th scope=col>Qval</th><th scope=col>Module</th><th scope=col>Network</th></tr>\n",
       "\t<tr><th scope=col>&lt;chr&gt;</th><th scope=col>&lt;dbl&gt;</th><th scope=col>&lt;dbl&gt;</th><th scope=col>&lt;chr&gt;</th><th scope=col>&lt;chr&gt;</th></tr>\n",
       "</thead>\n",
       "<tbody>\n",
       "\t<tr><td>Astro     </td><td>1.682590e-233</td><td>1.292953e-228</td><td>turquoise     </td><td>Bicor-None_signum0.325_minSize4_merge_ME_0.9_20151 </td></tr>\n",
       "\t<tr><td>Macrophage</td><td>3.766146e-207</td><td>3.617524e-203</td><td>yellow        </td><td>Bicor-None_signum0.919_minSize6_merge_ME_0.9_20151 </td></tr>\n",
       "\t<tr><td>Endo      </td><td>2.400244e-187</td><td>1.317443e-183</td><td>blue          </td><td>Bicor-None_signum0.325_minSize4_merge_ME_0.9_20151 </td></tr>\n",
       "\t<tr><td>Oligo     </td><td>4.937472e-150</td><td>6.219839e-147</td><td>red           </td><td>Bicor-None_signum0.794_minSize12_merge_ME_0.9_20151</td></tr>\n",
       "\t<tr><td>SMC       </td><td>3.267160e-132</td><td>2.670834e-129</td><td>brown         </td><td>Bicor-None_signum0.919_minSize6_merge_ME_0.9_20151 </td></tr>\n",
       "\t<tr><td>VLMC      </td><td>2.575901e-114</td><td>1.783243e-111</td><td>tan           </td><td>Bicor-None_signum0.794_minSize3_merge_ME_0.9_20151 </td></tr>\n",
       "\t<tr><td>Peri      </td><td> 2.195836e-83</td><td> 1.349877e-80</td><td>white         </td><td>Bicor-None_signum0.586_minSize8_merge_ME_0.9_20151 </td></tr>\n",
       "\t<tr><td>NP        </td><td> 9.227342e-56</td><td> 4.431604e-53</td><td>brown         </td><td>Bicor-None_signum0.325_minSize4_merge_ME_0.9_20151 </td></tr>\n",
       "\t<tr><td>Sncg      </td><td> 1.764350e-54</td><td> 8.369009e-52</td><td>palevioletred3</td><td>Bicor-None_signum0.325_minSize10_merge_ME_0.9_20151</td></tr>\n",
       "\t<tr><td>Vip       </td><td> 8.249019e-50</td><td> 3.685345e-47</td><td>darkorange    </td><td>Bicor-None_signum0.586_minSize8_merge_ME_0.9_20151 </td></tr>\n",
       "\t<tr><td>Pvalb     </td><td> 8.020581e-32</td><td> 2.893547e-29</td><td>midnightblue  </td><td>Bicor-None_signum0.325_minSize12_merge_ME_0.9_20151</td></tr>\n",
       "\t<tr><td>L6_CT     </td><td> 4.268480e-30</td><td> 1.497730e-27</td><td>tan           </td><td>Bicor-None_signum0.586_minSize6_merge_ME_0.9_20151 </td></tr>\n",
       "\t<tr><td>L6_IT     </td><td> 1.536239e-23</td><td> 4.505694e-21</td><td>lightgreen    </td><td>Bicor-None_signum0.586_minSize10_merge_ME_0.9_20151</td></tr>\n",
       "\t<tr><td>Lamp5     </td><td> 5.892640e-22</td><td> 1.640609e-19</td><td>salmon4       </td><td>Bicor-None_signum0.586_minSize4_merge_ME_0.9_20151 </td></tr>\n",
       "\t<tr><td>L2_3_IT   </td><td> 8.295848e-22</td><td> 2.301364e-19</td><td>greenyellow   </td><td>Bicor-None_signum0.794_minSize4_merge_ME_0.9_20151 </td></tr>\n",
       "\t<tr><td>L5_PT     </td><td> 1.361313e-18</td><td> 3.199001e-16</td><td>red           </td><td>Bicor-None_signum0.794_minSize8_merge_ME_0.9_20151 </td></tr>\n",
       "\t<tr><td>Serpinf1  </td><td> 1.227882e-16</td><td> 2.438090e-14</td><td>lightpink1    </td><td>Bicor-None_signum0.219_minSize8_merge_ME_0.9_20151 </td></tr>\n",
       "\t<tr><td>Sst       </td><td> 6.804089e-15</td><td> 1.180241e-12</td><td>thistle3      </td><td>Bicor-None_signum0.586_minSize4_merge_ME_0.9_20151 </td></tr>\n",
       "\t<tr><td>L6b       </td><td> 1.166373e-11</td><td> 1.501299e-09</td><td>thistle4      </td><td>Bicor-None_signum0.219_minSize8_merge_ME_0.9_20151 </td></tr>\n",
       "\t<tr><td>L5_IT     </td><td> 2.828094e-11</td><td> 3.466016e-09</td><td>mediumpurple4 </td><td>Bicor-None_signum0.325_minSize6_merge_ME_0.9_20151 </td></tr>\n",
       "\t<tr><td>L4        </td><td> 2.321709e-07</td><td> 1.718758e-05</td><td>salmon2       </td><td>Bicor-None_signum0.219_minSize8_merge_ME_0.9_20151 </td></tr>\n",
       "\t<tr><td>CR        </td><td> 8.692035e-04</td><td> 3.140207e-02</td><td>chocolate3    </td><td>Bicor-None_signum0.219_minSize10_merge_ME_0.9_20151</td></tr>\n",
       "</tbody>\n",
       "</table>\n"
      ],
      "text/latex": [
       "A grouped\\_df: 22 × 5\n",
       "\\begin{tabular}{lllll}\n",
       " Cell\\_type & Pval & Qval & Module & Network\\\\\n",
       " <chr> & <dbl> & <dbl> & <chr> & <chr>\\\\\n",
       "\\hline\n",
       "\t Astro      & 1.682590e-233 & 1.292953e-228 & turquoise      & Bicor-None\\_signum0.325\\_minSize4\\_merge\\_ME\\_0.9\\_20151 \\\\\n",
       "\t Macrophage & 3.766146e-207 & 3.617524e-203 & yellow         & Bicor-None\\_signum0.919\\_minSize6\\_merge\\_ME\\_0.9\\_20151 \\\\\n",
       "\t Endo       & 2.400244e-187 & 1.317443e-183 & blue           & Bicor-None\\_signum0.325\\_minSize4\\_merge\\_ME\\_0.9\\_20151 \\\\\n",
       "\t Oligo      & 4.937472e-150 & 6.219839e-147 & red            & Bicor-None\\_signum0.794\\_minSize12\\_merge\\_ME\\_0.9\\_20151\\\\\n",
       "\t SMC        & 3.267160e-132 & 2.670834e-129 & brown          & Bicor-None\\_signum0.919\\_minSize6\\_merge\\_ME\\_0.9\\_20151 \\\\\n",
       "\t VLMC       & 2.575901e-114 & 1.783243e-111 & tan            & Bicor-None\\_signum0.794\\_minSize3\\_merge\\_ME\\_0.9\\_20151 \\\\\n",
       "\t Peri       &  2.195836e-83 &  1.349877e-80 & white          & Bicor-None\\_signum0.586\\_minSize8\\_merge\\_ME\\_0.9\\_20151 \\\\\n",
       "\t NP         &  9.227342e-56 &  4.431604e-53 & brown          & Bicor-None\\_signum0.325\\_minSize4\\_merge\\_ME\\_0.9\\_20151 \\\\\n",
       "\t Sncg       &  1.764350e-54 &  8.369009e-52 & palevioletred3 & Bicor-None\\_signum0.325\\_minSize10\\_merge\\_ME\\_0.9\\_20151\\\\\n",
       "\t Vip        &  8.249019e-50 &  3.685345e-47 & darkorange     & Bicor-None\\_signum0.586\\_minSize8\\_merge\\_ME\\_0.9\\_20151 \\\\\n",
       "\t Pvalb      &  8.020581e-32 &  2.893547e-29 & midnightblue   & Bicor-None\\_signum0.325\\_minSize12\\_merge\\_ME\\_0.9\\_20151\\\\\n",
       "\t L6\\_CT      &  4.268480e-30 &  1.497730e-27 & tan            & Bicor-None\\_signum0.586\\_minSize6\\_merge\\_ME\\_0.9\\_20151 \\\\\n",
       "\t L6\\_IT      &  1.536239e-23 &  4.505694e-21 & lightgreen     & Bicor-None\\_signum0.586\\_minSize10\\_merge\\_ME\\_0.9\\_20151\\\\\n",
       "\t Lamp5      &  5.892640e-22 &  1.640609e-19 & salmon4        & Bicor-None\\_signum0.586\\_minSize4\\_merge\\_ME\\_0.9\\_20151 \\\\\n",
       "\t L2\\_3\\_IT    &  8.295848e-22 &  2.301364e-19 & greenyellow    & Bicor-None\\_signum0.794\\_minSize4\\_merge\\_ME\\_0.9\\_20151 \\\\\n",
       "\t L5\\_PT      &  1.361313e-18 &  3.199001e-16 & red            & Bicor-None\\_signum0.794\\_minSize8\\_merge\\_ME\\_0.9\\_20151 \\\\\n",
       "\t Serpinf1   &  1.227882e-16 &  2.438090e-14 & lightpink1     & Bicor-None\\_signum0.219\\_minSize8\\_merge\\_ME\\_0.9\\_20151 \\\\\n",
       "\t Sst        &  6.804089e-15 &  1.180241e-12 & thistle3       & Bicor-None\\_signum0.586\\_minSize4\\_merge\\_ME\\_0.9\\_20151 \\\\\n",
       "\t L6b        &  1.166373e-11 &  1.501299e-09 & thistle4       & Bicor-None\\_signum0.219\\_minSize8\\_merge\\_ME\\_0.9\\_20151 \\\\\n",
       "\t L5\\_IT      &  2.828094e-11 &  3.466016e-09 & mediumpurple4  & Bicor-None\\_signum0.325\\_minSize6\\_merge\\_ME\\_0.9\\_20151 \\\\\n",
       "\t L4         &  2.321709e-07 &  1.718758e-05 & salmon2        & Bicor-None\\_signum0.219\\_minSize8\\_merge\\_ME\\_0.9\\_20151 \\\\\n",
       "\t CR         &  8.692035e-04 &  3.140207e-02 & chocolate3     & Bicor-None\\_signum0.219\\_minSize10\\_merge\\_ME\\_0.9\\_20151\\\\\n",
       "\\end{tabular}\n"
      ],
      "text/markdown": [
       "\n",
       "A grouped_df: 22 × 5\n",
       "\n",
       "| Cell_type &lt;chr&gt; | Pval &lt;dbl&gt; | Qval &lt;dbl&gt; | Module &lt;chr&gt; | Network &lt;chr&gt; |\n",
       "|---|---|---|---|---|\n",
       "| Astro      | 1.682590e-233 | 1.292953e-228 | turquoise      | Bicor-None_signum0.325_minSize4_merge_ME_0.9_20151  |\n",
       "| Macrophage | 3.766146e-207 | 3.617524e-203 | yellow         | Bicor-None_signum0.919_minSize6_merge_ME_0.9_20151  |\n",
       "| Endo       | 2.400244e-187 | 1.317443e-183 | blue           | Bicor-None_signum0.325_minSize4_merge_ME_0.9_20151  |\n",
       "| Oligo      | 4.937472e-150 | 6.219839e-147 | red            | Bicor-None_signum0.794_minSize12_merge_ME_0.9_20151 |\n",
       "| SMC        | 3.267160e-132 | 2.670834e-129 | brown          | Bicor-None_signum0.919_minSize6_merge_ME_0.9_20151  |\n",
       "| VLMC       | 2.575901e-114 | 1.783243e-111 | tan            | Bicor-None_signum0.794_minSize3_merge_ME_0.9_20151  |\n",
       "| Peri       |  2.195836e-83 |  1.349877e-80 | white          | Bicor-None_signum0.586_minSize8_merge_ME_0.9_20151  |\n",
       "| NP         |  9.227342e-56 |  4.431604e-53 | brown          | Bicor-None_signum0.325_minSize4_merge_ME_0.9_20151  |\n",
       "| Sncg       |  1.764350e-54 |  8.369009e-52 | palevioletred3 | Bicor-None_signum0.325_minSize10_merge_ME_0.9_20151 |\n",
       "| Vip        |  8.249019e-50 |  3.685345e-47 | darkorange     | Bicor-None_signum0.586_minSize8_merge_ME_0.9_20151  |\n",
       "| Pvalb      |  8.020581e-32 |  2.893547e-29 | midnightblue   | Bicor-None_signum0.325_minSize12_merge_ME_0.9_20151 |\n",
       "| L6_CT      |  4.268480e-30 |  1.497730e-27 | tan            | Bicor-None_signum0.586_minSize6_merge_ME_0.9_20151  |\n",
       "| L6_IT      |  1.536239e-23 |  4.505694e-21 | lightgreen     | Bicor-None_signum0.586_minSize10_merge_ME_0.9_20151 |\n",
       "| Lamp5      |  5.892640e-22 |  1.640609e-19 | salmon4        | Bicor-None_signum0.586_minSize4_merge_ME_0.9_20151  |\n",
       "| L2_3_IT    |  8.295848e-22 |  2.301364e-19 | greenyellow    | Bicor-None_signum0.794_minSize4_merge_ME_0.9_20151  |\n",
       "| L5_PT      |  1.361313e-18 |  3.199001e-16 | red            | Bicor-None_signum0.794_minSize8_merge_ME_0.9_20151  |\n",
       "| Serpinf1   |  1.227882e-16 |  2.438090e-14 | lightpink1     | Bicor-None_signum0.219_minSize8_merge_ME_0.9_20151  |\n",
       "| Sst        |  6.804089e-15 |  1.180241e-12 | thistle3       | Bicor-None_signum0.586_minSize4_merge_ME_0.9_20151  |\n",
       "| L6b        |  1.166373e-11 |  1.501299e-09 | thistle4       | Bicor-None_signum0.219_minSize8_merge_ME_0.9_20151  |\n",
       "| L5_IT      |  2.828094e-11 |  3.466016e-09 | mediumpurple4  | Bicor-None_signum0.325_minSize6_merge_ME_0.9_20151  |\n",
       "| L4         |  2.321709e-07 |  1.718758e-05 | salmon2        | Bicor-None_signum0.219_minSize8_merge_ME_0.9_20151  |\n",
       "| CR         |  8.692035e-04 |  3.140207e-02 | chocolate3     | Bicor-None_signum0.219_minSize10_merge_ME_0.9_20151 |\n",
       "\n"
      ],
      "text/plain": [
       "   Cell_type  Pval          Qval          Module        \n",
       "1  Astro      1.682590e-233 1.292953e-228 turquoise     \n",
       "2  Macrophage 3.766146e-207 3.617524e-203 yellow        \n",
       "3  Endo       2.400244e-187 1.317443e-183 blue          \n",
       "4  Oligo      4.937472e-150 6.219839e-147 red           \n",
       "5  SMC        3.267160e-132 2.670834e-129 brown         \n",
       "6  VLMC       2.575901e-114 1.783243e-111 tan           \n",
       "7  Peri        2.195836e-83  1.349877e-80 white         \n",
       "8  NP          9.227342e-56  4.431604e-53 brown         \n",
       "9  Sncg        1.764350e-54  8.369009e-52 palevioletred3\n",
       "10 Vip         8.249019e-50  3.685345e-47 darkorange    \n",
       "11 Pvalb       8.020581e-32  2.893547e-29 midnightblue  \n",
       "12 L6_CT       4.268480e-30  1.497730e-27 tan           \n",
       "13 L6_IT       1.536239e-23  4.505694e-21 lightgreen    \n",
       "14 Lamp5       5.892640e-22  1.640609e-19 salmon4       \n",
       "15 L2_3_IT     8.295848e-22  2.301364e-19 greenyellow   \n",
       "16 L5_PT       1.361313e-18  3.199001e-16 red           \n",
       "17 Serpinf1    1.227882e-16  2.438090e-14 lightpink1    \n",
       "18 Sst         6.804089e-15  1.180241e-12 thistle3      \n",
       "19 L6b         1.166373e-11  1.501299e-09 thistle4      \n",
       "20 L5_IT       2.828094e-11  3.466016e-09 mediumpurple4 \n",
       "21 L4          2.321709e-07  1.718758e-05 salmon2       \n",
       "22 CR          8.692035e-04  3.140207e-02 chocolate3    \n",
       "   Network                                            \n",
       "1  Bicor-None_signum0.325_minSize4_merge_ME_0.9_20151 \n",
       "2  Bicor-None_signum0.919_minSize6_merge_ME_0.9_20151 \n",
       "3  Bicor-None_signum0.325_minSize4_merge_ME_0.9_20151 \n",
       "4  Bicor-None_signum0.794_minSize12_merge_ME_0.9_20151\n",
       "5  Bicor-None_signum0.919_minSize6_merge_ME_0.9_20151 \n",
       "6  Bicor-None_signum0.794_minSize3_merge_ME_0.9_20151 \n",
       "7  Bicor-None_signum0.586_minSize8_merge_ME_0.9_20151 \n",
       "8  Bicor-None_signum0.325_minSize4_merge_ME_0.9_20151 \n",
       "9  Bicor-None_signum0.325_minSize10_merge_ME_0.9_20151\n",
       "10 Bicor-None_signum0.586_minSize8_merge_ME_0.9_20151 \n",
       "11 Bicor-None_signum0.325_minSize12_merge_ME_0.9_20151\n",
       "12 Bicor-None_signum0.586_minSize6_merge_ME_0.9_20151 \n",
       "13 Bicor-None_signum0.586_minSize10_merge_ME_0.9_20151\n",
       "14 Bicor-None_signum0.586_minSize4_merge_ME_0.9_20151 \n",
       "15 Bicor-None_signum0.794_minSize4_merge_ME_0.9_20151 \n",
       "16 Bicor-None_signum0.794_minSize8_merge_ME_0.9_20151 \n",
       "17 Bicor-None_signum0.219_minSize8_merge_ME_0.9_20151 \n",
       "18 Bicor-None_signum0.586_minSize4_merge_ME_0.9_20151 \n",
       "19 Bicor-None_signum0.219_minSize8_merge_ME_0.9_20151 \n",
       "20 Bicor-None_signum0.325_minSize6_merge_ME_0.9_20151 \n",
       "21 Bicor-None_signum0.219_minSize8_merge_ME_0.9_20151 \n",
       "22 Bicor-None_signum0.219_minSize10_merge_ME_0.9_20151"
      ]
     },
     "metadata": {},
     "output_type": "display_data"
    }
   ],
   "source": [
    "mean_top_mods_df[,c(\"Cell_type\", \"Pval\", \"Qval\", \"Module\", \"Network\")]"
   ]
  }
 ],
 "metadata": {
  "kernelspec": {
   "display_name": "R",
   "language": "R",
   "name": "ir"
  },
  "language_info": {
   "codemirror_mode": "r",
   "file_extension": ".r",
   "mimetype": "text/x-r-source",
   "name": "R",
   "pygments_lexer": "r",
   "version": "4.3.3"
  }
 },
 "nbformat": 4,
 "nbformat_minor": 5
}
