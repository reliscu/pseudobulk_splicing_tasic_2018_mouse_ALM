{
 "cells": [
  {
   "cell_type": "code",
   "execution_count": 1,
   "id": "dc32d0f1",
   "metadata": {
    "vscode": {
     "languageId": "r"
    }
   },
   "outputs": [
    {
     "name": "stderr",
     "output_type": "stream",
     "text": [
      "\n",
      "Attaching package: ‘dplyr’\n",
      "\n",
      "\n",
      "The following objects are masked from ‘package:stats’:\n",
      "\n",
      "    filter, lag\n",
      "\n",
      "\n",
      "The following objects are masked from ‘package:base’:\n",
      "\n",
      "    intersect, setdiff, setequal, union\n",
      "\n",
      "\n",
      "\n",
      "Attaching package: ‘data.table’\n",
      "\n",
      "\n",
      "The following objects are masked from ‘package:dplyr’:\n",
      "\n",
      "    between, first, last\n",
      "\n",
      "\n"
     ]
    }
   ],
   "source": [
    "library(dplyr)\n",
    "library(tidyr)\n",
    "library(tibble)\n",
    "library(qvalue)\n",
    "library(data.table)\n",
    "\n",
    "# library(msigdbr)\n",
    "\n",
    "source(\"/mnt/lareaulab/reliscu/code/fisher_test.R\")\n",
    "\n",
    "setwd(\"/mnt/lareaulab/reliscu/projects/NSF_GRFP/analyses/pseudobulk_test/tasic_2018/mouse_ALM\")"
   ]
  },
  {
   "cell_type": "markdown",
   "id": "47fcf9ad",
   "metadata": {},
   "source": [
    "Here I perform enrichment analysis to find modules enriched for cell type markers. These modules will later be used to correlate to exon PSI to find cell type-specific exons."
   ]
  },
  {
   "cell_type": "code",
   "execution_count": 3,
   "id": "d9fc4df1",
   "metadata": {
    "vscode": {
     "languageId": "r"
    }
   },
   "outputs": [],
   "source": [
    "# Get DE genes frome each cell type: pooled analysis\n",
    "pooled_res <- readRDS(\"data/tasic_2018_ALM_STAR_donor_cell_type_pseudobulk_1_vs_pooled_DE_genes_dream.RDS\")"
   ]
  },
  {
   "cell_type": "code",
   "execution_count": null,
   "id": "8d7b5e30",
   "metadata": {
    "vscode": {
     "languageId": "r"
    }
   },
   "outputs": [],
   "source": [
    "pval_threshold <- .05/length(pooled_res)\n",
    "\n",
    "ctype_genes <- lapply(pooled_res, function(df) {\n",
    "    mask <- (df['adj.P.Val'] < pval_threshold) & (abs(df['logFC']) > 2)\n",
    "    df[mask, 1]\n",
    "})\n",
    "names(ctype_genes) <- names(pooled_res) "
   ]
  },
  {
   "cell_type": "code",
   "execution_count": 15,
   "id": "53adf4f3",
   "metadata": {
    "vscode": {
     "languageId": "r"
    }
   },
   "outputs": [],
   "source": [
    "network_dir <- \"mouse_ACA_20pcntCells_0.4pcntVar_200samples_log2_Modules\""
   ]
  },
  {
   "cell_type": "code",
   "execution_count": 17,
   "id": "da30c5c6",
   "metadata": {
    "vscode": {
     "languageId": "r"
    }
   },
   "outputs": [],
   "source": [
    "# Traverse networks to get cell type enrichments for each module\n",
    "\n",
    "networks <- list.dirs(file.path(getwd(), network_dir), full.names=TRUE, recursive=FALSE)\n",
    "networks <- networks[lengths(lapply(networks, list.files)) > 0]\n",
    "\n",
    "network_enrichments <- lapply(seq_along(networks), function(i) {\n",
    "    \n",
    "    kme_file <- list.files(networks[i])[grep(\"kME\", list.files(networks[i]))]\n",
    "    kme <- fread(file.path(networks[i], kme_file), data.table=FALSE)\n",
    "    mod_col <- grep(\"PosFDR\", colnames(kme))\n",
    "    mod_genes <- tapply(kme$Gene, kme[,mod_col], list)\n",
    "    \n",
    "    if (length(mod_genes) > 0) {\n",
    "        all_genes <- kme$Gene\n",
    "\n",
    "        # For each module calculate enrichment for top kME genes\n",
    "        mod_enrichments <- lapply(mod_genes, function(mod) {\n",
    "            lapply(unlist(lapply(ctype_genes, function(set) {\n",
    "                fisher_test(set, mod, all=all_genes)\n",
    "            })), c)\n",
    "        })\n",
    "        \n",
    "        network_id <- sapply(strsplit(networks[i], \"/\"), function(x) x[length(x)])\n",
    "        mod_enrichments_df <- reshape2::melt(mod_enrichments)\n",
    "        colnames(mod_enrichments_df) <- c(\"Pval\", \"Cell_type\", \"Module\")\n",
    "        \n",
    "        me_file <- list.files(networks[i])[grep(\"eigengene\", list.files(networks[i]))]\n",
    "        \n",
    "        data.frame(\n",
    "            Network=network_id,\n",
    "            kME_path=file.path(networks[i], kme_file),\n",
    "            ME_path=file.path(networks[i], me_file),\n",
    "            mod_enrichments_df\n",
    "        )\n",
    "    }\n",
    "    \n",
    "})\n",
    "enrichments_df <- do.call(rbind, network_enrichments)"
   ]
  },
  {
   "cell_type": "code",
   "execution_count": null,
   "id": "a07f1116",
   "metadata": {
    "vscode": {
     "languageId": "r"
    }
   },
   "outputs": [],
   "source": [
    "enrichments_df$Qval <- qvalue(enrichments_df$Pval)$qvalue"
   ]
  },
  {
   "cell_type": "code",
   "execution_count": null,
   "id": "c7411268",
   "metadata": {
    "vscode": {
     "languageId": "r"
    }
   },
   "outputs": [],
   "source": [
    "# Get most enriched cell type for each module\n",
    "# If cell type is most enriched in multiple modules, choose module with smallest p-value\n",
    "\n",
    "top_mods_df <- all_enrichments_df %>%\n",
    "    group_by(Network, Module) %>%\n",
    "    slice_min(Qval) %>%\n",
    "    group_by(Cell_type) %>%\n",
    "    slice_min(Qval) %>%\n",
    "    filter(Qval < .05) %>%\n",
    "    arrange(Qval)"
   ]
  },
  {
   "cell_type": "code",
   "execution_count": null,
   "id": "a5b01f8f",
   "metadata": {
    "vscode": {
     "languageId": "r"
    }
   },
   "outputs": [],
   "source": [
    "head(top_mods_df)"
   ]
  }
 ],
 "metadata": {
  "kernelspec": {
   "display_name": "R",
   "language": "R",
   "name": "ir"
  },
  "language_info": {
   "codemirror_mode": "r",
   "file_extension": ".r",
   "mimetype": "text/x-r-source",
   "name": "R",
   "pygments_lexer": "r",
   "version": "4.3.3"
  }
 },
 "nbformat": 4,
 "nbformat_minor": 5
}
