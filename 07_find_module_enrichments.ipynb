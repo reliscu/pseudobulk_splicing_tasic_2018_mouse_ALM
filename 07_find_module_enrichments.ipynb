{
 "cells": [
  {
   "cell_type": "code",
   "execution_count": null,
   "id": "dc32d0f1",
   "metadata": {
    "vscode": {
     "languageId": "r"
    }
   },
   "outputs": [],
   "source": [
    "library(dplyr)\n",
    "library(tidyr)\n",
    "library(tibble)\n",
    "library(qvalue)\n",
    "library(data.table)\n",
    "\n",
    "# library(msigdbr)\n",
    "\n",
    "source(\"/mnt/lareaulab/reliscu/code/fisher_test.R\")\n",
    "\n",
    "setwd(\"/mnt/lareaulab/reliscu/projects/NSF_GRFP/analyses/pseudobulk_test/tasic_2018/mouse_ALM\")"
   ]
  },
  {
   "cell_type": "markdown",
   "id": "47fcf9ad",
   "metadata": {},
   "source": [
    "Here I perform enrichment analysis to find modules enriched for cell type markers. These modules will later be used to correlate to exon PSI to find cell type-specific exons."
   ]
  },
  {
   "cell_type": "code",
   "execution_count": 3,
   "id": "d9fc4df1",
   "metadata": {
    "vscode": {
     "languageId": "r"
    }
   },
   "outputs": [],
   "source": [
    "# Get DE genes frome each cell type: pooled analysis\n",
    "pooled_res <- readRDS(\"data/tasic_2018_ALM_STAR_donor_cell_type_pseudobulk_1_vs_pooled_DE_genes_dream.RDS\")"
   ]
  },
  {
   "cell_type": "code",
   "execution_count": null,
   "id": "8d7b5e30",
   "metadata": {
    "vscode": {
     "languageId": "r"
    }
   },
   "outputs": [],
   "source": [
    "pval_threshold <- .05/length(pooled_res)\n",
    "\n",
    "ctype_genes <- lapply(pooled_res, function(df) {\n",
    "    mask <- (df['adj.P.Val'] < pval_threshold) & (abs(df['logFC']) > 2)\n",
    "    df[mask, 1]\n",
    "})\n",
    "names(ctype_genes) <- names(pooled_res) "
   ]
  },
  {
   "cell_type": "code",
   "execution_count": 15,
   "id": "53adf4f3",
   "metadata": {
    "vscode": {
     "languageId": "r"
    }
   },
   "outputs": [],
   "source": [
    "network_dir <- \"mouse_ACA_20pcntCells_0.4pcntVar_200samples_log2_Modules\""
   ]
  },
  {
   "cell_type": "code",
   "execution_count": null,
   "id": "da30c5c6",
   "metadata": {
    "vscode": {
     "languageId": "r"
    }
   },
   "outputs": [],
   "source": [
    "# Traverse networks to get cell type enrichments for each module\n",
    "\n",
    "networks <- list.dirs(file.path(getwd(), network_dir), full.names=TRUE, recursive=FALSE)\n",
    "networks <- networks[lengths(lapply(networks, list.files)) > 0]\n",
    "\n",
    "network_enrichments <- lapply(seq_along(networks), function(i) {\n",
    "    \n",
    "    kme_file <- list.files(networks[i])[grep(\"kME\", list.files(networks[i]))]\n",
    "    kme <- fread(file.path(networks[i], kme_file), data.table=FALSE)\n",
    "    mod_col <- grep(\"PosFDR\", colnames(kme))\n",
    "    mod_genes <- tapply(kme$Gene, kme[,mod_col], list)\n",
    "    \n",
    "    if (length(mod_genes) > 0) {\n",
    "        all_genes <- kme$Gene\n",
    "\n",
    "        # For each module calculate enrichment for top kME genes\n",
    "        mod_enrichments <- lapply(mod_genes, function(mod) {\n",
    "            lapply(unlist(lapply(ctype_genes, function(set) {\n",
    "                fisher_test(set, mod, all=all_genes)\n",
    "            })), c)\n",
    "        })\n",
    "        \n",
    "        network_id <- sapply(strsplit(networks[i], \"/\"), function(x) x[length(x)])\n",
    "        mod_enrichments_df <- reshape2::melt(mod_enrichments)\n",
    "        colnames(mod_enrichments_df) <- c(\"Pval\", \"Cell_type\", \"Module\")\n",
    "        \n",
    "        me_file <- list.files(networks[i])[grep(\"eigengene\", list.files(networks[i]))]\n",
    "        \n",
    "        data.frame(\n",
    "            Network=network_id,\n",
    "            kME_path=file.path(networks[i], kme_file),\n",
    "            ME_path=file.path(networks[i], me_file),\n",
    "            mod_enrichments_df\n",
    "        )\n",
    "    }\n",
    "    \n",
    "})\n",
    "enrichments_df <- do.call(rbind, network_enrichments)"
   ]
  },
  {
   "cell_type": "code",
   "execution_count": 18,
   "id": "a07f1116",
   "metadata": {
    "vscode": {
     "languageId": "r"
    }
   },
   "outputs": [],
   "source": [
    "enrichments_df$Qval <- qvalue(enrichments_df$Pval)$qvalue"
   ]
  },
  {
   "cell_type": "code",
   "execution_count": 21,
   "id": "c7411268",
   "metadata": {
    "vscode": {
     "languageId": "r"
    }
   },
   "outputs": [],
   "source": [
    "# Get most enriched cell type for each module\n",
    "# If cell type is most enriched in multiple modules, choose module with smallest p-value\n",
    "\n",
    "top_mods_df <- enrichments_df %>%\n",
    "    group_by(Network, Module) %>%\n",
    "    slice_min(Qval) %>%\n",
    "    group_by(Cell_type) %>%\n",
    "    slice_min(Qval) %>%\n",
    "    filter(Qval < .05) %>%\n",
    "    arrange(Qval)"
   ]
  },
  {
   "cell_type": "code",
   "execution_count": 23,
   "id": "33f3bdb4",
   "metadata": {
    "vscode": {
     "languageId": "r"
    }
   },
   "outputs": [
    {
     "data": {
      "text/html": [
       "<table class=\"dataframe\">\n",
       "<caption>A grouped_df: 20 × 7</caption>\n",
       "<thead>\n",
       "\t<tr><th scope=col>Network</th><th scope=col>kME_path</th><th scope=col>ME_path</th><th scope=col>Pval</th><th scope=col>Cell_type</th><th scope=col>Module</th><th scope=col>Qval</th></tr>\n",
       "\t<tr><th scope=col>&lt;chr&gt;</th><th scope=col>&lt;chr&gt;</th><th scope=col>&lt;chr&gt;</th><th scope=col>&lt;dbl&gt;</th><th scope=col>&lt;chr&gt;</th><th scope=col>&lt;chr&gt;</th><th scope=col>&lt;dbl&gt;</th></tr>\n",
       "</thead>\n",
       "<tbody>\n",
       "\t<tr><td>Bicor-None_signum0.325_minSize4_merge_ME_0.9_20151 </td><td>/mnt/lareaulab/reliscu/projects/NSF_GRFP/analyses/pseudobulk_test/tasic_2018/mouse_ALM/mouse_ACA_20pcntCells_0.4pcntVar_200samples_log2_Modules/Bicor-None_signum0.325_minSize4_merge_ME_0.9_20151/kME_table_06-44-39.csv </td><td>/mnt/lareaulab/reliscu/projects/NSF_GRFP/analyses/pseudobulk_test/tasic_2018/mouse_ALM/mouse_ACA_20pcntCells_0.4pcntVar_200samples_log2_Modules/Bicor-None_signum0.325_minSize4_merge_ME_0.9_20151/Module_eigengenes_06-44-39.csv </td><td>1.157541e-23</td><td>SMC       </td><td>pink          </td><td>8.894890e-19</td></tr>\n",
       "\t<tr><td>Bicor-None_signum0.586_minSize3_merge_ME_0.9_20151 </td><td>/mnt/lareaulab/reliscu/projects/NSF_GRFP/analyses/pseudobulk_test/tasic_2018/mouse_ALM/mouse_ACA_20pcntCells_0.4pcntVar_200samples_log2_Modules/Bicor-None_signum0.586_minSize3_merge_ME_0.9_20151/kME_table_06-18-43.csv </td><td>/mnt/lareaulab/reliscu/projects/NSF_GRFP/analyses/pseudobulk_test/tasic_2018/mouse_ALM/mouse_ACA_20pcntCells_0.4pcntVar_200samples_log2_Modules/Bicor-None_signum0.586_minSize3_merge_ME_0.9_20151/Module_eigengenes_06-18-43.csv </td><td>5.414983e-21</td><td>Endo      </td><td>blue          </td><td>3.782760e-17</td></tr>\n",
       "\t<tr><td>Bicor-None_signum0.586_minSize3_merge_ME_0.9_20151 </td><td>/mnt/lareaulab/reliscu/projects/NSF_GRFP/analyses/pseudobulk_test/tasic_2018/mouse_ALM/mouse_ACA_20pcntCells_0.4pcntVar_200samples_log2_Modules/Bicor-None_signum0.586_minSize3_merge_ME_0.9_20151/kME_table_06-18-43.csv </td><td>/mnt/lareaulab/reliscu/projects/NSF_GRFP/analyses/pseudobulk_test/tasic_2018/mouse_ALM/mouse_ACA_20pcntCells_0.4pcntVar_200samples_log2_Modules/Bicor-None_signum0.586_minSize3_merge_ME_0.9_20151/Module_eigengenes_06-18-43.csv </td><td>7.031158e-21</td><td>VLMC      </td><td>magenta       </td><td>4.502461e-17</td></tr>\n",
       "\t<tr><td>Bicor-None_signum0.586_minSize6_merge_ME_0.9_20151 </td><td>/mnt/lareaulab/reliscu/projects/NSF_GRFP/analyses/pseudobulk_test/tasic_2018/mouse_ALM/mouse_ACA_20pcntCells_0.4pcntVar_200samples_log2_Modules/Bicor-None_signum0.586_minSize6_merge_ME_0.9_20151/kME_table_06-37-30.csv </td><td>/mnt/lareaulab/reliscu/projects/NSF_GRFP/analyses/pseudobulk_test/tasic_2018/mouse_ALM/mouse_ACA_20pcntCells_0.4pcntVar_200samples_log2_Modules/Bicor-None_signum0.586_minSize6_merge_ME_0.9_20151/Module_eigengenes_06-37-30.csv </td><td>8.146626e-20</td><td>L2_3_IT   </td><td>grey60        </td><td>2.721788e-16</td></tr>\n",
       "\t<tr><td>Bicor-None_signum0.325_minSize4_merge_ME_0.9_20151 </td><td>/mnt/lareaulab/reliscu/projects/NSF_GRFP/analyses/pseudobulk_test/tasic_2018/mouse_ALM/mouse_ACA_20pcntCells_0.4pcntVar_200samples_log2_Modules/Bicor-None_signum0.325_minSize4_merge_ME_0.9_20151/kME_table_06-44-39.csv </td><td>/mnt/lareaulab/reliscu/projects/NSF_GRFP/analyses/pseudobulk_test/tasic_2018/mouse_ALM/mouse_ACA_20pcntCells_0.4pcntVar_200samples_log2_Modules/Bicor-None_signum0.325_minSize4_merge_ME_0.9_20151/Module_eigengenes_06-44-39.csv </td><td>8.103133e-20</td><td>L6_CT     </td><td>darkgreen     </td><td>2.721788e-16</td></tr>\n",
       "\t<tr><td>Bicor-None_signum0.325_minSize8_merge_ME_0.9_20151 </td><td>/mnt/lareaulab/reliscu/projects/NSF_GRFP/analyses/pseudobulk_test/tasic_2018/mouse_ALM/mouse_ACA_20pcntCells_0.4pcntVar_200samples_log2_Modules/Bicor-None_signum0.325_minSize8_merge_ME_0.9_20151/kME_table_07-19-33.csv </td><td>/mnt/lareaulab/reliscu/projects/NSF_GRFP/analyses/pseudobulk_test/tasic_2018/mouse_ALM/mouse_ACA_20pcntCells_0.4pcntVar_200samples_log2_Modules/Bicor-None_signum0.325_minSize8_merge_ME_0.9_20151/Module_eigengenes_07-19-33.csv </td><td>2.937406e-19</td><td>Oligo     </td><td>green         </td><td>8.359966e-16</td></tr>\n",
       "\t<tr><td>Bicor-None_signum0.325_minSize4_merge_ME_0.9_20151 </td><td>/mnt/lareaulab/reliscu/projects/NSF_GRFP/analyses/pseudobulk_test/tasic_2018/mouse_ALM/mouse_ACA_20pcntCells_0.4pcntVar_200samples_log2_Modules/Bicor-None_signum0.325_minSize4_merge_ME_0.9_20151/kME_table_06-44-39.csv </td><td>/mnt/lareaulab/reliscu/projects/NSF_GRFP/analyses/pseudobulk_test/tasic_2018/mouse_ALM/mouse_ACA_20pcntCells_0.4pcntVar_200samples_log2_Modules/Bicor-None_signum0.325_minSize4_merge_ME_0.9_20151/Module_eigengenes_06-44-39.csv </td><td>9.925497e-19</td><td>Macrophage</td><td>yellow        </td><td>2.079642e-15</td></tr>\n",
       "\t<tr><td>Bicor-None_signum0.325_minSize4_merge_ME_0.9_20151 </td><td>/mnt/lareaulab/reliscu/projects/NSF_GRFP/analyses/pseudobulk_test/tasic_2018/mouse_ALM/mouse_ACA_20pcntCells_0.4pcntVar_200samples_log2_Modules/Bicor-None_signum0.325_minSize4_merge_ME_0.9_20151/kME_table_06-44-39.csv </td><td>/mnt/lareaulab/reliscu/projects/NSF_GRFP/analyses/pseudobulk_test/tasic_2018/mouse_ALM/mouse_ACA_20pcntCells_0.4pcntVar_200samples_log2_Modules/Bicor-None_signum0.325_minSize4_merge_ME_0.9_20151/Module_eigengenes_06-44-39.csv </td><td>1.998026e-17</td><td>L5_PT     </td><td>salmon        </td><td>2.193348e-14</td></tr>\n",
       "\t<tr><td>Bicor-None_signum0.255_minSize6_merge_ME_0.9_20151 </td><td>/mnt/lareaulab/reliscu/projects/NSF_GRFP/analyses/pseudobulk_test/tasic_2018/mouse_ALM/mouse_ACA_20pcntCells_0.4pcntVar_200samples_log2_Modules/Bicor-None_signum0.255_minSize6_merge_ME_0.9_20151/kME_table_07-34-15.csv </td><td>/mnt/lareaulab/reliscu/projects/NSF_GRFP/analyses/pseudobulk_test/tasic_2018/mouse_ALM/mouse_ACA_20pcntCells_0.4pcntVar_200samples_log2_Modules/Bicor-None_signum0.255_minSize6_merge_ME_0.9_20151/Module_eigengenes_07-34-15.csv </td><td>8.239277e-17</td><td>NP        </td><td>brown         </td><td>6.268622e-14</td></tr>\n",
       "\t<tr><td>Bicor-None_signum0.325_minSize6_merge_ME_0.9_20151 </td><td>/mnt/lareaulab/reliscu/projects/NSF_GRFP/analyses/pseudobulk_test/tasic_2018/mouse_ALM/mouse_ACA_20pcntCells_0.4pcntVar_200samples_log2_Modules/Bicor-None_signum0.325_minSize6_merge_ME_0.9_20151/kME_table_07-07-10.csv </td><td>/mnt/lareaulab/reliscu/projects/NSF_GRFP/analyses/pseudobulk_test/tasic_2018/mouse_ALM/mouse_ACA_20pcntCells_0.4pcntVar_200samples_log2_Modules/Bicor-None_signum0.325_minSize6_merge_ME_0.9_20151/Module_eigengenes_07-07-10.csv </td><td>8.239277e-17</td><td>NP        </td><td>brown         </td><td>6.268622e-14</td></tr>\n",
       "\t<tr><td>Bicor-None_signum0.219_minSize6_merge_ME_0.9_20151 </td><td>/mnt/lareaulab/reliscu/projects/NSF_GRFP/analyses/pseudobulk_test/tasic_2018/mouse_ALM/mouse_ACA_20pcntCells_0.4pcntVar_200samples_log2_Modules/Bicor-None_signum0.219_minSize6_merge_ME_0.9_20151/kME_table_08-09-19.csv </td><td>/mnt/lareaulab/reliscu/projects/NSF_GRFP/analyses/pseudobulk_test/tasic_2018/mouse_ALM/mouse_ACA_20pcntCells_0.4pcntVar_200samples_log2_Modules/Bicor-None_signum0.219_minSize6_merge_ME_0.9_20151/Module_eigengenes_08-09-19.csv </td><td>1.179750e-16</td><td>Astro     </td><td>turquoise     </td><td>8.633862e-14</td></tr>\n",
       "\t<tr><td>Bicor-None_signum0.325_minSize10_merge_ME_0.9_20151</td><td>/mnt/lareaulab/reliscu/projects/NSF_GRFP/analyses/pseudobulk_test/tasic_2018/mouse_ALM/mouse_ACA_20pcntCells_0.4pcntVar_200samples_log2_Modules/Bicor-None_signum0.325_minSize10_merge_ME_0.9_20151/kME_table_07-26-22.csv</td><td>/mnt/lareaulab/reliscu/projects/NSF_GRFP/analyses/pseudobulk_test/tasic_2018/mouse_ALM/mouse_ACA_20pcntCells_0.4pcntVar_200samples_log2_Modules/Bicor-None_signum0.325_minSize10_merge_ME_0.9_20151/Module_eigengenes_07-26-22.csv</td><td>2.553242e-11</td><td>Pvalb     </td><td>midnightblue  </td><td>9.125526e-09</td></tr>\n",
       "\t<tr><td>Bicor-None_signum0.586_minSize8_merge_ME_0.9_20151 </td><td>/mnt/lareaulab/reliscu/projects/NSF_GRFP/analyses/pseudobulk_test/tasic_2018/mouse_ALM/mouse_ACA_20pcntCells_0.4pcntVar_200samples_log2_Modules/Bicor-None_signum0.586_minSize8_merge_ME_0.9_20151/kME_table_06-40-23.csv </td><td>/mnt/lareaulab/reliscu/projects/NSF_GRFP/analyses/pseudobulk_test/tasic_2018/mouse_ALM/mouse_ACA_20pcntCells_0.4pcntVar_200samples_log2_Modules/Bicor-None_signum0.586_minSize8_merge_ME_0.9_20151/Module_eigengenes_06-40-23.csv </td><td>1.333645e-10</td><td>Vip       </td><td>darkorange    </td><td>4.494793e-08</td></tr>\n",
       "\t<tr><td>Bicor-None_signum0.325_minSize8_merge_ME_0.9_20151 </td><td>/mnt/lareaulab/reliscu/projects/NSF_GRFP/analyses/pseudobulk_test/tasic_2018/mouse_ALM/mouse_ACA_20pcntCells_0.4pcntVar_200samples_log2_Modules/Bicor-None_signum0.325_minSize8_merge_ME_0.9_20151/kME_table_07-19-33.csv </td><td>/mnt/lareaulab/reliscu/projects/NSF_GRFP/analyses/pseudobulk_test/tasic_2018/mouse_ALM/mouse_ACA_20pcntCells_0.4pcntVar_200samples_log2_Modules/Bicor-None_signum0.325_minSize8_merge_ME_0.9_20151/Module_eigengenes_07-19-33.csv </td><td>5.276892e-10</td><td>Lamp5     </td><td>mediumpurple4 </td><td>1.725499e-07</td></tr>\n",
       "\t<tr><td>Bicor-None_signum0.325_minSize4_merge_ME_0.9_20151 </td><td>/mnt/lareaulab/reliscu/projects/NSF_GRFP/analyses/pseudobulk_test/tasic_2018/mouse_ALM/mouse_ACA_20pcntCells_0.4pcntVar_200samples_log2_Modules/Bicor-None_signum0.325_minSize4_merge_ME_0.9_20151/kME_table_06-44-39.csv </td><td>/mnt/lareaulab/reliscu/projects/NSF_GRFP/analyses/pseudobulk_test/tasic_2018/mouse_ALM/mouse_ACA_20pcntCells_0.4pcntVar_200samples_log2_Modules/Bicor-None_signum0.325_minSize4_merge_ME_0.9_20151/Module_eigengenes_06-44-39.csv </td><td>1.345042e-09</td><td>L6b       </td><td>lavenderblush2</td><td>4.235944e-07</td></tr>\n",
       "\t<tr><td>Bicor-None_signum0.325_minSize6_merge_ME_0.9_20151 </td><td>/mnt/lareaulab/reliscu/projects/NSF_GRFP/analyses/pseudobulk_test/tasic_2018/mouse_ALM/mouse_ACA_20pcntCells_0.4pcntVar_200samples_log2_Modules/Bicor-None_signum0.325_minSize6_merge_ME_0.9_20151/kME_table_07-07-10.csv </td><td>/mnt/lareaulab/reliscu/projects/NSF_GRFP/analyses/pseudobulk_test/tasic_2018/mouse_ALM/mouse_ACA_20pcntCells_0.4pcntVar_200samples_log2_Modules/Bicor-None_signum0.325_minSize6_merge_ME_0.9_20151/Module_eigengenes_07-07-10.csv </td><td>1.366010e-09</td><td>L5_IT     </td><td>mediumpurple4 </td><td>4.267005e-07</td></tr>\n",
       "\t<tr><td>Bicor-None_signum0.255_minSize6_merge_ME_0.9_20151 </td><td>/mnt/lareaulab/reliscu/projects/NSF_GRFP/analyses/pseudobulk_test/tasic_2018/mouse_ALM/mouse_ACA_20pcntCells_0.4pcntVar_200samples_log2_Modules/Bicor-None_signum0.255_minSize6_merge_ME_0.9_20151/kME_table_07-34-15.csv </td><td>/mnt/lareaulab/reliscu/projects/NSF_GRFP/analyses/pseudobulk_test/tasic_2018/mouse_ALM/mouse_ACA_20pcntCells_0.4pcntVar_200samples_log2_Modules/Bicor-None_signum0.255_minSize6_merge_ME_0.9_20151/Module_eigengenes_07-34-15.csv </td><td>2.923722e-08</td><td>Sst       </td><td>mintcream     </td><td>8.110742e-06</td></tr>\n",
       "\t<tr><td>Bicor-None_signum0.325_minSize4_merge_ME_0.9_20151 </td><td>/mnt/lareaulab/reliscu/projects/NSF_GRFP/analyses/pseudobulk_test/tasic_2018/mouse_ALM/mouse_ACA_20pcntCells_0.4pcntVar_200samples_log2_Modules/Bicor-None_signum0.325_minSize4_merge_ME_0.9_20151/kME_table_06-44-39.csv </td><td>/mnt/lareaulab/reliscu/projects/NSF_GRFP/analyses/pseudobulk_test/tasic_2018/mouse_ALM/mouse_ACA_20pcntCells_0.4pcntVar_200samples_log2_Modules/Bicor-None_signum0.325_minSize4_merge_ME_0.9_20151/Module_eigengenes_06-44-39.csv </td><td>5.584833e-07</td><td>Serpinf1  </td><td>khaki1        </td><td>1.416354e-04</td></tr>\n",
       "\t<tr><td>Bicor-None_signum0.325_minSize4_merge_ME_0.9_20151 </td><td>/mnt/lareaulab/reliscu/projects/NSF_GRFP/analyses/pseudobulk_test/tasic_2018/mouse_ALM/mouse_ACA_20pcntCells_0.4pcntVar_200samples_log2_Modules/Bicor-None_signum0.325_minSize4_merge_ME_0.9_20151/kME_table_06-44-39.csv </td><td>/mnt/lareaulab/reliscu/projects/NSF_GRFP/analyses/pseudobulk_test/tasic_2018/mouse_ALM/mouse_ACA_20pcntCells_0.4pcntVar_200samples_log2_Modules/Bicor-None_signum0.325_minSize4_merge_ME_0.9_20151/Module_eigengenes_06-44-39.csv </td><td>1.387481e-05</td><td>Peri      </td><td>steelblue     </td><td>3.240676e-03</td></tr>\n",
       "\t<tr><td>Bicor-None_signum0.219_minSize6_merge_ME_0.9_20151 </td><td>/mnt/lareaulab/reliscu/projects/NSF_GRFP/analyses/pseudobulk_test/tasic_2018/mouse_ALM/mouse_ACA_20pcntCells_0.4pcntVar_200samples_log2_Modules/Bicor-None_signum0.219_minSize6_merge_ME_0.9_20151/kME_table_08-09-19.csv </td><td>/mnt/lareaulab/reliscu/projects/NSF_GRFP/analyses/pseudobulk_test/tasic_2018/mouse_ALM/mouse_ACA_20pcntCells_0.4pcntVar_200samples_log2_Modules/Bicor-None_signum0.219_minSize6_merge_ME_0.9_20151/Module_eigengenes_08-09-19.csv </td><td>1.896963e-04</td><td>L6_IT     </td><td>mediumpurple3 </td><td>3.929065e-02</td></tr>\n",
       "</tbody>\n",
       "</table>\n"
      ],
      "text/latex": [
       "A grouped\\_df: 20 × 7\n",
       "\\begin{tabular}{lllllll}\n",
       " Network & kME\\_path & ME\\_path & Pval & Cell\\_type & Module & Qval\\\\\n",
       " <chr> & <chr> & <chr> & <dbl> & <chr> & <chr> & <dbl>\\\\\n",
       "\\hline\n",
       "\t Bicor-None\\_signum0.325\\_minSize4\\_merge\\_ME\\_0.9\\_20151  & /mnt/lareaulab/reliscu/projects/NSF\\_GRFP/analyses/pseudobulk\\_test/tasic\\_2018/mouse\\_ALM/mouse\\_ACA\\_20pcntCells\\_0.4pcntVar\\_200samples\\_log2\\_Modules/Bicor-None\\_signum0.325\\_minSize4\\_merge\\_ME\\_0.9\\_20151/kME\\_table\\_06-44-39.csv  & /mnt/lareaulab/reliscu/projects/NSF\\_GRFP/analyses/pseudobulk\\_test/tasic\\_2018/mouse\\_ALM/mouse\\_ACA\\_20pcntCells\\_0.4pcntVar\\_200samples\\_log2\\_Modules/Bicor-None\\_signum0.325\\_minSize4\\_merge\\_ME\\_0.9\\_20151/Module\\_eigengenes\\_06-44-39.csv  & 1.157541e-23 & SMC        & pink           & 8.894890e-19\\\\\n",
       "\t Bicor-None\\_signum0.586\\_minSize3\\_merge\\_ME\\_0.9\\_20151  & /mnt/lareaulab/reliscu/projects/NSF\\_GRFP/analyses/pseudobulk\\_test/tasic\\_2018/mouse\\_ALM/mouse\\_ACA\\_20pcntCells\\_0.4pcntVar\\_200samples\\_log2\\_Modules/Bicor-None\\_signum0.586\\_minSize3\\_merge\\_ME\\_0.9\\_20151/kME\\_table\\_06-18-43.csv  & /mnt/lareaulab/reliscu/projects/NSF\\_GRFP/analyses/pseudobulk\\_test/tasic\\_2018/mouse\\_ALM/mouse\\_ACA\\_20pcntCells\\_0.4pcntVar\\_200samples\\_log2\\_Modules/Bicor-None\\_signum0.586\\_minSize3\\_merge\\_ME\\_0.9\\_20151/Module\\_eigengenes\\_06-18-43.csv  & 5.414983e-21 & Endo       & blue           & 3.782760e-17\\\\\n",
       "\t Bicor-None\\_signum0.586\\_minSize3\\_merge\\_ME\\_0.9\\_20151  & /mnt/lareaulab/reliscu/projects/NSF\\_GRFP/analyses/pseudobulk\\_test/tasic\\_2018/mouse\\_ALM/mouse\\_ACA\\_20pcntCells\\_0.4pcntVar\\_200samples\\_log2\\_Modules/Bicor-None\\_signum0.586\\_minSize3\\_merge\\_ME\\_0.9\\_20151/kME\\_table\\_06-18-43.csv  & /mnt/lareaulab/reliscu/projects/NSF\\_GRFP/analyses/pseudobulk\\_test/tasic\\_2018/mouse\\_ALM/mouse\\_ACA\\_20pcntCells\\_0.4pcntVar\\_200samples\\_log2\\_Modules/Bicor-None\\_signum0.586\\_minSize3\\_merge\\_ME\\_0.9\\_20151/Module\\_eigengenes\\_06-18-43.csv  & 7.031158e-21 & VLMC       & magenta        & 4.502461e-17\\\\\n",
       "\t Bicor-None\\_signum0.586\\_minSize6\\_merge\\_ME\\_0.9\\_20151  & /mnt/lareaulab/reliscu/projects/NSF\\_GRFP/analyses/pseudobulk\\_test/tasic\\_2018/mouse\\_ALM/mouse\\_ACA\\_20pcntCells\\_0.4pcntVar\\_200samples\\_log2\\_Modules/Bicor-None\\_signum0.586\\_minSize6\\_merge\\_ME\\_0.9\\_20151/kME\\_table\\_06-37-30.csv  & /mnt/lareaulab/reliscu/projects/NSF\\_GRFP/analyses/pseudobulk\\_test/tasic\\_2018/mouse\\_ALM/mouse\\_ACA\\_20pcntCells\\_0.4pcntVar\\_200samples\\_log2\\_Modules/Bicor-None\\_signum0.586\\_minSize6\\_merge\\_ME\\_0.9\\_20151/Module\\_eigengenes\\_06-37-30.csv  & 8.146626e-20 & L2\\_3\\_IT    & grey60         & 2.721788e-16\\\\\n",
       "\t Bicor-None\\_signum0.325\\_minSize4\\_merge\\_ME\\_0.9\\_20151  & /mnt/lareaulab/reliscu/projects/NSF\\_GRFP/analyses/pseudobulk\\_test/tasic\\_2018/mouse\\_ALM/mouse\\_ACA\\_20pcntCells\\_0.4pcntVar\\_200samples\\_log2\\_Modules/Bicor-None\\_signum0.325\\_minSize4\\_merge\\_ME\\_0.9\\_20151/kME\\_table\\_06-44-39.csv  & /mnt/lareaulab/reliscu/projects/NSF\\_GRFP/analyses/pseudobulk\\_test/tasic\\_2018/mouse\\_ALM/mouse\\_ACA\\_20pcntCells\\_0.4pcntVar\\_200samples\\_log2\\_Modules/Bicor-None\\_signum0.325\\_minSize4\\_merge\\_ME\\_0.9\\_20151/Module\\_eigengenes\\_06-44-39.csv  & 8.103133e-20 & L6\\_CT      & darkgreen      & 2.721788e-16\\\\\n",
       "\t Bicor-None\\_signum0.325\\_minSize8\\_merge\\_ME\\_0.9\\_20151  & /mnt/lareaulab/reliscu/projects/NSF\\_GRFP/analyses/pseudobulk\\_test/tasic\\_2018/mouse\\_ALM/mouse\\_ACA\\_20pcntCells\\_0.4pcntVar\\_200samples\\_log2\\_Modules/Bicor-None\\_signum0.325\\_minSize8\\_merge\\_ME\\_0.9\\_20151/kME\\_table\\_07-19-33.csv  & /mnt/lareaulab/reliscu/projects/NSF\\_GRFP/analyses/pseudobulk\\_test/tasic\\_2018/mouse\\_ALM/mouse\\_ACA\\_20pcntCells\\_0.4pcntVar\\_200samples\\_log2\\_Modules/Bicor-None\\_signum0.325\\_minSize8\\_merge\\_ME\\_0.9\\_20151/Module\\_eigengenes\\_07-19-33.csv  & 2.937406e-19 & Oligo      & green          & 8.359966e-16\\\\\n",
       "\t Bicor-None\\_signum0.325\\_minSize4\\_merge\\_ME\\_0.9\\_20151  & /mnt/lareaulab/reliscu/projects/NSF\\_GRFP/analyses/pseudobulk\\_test/tasic\\_2018/mouse\\_ALM/mouse\\_ACA\\_20pcntCells\\_0.4pcntVar\\_200samples\\_log2\\_Modules/Bicor-None\\_signum0.325\\_minSize4\\_merge\\_ME\\_0.9\\_20151/kME\\_table\\_06-44-39.csv  & /mnt/lareaulab/reliscu/projects/NSF\\_GRFP/analyses/pseudobulk\\_test/tasic\\_2018/mouse\\_ALM/mouse\\_ACA\\_20pcntCells\\_0.4pcntVar\\_200samples\\_log2\\_Modules/Bicor-None\\_signum0.325\\_minSize4\\_merge\\_ME\\_0.9\\_20151/Module\\_eigengenes\\_06-44-39.csv  & 9.925497e-19 & Macrophage & yellow         & 2.079642e-15\\\\\n",
       "\t Bicor-None\\_signum0.325\\_minSize4\\_merge\\_ME\\_0.9\\_20151  & /mnt/lareaulab/reliscu/projects/NSF\\_GRFP/analyses/pseudobulk\\_test/tasic\\_2018/mouse\\_ALM/mouse\\_ACA\\_20pcntCells\\_0.4pcntVar\\_200samples\\_log2\\_Modules/Bicor-None\\_signum0.325\\_minSize4\\_merge\\_ME\\_0.9\\_20151/kME\\_table\\_06-44-39.csv  & /mnt/lareaulab/reliscu/projects/NSF\\_GRFP/analyses/pseudobulk\\_test/tasic\\_2018/mouse\\_ALM/mouse\\_ACA\\_20pcntCells\\_0.4pcntVar\\_200samples\\_log2\\_Modules/Bicor-None\\_signum0.325\\_minSize4\\_merge\\_ME\\_0.9\\_20151/Module\\_eigengenes\\_06-44-39.csv  & 1.998026e-17 & L5\\_PT      & salmon         & 2.193348e-14\\\\\n",
       "\t Bicor-None\\_signum0.255\\_minSize6\\_merge\\_ME\\_0.9\\_20151  & /mnt/lareaulab/reliscu/projects/NSF\\_GRFP/analyses/pseudobulk\\_test/tasic\\_2018/mouse\\_ALM/mouse\\_ACA\\_20pcntCells\\_0.4pcntVar\\_200samples\\_log2\\_Modules/Bicor-None\\_signum0.255\\_minSize6\\_merge\\_ME\\_0.9\\_20151/kME\\_table\\_07-34-15.csv  & /mnt/lareaulab/reliscu/projects/NSF\\_GRFP/analyses/pseudobulk\\_test/tasic\\_2018/mouse\\_ALM/mouse\\_ACA\\_20pcntCells\\_0.4pcntVar\\_200samples\\_log2\\_Modules/Bicor-None\\_signum0.255\\_minSize6\\_merge\\_ME\\_0.9\\_20151/Module\\_eigengenes\\_07-34-15.csv  & 8.239277e-17 & NP         & brown          & 6.268622e-14\\\\\n",
       "\t Bicor-None\\_signum0.325\\_minSize6\\_merge\\_ME\\_0.9\\_20151  & /mnt/lareaulab/reliscu/projects/NSF\\_GRFP/analyses/pseudobulk\\_test/tasic\\_2018/mouse\\_ALM/mouse\\_ACA\\_20pcntCells\\_0.4pcntVar\\_200samples\\_log2\\_Modules/Bicor-None\\_signum0.325\\_minSize6\\_merge\\_ME\\_0.9\\_20151/kME\\_table\\_07-07-10.csv  & /mnt/lareaulab/reliscu/projects/NSF\\_GRFP/analyses/pseudobulk\\_test/tasic\\_2018/mouse\\_ALM/mouse\\_ACA\\_20pcntCells\\_0.4pcntVar\\_200samples\\_log2\\_Modules/Bicor-None\\_signum0.325\\_minSize6\\_merge\\_ME\\_0.9\\_20151/Module\\_eigengenes\\_07-07-10.csv  & 8.239277e-17 & NP         & brown          & 6.268622e-14\\\\\n",
       "\t Bicor-None\\_signum0.219\\_minSize6\\_merge\\_ME\\_0.9\\_20151  & /mnt/lareaulab/reliscu/projects/NSF\\_GRFP/analyses/pseudobulk\\_test/tasic\\_2018/mouse\\_ALM/mouse\\_ACA\\_20pcntCells\\_0.4pcntVar\\_200samples\\_log2\\_Modules/Bicor-None\\_signum0.219\\_minSize6\\_merge\\_ME\\_0.9\\_20151/kME\\_table\\_08-09-19.csv  & /mnt/lareaulab/reliscu/projects/NSF\\_GRFP/analyses/pseudobulk\\_test/tasic\\_2018/mouse\\_ALM/mouse\\_ACA\\_20pcntCells\\_0.4pcntVar\\_200samples\\_log2\\_Modules/Bicor-None\\_signum0.219\\_minSize6\\_merge\\_ME\\_0.9\\_20151/Module\\_eigengenes\\_08-09-19.csv  & 1.179750e-16 & Astro      & turquoise      & 8.633862e-14\\\\\n",
       "\t Bicor-None\\_signum0.325\\_minSize10\\_merge\\_ME\\_0.9\\_20151 & /mnt/lareaulab/reliscu/projects/NSF\\_GRFP/analyses/pseudobulk\\_test/tasic\\_2018/mouse\\_ALM/mouse\\_ACA\\_20pcntCells\\_0.4pcntVar\\_200samples\\_log2\\_Modules/Bicor-None\\_signum0.325\\_minSize10\\_merge\\_ME\\_0.9\\_20151/kME\\_table\\_07-26-22.csv & /mnt/lareaulab/reliscu/projects/NSF\\_GRFP/analyses/pseudobulk\\_test/tasic\\_2018/mouse\\_ALM/mouse\\_ACA\\_20pcntCells\\_0.4pcntVar\\_200samples\\_log2\\_Modules/Bicor-None\\_signum0.325\\_minSize10\\_merge\\_ME\\_0.9\\_20151/Module\\_eigengenes\\_07-26-22.csv & 2.553242e-11 & Pvalb      & midnightblue   & 9.125526e-09\\\\\n",
       "\t Bicor-None\\_signum0.586\\_minSize8\\_merge\\_ME\\_0.9\\_20151  & /mnt/lareaulab/reliscu/projects/NSF\\_GRFP/analyses/pseudobulk\\_test/tasic\\_2018/mouse\\_ALM/mouse\\_ACA\\_20pcntCells\\_0.4pcntVar\\_200samples\\_log2\\_Modules/Bicor-None\\_signum0.586\\_minSize8\\_merge\\_ME\\_0.9\\_20151/kME\\_table\\_06-40-23.csv  & /mnt/lareaulab/reliscu/projects/NSF\\_GRFP/analyses/pseudobulk\\_test/tasic\\_2018/mouse\\_ALM/mouse\\_ACA\\_20pcntCells\\_0.4pcntVar\\_200samples\\_log2\\_Modules/Bicor-None\\_signum0.586\\_minSize8\\_merge\\_ME\\_0.9\\_20151/Module\\_eigengenes\\_06-40-23.csv  & 1.333645e-10 & Vip        & darkorange     & 4.494793e-08\\\\\n",
       "\t Bicor-None\\_signum0.325\\_minSize8\\_merge\\_ME\\_0.9\\_20151  & /mnt/lareaulab/reliscu/projects/NSF\\_GRFP/analyses/pseudobulk\\_test/tasic\\_2018/mouse\\_ALM/mouse\\_ACA\\_20pcntCells\\_0.4pcntVar\\_200samples\\_log2\\_Modules/Bicor-None\\_signum0.325\\_minSize8\\_merge\\_ME\\_0.9\\_20151/kME\\_table\\_07-19-33.csv  & /mnt/lareaulab/reliscu/projects/NSF\\_GRFP/analyses/pseudobulk\\_test/tasic\\_2018/mouse\\_ALM/mouse\\_ACA\\_20pcntCells\\_0.4pcntVar\\_200samples\\_log2\\_Modules/Bicor-None\\_signum0.325\\_minSize8\\_merge\\_ME\\_0.9\\_20151/Module\\_eigengenes\\_07-19-33.csv  & 5.276892e-10 & Lamp5      & mediumpurple4  & 1.725499e-07\\\\\n",
       "\t Bicor-None\\_signum0.325\\_minSize4\\_merge\\_ME\\_0.9\\_20151  & /mnt/lareaulab/reliscu/projects/NSF\\_GRFP/analyses/pseudobulk\\_test/tasic\\_2018/mouse\\_ALM/mouse\\_ACA\\_20pcntCells\\_0.4pcntVar\\_200samples\\_log2\\_Modules/Bicor-None\\_signum0.325\\_minSize4\\_merge\\_ME\\_0.9\\_20151/kME\\_table\\_06-44-39.csv  & /mnt/lareaulab/reliscu/projects/NSF\\_GRFP/analyses/pseudobulk\\_test/tasic\\_2018/mouse\\_ALM/mouse\\_ACA\\_20pcntCells\\_0.4pcntVar\\_200samples\\_log2\\_Modules/Bicor-None\\_signum0.325\\_minSize4\\_merge\\_ME\\_0.9\\_20151/Module\\_eigengenes\\_06-44-39.csv  & 1.345042e-09 & L6b        & lavenderblush2 & 4.235944e-07\\\\\n",
       "\t Bicor-None\\_signum0.325\\_minSize6\\_merge\\_ME\\_0.9\\_20151  & /mnt/lareaulab/reliscu/projects/NSF\\_GRFP/analyses/pseudobulk\\_test/tasic\\_2018/mouse\\_ALM/mouse\\_ACA\\_20pcntCells\\_0.4pcntVar\\_200samples\\_log2\\_Modules/Bicor-None\\_signum0.325\\_minSize6\\_merge\\_ME\\_0.9\\_20151/kME\\_table\\_07-07-10.csv  & /mnt/lareaulab/reliscu/projects/NSF\\_GRFP/analyses/pseudobulk\\_test/tasic\\_2018/mouse\\_ALM/mouse\\_ACA\\_20pcntCells\\_0.4pcntVar\\_200samples\\_log2\\_Modules/Bicor-None\\_signum0.325\\_minSize6\\_merge\\_ME\\_0.9\\_20151/Module\\_eigengenes\\_07-07-10.csv  & 1.366010e-09 & L5\\_IT      & mediumpurple4  & 4.267005e-07\\\\\n",
       "\t Bicor-None\\_signum0.255\\_minSize6\\_merge\\_ME\\_0.9\\_20151  & /mnt/lareaulab/reliscu/projects/NSF\\_GRFP/analyses/pseudobulk\\_test/tasic\\_2018/mouse\\_ALM/mouse\\_ACA\\_20pcntCells\\_0.4pcntVar\\_200samples\\_log2\\_Modules/Bicor-None\\_signum0.255\\_minSize6\\_merge\\_ME\\_0.9\\_20151/kME\\_table\\_07-34-15.csv  & /mnt/lareaulab/reliscu/projects/NSF\\_GRFP/analyses/pseudobulk\\_test/tasic\\_2018/mouse\\_ALM/mouse\\_ACA\\_20pcntCells\\_0.4pcntVar\\_200samples\\_log2\\_Modules/Bicor-None\\_signum0.255\\_minSize6\\_merge\\_ME\\_0.9\\_20151/Module\\_eigengenes\\_07-34-15.csv  & 2.923722e-08 & Sst        & mintcream      & 8.110742e-06\\\\\n",
       "\t Bicor-None\\_signum0.325\\_minSize4\\_merge\\_ME\\_0.9\\_20151  & /mnt/lareaulab/reliscu/projects/NSF\\_GRFP/analyses/pseudobulk\\_test/tasic\\_2018/mouse\\_ALM/mouse\\_ACA\\_20pcntCells\\_0.4pcntVar\\_200samples\\_log2\\_Modules/Bicor-None\\_signum0.325\\_minSize4\\_merge\\_ME\\_0.9\\_20151/kME\\_table\\_06-44-39.csv  & /mnt/lareaulab/reliscu/projects/NSF\\_GRFP/analyses/pseudobulk\\_test/tasic\\_2018/mouse\\_ALM/mouse\\_ACA\\_20pcntCells\\_0.4pcntVar\\_200samples\\_log2\\_Modules/Bicor-None\\_signum0.325\\_minSize4\\_merge\\_ME\\_0.9\\_20151/Module\\_eigengenes\\_06-44-39.csv  & 5.584833e-07 & Serpinf1   & khaki1         & 1.416354e-04\\\\\n",
       "\t Bicor-None\\_signum0.325\\_minSize4\\_merge\\_ME\\_0.9\\_20151  & /mnt/lareaulab/reliscu/projects/NSF\\_GRFP/analyses/pseudobulk\\_test/tasic\\_2018/mouse\\_ALM/mouse\\_ACA\\_20pcntCells\\_0.4pcntVar\\_200samples\\_log2\\_Modules/Bicor-None\\_signum0.325\\_minSize4\\_merge\\_ME\\_0.9\\_20151/kME\\_table\\_06-44-39.csv  & /mnt/lareaulab/reliscu/projects/NSF\\_GRFP/analyses/pseudobulk\\_test/tasic\\_2018/mouse\\_ALM/mouse\\_ACA\\_20pcntCells\\_0.4pcntVar\\_200samples\\_log2\\_Modules/Bicor-None\\_signum0.325\\_minSize4\\_merge\\_ME\\_0.9\\_20151/Module\\_eigengenes\\_06-44-39.csv  & 1.387481e-05 & Peri       & steelblue      & 3.240676e-03\\\\\n",
       "\t Bicor-None\\_signum0.219\\_minSize6\\_merge\\_ME\\_0.9\\_20151  & /mnt/lareaulab/reliscu/projects/NSF\\_GRFP/analyses/pseudobulk\\_test/tasic\\_2018/mouse\\_ALM/mouse\\_ACA\\_20pcntCells\\_0.4pcntVar\\_200samples\\_log2\\_Modules/Bicor-None\\_signum0.219\\_minSize6\\_merge\\_ME\\_0.9\\_20151/kME\\_table\\_08-09-19.csv  & /mnt/lareaulab/reliscu/projects/NSF\\_GRFP/analyses/pseudobulk\\_test/tasic\\_2018/mouse\\_ALM/mouse\\_ACA\\_20pcntCells\\_0.4pcntVar\\_200samples\\_log2\\_Modules/Bicor-None\\_signum0.219\\_minSize6\\_merge\\_ME\\_0.9\\_20151/Module\\_eigengenes\\_08-09-19.csv  & 1.896963e-04 & L6\\_IT      & mediumpurple3  & 3.929065e-02\\\\\n",
       "\\end{tabular}\n"
      ],
      "text/markdown": [
       "\n",
       "A grouped_df: 20 × 7\n",
       "\n",
       "| Network &lt;chr&gt; | kME_path &lt;chr&gt; | ME_path &lt;chr&gt; | Pval &lt;dbl&gt; | Cell_type &lt;chr&gt; | Module &lt;chr&gt; | Qval &lt;dbl&gt; |\n",
       "|---|---|---|---|---|---|---|\n",
       "| Bicor-None_signum0.325_minSize4_merge_ME_0.9_20151  | /mnt/lareaulab/reliscu/projects/NSF_GRFP/analyses/pseudobulk_test/tasic_2018/mouse_ALM/mouse_ACA_20pcntCells_0.4pcntVar_200samples_log2_Modules/Bicor-None_signum0.325_minSize4_merge_ME_0.9_20151/kME_table_06-44-39.csv  | /mnt/lareaulab/reliscu/projects/NSF_GRFP/analyses/pseudobulk_test/tasic_2018/mouse_ALM/mouse_ACA_20pcntCells_0.4pcntVar_200samples_log2_Modules/Bicor-None_signum0.325_minSize4_merge_ME_0.9_20151/Module_eigengenes_06-44-39.csv  | 1.157541e-23 | SMC        | pink           | 8.894890e-19 |\n",
       "| Bicor-None_signum0.586_minSize3_merge_ME_0.9_20151  | /mnt/lareaulab/reliscu/projects/NSF_GRFP/analyses/pseudobulk_test/tasic_2018/mouse_ALM/mouse_ACA_20pcntCells_0.4pcntVar_200samples_log2_Modules/Bicor-None_signum0.586_minSize3_merge_ME_0.9_20151/kME_table_06-18-43.csv  | /mnt/lareaulab/reliscu/projects/NSF_GRFP/analyses/pseudobulk_test/tasic_2018/mouse_ALM/mouse_ACA_20pcntCells_0.4pcntVar_200samples_log2_Modules/Bicor-None_signum0.586_minSize3_merge_ME_0.9_20151/Module_eigengenes_06-18-43.csv  | 5.414983e-21 | Endo       | blue           | 3.782760e-17 |\n",
       "| Bicor-None_signum0.586_minSize3_merge_ME_0.9_20151  | /mnt/lareaulab/reliscu/projects/NSF_GRFP/analyses/pseudobulk_test/tasic_2018/mouse_ALM/mouse_ACA_20pcntCells_0.4pcntVar_200samples_log2_Modules/Bicor-None_signum0.586_minSize3_merge_ME_0.9_20151/kME_table_06-18-43.csv  | /mnt/lareaulab/reliscu/projects/NSF_GRFP/analyses/pseudobulk_test/tasic_2018/mouse_ALM/mouse_ACA_20pcntCells_0.4pcntVar_200samples_log2_Modules/Bicor-None_signum0.586_minSize3_merge_ME_0.9_20151/Module_eigengenes_06-18-43.csv  | 7.031158e-21 | VLMC       | magenta        | 4.502461e-17 |\n",
       "| Bicor-None_signum0.586_minSize6_merge_ME_0.9_20151  | /mnt/lareaulab/reliscu/projects/NSF_GRFP/analyses/pseudobulk_test/tasic_2018/mouse_ALM/mouse_ACA_20pcntCells_0.4pcntVar_200samples_log2_Modules/Bicor-None_signum0.586_minSize6_merge_ME_0.9_20151/kME_table_06-37-30.csv  | /mnt/lareaulab/reliscu/projects/NSF_GRFP/analyses/pseudobulk_test/tasic_2018/mouse_ALM/mouse_ACA_20pcntCells_0.4pcntVar_200samples_log2_Modules/Bicor-None_signum0.586_minSize6_merge_ME_0.9_20151/Module_eigengenes_06-37-30.csv  | 8.146626e-20 | L2_3_IT    | grey60         | 2.721788e-16 |\n",
       "| Bicor-None_signum0.325_minSize4_merge_ME_0.9_20151  | /mnt/lareaulab/reliscu/projects/NSF_GRFP/analyses/pseudobulk_test/tasic_2018/mouse_ALM/mouse_ACA_20pcntCells_0.4pcntVar_200samples_log2_Modules/Bicor-None_signum0.325_minSize4_merge_ME_0.9_20151/kME_table_06-44-39.csv  | /mnt/lareaulab/reliscu/projects/NSF_GRFP/analyses/pseudobulk_test/tasic_2018/mouse_ALM/mouse_ACA_20pcntCells_0.4pcntVar_200samples_log2_Modules/Bicor-None_signum0.325_minSize4_merge_ME_0.9_20151/Module_eigengenes_06-44-39.csv  | 8.103133e-20 | L6_CT      | darkgreen      | 2.721788e-16 |\n",
       "| Bicor-None_signum0.325_minSize8_merge_ME_0.9_20151  | /mnt/lareaulab/reliscu/projects/NSF_GRFP/analyses/pseudobulk_test/tasic_2018/mouse_ALM/mouse_ACA_20pcntCells_0.4pcntVar_200samples_log2_Modules/Bicor-None_signum0.325_minSize8_merge_ME_0.9_20151/kME_table_07-19-33.csv  | /mnt/lareaulab/reliscu/projects/NSF_GRFP/analyses/pseudobulk_test/tasic_2018/mouse_ALM/mouse_ACA_20pcntCells_0.4pcntVar_200samples_log2_Modules/Bicor-None_signum0.325_minSize8_merge_ME_0.9_20151/Module_eigengenes_07-19-33.csv  | 2.937406e-19 | Oligo      | green          | 8.359966e-16 |\n",
       "| Bicor-None_signum0.325_minSize4_merge_ME_0.9_20151  | /mnt/lareaulab/reliscu/projects/NSF_GRFP/analyses/pseudobulk_test/tasic_2018/mouse_ALM/mouse_ACA_20pcntCells_0.4pcntVar_200samples_log2_Modules/Bicor-None_signum0.325_minSize4_merge_ME_0.9_20151/kME_table_06-44-39.csv  | /mnt/lareaulab/reliscu/projects/NSF_GRFP/analyses/pseudobulk_test/tasic_2018/mouse_ALM/mouse_ACA_20pcntCells_0.4pcntVar_200samples_log2_Modules/Bicor-None_signum0.325_minSize4_merge_ME_0.9_20151/Module_eigengenes_06-44-39.csv  | 9.925497e-19 | Macrophage | yellow         | 2.079642e-15 |\n",
       "| Bicor-None_signum0.325_minSize4_merge_ME_0.9_20151  | /mnt/lareaulab/reliscu/projects/NSF_GRFP/analyses/pseudobulk_test/tasic_2018/mouse_ALM/mouse_ACA_20pcntCells_0.4pcntVar_200samples_log2_Modules/Bicor-None_signum0.325_minSize4_merge_ME_0.9_20151/kME_table_06-44-39.csv  | /mnt/lareaulab/reliscu/projects/NSF_GRFP/analyses/pseudobulk_test/tasic_2018/mouse_ALM/mouse_ACA_20pcntCells_0.4pcntVar_200samples_log2_Modules/Bicor-None_signum0.325_minSize4_merge_ME_0.9_20151/Module_eigengenes_06-44-39.csv  | 1.998026e-17 | L5_PT      | salmon         | 2.193348e-14 |\n",
       "| Bicor-None_signum0.255_minSize6_merge_ME_0.9_20151  | /mnt/lareaulab/reliscu/projects/NSF_GRFP/analyses/pseudobulk_test/tasic_2018/mouse_ALM/mouse_ACA_20pcntCells_0.4pcntVar_200samples_log2_Modules/Bicor-None_signum0.255_minSize6_merge_ME_0.9_20151/kME_table_07-34-15.csv  | /mnt/lareaulab/reliscu/projects/NSF_GRFP/analyses/pseudobulk_test/tasic_2018/mouse_ALM/mouse_ACA_20pcntCells_0.4pcntVar_200samples_log2_Modules/Bicor-None_signum0.255_minSize6_merge_ME_0.9_20151/Module_eigengenes_07-34-15.csv  | 8.239277e-17 | NP         | brown          | 6.268622e-14 |\n",
       "| Bicor-None_signum0.325_minSize6_merge_ME_0.9_20151  | /mnt/lareaulab/reliscu/projects/NSF_GRFP/analyses/pseudobulk_test/tasic_2018/mouse_ALM/mouse_ACA_20pcntCells_0.4pcntVar_200samples_log2_Modules/Bicor-None_signum0.325_minSize6_merge_ME_0.9_20151/kME_table_07-07-10.csv  | /mnt/lareaulab/reliscu/projects/NSF_GRFP/analyses/pseudobulk_test/tasic_2018/mouse_ALM/mouse_ACA_20pcntCells_0.4pcntVar_200samples_log2_Modules/Bicor-None_signum0.325_minSize6_merge_ME_0.9_20151/Module_eigengenes_07-07-10.csv  | 8.239277e-17 | NP         | brown          | 6.268622e-14 |\n",
       "| Bicor-None_signum0.219_minSize6_merge_ME_0.9_20151  | /mnt/lareaulab/reliscu/projects/NSF_GRFP/analyses/pseudobulk_test/tasic_2018/mouse_ALM/mouse_ACA_20pcntCells_0.4pcntVar_200samples_log2_Modules/Bicor-None_signum0.219_minSize6_merge_ME_0.9_20151/kME_table_08-09-19.csv  | /mnt/lareaulab/reliscu/projects/NSF_GRFP/analyses/pseudobulk_test/tasic_2018/mouse_ALM/mouse_ACA_20pcntCells_0.4pcntVar_200samples_log2_Modules/Bicor-None_signum0.219_minSize6_merge_ME_0.9_20151/Module_eigengenes_08-09-19.csv  | 1.179750e-16 | Astro      | turquoise      | 8.633862e-14 |\n",
       "| Bicor-None_signum0.325_minSize10_merge_ME_0.9_20151 | /mnt/lareaulab/reliscu/projects/NSF_GRFP/analyses/pseudobulk_test/tasic_2018/mouse_ALM/mouse_ACA_20pcntCells_0.4pcntVar_200samples_log2_Modules/Bicor-None_signum0.325_minSize10_merge_ME_0.9_20151/kME_table_07-26-22.csv | /mnt/lareaulab/reliscu/projects/NSF_GRFP/analyses/pseudobulk_test/tasic_2018/mouse_ALM/mouse_ACA_20pcntCells_0.4pcntVar_200samples_log2_Modules/Bicor-None_signum0.325_minSize10_merge_ME_0.9_20151/Module_eigengenes_07-26-22.csv | 2.553242e-11 | Pvalb      | midnightblue   | 9.125526e-09 |\n",
       "| Bicor-None_signum0.586_minSize8_merge_ME_0.9_20151  | /mnt/lareaulab/reliscu/projects/NSF_GRFP/analyses/pseudobulk_test/tasic_2018/mouse_ALM/mouse_ACA_20pcntCells_0.4pcntVar_200samples_log2_Modules/Bicor-None_signum0.586_minSize8_merge_ME_0.9_20151/kME_table_06-40-23.csv  | /mnt/lareaulab/reliscu/projects/NSF_GRFP/analyses/pseudobulk_test/tasic_2018/mouse_ALM/mouse_ACA_20pcntCells_0.4pcntVar_200samples_log2_Modules/Bicor-None_signum0.586_minSize8_merge_ME_0.9_20151/Module_eigengenes_06-40-23.csv  | 1.333645e-10 | Vip        | darkorange     | 4.494793e-08 |\n",
       "| Bicor-None_signum0.325_minSize8_merge_ME_0.9_20151  | /mnt/lareaulab/reliscu/projects/NSF_GRFP/analyses/pseudobulk_test/tasic_2018/mouse_ALM/mouse_ACA_20pcntCells_0.4pcntVar_200samples_log2_Modules/Bicor-None_signum0.325_minSize8_merge_ME_0.9_20151/kME_table_07-19-33.csv  | /mnt/lareaulab/reliscu/projects/NSF_GRFP/analyses/pseudobulk_test/tasic_2018/mouse_ALM/mouse_ACA_20pcntCells_0.4pcntVar_200samples_log2_Modules/Bicor-None_signum0.325_minSize8_merge_ME_0.9_20151/Module_eigengenes_07-19-33.csv  | 5.276892e-10 | Lamp5      | mediumpurple4  | 1.725499e-07 |\n",
       "| Bicor-None_signum0.325_minSize4_merge_ME_0.9_20151  | /mnt/lareaulab/reliscu/projects/NSF_GRFP/analyses/pseudobulk_test/tasic_2018/mouse_ALM/mouse_ACA_20pcntCells_0.4pcntVar_200samples_log2_Modules/Bicor-None_signum0.325_minSize4_merge_ME_0.9_20151/kME_table_06-44-39.csv  | /mnt/lareaulab/reliscu/projects/NSF_GRFP/analyses/pseudobulk_test/tasic_2018/mouse_ALM/mouse_ACA_20pcntCells_0.4pcntVar_200samples_log2_Modules/Bicor-None_signum0.325_minSize4_merge_ME_0.9_20151/Module_eigengenes_06-44-39.csv  | 1.345042e-09 | L6b        | lavenderblush2 | 4.235944e-07 |\n",
       "| Bicor-None_signum0.325_minSize6_merge_ME_0.9_20151  | /mnt/lareaulab/reliscu/projects/NSF_GRFP/analyses/pseudobulk_test/tasic_2018/mouse_ALM/mouse_ACA_20pcntCells_0.4pcntVar_200samples_log2_Modules/Bicor-None_signum0.325_minSize6_merge_ME_0.9_20151/kME_table_07-07-10.csv  | /mnt/lareaulab/reliscu/projects/NSF_GRFP/analyses/pseudobulk_test/tasic_2018/mouse_ALM/mouse_ACA_20pcntCells_0.4pcntVar_200samples_log2_Modules/Bicor-None_signum0.325_minSize6_merge_ME_0.9_20151/Module_eigengenes_07-07-10.csv  | 1.366010e-09 | L5_IT      | mediumpurple4  | 4.267005e-07 |\n",
       "| Bicor-None_signum0.255_minSize6_merge_ME_0.9_20151  | /mnt/lareaulab/reliscu/projects/NSF_GRFP/analyses/pseudobulk_test/tasic_2018/mouse_ALM/mouse_ACA_20pcntCells_0.4pcntVar_200samples_log2_Modules/Bicor-None_signum0.255_minSize6_merge_ME_0.9_20151/kME_table_07-34-15.csv  | /mnt/lareaulab/reliscu/projects/NSF_GRFP/analyses/pseudobulk_test/tasic_2018/mouse_ALM/mouse_ACA_20pcntCells_0.4pcntVar_200samples_log2_Modules/Bicor-None_signum0.255_minSize6_merge_ME_0.9_20151/Module_eigengenes_07-34-15.csv  | 2.923722e-08 | Sst        | mintcream      | 8.110742e-06 |\n",
       "| Bicor-None_signum0.325_minSize4_merge_ME_0.9_20151  | /mnt/lareaulab/reliscu/projects/NSF_GRFP/analyses/pseudobulk_test/tasic_2018/mouse_ALM/mouse_ACA_20pcntCells_0.4pcntVar_200samples_log2_Modules/Bicor-None_signum0.325_minSize4_merge_ME_0.9_20151/kME_table_06-44-39.csv  | /mnt/lareaulab/reliscu/projects/NSF_GRFP/analyses/pseudobulk_test/tasic_2018/mouse_ALM/mouse_ACA_20pcntCells_0.4pcntVar_200samples_log2_Modules/Bicor-None_signum0.325_minSize4_merge_ME_0.9_20151/Module_eigengenes_06-44-39.csv  | 5.584833e-07 | Serpinf1   | khaki1         | 1.416354e-04 |\n",
       "| Bicor-None_signum0.325_minSize4_merge_ME_0.9_20151  | /mnt/lareaulab/reliscu/projects/NSF_GRFP/analyses/pseudobulk_test/tasic_2018/mouse_ALM/mouse_ACA_20pcntCells_0.4pcntVar_200samples_log2_Modules/Bicor-None_signum0.325_minSize4_merge_ME_0.9_20151/kME_table_06-44-39.csv  | /mnt/lareaulab/reliscu/projects/NSF_GRFP/analyses/pseudobulk_test/tasic_2018/mouse_ALM/mouse_ACA_20pcntCells_0.4pcntVar_200samples_log2_Modules/Bicor-None_signum0.325_minSize4_merge_ME_0.9_20151/Module_eigengenes_06-44-39.csv  | 1.387481e-05 | Peri       | steelblue      | 3.240676e-03 |\n",
       "| Bicor-None_signum0.219_minSize6_merge_ME_0.9_20151  | /mnt/lareaulab/reliscu/projects/NSF_GRFP/analyses/pseudobulk_test/tasic_2018/mouse_ALM/mouse_ACA_20pcntCells_0.4pcntVar_200samples_log2_Modules/Bicor-None_signum0.219_minSize6_merge_ME_0.9_20151/kME_table_08-09-19.csv  | /mnt/lareaulab/reliscu/projects/NSF_GRFP/analyses/pseudobulk_test/tasic_2018/mouse_ALM/mouse_ACA_20pcntCells_0.4pcntVar_200samples_log2_Modules/Bicor-None_signum0.219_minSize6_merge_ME_0.9_20151/Module_eigengenes_08-09-19.csv  | 1.896963e-04 | L6_IT      | mediumpurple3  | 3.929065e-02 |\n",
       "\n"
      ],
      "text/plain": [
       "   Network                                            \n",
       "1  Bicor-None_signum0.325_minSize4_merge_ME_0.9_20151 \n",
       "2  Bicor-None_signum0.586_minSize3_merge_ME_0.9_20151 \n",
       "3  Bicor-None_signum0.586_minSize3_merge_ME_0.9_20151 \n",
       "4  Bicor-None_signum0.586_minSize6_merge_ME_0.9_20151 \n",
       "5  Bicor-None_signum0.325_minSize4_merge_ME_0.9_20151 \n",
       "6  Bicor-None_signum0.325_minSize8_merge_ME_0.9_20151 \n",
       "7  Bicor-None_signum0.325_minSize4_merge_ME_0.9_20151 \n",
       "8  Bicor-None_signum0.325_minSize4_merge_ME_0.9_20151 \n",
       "9  Bicor-None_signum0.255_minSize6_merge_ME_0.9_20151 \n",
       "10 Bicor-None_signum0.325_minSize6_merge_ME_0.9_20151 \n",
       "11 Bicor-None_signum0.219_minSize6_merge_ME_0.9_20151 \n",
       "12 Bicor-None_signum0.325_minSize10_merge_ME_0.9_20151\n",
       "13 Bicor-None_signum0.586_minSize8_merge_ME_0.9_20151 \n",
       "14 Bicor-None_signum0.325_minSize8_merge_ME_0.9_20151 \n",
       "15 Bicor-None_signum0.325_minSize4_merge_ME_0.9_20151 \n",
       "16 Bicor-None_signum0.325_minSize6_merge_ME_0.9_20151 \n",
       "17 Bicor-None_signum0.255_minSize6_merge_ME_0.9_20151 \n",
       "18 Bicor-None_signum0.325_minSize4_merge_ME_0.9_20151 \n",
       "19 Bicor-None_signum0.325_minSize4_merge_ME_0.9_20151 \n",
       "20 Bicor-None_signum0.219_minSize6_merge_ME_0.9_20151 \n",
       "   kME_path                                                                                                                                                                                                                  \n",
       "1  /mnt/lareaulab/reliscu/projects/NSF_GRFP/analyses/pseudobulk_test/tasic_2018/mouse_ALM/mouse_ACA_20pcntCells_0.4pcntVar_200samples_log2_Modules/Bicor-None_signum0.325_minSize4_merge_ME_0.9_20151/kME_table_06-44-39.csv \n",
       "2  /mnt/lareaulab/reliscu/projects/NSF_GRFP/analyses/pseudobulk_test/tasic_2018/mouse_ALM/mouse_ACA_20pcntCells_0.4pcntVar_200samples_log2_Modules/Bicor-None_signum0.586_minSize3_merge_ME_0.9_20151/kME_table_06-18-43.csv \n",
       "3  /mnt/lareaulab/reliscu/projects/NSF_GRFP/analyses/pseudobulk_test/tasic_2018/mouse_ALM/mouse_ACA_20pcntCells_0.4pcntVar_200samples_log2_Modules/Bicor-None_signum0.586_minSize3_merge_ME_0.9_20151/kME_table_06-18-43.csv \n",
       "4  /mnt/lareaulab/reliscu/projects/NSF_GRFP/analyses/pseudobulk_test/tasic_2018/mouse_ALM/mouse_ACA_20pcntCells_0.4pcntVar_200samples_log2_Modules/Bicor-None_signum0.586_minSize6_merge_ME_0.9_20151/kME_table_06-37-30.csv \n",
       "5  /mnt/lareaulab/reliscu/projects/NSF_GRFP/analyses/pseudobulk_test/tasic_2018/mouse_ALM/mouse_ACA_20pcntCells_0.4pcntVar_200samples_log2_Modules/Bicor-None_signum0.325_minSize4_merge_ME_0.9_20151/kME_table_06-44-39.csv \n",
       "6  /mnt/lareaulab/reliscu/projects/NSF_GRFP/analyses/pseudobulk_test/tasic_2018/mouse_ALM/mouse_ACA_20pcntCells_0.4pcntVar_200samples_log2_Modules/Bicor-None_signum0.325_minSize8_merge_ME_0.9_20151/kME_table_07-19-33.csv \n",
       "7  /mnt/lareaulab/reliscu/projects/NSF_GRFP/analyses/pseudobulk_test/tasic_2018/mouse_ALM/mouse_ACA_20pcntCells_0.4pcntVar_200samples_log2_Modules/Bicor-None_signum0.325_minSize4_merge_ME_0.9_20151/kME_table_06-44-39.csv \n",
       "8  /mnt/lareaulab/reliscu/projects/NSF_GRFP/analyses/pseudobulk_test/tasic_2018/mouse_ALM/mouse_ACA_20pcntCells_0.4pcntVar_200samples_log2_Modules/Bicor-None_signum0.325_minSize4_merge_ME_0.9_20151/kME_table_06-44-39.csv \n",
       "9  /mnt/lareaulab/reliscu/projects/NSF_GRFP/analyses/pseudobulk_test/tasic_2018/mouse_ALM/mouse_ACA_20pcntCells_0.4pcntVar_200samples_log2_Modules/Bicor-None_signum0.255_minSize6_merge_ME_0.9_20151/kME_table_07-34-15.csv \n",
       "10 /mnt/lareaulab/reliscu/projects/NSF_GRFP/analyses/pseudobulk_test/tasic_2018/mouse_ALM/mouse_ACA_20pcntCells_0.4pcntVar_200samples_log2_Modules/Bicor-None_signum0.325_minSize6_merge_ME_0.9_20151/kME_table_07-07-10.csv \n",
       "11 /mnt/lareaulab/reliscu/projects/NSF_GRFP/analyses/pseudobulk_test/tasic_2018/mouse_ALM/mouse_ACA_20pcntCells_0.4pcntVar_200samples_log2_Modules/Bicor-None_signum0.219_minSize6_merge_ME_0.9_20151/kME_table_08-09-19.csv \n",
       "12 /mnt/lareaulab/reliscu/projects/NSF_GRFP/analyses/pseudobulk_test/tasic_2018/mouse_ALM/mouse_ACA_20pcntCells_0.4pcntVar_200samples_log2_Modules/Bicor-None_signum0.325_minSize10_merge_ME_0.9_20151/kME_table_07-26-22.csv\n",
       "13 /mnt/lareaulab/reliscu/projects/NSF_GRFP/analyses/pseudobulk_test/tasic_2018/mouse_ALM/mouse_ACA_20pcntCells_0.4pcntVar_200samples_log2_Modules/Bicor-None_signum0.586_minSize8_merge_ME_0.9_20151/kME_table_06-40-23.csv \n",
       "14 /mnt/lareaulab/reliscu/projects/NSF_GRFP/analyses/pseudobulk_test/tasic_2018/mouse_ALM/mouse_ACA_20pcntCells_0.4pcntVar_200samples_log2_Modules/Bicor-None_signum0.325_minSize8_merge_ME_0.9_20151/kME_table_07-19-33.csv \n",
       "15 /mnt/lareaulab/reliscu/projects/NSF_GRFP/analyses/pseudobulk_test/tasic_2018/mouse_ALM/mouse_ACA_20pcntCells_0.4pcntVar_200samples_log2_Modules/Bicor-None_signum0.325_minSize4_merge_ME_0.9_20151/kME_table_06-44-39.csv \n",
       "16 /mnt/lareaulab/reliscu/projects/NSF_GRFP/analyses/pseudobulk_test/tasic_2018/mouse_ALM/mouse_ACA_20pcntCells_0.4pcntVar_200samples_log2_Modules/Bicor-None_signum0.325_minSize6_merge_ME_0.9_20151/kME_table_07-07-10.csv \n",
       "17 /mnt/lareaulab/reliscu/projects/NSF_GRFP/analyses/pseudobulk_test/tasic_2018/mouse_ALM/mouse_ACA_20pcntCells_0.4pcntVar_200samples_log2_Modules/Bicor-None_signum0.255_minSize6_merge_ME_0.9_20151/kME_table_07-34-15.csv \n",
       "18 /mnt/lareaulab/reliscu/projects/NSF_GRFP/analyses/pseudobulk_test/tasic_2018/mouse_ALM/mouse_ACA_20pcntCells_0.4pcntVar_200samples_log2_Modules/Bicor-None_signum0.325_minSize4_merge_ME_0.9_20151/kME_table_06-44-39.csv \n",
       "19 /mnt/lareaulab/reliscu/projects/NSF_GRFP/analyses/pseudobulk_test/tasic_2018/mouse_ALM/mouse_ACA_20pcntCells_0.4pcntVar_200samples_log2_Modules/Bicor-None_signum0.325_minSize4_merge_ME_0.9_20151/kME_table_06-44-39.csv \n",
       "20 /mnt/lareaulab/reliscu/projects/NSF_GRFP/analyses/pseudobulk_test/tasic_2018/mouse_ALM/mouse_ACA_20pcntCells_0.4pcntVar_200samples_log2_Modules/Bicor-None_signum0.219_minSize6_merge_ME_0.9_20151/kME_table_08-09-19.csv \n",
       "   ME_path                                                                                                                                                                                                                           \n",
       "1  /mnt/lareaulab/reliscu/projects/NSF_GRFP/analyses/pseudobulk_test/tasic_2018/mouse_ALM/mouse_ACA_20pcntCells_0.4pcntVar_200samples_log2_Modules/Bicor-None_signum0.325_minSize4_merge_ME_0.9_20151/Module_eigengenes_06-44-39.csv \n",
       "2  /mnt/lareaulab/reliscu/projects/NSF_GRFP/analyses/pseudobulk_test/tasic_2018/mouse_ALM/mouse_ACA_20pcntCells_0.4pcntVar_200samples_log2_Modules/Bicor-None_signum0.586_minSize3_merge_ME_0.9_20151/Module_eigengenes_06-18-43.csv \n",
       "3  /mnt/lareaulab/reliscu/projects/NSF_GRFP/analyses/pseudobulk_test/tasic_2018/mouse_ALM/mouse_ACA_20pcntCells_0.4pcntVar_200samples_log2_Modules/Bicor-None_signum0.586_minSize3_merge_ME_0.9_20151/Module_eigengenes_06-18-43.csv \n",
       "4  /mnt/lareaulab/reliscu/projects/NSF_GRFP/analyses/pseudobulk_test/tasic_2018/mouse_ALM/mouse_ACA_20pcntCells_0.4pcntVar_200samples_log2_Modules/Bicor-None_signum0.586_minSize6_merge_ME_0.9_20151/Module_eigengenes_06-37-30.csv \n",
       "5  /mnt/lareaulab/reliscu/projects/NSF_GRFP/analyses/pseudobulk_test/tasic_2018/mouse_ALM/mouse_ACA_20pcntCells_0.4pcntVar_200samples_log2_Modules/Bicor-None_signum0.325_minSize4_merge_ME_0.9_20151/Module_eigengenes_06-44-39.csv \n",
       "6  /mnt/lareaulab/reliscu/projects/NSF_GRFP/analyses/pseudobulk_test/tasic_2018/mouse_ALM/mouse_ACA_20pcntCells_0.4pcntVar_200samples_log2_Modules/Bicor-None_signum0.325_minSize8_merge_ME_0.9_20151/Module_eigengenes_07-19-33.csv \n",
       "7  /mnt/lareaulab/reliscu/projects/NSF_GRFP/analyses/pseudobulk_test/tasic_2018/mouse_ALM/mouse_ACA_20pcntCells_0.4pcntVar_200samples_log2_Modules/Bicor-None_signum0.325_minSize4_merge_ME_0.9_20151/Module_eigengenes_06-44-39.csv \n",
       "8  /mnt/lareaulab/reliscu/projects/NSF_GRFP/analyses/pseudobulk_test/tasic_2018/mouse_ALM/mouse_ACA_20pcntCells_0.4pcntVar_200samples_log2_Modules/Bicor-None_signum0.325_minSize4_merge_ME_0.9_20151/Module_eigengenes_06-44-39.csv \n",
       "9  /mnt/lareaulab/reliscu/projects/NSF_GRFP/analyses/pseudobulk_test/tasic_2018/mouse_ALM/mouse_ACA_20pcntCells_0.4pcntVar_200samples_log2_Modules/Bicor-None_signum0.255_minSize6_merge_ME_0.9_20151/Module_eigengenes_07-34-15.csv \n",
       "10 /mnt/lareaulab/reliscu/projects/NSF_GRFP/analyses/pseudobulk_test/tasic_2018/mouse_ALM/mouse_ACA_20pcntCells_0.4pcntVar_200samples_log2_Modules/Bicor-None_signum0.325_minSize6_merge_ME_0.9_20151/Module_eigengenes_07-07-10.csv \n",
       "11 /mnt/lareaulab/reliscu/projects/NSF_GRFP/analyses/pseudobulk_test/tasic_2018/mouse_ALM/mouse_ACA_20pcntCells_0.4pcntVar_200samples_log2_Modules/Bicor-None_signum0.219_minSize6_merge_ME_0.9_20151/Module_eigengenes_08-09-19.csv \n",
       "12 /mnt/lareaulab/reliscu/projects/NSF_GRFP/analyses/pseudobulk_test/tasic_2018/mouse_ALM/mouse_ACA_20pcntCells_0.4pcntVar_200samples_log2_Modules/Bicor-None_signum0.325_minSize10_merge_ME_0.9_20151/Module_eigengenes_07-26-22.csv\n",
       "13 /mnt/lareaulab/reliscu/projects/NSF_GRFP/analyses/pseudobulk_test/tasic_2018/mouse_ALM/mouse_ACA_20pcntCells_0.4pcntVar_200samples_log2_Modules/Bicor-None_signum0.586_minSize8_merge_ME_0.9_20151/Module_eigengenes_06-40-23.csv \n",
       "14 /mnt/lareaulab/reliscu/projects/NSF_GRFP/analyses/pseudobulk_test/tasic_2018/mouse_ALM/mouse_ACA_20pcntCells_0.4pcntVar_200samples_log2_Modules/Bicor-None_signum0.325_minSize8_merge_ME_0.9_20151/Module_eigengenes_07-19-33.csv \n",
       "15 /mnt/lareaulab/reliscu/projects/NSF_GRFP/analyses/pseudobulk_test/tasic_2018/mouse_ALM/mouse_ACA_20pcntCells_0.4pcntVar_200samples_log2_Modules/Bicor-None_signum0.325_minSize4_merge_ME_0.9_20151/Module_eigengenes_06-44-39.csv \n",
       "16 /mnt/lareaulab/reliscu/projects/NSF_GRFP/analyses/pseudobulk_test/tasic_2018/mouse_ALM/mouse_ACA_20pcntCells_0.4pcntVar_200samples_log2_Modules/Bicor-None_signum0.325_minSize6_merge_ME_0.9_20151/Module_eigengenes_07-07-10.csv \n",
       "17 /mnt/lareaulab/reliscu/projects/NSF_GRFP/analyses/pseudobulk_test/tasic_2018/mouse_ALM/mouse_ACA_20pcntCells_0.4pcntVar_200samples_log2_Modules/Bicor-None_signum0.255_minSize6_merge_ME_0.9_20151/Module_eigengenes_07-34-15.csv \n",
       "18 /mnt/lareaulab/reliscu/projects/NSF_GRFP/analyses/pseudobulk_test/tasic_2018/mouse_ALM/mouse_ACA_20pcntCells_0.4pcntVar_200samples_log2_Modules/Bicor-None_signum0.325_minSize4_merge_ME_0.9_20151/Module_eigengenes_06-44-39.csv \n",
       "19 /mnt/lareaulab/reliscu/projects/NSF_GRFP/analyses/pseudobulk_test/tasic_2018/mouse_ALM/mouse_ACA_20pcntCells_0.4pcntVar_200samples_log2_Modules/Bicor-None_signum0.325_minSize4_merge_ME_0.9_20151/Module_eigengenes_06-44-39.csv \n",
       "20 /mnt/lareaulab/reliscu/projects/NSF_GRFP/analyses/pseudobulk_test/tasic_2018/mouse_ALM/mouse_ACA_20pcntCells_0.4pcntVar_200samples_log2_Modules/Bicor-None_signum0.219_minSize6_merge_ME_0.9_20151/Module_eigengenes_08-09-19.csv \n",
       "   Pval         Cell_type  Module         Qval        \n",
       "1  1.157541e-23 SMC        pink           8.894890e-19\n",
       "2  5.414983e-21 Endo       blue           3.782760e-17\n",
       "3  7.031158e-21 VLMC       magenta        4.502461e-17\n",
       "4  8.146626e-20 L2_3_IT    grey60         2.721788e-16\n",
       "5  8.103133e-20 L6_CT      darkgreen      2.721788e-16\n",
       "6  2.937406e-19 Oligo      green          8.359966e-16\n",
       "7  9.925497e-19 Macrophage yellow         2.079642e-15\n",
       "8  1.998026e-17 L5_PT      salmon         2.193348e-14\n",
       "9  8.239277e-17 NP         brown          6.268622e-14\n",
       "10 8.239277e-17 NP         brown          6.268622e-14\n",
       "11 1.179750e-16 Astro      turquoise      8.633862e-14\n",
       "12 2.553242e-11 Pvalb      midnightblue   9.125526e-09\n",
       "13 1.333645e-10 Vip        darkorange     4.494793e-08\n",
       "14 5.276892e-10 Lamp5      mediumpurple4  1.725499e-07\n",
       "15 1.345042e-09 L6b        lavenderblush2 4.235944e-07\n",
       "16 1.366010e-09 L5_IT      mediumpurple4  4.267005e-07\n",
       "17 2.923722e-08 Sst        mintcream      8.110742e-06\n",
       "18 5.584833e-07 Serpinf1   khaki1         1.416354e-04\n",
       "19 1.387481e-05 Peri       steelblue      3.240676e-03\n",
       "20 1.896963e-04 L6_IT      mediumpurple3  3.929065e-02"
      ]
     },
     "metadata": {},
     "output_type": "display_data"
    }
   ],
   "source": [
    "top_mods_df"
   ]
  },
  {
   "cell_type": "code",
   "execution_count": null,
   "id": "ff686136",
   "metadata": {
    "vscode": {
     "languageId": "r"
    }
   },
   "outputs": [],
   "source": []
  }
 ],
 "metadata": {
  "kernelspec": {
   "display_name": "R",
   "language": "R",
   "name": "ir"
  },
  "language_info": {
   "codemirror_mode": "r",
   "file_extension": ".r",
   "mimetype": "text/x-r-source",
   "name": "R",
   "pygments_lexer": "r",
   "version": "4.3.3"
  }
 },
 "nbformat": 4,
 "nbformat_minor": 5
}
