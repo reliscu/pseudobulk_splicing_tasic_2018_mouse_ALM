{
 "cells": [
  {
   "cell_type": "markdown",
   "id": "47fcf9ad",
   "metadata": {},
   "source": [
    "Here I perform enrichment analysis to find modules enriched for cell type markers. These modules will later be used to correlate to exon PSI to find cell type-specific exons."
   ]
  }
 ],
 "metadata": {
  "language_info": {
   "name": "python"
  }
 },
 "nbformat": 4,
 "nbformat_minor": 5
}
