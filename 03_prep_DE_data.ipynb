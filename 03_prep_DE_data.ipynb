{
 "cells": [
  {
   "cell_type": "code",
   "execution_count": null,
   "id": "2f03a7c7",
   "metadata": {},
   "outputs": [],
   "source": [
    "# conda activate anndata\n",
    "\n",
    "import numpy as np\n",
    "import pandas as pd\n",
    "import anndata as ad"
   ]
  },
  {
   "cell_type": "markdown",
   "id": "efe6714f",
   "metadata": {},
   "source": [
    "Here I create pseduobulk data per donor and cell type to perform DE analysis for each cell type"
   ]
  },
  {
   "cell_type": "code",
   "execution_count": null,
   "id": "27152195",
   "metadata": {},
   "outputs": [],
   "source": [
    "import os\n",
    "os.chdir(\"/mnt/lareaulab/reliscu/projects/NSF_GRFP/analyses/pseudobulk_test/tasic_2018/mouse_ALM\")"
   ]
  },
  {
   "cell_type": "code",
   "execution_count": 125,
   "id": "2f54ce78",
   "metadata": {},
   "outputs": [],
   "source": [
    "adata = ad.read_h5ad(\"data/tasic_2018_ALM_STAR_model/tasic_2018_ALM_STAR_gene_counts_scVI.h5ad\")"
   ]
  },
  {
   "cell_type": "code",
   "execution_count": null,
   "id": "a2bbe478",
   "metadata": {},
   "outputs": [
    {
     "name": "stderr",
     "output_type": "stream",
     "text": [
      "/tmp/ipykernel_3291467/1318484769.py:5: FutureWarning: The default of observed=False is deprecated and will be changed to True in a future version of pandas. Pass observed=False to retain current behavior or observed=True to adopt the future default and silence this warning.\n",
      "  pd.DataFrame(adata.obs.groupby(\"donor_id\")[\"cell_subclass\"].value_counts().groupby(level=0).head(2))\n",
      "/tmp/ipykernel_3291467/1318484769.py:5: FutureWarning: The default of observed=False is deprecated and will be changed to True in a future version of pandas. Pass observed=False to retain current behavior or observed=True to adopt the future default and silence this warning.\n",
      "  pd.DataFrame(adata.obs.groupby(\"donor_id\")[\"cell_subclass\"].value_counts().groupby(level=0).head(2))\n"
     ]
    },
    {
     "data": {
      "text/html": [
       "<div>\n",
       "<style scoped>\n",
       "    .dataframe tbody tr th:only-of-type {\n",
       "        vertical-align: middle;\n",
       "    }\n",
       "\n",
       "    .dataframe tbody tr th {\n",
       "        vertical-align: top;\n",
       "    }\n",
       "\n",
       "    .dataframe thead th {\n",
       "        text-align: right;\n",
       "    }\n",
       "</style>\n",
       "<table border=\"1\" class=\"dataframe\">\n",
       "  <thead>\n",
       "    <tr style=\"text-align: right;\">\n",
       "      <th></th>\n",
       "      <th></th>\n",
       "      <th>count</th>\n",
       "    </tr>\n",
       "    <tr>\n",
       "      <th>donor_id</th>\n",
       "      <th>cell_subclass</th>\n",
       "      <th></th>\n",
       "    </tr>\n",
       "  </thead>\n",
       "  <tbody>\n",
       "    <tr>\n",
       "      <th rowspan=\"2\" valign=\"top\">228567</th>\n",
       "      <th>Sst</th>\n",
       "      <td>39</td>\n",
       "    </tr>\n",
       "    <tr>\n",
       "      <th>Pvalb</th>\n",
       "      <td>1</td>\n",
       "    </tr>\n",
       "    <tr>\n",
       "      <th rowspan=\"2\" valign=\"top\">228568</th>\n",
       "      <th>Sst</th>\n",
       "      <td>113</td>\n",
       "    </tr>\n",
       "    <tr>\n",
       "      <th>Pvalb</th>\n",
       "      <td>2</td>\n",
       "    </tr>\n",
       "    <tr>\n",
       "      <th>228844</th>\n",
       "      <th>L5 IT</th>\n",
       "      <td>37</td>\n",
       "    </tr>\n",
       "    <tr>\n",
       "      <th>...</th>\n",
       "      <th>...</th>\n",
       "      <td>...</td>\n",
       "    </tr>\n",
       "    <tr>\n",
       "      <th>ANM382288</th>\n",
       "      <th>Astro</th>\n",
       "      <td>0</td>\n",
       "    </tr>\n",
       "    <tr>\n",
       "      <th rowspan=\"2\" valign=\"top\">ANM384860</th>\n",
       "      <th>L5 PT</th>\n",
       "      <td>92</td>\n",
       "    </tr>\n",
       "    <tr>\n",
       "      <th>Astro</th>\n",
       "      <td>0</td>\n",
       "    </tr>\n",
       "    <tr>\n",
       "      <th rowspan=\"2\" valign=\"top\">ANM386332</th>\n",
       "      <th>L5 PT</th>\n",
       "      <td>91</td>\n",
       "    </tr>\n",
       "    <tr>\n",
       "      <th>Astro</th>\n",
       "      <td>0</td>\n",
       "    </tr>\n",
       "  </tbody>\n",
       "</table>\n",
       "<p>310 rows × 1 columns</p>\n",
       "</div>"
      ],
      "text/plain": [
       "                         count\n",
       "donor_id  cell_subclass       \n",
       "228567    Sst               39\n",
       "          Pvalb              1\n",
       "228568    Sst              113\n",
       "          Pvalb              2\n",
       "228844    L5 IT             37\n",
       "...                        ...\n",
       "ANM382288 Astro              0\n",
       "ANM384860 L5 PT             92\n",
       "          Astro              0\n",
       "ANM386332 L5 PT             91\n",
       "          Astro              0\n",
       "\n",
       "[310 rows x 1 columns]"
      ]
     },
     "execution_count": 126,
     "metadata": {},
     "output_type": "execute_result"
    }
   ],
   "source": [
    "# I want to find DE genes for each cell type. The best way to do this is by pseudobulking cell types by donor.\n",
    "\n",
    "# First let's see how the makeup of cell types break down by donor:\n",
    "\n",
    "pd.DataFrame(adata.obs.groupby(\"donor_id\")[\"cell_subclass\"].value_counts().groupby(level=0).head(1))"
   ]
  },
  {
   "cell_type": "code",
   "execution_count": 127,
   "id": "1c4528a3",
   "metadata": {},
   "outputs": [],
   "source": [
    "# Looks like donor is confounded with cell type (by design). \n",
    "\n",
    "# Let's try pseudobulking anyways."
   ]
  },
  {
   "cell_type": "code",
   "execution_count": null,
   "id": "2a74733c",
   "metadata": {},
   "outputs": [],
   "source": [
    "df_list = []\n",
    "meta_list = []\n",
    "\n",
    "for ctype in np.unique(adata.obs['cell_subclass']):\n",
    "    print(f\"Starting {ctype}...\")\n",
    "    \n",
    "    adata_subset = adata[adata.obs['cell_subclass'] == ctype].copy()\n",
    "    \n",
    "    X = adata_subset.raw.X\n",
    "    \n",
    "    df = pd.DataFrame.sparse.from_spmatrix(\n",
    "        X, \n",
    "        index=adata_subset.obs_names,\n",
    "        columns=adata.raw.var_names\n",
    "    )\n",
    "    df_bulked = df.groupby(adata_subset.obs['donor_id']).sum()\n",
    "    \n",
    "    meta_list.append(pd.DataFrame({\n",
    "        'Cell_type': ctype, \n",
    "        'Donor': df_bulked.index.astype(str).values\n",
    "    }))\n",
    "    \n",
    "    df_bulked.index = ctype + \"_\" + df_bulked.index.astype(str)\n",
    "    df_list.append(df_bulked)"
   ]
  },
  {
   "cell_type": "code",
   "execution_count": null,
   "id": "b630a69f",
   "metadata": {},
   "outputs": [],
   "source": [
    "df_all = pd.concat(df_list, axis=0)\n",
    "meta = pd.concat(meta_list, axis=0).reset_index(drop=True)"
   ]
  },
  {
   "cell_type": "code",
   "execution_count": null,
   "id": "d12dad74",
   "metadata": {},
   "outputs": [],
   "source": [
    "meta['Sample_ID'] = df_all.index.values\n",
    "df_all.index.name = None"
   ]
  },
  {
   "cell_type": "code",
   "execution_count": null,
   "id": "565264e9",
   "metadata": {},
   "outputs": [],
   "source": [
    "# Save\n",
    "df_all.T.to_csv(\"data/tasic_2018_ALM_STAR_pseudobulk.csv\")\n",
    "meta.to_csv(\"data/tasic_2018_ALM_STAR_pseudobulk_sampleinfo.csv\", index=False)"
   ]
  },
  {
   "cell_type": "code",
   "execution_count": null,
   "id": "8b9a55fd",
   "metadata": {},
   "outputs": [],
   "source": [
    "# pseudobulk = pd.read_csv(\"data/tasic_2018_ALM_STAR_pseudobulk.csv\", index_col=0)\n",
    "# pseudobulk_meta = pd.read_csv(\"data/tasic_2018_ALM_STAR_pseudobulk_sampleinfo.csv\")"
   ]
  }
 ],
 "metadata": {
  "kernelspec": {
   "display_name": "anndata",
   "language": "python",
   "name": "python3"
  },
  "language_info": {
   "codemirror_mode": {
    "name": "ipython",
    "version": 3
   },
   "file_extension": ".py",
   "mimetype": "text/x-python",
   "name": "python",
   "nbconvert_exporter": "python",
   "pygments_lexer": "ipython3",
   "version": "3.12.3"
  }
 },
 "nbformat": 4,
 "nbformat_minor": 5
}
