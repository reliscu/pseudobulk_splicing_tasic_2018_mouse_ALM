{
 "cells": [
  {
   "cell_type": "code",
   "execution_count": null,
   "metadata": {},
   "outputs": [],
   "source": [
    "# Run on gpu5 for memory\n",
    "\n",
    "# conda activate anndata\n",
    "\n",
    "import os\n",
    "import sys\n",
    "import pandas as pd\n",
    "import concurrent.futures\n",
    "\n",
    "sys.path.append(\"/mnt/lareaulab/reliscu/code\")\n",
    "\n",
    "from junction2psi import *\n",
    "\n",
    "os.chdir(\"/mnt/lareaulab/reliscu/projects/NSF_GRFP/data/scRNA-seq/BICCN/mouse_ACA\")"
   ]
  },
  {
   "cell_type": "markdown",
   "metadata": {},
   "source": [
    "Here I create pseudobulk splice junction count data, using the same cells in each sample as were used to generate the gene-level pseudobulk. These pseudobulk SJ counts will be used to calculate pseudobulk PSIs for each exon."
   ]
  },
  {
   "cell_type": "code",
   "execution_count": null,
   "metadata": {},
   "outputs": [],
   "source": [
    "dtype = np.float64\n",
    "intron_file = \"/mnt/lareaulab/reliscu/data/GENCODE/GRCm39/psix_annotation/intron_file.tab.gz\"\n",
    "sj_dir = \"/mnt/lareaulab/reliscu/projects/NSF_GRFP/data/scRNA-seq/tasic_2018/ALM/processed/STAR\"\n",
    "sdata = ad.read_h5ad(\"/mnt/lareaulab/reliscu/projects/NSF_GRFP/data/scRNA-seq/tasic_2018/ALM/tasic_2018_ALM_STAR_SJ_counts.h5ad\")\n",
    "pseudobulk_meta = pd.read_csv(\"/mnt/lareaulab/reliscu/projects/NSF_GRFP/analyses/pseudobulk_test/data/SyntheticDatasets/SyntheticDataset1_20pcntCells_0.2pcntVar_100samples_legend_04-04-36.csv\")"
   ]
  },
  {
   "cell_type": "code",
   "execution_count": null,
   "metadata": {},
   "outputs": [],
   "source": [
    "sj_name = []\n",
    "sj_counts = []\n",
    "with open(f\"{sj_dir}/SJ.out.tab\", \"rb\") as fh:\n",
    "    for line in fh:\n",
    "        sj_name, sj_counts = process_SJ_line(line, sj_name, sj_counts)\n",
    "        \n",
    "sj_table = pd.DataFrame({\"Counts\": sj_counts}, index=sj_name)\n",
    "sj_table = sj_table.astype(dtype)\n",
    "sj_table = pd.merge(intron_table, sj_table, # Subset to SJs in annotated intron table\n",
    "                    left_on=\"intron\", how=\"left\", \n",
    "                    right_index=True).fillna(0).drop(\"intron\", axis=1)"
   ]
  },
  {
   "cell_type": "code",
   "execution_count": null,
   "metadata": {},
   "outputs": [],
   "source": [
    "# Subset anndata to annotated exons"
   ]
  },
  {
   "cell_type": "code",
   "execution_count": null,
   "metadata": {},
   "outputs": [],
   "source": [
    "# Get SJ counts from each cell\n",
    "\n",
    "# Note: this takes a while (~5000 cells)\n",
    "\n",
    "intron_table = read_intron_file(intron_file)\n",
    "cells = pseudobulk_meta['Cell.name'].tolist()\n"
   ]
  },
  {
   "cell_type": "code",
   "execution_count": null,
   "metadata": {},
   "outputs": [],
   "source": [
    "def sum_sj_counts(mask):\n",
    "    cell_subset = sj_counts # Get cells used to make each pseudobulk sample\n",
    "    pseudo_sample = pd.concat(cell_subset, axis=1).sum(axis=1) # Sum SJ counts across cells\n",
    "    return pseudo_sample"
   ]
  },
  {
   "cell_type": "code",
   "execution_count": null,
   "metadata": {},
   "outputs": [],
   "source": [
    "# Sum SJ reads to make pseudobulk samples\n",
    "\n",
    "cell_incl_status = pseudobulk_meta.iloc[:, 2:].T.values.astype(bool) # Each pseudobulk sample is comprised of a different subset of cells\n",
    "\n",
    "pseudo_list = []\n",
    "with concurrent.futures.ThreadPoolExecutor() as executor:\n",
    "     pseudo_list = list(executor.map(sum_sj_counts, cell_incl_status))"
   ]
  },
  {
   "cell_type": "code",
   "execution_count": null,
   "metadata": {},
   "outputs": [],
   "source": [
    "sj_counts = pd.concat(pseudo_list, axis=1, keys=[f\"Sample{i+1}\" for i in range(len(pseudo_list))])\n",
    "non_zero_count = (sj_counts.sum(axis=1) > 0).values # Subset to rows with > 0 counts\n",
    "sj_counts_filtered = sj_counts.loc[non_zero_count]"
   ]
  },
  {
   "cell_type": "code",
   "execution_count": null,
   "metadata": {},
   "outputs": [],
   "source": [
    "outdir = \"/mnt/lareaulab/reliscu/projects/NSF_GRFP/analyses/pseudobulk_test/data\"\n",
    "sj_counts_filtered.to_csv(f\"{outdir}/sj_counts.csv\")"
   ]
  }
 ],
 "metadata": {
  "kernelspec": {
   "display_name": "base",
   "language": "python",
   "name": "python3"
  },
  "language_info": {
   "codemirror_mode": {
    "name": "ipython",
    "version": 3
   },
   "file_extension": ".py",
   "mimetype": "text/x-python",
   "name": "python",
   "nbconvert_exporter": "python",
   "pygments_lexer": "ipython3",
   "version": "3.11.7"
  }
 },
 "nbformat": 4,
 "nbformat_minor": 2
}
