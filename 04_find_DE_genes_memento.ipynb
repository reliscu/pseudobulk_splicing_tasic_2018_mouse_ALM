{
 "cells": [
  {
   "cell_type": "code",
   "execution_count": null,
   "id": "953139da",
   "metadata": {
    "vscode": {
     "languageId": "r"
    }
   },
   "outputs": [],
   "source": [
    "# conda activate memento"
   ]
  },
  {
   "cell_type": "markdown",
   "id": "573eae09",
   "metadata": {},
   "source": [
    "# Memento\n",
    "Ref: https://github.com/yelabucsf/scrna-parameter-estimation"
   ]
  },
  {
   "cell_type": "markdown",
   "id": "a124cec5",
   "metadata": {},
   "source": []
  }
 ],
 "metadata": {
  "language_info": {
   "name": "python"
  }
 },
 "nbformat": 4,
 "nbformat_minor": 5
}
